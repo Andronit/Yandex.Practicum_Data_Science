{
 "cells": [
  {
   "cell_type": "markdown",
   "metadata": {},
   "source": [
    "# Выявление закономерностей, определяющих успешность игр.\n",
    "\n",
    "Вы работаете в интернет-магазине «Стримчик», который продаёт по всему миру компьютерные игры. Из открытых источников доступны исторические данные о продажах игр, оценки пользователей и экспертов, жанры и платформы (например, Xbox или PlayStation). Вам нужно выявить определяющие успешность игры закономерности. Это позволит сделать ставку на потенциально популярный продукт и спланировать рекламные кампании.\n",
    "Перед вами данные до 2016 года. Представим, что сейчас декабрь 2016 г., и вы планируете кампанию на 2017-й. Нужно отработать принцип работы с данными. Неважно, прогнозируете ли вы продажи на 2017 год по данным 2016-го или же 2027-й — по данным 2026 года.\n",
    "В наборе данных попадается аббревиатура ESRB (Entertainment Software Rating Board) — это ассоциация, определяющая возрастной рейтинг компьютерных игр. ESRB оценивает игровой контент и присваивает ему подходящую возрастную категорию, например, «Для взрослых», «Для детей младшего возраста» или «Для подростков»."
   ]
  },
  {
   "cell_type": "markdown",
   "metadata": {},
   "source": [
    "## Содержание ##\n",
    "\n",
    "### 1. Откройте файл с данными и изучите общую информацию\n",
    "Путь к файлу: /datasets/games.csv. Скачать датасет\n",
    "\n",
    "### 2. Подготовьте данные\n",
    "\n",
    "#### 2.1 Замените названия столбцов (приведите к нижнему регистру);\n",
    "#### 2.2 Обработайте пропуски при необходимости\n",
    "#### 2.3 Преобразуйте данные в нужные типы. Опишите, в каких столбцах заменили тип данных и почему;\n",
    "#### 2.4 Обратите внимание на аббревиатуру 'tbd' в столбце с оценкой пользователей. \n",
    "#### 2.5 Посчитайте суммарные продажи во всех регионах и запишите их в отдельный столбец.\n",
    "\n",
    "### 3. Проведите исследовательский анализ данных\n",
    "\n",
    "#### 3.1 Посмотрите, сколько игр выпускалось в разные годы. Важны ли данные за все периоды?\n",
    "#### 3.2 Посмотрите, как менялись продажи по платформам. Выберите платформы с наибольшими суммарными продажами и постройте распределение по годам. За какой характерный срок появляются новые и исчезают старые платформы?\n",
    "#### 3. 3 Возьмите данные за соответствующий актуальный период. Актуальный период определите самостоятельно в результате исследования предыдущих вопросов. Основной фактор — эти данные помогут построить прогноз на 2017 год.\n",
    "#### 3.4 Постройте график «ящик с усами» по глобальным продажам игр в разбивке по платформам. Опишите результат.\n",
    "#### 3.5 Посмотрите, как влияют на продажи внутри одной популярной платформы отзывы пользователей и критиков. Постройте диаграмму рассеяния и посчитайте корреляцию между отзывами и продажами. Сформулируйте выводы.\n",
    "#### 3.6 Посмотрите на общее распределение игр по жанрам. Что можно сказать о самых прибыльных жанрах? Выделяются ли жанры с высокими и низкими продажами?\n",
    "\n",
    "### 4. Составьте портрет пользователя каждого региона\n",
    "\n",
    "#### 4.1 Определите для пользователя каждого региона (NA, EU, JP):\n",
    "#### 4.2 Самые популярные платформы (топ-5). Опишите различия в долях продаж.\n",
    "#### 4.3 Самые популярные жанры (топ-5). Поясните разницу.\n",
    "#### 4.4 Влияет ли рейтинг ESRB на продажи в отдельном регионе?\n",
    "\n",
    "### 5. Проверьте гипотезы\n",
    "\n",
    "#### 5.1 Средние пользовательские рейтинги платформ Xbox One и PC одинаковые;\n",
    "#### 5.2 Средние пользовательские рейтинги жанров Action (англ. «действие», экшен-игры) и Sports (англ. «спортивные соревнования») разные.\n",
    "\n",
    "### 6. Напишите общий вывод"
   ]
  },
  {
   "cell_type": "markdown",
   "metadata": {},
   "source": [
    "### 1. Откройте файл с данными и изучите общую информацию"
   ]
  },
  {
   "cell_type": "markdown",
   "metadata": {},
   "source": [
    "Импортируем необходимые библиотеки"
   ]
  },
  {
   "cell_type": "code",
   "execution_count": 57,
   "metadata": {},
   "outputs": [],
   "source": [
    "import pandas as pd #импортируем библиотеку pandas\n",
    "import numpy as np #импортируем библиотеку numpy\n",
    "import matplotlib.pyplot as plt #импортируем библиотеку matplotlib для дальнейшего построения графиков\n",
    "import seaborn as sns #импортируем библиотеку seaborn для создания статистических графиков\n",
    "\n",
    "import math #импортируем библиотеку math\n",
    "import warnings\n",
    "warnings.filterwarnings(\"ignore\")\n",
    "\n",
    "from datetime import datetime #импортируем библиотеку datetime\n",
    "from matplotlib.axes._axes import _log as matplotlib_axes_logger\n",
    "matplotlib_axes_logger.setLevel('ERROR')\n",
    "from scipy import stats as st"
   ]
  },
  {
   "cell_type": "code",
   "execution_count": 58,
   "metadata": {},
   "outputs": [],
   "source": [
    "games = pd.read_csv('/datasets/games.csv') #откроем файл"
   ]
  },
  {
   "cell_type": "code",
   "execution_count": 59,
   "metadata": {},
   "outputs": [
    {
     "name": "stdout",
     "output_type": "stream",
     "text": [
      "<class 'pandas.core.frame.DataFrame'>\n",
      "RangeIndex: 16715 entries, 0 to 16714\n",
      "Data columns (total 11 columns):\n",
      " #   Column           Non-Null Count  Dtype  \n",
      "---  ------           --------------  -----  \n",
      " 0   Name             16713 non-null  object \n",
      " 1   Platform         16715 non-null  object \n",
      " 2   Year_of_Release  16446 non-null  float64\n",
      " 3   Genre            16713 non-null  object \n",
      " 4   NA_sales         16715 non-null  float64\n",
      " 5   EU_sales         16715 non-null  float64\n",
      " 6   JP_sales         16715 non-null  float64\n",
      " 7   Other_sales      16715 non-null  float64\n",
      " 8   Critic_Score     8137 non-null   float64\n",
      " 9   User_Score       10014 non-null  object \n",
      " 10  Rating           9949 non-null   object \n",
      "dtypes: float64(6), object(5)\n",
      "memory usage: 1.4+ MB\n"
     ]
    }
   ],
   "source": [
    "games.info() #выведем информацию о датасете"
   ]
  },
  {
   "cell_type": "code",
   "execution_count": 60,
   "metadata": {
    "scrolled": true
   },
   "outputs": [
    {
     "data": {
      "text/html": [
       "<div>\n",
       "<style scoped>\n",
       "    .dataframe tbody tr th:only-of-type {\n",
       "        vertical-align: middle;\n",
       "    }\n",
       "\n",
       "    .dataframe tbody tr th {\n",
       "        vertical-align: top;\n",
       "    }\n",
       "\n",
       "    .dataframe thead th {\n",
       "        text-align: right;\n",
       "    }\n",
       "</style>\n",
       "<table border=\"1\" class=\"dataframe\">\n",
       "  <thead>\n",
       "    <tr style=\"text-align: right;\">\n",
       "      <th></th>\n",
       "      <th>Name</th>\n",
       "      <th>Platform</th>\n",
       "      <th>Year_of_Release</th>\n",
       "      <th>Genre</th>\n",
       "      <th>NA_sales</th>\n",
       "      <th>EU_sales</th>\n",
       "      <th>JP_sales</th>\n",
       "      <th>Other_sales</th>\n",
       "      <th>Critic_Score</th>\n",
       "      <th>User_Score</th>\n",
       "      <th>Rating</th>\n",
       "    </tr>\n",
       "  </thead>\n",
       "  <tbody>\n",
       "    <tr>\n",
       "      <th>0</th>\n",
       "      <td>Wii Sports</td>\n",
       "      <td>Wii</td>\n",
       "      <td>2006.0</td>\n",
       "      <td>Sports</td>\n",
       "      <td>41.36</td>\n",
       "      <td>28.96</td>\n",
       "      <td>3.77</td>\n",
       "      <td>8.45</td>\n",
       "      <td>76.0</td>\n",
       "      <td>8</td>\n",
       "      <td>E</td>\n",
       "    </tr>\n",
       "    <tr>\n",
       "      <th>1</th>\n",
       "      <td>Super Mario Bros.</td>\n",
       "      <td>NES</td>\n",
       "      <td>1985.0</td>\n",
       "      <td>Platform</td>\n",
       "      <td>29.08</td>\n",
       "      <td>3.58</td>\n",
       "      <td>6.81</td>\n",
       "      <td>0.77</td>\n",
       "      <td>NaN</td>\n",
       "      <td>NaN</td>\n",
       "      <td>NaN</td>\n",
       "    </tr>\n",
       "    <tr>\n",
       "      <th>2</th>\n",
       "      <td>Mario Kart Wii</td>\n",
       "      <td>Wii</td>\n",
       "      <td>2008.0</td>\n",
       "      <td>Racing</td>\n",
       "      <td>15.68</td>\n",
       "      <td>12.76</td>\n",
       "      <td>3.79</td>\n",
       "      <td>3.29</td>\n",
       "      <td>82.0</td>\n",
       "      <td>8.3</td>\n",
       "      <td>E</td>\n",
       "    </tr>\n",
       "    <tr>\n",
       "      <th>3</th>\n",
       "      <td>Wii Sports Resort</td>\n",
       "      <td>Wii</td>\n",
       "      <td>2009.0</td>\n",
       "      <td>Sports</td>\n",
       "      <td>15.61</td>\n",
       "      <td>10.93</td>\n",
       "      <td>3.28</td>\n",
       "      <td>2.95</td>\n",
       "      <td>80.0</td>\n",
       "      <td>8</td>\n",
       "      <td>E</td>\n",
       "    </tr>\n",
       "    <tr>\n",
       "      <th>4</th>\n",
       "      <td>Pokemon Red/Pokemon Blue</td>\n",
       "      <td>GB</td>\n",
       "      <td>1996.0</td>\n",
       "      <td>Role-Playing</td>\n",
       "      <td>11.27</td>\n",
       "      <td>8.89</td>\n",
       "      <td>10.22</td>\n",
       "      <td>1.00</td>\n",
       "      <td>NaN</td>\n",
       "      <td>NaN</td>\n",
       "      <td>NaN</td>\n",
       "    </tr>\n",
       "    <tr>\n",
       "      <th>5</th>\n",
       "      <td>Tetris</td>\n",
       "      <td>GB</td>\n",
       "      <td>1989.0</td>\n",
       "      <td>Puzzle</td>\n",
       "      <td>23.20</td>\n",
       "      <td>2.26</td>\n",
       "      <td>4.22</td>\n",
       "      <td>0.58</td>\n",
       "      <td>NaN</td>\n",
       "      <td>NaN</td>\n",
       "      <td>NaN</td>\n",
       "    </tr>\n",
       "    <tr>\n",
       "      <th>6</th>\n",
       "      <td>New Super Mario Bros.</td>\n",
       "      <td>DS</td>\n",
       "      <td>2006.0</td>\n",
       "      <td>Platform</td>\n",
       "      <td>11.28</td>\n",
       "      <td>9.14</td>\n",
       "      <td>6.50</td>\n",
       "      <td>2.88</td>\n",
       "      <td>89.0</td>\n",
       "      <td>8.5</td>\n",
       "      <td>E</td>\n",
       "    </tr>\n",
       "    <tr>\n",
       "      <th>7</th>\n",
       "      <td>Wii Play</td>\n",
       "      <td>Wii</td>\n",
       "      <td>2006.0</td>\n",
       "      <td>Misc</td>\n",
       "      <td>13.96</td>\n",
       "      <td>9.18</td>\n",
       "      <td>2.93</td>\n",
       "      <td>2.84</td>\n",
       "      <td>58.0</td>\n",
       "      <td>6.6</td>\n",
       "      <td>E</td>\n",
       "    </tr>\n",
       "    <tr>\n",
       "      <th>8</th>\n",
       "      <td>New Super Mario Bros. Wii</td>\n",
       "      <td>Wii</td>\n",
       "      <td>2009.0</td>\n",
       "      <td>Platform</td>\n",
       "      <td>14.44</td>\n",
       "      <td>6.94</td>\n",
       "      <td>4.70</td>\n",
       "      <td>2.24</td>\n",
       "      <td>87.0</td>\n",
       "      <td>8.4</td>\n",
       "      <td>E</td>\n",
       "    </tr>\n",
       "    <tr>\n",
       "      <th>9</th>\n",
       "      <td>Duck Hunt</td>\n",
       "      <td>NES</td>\n",
       "      <td>1984.0</td>\n",
       "      <td>Shooter</td>\n",
       "      <td>26.93</td>\n",
       "      <td>0.63</td>\n",
       "      <td>0.28</td>\n",
       "      <td>0.47</td>\n",
       "      <td>NaN</td>\n",
       "      <td>NaN</td>\n",
       "      <td>NaN</td>\n",
       "    </tr>\n",
       "  </tbody>\n",
       "</table>\n",
       "</div>"
      ],
      "text/plain": [
       "                        Name Platform  Year_of_Release         Genre  \\\n",
       "0                 Wii Sports      Wii           2006.0        Sports   \n",
       "1          Super Mario Bros.      NES           1985.0      Platform   \n",
       "2             Mario Kart Wii      Wii           2008.0        Racing   \n",
       "3          Wii Sports Resort      Wii           2009.0        Sports   \n",
       "4   Pokemon Red/Pokemon Blue       GB           1996.0  Role-Playing   \n",
       "5                     Tetris       GB           1989.0        Puzzle   \n",
       "6      New Super Mario Bros.       DS           2006.0      Platform   \n",
       "7                   Wii Play      Wii           2006.0          Misc   \n",
       "8  New Super Mario Bros. Wii      Wii           2009.0      Platform   \n",
       "9                  Duck Hunt      NES           1984.0       Shooter   \n",
       "\n",
       "   NA_sales  EU_sales  JP_sales  Other_sales  Critic_Score User_Score Rating  \n",
       "0     41.36     28.96      3.77         8.45          76.0          8      E  \n",
       "1     29.08      3.58      6.81         0.77           NaN        NaN    NaN  \n",
       "2     15.68     12.76      3.79         3.29          82.0        8.3      E  \n",
       "3     15.61     10.93      3.28         2.95          80.0          8      E  \n",
       "4     11.27      8.89     10.22         1.00           NaN        NaN    NaN  \n",
       "5     23.20      2.26      4.22         0.58           NaN        NaN    NaN  \n",
       "6     11.28      9.14      6.50         2.88          89.0        8.5      E  \n",
       "7     13.96      9.18      2.93         2.84          58.0        6.6      E  \n",
       "8     14.44      6.94      4.70         2.24          87.0        8.4      E  \n",
       "9     26.93      0.63      0.28         0.47           NaN        NaN    NaN  "
      ]
     },
     "execution_count": 60,
     "metadata": {},
     "output_type": "execute_result"
    }
   ],
   "source": [
    "games.head(10) #выведем первые 10 строк"
   ]
  },
  {
   "cell_type": "markdown",
   "metadata": {},
   "source": [
    "### 2. Подготовьте данные"
   ]
  },
  {
   "cell_type": "markdown",
   "metadata": {},
   "source": [
    "#### 2.1 Замените названия столбцов (приведите к нижнему регистру);"
   ]
  },
  {
   "cell_type": "code",
   "execution_count": 61,
   "metadata": {},
   "outputs": [],
   "source": [
    "games.columns = games.columns.str.lower() #приводим наименования колонок к нижнему регистру"
   ]
  },
  {
   "cell_type": "code",
   "execution_count": 62,
   "metadata": {},
   "outputs": [
    {
     "data": {
      "text/html": [
       "<div>\n",
       "<style scoped>\n",
       "    .dataframe tbody tr th:only-of-type {\n",
       "        vertical-align: middle;\n",
       "    }\n",
       "\n",
       "    .dataframe tbody tr th {\n",
       "        vertical-align: top;\n",
       "    }\n",
       "\n",
       "    .dataframe thead th {\n",
       "        text-align: right;\n",
       "    }\n",
       "</style>\n",
       "<table border=\"1\" class=\"dataframe\">\n",
       "  <thead>\n",
       "    <tr style=\"text-align: right;\">\n",
       "      <th></th>\n",
       "      <th>name</th>\n",
       "      <th>platform</th>\n",
       "      <th>year_of_release</th>\n",
       "      <th>genre</th>\n",
       "      <th>na_sales</th>\n",
       "      <th>eu_sales</th>\n",
       "      <th>jp_sales</th>\n",
       "      <th>other_sales</th>\n",
       "      <th>critic_score</th>\n",
       "      <th>user_score</th>\n",
       "      <th>rating</th>\n",
       "    </tr>\n",
       "  </thead>\n",
       "  <tbody>\n",
       "    <tr>\n",
       "      <th>0</th>\n",
       "      <td>Wii Sports</td>\n",
       "      <td>Wii</td>\n",
       "      <td>2006.0</td>\n",
       "      <td>Sports</td>\n",
       "      <td>41.36</td>\n",
       "      <td>28.96</td>\n",
       "      <td>3.77</td>\n",
       "      <td>8.45</td>\n",
       "      <td>76.0</td>\n",
       "      <td>8</td>\n",
       "      <td>E</td>\n",
       "    </tr>\n",
       "    <tr>\n",
       "      <th>1</th>\n",
       "      <td>Super Mario Bros.</td>\n",
       "      <td>NES</td>\n",
       "      <td>1985.0</td>\n",
       "      <td>Platform</td>\n",
       "      <td>29.08</td>\n",
       "      <td>3.58</td>\n",
       "      <td>6.81</td>\n",
       "      <td>0.77</td>\n",
       "      <td>NaN</td>\n",
       "      <td>NaN</td>\n",
       "      <td>NaN</td>\n",
       "    </tr>\n",
       "    <tr>\n",
       "      <th>2</th>\n",
       "      <td>Mario Kart Wii</td>\n",
       "      <td>Wii</td>\n",
       "      <td>2008.0</td>\n",
       "      <td>Racing</td>\n",
       "      <td>15.68</td>\n",
       "      <td>12.76</td>\n",
       "      <td>3.79</td>\n",
       "      <td>3.29</td>\n",
       "      <td>82.0</td>\n",
       "      <td>8.3</td>\n",
       "      <td>E</td>\n",
       "    </tr>\n",
       "    <tr>\n",
       "      <th>3</th>\n",
       "      <td>Wii Sports Resort</td>\n",
       "      <td>Wii</td>\n",
       "      <td>2009.0</td>\n",
       "      <td>Sports</td>\n",
       "      <td>15.61</td>\n",
       "      <td>10.93</td>\n",
       "      <td>3.28</td>\n",
       "      <td>2.95</td>\n",
       "      <td>80.0</td>\n",
       "      <td>8</td>\n",
       "      <td>E</td>\n",
       "    </tr>\n",
       "    <tr>\n",
       "      <th>4</th>\n",
       "      <td>Pokemon Red/Pokemon Blue</td>\n",
       "      <td>GB</td>\n",
       "      <td>1996.0</td>\n",
       "      <td>Role-Playing</td>\n",
       "      <td>11.27</td>\n",
       "      <td>8.89</td>\n",
       "      <td>10.22</td>\n",
       "      <td>1.00</td>\n",
       "      <td>NaN</td>\n",
       "      <td>NaN</td>\n",
       "      <td>NaN</td>\n",
       "    </tr>\n",
       "    <tr>\n",
       "      <th>5</th>\n",
       "      <td>Tetris</td>\n",
       "      <td>GB</td>\n",
       "      <td>1989.0</td>\n",
       "      <td>Puzzle</td>\n",
       "      <td>23.20</td>\n",
       "      <td>2.26</td>\n",
       "      <td>4.22</td>\n",
       "      <td>0.58</td>\n",
       "      <td>NaN</td>\n",
       "      <td>NaN</td>\n",
       "      <td>NaN</td>\n",
       "    </tr>\n",
       "    <tr>\n",
       "      <th>6</th>\n",
       "      <td>New Super Mario Bros.</td>\n",
       "      <td>DS</td>\n",
       "      <td>2006.0</td>\n",
       "      <td>Platform</td>\n",
       "      <td>11.28</td>\n",
       "      <td>9.14</td>\n",
       "      <td>6.50</td>\n",
       "      <td>2.88</td>\n",
       "      <td>89.0</td>\n",
       "      <td>8.5</td>\n",
       "      <td>E</td>\n",
       "    </tr>\n",
       "    <tr>\n",
       "      <th>7</th>\n",
       "      <td>Wii Play</td>\n",
       "      <td>Wii</td>\n",
       "      <td>2006.0</td>\n",
       "      <td>Misc</td>\n",
       "      <td>13.96</td>\n",
       "      <td>9.18</td>\n",
       "      <td>2.93</td>\n",
       "      <td>2.84</td>\n",
       "      <td>58.0</td>\n",
       "      <td>6.6</td>\n",
       "      <td>E</td>\n",
       "    </tr>\n",
       "    <tr>\n",
       "      <th>8</th>\n",
       "      <td>New Super Mario Bros. Wii</td>\n",
       "      <td>Wii</td>\n",
       "      <td>2009.0</td>\n",
       "      <td>Platform</td>\n",
       "      <td>14.44</td>\n",
       "      <td>6.94</td>\n",
       "      <td>4.70</td>\n",
       "      <td>2.24</td>\n",
       "      <td>87.0</td>\n",
       "      <td>8.4</td>\n",
       "      <td>E</td>\n",
       "    </tr>\n",
       "    <tr>\n",
       "      <th>9</th>\n",
       "      <td>Duck Hunt</td>\n",
       "      <td>NES</td>\n",
       "      <td>1984.0</td>\n",
       "      <td>Shooter</td>\n",
       "      <td>26.93</td>\n",
       "      <td>0.63</td>\n",
       "      <td>0.28</td>\n",
       "      <td>0.47</td>\n",
       "      <td>NaN</td>\n",
       "      <td>NaN</td>\n",
       "      <td>NaN</td>\n",
       "    </tr>\n",
       "    <tr>\n",
       "      <th>10</th>\n",
       "      <td>Nintendogs</td>\n",
       "      <td>DS</td>\n",
       "      <td>2005.0</td>\n",
       "      <td>Simulation</td>\n",
       "      <td>9.05</td>\n",
       "      <td>10.95</td>\n",
       "      <td>1.93</td>\n",
       "      <td>2.74</td>\n",
       "      <td>NaN</td>\n",
       "      <td>NaN</td>\n",
       "      <td>NaN</td>\n",
       "    </tr>\n",
       "    <tr>\n",
       "      <th>11</th>\n",
       "      <td>Mario Kart DS</td>\n",
       "      <td>DS</td>\n",
       "      <td>2005.0</td>\n",
       "      <td>Racing</td>\n",
       "      <td>9.71</td>\n",
       "      <td>7.47</td>\n",
       "      <td>4.13</td>\n",
       "      <td>1.90</td>\n",
       "      <td>91.0</td>\n",
       "      <td>8.6</td>\n",
       "      <td>E</td>\n",
       "    </tr>\n",
       "    <tr>\n",
       "      <th>12</th>\n",
       "      <td>Pokemon Gold/Pokemon Silver</td>\n",
       "      <td>GB</td>\n",
       "      <td>1999.0</td>\n",
       "      <td>Role-Playing</td>\n",
       "      <td>9.00</td>\n",
       "      <td>6.18</td>\n",
       "      <td>7.20</td>\n",
       "      <td>0.71</td>\n",
       "      <td>NaN</td>\n",
       "      <td>NaN</td>\n",
       "      <td>NaN</td>\n",
       "    </tr>\n",
       "    <tr>\n",
       "      <th>13</th>\n",
       "      <td>Wii Fit</td>\n",
       "      <td>Wii</td>\n",
       "      <td>2007.0</td>\n",
       "      <td>Sports</td>\n",
       "      <td>8.92</td>\n",
       "      <td>8.03</td>\n",
       "      <td>3.60</td>\n",
       "      <td>2.15</td>\n",
       "      <td>80.0</td>\n",
       "      <td>7.7</td>\n",
       "      <td>E</td>\n",
       "    </tr>\n",
       "    <tr>\n",
       "      <th>14</th>\n",
       "      <td>Kinect Adventures!</td>\n",
       "      <td>X360</td>\n",
       "      <td>2010.0</td>\n",
       "      <td>Misc</td>\n",
       "      <td>15.00</td>\n",
       "      <td>4.89</td>\n",
       "      <td>0.24</td>\n",
       "      <td>1.69</td>\n",
       "      <td>61.0</td>\n",
       "      <td>6.3</td>\n",
       "      <td>E</td>\n",
       "    </tr>\n",
       "  </tbody>\n",
       "</table>\n",
       "</div>"
      ],
      "text/plain": [
       "                           name platform  year_of_release         genre  \\\n",
       "0                    Wii Sports      Wii           2006.0        Sports   \n",
       "1             Super Mario Bros.      NES           1985.0      Platform   \n",
       "2                Mario Kart Wii      Wii           2008.0        Racing   \n",
       "3             Wii Sports Resort      Wii           2009.0        Sports   \n",
       "4      Pokemon Red/Pokemon Blue       GB           1996.0  Role-Playing   \n",
       "5                        Tetris       GB           1989.0        Puzzle   \n",
       "6         New Super Mario Bros.       DS           2006.0      Platform   \n",
       "7                      Wii Play      Wii           2006.0          Misc   \n",
       "8     New Super Mario Bros. Wii      Wii           2009.0      Platform   \n",
       "9                     Duck Hunt      NES           1984.0       Shooter   \n",
       "10                   Nintendogs       DS           2005.0    Simulation   \n",
       "11                Mario Kart DS       DS           2005.0        Racing   \n",
       "12  Pokemon Gold/Pokemon Silver       GB           1999.0  Role-Playing   \n",
       "13                      Wii Fit      Wii           2007.0        Sports   \n",
       "14           Kinect Adventures!     X360           2010.0          Misc   \n",
       "\n",
       "    na_sales  eu_sales  jp_sales  other_sales  critic_score user_score rating  \n",
       "0      41.36     28.96      3.77         8.45          76.0          8      E  \n",
       "1      29.08      3.58      6.81         0.77           NaN        NaN    NaN  \n",
       "2      15.68     12.76      3.79         3.29          82.0        8.3      E  \n",
       "3      15.61     10.93      3.28         2.95          80.0          8      E  \n",
       "4      11.27      8.89     10.22         1.00           NaN        NaN    NaN  \n",
       "5      23.20      2.26      4.22         0.58           NaN        NaN    NaN  \n",
       "6      11.28      9.14      6.50         2.88          89.0        8.5      E  \n",
       "7      13.96      9.18      2.93         2.84          58.0        6.6      E  \n",
       "8      14.44      6.94      4.70         2.24          87.0        8.4      E  \n",
       "9      26.93      0.63      0.28         0.47           NaN        NaN    NaN  \n",
       "10      9.05     10.95      1.93         2.74           NaN        NaN    NaN  \n",
       "11      9.71      7.47      4.13         1.90          91.0        8.6      E  \n",
       "12      9.00      6.18      7.20         0.71           NaN        NaN    NaN  \n",
       "13      8.92      8.03      3.60         2.15          80.0        7.7      E  \n",
       "14     15.00      4.89      0.24         1.69          61.0        6.3      E  "
      ]
     },
     "execution_count": 62,
     "metadata": {},
     "output_type": "execute_result"
    }
   ],
   "source": [
    "games.head(15) #выводим таблицу, чтобы проверить результат"
   ]
  },
  {
   "cell_type": "code",
   "execution_count": 63,
   "metadata": {},
   "outputs": [
    {
     "data": {
      "text/html": [
       "<style  type=\"text/css\" >\n",
       "#T_67d9e_row0_col0,#T_67d9e_row1_col0,#T_67d9e_row3_col0,#T_67d9e_row4_col0,#T_67d9e_row5_col0,#T_67d9e_row6_col0,#T_67d9e_row7_col0{\n",
       "            background-color:  #3b4cc0;\n",
       "            color:  #f1f1f1;\n",
       "        }#T_67d9e_row2_col0{\n",
       "            background-color:  #4358cb;\n",
       "            color:  #f1f1f1;\n",
       "        }#T_67d9e_row8_col0{\n",
       "            background-color:  #b40426;\n",
       "            color:  #f1f1f1;\n",
       "        }#T_67d9e_row9_col0{\n",
       "            background-color:  #f08b6e;\n",
       "            color:  #000000;\n",
       "        }#T_67d9e_row10_col0{\n",
       "            background-color:  #ef886b;\n",
       "            color:  #000000;\n",
       "        }</style><table id=\"T_67d9e_\" ><thead>    <tr>        <th class=\"blank level0\" ></th>        <th class=\"col_heading level0 col0\" >0</th>    </tr></thead><tbody>\n",
       "                <tr>\n",
       "                        <th id=\"T_67d9e_level0_row0\" class=\"row_heading level0 row0\" >name</th>\n",
       "                        <td id=\"T_67d9e_row0_col0\" class=\"data row0 col0\" >0.000000</td>\n",
       "            </tr>\n",
       "            <tr>\n",
       "                        <th id=\"T_67d9e_level0_row1\" class=\"row_heading level0 row1\" >platform</th>\n",
       "                        <td id=\"T_67d9e_row1_col0\" class=\"data row1 col0\" >0.000000</td>\n",
       "            </tr>\n",
       "            <tr>\n",
       "                        <th id=\"T_67d9e_level0_row2\" class=\"row_heading level0 row2\" >year_of_release</th>\n",
       "                        <td id=\"T_67d9e_row2_col0\" class=\"data row2 col0\" >1.600000</td>\n",
       "            </tr>\n",
       "            <tr>\n",
       "                        <th id=\"T_67d9e_level0_row3\" class=\"row_heading level0 row3\" >genre</th>\n",
       "                        <td id=\"T_67d9e_row3_col0\" class=\"data row3 col0\" >0.000000</td>\n",
       "            </tr>\n",
       "            <tr>\n",
       "                        <th id=\"T_67d9e_level0_row4\" class=\"row_heading level0 row4\" >na_sales</th>\n",
       "                        <td id=\"T_67d9e_row4_col0\" class=\"data row4 col0\" >0.000000</td>\n",
       "            </tr>\n",
       "            <tr>\n",
       "                        <th id=\"T_67d9e_level0_row5\" class=\"row_heading level0 row5\" >eu_sales</th>\n",
       "                        <td id=\"T_67d9e_row5_col0\" class=\"data row5 col0\" >0.000000</td>\n",
       "            </tr>\n",
       "            <tr>\n",
       "                        <th id=\"T_67d9e_level0_row6\" class=\"row_heading level0 row6\" >jp_sales</th>\n",
       "                        <td id=\"T_67d9e_row6_col0\" class=\"data row6 col0\" >0.000000</td>\n",
       "            </tr>\n",
       "            <tr>\n",
       "                        <th id=\"T_67d9e_level0_row7\" class=\"row_heading level0 row7\" >other_sales</th>\n",
       "                        <td id=\"T_67d9e_row7_col0\" class=\"data row7 col0\" >0.000000</td>\n",
       "            </tr>\n",
       "            <tr>\n",
       "                        <th id=\"T_67d9e_level0_row8\" class=\"row_heading level0 row8\" >critic_score</th>\n",
       "                        <td id=\"T_67d9e_row8_col0\" class=\"data row8 col0\" >51.300000</td>\n",
       "            </tr>\n",
       "            <tr>\n",
       "                        <th id=\"T_67d9e_level0_row9\" class=\"row_heading level0 row9\" >user_score</th>\n",
       "                        <td id=\"T_67d9e_row9_col0\" class=\"data row9 col0\" >40.100000</td>\n",
       "            </tr>\n",
       "            <tr>\n",
       "                        <th id=\"T_67d9e_level0_row10\" class=\"row_heading level0 row10\" >rating</th>\n",
       "                        <td id=\"T_67d9e_row10_col0\" class=\"data row10 col0\" >40.500000</td>\n",
       "            </tr>\n",
       "    </tbody></table>"
      ],
      "text/plain": [
       "<pandas.io.formats.style.Styler at 0x7fa7df3b6eb0>"
      ]
     },
     "execution_count": 63,
     "metadata": {},
     "output_type": "execute_result"
    }
   ],
   "source": [
    "pd.DataFrame(round(games.isna().mean()*100, 1)).style.background_gradient('coolwarm') #посмотрим в каких колонках сколько % пропусков"
   ]
  },
  {
   "cell_type": "markdown",
   "metadata": {},
   "source": [
    "#### 2.2 Обработайте пропуски при необходимости"
   ]
  },
  {
   "cell_type": "markdown",
   "metadata": {},
   "source": [
    "Удалим пропуски по году релиза, т.к. эти данные не откуда взять (разве, что проставить вручную, но много строк), и пропусков 1.6%, что не сильно повлияет на дальнейший анализ, а также переведем в другой тип данных в колонках."
   ]
  },
  {
   "cell_type": "code",
   "execution_count": 64,
   "metadata": {},
   "outputs": [],
   "source": [
    "games = games.dropna(subset=['year_of_release']) #удаляем пропуски\n",
    "games.reset_index(drop=True, inplace=True) #сбросим индексы\n",
    "games['year_of_release'] = games['year_of_release'].astype('int') #перевеодим в тип данных integer"
   ]
  },
  {
   "cell_type": "code",
   "execution_count": 65,
   "metadata": {},
   "outputs": [
    {
     "data": {
      "text/plain": [
       "array([2006, 1985, 2008, 2009, 1996, 1989, 1984, 2005, 1999, 2007, 2010,\n",
       "       2013, 2004, 1990, 1988, 2002, 2001, 2011, 1998, 2015, 2012, 2014,\n",
       "       1992, 1997, 1993, 1994, 1982, 2016, 2003, 1986, 2000, 1995, 1991,\n",
       "       1981, 1987, 1980, 1983])"
      ]
     },
     "execution_count": 65,
     "metadata": {},
     "output_type": "execute_result"
    }
   ],
   "source": [
    "games['year_of_release'].unique() #провеяем"
   ]
  },
  {
   "cell_type": "code",
   "execution_count": 66,
   "metadata": {},
   "outputs": [
    {
     "name": "stdout",
     "output_type": "stream",
     "text": [
      "<class 'pandas.core.frame.DataFrame'>\n",
      "RangeIndex: 16446 entries, 0 to 16445\n",
      "Data columns (total 11 columns):\n",
      " #   Column           Non-Null Count  Dtype  \n",
      "---  ------           --------------  -----  \n",
      " 0   name             16444 non-null  object \n",
      " 1   platform         16446 non-null  object \n",
      " 2   year_of_release  16446 non-null  int64  \n",
      " 3   genre            16444 non-null  object \n",
      " 4   na_sales         16446 non-null  float64\n",
      " 5   eu_sales         16446 non-null  float64\n",
      " 6   jp_sales         16446 non-null  float64\n",
      " 7   other_sales      16446 non-null  float64\n",
      " 8   critic_score     7983 non-null   float64\n",
      " 9   user_score       9839 non-null   object \n",
      " 10  rating           9768 non-null   object \n",
      "dtypes: float64(5), int64(1), object(5)\n",
      "memory usage: 1.4+ MB\n"
     ]
    }
   ],
   "source": [
    "games.info() #проверим, поменялся ли тип данных в колонке year_of_release"
   ]
  },
  {
   "cell_type": "markdown",
   "metadata": {},
   "source": [
    "Думаю, что пропуски связаны с тем, что на момент сбора датафрейма, не все игры были оценены рейтингом, а также могли повлиять техническио ошибки при получении данных."
   ]
  },
  {
   "cell_type": "markdown",
   "metadata": {},
   "source": [
    "#### 2.3 Преобразуйте данные в нужные типы."
   ]
  },
  {
   "cell_type": "code",
   "execution_count": 67,
   "metadata": {
    "scrolled": true
   },
   "outputs": [
    {
     "data": {
      "text/plain": [
       "array([76., nan, 82., 80., 89., 58., 87., 91., 61., 97., 95., 77., 88.,\n",
       "       83., 94., 93., 85., 86., 98., 96., 90., 84., 73., 74., 78., 92.,\n",
       "       71., 72., 68., 62., 49., 67., 81., 66., 56., 79., 70., 59., 64.,\n",
       "       75., 60., 63., 69., 50., 25., 42., 44., 55., 48., 57., 29., 47.,\n",
       "       65., 54., 20., 53., 37., 38., 33., 52., 30., 32., 43., 45., 51.,\n",
       "       40., 46., 39., 34., 41., 36., 31., 27., 35., 26., 19., 28., 23.,\n",
       "       24., 21., 17., 13.])"
      ]
     },
     "execution_count": 67,
     "metadata": {},
     "output_type": "execute_result"
    }
   ],
   "source": [
    "games['critic_score'].unique() #посмотрим, какие значения есть в колонке critic_score"
   ]
  },
  {
   "cell_type": "markdown",
   "metadata": {},
   "source": [
    "Мы видим, что после разделителя нет цифр, поэтому можно перевести в целые числа"
   ]
  },
  {
   "cell_type": "code",
   "execution_count": 68,
   "metadata": {},
   "outputs": [],
   "source": [
    "games['critic_score'] = np.floor(pd.to_numeric(games['critic_score'], errors='coerce')).astype('Int64')"
   ]
  },
  {
   "cell_type": "code",
   "execution_count": 69,
   "metadata": {},
   "outputs": [
    {
     "data": {
      "text/plain": [
       "<IntegerArray>\n",
       "[  76, <NA>,   82,   80,   89,   58,   87,   91,   61,   97,   95,   77,   88,\n",
       "   83,   94,   93,   85,   86,   98,   96,   90,   84,   73,   74,   78,   92,\n",
       "   71,   72,   68,   62,   49,   67,   81,   66,   56,   79,   70,   59,   64,\n",
       "   75,   60,   63,   69,   50,   25,   42,   44,   55,   48,   57,   29,   47,\n",
       "   65,   54,   20,   53,   37,   38,   33,   52,   30,   32,   43,   45,   51,\n",
       "   40,   46,   39,   34,   41,   36,   31,   27,   35,   26,   19,   28,   23,\n",
       "   24,   21,   17,   13]\n",
       "Length: 82, dtype: Int64"
      ]
     },
     "execution_count": 69,
     "metadata": {},
     "output_type": "execute_result"
    }
   ],
   "source": [
    "games['critic_score'].unique() #проверяем"
   ]
  },
  {
   "cell_type": "markdown",
   "metadata": {},
   "source": [
    "Считаю, что не правильно менять пропуск на среднее/медианное значение, а также на 0, т.к. это будет считаться оценкой. А, учитывая большое количество прпусков, в дальнейшем повлияет на анализ."
   ]
  },
  {
   "cell_type": "code",
   "execution_count": 70,
   "metadata": {},
   "outputs": [
    {
     "data": {
      "text/plain": [
       "array(['8', nan, '8.3', '8.5', '6.6', '8.4', '8.6', '7.7', '6.3', '7.4',\n",
       "       '8.2', '9', '7.9', '8.1', '8.7', '7.1', '3.4', '5.3', '4.8', '3.2',\n",
       "       '8.9', '6.4', '7.8', '7.5', '2.6', '7.2', '9.2', '7', '7.3', '4.3',\n",
       "       '7.6', '5.7', '5', '9.1', '6.5', 'tbd', '8.8', '6.9', '9.4', '6.8',\n",
       "       '6.1', '6.7', '5.4', '4', '4.9', '4.5', '9.3', '6.2', '4.2', '6',\n",
       "       '3.7', '4.1', '5.8', '5.6', '5.5', '4.4', '4.6', '5.9', '3.9',\n",
       "       '3.1', '2.9', '5.2', '3.3', '4.7', '5.1', '3.5', '2.5', '1.9', '3',\n",
       "       '2.7', '2.2', '2', '9.5', '2.1', '3.6', '2.8', '1.8', '3.8', '0',\n",
       "       '1.6', '9.6', '2.4', '1.7', '1.1', '0.3', '1.5', '0.7', '1.2',\n",
       "       '2.3', '0.5', '1.3', '0.2', '0.6', '1.4', '0.9', '1', '9.7'],\n",
       "      dtype=object)"
      ]
     },
     "execution_count": 70,
     "metadata": {},
     "output_type": "execute_result"
    }
   ],
   "source": [
    "games['user_score'].unique() #посмотрим, какие значения есть в колонке user_score"
   ]
  },
  {
   "cell_type": "markdown",
   "metadata": {},
   "source": [
    "Здесь тоже самое."
   ]
  },
  {
   "cell_type": "markdown",
   "metadata": {},
   "source": [
    "#### 2.4 Обратите внимание на аббревиатуру 'tbd' в столбце с оценкой пользователей. "
   ]
  },
  {
   "cell_type": "code",
   "execution_count": 71,
   "metadata": {},
   "outputs": [
    {
     "data": {
      "text/plain": [
       "tbd    2376\n",
       "7.8     322\n",
       "8       285\n",
       "8.2     276\n",
       "8.3     252\n",
       "       ... \n",
       "1.5       2\n",
       "1.3       2\n",
       "9.6       2\n",
       "0         1\n",
       "9.7       1\n",
       "Name: user_score, Length: 96, dtype: int64"
      ]
     },
     "execution_count": 71,
     "metadata": {},
     "output_type": "execute_result"
    }
   ],
   "source": [
    "games['user_score'].value_counts()"
   ]
  },
  {
   "cell_type": "markdown",
   "metadata": {},
   "source": [
    "мы видим значения tbd, это значит что игру еще не оценили, правильнее всего будет не менять на среднее/медиану(по описанной выше причине), а заменить на -1 или NAN(что я и сделаю)."
   ]
  },
  {
   "cell_type": "code",
   "execution_count": 72,
   "metadata": {},
   "outputs": [],
   "source": [
    "games['user_score'] = games['user_score'].replace('tbd', np.nan, regex=True) #заменим tbd на nan\n",
    "games['user_score'] = games['user_score'].astype(float) #переведем тип данных в float"
   ]
  },
  {
   "cell_type": "code",
   "execution_count": 73,
   "metadata": {},
   "outputs": [
    {
     "data": {
      "text/plain": [
       "array([8. , nan, 8.3, 8.5, 6.6, 8.4, 8.6, 7.7, 6.3, 7.4, 8.2, 9. , 7.9,\n",
       "       8.1, 8.7, 7.1, 3.4, 5.3, 4.8, 3.2, 8.9, 6.4, 7.8, 7.5, 2.6, 7.2,\n",
       "       9.2, 7. , 7.3, 4.3, 7.6, 5.7, 5. , 9.1, 6.5, 8.8, 6.9, 9.4, 6.8,\n",
       "       6.1, 6.7, 5.4, 4. , 4.9, 4.5, 9.3, 6.2, 4.2, 6. , 3.7, 4.1, 5.8,\n",
       "       5.6, 5.5, 4.4, 4.6, 5.9, 3.9, 3.1, 2.9, 5.2, 3.3, 4.7, 5.1, 3.5,\n",
       "       2.5, 1.9, 3. , 2.7, 2.2, 2. , 9.5, 2.1, 3.6, 2.8, 1.8, 3.8, 0. ,\n",
       "       1.6, 9.6, 2.4, 1.7, 1.1, 0.3, 1.5, 0.7, 1.2, 2.3, 0.5, 1.3, 0.2,\n",
       "       0.6, 1.4, 0.9, 1. , 9.7])"
      ]
     },
     "execution_count": 73,
     "metadata": {},
     "output_type": "execute_result"
    }
   ],
   "source": [
    "games['user_score'].unique() #проверим резульат"
   ]
  },
  {
   "cell_type": "code",
   "execution_count": 74,
   "metadata": {},
   "outputs": [
    {
     "data": {
      "text/plain": [
       "array(['E', nan, 'M', 'T', 'E10+', 'K-A', 'AO', 'EC', 'RP'], dtype=object)"
      ]
     },
     "execution_count": 74,
     "metadata": {},
     "output_type": "execute_result"
    }
   ],
   "source": [
    "games['rating'].unique() #посмотрим какие есть значения в колонке rating"
   ]
  },
  {
   "cell_type": "markdown",
   "metadata": {},
   "source": [
    "Прочитав про рейтинг ESRB, стало понятно, что \"К-А\" - устаревшее названия, теперь категория называется \"Е\", что значит Everyone. Поэтому заменим \"К-А\" на \"Е\"."
   ]
  },
  {
   "cell_type": "code",
   "execution_count": 75,
   "metadata": {},
   "outputs": [],
   "source": [
    "games['rating'] = games['rating'].str.replace('K-A', 'E', regex=True) #заменяем \"К-А\" на \"Е\""
   ]
  },
  {
   "cell_type": "code",
   "execution_count": 76,
   "metadata": {},
   "outputs": [
    {
     "data": {
      "text/plain": [
       "array(['E', nan, 'M', 'T', 'E10+', 'AO', 'EC', 'RP'], dtype=object)"
      ]
     },
     "execution_count": 76,
     "metadata": {},
     "output_type": "execute_result"
    }
   ],
   "source": [
    "games['rating'].unique() #проверяем"
   ]
  },
  {
   "cell_type": "code",
   "execution_count": 77,
   "metadata": {
    "scrolled": true
   },
   "outputs": [
    {
     "data": {
      "text/html": [
       "<div>\n",
       "<style scoped>\n",
       "    .dataframe tbody tr th:only-of-type {\n",
       "        vertical-align: middle;\n",
       "    }\n",
       "\n",
       "    .dataframe tbody tr th {\n",
       "        vertical-align: top;\n",
       "    }\n",
       "\n",
       "    .dataframe thead th {\n",
       "        text-align: right;\n",
       "    }\n",
       "</style>\n",
       "<table border=\"1\" class=\"dataframe\">\n",
       "  <thead>\n",
       "    <tr style=\"text-align: right;\">\n",
       "      <th></th>\n",
       "      <th>name</th>\n",
       "      <th>platform</th>\n",
       "      <th>year_of_release</th>\n",
       "      <th>genre</th>\n",
       "      <th>na_sales</th>\n",
       "      <th>eu_sales</th>\n",
       "      <th>jp_sales</th>\n",
       "      <th>other_sales</th>\n",
       "      <th>critic_score</th>\n",
       "      <th>user_score</th>\n",
       "      <th>rating</th>\n",
       "    </tr>\n",
       "  </thead>\n",
       "  <tbody>\n",
       "    <tr>\n",
       "      <th>0</th>\n",
       "      <td>Wii Sports</td>\n",
       "      <td>Wii</td>\n",
       "      <td>2006</td>\n",
       "      <td>Sports</td>\n",
       "      <td>41.36</td>\n",
       "      <td>28.96</td>\n",
       "      <td>3.77</td>\n",
       "      <td>8.45</td>\n",
       "      <td>76</td>\n",
       "      <td>8.0</td>\n",
       "      <td>E</td>\n",
       "    </tr>\n",
       "    <tr>\n",
       "      <th>1</th>\n",
       "      <td>Super Mario Bros.</td>\n",
       "      <td>NES</td>\n",
       "      <td>1985</td>\n",
       "      <td>Platform</td>\n",
       "      <td>29.08</td>\n",
       "      <td>3.58</td>\n",
       "      <td>6.81</td>\n",
       "      <td>0.77</td>\n",
       "      <td>&lt;NA&gt;</td>\n",
       "      <td>NaN</td>\n",
       "      <td>NaN</td>\n",
       "    </tr>\n",
       "    <tr>\n",
       "      <th>2</th>\n",
       "      <td>Mario Kart Wii</td>\n",
       "      <td>Wii</td>\n",
       "      <td>2008</td>\n",
       "      <td>Racing</td>\n",
       "      <td>15.68</td>\n",
       "      <td>12.76</td>\n",
       "      <td>3.79</td>\n",
       "      <td>3.29</td>\n",
       "      <td>82</td>\n",
       "      <td>8.3</td>\n",
       "      <td>E</td>\n",
       "    </tr>\n",
       "    <tr>\n",
       "      <th>3</th>\n",
       "      <td>Wii Sports Resort</td>\n",
       "      <td>Wii</td>\n",
       "      <td>2009</td>\n",
       "      <td>Sports</td>\n",
       "      <td>15.61</td>\n",
       "      <td>10.93</td>\n",
       "      <td>3.28</td>\n",
       "      <td>2.95</td>\n",
       "      <td>80</td>\n",
       "      <td>8.0</td>\n",
       "      <td>E</td>\n",
       "    </tr>\n",
       "    <tr>\n",
       "      <th>4</th>\n",
       "      <td>Pokemon Red/Pokemon Blue</td>\n",
       "      <td>GB</td>\n",
       "      <td>1996</td>\n",
       "      <td>Role-Playing</td>\n",
       "      <td>11.27</td>\n",
       "      <td>8.89</td>\n",
       "      <td>10.22</td>\n",
       "      <td>1.00</td>\n",
       "      <td>&lt;NA&gt;</td>\n",
       "      <td>NaN</td>\n",
       "      <td>NaN</td>\n",
       "    </tr>\n",
       "    <tr>\n",
       "      <th>...</th>\n",
       "      <td>...</td>\n",
       "      <td>...</td>\n",
       "      <td>...</td>\n",
       "      <td>...</td>\n",
       "      <td>...</td>\n",
       "      <td>...</td>\n",
       "      <td>...</td>\n",
       "      <td>...</td>\n",
       "      <td>...</td>\n",
       "      <td>...</td>\n",
       "      <td>...</td>\n",
       "    </tr>\n",
       "    <tr>\n",
       "      <th>16441</th>\n",
       "      <td>Samurai Warriors: Sanada Maru</td>\n",
       "      <td>PS3</td>\n",
       "      <td>2016</td>\n",
       "      <td>Action</td>\n",
       "      <td>0.00</td>\n",
       "      <td>0.00</td>\n",
       "      <td>0.01</td>\n",
       "      <td>0.00</td>\n",
       "      <td>&lt;NA&gt;</td>\n",
       "      <td>NaN</td>\n",
       "      <td>NaN</td>\n",
       "    </tr>\n",
       "    <tr>\n",
       "      <th>16442</th>\n",
       "      <td>LMA Manager 2007</td>\n",
       "      <td>X360</td>\n",
       "      <td>2006</td>\n",
       "      <td>Sports</td>\n",
       "      <td>0.00</td>\n",
       "      <td>0.01</td>\n",
       "      <td>0.00</td>\n",
       "      <td>0.00</td>\n",
       "      <td>&lt;NA&gt;</td>\n",
       "      <td>NaN</td>\n",
       "      <td>NaN</td>\n",
       "    </tr>\n",
       "    <tr>\n",
       "      <th>16443</th>\n",
       "      <td>Haitaka no Psychedelica</td>\n",
       "      <td>PSV</td>\n",
       "      <td>2016</td>\n",
       "      <td>Adventure</td>\n",
       "      <td>0.00</td>\n",
       "      <td>0.00</td>\n",
       "      <td>0.01</td>\n",
       "      <td>0.00</td>\n",
       "      <td>&lt;NA&gt;</td>\n",
       "      <td>NaN</td>\n",
       "      <td>NaN</td>\n",
       "    </tr>\n",
       "    <tr>\n",
       "      <th>16444</th>\n",
       "      <td>Spirits &amp; Spells</td>\n",
       "      <td>GBA</td>\n",
       "      <td>2003</td>\n",
       "      <td>Platform</td>\n",
       "      <td>0.01</td>\n",
       "      <td>0.00</td>\n",
       "      <td>0.00</td>\n",
       "      <td>0.00</td>\n",
       "      <td>&lt;NA&gt;</td>\n",
       "      <td>NaN</td>\n",
       "      <td>NaN</td>\n",
       "    </tr>\n",
       "    <tr>\n",
       "      <th>16445</th>\n",
       "      <td>Winning Post 8 2016</td>\n",
       "      <td>PSV</td>\n",
       "      <td>2016</td>\n",
       "      <td>Simulation</td>\n",
       "      <td>0.00</td>\n",
       "      <td>0.00</td>\n",
       "      <td>0.01</td>\n",
       "      <td>0.00</td>\n",
       "      <td>&lt;NA&gt;</td>\n",
       "      <td>NaN</td>\n",
       "      <td>NaN</td>\n",
       "    </tr>\n",
       "  </tbody>\n",
       "</table>\n",
       "<p>16446 rows × 11 columns</p>\n",
       "</div>"
      ],
      "text/plain": [
       "                                name platform  year_of_release         genre  \\\n",
       "0                         Wii Sports      Wii             2006        Sports   \n",
       "1                  Super Mario Bros.      NES             1985      Platform   \n",
       "2                     Mario Kart Wii      Wii             2008        Racing   \n",
       "3                  Wii Sports Resort      Wii             2009        Sports   \n",
       "4           Pokemon Red/Pokemon Blue       GB             1996  Role-Playing   \n",
       "...                              ...      ...              ...           ...   \n",
       "16441  Samurai Warriors: Sanada Maru      PS3             2016        Action   \n",
       "16442               LMA Manager 2007     X360             2006        Sports   \n",
       "16443        Haitaka no Psychedelica      PSV             2016     Adventure   \n",
       "16444               Spirits & Spells      GBA             2003      Platform   \n",
       "16445            Winning Post 8 2016      PSV             2016    Simulation   \n",
       "\n",
       "       na_sales  eu_sales  jp_sales  other_sales  critic_score  user_score  \\\n",
       "0         41.36     28.96      3.77         8.45            76         8.0   \n",
       "1         29.08      3.58      6.81         0.77          <NA>         NaN   \n",
       "2         15.68     12.76      3.79         3.29            82         8.3   \n",
       "3         15.61     10.93      3.28         2.95            80         8.0   \n",
       "4         11.27      8.89     10.22         1.00          <NA>         NaN   \n",
       "...         ...       ...       ...          ...           ...         ...   \n",
       "16441      0.00      0.00      0.01         0.00          <NA>         NaN   \n",
       "16442      0.00      0.01      0.00         0.00          <NA>         NaN   \n",
       "16443      0.00      0.00      0.01         0.00          <NA>         NaN   \n",
       "16444      0.01      0.00      0.00         0.00          <NA>         NaN   \n",
       "16445      0.00      0.00      0.01         0.00          <NA>         NaN   \n",
       "\n",
       "      rating  \n",
       "0          E  \n",
       "1        NaN  \n",
       "2          E  \n",
       "3          E  \n",
       "4        NaN  \n",
       "...      ...  \n",
       "16441    NaN  \n",
       "16442    NaN  \n",
       "16443    NaN  \n",
       "16444    NaN  \n",
       "16445    NaN  \n",
       "\n",
       "[16446 rows x 11 columns]"
      ]
     },
     "metadata": {},
     "output_type": "display_data"
    }
   ],
   "source": [
    "display(games)"
   ]
  },
  {
   "cell_type": "markdown",
   "metadata": {},
   "source": [
    "Заменим пропуски в колонке rating на unknown."
   ]
  },
  {
   "cell_type": "code",
   "execution_count": 78,
   "metadata": {},
   "outputs": [],
   "source": [
    "games['rating'] = games['rating'].fillna('unknown')"
   ]
  },
  {
   "cell_type": "code",
   "execution_count": 79,
   "metadata": {},
   "outputs": [
    {
     "data": {
      "text/html": [
       "<div>\n",
       "<style scoped>\n",
       "    .dataframe tbody tr th:only-of-type {\n",
       "        vertical-align: middle;\n",
       "    }\n",
       "\n",
       "    .dataframe tbody tr th {\n",
       "        vertical-align: top;\n",
       "    }\n",
       "\n",
       "    .dataframe thead th {\n",
       "        text-align: right;\n",
       "    }\n",
       "</style>\n",
       "<table border=\"1\" class=\"dataframe\">\n",
       "  <thead>\n",
       "    <tr style=\"text-align: right;\">\n",
       "      <th></th>\n",
       "      <th>name</th>\n",
       "      <th>platform</th>\n",
       "      <th>year_of_release</th>\n",
       "      <th>genre</th>\n",
       "      <th>na_sales</th>\n",
       "      <th>eu_sales</th>\n",
       "      <th>jp_sales</th>\n",
       "      <th>other_sales</th>\n",
       "      <th>critic_score</th>\n",
       "      <th>user_score</th>\n",
       "      <th>rating</th>\n",
       "    </tr>\n",
       "  </thead>\n",
       "  <tbody>\n",
       "    <tr>\n",
       "      <th>0</th>\n",
       "      <td>Wii Sports</td>\n",
       "      <td>Wii</td>\n",
       "      <td>2006</td>\n",
       "      <td>Sports</td>\n",
       "      <td>41.36</td>\n",
       "      <td>28.96</td>\n",
       "      <td>3.77</td>\n",
       "      <td>8.45</td>\n",
       "      <td>76</td>\n",
       "      <td>8.0</td>\n",
       "      <td>E</td>\n",
       "    </tr>\n",
       "    <tr>\n",
       "      <th>1</th>\n",
       "      <td>Super Mario Bros.</td>\n",
       "      <td>NES</td>\n",
       "      <td>1985</td>\n",
       "      <td>Platform</td>\n",
       "      <td>29.08</td>\n",
       "      <td>3.58</td>\n",
       "      <td>6.81</td>\n",
       "      <td>0.77</td>\n",
       "      <td>&lt;NA&gt;</td>\n",
       "      <td>NaN</td>\n",
       "      <td>unknown</td>\n",
       "    </tr>\n",
       "    <tr>\n",
       "      <th>2</th>\n",
       "      <td>Mario Kart Wii</td>\n",
       "      <td>Wii</td>\n",
       "      <td>2008</td>\n",
       "      <td>Racing</td>\n",
       "      <td>15.68</td>\n",
       "      <td>12.76</td>\n",
       "      <td>3.79</td>\n",
       "      <td>3.29</td>\n",
       "      <td>82</td>\n",
       "      <td>8.3</td>\n",
       "      <td>E</td>\n",
       "    </tr>\n",
       "    <tr>\n",
       "      <th>3</th>\n",
       "      <td>Wii Sports Resort</td>\n",
       "      <td>Wii</td>\n",
       "      <td>2009</td>\n",
       "      <td>Sports</td>\n",
       "      <td>15.61</td>\n",
       "      <td>10.93</td>\n",
       "      <td>3.28</td>\n",
       "      <td>2.95</td>\n",
       "      <td>80</td>\n",
       "      <td>8.0</td>\n",
       "      <td>E</td>\n",
       "    </tr>\n",
       "    <tr>\n",
       "      <th>4</th>\n",
       "      <td>Pokemon Red/Pokemon Blue</td>\n",
       "      <td>GB</td>\n",
       "      <td>1996</td>\n",
       "      <td>Role-Playing</td>\n",
       "      <td>11.27</td>\n",
       "      <td>8.89</td>\n",
       "      <td>10.22</td>\n",
       "      <td>1.00</td>\n",
       "      <td>&lt;NA&gt;</td>\n",
       "      <td>NaN</td>\n",
       "      <td>unknown</td>\n",
       "    </tr>\n",
       "    <tr>\n",
       "      <th>...</th>\n",
       "      <td>...</td>\n",
       "      <td>...</td>\n",
       "      <td>...</td>\n",
       "      <td>...</td>\n",
       "      <td>...</td>\n",
       "      <td>...</td>\n",
       "      <td>...</td>\n",
       "      <td>...</td>\n",
       "      <td>...</td>\n",
       "      <td>...</td>\n",
       "      <td>...</td>\n",
       "    </tr>\n",
       "    <tr>\n",
       "      <th>16441</th>\n",
       "      <td>Samurai Warriors: Sanada Maru</td>\n",
       "      <td>PS3</td>\n",
       "      <td>2016</td>\n",
       "      <td>Action</td>\n",
       "      <td>0.00</td>\n",
       "      <td>0.00</td>\n",
       "      <td>0.01</td>\n",
       "      <td>0.00</td>\n",
       "      <td>&lt;NA&gt;</td>\n",
       "      <td>NaN</td>\n",
       "      <td>unknown</td>\n",
       "    </tr>\n",
       "    <tr>\n",
       "      <th>16442</th>\n",
       "      <td>LMA Manager 2007</td>\n",
       "      <td>X360</td>\n",
       "      <td>2006</td>\n",
       "      <td>Sports</td>\n",
       "      <td>0.00</td>\n",
       "      <td>0.01</td>\n",
       "      <td>0.00</td>\n",
       "      <td>0.00</td>\n",
       "      <td>&lt;NA&gt;</td>\n",
       "      <td>NaN</td>\n",
       "      <td>unknown</td>\n",
       "    </tr>\n",
       "    <tr>\n",
       "      <th>16443</th>\n",
       "      <td>Haitaka no Psychedelica</td>\n",
       "      <td>PSV</td>\n",
       "      <td>2016</td>\n",
       "      <td>Adventure</td>\n",
       "      <td>0.00</td>\n",
       "      <td>0.00</td>\n",
       "      <td>0.01</td>\n",
       "      <td>0.00</td>\n",
       "      <td>&lt;NA&gt;</td>\n",
       "      <td>NaN</td>\n",
       "      <td>unknown</td>\n",
       "    </tr>\n",
       "    <tr>\n",
       "      <th>16444</th>\n",
       "      <td>Spirits &amp; Spells</td>\n",
       "      <td>GBA</td>\n",
       "      <td>2003</td>\n",
       "      <td>Platform</td>\n",
       "      <td>0.01</td>\n",
       "      <td>0.00</td>\n",
       "      <td>0.00</td>\n",
       "      <td>0.00</td>\n",
       "      <td>&lt;NA&gt;</td>\n",
       "      <td>NaN</td>\n",
       "      <td>unknown</td>\n",
       "    </tr>\n",
       "    <tr>\n",
       "      <th>16445</th>\n",
       "      <td>Winning Post 8 2016</td>\n",
       "      <td>PSV</td>\n",
       "      <td>2016</td>\n",
       "      <td>Simulation</td>\n",
       "      <td>0.00</td>\n",
       "      <td>0.00</td>\n",
       "      <td>0.01</td>\n",
       "      <td>0.00</td>\n",
       "      <td>&lt;NA&gt;</td>\n",
       "      <td>NaN</td>\n",
       "      <td>unknown</td>\n",
       "    </tr>\n",
       "  </tbody>\n",
       "</table>\n",
       "<p>16446 rows × 11 columns</p>\n",
       "</div>"
      ],
      "text/plain": [
       "                                name platform  year_of_release         genre  \\\n",
       "0                         Wii Sports      Wii             2006        Sports   \n",
       "1                  Super Mario Bros.      NES             1985      Platform   \n",
       "2                     Mario Kart Wii      Wii             2008        Racing   \n",
       "3                  Wii Sports Resort      Wii             2009        Sports   \n",
       "4           Pokemon Red/Pokemon Blue       GB             1996  Role-Playing   \n",
       "...                              ...      ...              ...           ...   \n",
       "16441  Samurai Warriors: Sanada Maru      PS3             2016        Action   \n",
       "16442               LMA Manager 2007     X360             2006        Sports   \n",
       "16443        Haitaka no Psychedelica      PSV             2016     Adventure   \n",
       "16444               Spirits & Spells      GBA             2003      Platform   \n",
       "16445            Winning Post 8 2016      PSV             2016    Simulation   \n",
       "\n",
       "       na_sales  eu_sales  jp_sales  other_sales  critic_score  user_score  \\\n",
       "0         41.36     28.96      3.77         8.45            76         8.0   \n",
       "1         29.08      3.58      6.81         0.77          <NA>         NaN   \n",
       "2         15.68     12.76      3.79         3.29            82         8.3   \n",
       "3         15.61     10.93      3.28         2.95            80         8.0   \n",
       "4         11.27      8.89     10.22         1.00          <NA>         NaN   \n",
       "...         ...       ...       ...          ...           ...         ...   \n",
       "16441      0.00      0.00      0.01         0.00          <NA>         NaN   \n",
       "16442      0.00      0.01      0.00         0.00          <NA>         NaN   \n",
       "16443      0.00      0.00      0.01         0.00          <NA>         NaN   \n",
       "16444      0.01      0.00      0.00         0.00          <NA>         NaN   \n",
       "16445      0.00      0.00      0.01         0.00          <NA>         NaN   \n",
       "\n",
       "        rating  \n",
       "0            E  \n",
       "1      unknown  \n",
       "2            E  \n",
       "3            E  \n",
       "4      unknown  \n",
       "...        ...  \n",
       "16441  unknown  \n",
       "16442  unknown  \n",
       "16443  unknown  \n",
       "16444  unknown  \n",
       "16445  unknown  \n",
       "\n",
       "[16446 rows x 11 columns]"
      ]
     },
     "metadata": {},
     "output_type": "display_data"
    }
   ],
   "source": [
    "display(games) #проверяем"
   ]
  },
  {
   "cell_type": "markdown",
   "metadata": {},
   "source": [
    "#### 2.5 Посчитайте суммарные продажи во всех регионах и запишите их в отдельный столбец."
   ]
  },
  {
   "cell_type": "code",
   "execution_count": 80,
   "metadata": {},
   "outputs": [],
   "source": [
    "games['total_sales'] = games[['na_sales','eu_sales','jp_sales','other_sales']].sum(axis=1) #создадим колонку total_sales, куда сохраним сумму продаж в США, Европе, Японии и других регионах"
   ]
  },
  {
   "cell_type": "code",
   "execution_count": 81,
   "metadata": {},
   "outputs": [
    {
     "data": {
      "text/html": [
       "<div>\n",
       "<style scoped>\n",
       "    .dataframe tbody tr th:only-of-type {\n",
       "        vertical-align: middle;\n",
       "    }\n",
       "\n",
       "    .dataframe tbody tr th {\n",
       "        vertical-align: top;\n",
       "    }\n",
       "\n",
       "    .dataframe thead th {\n",
       "        text-align: right;\n",
       "    }\n",
       "</style>\n",
       "<table border=\"1\" class=\"dataframe\">\n",
       "  <thead>\n",
       "    <tr style=\"text-align: right;\">\n",
       "      <th></th>\n",
       "      <th>name</th>\n",
       "      <th>platform</th>\n",
       "      <th>year_of_release</th>\n",
       "      <th>genre</th>\n",
       "      <th>na_sales</th>\n",
       "      <th>eu_sales</th>\n",
       "      <th>jp_sales</th>\n",
       "      <th>other_sales</th>\n",
       "      <th>critic_score</th>\n",
       "      <th>user_score</th>\n",
       "      <th>rating</th>\n",
       "      <th>total_sales</th>\n",
       "    </tr>\n",
       "  </thead>\n",
       "  <tbody>\n",
       "    <tr>\n",
       "      <th>0</th>\n",
       "      <td>Wii Sports</td>\n",
       "      <td>Wii</td>\n",
       "      <td>2006</td>\n",
       "      <td>Sports</td>\n",
       "      <td>41.36</td>\n",
       "      <td>28.96</td>\n",
       "      <td>3.77</td>\n",
       "      <td>8.45</td>\n",
       "      <td>76</td>\n",
       "      <td>8.0</td>\n",
       "      <td>E</td>\n",
       "      <td>82.54</td>\n",
       "    </tr>\n",
       "    <tr>\n",
       "      <th>1</th>\n",
       "      <td>Super Mario Bros.</td>\n",
       "      <td>NES</td>\n",
       "      <td>1985</td>\n",
       "      <td>Platform</td>\n",
       "      <td>29.08</td>\n",
       "      <td>3.58</td>\n",
       "      <td>6.81</td>\n",
       "      <td>0.77</td>\n",
       "      <td>&lt;NA&gt;</td>\n",
       "      <td>NaN</td>\n",
       "      <td>unknown</td>\n",
       "      <td>40.24</td>\n",
       "    </tr>\n",
       "    <tr>\n",
       "      <th>2</th>\n",
       "      <td>Mario Kart Wii</td>\n",
       "      <td>Wii</td>\n",
       "      <td>2008</td>\n",
       "      <td>Racing</td>\n",
       "      <td>15.68</td>\n",
       "      <td>12.76</td>\n",
       "      <td>3.79</td>\n",
       "      <td>3.29</td>\n",
       "      <td>82</td>\n",
       "      <td>8.3</td>\n",
       "      <td>E</td>\n",
       "      <td>35.52</td>\n",
       "    </tr>\n",
       "    <tr>\n",
       "      <th>3</th>\n",
       "      <td>Wii Sports Resort</td>\n",
       "      <td>Wii</td>\n",
       "      <td>2009</td>\n",
       "      <td>Sports</td>\n",
       "      <td>15.61</td>\n",
       "      <td>10.93</td>\n",
       "      <td>3.28</td>\n",
       "      <td>2.95</td>\n",
       "      <td>80</td>\n",
       "      <td>8.0</td>\n",
       "      <td>E</td>\n",
       "      <td>32.77</td>\n",
       "    </tr>\n",
       "    <tr>\n",
       "      <th>4</th>\n",
       "      <td>Pokemon Red/Pokemon Blue</td>\n",
       "      <td>GB</td>\n",
       "      <td>1996</td>\n",
       "      <td>Role-Playing</td>\n",
       "      <td>11.27</td>\n",
       "      <td>8.89</td>\n",
       "      <td>10.22</td>\n",
       "      <td>1.00</td>\n",
       "      <td>&lt;NA&gt;</td>\n",
       "      <td>NaN</td>\n",
       "      <td>unknown</td>\n",
       "      <td>31.38</td>\n",
       "    </tr>\n",
       "    <tr>\n",
       "      <th>5</th>\n",
       "      <td>Tetris</td>\n",
       "      <td>GB</td>\n",
       "      <td>1989</td>\n",
       "      <td>Puzzle</td>\n",
       "      <td>23.20</td>\n",
       "      <td>2.26</td>\n",
       "      <td>4.22</td>\n",
       "      <td>0.58</td>\n",
       "      <td>&lt;NA&gt;</td>\n",
       "      <td>NaN</td>\n",
       "      <td>unknown</td>\n",
       "      <td>30.26</td>\n",
       "    </tr>\n",
       "    <tr>\n",
       "      <th>6</th>\n",
       "      <td>New Super Mario Bros.</td>\n",
       "      <td>DS</td>\n",
       "      <td>2006</td>\n",
       "      <td>Platform</td>\n",
       "      <td>11.28</td>\n",
       "      <td>9.14</td>\n",
       "      <td>6.50</td>\n",
       "      <td>2.88</td>\n",
       "      <td>89</td>\n",
       "      <td>8.5</td>\n",
       "      <td>E</td>\n",
       "      <td>29.80</td>\n",
       "    </tr>\n",
       "    <tr>\n",
       "      <th>7</th>\n",
       "      <td>Wii Play</td>\n",
       "      <td>Wii</td>\n",
       "      <td>2006</td>\n",
       "      <td>Misc</td>\n",
       "      <td>13.96</td>\n",
       "      <td>9.18</td>\n",
       "      <td>2.93</td>\n",
       "      <td>2.84</td>\n",
       "      <td>58</td>\n",
       "      <td>6.6</td>\n",
       "      <td>E</td>\n",
       "      <td>28.91</td>\n",
       "    </tr>\n",
       "    <tr>\n",
       "      <th>8</th>\n",
       "      <td>New Super Mario Bros. Wii</td>\n",
       "      <td>Wii</td>\n",
       "      <td>2009</td>\n",
       "      <td>Platform</td>\n",
       "      <td>14.44</td>\n",
       "      <td>6.94</td>\n",
       "      <td>4.70</td>\n",
       "      <td>2.24</td>\n",
       "      <td>87</td>\n",
       "      <td>8.4</td>\n",
       "      <td>E</td>\n",
       "      <td>28.32</td>\n",
       "    </tr>\n",
       "    <tr>\n",
       "      <th>9</th>\n",
       "      <td>Duck Hunt</td>\n",
       "      <td>NES</td>\n",
       "      <td>1984</td>\n",
       "      <td>Shooter</td>\n",
       "      <td>26.93</td>\n",
       "      <td>0.63</td>\n",
       "      <td>0.28</td>\n",
       "      <td>0.47</td>\n",
       "      <td>&lt;NA&gt;</td>\n",
       "      <td>NaN</td>\n",
       "      <td>unknown</td>\n",
       "      <td>28.31</td>\n",
       "    </tr>\n",
       "  </tbody>\n",
       "</table>\n",
       "</div>"
      ],
      "text/plain": [
       "                        name platform  year_of_release         genre  \\\n",
       "0                 Wii Sports      Wii             2006        Sports   \n",
       "1          Super Mario Bros.      NES             1985      Platform   \n",
       "2             Mario Kart Wii      Wii             2008        Racing   \n",
       "3          Wii Sports Resort      Wii             2009        Sports   \n",
       "4   Pokemon Red/Pokemon Blue       GB             1996  Role-Playing   \n",
       "5                     Tetris       GB             1989        Puzzle   \n",
       "6      New Super Mario Bros.       DS             2006      Platform   \n",
       "7                   Wii Play      Wii             2006          Misc   \n",
       "8  New Super Mario Bros. Wii      Wii             2009      Platform   \n",
       "9                  Duck Hunt      NES             1984       Shooter   \n",
       "\n",
       "   na_sales  eu_sales  jp_sales  other_sales  critic_score  user_score  \\\n",
       "0     41.36     28.96      3.77         8.45            76         8.0   \n",
       "1     29.08      3.58      6.81         0.77          <NA>         NaN   \n",
       "2     15.68     12.76      3.79         3.29            82         8.3   \n",
       "3     15.61     10.93      3.28         2.95            80         8.0   \n",
       "4     11.27      8.89     10.22         1.00          <NA>         NaN   \n",
       "5     23.20      2.26      4.22         0.58          <NA>         NaN   \n",
       "6     11.28      9.14      6.50         2.88            89         8.5   \n",
       "7     13.96      9.18      2.93         2.84            58         6.6   \n",
       "8     14.44      6.94      4.70         2.24            87         8.4   \n",
       "9     26.93      0.63      0.28         0.47          <NA>         NaN   \n",
       "\n",
       "    rating  total_sales  \n",
       "0        E        82.54  \n",
       "1  unknown        40.24  \n",
       "2        E        35.52  \n",
       "3        E        32.77  \n",
       "4  unknown        31.38  \n",
       "5  unknown        30.26  \n",
       "6        E        29.80  \n",
       "7        E        28.91  \n",
       "8        E        28.32  \n",
       "9  unknown        28.31  "
      ]
     },
     "execution_count": 81,
     "metadata": {},
     "output_type": "execute_result"
    }
   ],
   "source": [
    "games.head(10) #проверяем"
   ]
  },
  {
   "cell_type": "code",
   "execution_count": 82,
   "metadata": {},
   "outputs": [
    {
     "name": "stdout",
     "output_type": "stream",
     "text": [
      "<class 'pandas.core.frame.DataFrame'>\n",
      "RangeIndex: 16446 entries, 0 to 16445\n",
      "Data columns (total 12 columns):\n",
      " #   Column           Non-Null Count  Dtype  \n",
      "---  ------           --------------  -----  \n",
      " 0   name             16444 non-null  object \n",
      " 1   platform         16446 non-null  object \n",
      " 2   year_of_release  16446 non-null  int64  \n",
      " 3   genre            16444 non-null  object \n",
      " 4   na_sales         16446 non-null  float64\n",
      " 5   eu_sales         16446 non-null  float64\n",
      " 6   jp_sales         16446 non-null  float64\n",
      " 7   other_sales      16446 non-null  float64\n",
      " 8   critic_score     7983 non-null   Int64  \n",
      " 9   user_score       7463 non-null   float64\n",
      " 10  rating           16446 non-null  object \n",
      " 11  total_sales      16446 non-null  float64\n",
      "dtypes: Int64(1), float64(6), int64(1), object(4)\n",
      "memory usage: 1.5+ MB\n"
     ]
    }
   ],
   "source": [
    "games.info() #проверим форматы колонок"
   ]
  },
  {
   "cell_type": "markdown",
   "metadata": {},
   "source": [
    "В данном датасете мы видим очень много пропусков. В колонке year_of_release можно удалить, т.к. их мало. Пропуски в rating заменили на unknown, в колонке user_score значения tpd заменили на nan. Поменяли форматы данных в некоторых колонках, например в годе релиза, т.к. там целые числа."
   ]
  },
  {
   "cell_type": "markdown",
   "metadata": {},
   "source": [
    "### 3. Проведите исследовательский анализ данных"
   ]
  },
  {
   "cell_type": "markdown",
   "metadata": {},
   "source": [
    "#### 3.1 Посмотрите, сколько игр выпускалось в разные годы. "
   ]
  },
  {
   "cell_type": "code",
   "execution_count": 83,
   "metadata": {},
   "outputs": [],
   "source": [
    "games_by_year = games.pivot_table(index='year_of_release', values='name', aggfunc='count') # сделаем сводную таблицу с распределением колличества игр по годам"
   ]
  },
  {
   "cell_type": "markdown",
   "metadata": {},
   "source": [
    "И построим график"
   ]
  },
  {
   "cell_type": "code",
   "execution_count": 84,
   "metadata": {
    "scrolled": false
   },
   "outputs": [
    {
     "data": {
      "text/plain": [
       "<function matplotlib.pyplot.show(close=None, block=None)>"
      ]
     },
     "execution_count": 84,
     "metadata": {},
     "output_type": "execute_result"
    },
    {
     "data": {
      "image/png": "[encoded data removed]",
      "text/plain": [
       "<Figure size 1800x1080 with 1 Axes>"
      ]
     },
     "metadata": {
      "needs_background": "light"
     },
     "output_type": "display_data"
    }
   ],
   "source": [
    "plt.figure(figsize=(25,15))\n",
    "sns.barplot(x=games_by_year.index, y='name', data=games_by_year, color = 'green', palette = 'viridis')\n",
    "plt.title('График колличества релизов игр по годам', fontsize = 20)\n",
    "plt.xlabel(\"Колличество игр\", fontsize = 20)\n",
    "plt.ylabel(\"Год выхода игры\", fontsize = 20)\n",
    "plt.show"
   ]
  },
  {
   "cell_type": "markdown",
   "metadata": {},
   "source": [
    "Мы видим, что пик выпуска игр приходится на 2002-2011 года. Думаю, что важнее информация начиная с 1995 года."
   ]
  },
  {
   "cell_type": "markdown",
   "metadata": {},
   "source": [
    "Удалим данные до 1994 года включительно, т.к. они нам не интересны."
   ]
  },
  {
   "cell_type": "code",
   "execution_count": 85,
   "metadata": {},
   "outputs": [],
   "source": [
    "games=games[games['year_of_release'] > 1994] \n",
    "games.reset_index(drop=True, inplace=True) #сбросим индексы"
   ]
  },
  {
   "cell_type": "code",
   "execution_count": 86,
   "metadata": {},
   "outputs": [
    {
     "data": {
      "text/plain": [
       "array([2006, 2008, 2009, 1996, 2005, 1999, 2007, 2010, 2013, 2004, 2002,\n",
       "       2001, 2011, 1998, 2015, 2012, 2014, 1997, 2016, 2003, 2000, 1995])"
      ]
     },
     "execution_count": 86,
     "metadata": {},
     "output_type": "execute_result"
    }
   ],
   "source": [
    "games['year_of_release'].unique() #проверяем"
   ]
  },
  {
   "cell_type": "markdown",
   "metadata": {},
   "source": [
    "#### 3.2 Посмотрите, как менялись продажи по платформам. Выберите платформы с наибольшими суммарными продажами и постройте распределение по годам. "
   ]
  },
  {
   "cell_type": "markdown",
   "metadata": {},
   "source": [
    "Посмотрим, как менялись продажи по платформам. Для этого выберем платформы с наибольшими суммарными продажами и построем график с распределением по годам.\n",
    "Изначально взял 15 платформ, но по кол-ву продаж после 6й по счету платформы идет спад почти в 2 раза. Поэтому возьмем первые 6 и сохраним в переменную top_platforms."
   ]
  },
  {
   "cell_type": "code",
   "execution_count": 87,
   "metadata": {
    "scrolled": true
   },
   "outputs": [
    {
     "data": {
      "text/html": [
       "<div>\n",
       "<style scoped>\n",
       "    .dataframe tbody tr th:only-of-type {\n",
       "        vertical-align: middle;\n",
       "    }\n",
       "\n",
       "    .dataframe tbody tr th {\n",
       "        vertical-align: top;\n",
       "    }\n",
       "\n",
       "    .dataframe thead th {\n",
       "        text-align: right;\n",
       "    }\n",
       "</style>\n",
       "<table border=\"1\" class=\"dataframe\">\n",
       "  <thead>\n",
       "    <tr style=\"text-align: right;\">\n",
       "      <th></th>\n",
       "      <th>total_sales</th>\n",
       "    </tr>\n",
       "    <tr>\n",
       "      <th>platform</th>\n",
       "      <th></th>\n",
       "    </tr>\n",
       "  </thead>\n",
       "  <tbody>\n",
       "    <tr>\n",
       "      <th>PS2</th>\n",
       "      <td>1233.56</td>\n",
       "    </tr>\n",
       "    <tr>\n",
       "      <th>X360</th>\n",
       "      <td>961.24</td>\n",
       "    </tr>\n",
       "    <tr>\n",
       "      <th>PS3</th>\n",
       "      <td>931.34</td>\n",
       "    </tr>\n",
       "    <tr>\n",
       "      <th>Wii</th>\n",
       "      <td>891.18</td>\n",
       "    </tr>\n",
       "    <tr>\n",
       "      <th>DS</th>\n",
       "      <td>802.76</td>\n",
       "    </tr>\n",
       "    <tr>\n",
       "      <th>PS</th>\n",
       "      <td>721.55</td>\n",
       "    </tr>\n",
       "  </tbody>\n",
       "</table>\n",
       "</div>"
      ],
      "text/plain": [
       "          total_sales\n",
       "platform             \n",
       "PS2           1233.56\n",
       "X360           961.24\n",
       "PS3            931.34\n",
       "Wii            891.18\n",
       "DS             802.76\n",
       "PS             721.55"
      ]
     },
     "metadata": {},
     "output_type": "display_data"
    }
   ],
   "source": [
    "top_platforms = games.pivot_table(index = 'platform', values = 'total_sales', aggfunc = 'sum').nlargest(6,'total_sales')\n",
    "display(top_platforms)"
   ]
  },
  {
   "cell_type": "markdown",
   "metadata": {},
   "source": [
    "Мы видим, что больше всего продаж у PS2, далее идет ее прямой конкурент от Microsoft - XBox360."
   ]
  },
  {
   "cell_type": "markdown",
   "metadata": {},
   "source": [
    "Построим график для наглядности"
   ]
  },
  {
   "cell_type": "code",
   "execution_count": 88,
   "metadata": {
    "scrolled": false
   },
   "outputs": [
    {
     "data": {
      "text/plain": [
       "Text(0, 0.5, 'Количество продаж')"
      ]
     },
     "execution_count": 88,
     "metadata": {},
     "output_type": "execute_result"
    },
    {
     "data": {
      "image/png": "[encoded data removed]",
      "text/plain": [
       "<Figure size 936x288 with 1 Axes>"
      ]
     },
     "metadata": {
      "needs_background": "light"
     },
     "output_type": "display_data"
    }
   ],
   "source": [
    "plt.figure(figsize=(13,4))\n",
    "sns.barplot(x=top_platforms.index,y=top_platforms['total_sales'])\n",
    "plt.title(\"Продажи по платформам за весь период\")\n",
    "plt.xlabel(\"Название платформы\")\n",
    "plt.ylabel(\"Количество продаж\")"
   ]
  },
  {
   "cell_type": "markdown",
   "metadata": {},
   "source": [
    "Из полученной таблицы и графика видим, что самая популярная консоль PS2, на втором месте X-Box 360. Дата выхода PS2 - 2000г., а X-Box 360 - 2005г. С выходом этих консолей можно связать рост количества игр на первом графике."
   ]
  },
  {
   "cell_type": "markdown",
   "metadata": {},
   "source": [
    "Выберем платформы с наибольшими суммарными продажами и построем распределение по годам. Для этого создадим переменную platforms."
   ]
  },
  {
   "cell_type": "code",
   "execution_count": 89,
   "metadata": {},
   "outputs": [
    {
     "data": {
      "text/plain": [
       "Text(0.5, 1.0, 'Суммарные продажи по платформам')"
      ]
     },
     "execution_count": 89,
     "metadata": {},
     "output_type": "execute_result"
    },
    {
     "data": {
      "image/png": "[encoded data removed]",
      "text/plain": [
       "<Figure size 1080x504 with 1 Axes>"
      ]
     },
     "metadata": {
      "needs_background": "light"
     },
     "output_type": "display_data"
    }
   ],
   "source": [
    "platforms = list(games.groupby('platform')['total_sales'].agg('sum').sort_values(ascending=False).index)[0:6]\n",
    "plt.figure(figsize=(15,7))\n",
    "for i in platforms:\n",
    "    games[games['platform']==i].groupby(['year_of_release']).total_sales.agg(\"count\").plot()\n",
    "\n",
    "plt.grid(True)\n",
    "plt.legend(platforms);\n",
    "plt.xlabel('Год выхода игры')\n",
    "plt.ylabel('Продажи')\n",
    "plt.title('Суммарные продажи по платформам')"
   ]
  },
  {
   "cell_type": "markdown",
   "metadata": {},
   "source": [
    "Мы видим, что:\n",
    "- PS2 была популярная с 2000 по 2011г.\n",
    "- X360 c 2005 по 2016г.\n",
    "- PS3 c 2006 по 2016г.\n",
    "- Wii c 2006 по 2016г.\n",
    "- DS с 2004 по 2013г.\n",
    "- PS с 1995 по 2003г.\n",
    "\n",
    "Мы видим, что средняя \"продолжительность жизни\" консолей - 10 лет."
   ]
  },
  {
   "cell_type": "markdown",
   "metadata": {},
   "source": [
    "#### 3.3 Возьмите данные за соответствующий актуальный период. Актуальный период определите самостоятельно в результате исследования предыдущих вопросов."
   ]
  },
  {
   "cell_type": "markdown",
   "metadata": {},
   "source": [
    "Из прошлого анализа мы выяснили, что продолжительность жизни консолей - 10 лет. По графику видно, что почти у всех пик приходится где-то на середине продолжительности жизни, т.е. 5-6 лет. Чтобы построить прогноз на 2017г., предлагаю стартовой точкой 2012г.\n",
    "UPD решил посмотреть данные начиная с 2014г., мне они показались более информативными"
   ]
  },
  {
   "cell_type": "code",
   "execution_count": 94,
   "metadata": {},
   "outputs": [
    {
     "data": {
      "image/png": "[encoded data removed]",
      "text/plain": [
       "<Figure size 1080x504 with 1 Axes>"
      ]
     },
     "metadata": {
      "needs_background": "light"
     },
     "output_type": "display_data"
    }
   ],
   "source": [
    "platforms = list(games[games['year_of_release']>=2014]['platform'].unique())\n",
    "plt.figure(figsize=(15,7))\n",
    "for i in platforms:\n",
    "    games[games['platform']==i].groupby(['year_of_release']).total_sales.agg(\"count\").plot()\n",
    "plt.grid(True)\n",
    "plt.legend(platforms)\n",
    "plt.xlim(2008,2016)\n",
    "plt.xlabel('Год выпуска')\n",
    "plt.ylabel('Продажи, млн')\n",
    "plt.title('Суммарные продажи по платформам');"
   ]
  },
  {
   "cell_type": "markdown",
   "metadata": {},
   "source": [
    "По графику видно, что лидирует по продажам PS4, чуть меньше XOne. Это связано с их выходом в 2013г. Также видно что PC после спада немного растет. Думаю, что это связано с выходом каких-то популярных и долгожданных игр, а также существенным прорывом в графике.\n",
    "На такие консоли как 3DS, WiiU, PS3, X360, Wii, PSV падают продажи, а PSP вообще в 2015г. прекратили продавать."
   ]
  },
  {
   "cell_type": "markdown",
   "metadata": {},
   "source": [
    "#### 3.4 Постройте график «ящик с усами» по глобальным продажам игр в разбивке по платформам."
   ]
  },
  {
   "cell_type": "markdown",
   "metadata": {},
   "source": [
    "Из предыдущего анализа мы получили график по 10 платформам. Из них PS4 и XOne набирают популярность, PC идет без скачков, PSP в 2015г. ушла с рынка. PS3 и X360 предлагаю исключить, т.к. это уже предыдущие модели. Wii тоже исключаем, т.к. продажи с 2015 по 2016г. приближаются к нулю, я сомневаюсь, что будет скачок. Таким образом, остаются у нас 6 платформ: PS4, 3DS, XOne, WiiU, PC, PSV."
   ]
  },
  {
   "cell_type": "code",
   "execution_count": 95,
   "metadata": {},
   "outputs": [
    {
     "data": {
      "image/png": "[encoded data removed]",
      "text/plain": [
       "<Figure size 432x288 with 1 Axes>"
      ]
     },
     "metadata": {
      "needs_background": "light"
     },
     "output_type": "display_data"
    }
   ],
   "source": [
    "# Соберем в переменную top6_platform датафрейм с выбранными платформами и актуальным периодом продаж\n",
    "top6_platform = games[\n",
    "    ((games['platform']=='PS4') |\n",
    "    (games['platform']=='3DS') |\n",
    "    (games['platform']=='XOne') |\n",
    "    (games['platform']=='WiiU') |\n",
    "    (games['platform']=='PC') |\n",
    "    (games['platform']=='PSV')) &\n",
    "    (games['year_of_release']>=2012)\n",
    "][['platform', 'total_sales']]\n",
    "\n",
    "# отсортируем платформы по средним продажам\n",
    "order = top6_platform.groupby('platform')['total_sales'].agg('mean').sort_values(ascending=False).index\n",
    "\n",
    "# построим ящики с усами для каждой платформы без выбросов\n",
    "sns.boxplot(\n",
    "    x=top6_platform['platform'], \n",
    "    y=top6_platform['total_sales'], \n",
    "    order = order, \n",
    "    showfliers=False, \n",
    "    showmeans=True, \n",
    "    meanline=True,\n",
    "    palette = 'viridis'\n",
    ")\n",
    "plt.grid(True)\n",
    "plt.xlabel('Платформа')\n",
    "plt.ylabel('Суммарные продажи');\n",
    "plt.show()"
   ]
  },
  {
   "cell_type": "markdown",
   "metadata": {},
   "source": [
    "По графику видно, что продажи PS4 и XOne практически одинаковы. Это можно объяснить тем, что выход данных консолей состоялся одновременно, чаще всего на них выходят одинаковые игры. В принципе, в индустрии игровых консолей Sony PS и Microsoft XBox - это два гиганта, постоянно конкурирующих между собой. "
   ]
  },
  {
   "cell_type": "code",
   "execution_count": 96,
   "metadata": {},
   "outputs": [
    {
     "data": {
      "text/plain": [
       "Text(0, 0.5, 'Суммарные продажи')"
      ]
     },
     "execution_count": 96,
     "metadata": {},
     "output_type": "execute_result"
    },
    {
     "data": {
      "image/png": "[encoded data removed]",
      "text/plain": [
       "<Figure size 432x288 with 1 Axes>"
      ]
     },
     "metadata": {
      "needs_background": "light"
     },
     "output_type": "display_data"
    }
   ],
   "source": [
    "# построим ящики с усами для каждой платформы с выбросами\n",
    "sns.boxplot(\n",
    "    x=top6_platform['platform'], \n",
    "    y=top6_platform['total_sales'], \n",
    "    order = order, \n",
    "    showfliers=True, \n",
    "    showmeans=True, \n",
    "    meanline=True,\n",
    "    palette = 'viridis'\n",
    ")\n",
    "plt.grid(True)\n",
    "plt.xlabel('Платформа')\n",
    "plt.ylabel('Суммарные продажи')"
   ]
  },
  {
   "cell_type": "markdown",
   "metadata": {},
   "source": [
    "Данный график показывает, что в принципе, разброс по выручке на PS4 и XOne примерно одинаковый, а вот выбросов у PS4 большое."
   ]
  },
  {
   "cell_type": "markdown",
   "metadata": {},
   "source": [
    "Выпускается много игр, среди них есть доля провальных. Но их окупают самые популярные игры."
   ]
  },
  {
   "cell_type": "markdown",
   "metadata": {},
   "source": [
    "#### 3.5 Посмотрите, как влияют на продажи внутри одной популярной платформы отзывы пользователей и критиков. Постройте диаграмму рассеяния и посчитайте корреляцию между отзывами и продажами."
   ]
  },
  {
   "cell_type": "markdown",
   "metadata": {},
   "source": [
    "Посмотрим параметры распределений по платформам. "
   ]
  },
  {
   "cell_type": "code",
   "execution_count": 97,
   "metadata": {},
   "outputs": [
    {
     "data": {
      "text/html": [
       "<div>\n",
       "<style scoped>\n",
       "    .dataframe tbody tr th:only-of-type {\n",
       "        vertical-align: middle;\n",
       "    }\n",
       "\n",
       "    .dataframe tbody tr th {\n",
       "        vertical-align: top;\n",
       "    }\n",
       "\n",
       "    .dataframe thead tr th {\n",
       "        text-align: left;\n",
       "    }\n",
       "\n",
       "    .dataframe thead tr:last-of-type th {\n",
       "        text-align: right;\n",
       "    }\n",
       "</style>\n",
       "<table border=\"1\" class=\"dataframe\">\n",
       "  <thead>\n",
       "    <tr>\n",
       "      <th></th>\n",
       "      <th colspan=\"8\" halign=\"left\">total_sales</th>\n",
       "    </tr>\n",
       "    <tr>\n",
       "      <th></th>\n",
       "      <th>count</th>\n",
       "      <th>mean</th>\n",
       "      <th>std</th>\n",
       "      <th>min</th>\n",
       "      <th>25%</th>\n",
       "      <th>50%</th>\n",
       "      <th>75%</th>\n",
       "      <th>max</th>\n",
       "    </tr>\n",
       "    <tr>\n",
       "      <th>platform</th>\n",
       "      <th></th>\n",
       "      <th></th>\n",
       "      <th></th>\n",
       "      <th></th>\n",
       "      <th></th>\n",
       "      <th></th>\n",
       "      <th></th>\n",
       "      <th></th>\n",
       "    </tr>\n",
       "  </thead>\n",
       "  <tbody>\n",
       "    <tr>\n",
       "      <th>PS4</th>\n",
       "      <td>392.0</td>\n",
       "      <td>0.801378</td>\n",
       "      <td>1.609456</td>\n",
       "      <td>0.01</td>\n",
       "      <td>0.06</td>\n",
       "      <td>0.20</td>\n",
       "      <td>0.7300</td>\n",
       "      <td>14.63</td>\n",
       "    </tr>\n",
       "    <tr>\n",
       "      <th>XOne</th>\n",
       "      <td>247.0</td>\n",
       "      <td>0.645020</td>\n",
       "      <td>1.036139</td>\n",
       "      <td>0.01</td>\n",
       "      <td>0.06</td>\n",
       "      <td>0.22</td>\n",
       "      <td>0.6850</td>\n",
       "      <td>7.39</td>\n",
       "    </tr>\n",
       "    <tr>\n",
       "      <th>WiiU</th>\n",
       "      <td>147.0</td>\n",
       "      <td>0.559116</td>\n",
       "      <td>1.058836</td>\n",
       "      <td>0.01</td>\n",
       "      <td>0.08</td>\n",
       "      <td>0.22</td>\n",
       "      <td>0.5250</td>\n",
       "      <td>7.09</td>\n",
       "    </tr>\n",
       "    <tr>\n",
       "      <th>3DS</th>\n",
       "      <td>396.0</td>\n",
       "      <td>0.491439</td>\n",
       "      <td>1.387161</td>\n",
       "      <td>0.01</td>\n",
       "      <td>0.04</td>\n",
       "      <td>0.11</td>\n",
       "      <td>0.3125</td>\n",
       "      <td>14.60</td>\n",
       "    </tr>\n",
       "    <tr>\n",
       "      <th>PC</th>\n",
       "      <td>250.0</td>\n",
       "      <td>0.250600</td>\n",
       "      <td>0.494640</td>\n",
       "      <td>0.01</td>\n",
       "      <td>0.03</td>\n",
       "      <td>0.08</td>\n",
       "      <td>0.2400</td>\n",
       "      <td>5.14</td>\n",
       "    </tr>\n",
       "    <tr>\n",
       "      <th>PSV</th>\n",
       "      <td>411.0</td>\n",
       "      <td>0.119659</td>\n",
       "      <td>0.203011</td>\n",
       "      <td>0.01</td>\n",
       "      <td>0.02</td>\n",
       "      <td>0.05</td>\n",
       "      <td>0.1200</td>\n",
       "      <td>1.96</td>\n",
       "    </tr>\n",
       "  </tbody>\n",
       "</table>\n",
       "</div>"
      ],
      "text/plain": [
       "         total_sales                                                     \n",
       "               count      mean       std   min   25%   50%     75%    max\n",
       "platform                                                                 \n",
       "PS4            392.0  0.801378  1.609456  0.01  0.06  0.20  0.7300  14.63\n",
       "XOne           247.0  0.645020  1.036139  0.01  0.06  0.22  0.6850   7.39\n",
       "WiiU           147.0  0.559116  1.058836  0.01  0.08  0.22  0.5250   7.09\n",
       "3DS            396.0  0.491439  1.387161  0.01  0.04  0.11  0.3125  14.60\n",
       "PC             250.0  0.250600  0.494640  0.01  0.03  0.08  0.2400   5.14\n",
       "PSV            411.0  0.119659  0.203011  0.01  0.02  0.05  0.1200   1.96"
      ]
     },
     "execution_count": 97,
     "metadata": {},
     "output_type": "execute_result"
    }
   ],
   "source": [
    "top6_platform.groupby('platform').describe().sort_values(by=('total_sales', 'mean'),ascending=False)"
   ]
  },
  {
   "cell_type": "markdown",
   "metadata": {},
   "source": [
    "Мы видим, что среднее значение сильно отличается от медианного."
   ]
  },
  {
   "cell_type": "markdown",
   "metadata": {},
   "source": [
    "Посмотрим, как влияют на продажи внутри одной популярной платформы отзывы пользователей и критиков. Постройте диаграмму рассеяния и посчитайте корреляцию между отзывами и продажами. Сформулируйте выводы."
   ]
  },
  {
   "cell_type": "markdown",
   "metadata": {},
   "source": [
    "Выберем платформу PS4 и построим граффик рассеивания по отзывам критиков."
   ]
  },
  {
   "cell_type": "code",
   "execution_count": 98,
   "metadata": {
    "scrolled": true
   },
   "outputs": [
    {
     "data": {
      "text/plain": [
       "<AxesSubplot:xlabel='critic_score', ylabel='total_sales'>"
      ]
     },
     "execution_count": 98,
     "metadata": {},
     "output_type": "execute_result"
    },
    {
     "data": {
      "image/png": "[encoded data removed]",
      "text/plain": [
       "<Figure size 720x432 with 1 Axes>"
      ]
     },
     "metadata": {
      "needs_background": "light"
     },
     "output_type": "display_data"
    }
   ],
   "source": [
    "games_ps4 = games[(games['platform'] == 'PS4') & (games['critic_score'] > 0)].copy()\n",
    "games_ps4.plot(kind='scatter', x='critic_score', y='total_sales', ec='green', figsize=(10,6))"
   ]
  },
  {
   "cell_type": "markdown",
   "metadata": {},
   "source": [
    "Зависимости кол-ва продаж от оценки критиков не наблюдаю."
   ]
  },
  {
   "cell_type": "markdown",
   "metadata": {},
   "source": [
    "Теперь построим граффик рассеивания по отзывам пользователей."
   ]
  },
  {
   "cell_type": "code",
   "execution_count": 99,
   "metadata": {},
   "outputs": [
    {
     "data": {
      "text/plain": [
       "-0.031957110204556376"
      ]
     },
     "execution_count": 99,
     "metadata": {},
     "output_type": "execute_result"
    },
    {
     "data": {
      "image/png": "[encoded data removed]",
      "text/plain": [
       "<Figure size 720x432 with 1 Axes>"
      ]
     },
     "metadata": {
      "needs_background": "light"
     },
     "output_type": "display_data"
    }
   ],
   "source": [
    "games_ps4 = games[(games['platform'] == 'PS4') & (games['user_score'] > 0)].copy()\n",
    "games_ps4.plot(kind='scatter', x='user_score', y='total_sales', ec='green', figsize=(10,6))\n",
    "\n",
    "games_ps4['total_sales'].corr(games_ps4['user_score'])"
   ]
  },
  {
   "cell_type": "markdown",
   "metadata": {},
   "source": [
    "Мы видим отрицательную корреляцию. Также зависимости кол-ва продаж от оценки пользователей не видно."
   ]
  },
  {
   "cell_type": "markdown",
   "metadata": {},
   "source": [
    "Посмотрим зависимости для XOne"
   ]
  },
  {
   "cell_type": "code",
   "execution_count": 100,
   "metadata": {
    "scrolled": false
   },
   "outputs": [
    {
     "data": {
      "text/plain": [
       "<AxesSubplot:xlabel='critic_score', ylabel='total_sales'>"
      ]
     },
     "execution_count": 100,
     "metadata": {},
     "output_type": "execute_result"
    },
    {
     "data": {
      "image/png": "[encoded data removed]",
      "text/plain": [
       "<Figure size 720x432 with 1 Axes>"
      ]
     },
     "metadata": {
      "needs_background": "light"
     },
     "output_type": "display_data"
    }
   ],
   "source": [
    "games_xone = games[(games['platform'] == 'XOne') & (games['critic_score'] > 0)].copy()\n",
    "games_xone.plot(kind='scatter', x='critic_score', y='total_sales', ec='green', figsize=(10,6))"
   ]
  },
  {
   "cell_type": "markdown",
   "metadata": {},
   "source": [
    "Здесь я тоже не вижу зависимости кол-ва продаж от рейтинга критиков."
   ]
  },
  {
   "cell_type": "code",
   "execution_count": 101,
   "metadata": {
    "scrolled": false
   },
   "outputs": [
    {
     "data": {
      "text/plain": [
       "-0.06892505328279412"
      ]
     },
     "execution_count": 101,
     "metadata": {},
     "output_type": "execute_result"
    },
    {
     "data": {
      "image/png": "[encoded data removed]",
      "text/plain": [
       "<Figure size 720x432 with 1 Axes>"
      ]
     },
     "metadata": {
      "needs_background": "light"
     },
     "output_type": "display_data"
    }
   ],
   "source": [
    "games_xone = games[(games['platform'] == 'XOne') & (games['user_score'] > 0)].copy()\n",
    "games_xone.plot(kind='scatter', x='user_score', y='total_sales', ec='green', figsize=(10,6))\n",
    "\n",
    "games_xone['total_sales'].corr(games_xone['user_score'])"
   ]
  },
  {
   "cell_type": "markdown",
   "metadata": {},
   "source": [
    "Тут аналогично, кореляция тоже отрицательная, как в случае с PS4."
   ]
  },
  {
   "cell_type": "markdown",
   "metadata": {},
   "source": [
    "#### 3.6 Посмотрите на общее распределение игр по жанрам. Что можно сказать о самых прибыльных жанрах? Выделяются ли жанры с высокими и низкими продажами?"
   ]
  },
  {
   "cell_type": "code",
   "execution_count": 102,
   "metadata": {},
   "outputs": [
    {
     "data": {
      "text/plain": [
       "array(['Sports', 'Racing', 'Role-Playing', 'Platform', 'Misc',\n",
       "       'Simulation', 'Action', 'Puzzle', 'Shooter', 'Fighting',\n",
       "       'Adventure', 'Strategy'], dtype=object)"
      ]
     },
     "execution_count": 102,
     "metadata": {},
     "output_type": "execute_result"
    }
   ],
   "source": [
    "games['genre'].unique() #посмотрим, какие жанры есть"
   ]
  },
  {
   "cell_type": "code",
   "execution_count": 105,
   "metadata": {},
   "outputs": [],
   "source": [
    "games_by_genre = games.pivot_table(index='genre', values='name', aggfunc='count') # сделаем сводную таблицу с распределением колличества игр по жанрам"
   ]
  },
  {
   "cell_type": "code",
   "execution_count": 106,
   "metadata": {},
   "outputs": [
    {
     "data": {
      "text/plain": [
       "<function matplotlib.pyplot.show(close=None, block=None)>"
      ]
     },
     "execution_count": 106,
     "metadata": {},
     "output_type": "execute_result"
    },
    {
     "data": {
      "image/png": "[encoded data removed]",
      "text/plain": [
       "<Figure size 1800x1080 with 1 Axes>"
      ]
     },
     "metadata": {
      "needs_background": "light"
     },
     "output_type": "display_data"
    }
   ],
   "source": [
    "plt.figure(figsize=(25,15))\n",
    "sns.barplot(x=games_by_genre.index, y='name', data=games_by_genre, palette = 'coolwarm')\n",
    "plt.title('График колличества релизов игр по жанрам', fontsize = 20)\n",
    "plt.xlabel(\"Жанр\", fontsize = 20)\n",
    "plt.ylabel(\"Колличество игр\", fontsize = 20)\n",
    "plt.show"
   ]
  },
  {
   "cell_type": "markdown",
   "metadata": {},
   "source": [
    "Самые прибыльные жанры - Action, Sports и Misc. Жанры с низкими продажами: Puzzle и Strategy. \n",
    "P.S. теперь поменялись данные\n",
    "    "
   ]
  },
  {
   "cell_type": "code",
   "execution_count": 107,
   "metadata": {
    "scrolled": true
   },
   "outputs": [
    {
     "data": {
      "text/html": [
       "<div>\n",
       "<style scoped>\n",
       "    .dataframe tbody tr th:only-of-type {\n",
       "        vertical-align: middle;\n",
       "    }\n",
       "\n",
       "    .dataframe tbody tr th {\n",
       "        vertical-align: top;\n",
       "    }\n",
       "\n",
       "    .dataframe thead th {\n",
       "        text-align: right;\n",
       "    }\n",
       "</style>\n",
       "<table border=\"1\" class=\"dataframe\">\n",
       "  <thead>\n",
       "    <tr style=\"text-align: right;\">\n",
       "      <th></th>\n",
       "      <th>total_sales</th>\n",
       "    </tr>\n",
       "    <tr>\n",
       "      <th>genre</th>\n",
       "      <th></th>\n",
       "    </tr>\n",
       "  </thead>\n",
       "  <tbody>\n",
       "    <tr>\n",
       "      <th>Platform</th>\n",
       "      <td>0.240</td>\n",
       "    </tr>\n",
       "    <tr>\n",
       "      <th>Shooter</th>\n",
       "      <td>0.220</td>\n",
       "    </tr>\n",
       "    <tr>\n",
       "      <th>Sports</th>\n",
       "      <td>0.220</td>\n",
       "    </tr>\n",
       "    <tr>\n",
       "      <th>Fighting</th>\n",
       "      <td>0.200</td>\n",
       "    </tr>\n",
       "    <tr>\n",
       "      <th>Action</th>\n",
       "      <td>0.180</td>\n",
       "    </tr>\n",
       "    <tr>\n",
       "      <th>Racing</th>\n",
       "      <td>0.180</td>\n",
       "    </tr>\n",
       "    <tr>\n",
       "      <th>Role-Playing</th>\n",
       "      <td>0.180</td>\n",
       "    </tr>\n",
       "    <tr>\n",
       "      <th>Misc</th>\n",
       "      <td>0.160</td>\n",
       "    </tr>\n",
       "    <tr>\n",
       "      <th>Simulation</th>\n",
       "      <td>0.150</td>\n",
       "    </tr>\n",
       "    <tr>\n",
       "      <th>Strategy</th>\n",
       "      <td>0.095</td>\n",
       "    </tr>\n",
       "    <tr>\n",
       "      <th>Puzzle</th>\n",
       "      <td>0.090</td>\n",
       "    </tr>\n",
       "    <tr>\n",
       "      <th>Adventure</th>\n",
       "      <td>0.050</td>\n",
       "    </tr>\n",
       "  </tbody>\n",
       "</table>\n",
       "</div>"
      ],
      "text/plain": [
       "              total_sales\n",
       "genre                    \n",
       "Platform            0.240\n",
       "Shooter             0.220\n",
       "Sports              0.220\n",
       "Fighting            0.200\n",
       "Action              0.180\n",
       "Racing              0.180\n",
       "Role-Playing        0.180\n",
       "Misc                0.160\n",
       "Simulation          0.150\n",
       "Strategy            0.095\n",
       "Puzzle              0.090\n",
       "Adventure           0.050"
      ]
     },
     "execution_count": 107,
     "metadata": {},
     "output_type": "execute_result"
    }
   ],
   "source": [
    "games.groupby('genre')[['total_sales']].median().sort_values('total_sales', ascending=False)"
   ]
  },
  {
   "cell_type": "markdown",
   "metadata": {},
   "source": [
    "По медиане продаж видно, что наиболее популярные жанры: Platform, Shooter и Sports (у последних 2х одинаковое значение). Как мы видим, с данными из предыдущего графика совпал только жанр Sports."
   ]
  },
  {
   "cell_type": "markdown",
   "metadata": {},
   "source": [
    "### 4. Составьте портрет пользователя каждого региона"
   ]
  },
  {
   "cell_type": "markdown",
   "metadata": {},
   "source": [
    "#### 4.1 Определите для пользователя каждого региона (NA, EU, JP) самые популярные платформы (топ-5). Опишите различия в долях продаж."
   ]
  },
  {
   "cell_type": "markdown",
   "metadata": {},
   "source": [
    "Топ-5 платформ в NA, EU, JP"
   ]
  },
  {
   "cell_type": "code",
   "execution_count": 108,
   "metadata": {},
   "outputs": [
    {
     "data": {
      "text/plain": [
       "<AxesSubplot:title={'center':'Популярность платформ в Японии'}, ylabel='jp_sales'>"
      ]
     },
     "execution_count": 108,
     "metadata": {},
     "output_type": "execute_result"
    },
    {
     "data": {
      "image/png": "[encoded data removed]",
      "text/plain": [
       "<Figure size 432x288 with 1 Axes>"
      ]
     },
     "metadata": {},
     "output_type": "display_data"
    },
    {
     "data": {
      "image/png": "[encoded data removed]",
      "text/plain": [
       "<Figure size 432x288 with 1 Axes>"
      ]
     },
     "metadata": {},
     "output_type": "display_data"
    },
    {
     "data": {
      "image/png": "[encoded data removed]",
      "text/plain": [
       "<Figure size 432x288 with 1 Axes>"
      ]
     },
     "metadata": {},
     "output_type": "display_data"
    }
   ],
   "source": [
    "games.groupby(by='platform').agg({'na_sales':'sum'}).sort_values(by='na_sales', ascending=False).head(5).plot(kind='pie', y=\"na_sales\", autopct='%1.0f%%', legend=False, title = \"Популярность платформ в США\")\n",
    "games.groupby(by='platform').agg({'eu_sales':'sum'}).sort_values(by='eu_sales', ascending=False).head(5).plot(kind='pie', y=\"eu_sales\", autopct='%1.0f%%', legend=False, title = \"Популярность платформ в Европе\")\n",
    "games.groupby(by='platform').agg({'jp_sales':'sum'}).sort_values(by='jp_sales', ascending=False).head(5).plot(kind='pie', y=\"jp_sales\", autopct='%1.0f%%', legend=False, title = \"Популярность платформ в Японии\")"
   ]
  },
  {
   "cell_type": "markdown",
   "metadata": {},
   "source": [
    "#### 4.2 Определите для пользователя каждого региона (NA, EU, JP) самые популярные жанры (топ-5). Поясните разницу."
   ]
  },
  {
   "cell_type": "markdown",
   "metadata": {},
   "source": [
    "Топ-5 жанров в NA, EU, JP"
   ]
  },
  {
   "cell_type": "code",
   "execution_count": 109,
   "metadata": {},
   "outputs": [
    {
     "data": {
      "text/plain": [
       "<AxesSubplot:title={'center':'Популярность жанров в Японии'}, xlabel='genre'>"
      ]
     },
     "execution_count": 109,
     "metadata": {},
     "output_type": "execute_result"
    },
    {
     "data": {
      "image/png": "[encoded data removed]",
      "text/plain": [
       "<Figure size 432x288 with 1 Axes>"
      ]
     },
     "metadata": {
      "needs_background": "light"
     },
     "output_type": "display_data"
    },
    {
     "data": {
      "image/png": "[encoded data removed]",
      "text/plain": [
       "<Figure size 432x288 with 1 Axes>"
      ]
     },
     "metadata": {
      "needs_background": "light"
     },
     "output_type": "display_data"
    },
    {
     "data": {
      "image/png": "[encoded data removed]",
      "text/plain": [
       "<Figure size 432x288 with 1 Axes>"
      ]
     },
     "metadata": {
      "needs_background": "light"
     },
     "output_type": "display_data"
    }
   ],
   "source": [
    "games.groupby(by='genre').agg({'na_sales':'sum'}).sort_values(by='na_sales', ascending=False).head(5).plot(kind='bar', color = (0.3,0.1,0.4,0.6), title = \"Популярность жанров в США\")\n",
    "games.groupby(by='genre').agg({'eu_sales':'sum'}).sort_values(by='eu_sales', ascending=False).head(5).plot(kind='bar', color = (0.3,0.5,0.4,0.6), title = \"Популярность жанров в Европе\")\n",
    "games.groupby(by='genre').agg({'jp_sales':'sum'}).sort_values(by='jp_sales', ascending=False).head(5).plot(kind='bar', color = (0.3,0.9,0.4,0.6), title = \"Популярность жанров в Японии\")"
   ]
  },
  {
   "cell_type": "markdown",
   "metadata": {},
   "source": [
    "Самый популярный жанр в США и Европе Action, а в Японии Role-Playing."
   ]
  },
  {
   "cell_type": "markdown",
   "metadata": {},
   "source": [
    "#### 4.3 Определите для пользователя каждого региона (NA, EU, JP) влияет ли рейтинг ESRB на продажи в отдельном регионе?"
   ]
  },
  {
   "cell_type": "markdown",
   "metadata": {},
   "source": [
    "Проверим, влияет ли рейтинг ESRB на продажи в отдельном регионе."
   ]
  },
  {
   "cell_type": "code",
   "execution_count": 110,
   "metadata": {},
   "outputs": [
    {
     "data": {
      "text/plain": [
       "<AxesSubplot:title={'center':'Рейитнг игр в Японии'}, ylabel='jp_sales'>"
      ]
     },
     "execution_count": 110,
     "metadata": {},
     "output_type": "execute_result"
    },
    {
     "data": {
      "image/png": "[encoded data removed]",
      "text/plain": [
       "<Figure size 432x288 with 1 Axes>"
      ]
     },
     "metadata": {},
     "output_type": "display_data"
    },
    {
     "data": {
      "image/png": "[encoded data removed]",
      "text/plain": [
       "<Figure size 432x288 with 1 Axes>"
      ]
     },
     "metadata": {},
     "output_type": "display_data"
    },
    {
     "data": {
      "image/png": "[encoded data removed]",
      "text/plain": [
       "<Figure size 432x288 with 1 Axes>"
      ]
     },
     "metadata": {},
     "output_type": "display_data"
    }
   ],
   "source": [
    "games.groupby(by='rating').agg({'na_sales':'sum'}).sort_values(by='na_sales', ascending=False).head(5).plot(kind='pie', y=\"na_sales\", autopct='%1.0f%%', legend=False, title = \"Рейитнг игр в США\")\n",
    "games.groupby(by='rating').agg({'eu_sales':'sum'}).sort_values(by='eu_sales', ascending=False).head(5).plot(kind='pie', y=\"eu_sales\", autopct='%1.0f%%', legend=False, title = \"Рейитнг игр в Европе\")\n",
    "games.groupby(by='rating').agg({'jp_sales':'sum'}).sort_values(by='jp_sales', ascending=False).head(5).plot(kind='pie', y=\"jp_sales\", autopct='%1.0f%%', legend=False, title = \"Рейитнг игр в Японии\")"
   ]
  },
  {
   "cell_type": "markdown",
   "metadata": {},
   "source": [
    "Мы видим, что во всех 3х континентах чаще всего играют в игры с рейтингом \"Е\", что означает Everyone - для всех. Таким образом, мы можем составить портрет типичного для каждого континента игрока:\n",
    "- В США это любого возраста, играющий в экшэны на XBox-360\n",
    "- В Европе - также любого возраста, играющий в экшэны на PS2\n",
    "- В Японии - любого возраста, играющий в игры жанра Role-Playing на платформе DS. Думаю, что рейтинг ESRB влияет на продажи игр."
   ]
  },
  {
   "cell_type": "markdown",
   "metadata": {},
   "source": [
    "### 5. Проверьте гипотезы\n",
    "\n",
    "#### 5.1 Средние пользовательские рейтинги платформ Xbox One и PC одинаковые;"
   ]
  },
  {
   "cell_type": "markdown",
   "metadata": {},
   "source": [
    "Проверим гипотезу \"Средние пользовательские рейтинги платформ Xbox One и PC одинаковые\""
   ]
  },
  {
   "cell_type": "markdown",
   "metadata": {},
   "source": [
    "- Нулевая гипотеза H0: средние пользовательские рейтинги платформ XOne и PC одинаковые\n",
    "- Альтернативная гипотеза H1: средние пользовательские рейтинги платформ XOne и PC различаются\n",
    "\n",
    "Возьмем α=5%, так как у нас очень много пропусков данных, есть риск ошибочно отвергнуть гипотизу."
   ]
  },
  {
   "cell_type": "code",
   "execution_count": 111,
   "metadata": {},
   "outputs": [
    {
     "name": "stdout",
     "output_type": "stream",
     "text": [
      "p-значение: 9.379956219356061e-06\n",
      "Отвергаем нулевую гипотезу\n"
     ]
    }
   ],
   "source": [
    "mean_rating_xbox = games[(games['platform'] == 'XOne') & (games['user_score']>0)]['user_score']\n",
    "mean_rating_pc = games[(games['platform'] == 'PC') & (games['user_score']>0)]['user_score']\n",
    "\n",
    "results = st.ttest_ind(\n",
    "    mean_rating_xbox,\n",
    "    mean_rating_pc\n",
    ")\n",
    "\n",
    "alpha = 0.05\n",
    "\n",
    "print('p-значение:', results.pvalue)\n",
    "\n",
    "if (results.pvalue < alpha):\n",
    "    print(\"Отвергаем нулевую гипотезу\")\n",
    "else:\n",
    "    print(\"Не получилось отвергнуть нулевую гипотезу\")"
   ]
  },
  {
   "cell_type": "markdown",
   "metadata": {},
   "source": [
    "Верно утверждение, что средние пользовательские рейтинги платформ XOne и PC различаются"
   ]
  },
  {
   "cell_type": "markdown",
   "metadata": {},
   "source": [
    "#### 5.2 Средние пользовательские рейтинги жанров Action (англ. «действие», экшен-игры) и Sports (англ. «спортивные соревнования») разные."
   ]
  },
  {
   "cell_type": "markdown",
   "metadata": {},
   "source": [
    "Проверим гипотезу \"Средние пользовательские рейтинги жанров Action и Sports разные\""
   ]
  },
  {
   "cell_type": "markdown",
   "metadata": {},
   "source": [
    "- Нулевая гипотеза H0: средние пользовательские рейтинги жанров Action и Sports разные\n",
    "- Альтернативная гипотеза H1: средние пользовательские рейтинги жанров Action и Sports одинаковые\n",
    "\n",
    "Возьмем α=5%, так как у нас очень много пропусков данных, есть риск ошибочно отвергнуть гипотизу."
   ]
  },
  {
   "cell_type": "code",
   "execution_count": 112,
   "metadata": {},
   "outputs": [
    {
     "name": "stdout",
     "output_type": "stream",
     "text": [
      "p-значение: 0.06480928064420527\n",
      "Не получилось отвергнуть нулевую гипотезу\n"
     ]
    }
   ],
   "source": [
    "mean_rating_action = games[(games['genre'] == 'Action') & (games['user_score']>0)]['user_score']\n",
    "mean_rating_sports = games[(games['genre'] == 'Sports') & (games['user_score']>0)]['user_score']\n",
    "\n",
    "results = st.ttest_ind(\n",
    "    mean_rating_action,\n",
    "    mean_rating_sports\n",
    ")\n",
    "\n",
    "alpha = 0.05\n",
    "\n",
    "print('p-значение:', results.pvalue)\n",
    "\n",
    "if (results.pvalue < alpha):\n",
    "    print(\"Отвергаем нулевую гипотезу\")\n",
    "else:\n",
    "    print(\"Не получилось отвергнуть нулевую гипотезу\")"
   ]
  },
  {
   "cell_type": "markdown",
   "metadata": {},
   "source": [
    "Верно утверждение, что средние пользовательские рейтинги жанров Action и Sports разные."
   ]
  },
  {
   "cell_type": "markdown",
   "metadata": {},
   "source": [
    "### 6. Напишите общий вывод"
   ]
  },
  {
   "cell_type": "markdown",
   "metadata": {},
   "source": [
    "В ходе данного анализа было, проверено много различных данных, для формулирования выводов, какие факторы влияют на выбор определенной платформы среди пользователей. В полученном датасете много пропущенных значений. Учитывая. что почти 50% пропущенных данных в рейтингах, мы не можем их удалить или заменить, т.к. это сильно исказить итоговый результат. \n",
    "Тем не менее, из полученной информации мы выяснили, что средняя \"продолжительность жизни\" игровых платформ - 10 лет. В основном, конкуренция проходит между двумя гигантами: Sony PlayStation и Microsoft XBox. Поэтому, чтобы построить прогноз на 2017г., нужно обратить внимание на PS4 и XBox One, которые на тот момент только вышли и набирают популярность.\n",
    "Так же был составлен портрет типичного игрока для определенного континента. Это игрок любого возраста, В США преимущественно играющий в экшэны на XBox-360, в Европе - играющий в экшэны на PS2. В Японии - игрок любого возраста, играющий в игры жанра Role-Playing на платформе DS.\n",
    "Проверили две гипотезы и получили ответ, что средние пользовательские рейтинги платформ XOne и PC различаются и средние пользовательские рейтинги жанров Action и Sports разные."
   ]
  }
 ],
 "metadata": {
  "ExecuteTimeLog": [
   {
    "duration": 1847,
    "start_time": "2022-11-14T08:22:13.116Z"
   },
   {
    "duration": 112,
    "start_time": "2022-11-14T08:22:58.992Z"
   },
   {
    "duration": 72,
    "start_time": "2022-11-14T08:23:00.931Z"
   },
   {
    "duration": 22,
    "start_time": "2022-11-14T08:23:26.323Z"
   },
   {
    "duration": 16,
    "start_time": "2022-11-14T08:24:06.373Z"
   },
   {
    "duration": 127,
    "start_time": "2022-11-14T08:24:48.721Z"
   },
   {
    "duration": 64,
    "start_time": "2022-11-14T08:24:56.429Z"
   },
   {
    "duration": 14,
    "start_time": "2022-11-14T08:29:01.371Z"
   },
   {
    "duration": 24,
    "start_time": "2022-11-14T08:29:41.749Z"
   },
   {
    "duration": 11,
    "start_time": "2022-11-14T08:29:53.529Z"
   },
   {
    "duration": 10,
    "start_time": "2022-11-14T08:32:17.386Z"
   },
   {
    "duration": 10,
    "start_time": "2022-11-14T08:32:30.418Z"
   },
   {
    "duration": 14,
    "start_time": "2022-11-14T08:33:46.170Z"
   },
   {
    "duration": 11,
    "start_time": "2022-11-14T08:33:57.122Z"
   },
   {
    "duration": 11,
    "start_time": "2022-11-14T08:34:03.967Z"
   },
   {
    "duration": 4,
    "start_time": "2022-11-14T08:35:09.167Z"
   },
   {
    "duration": 18,
    "start_time": "2022-11-14T08:35:23.861Z"
   },
   {
    "duration": 21,
    "start_time": "2022-11-14T08:36:38.094Z"
   },
   {
    "duration": 33,
    "start_time": "2022-11-14T08:42:17.228Z"
   },
   {
    "duration": 18,
    "start_time": "2022-11-14T08:42:23.864Z"
   },
   {
    "duration": 25,
    "start_time": "2022-11-14T08:42:49.170Z"
   },
   {
    "duration": 17,
    "start_time": "2022-11-14T08:42:52.919Z"
   },
   {
    "duration": 9,
    "start_time": "2022-11-14T08:48:13.786Z"
   },
   {
    "duration": 16,
    "start_time": "2022-11-14T08:48:21.781Z"
   },
   {
    "duration": 18,
    "start_time": "2022-11-14T08:50:24.587Z"
   },
   {
    "duration": 6,
    "start_time": "2022-11-14T08:50:29.871Z"
   },
   {
    "duration": 316,
    "start_time": "2022-11-14T08:50:35.879Z"
   },
   {
    "duration": 18,
    "start_time": "2022-11-14T09:05:33.265Z"
   },
   {
    "duration": 315,
    "start_time": "2022-11-14T09:05:36.170Z"
   },
   {
    "duration": 8,
    "start_time": "2022-11-14T09:29:55.268Z"
   },
   {
    "duration": 11,
    "start_time": "2022-11-14T09:33:02.321Z"
   },
   {
    "duration": 16,
    "start_time": "2022-11-14T09:33:11.917Z"
   },
   {
    "duration": 5,
    "start_time": "2022-11-14T09:33:46.189Z"
   },
   {
    "duration": 16,
    "start_time": "2022-11-14T09:34:04.981Z"
   },
   {
    "duration": 20,
    "start_time": "2022-11-14T09:34:20.679Z"
   },
   {
    "duration": 10,
    "start_time": "2022-11-14T09:35:59.236Z"
   },
   {
    "duration": 7,
    "start_time": "2022-11-14T09:36:11.707Z"
   },
   {
    "duration": 5,
    "start_time": "2022-11-14T09:36:29.060Z"
   },
   {
    "duration": 5,
    "start_time": "2022-11-14T09:36:44.960Z"
   },
   {
    "duration": 17,
    "start_time": "2022-11-14T09:57:35.558Z"
   },
   {
    "duration": 4,
    "start_time": "2022-11-14T09:58:39.866Z"
   },
   {
    "duration": 81,
    "start_time": "2022-11-14T09:58:51.593Z"
   },
   {
    "duration": 80,
    "start_time": "2022-11-14T10:02:26.436Z"
   },
   {
    "duration": 3,
    "start_time": "2022-11-14T10:02:28.878Z"
   },
   {
    "duration": 31,
    "start_time": "2022-11-14T10:02:39.214Z"
   },
   {
    "duration": 1209,
    "start_time": "2022-11-14T10:08:20.926Z"
   },
   {
    "duration": 9,
    "start_time": "2022-11-14T10:08:54.772Z"
   },
   {
    "duration": 16,
    "start_time": "2022-11-14T10:08:59.365Z"
   },
   {
    "duration": 14,
    "start_time": "2022-11-14T10:09:12.795Z"
   },
   {
    "duration": 1204,
    "start_time": "2022-11-14T10:10:18.808Z"
   },
   {
    "duration": 9,
    "start_time": "2022-11-14T10:10:34.164Z"
   },
   {
    "duration": 9,
    "start_time": "2022-11-14T10:15:38.248Z"
   },
   {
    "duration": 88,
    "start_time": "2022-11-14T10:15:47.394Z"
   },
   {
    "duration": 9,
    "start_time": "2022-11-14T10:16:05.712Z"
   },
   {
    "duration": 9,
    "start_time": "2022-11-14T10:16:10.897Z"
   },
   {
    "duration": 9,
    "start_time": "2022-11-14T10:23:17.375Z"
   },
   {
    "duration": 15,
    "start_time": "2022-11-14T10:31:14.586Z"
   },
   {
    "duration": 17,
    "start_time": "2022-11-14T10:31:40.103Z"
   },
   {
    "duration": 1372,
    "start_time": "2022-11-14T10:31:50.437Z"
   },
   {
    "duration": 62,
    "start_time": "2022-11-14T10:31:51.812Z"
   },
   {
    "duration": 18,
    "start_time": "2022-11-14T10:31:51.876Z"
   },
   {
    "duration": 22,
    "start_time": "2022-11-14T10:31:51.896Z"
   },
   {
    "duration": 3,
    "start_time": "2022-11-14T10:31:51.920Z"
   },
   {
    "duration": 60,
    "start_time": "2022-11-14T10:31:51.924Z"
   },
   {
    "duration": 69,
    "start_time": "2022-11-14T10:31:51.986Z"
   },
   {
    "duration": 11,
    "start_time": "2022-11-14T10:31:52.057Z"
   },
   {
    "duration": 16,
    "start_time": "2022-11-14T10:31:52.071Z"
   },
   {
    "duration": 20,
    "start_time": "2022-11-14T10:31:52.090Z"
   },
   {
    "duration": 18,
    "start_time": "2022-11-14T10:31:52.112Z"
   },
   {
    "duration": 9,
    "start_time": "2022-11-14T10:31:52.152Z"
   },
   {
    "duration": 21,
    "start_time": "2022-11-14T10:31:52.163Z"
   },
   {
    "duration": 12,
    "start_time": "2022-11-14T10:31:52.187Z"
   },
   {
    "duration": 10,
    "start_time": "2022-11-14T10:31:52.201Z"
   },
   {
    "duration": 46,
    "start_time": "2022-11-14T10:31:52.213Z"
   },
   {
    "duration": 134,
    "start_time": "2022-11-14T10:31:52.261Z"
   },
   {
    "duration": 3,
    "start_time": "2022-11-14T10:31:53.603Z"
   },
   {
    "duration": 53,
    "start_time": "2022-11-14T10:31:55.460Z"
   },
   {
    "duration": 17,
    "start_time": "2022-11-14T10:31:57.825Z"
   },
   {
    "duration": 29,
    "start_time": "2022-11-14T10:32:00.161Z"
   },
   {
    "duration": 6,
    "start_time": "2022-11-14T10:32:02.574Z"
   },
   {
    "duration": 17,
    "start_time": "2022-11-14T10:32:06.438Z"
   },
   {
    "duration": 9,
    "start_time": "2022-11-14T10:32:09.636Z"
   },
   {
    "duration": 5,
    "start_time": "2022-11-14T10:32:11.337Z"
   },
   {
    "duration": 17,
    "start_time": "2022-11-14T10:32:14.923Z"
   },
   {
    "duration": 29,
    "start_time": "2022-11-14T10:32:16.948Z"
   },
   {
    "duration": 8,
    "start_time": "2022-11-14T10:32:19.881Z"
   },
   {
    "duration": 8,
    "start_time": "2022-11-14T10:32:21.796Z"
   },
   {
    "duration": 12,
    "start_time": "2022-11-14T10:32:30.672Z"
   },
   {
    "duration": 11,
    "start_time": "2022-11-14T10:32:36.636Z"
   },
   {
    "duration": 15,
    "start_time": "2022-11-14T10:32:45.561Z"
   },
   {
    "duration": 25,
    "start_time": "2022-11-14T10:32:54.767Z"
   },
   {
    "duration": 23,
    "start_time": "2022-11-14T10:36:08.998Z"
   },
   {
    "duration": 29,
    "start_time": "2022-11-14T10:36:17.739Z"
   },
   {
    "duration": 20,
    "start_time": "2022-11-14T10:37:01.867Z"
   },
   {
    "duration": 26,
    "start_time": "2022-11-14T10:37:30.299Z"
   },
   {
    "duration": 18,
    "start_time": "2022-11-14T10:37:40.031Z"
   },
   {
    "duration": 17,
    "start_time": "2022-11-14T10:37:50.367Z"
   },
   {
    "duration": 20,
    "start_time": "2022-11-14T10:38:25.413Z"
   },
   {
    "duration": 36,
    "start_time": "2022-11-14T10:38:40.232Z"
   },
   {
    "duration": 14,
    "start_time": "2022-11-14T10:39:12.492Z"
   },
   {
    "duration": 24,
    "start_time": "2022-11-14T10:39:22.588Z"
   },
   {
    "duration": 16,
    "start_time": "2022-11-14T10:42:11.305Z"
   },
   {
    "duration": 139,
    "start_time": "2022-11-14T10:42:19.835Z"
   },
   {
    "duration": 8,
    "start_time": "2022-11-14T10:43:32.209Z"
   },
   {
    "duration": 89,
    "start_time": "2022-11-14T12:11:37.316Z"
   },
   {
    "duration": 85,
    "start_time": "2022-11-14T12:11:54.928Z"
   },
   {
    "duration": 24,
    "start_time": "2022-11-14T12:13:22.066Z"
   },
   {
    "duration": 19,
    "start_time": "2022-11-14T12:13:43.634Z"
   },
   {
    "duration": 6,
    "start_time": "2022-11-14T12:15:06.297Z"
   },
   {
    "duration": 27,
    "start_time": "2022-11-14T12:15:13.914Z"
   },
   {
    "duration": 19,
    "start_time": "2022-11-14T12:16:08.204Z"
   },
   {
    "duration": 11,
    "start_time": "2022-11-14T12:19:08.784Z"
   },
   {
    "duration": 6,
    "start_time": "2022-11-14T12:19:20.950Z"
   },
   {
    "duration": 2,
    "start_time": "2022-11-14T12:21:10.560Z"
   },
   {
    "duration": 1406,
    "start_time": "2022-11-14T12:21:19.008Z"
   },
   {
    "duration": 52,
    "start_time": "2022-11-14T12:21:20.416Z"
   },
   {
    "duration": 18,
    "start_time": "2022-11-14T12:21:20.470Z"
   },
   {
    "duration": 22,
    "start_time": "2022-11-14T12:21:20.490Z"
   },
   {
    "duration": 21,
    "start_time": "2022-11-14T12:21:20.515Z"
   },
   {
    "duration": 27,
    "start_time": "2022-11-14T12:21:20.538Z"
   },
   {
    "duration": 84,
    "start_time": "2022-11-14T12:21:20.567Z"
   },
   {
    "duration": 13,
    "start_time": "2022-11-14T12:21:20.653Z"
   },
   {
    "duration": 11,
    "start_time": "2022-11-14T12:21:20.668Z"
   },
   {
    "duration": 29,
    "start_time": "2022-11-14T12:21:20.681Z"
   },
   {
    "duration": 40,
    "start_time": "2022-11-14T12:21:20.713Z"
   },
   {
    "duration": 7,
    "start_time": "2022-11-14T12:21:20.755Z"
   },
   {
    "duration": 8,
    "start_time": "2022-11-14T12:21:20.765Z"
   },
   {
    "duration": 18,
    "start_time": "2022-11-14T12:21:20.776Z"
   },
   {
    "duration": 13,
    "start_time": "2022-11-14T12:21:20.796Z"
   },
   {
    "duration": 40,
    "start_time": "2022-11-14T12:21:20.812Z"
   },
   {
    "duration": 8,
    "start_time": "2022-11-14T12:21:20.855Z"
   },
   {
    "duration": 17,
    "start_time": "2022-11-14T12:21:20.865Z"
   },
   {
    "duration": 30,
    "start_time": "2022-11-14T12:21:20.885Z"
   },
   {
    "duration": 15,
    "start_time": "2022-11-14T12:21:20.917Z"
   },
   {
    "duration": 19,
    "start_time": "2022-11-14T12:21:20.934Z"
   },
   {
    "duration": 19,
    "start_time": "2022-11-14T12:21:20.955Z"
   },
   {
    "duration": 4,
    "start_time": "2022-11-14T12:21:24.595Z"
   },
   {
    "duration": 51,
    "start_time": "2022-11-14T12:21:25.542Z"
   },
   {
    "duration": 16,
    "start_time": "2022-11-14T12:21:26.141Z"
   },
   {
    "duration": 18,
    "start_time": "2022-11-14T12:21:26.626Z"
   },
   {
    "duration": 4,
    "start_time": "2022-11-14T12:21:27.649Z"
   },
   {
    "duration": 26,
    "start_time": "2022-11-14T12:21:28.169Z"
   },
   {
    "duration": 20,
    "start_time": "2022-11-14T12:21:28.616Z"
   },
   {
    "duration": 11,
    "start_time": "2022-11-14T12:21:29.694Z"
   },
   {
    "duration": 6,
    "start_time": "2022-11-14T12:21:30.206Z"
   },
   {
    "duration": 16,
    "start_time": "2022-11-14T12:21:30.719Z"
   },
   {
    "duration": 30,
    "start_time": "2022-11-14T12:21:31.275Z"
   },
   {
    "duration": 5,
    "start_time": "2022-11-14T12:21:31.952Z"
   },
   {
    "duration": 6,
    "start_time": "2022-11-14T12:21:33.068Z"
   },
   {
    "duration": 8,
    "start_time": "2022-11-14T12:21:38.402Z"
   },
   {
    "duration": 7,
    "start_time": "2022-11-14T12:21:41.234Z"
   },
   {
    "duration": 17,
    "start_time": "2022-11-14T12:21:42.887Z"
   },
   {
    "duration": 6,
    "start_time": "2022-11-14T12:21:45.696Z"
   },
   {
    "duration": 3,
    "start_time": "2022-11-14T12:21:47.912Z"
   },
   {
    "duration": 30,
    "start_time": "2022-11-14T12:21:49.694Z"
   },
   {
    "duration": 9,
    "start_time": "2022-11-14T12:21:51.390Z"
   },
   {
    "duration": 6,
    "start_time": "2022-11-14T12:22:05.940Z"
   },
   {
    "duration": 126,
    "start_time": "2022-11-14T12:23:54.803Z"
   },
   {
    "duration": 26,
    "start_time": "2022-11-14T12:24:08.880Z"
   },
   {
    "duration": 19,
    "start_time": "2022-11-14T12:24:26.228Z"
   },
   {
    "duration": 1603,
    "start_time": "2022-11-14T12:24:49.205Z"
   },
   {
    "duration": 339,
    "start_time": "2022-11-14T12:25:08.523Z"
   },
   {
    "duration": 1264,
    "start_time": "2022-11-14T12:25:30.321Z"
   },
   {
    "duration": 115,
    "start_time": "2022-11-14T12:27:01.370Z"
   },
   {
    "duration": 121,
    "start_time": "2022-11-14T12:27:04.618Z"
   },
   {
    "duration": 360,
    "start_time": "2022-11-14T12:27:13.961Z"
   },
   {
    "duration": 345,
    "start_time": "2022-11-14T12:27:33.724Z"
   },
   {
    "duration": 340,
    "start_time": "2022-11-14T12:27:54.884Z"
   },
   {
    "duration": 458,
    "start_time": "2022-11-14T12:28:04.251Z"
   },
   {
    "duration": 325,
    "start_time": "2022-11-14T12:28:12.645Z"
   },
   {
    "duration": 339,
    "start_time": "2022-11-14T12:28:22.719Z"
   },
   {
    "duration": 359,
    "start_time": "2022-11-14T12:28:33.349Z"
   },
   {
    "duration": 23,
    "start_time": "2022-11-14T12:28:38.807Z"
   },
   {
    "duration": 340,
    "start_time": "2022-11-14T12:28:43.349Z"
   },
   {
    "duration": 442,
    "start_time": "2022-11-14T12:30:06.054Z"
   },
   {
    "duration": 376,
    "start_time": "2022-11-14T12:30:11.041Z"
   },
   {
    "duration": 19,
    "start_time": "2022-11-14T12:30:15.269Z"
   },
   {
    "duration": 20,
    "start_time": "2022-11-14T12:30:19.112Z"
   },
   {
    "duration": 343,
    "start_time": "2022-11-14T12:30:23.430Z"
   },
   {
    "duration": 329,
    "start_time": "2022-11-14T12:30:27.139Z"
   },
   {
    "duration": 456,
    "start_time": "2022-11-14T12:30:31.204Z"
   },
   {
    "duration": 328,
    "start_time": "2022-11-14T12:30:37.018Z"
   },
   {
    "duration": 357,
    "start_time": "2022-11-14T12:30:42.554Z"
   },
   {
    "duration": 403,
    "start_time": "2022-11-14T12:33:51.095Z"
   },
   {
    "duration": 374,
    "start_time": "2022-11-14T12:34:03.146Z"
   },
   {
    "duration": 385,
    "start_time": "2022-11-14T12:34:18.197Z"
   },
   {
    "duration": 499,
    "start_time": "2022-11-14T12:37:46.789Z"
   },
   {
    "duration": 377,
    "start_time": "2022-11-14T12:38:23.335Z"
   },
   {
    "duration": 448,
    "start_time": "2022-11-14T12:38:29.819Z"
   },
   {
    "duration": 360,
    "start_time": "2022-11-14T12:38:36.395Z"
   },
   {
    "duration": 12,
    "start_time": "2022-11-14T12:56:53.003Z"
   },
   {
    "duration": 10,
    "start_time": "2022-11-14T12:57:06.294Z"
   },
   {
    "duration": 10,
    "start_time": "2022-11-14T12:57:16.020Z"
   },
   {
    "duration": 75,
    "start_time": "2022-11-14T12:58:42.379Z"
   },
   {
    "duration": 1316,
    "start_time": "2022-11-14T13:11:13.312Z"
   },
   {
    "duration": 55,
    "start_time": "2022-11-14T13:11:14.631Z"
   },
   {
    "duration": 17,
    "start_time": "2022-11-14T13:11:14.687Z"
   },
   {
    "duration": 21,
    "start_time": "2022-11-14T13:11:14.706Z"
   },
   {
    "duration": 5,
    "start_time": "2022-11-14T13:11:14.729Z"
   },
   {
    "duration": 26,
    "start_time": "2022-11-14T13:11:14.752Z"
   },
   {
    "duration": 100,
    "start_time": "2022-11-14T13:11:14.780Z"
   },
   {
    "duration": 9,
    "start_time": "2022-11-14T13:11:14.883Z"
   },
   {
    "duration": 6,
    "start_time": "2022-11-14T13:11:14.894Z"
   },
   {
    "duration": 21,
    "start_time": "2022-11-14T13:11:14.903Z"
   },
   {
    "duration": 41,
    "start_time": "2022-11-14T13:11:14.926Z"
   },
   {
    "duration": 8,
    "start_time": "2022-11-14T13:11:14.969Z"
   },
   {
    "duration": 10,
    "start_time": "2022-11-14T13:11:14.979Z"
   },
   {
    "duration": 22,
    "start_time": "2022-11-14T13:11:14.991Z"
   },
   {
    "duration": 22,
    "start_time": "2022-11-14T13:11:15.014Z"
   },
   {
    "duration": 19,
    "start_time": "2022-11-14T13:11:15.039Z"
   },
   {
    "duration": 8,
    "start_time": "2022-11-14T13:11:15.061Z"
   },
   {
    "duration": 9,
    "start_time": "2022-11-14T13:11:15.071Z"
   },
   {
    "duration": 26,
    "start_time": "2022-11-14T13:11:15.082Z"
   },
   {
    "duration": 26,
    "start_time": "2022-11-14T13:11:15.111Z"
   },
   {
    "duration": 11,
    "start_time": "2022-11-14T13:11:15.139Z"
   },
   {
    "duration": 26,
    "start_time": "2022-11-14T13:11:15.152Z"
   },
   {
    "duration": 388,
    "start_time": "2022-11-14T13:11:15.182Z"
   },
   {
    "duration": 3,
    "start_time": "2022-11-14T13:11:20.027Z"
   },
   {
    "duration": 57,
    "start_time": "2022-11-14T13:11:20.548Z"
   },
   {
    "duration": 16,
    "start_time": "2022-11-14T13:11:20.996Z"
   },
   {
    "duration": 18,
    "start_time": "2022-11-14T13:11:21.407Z"
   },
   {
    "duration": 4,
    "start_time": "2022-11-14T13:11:22.245Z"
   },
   {
    "duration": 20,
    "start_time": "2022-11-14T13:11:22.647Z"
   },
   {
    "duration": 17,
    "start_time": "2022-11-14T13:11:23.043Z"
   },
   {
    "duration": 9,
    "start_time": "2022-11-14T13:11:23.909Z"
   },
   {
    "duration": 5,
    "start_time": "2022-11-14T13:11:24.333Z"
   },
   {
    "duration": 15,
    "start_time": "2022-11-14T13:11:24.767Z"
   },
   {
    "duration": 19,
    "start_time": "2022-11-14T13:11:25.223Z"
   },
   {
    "duration": 6,
    "start_time": "2022-11-14T13:11:25.683Z"
   },
   {
    "duration": 5,
    "start_time": "2022-11-14T13:11:26.165Z"
   },
   {
    "duration": 7,
    "start_time": "2022-11-14T13:11:27.085Z"
   },
   {
    "duration": 6,
    "start_time": "2022-11-14T13:11:27.989Z"
   },
   {
    "duration": 11,
    "start_time": "2022-11-14T13:11:28.939Z"
   },
   {
    "duration": 6,
    "start_time": "2022-11-14T13:11:29.379Z"
   },
   {
    "duration": 4,
    "start_time": "2022-11-14T13:11:29.829Z"
   },
   {
    "duration": 21,
    "start_time": "2022-11-14T13:11:30.415Z"
   },
   {
    "duration": 9,
    "start_time": "2022-11-14T13:11:30.958Z"
   },
   {
    "duration": 6,
    "start_time": "2022-11-14T13:11:32.014Z"
   },
   {
    "duration": 20,
    "start_time": "2022-11-14T13:11:32.537Z"
   },
   {
    "duration": 412,
    "start_time": "2022-11-14T13:11:39.493Z"
   },
   {
    "duration": 73,
    "start_time": "2022-11-14T13:11:45.841Z"
   },
   {
    "duration": 344,
    "start_time": "2022-11-14T13:11:52.108Z"
   },
   {
    "duration": 438,
    "start_time": "2022-11-14T13:12:00.048Z"
   },
   {
    "duration": 343,
    "start_time": "2022-11-14T13:12:32.270Z"
   },
   {
    "duration": 353,
    "start_time": "2022-11-14T13:12:42.600Z"
   },
   {
    "duration": 465,
    "start_time": "2022-11-14T13:12:49.870Z"
   },
   {
    "duration": 351,
    "start_time": "2022-11-14T13:12:56.621Z"
   },
   {
    "duration": 360,
    "start_time": "2022-11-14T13:13:03.751Z"
   },
   {
    "duration": 436,
    "start_time": "2022-11-14T13:13:06.722Z"
   },
   {
    "duration": 353,
    "start_time": "2022-11-14T13:13:21.401Z"
   },
   {
    "duration": 323,
    "start_time": "2022-11-14T13:13:27.383Z"
   },
   {
    "duration": 335,
    "start_time": "2022-11-14T13:16:42.056Z"
   },
   {
    "duration": 332,
    "start_time": "2022-11-14T13:16:46.836Z"
   },
   {
    "duration": 500,
    "start_time": "2022-11-14T13:18:34.876Z"
   },
   {
    "duration": 343,
    "start_time": "2022-11-14T13:18:46.262Z"
   },
   {
    "duration": 342,
    "start_time": "2022-11-14T13:19:22.721Z"
   },
   {
    "duration": 437,
    "start_time": "2022-11-14T13:19:29.521Z"
   },
   {
    "duration": 9,
    "start_time": "2022-11-14T13:20:19.822Z"
   },
   {
    "duration": 16,
    "start_time": "2022-11-14T13:20:28.893Z"
   },
   {
    "duration": 15,
    "start_time": "2022-11-14T13:20:33.472Z"
   },
   {
    "duration": 92,
    "start_time": "2022-11-14T13:20:39.801Z"
   },
   {
    "duration": 17,
    "start_time": "2022-11-14T13:20:50.175Z"
   },
   {
    "duration": 14,
    "start_time": "2022-11-14T13:20:54.830Z"
   },
   {
    "duration": 13,
    "start_time": "2022-11-14T13:21:10.387Z"
   },
   {
    "duration": 7,
    "start_time": "2022-11-14T13:21:15.155Z"
   },
   {
    "duration": 6,
    "start_time": "2022-11-14T13:21:28.499Z"
   },
   {
    "duration": 6,
    "start_time": "2022-11-14T13:21:34.005Z"
   },
   {
    "duration": 6,
    "start_time": "2022-11-14T13:21:46.732Z"
   },
   {
    "duration": 397,
    "start_time": "2022-11-14T13:22:24.987Z"
   },
   {
    "duration": 371,
    "start_time": "2022-11-14T13:22:33.213Z"
   },
   {
    "duration": 386,
    "start_time": "2022-11-14T13:24:25.160Z"
   },
   {
    "duration": 410,
    "start_time": "2022-11-14T13:24:32.487Z"
   },
   {
    "duration": 370,
    "start_time": "2022-11-14T13:25:58.739Z"
   },
   {
    "duration": 348,
    "start_time": "2022-11-14T13:26:06.151Z"
   },
   {
    "duration": 371,
    "start_time": "2022-11-14T13:26:21.391Z"
   },
   {
    "duration": 391,
    "start_time": "2022-11-14T13:26:33.794Z"
   },
   {
    "duration": 260,
    "start_time": "2022-11-14T13:27:11.710Z"
   },
   {
    "duration": 160,
    "start_time": "2022-11-14T13:27:19.457Z"
   },
   {
    "duration": 352,
    "start_time": "2022-11-14T13:27:29.007Z"
   },
   {
    "duration": 34,
    "start_time": "2022-11-14T13:27:56.851Z"
   },
   {
    "duration": 34,
    "start_time": "2022-11-14T13:28:14.936Z"
   },
   {
    "duration": 31,
    "start_time": "2022-11-14T13:28:37.520Z"
   },
   {
    "duration": 335,
    "start_time": "2022-11-14T13:28:50.935Z"
   },
   {
    "duration": 396,
    "start_time": "2022-11-14T13:33:00.693Z"
   },
   {
    "duration": 487,
    "start_time": "2022-11-14T13:33:07.105Z"
   },
   {
    "duration": 372,
    "start_time": "2022-11-14T13:33:15.036Z"
   },
   {
    "duration": 400,
    "start_time": "2022-11-14T13:33:25.042Z"
   },
   {
    "duration": 367,
    "start_time": "2022-11-14T13:33:27.278Z"
   },
   {
    "duration": 349,
    "start_time": "2022-11-14T13:33:32.912Z"
   },
   {
    "duration": 355,
    "start_time": "2022-11-14T13:34:12.570Z"
   },
   {
    "duration": 642,
    "start_time": "2022-11-14T13:35:08.009Z"
   },
   {
    "duration": 442,
    "start_time": "2022-11-14T13:36:12.102Z"
   },
   {
    "duration": 350,
    "start_time": "2022-11-14T13:36:19.275Z"
   },
   {
    "duration": 347,
    "start_time": "2022-11-14T13:36:24.060Z"
   },
   {
    "duration": 335,
    "start_time": "2022-11-14T13:36:57.159Z"
   },
   {
    "duration": 531,
    "start_time": "2022-11-14T13:37:09.339Z"
   },
   {
    "duration": 347,
    "start_time": "2022-11-14T13:37:17.210Z"
   },
   {
    "duration": 361,
    "start_time": "2022-11-14T13:37:59.319Z"
   },
   {
    "duration": 152,
    "start_time": "2022-11-14T13:38:11.117Z"
   },
   {
    "duration": 353,
    "start_time": "2022-11-14T13:38:27.935Z"
   },
   {
    "duration": 337,
    "start_time": "2022-11-14T13:38:33.189Z"
   },
   {
    "duration": 38,
    "start_time": "2022-11-14T13:38:46.156Z"
   },
   {
    "duration": 481,
    "start_time": "2022-11-14T13:38:53.023Z"
   },
   {
    "duration": 345,
    "start_time": "2022-11-14T13:39:46.183Z"
   },
   {
    "duration": 14,
    "start_time": "2022-11-14T13:44:07.543Z"
   },
   {
    "duration": 1810,
    "start_time": "2022-11-14T13:44:13.948Z"
   },
   {
    "duration": 3102,
    "start_time": "2022-11-14T13:44:19.716Z"
   },
   {
    "duration": 1769,
    "start_time": "2022-11-14T13:44:53.768Z"
   },
   {
    "duration": 20,
    "start_time": "2022-11-14T13:47:18.744Z"
   },
   {
    "duration": 212,
    "start_time": "2022-11-14T13:47:26.600Z"
   },
   {
    "duration": 208,
    "start_time": "2022-11-14T13:48:02.477Z"
   },
   {
    "duration": 254,
    "start_time": "2022-11-14T13:48:28.763Z"
   },
   {
    "duration": 29,
    "start_time": "2022-11-14T13:52:28.651Z"
   },
   {
    "duration": 26,
    "start_time": "2022-11-14T13:53:49.513Z"
   },
   {
    "duration": 1097,
    "start_time": "2022-11-14T13:54:35.775Z"
   },
   {
    "duration": 1547,
    "start_time": "2022-11-14T13:55:01.375Z"
   },
   {
    "duration": 1172,
    "start_time": "2022-11-14T13:55:31.853Z"
   },
   {
    "duration": 204,
    "start_time": "2022-11-14T13:55:44.054Z"
   },
   {
    "duration": 222,
    "start_time": "2022-11-14T13:56:51.337Z"
   },
   {
    "duration": 207,
    "start_time": "2022-11-14T13:57:48.635Z"
   },
   {
    "duration": 94,
    "start_time": "2022-11-14T13:58:45.432Z"
   },
   {
    "duration": 251,
    "start_time": "2022-11-14T13:59:09.501Z"
   },
   {
    "duration": 420,
    "start_time": "2022-11-14T14:00:45.343Z"
   },
   {
    "duration": 325,
    "start_time": "2022-11-14T14:01:09.519Z"
   },
   {
    "duration": 39,
    "start_time": "2022-11-14T14:01:28.838Z"
   },
   {
    "duration": 201,
    "start_time": "2022-11-14T14:02:03.135Z"
   },
   {
    "duration": 30,
    "start_time": "2022-11-14T14:03:08.102Z"
   },
   {
    "duration": 252,
    "start_time": "2022-11-14T14:03:47.755Z"
   },
   {
    "duration": 311,
    "start_time": "2022-11-14T14:09:18.995Z"
   },
   {
    "duration": 11,
    "start_time": "2022-11-14T14:09:31.376Z"
   },
   {
    "duration": 37,
    "start_time": "2022-11-14T14:10:01.126Z"
   },
   {
    "duration": 215,
    "start_time": "2022-11-14T14:10:08.582Z"
   },
   {
    "duration": 232,
    "start_time": "2022-11-14T14:11:45.586Z"
   },
   {
    "duration": 263,
    "start_time": "2022-11-14T14:12:30.341Z"
   },
   {
    "duration": 305,
    "start_time": "2022-11-14T14:15:07.270Z"
   },
   {
    "duration": 43,
    "start_time": "2022-11-14T14:15:38.165Z"
   },
   {
    "duration": 68,
    "start_time": "2022-11-14T14:16:17.520Z"
   },
   {
    "duration": 206,
    "start_time": "2022-11-14T14:16:36.914Z"
   },
   {
    "duration": 1346,
    "start_time": "2022-11-14T17:05:42.994Z"
   },
   {
    "duration": 213,
    "start_time": "2022-11-14T17:05:44.512Z"
   },
   {
    "duration": 15,
    "start_time": "2022-11-14T17:05:44.944Z"
   },
   {
    "duration": 19,
    "start_time": "2022-11-14T17:05:45.553Z"
   },
   {
    "duration": 4,
    "start_time": "2022-11-14T17:05:46.624Z"
   },
   {
    "duration": 18,
    "start_time": "2022-11-14T17:05:47.184Z"
   },
   {
    "duration": 65,
    "start_time": "2022-11-14T17:05:47.792Z"
   },
   {
    "duration": 9,
    "start_time": "2022-11-14T17:05:49.342Z"
   },
   {
    "duration": 5,
    "start_time": "2022-11-14T17:05:49.902Z"
   },
   {
    "duration": 14,
    "start_time": "2022-11-14T17:05:50.382Z"
   },
   {
    "duration": 17,
    "start_time": "2022-11-14T17:05:50.886Z"
   },
   {
    "duration": 5,
    "start_time": "2022-11-14T17:05:51.373Z"
   },
   {
    "duration": 6,
    "start_time": "2022-11-14T17:05:51.958Z"
   },
   {
    "duration": 8,
    "start_time": "2022-11-14T17:05:53.302Z"
   },
   {
    "duration": 7,
    "start_time": "2022-11-14T17:05:54.743Z"
   },
   {
    "duration": 9,
    "start_time": "2022-11-14T17:05:55.982Z"
   },
   {
    "duration": 6,
    "start_time": "2022-11-14T17:05:56.622Z"
   },
   {
    "duration": 3,
    "start_time": "2022-11-14T17:05:57.231Z"
   },
   {
    "duration": 20,
    "start_time": "2022-11-14T17:05:59.310Z"
   },
   {
    "duration": 7,
    "start_time": "2022-11-14T17:05:59.910Z"
   },
   {
    "duration": 6,
    "start_time": "2022-11-14T17:06:01.455Z"
   },
   {
    "duration": 15,
    "start_time": "2022-11-14T17:06:02.016Z"
   },
   {
    "duration": 293,
    "start_time": "2022-11-14T17:06:07.127Z"
   },
   {
    "duration": 204,
    "start_time": "2022-11-14T17:06:09.632Z"
   },
   {
    "duration": 11,
    "start_time": "2022-11-14T17:21:35.183Z"
   },
   {
    "duration": 1158,
    "start_time": "2022-11-14T17:21:49.898Z"
   },
   {
    "duration": 55,
    "start_time": "2022-11-14T17:21:51.058Z"
   },
   {
    "duration": 14,
    "start_time": "2022-11-14T17:21:51.115Z"
   },
   {
    "duration": 19,
    "start_time": "2022-11-14T17:21:51.131Z"
   },
   {
    "duration": 3,
    "start_time": "2022-11-14T17:21:51.152Z"
   },
   {
    "duration": 21,
    "start_time": "2022-11-14T17:21:51.157Z"
   },
   {
    "duration": 68,
    "start_time": "2022-11-14T17:21:51.179Z"
   },
   {
    "duration": 23,
    "start_time": "2022-11-14T17:21:51.248Z"
   },
   {
    "duration": 8,
    "start_time": "2022-11-14T17:21:51.273Z"
   },
   {
    "duration": 26,
    "start_time": "2022-11-14T17:21:51.283Z"
   },
   {
    "duration": 27,
    "start_time": "2022-11-14T17:21:51.311Z"
   },
   {
    "duration": 17,
    "start_time": "2022-11-14T17:21:51.340Z"
   },
   {
    "duration": 13,
    "start_time": "2022-11-14T17:21:51.359Z"
   },
   {
    "duration": 9,
    "start_time": "2022-11-14T17:21:51.374Z"
   },
   {
    "duration": 10,
    "start_time": "2022-11-14T17:21:51.385Z"
   },
   {
    "duration": 6,
    "start_time": "2022-11-14T17:21:51.396Z"
   },
   {
    "duration": 29,
    "start_time": "2022-11-14T17:21:51.404Z"
   },
   {
    "duration": 5,
    "start_time": "2022-11-14T17:21:51.434Z"
   },
   {
    "duration": 8,
    "start_time": "2022-11-14T17:21:51.440Z"
   },
   {
    "duration": 20,
    "start_time": "2022-11-14T17:21:51.450Z"
   },
   {
    "duration": 9,
    "start_time": "2022-11-14T17:21:51.472Z"
   },
   {
    "duration": 7,
    "start_time": "2022-11-14T17:21:51.482Z"
   },
   {
    "duration": 18,
    "start_time": "2022-11-14T17:21:51.490Z"
   },
   {
    "duration": 338,
    "start_time": "2022-11-14T17:21:51.509Z"
   },
   {
    "duration": 213,
    "start_time": "2022-11-14T17:21:51.849Z"
   },
   {
    "duration": 191,
    "start_time": "2022-11-14T17:21:52.064Z"
   },
   {
    "duration": 3,
    "start_time": "2022-11-14T17:21:53.527Z"
   },
   {
    "duration": 53,
    "start_time": "2022-11-14T17:21:54.540Z"
   },
   {
    "duration": 16,
    "start_time": "2022-11-14T17:21:54.994Z"
   },
   {
    "duration": 16,
    "start_time": "2022-11-14T17:21:56.438Z"
   },
   {
    "duration": 3,
    "start_time": "2022-11-14T17:21:59.189Z"
   },
   {
    "duration": 18,
    "start_time": "2022-11-14T17:22:00.269Z"
   },
   {
    "duration": 15,
    "start_time": "2022-11-14T17:22:01.485Z"
   },
   {
    "duration": 7,
    "start_time": "2022-11-14T17:23:21.001Z"
   },
   {
    "duration": 5,
    "start_time": "2022-11-14T17:23:24.209Z"
   },
   {
    "duration": 18,
    "start_time": "2022-11-14T17:23:26.995Z"
   },
   {
    "duration": 20,
    "start_time": "2022-11-14T17:24:01.119Z"
   },
   {
    "duration": 20,
    "start_time": "2022-11-14T17:24:19.118Z"
   },
   {
    "duration": 13,
    "start_time": "2022-11-14T17:31:20.615Z"
   },
   {
    "duration": 107,
    "start_time": "2022-11-14T17:31:38.389Z"
   },
   {
    "duration": 5,
    "start_time": "2022-11-14T17:33:49.560Z"
   },
   {
    "duration": 8,
    "start_time": "2022-11-14T17:33:53.463Z"
   },
   {
    "duration": 5,
    "start_time": "2022-11-14T17:33:54.142Z"
   },
   {
    "duration": 1120,
    "start_time": "2022-11-14T17:34:04.523Z"
   },
   {
    "duration": 57,
    "start_time": "2022-11-14T17:34:05.645Z"
   },
   {
    "duration": 15,
    "start_time": "2022-11-14T17:34:05.704Z"
   },
   {
    "duration": 20,
    "start_time": "2022-11-14T17:34:05.720Z"
   },
   {
    "duration": 4,
    "start_time": "2022-11-14T17:34:05.742Z"
   },
   {
    "duration": 21,
    "start_time": "2022-11-14T17:34:05.748Z"
   },
   {
    "duration": 68,
    "start_time": "2022-11-14T17:34:05.771Z"
   },
   {
    "duration": 8,
    "start_time": "2022-11-14T17:34:05.841Z"
   },
   {
    "duration": 10,
    "start_time": "2022-11-14T17:34:05.850Z"
   },
   {
    "duration": 15,
    "start_time": "2022-11-14T17:34:05.862Z"
   },
   {
    "duration": 37,
    "start_time": "2022-11-14T17:34:05.879Z"
   },
   {
    "duration": 5,
    "start_time": "2022-11-14T17:34:05.918Z"
   },
   {
    "duration": 9,
    "start_time": "2022-11-14T17:34:05.925Z"
   },
   {
    "duration": 19,
    "start_time": "2022-11-14T17:34:05.937Z"
   },
   {
    "duration": 14,
    "start_time": "2022-11-14T17:34:05.958Z"
   },
   {
    "duration": 14,
    "start_time": "2022-11-14T17:34:05.974Z"
   },
   {
    "duration": 25,
    "start_time": "2022-11-14T17:34:05.990Z"
   },
   {
    "duration": 127,
    "start_time": "2022-11-14T17:34:06.016Z"
   },
   {
    "duration": 0,
    "start_time": "2022-11-14T17:34:06.145Z"
   },
   {
    "duration": 0,
    "start_time": "2022-11-14T17:34:06.146Z"
   },
   {
    "duration": 0,
    "start_time": "2022-11-14T17:34:06.147Z"
   },
   {
    "duration": 0,
    "start_time": "2022-11-14T17:34:06.149Z"
   },
   {
    "duration": 0,
    "start_time": "2022-11-14T17:34:06.150Z"
   },
   {
    "duration": 0,
    "start_time": "2022-11-14T17:34:06.151Z"
   },
   {
    "duration": 0,
    "start_time": "2022-11-14T17:34:06.152Z"
   },
   {
    "duration": 4,
    "start_time": "2022-11-14T17:34:08.447Z"
   },
   {
    "duration": 54,
    "start_time": "2022-11-14T17:34:09.694Z"
   },
   {
    "duration": 14,
    "start_time": "2022-11-14T17:34:10.399Z"
   },
   {
    "duration": 16,
    "start_time": "2022-11-14T17:34:12.447Z"
   },
   {
    "duration": 4,
    "start_time": "2022-11-14T17:34:14.039Z"
   },
   {
    "duration": 17,
    "start_time": "2022-11-14T17:34:15.023Z"
   },
   {
    "duration": 15,
    "start_time": "2022-11-14T17:34:15.815Z"
   },
   {
    "duration": 7,
    "start_time": "2022-11-14T17:34:19.869Z"
   },
   {
    "duration": 4,
    "start_time": "2022-11-14T17:34:24.693Z"
   },
   {
    "duration": 14,
    "start_time": "2022-11-14T17:34:27.933Z"
   },
   {
    "duration": 18,
    "start_time": "2022-11-14T17:34:35.574Z"
   },
   {
    "duration": 5,
    "start_time": "2022-11-14T17:34:38.006Z"
   },
   {
    "duration": 13,
    "start_time": "2022-11-14T17:35:42.771Z"
   },
   {
    "duration": 5,
    "start_time": "2022-11-14T17:36:47.921Z"
   },
   {
    "duration": 9,
    "start_time": "2022-11-14T17:37:06.903Z"
   },
   {
    "duration": 9,
    "start_time": "2022-11-14T17:37:20.536Z"
   },
   {
    "duration": 7,
    "start_time": "2022-11-14T17:37:24.222Z"
   },
   {
    "duration": 6,
    "start_time": "2022-11-14T17:37:54.980Z"
   },
   {
    "duration": 9,
    "start_time": "2022-11-14T17:39:05.672Z"
   },
   {
    "duration": 6,
    "start_time": "2022-11-14T17:39:23.192Z"
   },
   {
    "duration": 6,
    "start_time": "2022-11-14T17:40:38.715Z"
   },
   {
    "duration": 11,
    "start_time": "2022-11-14T17:40:41.267Z"
   },
   {
    "duration": 5,
    "start_time": "2022-11-14T17:40:45.675Z"
   },
   {
    "duration": 6,
    "start_time": "2022-11-14T17:41:19.185Z"
   },
   {
    "duration": 16,
    "start_time": "2022-11-14T17:41:20.312Z"
   },
   {
    "duration": 15,
    "start_time": "2022-11-14T17:41:23.721Z"
   },
   {
    "duration": 12,
    "start_time": "2022-11-14T17:42:58.060Z"
   },
   {
    "duration": 18,
    "start_time": "2022-11-14T17:44:58.015Z"
   },
   {
    "duration": 20,
    "start_time": "2022-11-14T17:45:18.984Z"
   },
   {
    "duration": 53,
    "start_time": "2022-11-14T17:45:38.972Z"
   },
   {
    "duration": 15,
    "start_time": "2022-11-14T17:45:52.099Z"
   },
   {
    "duration": 14,
    "start_time": "2022-11-14T17:46:11.346Z"
   },
   {
    "duration": 20,
    "start_time": "2022-11-14T17:46:22.067Z"
   },
   {
    "duration": 480,
    "start_time": "2022-11-14T17:46:42.993Z"
   },
   {
    "duration": 49,
    "start_time": "2022-11-14T17:47:47.549Z"
   },
   {
    "duration": 44,
    "start_time": "2022-11-14T17:47:53.421Z"
   },
   {
    "duration": 12,
    "start_time": "2022-11-14T17:48:04.541Z"
   },
   {
    "duration": 543,
    "start_time": "2022-11-14T17:48:09.869Z"
   },
   {
    "duration": 27,
    "start_time": "2022-11-14T17:48:19.036Z"
   },
   {
    "duration": 227,
    "start_time": "2022-11-14T17:50:08.168Z"
   },
   {
    "duration": 474,
    "start_time": "2022-11-14T17:50:17.927Z"
   },
   {
    "duration": 540,
    "start_time": "2022-11-14T17:50:36.373Z"
   },
   {
    "duration": 13,
    "start_time": "2022-11-14T17:51:10.468Z"
   },
   {
    "duration": 30,
    "start_time": "2022-11-14T17:51:16.300Z"
   },
   {
    "duration": 44,
    "start_time": "2022-11-14T17:51:20.620Z"
   },
   {
    "duration": 560,
    "start_time": "2022-11-14T17:52:02.328Z"
   },
   {
    "duration": 450,
    "start_time": "2022-11-14T17:52:39.967Z"
   },
   {
    "duration": 454,
    "start_time": "2022-11-14T17:52:55.582Z"
   },
   {
    "duration": 473,
    "start_time": "2022-11-14T17:54:12.144Z"
   },
   {
    "duration": 453,
    "start_time": "2022-11-14T17:54:58.601Z"
   },
   {
    "duration": 465,
    "start_time": "2022-11-14T17:55:08.057Z"
   },
   {
    "duration": 593,
    "start_time": "2022-11-14T17:56:10.716Z"
   },
   {
    "duration": 471,
    "start_time": "2022-11-14T17:57:20.434Z"
   },
   {
    "duration": 328,
    "start_time": "2022-11-14T17:57:35.953Z"
   },
   {
    "duration": 493,
    "start_time": "2022-11-14T17:57:48.593Z"
   },
   {
    "duration": 520,
    "start_time": "2022-11-14T17:58:18.752Z"
   },
   {
    "duration": 601,
    "start_time": "2022-11-14T17:58:59.908Z"
   },
   {
    "duration": 506,
    "start_time": "2022-11-14T17:59:12.884Z"
   },
   {
    "duration": 68,
    "start_time": "2022-11-14T17:59:16.386Z"
   },
   {
    "duration": 528,
    "start_time": "2022-11-14T17:59:25.451Z"
   },
   {
    "duration": 496,
    "start_time": "2022-11-14T18:03:52.855Z"
   },
   {
    "duration": 491,
    "start_time": "2022-11-14T18:05:31.113Z"
   },
   {
    "duration": 516,
    "start_time": "2022-11-14T18:05:39.123Z"
   },
   {
    "duration": 622,
    "start_time": "2022-11-14T18:05:59.968Z"
   },
   {
    "duration": 521,
    "start_time": "2022-11-14T18:06:13.680Z"
   },
   {
    "duration": 568,
    "start_time": "2022-11-14T18:06:25.791Z"
   },
   {
    "duration": 186,
    "start_time": "2022-11-14T18:07:35.292Z"
   },
   {
    "duration": 236,
    "start_time": "2022-11-14T18:10:40.466Z"
   },
   {
    "duration": 173,
    "start_time": "2022-11-14T18:10:47.754Z"
   },
   {
    "duration": 50,
    "start_time": "2022-11-14T18:11:32.831Z"
   },
   {
    "duration": 8,
    "start_time": "2022-11-14T18:11:37.271Z"
   },
   {
    "duration": 762,
    "start_time": "2022-11-14T18:11:42.743Z"
   },
   {
    "duration": 19,
    "start_time": "2022-11-14T18:12:04.837Z"
   },
   {
    "duration": 5,
    "start_time": "2022-11-14T18:12:12.278Z"
   },
   {
    "duration": 12,
    "start_time": "2022-11-14T18:12:41.620Z"
   },
   {
    "duration": 8,
    "start_time": "2022-11-14T18:13:03.948Z"
   },
   {
    "duration": 24,
    "start_time": "2022-11-14T18:15:22.668Z"
   },
   {
    "duration": 25,
    "start_time": "2022-11-14T18:16:05.641Z"
   },
   {
    "duration": 177,
    "start_time": "2022-11-14T18:17:25.580Z"
   },
   {
    "duration": 10,
    "start_time": "2022-11-14T18:20:03.810Z"
   },
   {
    "duration": 17,
    "start_time": "2022-11-14T18:20:37.972Z"
   },
   {
    "duration": 17,
    "start_time": "2022-11-14T18:21:11.081Z"
   },
   {
    "duration": 17,
    "start_time": "2022-11-14T18:21:34.115Z"
   },
   {
    "duration": 56,
    "start_time": "2022-11-14T18:21:47.296Z"
   },
   {
    "duration": 67,
    "start_time": "2022-11-14T18:24:20.936Z"
   },
   {
    "duration": 5,
    "start_time": "2022-11-14T18:24:24.384Z"
   },
   {
    "duration": 843,
    "start_time": "2022-11-14T18:29:15.548Z"
   },
   {
    "duration": 2006,
    "start_time": "2022-11-14T18:30:02.031Z"
   },
   {
    "duration": 797,
    "start_time": "2022-11-14T18:31:32.868Z"
   },
   {
    "duration": 941,
    "start_time": "2022-11-14T18:31:42.244Z"
   },
   {
    "duration": 15,
    "start_time": "2022-11-14T18:32:29.321Z"
   },
   {
    "duration": 20,
    "start_time": "2022-11-14T18:38:44.773Z"
   },
   {
    "duration": 17,
    "start_time": "2022-11-14T18:41:55.707Z"
   },
   {
    "duration": 14,
    "start_time": "2022-11-14T18:45:08.961Z"
   },
   {
    "duration": 11,
    "start_time": "2022-11-14T18:46:23.791Z"
   },
   {
    "duration": 24,
    "start_time": "2022-11-14T18:46:46.654Z"
   },
   {
    "duration": 17,
    "start_time": "2022-11-14T18:47:05.516Z"
   },
   {
    "duration": 22,
    "start_time": "2022-11-14T18:47:41.434Z"
   },
   {
    "duration": 26,
    "start_time": "2022-11-14T18:48:17.618Z"
   },
   {
    "duration": 8,
    "start_time": "2022-11-14T18:50:11.177Z"
   },
   {
    "duration": 33,
    "start_time": "2022-11-14T18:50:16.442Z"
   },
   {
    "duration": 20,
    "start_time": "2022-11-14T18:50:58.384Z"
   },
   {
    "duration": 13,
    "start_time": "2022-11-14T18:51:08.978Z"
   },
   {
    "duration": 14,
    "start_time": "2022-11-14T18:51:32.501Z"
   },
   {
    "duration": 23,
    "start_time": "2022-11-14T18:51:52.206Z"
   },
   {
    "duration": 24,
    "start_time": "2022-11-14T18:52:35.843Z"
   },
   {
    "duration": 23,
    "start_time": "2022-11-14T18:55:05.028Z"
   },
   {
    "duration": 2472,
    "start_time": "2022-11-14T18:55:24.099Z"
   },
   {
    "duration": 2609,
    "start_time": "2022-11-14T18:55:41.210Z"
   },
   {
    "duration": 3049,
    "start_time": "2022-11-14T18:55:53.922Z"
   },
   {
    "duration": 384,
    "start_time": "2022-11-14T18:57:19.038Z"
   },
   {
    "duration": 2821,
    "start_time": "2022-11-14T18:57:30.069Z"
   },
   {
    "duration": 3296,
    "start_time": "2022-11-14T18:57:36.308Z"
   },
   {
    "duration": 11,
    "start_time": "2022-11-14T19:01:49.686Z"
   },
   {
    "duration": 166,
    "start_time": "2022-11-14T19:01:59.303Z"
   },
   {
    "duration": 129,
    "start_time": "2022-11-14T19:02:16.837Z"
   },
   {
    "duration": 135,
    "start_time": "2022-11-14T19:02:48.731Z"
   },
   {
    "duration": 164,
    "start_time": "2022-11-14T19:03:24.187Z"
   },
   {
    "duration": 16,
    "start_time": "2022-11-14T19:04:40.135Z"
   },
   {
    "duration": 15,
    "start_time": "2022-11-14T19:04:51.799Z"
   },
   {
    "duration": 147,
    "start_time": "2022-11-14T19:05:00.325Z"
   },
   {
    "duration": 155,
    "start_time": "2022-11-14T19:05:23.949Z"
   },
   {
    "duration": 356,
    "start_time": "2022-11-14T19:05:39.507Z"
   },
   {
    "duration": 141,
    "start_time": "2022-11-14T19:07:23.590Z"
   },
   {
    "duration": 153,
    "start_time": "2022-11-14T19:07:34.414Z"
   },
   {
    "duration": 186,
    "start_time": "2022-11-14T19:07:53.485Z"
   },
   {
    "duration": 177,
    "start_time": "2022-11-14T19:08:33.476Z"
   },
   {
    "duration": 216,
    "start_time": "2022-11-14T19:08:45.666Z"
   },
   {
    "duration": 178,
    "start_time": "2022-11-14T19:08:53.474Z"
   },
   {
    "duration": 976,
    "start_time": "2022-11-14T19:10:21.046Z"
   },
   {
    "duration": 1243,
    "start_time": "2022-11-14T19:10:39.174Z"
   },
   {
    "duration": 181,
    "start_time": "2022-11-14T19:10:59.165Z"
   },
   {
    "duration": 177,
    "start_time": "2022-11-14T19:11:59.256Z"
   },
   {
    "duration": 1080,
    "start_time": "2022-11-14T19:12:21.591Z"
   },
   {
    "duration": 145,
    "start_time": "2022-11-14T19:12:32.863Z"
   },
   {
    "duration": 9,
    "start_time": "2022-11-14T19:27:01.012Z"
   },
   {
    "duration": 1066,
    "start_time": "2022-11-14T19:27:28.667Z"
   },
   {
    "duration": 1094,
    "start_time": "2022-11-14T19:37:31.717Z"
   },
   {
    "duration": 53,
    "start_time": "2022-11-14T19:37:32.815Z"
   },
   {
    "duration": 14,
    "start_time": "2022-11-14T19:37:32.871Z"
   },
   {
    "duration": 18,
    "start_time": "2022-11-14T19:37:32.887Z"
   },
   {
    "duration": 3,
    "start_time": "2022-11-14T19:37:32.906Z"
   },
   {
    "duration": 20,
    "start_time": "2022-11-14T19:37:32.910Z"
   },
   {
    "duration": 53,
    "start_time": "2022-11-14T19:37:32.932Z"
   },
   {
    "duration": 8,
    "start_time": "2022-11-14T19:37:32.987Z"
   },
   {
    "duration": 20,
    "start_time": "2022-11-14T19:37:32.996Z"
   },
   {
    "duration": 36,
    "start_time": "2022-11-14T19:37:33.017Z"
   },
   {
    "duration": 16,
    "start_time": "2022-11-14T19:37:33.054Z"
   },
   {
    "duration": 25,
    "start_time": "2022-11-14T19:37:33.071Z"
   },
   {
    "duration": 12,
    "start_time": "2022-11-14T19:37:33.098Z"
   },
   {
    "duration": 11,
    "start_time": "2022-11-14T19:37:33.112Z"
   },
   {
    "duration": 17,
    "start_time": "2022-11-14T19:37:33.124Z"
   },
   {
    "duration": 14,
    "start_time": "2022-11-14T19:37:33.143Z"
   },
   {
    "duration": 18,
    "start_time": "2022-11-14T19:37:33.159Z"
   },
   {
    "duration": 7,
    "start_time": "2022-11-14T19:37:33.179Z"
   },
   {
    "duration": 11,
    "start_time": "2022-11-14T19:37:33.187Z"
   },
   {
    "duration": 15,
    "start_time": "2022-11-14T19:37:33.199Z"
   },
   {
    "duration": 17,
    "start_time": "2022-11-14T19:37:33.215Z"
   },
   {
    "duration": 24,
    "start_time": "2022-11-14T19:37:33.233Z"
   },
   {
    "duration": 6,
    "start_time": "2022-11-14T19:37:33.258Z"
   },
   {
    "duration": 21,
    "start_time": "2022-11-14T19:37:33.265Z"
   },
   {
    "duration": 16,
    "start_time": "2022-11-14T19:37:33.287Z"
   },
   {
    "duration": 14,
    "start_time": "2022-11-14T19:37:33.304Z"
   },
   {
    "duration": 475,
    "start_time": "2022-11-14T19:37:33.319Z"
   },
   {
    "duration": 21,
    "start_time": "2022-11-14T19:37:33.795Z"
   },
   {
    "duration": 176,
    "start_time": "2022-11-14T19:37:33.818Z"
   },
   {
    "duration": 3,
    "start_time": "2022-11-14T19:37:33.996Z"
   },
   {
    "duration": 3,
    "start_time": "2022-11-14T19:42:59.940Z"
   },
   {
    "duration": 117,
    "start_time": "2022-11-14T19:48:49.875Z"
   },
   {
    "duration": 15,
    "start_time": "2022-11-14T19:49:11.083Z"
   },
   {
    "duration": 15,
    "start_time": "2022-11-14T19:49:28.226Z"
   },
   {
    "duration": 15,
    "start_time": "2022-11-14T19:49:44.546Z"
   },
   {
    "duration": 15,
    "start_time": "2022-11-14T19:51:09.523Z"
   },
   {
    "duration": 21,
    "start_time": "2022-11-14T19:51:48.289Z"
   },
   {
    "duration": 13,
    "start_time": "2022-11-14T19:55:14.944Z"
   },
   {
    "duration": 13,
    "start_time": "2022-11-14T19:55:26.191Z"
   },
   {
    "duration": 21,
    "start_time": "2022-11-14T20:00:39.159Z"
   },
   {
    "duration": 12,
    "start_time": "2022-11-14T20:01:06.437Z"
   },
   {
    "duration": 17,
    "start_time": "2022-11-14T20:04:51.746Z"
   },
   {
    "duration": 16,
    "start_time": "2022-11-14T20:06:34.724Z"
   },
   {
    "duration": 21,
    "start_time": "2022-11-14T20:06:49.523Z"
   },
   {
    "duration": 1303,
    "start_time": "2022-11-15T06:44:05.785Z"
   },
   {
    "duration": 196,
    "start_time": "2022-11-15T06:44:07.090Z"
   },
   {
    "duration": 14,
    "start_time": "2022-11-15T06:44:07.288Z"
   },
   {
    "duration": 20,
    "start_time": "2022-11-15T06:44:07.303Z"
   },
   {
    "duration": 3,
    "start_time": "2022-11-15T06:44:07.324Z"
   },
   {
    "duration": 19,
    "start_time": "2022-11-15T06:44:07.328Z"
   },
   {
    "duration": 63,
    "start_time": "2022-11-15T06:44:07.349Z"
   },
   {
    "duration": 8,
    "start_time": "2022-11-15T06:44:07.414Z"
   },
   {
    "duration": 6,
    "start_time": "2022-11-15T06:44:07.423Z"
   },
   {
    "duration": 14,
    "start_time": "2022-11-15T06:44:07.431Z"
   },
   {
    "duration": 15,
    "start_time": "2022-11-15T06:44:07.447Z"
   },
   {
    "duration": 34,
    "start_time": "2022-11-15T06:44:07.464Z"
   },
   {
    "duration": 5,
    "start_time": "2022-11-15T06:44:07.500Z"
   },
   {
    "duration": 11,
    "start_time": "2022-11-15T06:44:07.506Z"
   },
   {
    "duration": 6,
    "start_time": "2022-11-15T06:44:07.519Z"
   },
   {
    "duration": 12,
    "start_time": "2022-11-15T06:44:07.527Z"
   },
   {
    "duration": 9,
    "start_time": "2022-11-15T06:44:07.540Z"
   },
   {
    "duration": 6,
    "start_time": "2022-11-15T06:44:07.550Z"
   },
   {
    "duration": 20,
    "start_time": "2022-11-15T06:44:07.557Z"
   },
   {
    "duration": 74,
    "start_time": "2022-11-15T06:44:07.579Z"
   },
   {
    "duration": 14,
    "start_time": "2022-11-15T06:44:07.654Z"
   },
   {
    "duration": 25,
    "start_time": "2022-11-15T06:44:07.669Z"
   },
   {
    "duration": 14,
    "start_time": "2022-11-15T06:44:07.696Z"
   },
   {
    "duration": 33,
    "start_time": "2022-11-15T06:44:07.711Z"
   },
   {
    "duration": 27,
    "start_time": "2022-11-15T06:44:07.746Z"
   },
   {
    "duration": 11,
    "start_time": "2022-11-15T06:44:07.774Z"
   },
   {
    "duration": 424,
    "start_time": "2022-11-15T06:44:07.787Z"
   },
   {
    "duration": 13,
    "start_time": "2022-11-15T06:44:08.214Z"
   },
   {
    "duration": 112,
    "start_time": "2022-11-15T06:44:08.229Z"
   },
   {
    "duration": 0,
    "start_time": "2022-11-15T06:44:08.343Z"
   },
   {
    "duration": 0,
    "start_time": "2022-11-15T06:44:08.344Z"
   },
   {
    "duration": 3,
    "start_time": "2022-11-15T06:45:01.369Z"
   },
   {
    "duration": 61,
    "start_time": "2022-11-15T06:45:01.961Z"
   },
   {
    "duration": 13,
    "start_time": "2022-11-15T06:45:02.759Z"
   },
   {
    "duration": 14,
    "start_time": "2022-11-15T06:45:03.533Z"
   },
   {
    "duration": 3,
    "start_time": "2022-11-15T06:45:04.943Z"
   },
   {
    "duration": 18,
    "start_time": "2022-11-15T06:45:05.609Z"
   },
   {
    "duration": 14,
    "start_time": "2022-11-15T06:45:06.283Z"
   },
   {
    "duration": 8,
    "start_time": "2022-11-15T06:45:09.657Z"
   },
   {
    "duration": 4,
    "start_time": "2022-11-15T06:45:10.460Z"
   },
   {
    "duration": 15,
    "start_time": "2022-11-15T06:45:11.894Z"
   },
   {
    "duration": 17,
    "start_time": "2022-11-15T06:45:12.991Z"
   },
   {
    "duration": 5,
    "start_time": "2022-11-15T06:45:13.839Z"
   },
   {
    "duration": 5,
    "start_time": "2022-11-15T06:45:15.783Z"
   },
   {
    "duration": 6,
    "start_time": "2022-11-15T06:45:25.456Z"
   },
   {
    "duration": 5,
    "start_time": "2022-11-15T06:45:31.854Z"
   },
   {
    "duration": 7,
    "start_time": "2022-11-15T06:45:38.530Z"
   },
   {
    "duration": 8,
    "start_time": "2022-11-15T06:45:45.118Z"
   },
   {
    "duration": 4,
    "start_time": "2022-11-15T06:45:49.893Z"
   },
   {
    "duration": 5,
    "start_time": "2022-11-15T06:46:00.343Z"
   },
   {
    "duration": 9,
    "start_time": "2022-11-15T06:46:08.669Z"
   },
   {
    "duration": 5,
    "start_time": "2022-11-15T06:46:09.443Z"
   },
   {
    "duration": 21,
    "start_time": "2022-11-15T06:46:12.298Z"
   },
   {
    "duration": 6,
    "start_time": "2022-11-15T06:46:14.659Z"
   },
   {
    "duration": 15,
    "start_time": "2022-11-15T06:46:16.266Z"
   },
   {
    "duration": 12,
    "start_time": "2022-11-15T06:46:18.073Z"
   },
   {
    "duration": 10,
    "start_time": "2022-11-15T06:46:21.605Z"
   },
   {
    "duration": 424,
    "start_time": "2022-11-15T06:46:22.607Z"
   },
   {
    "duration": 6,
    "start_time": "2022-11-15T07:06:24.764Z"
   },
   {
    "duration": 1092,
    "start_time": "2022-11-15T07:06:34.024Z"
   },
   {
    "duration": 53,
    "start_time": "2022-11-15T07:06:35.118Z"
   },
   {
    "duration": 15,
    "start_time": "2022-11-15T07:06:35.174Z"
   },
   {
    "duration": 29,
    "start_time": "2022-11-15T07:06:35.191Z"
   },
   {
    "duration": 4,
    "start_time": "2022-11-15T07:06:35.222Z"
   },
   {
    "duration": 30,
    "start_time": "2022-11-15T07:06:35.228Z"
   },
   {
    "duration": 64,
    "start_time": "2022-11-15T07:06:35.260Z"
   },
   {
    "duration": 11,
    "start_time": "2022-11-15T07:06:35.326Z"
   },
   {
    "duration": 19,
    "start_time": "2022-11-15T07:06:35.339Z"
   },
   {
    "duration": 17,
    "start_time": "2022-11-15T07:06:35.360Z"
   },
   {
    "duration": 20,
    "start_time": "2022-11-15T07:06:35.379Z"
   },
   {
    "duration": 24,
    "start_time": "2022-11-15T07:06:35.402Z"
   },
   {
    "duration": 13,
    "start_time": "2022-11-15T07:06:35.428Z"
   },
   {
    "duration": 12,
    "start_time": "2022-11-15T07:06:35.443Z"
   },
   {
    "duration": 9,
    "start_time": "2022-11-15T07:06:35.457Z"
   },
   {
    "duration": 17,
    "start_time": "2022-11-15T07:06:35.467Z"
   },
   {
    "duration": 38,
    "start_time": "2022-11-15T07:06:35.485Z"
   },
   {
    "duration": 9,
    "start_time": "2022-11-15T07:06:35.524Z"
   },
   {
    "duration": 7,
    "start_time": "2022-11-15T07:06:35.535Z"
   },
   {
    "duration": 11,
    "start_time": "2022-11-15T07:06:35.544Z"
   },
   {
    "duration": 5,
    "start_time": "2022-11-15T07:06:35.557Z"
   },
   {
    "duration": 38,
    "start_time": "2022-11-15T07:06:35.564Z"
   },
   {
    "duration": 21,
    "start_time": "2022-11-15T07:06:35.603Z"
   },
   {
    "duration": 25,
    "start_time": "2022-11-15T07:06:35.626Z"
   },
   {
    "duration": 17,
    "start_time": "2022-11-15T07:06:35.653Z"
   },
   {
    "duration": 11,
    "start_time": "2022-11-15T07:06:35.672Z"
   },
   {
    "duration": 498,
    "start_time": "2022-11-15T07:06:35.685Z"
   },
   {
    "duration": 21,
    "start_time": "2022-11-15T07:06:36.186Z"
   },
   {
    "duration": 121,
    "start_time": "2022-11-15T07:06:36.208Z"
   },
   {
    "duration": 0,
    "start_time": "2022-11-15T07:06:36.330Z"
   },
   {
    "duration": 0,
    "start_time": "2022-11-15T07:06:36.331Z"
   },
   {
    "duration": 4,
    "start_time": "2022-11-15T07:06:41.523Z"
   },
   {
    "duration": 51,
    "start_time": "2022-11-15T07:06:42.422Z"
   },
   {
    "duration": 17,
    "start_time": "2022-11-15T07:06:43.032Z"
   },
   {
    "duration": 22,
    "start_time": "2022-11-15T07:06:43.658Z"
   },
   {
    "duration": 4,
    "start_time": "2022-11-15T07:06:44.878Z"
   },
   {
    "duration": 23,
    "start_time": "2022-11-15T07:06:45.417Z"
   },
   {
    "duration": 21,
    "start_time": "2022-11-15T07:06:45.919Z"
   },
   {
    "duration": 8,
    "start_time": "2022-11-15T07:06:47.066Z"
   },
   {
    "duration": 5,
    "start_time": "2022-11-15T07:06:47.668Z"
   },
   {
    "duration": 28,
    "start_time": "2022-11-15T07:06:48.293Z"
   },
   {
    "duration": 23,
    "start_time": "2022-11-15T07:06:49.047Z"
   },
   {
    "duration": 5,
    "start_time": "2022-11-15T07:06:49.744Z"
   },
   {
    "duration": 7,
    "start_time": "2022-11-15T07:06:52.124Z"
   },
   {
    "duration": 10,
    "start_time": "2022-11-15T07:06:52.844Z"
   },
   {
    "duration": 7,
    "start_time": "2022-11-15T07:06:59.521Z"
   },
   {
    "duration": 7,
    "start_time": "2022-11-15T07:07:01.783Z"
   },
   {
    "duration": 19,
    "start_time": "2022-11-15T07:07:05.287Z"
   },
   {
    "duration": 5,
    "start_time": "2022-11-15T07:07:07.405Z"
   },
   {
    "duration": 4,
    "start_time": "2022-11-15T07:07:44.986Z"
   },
   {
    "duration": 4,
    "start_time": "2022-11-15T07:07:48.277Z"
   },
   {
    "duration": 1124,
    "start_time": "2022-11-15T07:07:54.850Z"
   },
   {
    "duration": 53,
    "start_time": "2022-11-15T07:07:55.976Z"
   },
   {
    "duration": 14,
    "start_time": "2022-11-15T07:07:56.031Z"
   },
   {
    "duration": 23,
    "start_time": "2022-11-15T07:07:56.046Z"
   },
   {
    "duration": 3,
    "start_time": "2022-11-15T07:07:56.072Z"
   },
   {
    "duration": 26,
    "start_time": "2022-11-15T07:07:56.076Z"
   },
   {
    "duration": 51,
    "start_time": "2022-11-15T07:07:56.104Z"
   },
   {
    "duration": 8,
    "start_time": "2022-11-15T07:07:56.157Z"
   },
   {
    "duration": 13,
    "start_time": "2022-11-15T07:07:56.167Z"
   },
   {
    "duration": 32,
    "start_time": "2022-11-15T07:07:56.182Z"
   },
   {
    "duration": 17,
    "start_time": "2022-11-15T07:07:56.216Z"
   },
   {
    "duration": 9,
    "start_time": "2022-11-15T07:07:56.234Z"
   },
   {
    "duration": 10,
    "start_time": "2022-11-15T07:07:56.244Z"
   },
   {
    "duration": 6,
    "start_time": "2022-11-15T07:07:56.257Z"
   },
   {
    "duration": 11,
    "start_time": "2022-11-15T07:07:56.265Z"
   },
   {
    "duration": 11,
    "start_time": "2022-11-15T07:07:56.277Z"
   },
   {
    "duration": 34,
    "start_time": "2022-11-15T07:07:56.290Z"
   },
   {
    "duration": 5,
    "start_time": "2022-11-15T07:07:56.326Z"
   },
   {
    "duration": 8,
    "start_time": "2022-11-15T07:07:56.333Z"
   },
   {
    "duration": 9,
    "start_time": "2022-11-15T07:07:56.343Z"
   },
   {
    "duration": 5,
    "start_time": "2022-11-15T07:07:56.354Z"
   },
   {
    "duration": 43,
    "start_time": "2022-11-15T07:07:56.360Z"
   },
   {
    "duration": 5,
    "start_time": "2022-11-15T07:07:56.405Z"
   },
   {
    "duration": 17,
    "start_time": "2022-11-15T07:07:56.411Z"
   },
   {
    "duration": 15,
    "start_time": "2022-11-15T07:07:56.429Z"
   },
   {
    "duration": 9,
    "start_time": "2022-11-15T07:07:56.445Z"
   },
   {
    "duration": 452,
    "start_time": "2022-11-15T07:07:56.456Z"
   },
   {
    "duration": 14,
    "start_time": "2022-11-15T07:07:56.910Z"
   },
   {
    "duration": 113,
    "start_time": "2022-11-15T07:07:56.926Z"
   },
   {
    "duration": 0,
    "start_time": "2022-11-15T07:07:57.041Z"
   },
   {
    "duration": 0,
    "start_time": "2022-11-15T07:07:57.042Z"
   },
   {
    "duration": 3,
    "start_time": "2022-11-15T07:08:04.279Z"
   },
   {
    "duration": 51,
    "start_time": "2022-11-15T07:08:04.773Z"
   },
   {
    "duration": 13,
    "start_time": "2022-11-15T07:08:05.393Z"
   },
   {
    "duration": 16,
    "start_time": "2022-11-15T07:08:05.811Z"
   },
   {
    "duration": 3,
    "start_time": "2022-11-15T07:08:06.513Z"
   },
   {
    "duration": 20,
    "start_time": "2022-11-15T07:08:06.849Z"
   },
   {
    "duration": 14,
    "start_time": "2022-11-15T07:08:07.146Z"
   },
   {
    "duration": 8,
    "start_time": "2022-11-15T07:08:07.729Z"
   },
   {
    "duration": 5,
    "start_time": "2022-11-15T07:08:08.119Z"
   },
   {
    "duration": 13,
    "start_time": "2022-11-15T07:08:08.581Z"
   },
   {
    "duration": 17,
    "start_time": "2022-11-15T07:08:09.093Z"
   },
   {
    "duration": 6,
    "start_time": "2022-11-15T07:08:09.513Z"
   },
   {
    "duration": 4,
    "start_time": "2022-11-15T07:08:11.039Z"
   },
   {
    "duration": 9,
    "start_time": "2022-11-15T07:08:11.856Z"
   },
   {
    "duration": 6,
    "start_time": "2022-11-15T07:08:13.768Z"
   },
   {
    "duration": 7,
    "start_time": "2022-11-15T07:08:15.864Z"
   },
   {
    "duration": 17,
    "start_time": "2022-11-15T07:08:18.306Z"
   },
   {
    "duration": 6,
    "start_time": "2022-11-15T07:08:19.148Z"
   },
   {
    "duration": 4,
    "start_time": "2022-11-15T07:08:26.776Z"
   },
   {
    "duration": 6,
    "start_time": "2022-11-15T07:08:35.101Z"
   },
   {
    "duration": 10,
    "start_time": "2022-11-15T07:08:36.893Z"
   },
   {
    "duration": 5,
    "start_time": "2022-11-15T07:08:38.171Z"
   },
   {
    "duration": 25,
    "start_time": "2022-11-15T07:08:39.423Z"
   },
   {
    "duration": 5,
    "start_time": "2022-11-15T07:08:41.068Z"
   },
   {
    "duration": 16,
    "start_time": "2022-11-15T07:08:41.579Z"
   },
   {
    "duration": 18,
    "start_time": "2022-11-15T07:08:42.062Z"
   },
   {
    "duration": 11,
    "start_time": "2022-11-15T07:08:47.678Z"
   },
   {
    "duration": 436,
    "start_time": "2022-11-15T07:08:48.516Z"
   },
   {
    "duration": 9,
    "start_time": "2022-11-15T07:11:25.513Z"
   },
   {
    "duration": 27,
    "start_time": "2022-11-15T07:11:31.329Z"
   },
   {
    "duration": 22,
    "start_time": "2022-11-15T07:12:57.113Z"
   },
   {
    "duration": 20,
    "start_time": "2022-11-15T07:13:14.881Z"
   },
   {
    "duration": 9,
    "start_time": "2022-11-15T07:13:35.812Z"
   },
   {
    "duration": 12,
    "start_time": "2022-11-15T07:15:55.315Z"
   },
   {
    "duration": 11,
    "start_time": "2022-11-15T07:16:03.427Z"
   },
   {
    "duration": 12,
    "start_time": "2022-11-15T07:16:16.055Z"
   },
   {
    "duration": 22,
    "start_time": "2022-11-15T07:16:45.414Z"
   },
   {
    "duration": 14,
    "start_time": "2022-11-15T07:16:52.708Z"
   },
   {
    "duration": 116,
    "start_time": "2022-11-15T07:17:29.773Z"
   },
   {
    "duration": 12,
    "start_time": "2022-11-15T07:18:17.492Z"
   },
   {
    "duration": 140,
    "start_time": "2022-11-15T07:18:36.010Z"
   },
   {
    "duration": 870,
    "start_time": "2022-11-15T07:20:00.287Z"
   },
   {
    "duration": 712,
    "start_time": "2022-11-15T07:20:35.687Z"
   },
   {
    "duration": 764,
    "start_time": "2022-11-15T07:21:00.645Z"
   },
   {
    "duration": 23,
    "start_time": "2022-11-15T07:22:06.787Z"
   },
   {
    "duration": 130,
    "start_time": "2022-11-15T07:22:44.274Z"
   },
   {
    "duration": 147,
    "start_time": "2022-11-15T07:22:53.024Z"
   },
   {
    "duration": 292,
    "start_time": "2022-11-15T07:24:09.126Z"
   },
   {
    "duration": 3,
    "start_time": "2022-11-15T07:25:10.909Z"
   },
   {
    "duration": 21,
    "start_time": "2022-11-15T07:25:28.931Z"
   },
   {
    "duration": 298,
    "start_time": "2022-11-15T07:27:39.030Z"
   },
   {
    "duration": 19,
    "start_time": "2022-11-15T07:28:22.619Z"
   },
   {
    "duration": 20,
    "start_time": "2022-11-15T07:28:38.978Z"
   },
   {
    "duration": 24,
    "start_time": "2022-11-15T07:33:15.719Z"
   },
   {
    "duration": 23,
    "start_time": "2022-11-15T07:34:03.198Z"
   },
   {
    "duration": 9,
    "start_time": "2022-11-15T07:36:34.428Z"
   },
   {
    "duration": 964,
    "start_time": "2022-11-15T07:40:15.269Z"
   },
   {
    "duration": 805,
    "start_time": "2022-11-15T07:40:30.232Z"
   },
   {
    "duration": 867,
    "start_time": "2022-11-15T07:40:43.242Z"
   },
   {
    "duration": 10,
    "start_time": "2022-11-15T07:46:45.085Z"
   },
   {
    "duration": 9,
    "start_time": "2022-11-15T07:47:29.468Z"
   },
   {
    "duration": 9,
    "start_time": "2022-11-15T07:48:49.624Z"
   },
   {
    "duration": 29,
    "start_time": "2022-11-15T07:51:22.050Z"
   },
   {
    "duration": 315,
    "start_time": "2022-11-15T07:53:18.518Z"
   },
   {
    "duration": 47,
    "start_time": "2022-11-15T07:53:41.927Z"
   },
   {
    "duration": 66,
    "start_time": "2022-11-15T07:53:48.013Z"
   },
   {
    "duration": 185,
    "start_time": "2022-11-15T07:53:54.732Z"
   },
   {
    "duration": 251,
    "start_time": "2022-11-15T07:54:51.093Z"
   },
   {
    "duration": 922,
    "start_time": "2022-11-15T07:55:25.059Z"
   },
   {
    "duration": 907,
    "start_time": "2022-11-15T07:56:52.333Z"
   },
   {
    "duration": 22,
    "start_time": "2022-11-15T07:57:11.450Z"
   },
   {
    "duration": 433,
    "start_time": "2022-11-15T07:57:18.644Z"
   },
   {
    "duration": 186,
    "start_time": "2022-11-15T07:57:37.940Z"
   },
   {
    "duration": 6,
    "start_time": "2022-11-15T08:01:35.642Z"
   },
   {
    "duration": 12,
    "start_time": "2022-11-15T08:02:39.467Z"
   },
   {
    "duration": 13,
    "start_time": "2022-11-15T08:02:56.899Z"
   },
   {
    "duration": 13,
    "start_time": "2022-11-15T08:03:13.058Z"
   },
   {
    "duration": 17,
    "start_time": "2022-11-15T08:03:24.754Z"
   },
   {
    "duration": 13,
    "start_time": "2022-11-15T08:03:40.174Z"
   },
   {
    "duration": 125,
    "start_time": "2022-11-15T08:03:49.298Z"
   },
   {
    "duration": 117,
    "start_time": "2022-11-15T08:04:09.939Z"
   },
   {
    "duration": 394,
    "start_time": "2022-11-15T08:04:42.856Z"
   },
   {
    "duration": 392,
    "start_time": "2022-11-15T08:05:12.210Z"
   },
   {
    "duration": 451,
    "start_time": "2022-11-15T08:06:47.994Z"
   },
   {
    "duration": 23,
    "start_time": "2022-11-15T08:09:54.948Z"
   },
   {
    "duration": 11,
    "start_time": "2022-11-15T08:14:21.222Z"
   },
   {
    "duration": 14,
    "start_time": "2022-11-15T08:15:00.413Z"
   },
   {
    "duration": 135,
    "start_time": "2022-11-15T08:15:07.297Z"
   },
   {
    "duration": 116,
    "start_time": "2022-11-15T08:15:17.690Z"
   },
   {
    "duration": 119,
    "start_time": "2022-11-15T08:17:53.751Z"
   },
   {
    "duration": 153,
    "start_time": "2022-11-15T08:18:14.736Z"
   },
   {
    "duration": 49,
    "start_time": "2022-11-15T08:18:34.039Z"
   },
   {
    "duration": 46,
    "start_time": "2022-11-15T08:18:44.865Z"
   },
   {
    "duration": 410,
    "start_time": "2022-11-15T08:19:05.481Z"
   },
   {
    "duration": 59,
    "start_time": "2022-11-15T08:19:28.753Z"
   },
   {
    "duration": 380,
    "start_time": "2022-11-15T08:19:36.168Z"
   },
   {
    "duration": 209,
    "start_time": "2022-11-15T08:20:45.217Z"
   },
   {
    "duration": 376,
    "start_time": "2022-11-15T08:20:59.237Z"
   },
   {
    "duration": 378,
    "start_time": "2022-11-15T08:22:41.907Z"
   },
   {
    "duration": 397,
    "start_time": "2022-11-15T08:22:55.644Z"
   },
   {
    "duration": 443,
    "start_time": "2022-11-15T08:24:37.162Z"
   },
   {
    "duration": 375,
    "start_time": "2022-11-15T08:26:02.178Z"
   },
   {
    "duration": 355,
    "start_time": "2022-11-15T08:26:15.815Z"
   },
   {
    "duration": 262,
    "start_time": "2022-11-15T08:27:01.173Z"
   },
   {
    "duration": 273,
    "start_time": "2022-11-15T08:27:11.090Z"
   },
   {
    "duration": 101,
    "start_time": "2022-11-15T08:27:44.045Z"
   },
   {
    "duration": 111,
    "start_time": "2022-11-15T08:28:00.893Z"
   },
   {
    "duration": 104,
    "start_time": "2022-11-15T08:28:14.077Z"
   },
   {
    "duration": 22,
    "start_time": "2022-11-15T08:28:25.587Z"
   },
   {
    "duration": 250,
    "start_time": "2022-11-15T08:28:46.404Z"
   },
   {
    "duration": 11,
    "start_time": "2022-11-15T08:30:22.986Z"
   },
   {
    "duration": 12,
    "start_time": "2022-11-15T08:32:00.432Z"
   },
   {
    "duration": 10,
    "start_time": "2022-11-15T08:36:01.711Z"
   },
   {
    "duration": 10,
    "start_time": "2022-11-15T08:36:09.250Z"
   },
   {
    "duration": 10,
    "start_time": "2022-11-15T08:36:20.064Z"
   },
   {
    "duration": 19,
    "start_time": "2022-11-15T08:42:35.951Z"
   },
   {
    "duration": 11,
    "start_time": "2022-11-15T08:43:18.550Z"
   },
   {
    "duration": 13,
    "start_time": "2022-11-15T08:43:38.842Z"
   },
   {
    "duration": 14,
    "start_time": "2022-11-15T08:44:01.405Z"
   },
   {
    "duration": 13,
    "start_time": "2022-11-15T08:45:13.487Z"
   },
   {
    "duration": 396,
    "start_time": "2022-11-15T08:45:33.524Z"
   },
   {
    "duration": 281,
    "start_time": "2022-11-15T08:45:51.394Z"
   },
   {
    "duration": 73,
    "start_time": "2022-11-15T08:46:16.618Z"
   },
   {
    "duration": 13,
    "start_time": "2022-11-15T08:46:27.253Z"
   },
   {
    "duration": 250,
    "start_time": "2022-11-15T08:46:34.195Z"
   },
   {
    "duration": 453,
    "start_time": "2022-11-15T08:48:50.385Z"
   },
   {
    "duration": 474,
    "start_time": "2022-11-15T08:49:03.365Z"
   },
   {
    "duration": 206,
    "start_time": "2022-11-15T08:49:11.627Z"
   },
   {
    "duration": 236,
    "start_time": "2022-11-15T08:49:24.841Z"
   },
   {
    "duration": 321,
    "start_time": "2022-11-15T08:49:46.545Z"
   },
   {
    "duration": 307,
    "start_time": "2022-11-15T08:49:54.576Z"
   },
   {
    "duration": 23,
    "start_time": "2022-11-15T08:51:55.457Z"
   },
   {
    "duration": 359,
    "start_time": "2022-11-15T08:53:09.140Z"
   },
   {
    "duration": 494,
    "start_time": "2022-11-15T08:53:24.583Z"
   },
   {
    "duration": 256,
    "start_time": "2022-11-15T08:54:18.014Z"
   },
   {
    "duration": 51,
    "start_time": "2022-11-15T08:54:30.376Z"
   },
   {
    "duration": 361,
    "start_time": "2022-11-15T08:54:49.028Z"
   },
   {
    "duration": 805,
    "start_time": "2022-11-15T08:54:58.172Z"
   },
   {
    "duration": 185,
    "start_time": "2022-11-15T09:01:01.461Z"
   },
   {
    "duration": 162,
    "start_time": "2022-11-15T09:02:38.208Z"
   },
   {
    "duration": 91,
    "start_time": "2022-11-15T09:06:27.333Z"
   },
   {
    "duration": 52,
    "start_time": "2022-11-15T09:06:49.912Z"
   },
   {
    "duration": 50,
    "start_time": "2022-11-15T09:06:55.550Z"
   },
   {
    "duration": 294,
    "start_time": "2022-11-15T09:07:00.590Z"
   },
   {
    "duration": 30,
    "start_time": "2022-11-15T09:14:42.430Z"
   },
   {
    "duration": 28,
    "start_time": "2022-11-15T09:15:14.061Z"
   },
   {
    "duration": 9,
    "start_time": "2022-11-15T09:22:46.649Z"
   },
   {
    "duration": 10,
    "start_time": "2022-11-15T09:23:01.479Z"
   },
   {
    "duration": 1076,
    "start_time": "2022-11-15T09:23:20.814Z"
   },
   {
    "duration": 53,
    "start_time": "2022-11-15T09:23:21.892Z"
   },
   {
    "duration": 19,
    "start_time": "2022-11-15T09:23:21.946Z"
   },
   {
    "duration": 41,
    "start_time": "2022-11-15T09:23:21.967Z"
   },
   {
    "duration": 4,
    "start_time": "2022-11-15T09:23:22.010Z"
   },
   {
    "duration": 22,
    "start_time": "2022-11-15T09:23:22.016Z"
   },
   {
    "duration": 72,
    "start_time": "2022-11-15T09:23:22.040Z"
   },
   {
    "duration": 7,
    "start_time": "2022-11-15T09:23:22.114Z"
   },
   {
    "duration": 171,
    "start_time": "2022-11-15T09:23:22.123Z"
   },
   {
    "duration": 19,
    "start_time": "2022-11-15T09:23:22.295Z"
   },
   {
    "duration": 17,
    "start_time": "2022-11-15T09:23:22.315Z"
   },
   {
    "duration": 8,
    "start_time": "2022-11-15T09:23:22.333Z"
   },
   {
    "duration": 12,
    "start_time": "2022-11-15T09:23:22.342Z"
   },
   {
    "duration": 15,
    "start_time": "2022-11-15T09:23:22.357Z"
   },
   {
    "duration": 12,
    "start_time": "2022-11-15T09:23:22.374Z"
   },
   {
    "duration": 10,
    "start_time": "2022-11-15T09:23:22.387Z"
   },
   {
    "duration": 18,
    "start_time": "2022-11-15T09:23:22.398Z"
   },
   {
    "duration": 6,
    "start_time": "2022-11-15T09:23:22.418Z"
   },
   {
    "duration": 5,
    "start_time": "2022-11-15T09:23:22.426Z"
   },
   {
    "duration": 12,
    "start_time": "2022-11-15T09:23:22.432Z"
   },
   {
    "duration": 7,
    "start_time": "2022-11-15T09:23:22.445Z"
   },
   {
    "duration": 46,
    "start_time": "2022-11-15T09:23:22.453Z"
   },
   {
    "duration": 5,
    "start_time": "2022-11-15T09:23:22.501Z"
   },
   {
    "duration": 15,
    "start_time": "2022-11-15T09:23:22.508Z"
   },
   {
    "duration": 16,
    "start_time": "2022-11-15T09:23:22.524Z"
   },
   {
    "duration": 11,
    "start_time": "2022-11-15T09:23:22.542Z"
   },
   {
    "duration": 480,
    "start_time": "2022-11-15T09:23:22.565Z"
   },
   {
    "duration": 14,
    "start_time": "2022-11-15T09:23:23.047Z"
   },
   {
    "duration": 174,
    "start_time": "2022-11-15T09:23:23.062Z"
   },
   {
    "duration": 850,
    "start_time": "2022-11-15T09:23:23.237Z"
   },
   {
    "duration": 0,
    "start_time": "2022-11-15T09:23:24.089Z"
   },
   {
    "duration": 0,
    "start_time": "2022-11-15T09:23:24.090Z"
   },
   {
    "duration": 0,
    "start_time": "2022-11-15T09:23:24.091Z"
   },
   {
    "duration": 3,
    "start_time": "2022-11-15T09:23:29.974Z"
   },
   {
    "duration": 50,
    "start_time": "2022-11-15T09:23:30.566Z"
   },
   {
    "duration": 13,
    "start_time": "2022-11-15T09:23:31.278Z"
   },
   {
    "duration": 14,
    "start_time": "2022-11-15T09:23:32.148Z"
   },
   {
    "duration": 3,
    "start_time": "2022-11-15T09:23:33.707Z"
   },
   {
    "duration": 21,
    "start_time": "2022-11-15T09:23:34.615Z"
   },
   {
    "duration": 14,
    "start_time": "2022-11-15T09:23:35.453Z"
   },
   {
    "duration": 8,
    "start_time": "2022-11-15T09:23:37.163Z"
   },
   {
    "duration": 5,
    "start_time": "2022-11-15T09:23:37.925Z"
   },
   {
    "duration": 12,
    "start_time": "2022-11-15T09:23:38.606Z"
   },
   {
    "duration": 17,
    "start_time": "2022-11-15T09:23:39.622Z"
   },
   {
    "duration": 5,
    "start_time": "2022-11-15T09:23:40.324Z"
   },
   {
    "duration": 4,
    "start_time": "2022-11-15T09:23:42.023Z"
   },
   {
    "duration": 6,
    "start_time": "2022-11-15T09:23:42.862Z"
   },
   {
    "duration": 5,
    "start_time": "2022-11-15T09:23:44.378Z"
   },
   {
    "duration": 7,
    "start_time": "2022-11-15T09:23:45.768Z"
   },
   {
    "duration": 15,
    "start_time": "2022-11-15T09:23:47.061Z"
   },
   {
    "duration": 5,
    "start_time": "2022-11-15T09:23:47.772Z"
   },
   {
    "duration": 4,
    "start_time": "2022-11-15T09:23:48.420Z"
   },
   {
    "duration": 12,
    "start_time": "2022-11-15T09:23:50.158Z"
   },
   {
    "duration": 5,
    "start_time": "2022-11-15T09:23:50.852Z"
   },
   {
    "duration": 22,
    "start_time": "2022-11-15T09:23:51.560Z"
   },
   {
    "duration": 6,
    "start_time": "2022-11-15T09:23:52.752Z"
   },
   {
    "duration": 19,
    "start_time": "2022-11-15T09:23:53.350Z"
   },
   {
    "duration": 14,
    "start_time": "2022-11-15T09:23:53.921Z"
   },
   {
    "duration": 9,
    "start_time": "2022-11-15T09:23:55.766Z"
   },
   {
    "duration": 427,
    "start_time": "2022-11-15T09:23:56.549Z"
   },
   {
    "duration": 13,
    "start_time": "2022-11-15T09:24:00.767Z"
   },
   {
    "duration": 152,
    "start_time": "2022-11-15T09:24:03.347Z"
   },
   {
    "duration": 976,
    "start_time": "2022-11-15T09:24:05.450Z"
   },
   {
    "duration": 777,
    "start_time": "2022-11-15T09:24:20.777Z"
   },
   {
    "duration": 10,
    "start_time": "2022-11-15T09:24:45.143Z"
   },
   {
    "duration": 14,
    "start_time": "2022-11-15T09:24:59.467Z"
   },
   {
    "duration": 12,
    "start_time": "2022-11-15T09:25:16.474Z"
   },
   {
    "duration": 13,
    "start_time": "2022-11-15T09:26:52.201Z"
   },
   {
    "duration": 809,
    "start_time": "2022-11-15T09:28:05.720Z"
   },
   {
    "duration": 16,
    "start_time": "2022-11-15T09:28:16.212Z"
   },
   {
    "duration": 415,
    "start_time": "2022-11-15T09:30:08.805Z"
   },
   {
    "duration": 346,
    "start_time": "2022-11-15T09:31:54.855Z"
   },
   {
    "duration": 48,
    "start_time": "2022-11-15T09:34:11.152Z"
   },
   {
    "duration": 322,
    "start_time": "2022-11-15T09:34:22.540Z"
   },
   {
    "duration": 113,
    "start_time": "2022-11-15T09:34:40.520Z"
   },
   {
    "duration": 320,
    "start_time": "2022-11-15T09:34:51.513Z"
   },
   {
    "duration": 14,
    "start_time": "2022-11-15T09:35:23.580Z"
   },
   {
    "duration": 13,
    "start_time": "2022-11-15T09:35:56.044Z"
   },
   {
    "duration": 343,
    "start_time": "2022-11-15T09:36:09.487Z"
   },
   {
    "duration": 13,
    "start_time": "2022-11-15T09:38:00.919Z"
   },
   {
    "duration": 15,
    "start_time": "2022-11-15T09:38:17.217Z"
   },
   {
    "duration": 9,
    "start_time": "2022-11-15T09:38:25.760Z"
   },
   {
    "duration": 168,
    "start_time": "2022-11-15T09:38:35.858Z"
   },
   {
    "duration": 10,
    "start_time": "2022-11-15T09:50:33.290Z"
   },
   {
    "duration": 325,
    "start_time": "2022-11-15T09:50:56.510Z"
   },
   {
    "duration": 255,
    "start_time": "2022-11-15T09:51:28.817Z"
   },
   {
    "duration": 240,
    "start_time": "2022-11-15T09:51:38.017Z"
   },
   {
    "duration": 189,
    "start_time": "2022-11-15T09:51:52.063Z"
   },
   {
    "duration": 259,
    "start_time": "2022-11-15T09:52:01.599Z"
   },
   {
    "duration": 274,
    "start_time": "2022-11-15T09:52:11.896Z"
   },
   {
    "duration": 273,
    "start_time": "2022-11-15T09:53:00.649Z"
   },
   {
    "duration": 7,
    "start_time": "2022-11-15T10:07:57.879Z"
   },
   {
    "duration": 228,
    "start_time": "2022-11-15T10:09:02.698Z"
   },
   {
    "duration": 232,
    "start_time": "2022-11-15T10:09:13.481Z"
   },
   {
    "duration": 15,
    "start_time": "2022-11-15T10:10:14.780Z"
   },
   {
    "duration": 10,
    "start_time": "2022-11-15T10:10:27.754Z"
   },
   {
    "duration": 14,
    "start_time": "2022-11-15T10:10:54.591Z"
   },
   {
    "duration": 14,
    "start_time": "2022-11-15T10:11:12.234Z"
   },
   {
    "duration": 4,
    "start_time": "2022-11-15T10:23:43.140Z"
   },
   {
    "duration": 4,
    "start_time": "2022-11-15T10:23:57.108Z"
   },
   {
    "duration": 72,
    "start_time": "2022-11-15T10:24:16.801Z"
   },
   {
    "duration": 52,
    "start_time": "2022-11-15T10:24:35.805Z"
   },
   {
    "duration": 98,
    "start_time": "2022-11-15T10:33:08.173Z"
   },
   {
    "duration": 76,
    "start_time": "2022-11-15T10:35:26.059Z"
   },
   {
    "duration": 48,
    "start_time": "2022-11-15T10:35:36.136Z"
   },
   {
    "duration": 70,
    "start_time": "2022-11-15T10:36:57.820Z"
   },
   {
    "duration": 56,
    "start_time": "2022-11-15T10:37:12.408Z"
   },
   {
    "duration": 76,
    "start_time": "2022-11-15T10:37:17.059Z"
   },
   {
    "duration": 50,
    "start_time": "2022-11-15T10:40:21.541Z"
   },
   {
    "duration": 91,
    "start_time": "2022-11-15T10:40:40.758Z"
   },
   {
    "duration": 10,
    "start_time": "2022-11-15T10:43:20.859Z"
   },
   {
    "duration": 63,
    "start_time": "2022-11-15T10:43:56.453Z"
   },
   {
    "duration": 8,
    "start_time": "2022-11-15T10:44:02.718Z"
   },
   {
    "duration": 1861,
    "start_time": "2022-11-15T10:44:08.080Z"
   },
   {
    "duration": 6,
    "start_time": "2022-11-15T10:44:23.254Z"
   },
   {
    "duration": 7,
    "start_time": "2022-11-15T10:44:27.348Z"
   },
   {
    "duration": 19,
    "start_time": "2022-11-15T10:45:36.176Z"
   },
   {
    "duration": 12,
    "start_time": "2022-11-15T10:45:46.836Z"
   },
   {
    "duration": 1400,
    "start_time": "2022-11-15T10:46:17.285Z"
   },
   {
    "duration": 951,
    "start_time": "2022-11-15T10:46:25.401Z"
   },
   {
    "duration": 931,
    "start_time": "2022-11-15T10:47:11.442Z"
   },
   {
    "duration": 11,
    "start_time": "2022-11-15T10:47:52.800Z"
   },
   {
    "duration": 8,
    "start_time": "2022-11-15T10:47:58.501Z"
   },
   {
    "duration": 73,
    "start_time": "2022-11-15T10:48:10.831Z"
   },
   {
    "duration": 1233,
    "start_time": "2022-11-15T10:48:15.320Z"
   },
   {
    "duration": 8,
    "start_time": "2022-11-15T10:49:21.593Z"
   },
   {
    "duration": 9,
    "start_time": "2022-11-15T10:49:44.019Z"
   },
   {
    "duration": 10,
    "start_time": "2022-11-15T10:51:50.054Z"
   },
   {
    "duration": 288,
    "start_time": "2022-11-15T10:52:04.930Z"
   },
   {
    "duration": 1139,
    "start_time": "2022-11-15T10:52:38.871Z"
   },
   {
    "duration": 53,
    "start_time": "2022-11-15T10:52:40.012Z"
   },
   {
    "duration": 18,
    "start_time": "2022-11-15T10:52:40.067Z"
   },
   {
    "duration": 23,
    "start_time": "2022-11-15T10:52:40.088Z"
   },
   {
    "duration": 3,
    "start_time": "2022-11-15T10:52:40.114Z"
   },
   {
    "duration": 28,
    "start_time": "2022-11-15T10:52:40.119Z"
   },
   {
    "duration": 69,
    "start_time": "2022-11-15T10:52:40.149Z"
   },
   {
    "duration": 8,
    "start_time": "2022-11-15T10:52:40.220Z"
   },
   {
    "duration": 8,
    "start_time": "2022-11-15T10:52:40.230Z"
   },
   {
    "duration": 17,
    "start_time": "2022-11-15T10:52:40.239Z"
   },
   {
    "duration": 16,
    "start_time": "2022-11-15T10:52:40.257Z"
   },
   {
    "duration": 24,
    "start_time": "2022-11-15T10:52:40.274Z"
   },
   {
    "duration": 15,
    "start_time": "2022-11-15T10:52:40.300Z"
   },
   {
    "duration": 10,
    "start_time": "2022-11-15T10:52:40.318Z"
   },
   {
    "duration": 8,
    "start_time": "2022-11-15T10:52:40.329Z"
   },
   {
    "duration": 11,
    "start_time": "2022-11-15T10:52:40.338Z"
   },
   {
    "duration": 24,
    "start_time": "2022-11-15T10:52:40.351Z"
   },
   {
    "duration": 7,
    "start_time": "2022-11-15T10:52:40.376Z"
   },
   {
    "duration": 5,
    "start_time": "2022-11-15T10:52:40.385Z"
   },
   {
    "duration": 11,
    "start_time": "2022-11-15T10:52:40.392Z"
   },
   {
    "duration": 4,
    "start_time": "2022-11-15T10:52:40.405Z"
   },
   {
    "duration": 19,
    "start_time": "2022-11-15T10:52:40.411Z"
   },
   {
    "duration": 5,
    "start_time": "2022-11-15T10:52:40.432Z"
   },
   {
    "duration": 15,
    "start_time": "2022-11-15T10:52:40.439Z"
   },
   {
    "duration": 19,
    "start_time": "2022-11-15T10:52:40.455Z"
   },
   {
    "duration": 29,
    "start_time": "2022-11-15T10:52:40.476Z"
   },
   {
    "duration": 479,
    "start_time": "2022-11-15T10:52:40.506Z"
   },
   {
    "duration": 18,
    "start_time": "2022-11-15T10:52:40.987Z"
   },
   {
    "duration": 144,
    "start_time": "2022-11-15T10:52:41.007Z"
   },
   {
    "duration": 264,
    "start_time": "2022-11-15T10:52:41.153Z"
   },
   {
    "duration": 14,
    "start_time": "2022-11-15T10:52:41.419Z"
   },
   {
    "duration": 12,
    "start_time": "2022-11-15T10:52:41.434Z"
   },
   {
    "duration": 249,
    "start_time": "2022-11-15T10:52:41.448Z"
   },
   {
    "duration": 4,
    "start_time": "2022-11-15T10:52:50.429Z"
   },
   {
    "duration": 53,
    "start_time": "2022-11-15T10:52:50.917Z"
   },
   {
    "duration": 13,
    "start_time": "2022-11-15T10:52:51.413Z"
   },
   {
    "duration": 15,
    "start_time": "2022-11-15T10:52:51.809Z"
   },
   {
    "duration": 4,
    "start_time": "2022-11-15T10:52:52.575Z"
   },
   {
    "duration": 20,
    "start_time": "2022-11-15T10:52:52.935Z"
   },
   {
    "duration": 15,
    "start_time": "2022-11-15T10:52:53.704Z"
   },
   {
    "duration": 7,
    "start_time": "2022-11-15T10:52:54.984Z"
   },
   {
    "duration": 4,
    "start_time": "2022-11-15T10:52:55.490Z"
   },
   {
    "duration": 13,
    "start_time": "2022-11-15T10:52:56.869Z"
   },
   {
    "duration": 15,
    "start_time": "2022-11-15T10:52:57.437Z"
   },
   {
    "duration": 6,
    "start_time": "2022-11-15T10:52:57.963Z"
   },
   {
    "duration": 5,
    "start_time": "2022-11-15T10:52:58.703Z"
   },
   {
    "duration": 7,
    "start_time": "2022-11-15T10:52:58.962Z"
   },
   {
    "duration": 5,
    "start_time": "2022-11-15T10:52:59.379Z"
   },
   {
    "duration": 6,
    "start_time": "2022-11-15T10:52:59.780Z"
   },
   {
    "duration": 18,
    "start_time": "2022-11-15T10:53:00.121Z"
   },
   {
    "duration": 6,
    "start_time": "2022-11-15T10:53:00.293Z"
   },
   {
    "duration": 5,
    "start_time": "2022-11-15T10:53:00.463Z"
   },
   {
    "duration": 8,
    "start_time": "2022-11-15T10:53:00.783Z"
   },
   {
    "duration": 5,
    "start_time": "2022-11-15T10:53:01.011Z"
   },
   {
    "duration": 18,
    "start_time": "2022-11-15T10:53:01.244Z"
   },
   {
    "duration": 5,
    "start_time": "2022-11-15T10:53:01.658Z"
   },
   {
    "duration": 15,
    "start_time": "2022-11-15T10:53:02.003Z"
   },
   {
    "duration": 13,
    "start_time": "2022-11-15T10:53:02.279Z"
   },
   {
    "duration": 10,
    "start_time": "2022-11-15T10:53:03.297Z"
   },
   {
    "duration": 411,
    "start_time": "2022-11-15T10:53:03.707Z"
   },
   {
    "duration": 15,
    "start_time": "2022-11-15T10:53:05.066Z"
   },
   {
    "duration": 202,
    "start_time": "2022-11-15T10:53:05.723Z"
   },
   {
    "duration": 281,
    "start_time": "2022-11-15T10:53:09.831Z"
   },
   {
    "duration": 14,
    "start_time": "2022-11-15T10:53:13.652Z"
   },
   {
    "duration": 6,
    "start_time": "2022-11-15T10:53:17.246Z"
   },
   {
    "duration": 255,
    "start_time": "2022-11-15T10:53:18.062Z"
   },
   {
    "duration": 7,
    "start_time": "2022-11-15T10:53:42.916Z"
   },
   {
    "duration": 227,
    "start_time": "2022-11-15T10:53:46.353Z"
   },
   {
    "duration": 1139,
    "start_time": "2022-11-15T10:53:54.958Z"
   },
   {
    "duration": 52,
    "start_time": "2022-11-15T10:53:56.099Z"
   },
   {
    "duration": 14,
    "start_time": "2022-11-15T10:53:56.152Z"
   },
   {
    "duration": 19,
    "start_time": "2022-11-15T10:53:56.168Z"
   },
   {
    "duration": 6,
    "start_time": "2022-11-15T10:53:56.189Z"
   },
   {
    "duration": 39,
    "start_time": "2022-11-15T10:53:56.197Z"
   },
   {
    "duration": 57,
    "start_time": "2022-11-15T10:53:56.238Z"
   },
   {
    "duration": 8,
    "start_time": "2022-11-15T10:53:56.296Z"
   },
   {
    "duration": 36,
    "start_time": "2022-11-15T10:53:56.305Z"
   },
   {
    "duration": 39,
    "start_time": "2022-11-15T10:53:56.344Z"
   },
   {
    "duration": 34,
    "start_time": "2022-11-15T10:53:56.385Z"
   },
   {
    "duration": 25,
    "start_time": "2022-11-15T10:53:56.421Z"
   },
   {
    "duration": 32,
    "start_time": "2022-11-15T10:53:56.448Z"
   },
   {
    "duration": 14,
    "start_time": "2022-11-15T10:53:56.482Z"
   },
   {
    "duration": 33,
    "start_time": "2022-11-15T10:53:56.497Z"
   },
   {
    "duration": 21,
    "start_time": "2022-11-15T10:53:56.532Z"
   },
   {
    "duration": 32,
    "start_time": "2022-11-15T10:53:56.554Z"
   },
   {
    "duration": 17,
    "start_time": "2022-11-15T10:53:56.588Z"
   },
   {
    "duration": 23,
    "start_time": "2022-11-15T10:53:56.607Z"
   },
   {
    "duration": 40,
    "start_time": "2022-11-15T10:53:56.632Z"
   },
   {
    "duration": 8,
    "start_time": "2022-11-15T10:53:56.674Z"
   },
   {
    "duration": 34,
    "start_time": "2022-11-15T10:53:56.683Z"
   },
   {
    "duration": 13,
    "start_time": "2022-11-15T10:53:56.718Z"
   },
   {
    "duration": 21,
    "start_time": "2022-11-15T10:53:56.733Z"
   },
   {
    "duration": 24,
    "start_time": "2022-11-15T10:53:56.756Z"
   },
   {
    "duration": 17,
    "start_time": "2022-11-15T10:53:56.782Z"
   },
   {
    "duration": 448,
    "start_time": "2022-11-15T10:53:56.801Z"
   },
   {
    "duration": 15,
    "start_time": "2022-11-15T10:53:57.253Z"
   },
   {
    "duration": 154,
    "start_time": "2022-11-15T10:53:57.270Z"
   },
   {
    "duration": 285,
    "start_time": "2022-11-15T10:53:57.426Z"
   },
   {
    "duration": 14,
    "start_time": "2022-11-15T10:53:57.713Z"
   },
   {
    "duration": 46,
    "start_time": "2022-11-15T10:53:57.729Z"
   },
   {
    "duration": 250,
    "start_time": "2022-11-15T10:53:57.777Z"
   },
   {
    "duration": 3,
    "start_time": "2022-11-15T10:54:02.837Z"
   },
   {
    "duration": 47,
    "start_time": "2022-11-15T10:54:03.156Z"
   },
   {
    "duration": 12,
    "start_time": "2022-11-15T10:54:03.351Z"
   },
   {
    "duration": 14,
    "start_time": "2022-11-15T10:54:03.511Z"
   },
   {
    "duration": 3,
    "start_time": "2022-11-15T10:54:03.833Z"
   },
   {
    "duration": 16,
    "start_time": "2022-11-15T10:54:03.990Z"
   },
   {
    "duration": 14,
    "start_time": "2022-11-15T10:54:04.147Z"
   },
   {
    "duration": 8,
    "start_time": "2022-11-15T10:54:04.473Z"
   },
   {
    "duration": 6,
    "start_time": "2022-11-15T10:54:04.609Z"
   },
   {
    "duration": 14,
    "start_time": "2022-11-15T10:54:04.771Z"
   },
   {
    "duration": 16,
    "start_time": "2022-11-15T10:54:04.921Z"
   },
   {
    "duration": 5,
    "start_time": "2022-11-15T10:54:05.063Z"
   },
   {
    "duration": 5,
    "start_time": "2022-11-15T10:54:05.359Z"
   },
   {
    "duration": 7,
    "start_time": "2022-11-15T10:54:05.513Z"
   },
   {
    "duration": 4,
    "start_time": "2022-11-15T10:54:05.827Z"
   },
   {
    "duration": 7,
    "start_time": "2022-11-15T10:54:06.138Z"
   },
   {
    "duration": 16,
    "start_time": "2022-11-15T10:54:06.462Z"
   },
   {
    "duration": 5,
    "start_time": "2022-11-15T10:54:06.607Z"
   },
   {
    "duration": 5,
    "start_time": "2022-11-15T10:54:06.765Z"
   },
   {
    "duration": 9,
    "start_time": "2022-11-15T10:54:07.097Z"
   },
   {
    "duration": 4,
    "start_time": "2022-11-15T10:54:07.255Z"
   },
   {
    "duration": 18,
    "start_time": "2022-11-15T10:54:07.481Z"
   },
   {
    "duration": 6,
    "start_time": "2022-11-15T10:54:07.971Z"
   },
   {
    "duration": 14,
    "start_time": "2022-11-15T10:54:08.169Z"
   },
   {
    "duration": 12,
    "start_time": "2022-11-15T10:54:08.365Z"
   },
   {
    "duration": 9,
    "start_time": "2022-11-15T10:54:08.873Z"
   },
   {
    "duration": 411,
    "start_time": "2022-11-15T10:54:09.031Z"
   },
   {
    "duration": 14,
    "start_time": "2022-11-15T10:54:09.577Z"
   },
   {
    "duration": 226,
    "start_time": "2022-11-15T10:54:09.755Z"
   },
   {
    "duration": 246,
    "start_time": "2022-11-15T10:54:10.567Z"
   },
   {
    "duration": 16,
    "start_time": "2022-11-15T10:54:11.913Z"
   },
   {
    "duration": 6,
    "start_time": "2022-11-15T10:54:12.845Z"
   },
   {
    "duration": 219,
    "start_time": "2022-11-15T10:54:13.717Z"
   },
   {
    "duration": 56,
    "start_time": "2022-11-15T10:55:19.341Z"
   },
   {
    "duration": 51,
    "start_time": "2022-11-15T10:55:35.545Z"
   },
   {
    "duration": 54,
    "start_time": "2022-11-15T10:55:44.341Z"
   },
   {
    "duration": 7,
    "start_time": "2022-11-15T10:55:57.509Z"
   },
   {
    "duration": 5,
    "start_time": "2022-11-15T10:56:19.538Z"
   },
   {
    "duration": 7,
    "start_time": "2022-11-15T10:56:35.335Z"
   },
   {
    "duration": 6,
    "start_time": "2022-11-15T10:56:37.264Z"
   },
   {
    "duration": 234,
    "start_time": "2022-11-15T10:56:46.144Z"
   },
   {
    "duration": 1060,
    "start_time": "2022-11-15T10:56:56.227Z"
   },
   {
    "duration": 51,
    "start_time": "2022-11-15T10:56:57.289Z"
   },
   {
    "duration": 14,
    "start_time": "2022-11-15T10:56:57.341Z"
   },
   {
    "duration": 67,
    "start_time": "2022-11-15T10:56:57.356Z"
   },
   {
    "duration": 24,
    "start_time": "2022-11-15T10:56:57.426Z"
   },
   {
    "duration": 30,
    "start_time": "2022-11-15T10:56:57.452Z"
   },
   {
    "duration": 66,
    "start_time": "2022-11-15T10:56:57.484Z"
   },
   {
    "duration": 7,
    "start_time": "2022-11-15T10:56:57.552Z"
   },
   {
    "duration": 29,
    "start_time": "2022-11-15T10:56:57.561Z"
   },
   {
    "duration": 30,
    "start_time": "2022-11-15T10:56:57.593Z"
   },
   {
    "duration": 19,
    "start_time": "2022-11-15T10:56:57.625Z"
   },
   {
    "duration": 7,
    "start_time": "2022-11-15T10:56:57.646Z"
   },
   {
    "duration": 9,
    "start_time": "2022-11-15T10:56:57.655Z"
   },
   {
    "duration": 10,
    "start_time": "2022-11-15T10:56:57.666Z"
   },
   {
    "duration": 21,
    "start_time": "2022-11-15T10:56:57.677Z"
   },
   {
    "duration": 7,
    "start_time": "2022-11-15T10:56:57.699Z"
   },
   {
    "duration": 22,
    "start_time": "2022-11-15T10:56:57.708Z"
   },
   {
    "duration": 5,
    "start_time": "2022-11-15T10:56:57.732Z"
   },
   {
    "duration": 7,
    "start_time": "2022-11-15T10:56:57.738Z"
   },
   {
    "duration": 11,
    "start_time": "2022-11-15T10:56:57.746Z"
   },
   {
    "duration": 10,
    "start_time": "2022-11-15T10:56:57.759Z"
   },
   {
    "duration": 20,
    "start_time": "2022-11-15T10:56:57.797Z"
   },
   {
    "duration": 5,
    "start_time": "2022-11-15T10:56:57.819Z"
   },
   {
    "duration": 16,
    "start_time": "2022-11-15T10:56:57.825Z"
   },
   {
    "duration": 14,
    "start_time": "2022-11-15T10:56:57.842Z"
   },
   {
    "duration": 9,
    "start_time": "2022-11-15T10:56:57.858Z"
   },
   {
    "duration": 472,
    "start_time": "2022-11-15T10:56:57.868Z"
   },
   {
    "duration": 14,
    "start_time": "2022-11-15T10:56:58.342Z"
   },
   {
    "duration": 158,
    "start_time": "2022-11-15T10:56:58.358Z"
   },
   {
    "duration": 270,
    "start_time": "2022-11-15T10:56:58.517Z"
   },
   {
    "duration": 19,
    "start_time": "2022-11-15T10:56:58.788Z"
   },
   {
    "duration": 9,
    "start_time": "2022-11-15T10:56:58.808Z"
   },
   {
    "duration": 8,
    "start_time": "2022-11-15T10:56:58.819Z"
   },
   {
    "duration": 254,
    "start_time": "2022-11-15T10:56:58.828Z"
   },
   {
    "duration": 3,
    "start_time": "2022-11-15T10:57:04.920Z"
   },
   {
    "duration": 47,
    "start_time": "2022-11-15T10:57:05.315Z"
   },
   {
    "duration": 14,
    "start_time": "2022-11-15T10:57:05.499Z"
   },
   {
    "duration": 15,
    "start_time": "2022-11-15T10:57:05.645Z"
   },
   {
    "duration": 3,
    "start_time": "2022-11-15T10:57:05.954Z"
   },
   {
    "duration": 26,
    "start_time": "2022-11-15T10:57:06.107Z"
   },
   {
    "duration": 22,
    "start_time": "2022-11-15T10:57:06.265Z"
   },
   {
    "duration": 10,
    "start_time": "2022-11-15T10:57:06.545Z"
   },
   {
    "duration": 6,
    "start_time": "2022-11-15T10:57:06.669Z"
   },
   {
    "duration": 14,
    "start_time": "2022-11-15T10:57:06.804Z"
   },
   {
    "duration": 15,
    "start_time": "2022-11-15T10:57:06.967Z"
   },
   {
    "duration": 6,
    "start_time": "2022-11-15T10:57:07.169Z"
   },
   {
    "duration": 5,
    "start_time": "2022-11-15T10:57:07.486Z"
   },
   {
    "duration": 6,
    "start_time": "2022-11-15T10:57:07.626Z"
   },
   {
    "duration": 6,
    "start_time": "2022-11-15T10:57:07.941Z"
   },
   {
    "duration": 10,
    "start_time": "2022-11-15T10:57:08.259Z"
   },
   {
    "duration": 26,
    "start_time": "2022-11-15T10:57:08.600Z"
   },
   {
    "duration": 5,
    "start_time": "2022-11-15T10:57:08.774Z"
   },
   {
    "duration": 5,
    "start_time": "2022-11-15T10:57:08.963Z"
   },
   {
    "duration": 9,
    "start_time": "2022-11-15T10:57:09.402Z"
   },
   {
    "duration": 5,
    "start_time": "2022-11-15T10:57:09.614Z"
   },
   {
    "duration": 22,
    "start_time": "2022-11-15T10:57:09.861Z"
   },
   {
    "duration": 5,
    "start_time": "2022-11-15T10:57:10.189Z"
   },
   {
    "duration": 16,
    "start_time": "2022-11-15T10:57:10.577Z"
   },
   {
    "duration": 13,
    "start_time": "2022-11-15T10:57:10.850Z"
   },
   {
    "duration": 9,
    "start_time": "2022-11-15T10:57:11.615Z"
   },
   {
    "duration": 471,
    "start_time": "2022-11-15T10:57:11.890Z"
   },
   {
    "duration": 13,
    "start_time": "2022-11-15T10:57:13.128Z"
   },
   {
    "duration": 204,
    "start_time": "2022-11-15T10:57:13.571Z"
   },
   {
    "duration": 253,
    "start_time": "2022-11-15T10:57:15.083Z"
   },
   {
    "duration": 15,
    "start_time": "2022-11-15T10:57:19.326Z"
   },
   {
    "duration": 5,
    "start_time": "2022-11-15T10:57:22.335Z"
   },
   {
    "duration": 5,
    "start_time": "2022-11-15T10:57:23.283Z"
   },
   {
    "duration": 273,
    "start_time": "2022-11-15T10:57:30.024Z"
   },
   {
    "duration": 257,
    "start_time": "2022-11-15T11:35:51.828Z"
   },
   {
    "duration": 266,
    "start_time": "2022-11-15T11:36:00.767Z"
   },
   {
    "duration": 94,
    "start_time": "2022-11-15T11:44:10.451Z"
   },
   {
    "duration": 364,
    "start_time": "2022-11-15T11:44:19.907Z"
   },
   {
    "duration": 325,
    "start_time": "2022-11-15T11:44:41.172Z"
   },
   {
    "duration": 307,
    "start_time": "2022-11-15T11:46:08.804Z"
   },
   {
    "duration": 337,
    "start_time": "2022-11-15T11:46:31.224Z"
   },
   {
    "duration": 324,
    "start_time": "2022-11-15T11:47:58.842Z"
   },
   {
    "duration": 301,
    "start_time": "2022-11-15T11:57:16.475Z"
   },
   {
    "duration": 404,
    "start_time": "2022-11-15T11:58:52.496Z"
   },
   {
    "duration": 23,
    "start_time": "2022-11-15T12:32:00.664Z"
   },
   {
    "duration": 342,
    "start_time": "2022-11-15T12:32:21.381Z"
   },
   {
    "duration": 423,
    "start_time": "2022-11-15T12:37:14.537Z"
   },
   {
    "duration": 1421,
    "start_time": "2022-11-15T13:07:55.122Z"
   },
   {
    "duration": 188,
    "start_time": "2022-11-15T13:07:56.545Z"
   },
   {
    "duration": 26,
    "start_time": "2022-11-15T13:07:56.735Z"
   },
   {
    "duration": 45,
    "start_time": "2022-11-15T13:07:56.764Z"
   },
   {
    "duration": 3,
    "start_time": "2022-11-15T13:07:56.862Z"
   },
   {
    "duration": 18,
    "start_time": "2022-11-15T13:07:57.018Z"
   },
   {
    "duration": 67,
    "start_time": "2022-11-15T13:07:57.274Z"
   },
   {
    "duration": 8,
    "start_time": "2022-11-15T13:07:57.580Z"
   },
   {
    "duration": 5,
    "start_time": "2022-11-15T13:07:57.720Z"
   },
   {
    "duration": 17,
    "start_time": "2022-11-15T13:07:57.853Z"
   },
   {
    "duration": 25,
    "start_time": "2022-11-15T13:07:57.992Z"
   },
   {
    "duration": 6,
    "start_time": "2022-11-15T13:07:58.130Z"
   },
   {
    "duration": 6,
    "start_time": "2022-11-15T13:07:58.396Z"
   },
   {
    "duration": 13,
    "start_time": "2022-11-15T13:07:58.541Z"
   },
   {
    "duration": 5,
    "start_time": "2022-11-15T13:07:58.821Z"
   },
   {
    "duration": 8,
    "start_time": "2022-11-15T13:07:59.098Z"
   },
   {
    "duration": 18,
    "start_time": "2022-11-15T13:07:59.382Z"
   },
   {
    "duration": 6,
    "start_time": "2022-11-15T13:07:59.528Z"
   },
   {
    "duration": 5,
    "start_time": "2022-11-15T13:07:59.672Z"
   },
   {
    "duration": 16,
    "start_time": "2022-11-15T13:07:59.981Z"
   },
   {
    "duration": 6,
    "start_time": "2022-11-15T13:08:00.199Z"
   },
   {
    "duration": 22,
    "start_time": "2022-11-15T13:08:00.368Z"
   },
   {
    "duration": 6,
    "start_time": "2022-11-15T13:08:00.720Z"
   },
   {
    "duration": 16,
    "start_time": "2022-11-15T13:08:00.854Z"
   },
   {
    "duration": 17,
    "start_time": "2022-11-15T13:08:01.027Z"
   },
   {
    "duration": 11,
    "start_time": "2022-11-15T13:08:01.470Z"
   },
   {
    "duration": 482,
    "start_time": "2022-11-15T13:08:01.626Z"
   },
   {
    "duration": 26,
    "start_time": "2022-11-15T13:08:02.110Z"
   },
   {
    "duration": 165,
    "start_time": "2022-11-15T13:08:02.248Z"
   },
   {
    "duration": 337,
    "start_time": "2022-11-15T13:08:02.724Z"
   },
   {
    "duration": 20,
    "start_time": "2022-11-15T13:08:03.064Z"
   },
   {
    "duration": 6,
    "start_time": "2022-11-15T13:08:03.381Z"
   },
   {
    "duration": 5,
    "start_time": "2022-11-15T13:08:03.712Z"
   },
   {
    "duration": 277,
    "start_time": "2022-11-15T13:08:03.949Z"
   },
   {
    "duration": 373,
    "start_time": "2022-11-15T13:08:04.659Z"
   },
   {
    "duration": 485,
    "start_time": "2022-11-15T13:08:05.320Z"
   },
   {
    "duration": 195,
    "start_time": "2022-11-15T13:10:45.333Z"
   },
   {
    "duration": 220,
    "start_time": "2022-11-15T13:10:48.238Z"
   },
   {
    "duration": 215,
    "start_time": "2022-11-15T13:12:04.627Z"
   },
   {
    "duration": 219,
    "start_time": "2022-11-15T13:12:13.290Z"
   },
   {
    "duration": 216,
    "start_time": "2022-11-15T13:14:07.502Z"
   },
   {
    "duration": 220,
    "start_time": "2022-11-15T13:14:19.859Z"
   },
   {
    "duration": 192,
    "start_time": "2022-11-15T13:14:36.505Z"
   },
   {
    "duration": 140,
    "start_time": "2022-11-15T13:16:19.151Z"
   },
   {
    "duration": 44,
    "start_time": "2022-11-15T13:16:33.148Z"
   },
   {
    "duration": 84,
    "start_time": "2022-11-15T13:17:05.466Z"
   },
   {
    "duration": 48,
    "start_time": "2022-11-15T13:18:15.351Z"
   },
   {
    "duration": 945,
    "start_time": "2022-11-15T13:21:20.217Z"
   },
   {
    "duration": 170,
    "start_time": "2022-11-15T13:21:42.967Z"
   },
   {
    "duration": 194,
    "start_time": "2022-11-15T13:25:33.666Z"
   },
   {
    "duration": 280,
    "start_time": "2022-11-15T13:26:17.229Z"
   },
   {
    "duration": 195,
    "start_time": "2022-11-15T13:27:06.440Z"
   },
   {
    "duration": 321,
    "start_time": "2022-11-15T13:27:14.226Z"
   },
   {
    "duration": 4,
    "start_time": "2022-11-15T13:28:00.539Z"
   },
   {
    "duration": 384,
    "start_time": "2022-11-15T13:28:03.818Z"
   },
   {
    "duration": 194,
    "start_time": "2022-11-15T13:29:05.521Z"
   },
   {
    "duration": 204,
    "start_time": "2022-11-15T13:29:16.331Z"
   },
   {
    "duration": 185,
    "start_time": "2022-11-15T13:31:29.042Z"
   },
   {
    "duration": 193,
    "start_time": "2022-11-15T13:31:45.124Z"
   },
   {
    "duration": 86,
    "start_time": "2022-11-15T13:34:25.838Z"
   },
   {
    "duration": 148,
    "start_time": "2022-11-15T13:42:34.057Z"
   },
   {
    "duration": 157,
    "start_time": "2022-11-15T13:49:20.993Z"
   },
   {
    "duration": 163,
    "start_time": "2022-11-15T13:50:01.527Z"
   },
   {
    "duration": 152,
    "start_time": "2022-11-15T13:50:10.211Z"
   },
   {
    "duration": 172,
    "start_time": "2022-11-15T13:55:04.228Z"
   },
   {
    "duration": 152,
    "start_time": "2022-11-15T13:55:14.675Z"
   },
   {
    "duration": 157,
    "start_time": "2022-11-15T13:55:21.455Z"
   },
   {
    "duration": 908,
    "start_time": "2022-11-15T13:56:43.236Z"
   },
   {
    "duration": 5,
    "start_time": "2022-11-15T14:00:00.522Z"
   },
   {
    "duration": 1267,
    "start_time": "2022-11-15T14:07:09.625Z"
   },
   {
    "duration": 277,
    "start_time": "2022-11-15T14:08:25.900Z"
   },
   {
    "duration": 154,
    "start_time": "2022-11-15T14:08:39.333Z"
   },
   {
    "duration": 155,
    "start_time": "2022-11-15T14:09:00.014Z"
   },
   {
    "duration": 174,
    "start_time": "2022-11-15T14:09:06.619Z"
   },
   {
    "duration": 140,
    "start_time": "2022-11-15T14:09:23.649Z"
   },
   {
    "duration": 160,
    "start_time": "2022-11-15T14:09:37.048Z"
   },
   {
    "duration": 160,
    "start_time": "2022-11-15T14:10:04.642Z"
   },
   {
    "duration": 168,
    "start_time": "2022-11-15T14:10:14.491Z"
   },
   {
    "duration": 161,
    "start_time": "2022-11-15T14:10:21.569Z"
   },
   {
    "duration": 153,
    "start_time": "2022-11-15T14:10:27.198Z"
   },
   {
    "duration": 159,
    "start_time": "2022-11-15T14:11:17.732Z"
   },
   {
    "duration": 162,
    "start_time": "2022-11-15T14:11:51.690Z"
   },
   {
    "duration": 165,
    "start_time": "2022-11-15T14:12:06.791Z"
   },
   {
    "duration": 273,
    "start_time": "2022-11-15T14:12:13.100Z"
   },
   {
    "duration": 957,
    "start_time": "2022-11-15T14:12:16.729Z"
   },
   {
    "duration": 958,
    "start_time": "2022-11-15T14:12:32.912Z"
   },
   {
    "duration": 176,
    "start_time": "2022-11-15T14:12:56.788Z"
   },
   {
    "duration": 254,
    "start_time": "2022-11-15T14:13:14.999Z"
   },
   {
    "duration": 245,
    "start_time": "2022-11-15T14:13:29.716Z"
   },
   {
    "duration": 242,
    "start_time": "2022-11-15T14:14:10.464Z"
   },
   {
    "duration": 290,
    "start_time": "2022-11-15T14:14:24.640Z"
   },
   {
    "duration": 237,
    "start_time": "2022-11-15T14:14:29.681Z"
   },
   {
    "duration": 236,
    "start_time": "2022-11-15T14:14:37.742Z"
   },
   {
    "duration": 248,
    "start_time": "2022-11-15T14:14:45.314Z"
   },
   {
    "duration": 391,
    "start_time": "2022-11-15T14:15:04.237Z"
   },
   {
    "duration": 236,
    "start_time": "2022-11-15T14:15:08.765Z"
   },
   {
    "duration": 259,
    "start_time": "2022-11-15T14:15:16.797Z"
   },
   {
    "duration": 252,
    "start_time": "2022-11-15T14:15:21.664Z"
   },
   {
    "duration": 231,
    "start_time": "2022-11-15T14:15:28.597Z"
   },
   {
    "duration": 226,
    "start_time": "2022-11-15T14:15:33.785Z"
   },
   {
    "duration": 246,
    "start_time": "2022-11-15T14:15:43.168Z"
   },
   {
    "duration": 246,
    "start_time": "2022-11-15T14:15:56.326Z"
   },
   {
    "duration": 262,
    "start_time": "2022-11-15T14:16:05.870Z"
   },
   {
    "duration": 262,
    "start_time": "2022-11-15T14:17:20.476Z"
   },
   {
    "duration": 236,
    "start_time": "2022-11-15T14:17:30.826Z"
   },
   {
    "duration": 371,
    "start_time": "2022-11-15T14:18:25.340Z"
   },
   {
    "duration": 242,
    "start_time": "2022-11-15T14:18:33.262Z"
   },
   {
    "duration": 245,
    "start_time": "2022-11-15T14:18:48.894Z"
   },
   {
    "duration": 235,
    "start_time": "2022-11-15T14:18:53.024Z"
   },
   {
    "duration": 313,
    "start_time": "2022-11-15T14:19:11.010Z"
   },
   {
    "duration": 338,
    "start_time": "2022-11-15T14:20:08.568Z"
   },
   {
    "duration": 196,
    "start_time": "2022-11-15T14:20:38.748Z"
   },
   {
    "duration": 323,
    "start_time": "2022-11-15T14:20:44.058Z"
   },
   {
    "duration": 191,
    "start_time": "2022-11-15T14:21:20.398Z"
   },
   {
    "duration": 201,
    "start_time": "2022-11-15T14:21:26.837Z"
   },
   {
    "duration": 315,
    "start_time": "2022-11-15T14:21:34.837Z"
   },
   {
    "duration": 418,
    "start_time": "2022-11-15T14:21:40.755Z"
   },
   {
    "duration": 304,
    "start_time": "2022-11-15T14:21:46.890Z"
   },
   {
    "duration": 334,
    "start_time": "2022-11-15T14:22:01.893Z"
   },
   {
    "duration": 332,
    "start_time": "2022-11-15T14:22:06.708Z"
   },
   {
    "duration": 225,
    "start_time": "2022-11-15T14:22:24.016Z"
   },
   {
    "duration": 227,
    "start_time": "2022-11-15T14:22:45.029Z"
   },
   {
    "duration": 316,
    "start_time": "2022-11-15T14:22:54.611Z"
   },
   {
    "duration": 340,
    "start_time": "2022-11-15T14:23:06.476Z"
   },
   {
    "duration": 302,
    "start_time": "2022-11-15T14:23:11.229Z"
   },
   {
    "duration": 339,
    "start_time": "2022-11-15T14:23:21.297Z"
   },
   {
    "duration": 320,
    "start_time": "2022-11-15T14:25:08.446Z"
   },
   {
    "duration": 463,
    "start_time": "2022-11-15T14:25:16.314Z"
   },
   {
    "duration": 203,
    "start_time": "2022-11-15T14:25:20.732Z"
   },
   {
    "duration": 202,
    "start_time": "2022-11-15T14:25:24.452Z"
   },
   {
    "duration": 302,
    "start_time": "2022-11-15T14:25:28.803Z"
   },
   {
    "duration": 216,
    "start_time": "2022-11-15T14:25:49.299Z"
   },
   {
    "duration": 298,
    "start_time": "2022-11-15T14:25:56.245Z"
   },
   {
    "duration": 201,
    "start_time": "2022-11-15T14:26:51.243Z"
   },
   {
    "duration": 313,
    "start_time": "2022-11-15T14:26:58.323Z"
   },
   {
    "duration": 190,
    "start_time": "2022-11-15T14:27:14.097Z"
   },
   {
    "duration": 206,
    "start_time": "2022-11-15T14:27:18.894Z"
   },
   {
    "duration": 343,
    "start_time": "2022-11-15T14:27:25.939Z"
   },
   {
    "duration": 189,
    "start_time": "2022-11-15T14:27:44.544Z"
   },
   {
    "duration": 333,
    "start_time": "2022-11-15T14:28:26.949Z"
   },
   {
    "duration": 294,
    "start_time": "2022-11-15T14:28:50.789Z"
   },
   {
    "duration": 315,
    "start_time": "2022-11-15T14:29:01.011Z"
   },
   {
    "duration": 316,
    "start_time": "2022-11-15T14:29:20.986Z"
   },
   {
    "duration": 380,
    "start_time": "2022-11-15T14:31:21.161Z"
   },
   {
    "duration": 242,
    "start_time": "2022-11-15T14:32:25.098Z"
   },
   {
    "duration": 387,
    "start_time": "2022-11-15T14:32:28.902Z"
   },
   {
    "duration": 353,
    "start_time": "2022-11-15T14:32:35.882Z"
   },
   {
    "duration": 5,
    "start_time": "2022-11-15T14:35:26.949Z"
   },
   {
    "duration": 213,
    "start_time": "2022-11-15T14:38:23.377Z"
   },
   {
    "duration": 213,
    "start_time": "2022-11-15T14:38:26.699Z"
   },
   {
    "duration": 345,
    "start_time": "2022-11-15T14:38:32.897Z"
   },
   {
    "duration": 1069,
    "start_time": "2022-11-15T14:42:21.087Z"
   },
   {
    "duration": 345,
    "start_time": "2022-11-15T14:42:29.244Z"
   },
   {
    "duration": 542,
    "start_time": "2022-11-15T14:43:02.304Z"
   },
   {
    "duration": 192,
    "start_time": "2022-11-15T14:43:31.617Z"
   },
   {
    "duration": 385,
    "start_time": "2022-11-15T14:43:41.575Z"
   },
   {
    "duration": 198,
    "start_time": "2022-11-15T14:44:07.611Z"
   },
   {
    "duration": 385,
    "start_time": "2022-11-15T14:44:19.606Z"
   },
   {
    "duration": 357,
    "start_time": "2022-11-15T14:46:58.078Z"
   },
   {
    "duration": 364,
    "start_time": "2022-11-15T14:47:11.772Z"
   },
   {
    "duration": 368,
    "start_time": "2022-11-15T14:47:58.772Z"
   },
   {
    "duration": 194,
    "start_time": "2022-11-15T14:48:16.267Z"
   },
   {
    "duration": 341,
    "start_time": "2022-11-15T14:48:28.147Z"
   },
   {
    "duration": 340,
    "start_time": "2022-11-15T14:49:15.556Z"
   },
   {
    "duration": 473,
    "start_time": "2022-11-15T14:50:55.623Z"
   },
   {
    "duration": 374,
    "start_time": "2022-11-15T14:51:11.655Z"
   },
   {
    "duration": 370,
    "start_time": "2022-11-15T14:51:53.180Z"
   },
   {
    "duration": 891,
    "start_time": "2022-11-15T14:53:13.648Z"
   },
   {
    "duration": 15,
    "start_time": "2022-11-15T14:53:49.501Z"
   },
   {
    "duration": 190,
    "start_time": "2022-11-15T14:53:59.110Z"
   },
   {
    "duration": 20,
    "start_time": "2022-11-15T14:55:17.704Z"
   },
   {
    "duration": 205,
    "start_time": "2022-11-15T14:55:31.890Z"
   },
   {
    "duration": 188,
    "start_time": "2022-11-15T14:56:09.935Z"
   },
   {
    "duration": 968,
    "start_time": "2022-11-15T14:56:41.513Z"
   },
   {
    "duration": 206,
    "start_time": "2022-11-15T14:56:55.438Z"
   },
   {
    "duration": 372,
    "start_time": "2022-11-15T14:57:39.615Z"
   },
   {
    "duration": 208,
    "start_time": "2022-11-15T14:59:13.273Z"
   },
   {
    "duration": 16,
    "start_time": "2022-11-15T15:01:58.164Z"
   },
   {
    "duration": 192,
    "start_time": "2022-11-15T15:02:04.129Z"
   },
   {
    "duration": 10,
    "start_time": "2022-11-15T15:03:26.418Z"
   },
   {
    "duration": 183,
    "start_time": "2022-11-15T15:03:37.802Z"
   },
   {
    "duration": 186,
    "start_time": "2022-11-15T15:03:53.028Z"
   },
   {
    "duration": 4,
    "start_time": "2022-11-15T15:04:37.089Z"
   },
   {
    "duration": 323,
    "start_time": "2022-11-15T15:04:50.060Z"
   },
   {
    "duration": 183,
    "start_time": "2022-11-15T15:04:55.703Z"
   },
   {
    "duration": 6,
    "start_time": "2022-11-15T15:05:21.414Z"
   },
   {
    "duration": 19,
    "start_time": "2022-11-15T15:07:13.997Z"
   },
   {
    "duration": 5,
    "start_time": "2022-11-15T15:07:19.663Z"
   },
   {
    "duration": 11,
    "start_time": "2022-11-15T15:07:32.156Z"
   },
   {
    "duration": 10,
    "start_time": "2022-11-15T15:07:37.078Z"
   },
   {
    "duration": 4,
    "start_time": "2022-11-15T15:07:44.236Z"
   },
   {
    "duration": 5,
    "start_time": "2022-11-15T15:08:39.425Z"
   },
   {
    "duration": 6,
    "start_time": "2022-11-15T15:08:41.094Z"
   },
   {
    "duration": 195,
    "start_time": "2022-11-15T15:08:44.462Z"
   },
   {
    "duration": 187,
    "start_time": "2022-11-15T15:08:56.684Z"
   },
   {
    "duration": 12,
    "start_time": "2022-11-15T15:09:01.658Z"
   },
   {
    "duration": 8,
    "start_time": "2022-11-15T15:09:18.086Z"
   },
   {
    "duration": 3,
    "start_time": "2022-11-15T15:09:22.038Z"
   },
   {
    "duration": 5,
    "start_time": "2022-11-15T15:09:25.004Z"
   },
   {
    "duration": 181,
    "start_time": "2022-11-15T15:09:28.807Z"
   },
   {
    "duration": 186,
    "start_time": "2022-11-15T15:12:01.411Z"
   },
   {
    "duration": 189,
    "start_time": "2022-11-15T15:12:53.052Z"
   },
   {
    "duration": 196,
    "start_time": "2022-11-15T15:13:16.025Z"
   },
   {
    "duration": 370,
    "start_time": "2022-11-15T15:13:36.185Z"
   },
   {
    "duration": 383,
    "start_time": "2022-11-15T15:13:56.662Z"
   },
   {
    "duration": 64,
    "start_time": "2022-11-15T15:14:47.677Z"
   },
   {
    "duration": 54,
    "start_time": "2022-11-15T15:15:05.108Z"
   },
   {
    "duration": 187,
    "start_time": "2022-11-15T15:15:25.980Z"
   },
   {
    "duration": 201,
    "start_time": "2022-11-15T15:15:34.515Z"
   },
   {
    "duration": 189,
    "start_time": "2022-11-15T15:16:05.350Z"
   },
   {
    "duration": 348,
    "start_time": "2022-11-15T15:16:11.687Z"
   },
   {
    "duration": 378,
    "start_time": "2022-11-15T15:16:32.845Z"
   },
   {
    "duration": 1078,
    "start_time": "2022-11-15T15:23:23.096Z"
   },
   {
    "duration": 372,
    "start_time": "2022-11-15T15:23:35.505Z"
   },
   {
    "duration": 367,
    "start_time": "2022-11-15T15:23:53.136Z"
   },
   {
    "duration": 200,
    "start_time": "2022-11-15T15:24:50.959Z"
   },
   {
    "duration": 194,
    "start_time": "2022-11-15T15:25:01.813Z"
   },
   {
    "duration": 190,
    "start_time": "2022-11-15T15:25:11.484Z"
   },
   {
    "duration": 191,
    "start_time": "2022-11-15T15:25:19.251Z"
   },
   {
    "duration": 185,
    "start_time": "2022-11-15T15:25:29.227Z"
   },
   {
    "duration": 194,
    "start_time": "2022-11-15T15:25:32.163Z"
   },
   {
    "duration": 401,
    "start_time": "2022-11-15T15:25:49.634Z"
   },
   {
    "duration": 374,
    "start_time": "2022-11-15T15:26:01.128Z"
   },
   {
    "duration": 12,
    "start_time": "2022-11-15T15:32:20.695Z"
   },
   {
    "duration": 12,
    "start_time": "2022-11-15T15:33:10.636Z"
   },
   {
    "duration": 15,
    "start_time": "2022-11-15T15:33:52.969Z"
   },
   {
    "duration": 47,
    "start_time": "2022-11-15T15:34:04.161Z"
   },
   {
    "duration": 13,
    "start_time": "2022-11-15T15:34:11.527Z"
   },
   {
    "duration": 12,
    "start_time": "2022-11-15T15:35:10.333Z"
   },
   {
    "duration": 13,
    "start_time": "2022-11-15T15:35:23.469Z"
   },
   {
    "duration": 210,
    "start_time": "2022-11-15T15:35:33.397Z"
   },
   {
    "duration": 196,
    "start_time": "2022-11-15T15:35:43.971Z"
   },
   {
    "duration": 389,
    "start_time": "2022-11-15T15:35:55.900Z"
   },
   {
    "duration": 21,
    "start_time": "2022-11-15T15:43:07.133Z"
   },
   {
    "duration": 20,
    "start_time": "2022-11-15T15:43:54.913Z"
   },
   {
    "duration": 17,
    "start_time": "2022-11-15T15:44:32.426Z"
   },
   {
    "duration": 16,
    "start_time": "2022-11-15T15:45:11.212Z"
   },
   {
    "duration": 14,
    "start_time": "2022-11-15T15:45:23.293Z"
   },
   {
    "duration": 16,
    "start_time": "2022-11-15T15:45:54.404Z"
   },
   {
    "duration": 12,
    "start_time": "2022-11-15T15:46:01.036Z"
   },
   {
    "duration": 17,
    "start_time": "2022-11-15T15:46:10.642Z"
   },
   {
    "duration": 142,
    "start_time": "2022-11-15T15:49:01.941Z"
   },
   {
    "duration": 20,
    "start_time": "2022-11-15T15:49:16.139Z"
   },
   {
    "duration": 20,
    "start_time": "2022-11-15T15:50:16.337Z"
   },
   {
    "duration": 23,
    "start_time": "2022-11-15T15:50:26.886Z"
   },
   {
    "duration": 14,
    "start_time": "2022-11-15T15:50:44.158Z"
   },
   {
    "duration": 13,
    "start_time": "2022-11-15T15:50:47.437Z"
   },
   {
    "duration": 14,
    "start_time": "2022-11-15T15:50:58.949Z"
   },
   {
    "duration": 167,
    "start_time": "2022-11-15T15:51:07.517Z"
   },
   {
    "duration": 168,
    "start_time": "2022-11-15T15:51:48.731Z"
   },
   {
    "duration": 66,
    "start_time": "2022-11-15T15:52:11.864Z"
   },
   {
    "duration": 51,
    "start_time": "2022-11-15T15:52:18.544Z"
   },
   {
    "duration": 9,
    "start_time": "2022-11-15T15:52:46.240Z"
   },
   {
    "duration": 13,
    "start_time": "2022-11-15T15:52:53.127Z"
   },
   {
    "duration": 9,
    "start_time": "2022-11-15T15:53:08.294Z"
   },
   {
    "duration": 8,
    "start_time": "2022-11-15T15:53:14.398Z"
   },
   {
    "duration": 196,
    "start_time": "2022-11-15T15:53:19.902Z"
   },
   {
    "duration": 18,
    "start_time": "2022-11-15T15:53:44.037Z"
   },
   {
    "duration": 14,
    "start_time": "2022-11-15T15:54:00.323Z"
   },
   {
    "duration": 168,
    "start_time": "2022-11-15T15:56:30.781Z"
   },
   {
    "duration": 168,
    "start_time": "2022-11-15T15:56:48.203Z"
   },
   {
    "duration": 418,
    "start_time": "2022-11-15T16:00:35.127Z"
   },
   {
    "duration": 415,
    "start_time": "2022-11-15T16:00:58.774Z"
   },
   {
    "duration": 15,
    "start_time": "2022-11-15T16:01:11.607Z"
   },
   {
    "duration": 22,
    "start_time": "2022-11-15T16:01:16.239Z"
   },
   {
    "duration": 13,
    "start_time": "2022-11-15T16:01:26.805Z"
   },
   {
    "duration": 439,
    "start_time": "2022-11-15T16:01:33.055Z"
   },
   {
    "duration": 502,
    "start_time": "2022-11-15T16:01:40.157Z"
   },
   {
    "duration": 14,
    "start_time": "2022-11-15T16:02:08.309Z"
   },
   {
    "duration": 414,
    "start_time": "2022-11-15T16:02:25.011Z"
   },
   {
    "duration": 476,
    "start_time": "2022-11-15T16:02:45.680Z"
   },
   {
    "duration": 144,
    "start_time": "2022-11-15T16:03:07.953Z"
   },
   {
    "duration": 418,
    "start_time": "2022-11-15T16:03:17.480Z"
   },
   {
    "duration": 132,
    "start_time": "2022-11-15T16:03:31.655Z"
   },
   {
    "duration": 557,
    "start_time": "2022-11-15T16:03:42.410Z"
   },
   {
    "duration": 437,
    "start_time": "2022-11-15T16:04:32.301Z"
   },
   {
    "duration": 269,
    "start_time": "2022-11-15T16:05:08.402Z"
   },
   {
    "duration": 458,
    "start_time": "2022-11-15T16:06:42.294Z"
   },
   {
    "duration": 284,
    "start_time": "2022-11-15T16:07:19.453Z"
   },
   {
    "duration": 423,
    "start_time": "2022-11-15T16:10:11.395Z"
   },
   {
    "duration": 450,
    "start_time": "2022-11-15T16:13:01.672Z"
   },
   {
    "duration": 497,
    "start_time": "2022-11-15T16:13:54.703Z"
   },
   {
    "duration": 441,
    "start_time": "2022-11-15T16:14:44.460Z"
   },
   {
    "duration": 637,
    "start_time": "2022-11-15T16:40:02.193Z"
   },
   {
    "duration": 437,
    "start_time": "2022-11-15T16:40:35.998Z"
   },
   {
    "duration": 440,
    "start_time": "2022-11-15T16:40:43.366Z"
   },
   {
    "duration": 432,
    "start_time": "2022-11-15T16:40:48.118Z"
   },
   {
    "duration": 444,
    "start_time": "2022-11-15T16:41:29.950Z"
   },
   {
    "duration": 453,
    "start_time": "2022-11-15T16:41:50.723Z"
   },
   {
    "duration": 442,
    "start_time": "2022-11-15T16:42:16.242Z"
   },
   {
    "duration": 16,
    "start_time": "2022-11-15T16:43:26.390Z"
   },
   {
    "duration": 608,
    "start_time": "2022-11-15T16:43:35.206Z"
   },
   {
    "duration": 504,
    "start_time": "2022-11-15T16:44:46.041Z"
   },
   {
    "duration": 16,
    "start_time": "2022-11-15T16:44:53.025Z"
   },
   {
    "duration": 451,
    "start_time": "2022-11-15T16:44:57.698Z"
   },
   {
    "duration": 50,
    "start_time": "2022-11-15T16:47:10.684Z"
   },
   {
    "duration": 807,
    "start_time": "2022-11-15T16:47:19.930Z"
   },
   {
    "duration": 433,
    "start_time": "2022-11-15T16:47:31.883Z"
   },
   {
    "duration": 276,
    "start_time": "2022-11-15T16:48:26.370Z"
   },
   {
    "duration": 625,
    "start_time": "2022-11-15T16:48:58.821Z"
   },
   {
    "duration": 128,
    "start_time": "2022-11-15T16:49:17.533Z"
   },
   {
    "duration": 55,
    "start_time": "2022-11-15T16:49:26.660Z"
   },
   {
    "duration": 64,
    "start_time": "2022-11-15T16:50:27.098Z"
   },
   {
    "duration": 53,
    "start_time": "2022-11-15T16:50:35.657Z"
   },
   {
    "duration": 793,
    "start_time": "2022-11-15T16:50:47.399Z"
   },
   {
    "duration": 596,
    "start_time": "2022-11-15T16:51:13.624Z"
   },
   {
    "duration": 531,
    "start_time": "2022-11-15T16:52:18.675Z"
   },
   {
    "duration": 632,
    "start_time": "2022-11-15T16:52:33.379Z"
   },
   {
    "duration": 617,
    "start_time": "2022-11-15T16:52:47.194Z"
   },
   {
    "duration": 769,
    "start_time": "2022-11-15T16:52:53.458Z"
   },
   {
    "duration": 375,
    "start_time": "2022-11-15T16:53:36.895Z"
   },
   {
    "duration": 352,
    "start_time": "2022-11-15T16:54:11.357Z"
   },
   {
    "duration": 365,
    "start_time": "2022-11-15T16:54:26.014Z"
   },
   {
    "duration": 355,
    "start_time": "2022-11-15T16:54:30.158Z"
   },
   {
    "duration": 361,
    "start_time": "2022-11-15T16:54:50.013Z"
   },
   {
    "duration": 399,
    "start_time": "2022-11-15T16:55:26.683Z"
   },
   {
    "duration": 363,
    "start_time": "2022-11-15T16:55:35.074Z"
   },
   {
    "duration": 353,
    "start_time": "2022-11-15T16:55:40.922Z"
   },
   {
    "duration": 354,
    "start_time": "2022-11-15T16:58:40.954Z"
   },
   {
    "duration": 370,
    "start_time": "2022-11-15T16:58:46.560Z"
   },
   {
    "duration": 46,
    "start_time": "2022-11-15T16:59:01.959Z"
   },
   {
    "duration": 434,
    "start_time": "2022-11-15T16:59:12.206Z"
   },
   {
    "duration": 608,
    "start_time": "2022-11-15T17:03:24.952Z"
   },
   {
    "duration": 427,
    "start_time": "2022-11-15T17:03:32.497Z"
   },
   {
    "duration": 53,
    "start_time": "2022-11-15T17:03:50.240Z"
   },
   {
    "duration": 41,
    "start_time": "2022-11-15T17:05:38.597Z"
   },
   {
    "duration": 456,
    "start_time": "2022-11-15T17:05:47.283Z"
   },
   {
    "duration": 438,
    "start_time": "2022-11-15T17:06:09.113Z"
   },
   {
    "duration": 444,
    "start_time": "2022-11-15T17:06:20.545Z"
   },
   {
    "duration": 664,
    "start_time": "2022-11-15T17:06:26.593Z"
   },
   {
    "duration": 13,
    "start_time": "2022-11-15T17:06:42.128Z"
   },
   {
    "duration": 142,
    "start_time": "2022-11-15T17:06:47.303Z"
   },
   {
    "duration": 813,
    "start_time": "2022-11-15T17:06:53.866Z"
   },
   {
    "duration": 386,
    "start_time": "2022-11-15T17:06:59.268Z"
   },
   {
    "duration": 43,
    "start_time": "2022-11-15T17:07:07.918Z"
   },
   {
    "duration": 597,
    "start_time": "2022-11-15T17:07:17.246Z"
   },
   {
    "duration": 456,
    "start_time": "2022-11-15T17:07:45.941Z"
   },
   {
    "duration": 487,
    "start_time": "2022-11-15T17:07:55.387Z"
   },
   {
    "duration": 499,
    "start_time": "2022-11-15T17:08:01.425Z"
   },
   {
    "duration": 657,
    "start_time": "2022-11-15T17:08:07.611Z"
   },
   {
    "duration": 589,
    "start_time": "2022-11-15T17:11:13.753Z"
   },
   {
    "duration": 557,
    "start_time": "2022-11-15T17:11:24.714Z"
   },
   {
    "duration": 302,
    "start_time": "2022-11-15T17:11:36.664Z"
   },
   {
    "duration": 5,
    "start_time": "2022-11-15T17:14:47.071Z"
   },
   {
    "duration": 14,
    "start_time": "2022-11-15T17:24:44.081Z"
   },
   {
    "duration": 10,
    "start_time": "2022-11-15T17:24:50.282Z"
   },
   {
    "duration": 12,
    "start_time": "2022-11-15T17:38:56.750Z"
   },
   {
    "duration": 11,
    "start_time": "2022-11-15T17:39:22.758Z"
   },
   {
    "duration": 46,
    "start_time": "2022-11-15T17:50:40.459Z"
   },
   {
    "duration": 12,
    "start_time": "2022-11-15T17:52:04.935Z"
   },
   {
    "duration": 12,
    "start_time": "2022-11-15T17:52:22.077Z"
   },
   {
    "duration": 10,
    "start_time": "2022-11-15T17:52:39.841Z"
   },
   {
    "duration": 4,
    "start_time": "2022-11-16T06:44:18.464Z"
   },
   {
    "duration": 2,
    "start_time": "2022-11-16T06:45:35.963Z"
   },
   {
    "duration": 3,
    "start_time": "2022-11-16T06:50:35.883Z"
   },
   {
    "duration": 2,
    "start_time": "2022-11-16T06:53:27.973Z"
   },
   {
    "duration": 51,
    "start_time": "2022-11-16T10:59:12.040Z"
   },
   {
    "duration": 1314,
    "start_time": "2022-11-16T10:59:20.540Z"
   },
   {
    "duration": 92,
    "start_time": "2022-11-16T10:59:21.857Z"
   },
   {
    "duration": 14,
    "start_time": "2022-11-16T10:59:21.950Z"
   },
   {
    "duration": 20,
    "start_time": "2022-11-16T10:59:21.966Z"
   },
   {
    "duration": 4,
    "start_time": "2022-11-16T10:59:21.987Z"
   },
   {
    "duration": 19,
    "start_time": "2022-11-16T10:59:22.119Z"
   },
   {
    "duration": 52,
    "start_time": "2022-11-16T10:59:22.269Z"
   },
   {
    "duration": 9,
    "start_time": "2022-11-16T10:59:22.717Z"
   },
   {
    "duration": 5,
    "start_time": "2022-11-16T10:59:22.841Z"
   },
   {
    "duration": 14,
    "start_time": "2022-11-16T10:59:23.017Z"
   },
   {
    "duration": 17,
    "start_time": "2022-11-16T10:59:23.141Z"
   },
   {
    "duration": 4,
    "start_time": "2022-11-16T10:59:23.319Z"
   },
   {
    "duration": 5,
    "start_time": "2022-11-16T10:59:23.759Z"
   },
   {
    "duration": 7,
    "start_time": "2022-11-16T10:59:23.923Z"
   },
   {
    "duration": 5,
    "start_time": "2022-11-16T10:59:24.213Z"
   },
   {
    "duration": 7,
    "start_time": "2022-11-16T10:59:24.527Z"
   },
   {
    "duration": 19,
    "start_time": "2022-11-16T10:59:24.981Z"
   },
   {
    "duration": 6,
    "start_time": "2022-11-16T10:59:25.131Z"
   },
   {
    "duration": 5,
    "start_time": "2022-11-16T10:59:25.321Z"
   },
   {
    "duration": 9,
    "start_time": "2022-11-16T10:59:25.619Z"
   },
   {
    "duration": 6,
    "start_time": "2022-11-16T10:59:25.741Z"
   },
   {
    "duration": 22,
    "start_time": "2022-11-16T10:59:25.918Z"
   },
   {
    "duration": 6,
    "start_time": "2022-11-16T10:59:26.217Z"
   },
   {
    "duration": 17,
    "start_time": "2022-11-16T10:59:26.351Z"
   },
   {
    "duration": 12,
    "start_time": "2022-11-16T10:59:26.514Z"
   },
   {
    "duration": 11,
    "start_time": "2022-11-16T10:59:26.955Z"
   },
   {
    "duration": 483,
    "start_time": "2022-11-16T10:59:27.109Z"
   },
   {
    "duration": 14,
    "start_time": "2022-11-16T10:59:27.749Z"
   },
   {
    "duration": 161,
    "start_time": "2022-11-16T10:59:27.916Z"
   },
   {
    "duration": 313,
    "start_time": "2022-11-16T10:59:28.366Z"
   },
   {
    "duration": 15,
    "start_time": "2022-11-16T10:59:28.681Z"
   },
   {
    "duration": 6,
    "start_time": "2022-11-16T10:59:28.981Z"
   },
   {
    "duration": 5,
    "start_time": "2022-11-16T10:59:29.133Z"
   },
   {
    "duration": 273,
    "start_time": "2022-11-16T10:59:29.305Z"
   },
   {
    "duration": 364,
    "start_time": "2022-11-16T10:59:30.329Z"
   },
   {
    "duration": 206,
    "start_time": "2022-11-16T10:59:31.474Z"
   },
   {
    "duration": 294,
    "start_time": "2022-11-16T10:59:31.682Z"
   },
   {
    "duration": 46,
    "start_time": "2022-11-16T10:59:32.827Z"
   },
   {
    "duration": 175,
    "start_time": "2022-11-16T10:59:34.814Z"
   },
   {
    "duration": 165,
    "start_time": "2022-11-16T10:59:35.520Z"
   },
   {
    "duration": 6,
    "start_time": "2022-11-16T10:59:36.466Z"
   },
   {
    "duration": 3,
    "start_time": "2022-11-16T10:59:36.840Z"
   },
   {
    "duration": 5,
    "start_time": "2022-11-16T10:59:37.217Z"
   },
   {
    "duration": 244,
    "start_time": "2022-11-16T10:59:37.680Z"
   },
   {
    "duration": 184,
    "start_time": "2022-11-16T11:02:21.278Z"
   },
   {
    "duration": 167,
    "start_time": "2022-11-16T11:02:43.295Z"
   },
   {
    "duration": 389,
    "start_time": "2022-11-16T11:02:59.768Z"
   },
   {
    "duration": 376,
    "start_time": "2022-11-16T11:06:44.775Z"
   },
   {
    "duration": 4,
    "start_time": "2022-11-16T11:16:44.289Z"
   },
   {
    "duration": 19,
    "start_time": "2022-11-16T11:16:57.665Z"
   },
   {
    "duration": 5,
    "start_time": "2022-11-16T11:17:20.116Z"
   },
   {
    "duration": 17,
    "start_time": "2022-11-16T11:18:04.103Z"
   },
   {
    "duration": 10,
    "start_time": "2022-11-16T11:18:49.871Z"
   },
   {
    "duration": 7,
    "start_time": "2022-11-16T11:20:01.021Z"
   },
   {
    "duration": 10,
    "start_time": "2022-11-16T11:31:53.489Z"
   },
   {
    "duration": 8,
    "start_time": "2022-11-16T11:31:54.059Z"
   },
   {
    "duration": 24,
    "start_time": "2022-11-16T11:31:58.441Z"
   },
   {
    "duration": 7,
    "start_time": "2022-11-16T11:32:49.140Z"
   },
   {
    "duration": 14,
    "start_time": "2022-11-16T11:33:11.609Z"
   },
   {
    "duration": 15,
    "start_time": "2022-11-16T11:33:19.492Z"
   },
   {
    "duration": 11,
    "start_time": "2022-11-16T11:33:38.186Z"
   },
   {
    "duration": 477,
    "start_time": "2022-11-16T11:33:50.704Z"
   },
   {
    "duration": 16,
    "start_time": "2022-11-16T11:53:47.301Z"
   },
   {
    "duration": 5,
    "start_time": "2022-11-16T12:08:17.033Z"
   },
   {
    "duration": 3,
    "start_time": "2022-11-16T12:08:51.227Z"
   },
   {
    "duration": 409,
    "start_time": "2022-11-16T12:09:01.261Z"
   },
   {
    "duration": 468,
    "start_time": "2022-11-16T13:28:51.844Z"
   },
   {
    "duration": 1162,
    "start_time": "2022-11-16T13:29:14.661Z"
   },
   {
    "duration": 55,
    "start_time": "2022-11-16T13:29:15.826Z"
   },
   {
    "duration": 19,
    "start_time": "2022-11-16T13:29:15.883Z"
   },
   {
    "duration": 27,
    "start_time": "2022-11-16T13:29:15.904Z"
   },
   {
    "duration": 4,
    "start_time": "2022-11-16T13:29:15.932Z"
   },
   {
    "duration": 27,
    "start_time": "2022-11-16T13:29:15.937Z"
   },
   {
    "duration": 74,
    "start_time": "2022-11-16T13:29:15.966Z"
   },
   {
    "duration": 10,
    "start_time": "2022-11-16T13:29:16.042Z"
   },
   {
    "duration": 9,
    "start_time": "2022-11-16T13:29:16.053Z"
   },
   {
    "duration": 14,
    "start_time": "2022-11-16T13:29:16.066Z"
   },
   {
    "duration": 5,
    "start_time": "2022-11-16T13:29:16.082Z"
   },
   {
    "duration": 34,
    "start_time": "2022-11-16T13:29:16.088Z"
   },
   {
    "duration": 8,
    "start_time": "2022-11-16T13:29:16.124Z"
   },
   {
    "duration": 7,
    "start_time": "2022-11-16T13:29:16.134Z"
   },
   {
    "duration": 10,
    "start_time": "2022-11-16T13:29:16.143Z"
   },
   {
    "duration": 23,
    "start_time": "2022-11-16T13:29:16.154Z"
   },
   {
    "duration": 6,
    "start_time": "2022-11-16T13:29:16.178Z"
   },
   {
    "duration": 35,
    "start_time": "2022-11-16T13:29:16.186Z"
   },
   {
    "duration": 14,
    "start_time": "2022-11-16T13:29:16.224Z"
   },
   {
    "duration": 9,
    "start_time": "2022-11-16T13:29:16.240Z"
   },
   {
    "duration": 30,
    "start_time": "2022-11-16T13:29:16.251Z"
   },
   {
    "duration": 11,
    "start_time": "2022-11-16T13:29:16.283Z"
   },
   {
    "duration": 43,
    "start_time": "2022-11-16T13:29:16.296Z"
   },
   {
    "duration": 18,
    "start_time": "2022-11-16T13:29:16.342Z"
   },
   {
    "duration": 11,
    "start_time": "2022-11-16T13:29:16.361Z"
   },
   {
    "duration": 516,
    "start_time": "2022-11-16T13:29:16.374Z"
   },
   {
    "duration": 32,
    "start_time": "2022-11-16T13:29:16.892Z"
   },
   {
    "duration": 191,
    "start_time": "2022-11-16T13:29:16.928Z"
   },
   {
    "duration": 339,
    "start_time": "2022-11-16T13:29:17.121Z"
   },
   {
    "duration": 17,
    "start_time": "2022-11-16T13:29:17.461Z"
   },
   {
    "duration": 19,
    "start_time": "2022-11-16T13:29:17.480Z"
   },
   {
    "duration": 23,
    "start_time": "2022-11-16T13:29:17.501Z"
   },
   {
    "duration": 304,
    "start_time": "2022-11-16T13:29:17.525Z"
   },
   {
    "duration": 380,
    "start_time": "2022-11-16T13:29:17.831Z"
   },
   {
    "duration": 207,
    "start_time": "2022-11-16T13:29:18.213Z"
   },
   {
    "duration": 282,
    "start_time": "2022-11-16T13:29:18.422Z"
   },
   {
    "duration": 51,
    "start_time": "2022-11-16T13:29:18.706Z"
   },
   {
    "duration": 493,
    "start_time": "2022-11-16T13:29:18.759Z"
   },
   {
    "duration": 0,
    "start_time": "2022-11-16T13:29:19.254Z"
   },
   {
    "duration": 0,
    "start_time": "2022-11-16T13:29:19.256Z"
   },
   {
    "duration": 0,
    "start_time": "2022-11-16T13:29:19.257Z"
   },
   {
    "duration": 0,
    "start_time": "2022-11-16T13:29:19.258Z"
   },
   {
    "duration": 0,
    "start_time": "2022-11-16T13:29:19.259Z"
   },
   {
    "duration": 0,
    "start_time": "2022-11-16T13:29:19.261Z"
   },
   {
    "duration": 0,
    "start_time": "2022-11-16T13:29:19.262Z"
   },
   {
    "duration": 0,
    "start_time": "2022-11-16T13:29:19.263Z"
   },
   {
    "duration": 0,
    "start_time": "2022-11-16T13:29:19.264Z"
   },
   {
    "duration": 4,
    "start_time": "2022-11-16T13:29:19.797Z"
   },
   {
    "duration": 64,
    "start_time": "2022-11-16T13:29:20.300Z"
   },
   {
    "duration": 18,
    "start_time": "2022-11-16T13:29:21.580Z"
   },
   {
    "duration": 18,
    "start_time": "2022-11-16T13:29:21.900Z"
   },
   {
    "duration": 3,
    "start_time": "2022-11-16T13:29:22.637Z"
   },
   {
    "duration": 19,
    "start_time": "2022-11-16T13:29:22.836Z"
   },
   {
    "duration": 16,
    "start_time": "2022-11-16T13:29:23.029Z"
   },
   {
    "duration": 8,
    "start_time": "2022-11-16T13:29:23.613Z"
   },
   {
    "duration": 6,
    "start_time": "2022-11-16T13:29:23.797Z"
   },
   {
    "duration": 14,
    "start_time": "2022-11-16T13:29:23.957Z"
   },
   {
    "duration": 5,
    "start_time": "2022-11-16T13:29:24.760Z"
   },
   {
    "duration": 5,
    "start_time": "2022-11-16T13:29:25.821Z"
   },
   {
    "duration": 8,
    "start_time": "2022-11-16T13:29:26.255Z"
   },
   {
    "duration": 5,
    "start_time": "2022-11-16T13:29:27.429Z"
   },
   {
    "duration": 7,
    "start_time": "2022-11-16T13:29:28.669Z"
   },
   {
    "duration": 20,
    "start_time": "2022-11-16T13:29:29.788Z"
   },
   {
    "duration": 6,
    "start_time": "2022-11-16T13:29:30.221Z"
   },
   {
    "duration": 5,
    "start_time": "2022-11-16T13:29:30.765Z"
   },
   {
    "duration": 9,
    "start_time": "2022-11-16T13:29:31.453Z"
   },
   {
    "duration": 5,
    "start_time": "2022-11-16T13:29:31.805Z"
   },
   {
    "duration": 23,
    "start_time": "2022-11-16T13:29:32.071Z"
   },
   {
    "duration": 6,
    "start_time": "2022-11-16T13:29:32.597Z"
   },
   {
    "duration": 16,
    "start_time": "2022-11-16T13:29:32.829Z"
   },
   {
    "duration": 13,
    "start_time": "2022-11-16T13:29:33.037Z"
   },
   {
    "duration": 12,
    "start_time": "2022-11-16T13:29:33.581Z"
   },
   {
    "duration": 528,
    "start_time": "2022-11-16T13:29:34.205Z"
   },
   {
    "duration": 16,
    "start_time": "2022-11-16T13:29:35.533Z"
   },
   {
    "duration": 167,
    "start_time": "2022-11-16T13:29:36.107Z"
   },
   {
    "duration": 280,
    "start_time": "2022-11-16T13:29:36.787Z"
   },
   {
    "duration": 16,
    "start_time": "2022-11-16T13:29:37.675Z"
   },
   {
    "duration": 6,
    "start_time": "2022-11-16T13:29:38.587Z"
   },
   {
    "duration": 4,
    "start_time": "2022-11-16T13:29:39.171Z"
   },
   {
    "duration": 291,
    "start_time": "2022-11-16T13:29:40.195Z"
   },
   {
    "duration": 364,
    "start_time": "2022-11-16T13:29:42.124Z"
   },
   {
    "duration": 202,
    "start_time": "2022-11-16T13:29:43.868Z"
   },
   {
    "duration": 205,
    "start_time": "2022-11-16T13:29:45.196Z"
   },
   {
    "duration": 44,
    "start_time": "2022-11-16T13:29:49.916Z"
   },
   {
    "duration": 452,
    "start_time": "2022-11-16T13:29:53.803Z"
   },
   {
    "duration": 23,
    "start_time": "2022-11-16T13:32:11.317Z"
   },
   {
    "duration": 8,
    "start_time": "2022-11-16T13:32:37.299Z"
   },
   {
    "duration": 6,
    "start_time": "2022-11-16T13:32:41.843Z"
   },
   {
    "duration": 7,
    "start_time": "2022-11-16T13:32:47.035Z"
   },
   {
    "duration": 6,
    "start_time": "2022-11-16T13:32:51.043Z"
   },
   {
    "duration": 8,
    "start_time": "2022-11-16T13:32:52.729Z"
   },
   {
    "duration": 4,
    "start_time": "2022-11-16T13:32:53.626Z"
   },
   {
    "duration": 5,
    "start_time": "2022-11-16T13:32:55.322Z"
   },
   {
    "duration": 5,
    "start_time": "2022-11-16T13:32:57.100Z"
   },
   {
    "duration": 10,
    "start_time": "2022-11-16T13:32:58.713Z"
   },
   {
    "duration": 6,
    "start_time": "2022-11-16T13:32:59.321Z"
   },
   {
    "duration": 24,
    "start_time": "2022-11-16T13:33:00.113Z"
   },
   {
    "duration": 5,
    "start_time": "2022-11-16T13:33:03.468Z"
   },
   {
    "duration": 18,
    "start_time": "2022-11-16T13:33:03.921Z"
   },
   {
    "duration": 14,
    "start_time": "2022-11-16T13:33:04.499Z"
   },
   {
    "duration": 10,
    "start_time": "2022-11-16T13:33:06.290Z"
   },
   {
    "duration": 581,
    "start_time": "2022-11-16T13:33:07.618Z"
   },
   {
    "duration": 15,
    "start_time": "2022-11-16T13:33:09.706Z"
   },
   {
    "duration": 159,
    "start_time": "2022-11-16T13:33:11.073Z"
   },
   {
    "duration": 265,
    "start_time": "2022-11-16T13:33:12.810Z"
   },
   {
    "duration": 12,
    "start_time": "2022-11-16T13:33:14.633Z"
   },
   {
    "duration": 6,
    "start_time": "2022-11-16T13:33:15.600Z"
   },
   {
    "duration": 5,
    "start_time": "2022-11-16T13:33:16.210Z"
   },
   {
    "duration": 266,
    "start_time": "2022-11-16T13:33:17.440Z"
   },
   {
    "duration": 353,
    "start_time": "2022-11-16T13:33:21.008Z"
   },
   {
    "duration": 192,
    "start_time": "2022-11-16T13:33:22.795Z"
   },
   {
    "duration": 218,
    "start_time": "2022-11-16T13:33:23.872Z"
   },
   {
    "duration": 41,
    "start_time": "2022-11-16T13:33:27.433Z"
   },
   {
    "duration": 434,
    "start_time": "2022-11-16T13:33:31.808Z"
   },
   {
    "duration": 163,
    "start_time": "2022-11-16T13:34:10.351Z"
   },
   {
    "duration": 169,
    "start_time": "2022-11-16T13:35:18.483Z"
   },
   {
    "duration": 595,
    "start_time": "2022-11-16T13:37:18.205Z"
   },
   {
    "duration": 592,
    "start_time": "2022-11-16T13:37:41.428Z"
   },
   {
    "duration": 5,
    "start_time": "2022-11-16T13:37:59.898Z"
   },
   {
    "duration": 3,
    "start_time": "2022-11-16T13:38:02.818Z"
   },
   {
    "duration": 515,
    "start_time": "2022-11-16T13:38:05.460Z"
   },
   {
    "duration": 307,
    "start_time": "2022-11-16T13:39:27.982Z"
   },
   {
    "duration": 431,
    "start_time": "2022-11-16T13:39:30.374Z"
   },
   {
    "duration": 320,
    "start_time": "2022-11-16T13:39:33.366Z"
   },
   {
    "duration": 13,
    "start_time": "2022-11-16T13:39:37.853Z"
   },
   {
    "duration": 12,
    "start_time": "2022-11-16T13:41:53.480Z"
   },
   {
    "duration": 1169,
    "start_time": "2022-11-16T13:56:00.974Z"
   },
   {
    "duration": 49,
    "start_time": "2022-11-16T13:56:02.145Z"
   },
   {
    "duration": 14,
    "start_time": "2022-11-16T13:56:02.196Z"
   },
   {
    "duration": 35,
    "start_time": "2022-11-16T13:56:02.211Z"
   },
   {
    "duration": 83,
    "start_time": "2022-11-16T13:56:02.249Z"
   },
   {
    "duration": 37,
    "start_time": "2022-11-16T13:56:02.333Z"
   },
   {
    "duration": 68,
    "start_time": "2022-11-16T13:56:02.372Z"
   },
   {
    "duration": 8,
    "start_time": "2022-11-16T13:56:02.442Z"
   },
   {
    "duration": 7,
    "start_time": "2022-11-16T13:56:02.451Z"
   },
   {
    "duration": 20,
    "start_time": "2022-11-16T13:56:02.459Z"
   },
   {
    "duration": 5,
    "start_time": "2022-11-16T13:56:02.481Z"
   },
   {
    "duration": 9,
    "start_time": "2022-11-16T13:56:02.487Z"
   },
   {
    "duration": 29,
    "start_time": "2022-11-16T13:56:02.498Z"
   },
   {
    "duration": 8,
    "start_time": "2022-11-16T13:56:02.531Z"
   },
   {
    "duration": 11,
    "start_time": "2022-11-16T13:56:02.541Z"
   },
   {
    "duration": 23,
    "start_time": "2022-11-16T13:56:02.555Z"
   },
   {
    "duration": 10,
    "start_time": "2022-11-16T13:56:02.580Z"
   },
   {
    "duration": 24,
    "start_time": "2022-11-16T13:56:02.592Z"
   },
   {
    "duration": 61,
    "start_time": "2022-11-16T13:56:02.622Z"
   },
   {
    "duration": 14,
    "start_time": "2022-11-16T13:56:02.685Z"
   },
   {
    "duration": 27,
    "start_time": "2022-11-16T13:56:02.701Z"
   },
   {
    "duration": 27,
    "start_time": "2022-11-16T13:56:02.729Z"
   },
   {
    "duration": 38,
    "start_time": "2022-11-16T13:56:02.758Z"
   },
   {
    "duration": 25,
    "start_time": "2022-11-16T13:56:02.798Z"
   },
   {
    "duration": 11,
    "start_time": "2022-11-16T13:56:02.824Z"
   },
   {
    "duration": 515,
    "start_time": "2022-11-16T13:56:02.836Z"
   },
   {
    "duration": 16,
    "start_time": "2022-11-16T13:56:03.352Z"
   },
   {
    "duration": 187,
    "start_time": "2022-11-16T13:56:03.370Z"
   },
   {
    "duration": 349,
    "start_time": "2022-11-16T13:56:03.559Z"
   },
   {
    "duration": 24,
    "start_time": "2022-11-16T13:56:03.910Z"
   },
   {
    "duration": 12,
    "start_time": "2022-11-16T13:56:03.936Z"
   },
   {
    "duration": 6,
    "start_time": "2022-11-16T13:56:03.950Z"
   },
   {
    "duration": 389,
    "start_time": "2022-11-16T13:56:03.958Z"
   },
   {
    "duration": 368,
    "start_time": "2022-11-16T13:56:04.349Z"
   },
   {
    "duration": 203,
    "start_time": "2022-11-16T13:56:04.722Z"
   },
   {
    "duration": 299,
    "start_time": "2022-11-16T13:56:04.927Z"
   },
   {
    "duration": 46,
    "start_time": "2022-11-16T13:56:05.228Z"
   },
   {
    "duration": 186,
    "start_time": "2022-11-16T13:56:05.276Z"
   },
   {
    "duration": 183,
    "start_time": "2022-11-16T13:56:05.463Z"
   },
   {
    "duration": 16,
    "start_time": "2022-11-16T13:56:05.648Z"
   },
   {
    "duration": 19,
    "start_time": "2022-11-16T13:56:05.667Z"
   },
   {
    "duration": 407,
    "start_time": "2022-11-16T13:56:05.688Z"
   },
   {
    "duration": 306,
    "start_time": "2022-11-16T13:56:06.096Z"
   },
   {
    "duration": 431,
    "start_time": "2022-11-16T13:56:06.404Z"
   },
   {
    "duration": 306,
    "start_time": "2022-11-16T13:56:06.836Z"
   },
   {
    "duration": 12,
    "start_time": "2022-11-16T13:56:07.144Z"
   },
   {
    "duration": 12,
    "start_time": "2022-11-16T13:56:07.158Z"
   },
   {
    "duration": 4,
    "start_time": "2022-11-16T13:56:13.900Z"
   },
   {
    "duration": 54,
    "start_time": "2022-11-16T13:56:14.264Z"
   },
   {
    "duration": 15,
    "start_time": "2022-11-16T13:56:14.427Z"
   },
   {
    "duration": 16,
    "start_time": "2022-11-16T13:56:14.566Z"
   },
   {
    "duration": 5,
    "start_time": "2022-11-16T13:56:14.994Z"
   },
   {
    "duration": 26,
    "start_time": "2022-11-16T13:56:15.133Z"
   },
   {
    "duration": 16,
    "start_time": "2022-11-16T13:56:15.270Z"
   },
   {
    "duration": 8,
    "start_time": "2022-11-16T13:56:15.659Z"
   },
   {
    "duration": 6,
    "start_time": "2022-11-16T13:56:15.796Z"
   },
   {
    "duration": 17,
    "start_time": "2022-11-16T13:56:15.928Z"
   },
   {
    "duration": 6,
    "start_time": "2022-11-16T13:56:16.329Z"
   },
   {
    "duration": 5,
    "start_time": "2022-11-16T13:56:16.578Z"
   },
   {
    "duration": 8,
    "start_time": "2022-11-16T13:56:16.708Z"
   },
   {
    "duration": 7,
    "start_time": "2022-11-16T13:56:17.002Z"
   },
   {
    "duration": 7,
    "start_time": "2022-11-16T13:56:17.432Z"
   },
   {
    "duration": 17,
    "start_time": "2022-11-16T13:56:17.691Z"
   },
   {
    "duration": 7,
    "start_time": "2022-11-16T13:56:17.836Z"
   },
   {
    "duration": 5,
    "start_time": "2022-11-16T13:56:17.962Z"
   },
   {
    "duration": 10,
    "start_time": "2022-11-16T13:56:18.234Z"
   },
   {
    "duration": 6,
    "start_time": "2022-11-16T13:56:18.380Z"
   },
   {
    "duration": 23,
    "start_time": "2022-11-16T13:56:18.516Z"
   },
   {
    "duration": 7,
    "start_time": "2022-11-16T13:56:18.795Z"
   },
   {
    "duration": 22,
    "start_time": "2022-11-16T13:56:18.932Z"
   },
   {
    "duration": 16,
    "start_time": "2022-11-16T13:56:19.083Z"
   },
   {
    "duration": 12,
    "start_time": "2022-11-16T13:56:19.699Z"
   },
   {
    "duration": 590,
    "start_time": "2022-11-16T13:56:19.995Z"
   },
   {
    "duration": 16,
    "start_time": "2022-11-16T13:56:20.588Z"
   },
   {
    "duration": 226,
    "start_time": "2022-11-16T13:56:21.010Z"
   },
   {
    "duration": 297,
    "start_time": "2022-11-16T13:56:21.435Z"
   },
   {
    "duration": 15,
    "start_time": "2022-11-16T13:56:21.735Z"
   },
   {
    "duration": 5,
    "start_time": "2022-11-16T13:56:22.003Z"
   },
   {
    "duration": 6,
    "start_time": "2022-11-16T13:56:22.154Z"
   },
   {
    "duration": 312,
    "start_time": "2022-11-16T13:56:22.435Z"
   },
   {
    "duration": 358,
    "start_time": "2022-11-16T13:56:23.028Z"
   },
   {
    "duration": 186,
    "start_time": "2022-11-16T13:56:23.644Z"
   },
   {
    "duration": 219,
    "start_time": "2022-11-16T13:56:23.940Z"
   },
   {
    "duration": 47,
    "start_time": "2022-11-16T13:56:24.527Z"
   },
   {
    "duration": 177,
    "start_time": "2022-11-16T13:56:25.099Z"
   },
   {
    "duration": 159,
    "start_time": "2022-11-16T13:56:25.563Z"
   },
   {
    "duration": 5,
    "start_time": "2022-11-16T13:56:26.043Z"
   },
   {
    "duration": 3,
    "start_time": "2022-11-16T13:56:26.207Z"
   },
   {
    "duration": 389,
    "start_time": "2022-11-16T13:56:26.595Z"
   },
   {
    "duration": 409,
    "start_time": "2022-11-16T13:56:27.482Z"
   },
   {
    "duration": 414,
    "start_time": "2022-11-16T13:56:28.140Z"
   },
   {
    "duration": 297,
    "start_time": "2022-11-16T13:56:28.738Z"
   },
   {
    "duration": 12,
    "start_time": "2022-11-16T13:56:29.532Z"
   },
   {
    "duration": 16,
    "start_time": "2022-11-16T13:56:30.635Z"
   },
   {
    "duration": 1189,
    "start_time": "2022-11-16T14:42:54.029Z"
   },
   {
    "duration": 94,
    "start_time": "2022-11-16T14:42:55.354Z"
   },
   {
    "duration": 23,
    "start_time": "2022-11-16T14:42:56.412Z"
   },
   {
    "duration": 77,
    "start_time": "2022-11-16T14:46:15.693Z"
   },
   {
    "duration": 53,
    "start_time": "2022-11-16T17:07:22.222Z"
   },
   {
    "duration": 52,
    "start_time": "2022-11-16T17:07:27.445Z"
   },
   {
    "duration": 1317,
    "start_time": "2022-11-16T17:07:58.299Z"
   },
   {
    "duration": 199,
    "start_time": "2022-11-16T17:07:59.618Z"
   },
   {
    "duration": 14,
    "start_time": "2022-11-16T17:07:59.819Z"
   },
   {
    "duration": 19,
    "start_time": "2022-11-16T17:07:59.835Z"
   },
   {
    "duration": 3,
    "start_time": "2022-11-16T17:08:03.345Z"
   },
   {
    "duration": 20,
    "start_time": "2022-11-16T17:08:03.539Z"
   },
   {
    "duration": 56,
    "start_time": "2022-11-16T17:08:06.670Z"
   },
   {
    "duration": 10,
    "start_time": "2022-11-16T17:08:08.338Z"
   },
   {
    "duration": 5,
    "start_time": "2022-11-16T17:08:08.729Z"
   },
   {
    "duration": 13,
    "start_time": "2022-11-16T17:08:09.184Z"
   },
   {
    "duration": 7,
    "start_time": "2022-11-16T17:08:12.080Z"
   },
   {
    "duration": 5,
    "start_time": "2022-11-16T17:08:14.145Z"
   },
   {
    "duration": 8,
    "start_time": "2022-11-16T17:08:14.529Z"
   },
   {
    "duration": 5,
    "start_time": "2022-11-16T17:08:16.009Z"
   },
   {
    "duration": 7,
    "start_time": "2022-11-16T17:08:20.386Z"
   },
   {
    "duration": 19,
    "start_time": "2022-11-16T17:08:21.714Z"
   },
   {
    "duration": 5,
    "start_time": "2022-11-16T17:08:22.306Z"
   },
   {
    "duration": 5,
    "start_time": "2022-11-16T17:08:22.842Z"
   },
   {
    "duration": 9,
    "start_time": "2022-11-16T17:08:28.288Z"
   },
   {
    "duration": 5,
    "start_time": "2022-11-16T17:08:28.580Z"
   },
   {
    "duration": 5,
    "start_time": "2022-11-16T17:11:32.766Z"
   },
   {
    "duration": 22,
    "start_time": "2022-11-16T17:11:45.457Z"
   },
   {
    "duration": 21,
    "start_time": "2022-11-16T17:11:55.524Z"
   },
   {
    "duration": 5,
    "start_time": "2022-11-16T17:11:59.266Z"
   },
   {
    "duration": 16,
    "start_time": "2022-11-16T17:11:59.638Z"
   },
   {
    "duration": 13,
    "start_time": "2022-11-16T17:12:01.255Z"
   },
   {
    "duration": 10,
    "start_time": "2022-11-16T17:16:40.583Z"
   },
   {
    "duration": 457,
    "start_time": "2022-11-16T17:16:41.980Z"
   },
   {
    "duration": 4,
    "start_time": "2022-11-16T17:20:21.206Z"
   },
   {
    "duration": 18,
    "start_time": "2022-11-16T17:20:45.595Z"
   },
   {
    "duration": 99,
    "start_time": "2022-11-16T17:22:18.144Z"
   },
   {
    "duration": 9,
    "start_time": "2022-11-16T17:22:26.440Z"
   },
   {
    "duration": 9,
    "start_time": "2022-11-16T17:22:37.806Z"
   },
   {
    "duration": 4,
    "start_time": "2022-11-16T17:30:48.021Z"
   },
   {
    "duration": 5,
    "start_time": "2022-11-16T17:30:50.579Z"
   },
   {
    "duration": 12,
    "start_time": "2022-11-16T17:31:21.548Z"
   },
   {
    "duration": 10,
    "start_time": "2022-11-16T17:31:28.784Z"
   },
   {
    "duration": 10,
    "start_time": "2022-11-16T17:34:11.411Z"
   },
   {
    "duration": 1076,
    "start_time": "2022-11-16T17:34:19.937Z"
   },
   {
    "duration": 50,
    "start_time": "2022-11-16T17:34:21.014Z"
   },
   {
    "duration": 14,
    "start_time": "2022-11-16T17:34:21.066Z"
   },
   {
    "duration": 28,
    "start_time": "2022-11-16T17:34:21.082Z"
   },
   {
    "duration": 3,
    "start_time": "2022-11-16T17:34:21.112Z"
   },
   {
    "duration": 23,
    "start_time": "2022-11-16T17:34:21.117Z"
   },
   {
    "duration": 67,
    "start_time": "2022-11-16T17:34:21.142Z"
   },
   {
    "duration": 10,
    "start_time": "2022-11-16T17:34:21.211Z"
   },
   {
    "duration": 6,
    "start_time": "2022-11-16T17:34:21.222Z"
   },
   {
    "duration": 17,
    "start_time": "2022-11-16T17:34:21.229Z"
   },
   {
    "duration": 4,
    "start_time": "2022-11-16T17:34:21.248Z"
   },
   {
    "duration": 15,
    "start_time": "2022-11-16T17:34:21.254Z"
   },
   {
    "duration": 32,
    "start_time": "2022-11-16T17:34:21.270Z"
   },
   {
    "duration": 10,
    "start_time": "2022-11-16T17:34:21.307Z"
   },
   {
    "duration": 19,
    "start_time": "2022-11-16T17:34:21.319Z"
   },
   {
    "duration": 28,
    "start_time": "2022-11-16T17:34:21.340Z"
   },
   {
    "duration": 5,
    "start_time": "2022-11-16T17:34:21.369Z"
   },
   {
    "duration": 22,
    "start_time": "2022-11-16T17:34:21.376Z"
   },
   {
    "duration": 10,
    "start_time": "2022-11-16T17:34:21.399Z"
   },
   {
    "duration": 4,
    "start_time": "2022-11-16T17:34:21.411Z"
   },
   {
    "duration": 22,
    "start_time": "2022-11-16T17:34:21.417Z"
   },
   {
    "duration": 4,
    "start_time": "2022-11-16T17:34:21.441Z"
   },
   {
    "duration": 22,
    "start_time": "2022-11-16T17:34:21.447Z"
   },
   {
    "duration": 29,
    "start_time": "2022-11-16T17:34:21.471Z"
   },
   {
    "duration": 21,
    "start_time": "2022-11-16T17:34:21.501Z"
   },
   {
    "duration": 16,
    "start_time": "2022-11-16T17:34:21.524Z"
   },
   {
    "duration": 9,
    "start_time": "2022-11-16T17:34:21.542Z"
   },
   {
    "duration": 507,
    "start_time": "2022-11-16T17:34:21.552Z"
   },
   {
    "duration": 4,
    "start_time": "2022-11-16T17:34:22.061Z"
   },
   {
    "duration": 31,
    "start_time": "2022-11-16T17:34:22.066Z"
   },
   {
    "duration": 21,
    "start_time": "2022-11-16T17:34:22.098Z"
   },
   {
    "duration": 153,
    "start_time": "2022-11-16T17:34:22.120Z"
   },
   {
    "duration": 318,
    "start_time": "2022-11-16T17:34:22.275Z"
   },
   {
    "duration": 15,
    "start_time": "2022-11-16T17:34:22.595Z"
   },
   {
    "duration": 6,
    "start_time": "2022-11-16T17:34:22.611Z"
   },
   {
    "duration": 7,
    "start_time": "2022-11-16T17:34:22.618Z"
   },
   {
    "duration": 284,
    "start_time": "2022-11-16T17:34:22.627Z"
   },
   {
    "duration": 355,
    "start_time": "2022-11-16T17:34:22.913Z"
   },
   {
    "duration": 202,
    "start_time": "2022-11-16T17:34:23.270Z"
   },
   {
    "duration": 267,
    "start_time": "2022-11-16T17:34:23.474Z"
   },
   {
    "duration": 59,
    "start_time": "2022-11-16T17:34:23.744Z"
   },
   {
    "duration": 187,
    "start_time": "2022-11-16T17:34:23.805Z"
   },
   {
    "duration": 167,
    "start_time": "2022-11-16T17:34:23.996Z"
   },
   {
    "duration": 5,
    "start_time": "2022-11-16T17:34:24.165Z"
   },
   {
    "duration": 21,
    "start_time": "2022-11-16T17:34:24.171Z"
   },
   {
    "duration": 379,
    "start_time": "2022-11-16T17:34:24.193Z"
   },
   {
    "duration": 300,
    "start_time": "2022-11-16T17:34:24.573Z"
   },
   {
    "duration": 450,
    "start_time": "2022-11-16T17:34:24.875Z"
   },
   {
    "duration": 325,
    "start_time": "2022-11-16T17:34:25.328Z"
   },
   {
    "duration": 11,
    "start_time": "2022-11-16T17:34:25.654Z"
   },
   {
    "duration": 10,
    "start_time": "2022-11-16T17:34:25.666Z"
   },
   {
    "duration": 4,
    "start_time": "2022-11-16T17:34:30.906Z"
   },
   {
    "duration": 49,
    "start_time": "2022-11-16T17:34:32.410Z"
   },
   {
    "duration": 14,
    "start_time": "2022-11-16T17:34:32.698Z"
   },
   {
    "duration": 17,
    "start_time": "2022-11-16T17:34:32.866Z"
   },
   {
    "duration": 4,
    "start_time": "2022-11-16T17:34:33.468Z"
   },
   {
    "duration": 18,
    "start_time": "2022-11-16T17:34:33.610Z"
   },
   {
    "duration": 14,
    "start_time": "2022-11-16T17:34:33.754Z"
   },
   {
    "duration": 8,
    "start_time": "2022-11-16T17:34:34.322Z"
   },
   {
    "duration": 4,
    "start_time": "2022-11-16T17:34:34.471Z"
   },
   {
    "duration": 14,
    "start_time": "2022-11-16T17:34:34.610Z"
   },
   {
    "duration": 5,
    "start_time": "2022-11-16T17:34:35.063Z"
   },
   {
    "duration": 4,
    "start_time": "2022-11-16T17:34:35.379Z"
   },
   {
    "duration": 7,
    "start_time": "2022-11-16T17:34:35.530Z"
   },
   {
    "duration": 6,
    "start_time": "2022-11-16T17:34:35.842Z"
   },
   {
    "duration": 7,
    "start_time": "2022-11-16T17:34:36.506Z"
   },
   {
    "duration": 20,
    "start_time": "2022-11-16T17:34:36.808Z"
   },
   {
    "duration": 5,
    "start_time": "2022-11-16T17:34:36.972Z"
   },
   {
    "duration": 6,
    "start_time": "2022-11-16T17:34:37.138Z"
   },
   {
    "duration": 9,
    "start_time": "2022-11-16T17:34:37.638Z"
   },
   {
    "duration": 6,
    "start_time": "2022-11-16T17:34:37.802Z"
   },
   {
    "duration": 21,
    "start_time": "2022-11-16T17:34:37.970Z"
   },
   {
    "duration": 5,
    "start_time": "2022-11-16T17:34:39.432Z"
   },
   {
    "duration": 21,
    "start_time": "2022-11-16T17:34:39.594Z"
   },
   {
    "duration": 6,
    "start_time": "2022-11-16T17:34:41.689Z"
   },
   {
    "duration": 17,
    "start_time": "2022-11-16T17:34:42.091Z"
   },
   {
    "duration": 14,
    "start_time": "2022-11-16T17:34:46.713Z"
   },
   {
    "duration": 9,
    "start_time": "2022-11-16T17:34:50.536Z"
   },
   {
    "duration": 532,
    "start_time": "2022-11-16T17:34:52.232Z"
   },
   {
    "duration": 4,
    "start_time": "2022-11-16T17:35:00.521Z"
   },
   {
    "duration": 18,
    "start_time": "2022-11-16T17:35:02.632Z"
   },
   {
    "duration": 103,
    "start_time": "2022-11-16T17:35:31.943Z"
   },
   {
    "duration": 5,
    "start_time": "2022-11-16T17:35:36.439Z"
   },
   {
    "duration": 17,
    "start_time": "2022-11-16T17:35:38.536Z"
   },
   {
    "duration": 10,
    "start_time": "2022-11-16T17:37:37.601Z"
   },
   {
    "duration": 6,
    "start_time": "2022-11-16T17:37:47.112Z"
   },
   {
    "duration": 19,
    "start_time": "2022-11-16T17:37:49.488Z"
   },
   {
    "duration": 6,
    "start_time": "2022-11-16T17:37:57.598Z"
   },
   {
    "duration": 25,
    "start_time": "2022-11-16T17:37:58.152Z"
   },
   {
    "duration": 4,
    "start_time": "2022-11-16T17:38:18.135Z"
   },
   {
    "duration": 4,
    "start_time": "2022-11-16T17:38:39.070Z"
   },
   {
    "duration": 17,
    "start_time": "2022-11-16T17:38:46.118Z"
   },
   {
    "duration": 148,
    "start_time": "2022-11-16T17:38:59.428Z"
   },
   {
    "duration": 269,
    "start_time": "2022-11-16T17:39:02.172Z"
   },
   {
    "duration": 3,
    "start_time": "2022-11-16T17:40:17.088Z"
   },
   {
    "duration": 4,
    "start_time": "2022-11-16T17:40:26.096Z"
   },
   {
    "duration": 3,
    "start_time": "2022-11-16T17:42:32.210Z"
   },
   {
    "duration": 2,
    "start_time": "2022-11-16T17:42:59.137Z"
   },
   {
    "duration": 402,
    "start_time": "2022-11-16T17:43:51.646Z"
   },
   {
    "duration": 177,
    "start_time": "2022-11-16T17:44:37.268Z"
   },
   {
    "duration": 187,
    "start_time": "2022-11-16T17:44:42.956Z"
   },
   {
    "duration": 157,
    "start_time": "2022-11-16T17:45:31.800Z"
   },
   {
    "duration": 164,
    "start_time": "2022-11-16T17:45:44.105Z"
   },
   {
    "duration": 199,
    "start_time": "2022-11-16T17:46:45.920Z"
   },
   {
    "duration": 12,
    "start_time": "2022-11-16T17:47:25.675Z"
   },
   {
    "duration": 12,
    "start_time": "2022-11-16T17:47:39.019Z"
   },
   {
    "duration": 151,
    "start_time": "2022-11-16T17:47:54.706Z"
   },
   {
    "duration": 12,
    "start_time": "2022-11-16T17:48:07.240Z"
   },
   {
    "duration": 1045,
    "start_time": "2022-11-16T17:48:43.452Z"
   },
   {
    "duration": 50,
    "start_time": "2022-11-16T17:48:44.499Z"
   },
   {
    "duration": 12,
    "start_time": "2022-11-16T17:48:44.551Z"
   },
   {
    "duration": 17,
    "start_time": "2022-11-16T17:48:44.565Z"
   },
   {
    "duration": 3,
    "start_time": "2022-11-16T17:48:44.584Z"
   },
   {
    "duration": 25,
    "start_time": "2022-11-16T17:48:44.589Z"
   },
   {
    "duration": 50,
    "start_time": "2022-11-16T17:48:44.616Z"
   },
   {
    "duration": 7,
    "start_time": "2022-11-16T17:48:44.667Z"
   },
   {
    "duration": 4,
    "start_time": "2022-11-16T17:48:44.675Z"
   },
   {
    "duration": 27,
    "start_time": "2022-11-16T17:48:44.680Z"
   },
   {
    "duration": 5,
    "start_time": "2022-11-16T17:48:44.708Z"
   },
   {
    "duration": 7,
    "start_time": "2022-11-16T17:48:44.714Z"
   },
   {
    "duration": 8,
    "start_time": "2022-11-16T17:48:44.722Z"
   },
   {
    "duration": 7,
    "start_time": "2022-11-16T17:48:44.733Z"
   },
   {
    "duration": 10,
    "start_time": "2022-11-16T17:48:44.741Z"
   },
   {
    "duration": 19,
    "start_time": "2022-11-16T17:48:44.752Z"
   },
   {
    "duration": 26,
    "start_time": "2022-11-16T17:48:44.773Z"
   },
   {
    "duration": 18,
    "start_time": "2022-11-16T17:48:44.801Z"
   },
   {
    "duration": 23,
    "start_time": "2022-11-16T17:48:44.821Z"
   },
   {
    "duration": 14,
    "start_time": "2022-11-16T17:48:44.845Z"
   },
   {
    "duration": 32,
    "start_time": "2022-11-16T17:48:44.860Z"
   },
   {
    "duration": 12,
    "start_time": "2022-11-16T17:48:44.894Z"
   },
   {
    "duration": 31,
    "start_time": "2022-11-16T17:48:44.908Z"
   },
   {
    "duration": 19,
    "start_time": "2022-11-16T17:48:44.941Z"
   },
   {
    "duration": 42,
    "start_time": "2022-11-16T17:48:44.961Z"
   },
   {
    "duration": 38,
    "start_time": "2022-11-16T17:48:45.004Z"
   },
   {
    "duration": 19,
    "start_time": "2022-11-16T17:48:45.043Z"
   },
   {
    "duration": 497,
    "start_time": "2022-11-16T17:48:45.063Z"
   },
   {
    "duration": 6,
    "start_time": "2022-11-16T17:48:45.561Z"
   },
   {
    "duration": 32,
    "start_time": "2022-11-16T17:48:45.569Z"
   },
   {
    "duration": 22,
    "start_time": "2022-11-16T17:48:45.602Z"
   },
   {
    "duration": 151,
    "start_time": "2022-11-16T17:48:45.626Z"
   },
   {
    "duration": 347,
    "start_time": "2022-11-16T17:48:45.779Z"
   },
   {
    "duration": 3,
    "start_time": "2022-11-16T17:48:46.128Z"
   },
   {
    "duration": 41,
    "start_time": "2022-11-16T17:48:46.133Z"
   },
   {
    "duration": 30,
    "start_time": "2022-11-16T17:48:46.176Z"
   },
   {
    "duration": 25,
    "start_time": "2022-11-16T17:48:46.208Z"
   },
   {
    "duration": 339,
    "start_time": "2022-11-16T17:48:46.234Z"
   },
   {
    "duration": 180,
    "start_time": "2022-11-16T17:48:46.575Z"
   },
   {
    "duration": 183,
    "start_time": "2022-11-16T17:48:46.757Z"
   },
   {
    "duration": 38,
    "start_time": "2022-11-16T17:48:46.943Z"
   },
   {
    "duration": 239,
    "start_time": "2022-11-16T17:48:46.983Z"
   },
   {
    "duration": 158,
    "start_time": "2022-11-16T17:48:47.224Z"
   },
   {
    "duration": 99,
    "start_time": "2022-11-16T17:48:47.384Z"
   },
   {
    "duration": 0,
    "start_time": "2022-11-16T17:48:47.485Z"
   },
   {
    "duration": 0,
    "start_time": "2022-11-16T17:48:47.486Z"
   },
   {
    "duration": 0,
    "start_time": "2022-11-16T17:48:47.496Z"
   },
   {
    "duration": 0,
    "start_time": "2022-11-16T17:48:47.497Z"
   },
   {
    "duration": 0,
    "start_time": "2022-11-16T17:48:47.498Z"
   },
   {
    "duration": 0,
    "start_time": "2022-11-16T17:48:47.499Z"
   },
   {
    "duration": 0,
    "start_time": "2022-11-16T17:48:47.500Z"
   },
   {
    "duration": 0,
    "start_time": "2022-11-16T17:48:47.501Z"
   },
   {
    "duration": 0,
    "start_time": "2022-11-16T17:48:47.502Z"
   },
   {
    "duration": 4,
    "start_time": "2022-11-16T17:48:50.582Z"
   },
   {
    "duration": 47,
    "start_time": "2022-11-16T17:48:50.750Z"
   },
   {
    "duration": 14,
    "start_time": "2022-11-16T17:48:50.902Z"
   },
   {
    "duration": 16,
    "start_time": "2022-11-16T17:48:51.046Z"
   },
   {
    "duration": 3,
    "start_time": "2022-11-16T17:48:51.606Z"
   },
   {
    "duration": 18,
    "start_time": "2022-11-16T17:48:51.726Z"
   },
   {
    "duration": 15,
    "start_time": "2022-11-16T17:48:51.867Z"
   },
   {
    "duration": 8,
    "start_time": "2022-11-16T17:48:52.614Z"
   },
   {
    "duration": 5,
    "start_time": "2022-11-16T17:48:52.910Z"
   },
   {
    "duration": 15,
    "start_time": "2022-11-16T17:48:53.086Z"
   },
   {
    "duration": 5,
    "start_time": "2022-11-16T17:48:53.494Z"
   },
   {
    "duration": 5,
    "start_time": "2022-11-16T17:48:53.756Z"
   },
   {
    "duration": 8,
    "start_time": "2022-11-16T17:48:53.895Z"
   },
   {
    "duration": 5,
    "start_time": "2022-11-16T17:48:54.182Z"
   },
   {
    "duration": 8,
    "start_time": "2022-11-16T17:48:54.748Z"
   },
   {
    "duration": 18,
    "start_time": "2022-11-16T17:48:55.092Z"
   },
   {
    "duration": 6,
    "start_time": "2022-11-16T17:48:55.246Z"
   },
   {
    "duration": 5,
    "start_time": "2022-11-16T17:48:55.398Z"
   },
   {
    "duration": 8,
    "start_time": "2022-11-16T17:48:55.864Z"
   },
   {
    "duration": 6,
    "start_time": "2022-11-16T17:48:56.006Z"
   },
   {
    "duration": 24,
    "start_time": "2022-11-16T17:48:56.134Z"
   },
   {
    "duration": 4,
    "start_time": "2022-11-16T17:48:57.214Z"
   },
   {
    "duration": 22,
    "start_time": "2022-11-16T17:48:58.014Z"
   },
   {
    "duration": 6,
    "start_time": "2022-11-16T17:48:58.428Z"
   },
   {
    "duration": 16,
    "start_time": "2022-11-16T17:48:58.550Z"
   },
   {
    "duration": 14,
    "start_time": "2022-11-16T17:48:58.742Z"
   },
   {
    "duration": 11,
    "start_time": "2022-11-16T17:48:59.644Z"
   },
   {
    "duration": 510,
    "start_time": "2022-11-16T17:49:00.012Z"
   },
   {
    "duration": 5,
    "start_time": "2022-11-16T17:49:01.182Z"
   },
   {
    "duration": 5,
    "start_time": "2022-11-16T17:49:01.367Z"
   },
   {
    "duration": 14,
    "start_time": "2022-11-16T17:49:02.284Z"
   },
   {
    "duration": 149,
    "start_time": "2022-11-16T17:49:04.085Z"
   },
   {
    "duration": 332,
    "start_time": "2022-11-16T17:49:05.972Z"
   },
   {
    "duration": 3,
    "start_time": "2022-11-16T17:49:07.132Z"
   },
   {
    "duration": 2,
    "start_time": "2022-11-16T17:49:07.589Z"
   },
   {
    "duration": 3,
    "start_time": "2022-11-16T17:49:07.908Z"
   },
   {
    "duration": 2,
    "start_time": "2022-11-16T17:49:09.085Z"
   },
   {
    "duration": 357,
    "start_time": "2022-11-16T17:49:12.645Z"
   },
   {
    "duration": 201,
    "start_time": "2022-11-16T17:49:15.021Z"
   },
   {
    "duration": 232,
    "start_time": "2022-11-16T17:49:16.325Z"
   },
   {
    "duration": 42,
    "start_time": "2022-11-16T17:49:19.972Z"
   },
   {
    "duration": 151,
    "start_time": "2022-11-16T17:49:23.949Z"
   },
   {
    "duration": 149,
    "start_time": "2022-11-16T17:49:28.347Z"
   },
   {
    "duration": 12,
    "start_time": "2022-11-16T17:49:33.235Z"
   },
   {
    "duration": 241,
    "start_time": "2022-11-16T17:50:17.034Z"
   },
   {
    "duration": 158,
    "start_time": "2022-11-16T17:50:43.601Z"
   },
   {
    "duration": 146,
    "start_time": "2022-11-16T17:51:04.903Z"
   },
   {
    "duration": 6,
    "start_time": "2022-11-16T17:51:19.231Z"
   },
   {
    "duration": 2,
    "start_time": "2022-11-16T17:51:19.970Z"
   },
   {
    "duration": 361,
    "start_time": "2022-11-16T17:51:22.182Z"
   },
   {
    "duration": 50,
    "start_time": "2022-11-16T17:57:13.006Z"
   },
   {
    "duration": 42,
    "start_time": "2022-11-16T17:57:29.684Z"
   },
   {
    "duration": 5,
    "start_time": "2022-11-16T17:57:39.660Z"
   },
   {
    "duration": 50,
    "start_time": "2022-11-16T17:57:48.252Z"
   },
   {
    "duration": 357,
    "start_time": "2022-11-16T17:57:55.370Z"
   },
   {
    "duration": 272,
    "start_time": "2022-11-16T18:02:35.576Z"
   },
   {
    "duration": 282,
    "start_time": "2022-11-16T18:03:24.179Z"
   },
   {
    "duration": 3,
    "start_time": "2022-11-16T18:09:31.705Z"
   },
   {
    "duration": 11,
    "start_time": "2022-11-16T18:15:21.742Z"
   },
   {
    "duration": 25,
    "start_time": "2022-11-16T18:16:06.260Z"
   },
   {
    "duration": 21,
    "start_time": "2022-11-16T18:16:29.842Z"
   },
   {
    "duration": 285,
    "start_time": "2022-11-16T18:16:54.480Z"
   },
   {
    "duration": 310,
    "start_time": "2022-11-16T18:17:01.513Z"
   },
   {
    "duration": 281,
    "start_time": "2022-11-16T18:19:42.048Z"
   },
   {
    "duration": 40,
    "start_time": "2022-11-16T18:29:29.893Z"
   },
   {
    "duration": 38,
    "start_time": "2022-11-16T18:30:17.408Z"
   },
   {
    "duration": 51,
    "start_time": "2022-11-16T18:30:29.481Z"
   },
   {
    "duration": 42,
    "start_time": "2022-11-16T18:30:46.191Z"
   },
   {
    "duration": 137,
    "start_time": "2022-11-16T18:30:53.231Z"
   },
   {
    "duration": 10,
    "start_time": "2022-11-16T18:32:19.827Z"
   },
   {
    "duration": 21,
    "start_time": "2022-11-16T18:33:05.176Z"
   },
   {
    "duration": 18,
    "start_time": "2022-11-16T18:33:13.256Z"
   },
   {
    "duration": 23,
    "start_time": "2022-11-16T18:33:47.311Z"
   },
   {
    "duration": 9,
    "start_time": "2022-11-16T18:34:42.517Z"
   },
   {
    "duration": 15,
    "start_time": "2022-11-16T18:35:15.601Z"
   },
   {
    "duration": 48,
    "start_time": "2022-11-16T18:35:21.073Z"
   },
   {
    "duration": 14,
    "start_time": "2022-11-16T18:35:24.326Z"
   },
   {
    "duration": 15,
    "start_time": "2022-11-16T18:39:16.366Z"
   },
   {
    "duration": 15,
    "start_time": "2022-11-16T18:39:23.965Z"
   },
   {
    "duration": 15,
    "start_time": "2022-11-16T18:42:22.212Z"
   },
   {
    "duration": 11,
    "start_time": "2022-11-16T18:44:31.573Z"
   },
   {
    "duration": 13,
    "start_time": "2022-11-16T18:45:24.190Z"
   },
   {
    "duration": 50,
    "start_time": "2022-11-16T18:50:30.198Z"
   },
   {
    "duration": 412,
    "start_time": "2022-11-16T18:52:48.477Z"
   },
   {
    "duration": 286,
    "start_time": "2022-11-16T18:53:07.053Z"
   },
   {
    "duration": 300,
    "start_time": "2022-11-16T18:55:00.896Z"
   },
   {
    "duration": 42,
    "start_time": "2022-11-16T18:56:48.162Z"
   },
   {
    "duration": 378,
    "start_time": "2022-11-16T18:56:58.552Z"
   },
   {
    "duration": 287,
    "start_time": "2022-11-16T18:57:09.776Z"
   },
   {
    "duration": 1136,
    "start_time": "2022-11-16T18:59:35.012Z"
   },
   {
    "duration": 53,
    "start_time": "2022-11-16T18:59:36.150Z"
   },
   {
    "duration": 14,
    "start_time": "2022-11-16T18:59:36.205Z"
   },
   {
    "duration": 22,
    "start_time": "2022-11-16T18:59:36.221Z"
   },
   {
    "duration": 4,
    "start_time": "2022-11-16T18:59:36.245Z"
   },
   {
    "duration": 45,
    "start_time": "2022-11-16T18:59:36.251Z"
   },
   {
    "duration": 64,
    "start_time": "2022-11-16T18:59:36.299Z"
   },
   {
    "duration": 10,
    "start_time": "2022-11-16T18:59:36.364Z"
   },
   {
    "duration": 24,
    "start_time": "2022-11-16T18:59:36.376Z"
   },
   {
    "duration": 19,
    "start_time": "2022-11-16T18:59:36.404Z"
   },
   {
    "duration": 6,
    "start_time": "2022-11-16T18:59:36.425Z"
   },
   {
    "duration": 27,
    "start_time": "2022-11-16T18:59:36.433Z"
   },
   {
    "duration": 14,
    "start_time": "2022-11-16T18:59:36.462Z"
   },
   {
    "duration": 7,
    "start_time": "2022-11-16T18:59:36.478Z"
   },
   {
    "duration": 15,
    "start_time": "2022-11-16T18:59:36.487Z"
   },
   {
    "duration": 20,
    "start_time": "2022-11-16T18:59:36.504Z"
   },
   {
    "duration": 5,
    "start_time": "2022-11-16T18:59:36.526Z"
   },
   {
    "duration": 7,
    "start_time": "2022-11-16T18:59:36.532Z"
   },
   {
    "duration": 10,
    "start_time": "2022-11-16T18:59:36.541Z"
   },
   {
    "duration": 6,
    "start_time": "2022-11-16T18:59:36.553Z"
   },
   {
    "duration": 54,
    "start_time": "2022-11-16T18:59:36.560Z"
   },
   {
    "duration": 7,
    "start_time": "2022-11-16T18:59:36.616Z"
   },
   {
    "duration": 22,
    "start_time": "2022-11-16T18:59:36.625Z"
   },
   {
    "duration": 6,
    "start_time": "2022-11-16T18:59:36.650Z"
   },
   {
    "duration": 40,
    "start_time": "2022-11-16T18:59:36.658Z"
   },
   {
    "duration": 17,
    "start_time": "2022-11-16T18:59:36.699Z"
   },
   {
    "duration": 9,
    "start_time": "2022-11-16T18:59:36.717Z"
   },
   {
    "duration": 494,
    "start_time": "2022-11-16T18:59:36.730Z"
   },
   {
    "duration": 7,
    "start_time": "2022-11-16T18:59:37.225Z"
   },
   {
    "duration": 9,
    "start_time": "2022-11-16T18:59:37.233Z"
   },
   {
    "duration": 18,
    "start_time": "2022-11-16T18:59:37.243Z"
   },
   {
    "duration": 167,
    "start_time": "2022-11-16T18:59:37.263Z"
   },
   {
    "duration": 301,
    "start_time": "2022-11-16T18:59:37.432Z"
   },
   {
    "duration": 3,
    "start_time": "2022-11-16T18:59:37.735Z"
   },
   {
    "duration": 8,
    "start_time": "2022-11-16T18:59:37.739Z"
   },
   {
    "duration": 6,
    "start_time": "2022-11-16T18:59:37.748Z"
   },
   {
    "duration": 5,
    "start_time": "2022-11-16T18:59:37.755Z"
   },
   {
    "duration": 362,
    "start_time": "2022-11-16T18:59:37.762Z"
   },
   {
    "duration": 202,
    "start_time": "2022-11-16T18:59:38.125Z"
   },
   {
    "duration": 205,
    "start_time": "2022-11-16T18:59:38.329Z"
   },
   {
    "duration": 40,
    "start_time": "2022-11-16T18:59:38.536Z"
   },
   {
    "duration": 248,
    "start_time": "2022-11-16T18:59:38.577Z"
   },
   {
    "duration": 172,
    "start_time": "2022-11-16T18:59:38.826Z"
   },
   {
    "duration": 167,
    "start_time": "2022-11-16T18:59:39.000Z"
   },
   {
    "duration": 166,
    "start_time": "2022-11-16T18:59:39.169Z"
   },
   {
    "duration": 5,
    "start_time": "2022-11-16T18:59:39.336Z"
   },
   {
    "duration": 4,
    "start_time": "2022-11-16T18:59:39.343Z"
   },
   {
    "duration": 5,
    "start_time": "2022-11-16T18:59:39.348Z"
   },
   {
    "duration": 20,
    "start_time": "2022-11-16T18:59:39.354Z"
   },
   {
    "duration": 316,
    "start_time": "2022-11-16T18:59:39.375Z"
   },
   {
    "duration": 11,
    "start_time": "2022-11-16T18:59:39.696Z"
   },
   {
    "duration": 303,
    "start_time": "2022-11-16T18:59:39.709Z"
   },
   {
    "duration": 428,
    "start_time": "2022-11-16T18:59:40.014Z"
   },
   {
    "duration": 291,
    "start_time": "2022-11-16T18:59:40.444Z"
   },
   {
    "duration": 12,
    "start_time": "2022-11-16T18:59:40.737Z"
   },
   {
    "duration": 14,
    "start_time": "2022-11-16T18:59:40.751Z"
   },
   {
    "duration": 4,
    "start_time": "2022-11-16T18:59:52.464Z"
   },
   {
    "duration": 48,
    "start_time": "2022-11-16T18:59:52.640Z"
   },
   {
    "duration": 15,
    "start_time": "2022-11-16T18:59:52.792Z"
   },
   {
    "duration": 17,
    "start_time": "2022-11-16T18:59:52.952Z"
   },
   {
    "duration": 4,
    "start_time": "2022-11-16T18:59:53.463Z"
   },
   {
    "duration": 17,
    "start_time": "2022-11-16T18:59:53.638Z"
   },
   {
    "duration": 14,
    "start_time": "2022-11-16T18:59:54.117Z"
   },
   {
    "duration": 7,
    "start_time": "2022-11-16T18:59:54.258Z"
   },
   {
    "duration": 5,
    "start_time": "2022-11-16T18:59:54.285Z"
   },
   {
    "duration": 12,
    "start_time": "2022-11-16T18:59:54.322Z"
   },
   {
    "duration": 6,
    "start_time": "2022-11-16T18:59:54.415Z"
   },
   {
    "duration": 5,
    "start_time": "2022-11-16T18:59:54.490Z"
   },
   {
    "duration": 8,
    "start_time": "2022-11-16T18:59:54.517Z"
   },
   {
    "duration": 5,
    "start_time": "2022-11-16T18:59:54.582Z"
   },
   {
    "duration": 7,
    "start_time": "2022-11-16T18:59:54.718Z"
   },
   {
    "duration": 17,
    "start_time": "2022-11-16T18:59:54.780Z"
   },
   {
    "duration": 6,
    "start_time": "2022-11-16T18:59:54.817Z"
   },
   {
    "duration": 5,
    "start_time": "2022-11-16T18:59:54.843Z"
   },
   {
    "duration": 10,
    "start_time": "2022-11-16T18:59:54.943Z"
   },
   {
    "duration": 6,
    "start_time": "2022-11-16T18:59:54.978Z"
   },
   {
    "duration": 23,
    "start_time": "2022-11-16T18:59:55.010Z"
   },
   {
    "duration": 5,
    "start_time": "2022-11-16T18:59:55.108Z"
   },
   {
    "duration": 24,
    "start_time": "2022-11-16T18:59:55.144Z"
   },
   {
    "duration": 7,
    "start_time": "2022-11-16T18:59:55.208Z"
   },
   {
    "duration": 18,
    "start_time": "2022-11-16T18:59:55.240Z"
   },
   {
    "duration": 129,
    "start_time": "2022-11-16T18:59:55.271Z"
   },
   {
    "duration": 12,
    "start_time": "2022-11-16T18:59:55.440Z"
   },
   {
    "duration": 481,
    "start_time": "2022-11-16T18:59:55.511Z"
   },
   {
    "duration": 6,
    "start_time": "2022-11-16T18:59:55.997Z"
   },
   {
    "duration": 18,
    "start_time": "2022-11-16T18:59:56.005Z"
   },
   {
    "duration": 29,
    "start_time": "2022-11-16T18:59:56.026Z"
   },
   {
    "duration": 187,
    "start_time": "2022-11-16T18:59:56.057Z"
   },
   {
    "duration": 279,
    "start_time": "2022-11-16T18:59:56.246Z"
   },
   {
    "duration": 2,
    "start_time": "2022-11-16T18:59:56.528Z"
   },
   {
    "duration": 9,
    "start_time": "2022-11-16T18:59:56.532Z"
   },
   {
    "duration": 6,
    "start_time": "2022-11-16T18:59:56.543Z"
   },
   {
    "duration": 7,
    "start_time": "2022-11-16T18:59:56.550Z"
   },
   {
    "duration": 349,
    "start_time": "2022-11-16T18:59:56.559Z"
   },
   {
    "duration": 189,
    "start_time": "2022-11-16T18:59:56.910Z"
   },
   {
    "duration": 199,
    "start_time": "2022-11-16T18:59:57.100Z"
   },
   {
    "duration": 42,
    "start_time": "2022-11-16T18:59:57.301Z"
   },
   {
    "duration": 177,
    "start_time": "2022-11-16T18:59:57.344Z"
   },
   {
    "duration": 163,
    "start_time": "2022-11-16T18:59:57.523Z"
   },
   {
    "duration": 160,
    "start_time": "2022-11-16T18:59:57.688Z"
   },
   {
    "duration": 170,
    "start_time": "2022-11-16T18:59:57.851Z"
   },
   {
    "duration": 5,
    "start_time": "2022-11-16T18:59:58.023Z"
   },
   {
    "duration": 5,
    "start_time": "2022-11-16T18:59:58.030Z"
   },
   {
    "duration": 5,
    "start_time": "2022-11-16T18:59:58.037Z"
   },
   {
    "duration": 12,
    "start_time": "2022-11-16T18:59:58.043Z"
   },
   {
    "duration": 413,
    "start_time": "2022-11-16T18:59:58.057Z"
   },
   {
    "duration": 11,
    "start_time": "2022-11-16T18:59:58.471Z"
   },
   {
    "duration": 284,
    "start_time": "2022-11-16T18:59:58.871Z"
   },
   {
    "duration": 411,
    "start_time": "2022-11-16T18:59:59.906Z"
   },
   {
    "duration": 311,
    "start_time": "2022-11-16T19:00:00.672Z"
   },
   {
    "duration": 11,
    "start_time": "2022-11-16T19:00:03.438Z"
   },
   {
    "duration": 10,
    "start_time": "2022-11-16T19:00:04.880Z"
   }
  ],
  "kernelspec": {
   "display_name": "Python 3 (ipykernel)",
   "language": "python",
   "name": "python3"
  },
  "language_info": {
   "codemirror_mode": {
    "name": "ipython",
    "version": 3
   },
   "file_extension": ".py",
   "mimetype": "text/x-python",
   "name": "python",
   "nbconvert_exporter": "python",
   "pygments_lexer": "ipython3",
   "version": "3.9.16"
  },
  "toc": {
   "base_numbering": 1,
   "nav_menu": {
    "height": "434px",
    "width": "412px"
   },
   "number_sections": false,
   "sideBar": true,
   "skip_h1_title": true,
   "title_cell": "Table of Contents",
   "title_sidebar": "Contents",
   "toc_cell": false,
   "toc_position": {},
   "toc_section_display": true,
   "toc_window_display": false
  }
 },
 "nbformat": 4,
 "nbformat_minor": 2
}
