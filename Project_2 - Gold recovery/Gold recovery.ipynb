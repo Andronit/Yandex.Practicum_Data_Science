{
 "cells": [
  {
   "cell_type": "markdown",
   "metadata": {
    "toc": true
   },
   "source": [
    "<h1>Содержание<span class=\"tocSkip\"></span></h1>\n",
    "<div class=\"toc\"><ul class=\"toc-item\"><li><span><a href=\"#Подготовка-данных\" data-toc-modified-id=\"Подготовка-данных-1\"><span class=\"toc-item-num\">1&nbsp;&nbsp;</span>Подготовка данных</a></span></li><li><span><a href=\"#Анализ-данных\" data-toc-modified-id=\"Анализ-данных-2\"><span class=\"toc-item-num\">2&nbsp;&nbsp;</span>Анализ данных</a></span></li><li><span><a href=\"#Модель\" data-toc-modified-id=\"Модель-3\"><span class=\"toc-item-num\">3&nbsp;&nbsp;</span>Модель</a></span><ul class=\"toc-item\"><li><span><a href=\"#Вывод:\" data-toc-modified-id=\"Вывод:-3.1\"><span class=\"toc-item-num\">3.1&nbsp;&nbsp;</span>Вывод:</a></span></li></ul></li><li><span><a href=\"#Чек-лист-готовности-проекта\" data-toc-modified-id=\"Чек-лист-готовности-проекта-4\"><span class=\"toc-item-num\">4&nbsp;&nbsp;</span>Чек-лист готовности проекта</a></span></li></ul></div>"
   ]
  },
  {
   "cell_type": "markdown",
   "metadata": {},
   "source": [
    "# Восстановление золота из руды"
   ]
  },
  {
   "cell_type": "markdown",
   "metadata": {},
   "source": [
    "Подготовьте прототип модели машинного обучения для «Цифры». Компания разрабатывает решения для эффективной работы промышленных предприятий.\n",
    "\n",
    "Модель должна предсказать коэффициент восстановления золота из золотосодержащей руды. Используйте данные с параметрами добычи и очистки. \n",
    "\n",
    "Модель поможет оптимизировать производство, чтобы не запускать предприятие с убыточными характеристиками."
   ]
  },
  {
   "cell_type": "markdown",
   "metadata": {},
   "source": [
    "## Подготовка данных"
   ]
  },
  {
   "cell_type": "markdown",
   "metadata": {},
   "source": [
    "Загрузим необходимые библиотеки"
   ]
  },
  {
   "cell_type": "code",
   "execution_count": 1,
   "metadata": {},
   "outputs": [],
   "source": [
    "import pandas as pd\n",
    "import seaborn as sns\n",
    "import numpy as np\n",
    "import matplotlib.pyplot as plt\n",
    "import warnings\n",
    "warnings.filterwarnings('ignore')\n",
    "\n",
    "from sklearn.metrics import mean_absolute_error, make_scorer\n",
    "from sklearn.preprocessing import StandardScaler\n",
    "from matplotlib import pyplot as plt\n",
    "from sklearn.tree import DecisionTreeRegressor\n",
    "from sklearn.model_selection import GridSearchCV, cross_val_score\n",
    "from sklearn.ensemble import RandomForestRegressor\n",
    "from sklearn.linear_model import LinearRegression\n",
    "from sklearn.dummy import DummyRegressor\n",
    "\n",
    "pd.set_option('display.max_columns', None) # сбросим ограничение на количество выводимых столбцов, что бы просмотреть все столбцы"
   ]
  },
  {
   "cell_type": "markdown",
   "metadata": {},
   "source": [
    "Откроем датасеты"
   ]
  },
  {
   "cell_type": "code",
   "execution_count": 2,
   "metadata": {},
   "outputs": [],
   "source": [
    "try:\n",
    "    train = pd.read_csv('/datasets/gold_recovery_train_new.csv')\n",
    "    test = pd.read_csv('/datasets/gold_recovery_test_new.csv')\n",
    "    full = pd.read_csv('/datasets/gold_recovery_full_new.csv')\n",
    "except:\n",
    "    train = pd.read_csv('gold_recovery_train_new.csv')\n",
    "    test = pd.read_csv('gold_recovery_test_new.csv')\n",
    "    full = pd.read_csv('gold_recovery_full_new.csv')"
   ]
  },
  {
   "cell_type": "markdown",
   "metadata": {},
   "source": [
    "Выведем информацию по датасетам"
   ]
  },
  {
   "cell_type": "code",
   "execution_count": 3,
   "metadata": {
    "scrolled": false
   },
   "outputs": [
    {
     "name": "stdout",
     "output_type": "stream",
     "text": [
      "<class 'pandas.core.frame.DataFrame'>\n",
      "RangeIndex: 14149 entries, 0 to 14148\n",
      "Data columns (total 87 columns):\n",
      " #   Column                                              Non-Null Count  Dtype  \n",
      "---  ------                                              --------------  -----  \n",
      " 0   date                                                14149 non-null  object \n",
      " 1   final.output.concentrate_ag                         14148 non-null  float64\n",
      " 2   final.output.concentrate_pb                         14148 non-null  float64\n",
      " 3   final.output.concentrate_sol                        13938 non-null  float64\n",
      " 4   final.output.concentrate_au                         14149 non-null  float64\n",
      " 5   final.output.recovery                               14149 non-null  float64\n",
      " 6   final.output.tail_ag                                14149 non-null  float64\n",
      " 7   final.output.tail_pb                                14049 non-null  float64\n",
      " 8   final.output.tail_sol                               14144 non-null  float64\n",
      " 9   final.output.tail_au                                14149 non-null  float64\n",
      " 10  primary_cleaner.input.sulfate                       14129 non-null  float64\n",
      " 11  primary_cleaner.input.depressant                    14117 non-null  float64\n",
      " 12  primary_cleaner.input.feed_size                     14149 non-null  float64\n",
      " 13  primary_cleaner.input.xanthate                      14049 non-null  float64\n",
      " 14  primary_cleaner.output.concentrate_ag               14149 non-null  float64\n",
      " 15  primary_cleaner.output.concentrate_pb               14063 non-null  float64\n",
      " 16  primary_cleaner.output.concentrate_sol              13863 non-null  float64\n",
      " 17  primary_cleaner.output.concentrate_au               14149 non-null  float64\n",
      " 18  primary_cleaner.output.tail_ag                      14148 non-null  float64\n",
      " 19  primary_cleaner.output.tail_pb                      14134 non-null  float64\n",
      " 20  primary_cleaner.output.tail_sol                     14103 non-null  float64\n",
      " 21  primary_cleaner.output.tail_au                      14149 non-null  float64\n",
      " 22  primary_cleaner.state.floatbank8_a_air              14145 non-null  float64\n",
      " 23  primary_cleaner.state.floatbank8_a_level            14148 non-null  float64\n",
      " 24  primary_cleaner.state.floatbank8_b_air              14145 non-null  float64\n",
      " 25  primary_cleaner.state.floatbank8_b_level            14148 non-null  float64\n",
      " 26  primary_cleaner.state.floatbank8_c_air              14147 non-null  float64\n",
      " 27  primary_cleaner.state.floatbank8_c_level            14148 non-null  float64\n",
      " 28  primary_cleaner.state.floatbank8_d_air              14146 non-null  float64\n",
      " 29  primary_cleaner.state.floatbank8_d_level            14148 non-null  float64\n",
      " 30  rougher.calculation.sulfate_to_au_concentrate       14148 non-null  float64\n",
      " 31  rougher.calculation.floatbank10_sulfate_to_au_feed  14148 non-null  float64\n",
      " 32  rougher.calculation.floatbank11_sulfate_to_au_feed  14148 non-null  float64\n",
      " 33  rougher.calculation.au_pb_ratio                     14149 non-null  float64\n",
      " 34  rougher.input.feed_ag                               14149 non-null  float64\n",
      " 35  rougher.input.feed_pb                               14049 non-null  float64\n",
      " 36  rougher.input.feed_rate                             14141 non-null  float64\n",
      " 37  rougher.input.feed_size                             14005 non-null  float64\n",
      " 38  rougher.input.feed_sol                              14071 non-null  float64\n",
      " 39  rougher.input.feed_au                               14149 non-null  float64\n",
      " 40  rougher.input.floatbank10_sulfate                   14120 non-null  float64\n",
      " 41  rougher.input.floatbank10_xanthate                  14141 non-null  float64\n",
      " 42  rougher.input.floatbank11_sulfate                   14113 non-null  float64\n",
      " 43  rougher.input.floatbank11_xanthate                  13721 non-null  float64\n",
      " 44  rougher.output.concentrate_ag                       14149 non-null  float64\n",
      " 45  rougher.output.concentrate_pb                       14149 non-null  float64\n",
      " 46  rougher.output.concentrate_sol                      14127 non-null  float64\n",
      " 47  rougher.output.concentrate_au                       14149 non-null  float64\n",
      " 48  rougher.output.recovery                             14149 non-null  float64\n",
      " 49  rougher.output.tail_ag                              14148 non-null  float64\n",
      " 50  rougher.output.tail_pb                              14149 non-null  float64\n",
      " 51  rougher.output.tail_sol                             14149 non-null  float64\n",
      " 52  rougher.output.tail_au                              14149 non-null  float64\n",
      " 53  rougher.state.floatbank10_a_air                     14148 non-null  float64\n",
      " 54  rougher.state.floatbank10_a_level                   14148 non-null  float64\n",
      " 55  rougher.state.floatbank10_b_air                     14148 non-null  float64\n",
      " 56  rougher.state.floatbank10_b_level                   14148 non-null  float64\n",
      " 57  rougher.state.floatbank10_c_air                     14148 non-null  float64\n",
      " 58  rougher.state.floatbank10_c_level                   14148 non-null  float64\n",
      " 59  rougher.state.floatbank10_d_air                     14149 non-null  float64\n",
      " 60  rougher.state.floatbank10_d_level                   14149 non-null  float64\n",
      " 61  rougher.state.floatbank10_e_air                     13713 non-null  float64\n",
      " 62  rougher.state.floatbank10_e_level                   14149 non-null  float64\n",
      " 63  rougher.state.floatbank10_f_air                     14149 non-null  float64\n",
      " 64  rougher.state.floatbank10_f_level                   14149 non-null  float64\n",
      " 65  secondary_cleaner.output.tail_ag                    14147 non-null  float64\n",
      " 66  secondary_cleaner.output.tail_pb                    14139 non-null  float64\n",
      " 67  secondary_cleaner.output.tail_sol                   12544 non-null  float64\n",
      " 68  secondary_cleaner.output.tail_au                    14149 non-null  float64\n",
      " 69  secondary_cleaner.state.floatbank2_a_air            13932 non-null  float64\n",
      " 70  secondary_cleaner.state.floatbank2_a_level          14148 non-null  float64\n",
      " 71  secondary_cleaner.state.floatbank2_b_air            14128 non-null  float64\n",
      " 72  secondary_cleaner.state.floatbank2_b_level          14148 non-null  float64\n",
      " 73  secondary_cleaner.state.floatbank3_a_air            14145 non-null  float64\n",
      " 74  secondary_cleaner.state.floatbank3_a_level          14148 non-null  float64\n",
      " 75  secondary_cleaner.state.floatbank3_b_air            14148 non-null  float64\n",
      " 76  secondary_cleaner.state.floatbank3_b_level          14148 non-null  float64\n",
      " 77  secondary_cleaner.state.floatbank4_a_air            14143 non-null  float64\n",
      " 78  secondary_cleaner.state.floatbank4_a_level          14148 non-null  float64\n",
      " 79  secondary_cleaner.state.floatbank4_b_air            14148 non-null  float64\n",
      " 80  secondary_cleaner.state.floatbank4_b_level          14148 non-null  float64\n",
      " 81  secondary_cleaner.state.floatbank5_a_air            14148 non-null  float64\n",
      " 82  secondary_cleaner.state.floatbank5_a_level          14148 non-null  float64\n",
      " 83  secondary_cleaner.state.floatbank5_b_air            14148 non-null  float64\n",
      " 84  secondary_cleaner.state.floatbank5_b_level          14148 non-null  float64\n",
      " 85  secondary_cleaner.state.floatbank6_a_air            14147 non-null  float64\n",
      " 86  secondary_cleaner.state.floatbank6_a_level          14148 non-null  float64\n",
      "dtypes: float64(86), object(1)\n",
      "memory usage: 9.4+ MB\n"
     ]
    }
   ],
   "source": [
    "train.info()"
   ]
  },
  {
   "cell_type": "code",
   "execution_count": 4,
   "metadata": {
    "scrolled": true
   },
   "outputs": [
    {
     "name": "stdout",
     "output_type": "stream",
     "text": [
      "<class 'pandas.core.frame.DataFrame'>\n",
      "RangeIndex: 5290 entries, 0 to 5289\n",
      "Data columns (total 53 columns):\n",
      " #   Column                                      Non-Null Count  Dtype  \n",
      "---  ------                                      --------------  -----  \n",
      " 0   date                                        5290 non-null   object \n",
      " 1   primary_cleaner.input.sulfate               5286 non-null   float64\n",
      " 2   primary_cleaner.input.depressant            5285 non-null   float64\n",
      " 3   primary_cleaner.input.feed_size             5290 non-null   float64\n",
      " 4   primary_cleaner.input.xanthate              5286 non-null   float64\n",
      " 5   primary_cleaner.state.floatbank8_a_air      5290 non-null   float64\n",
      " 6   primary_cleaner.state.floatbank8_a_level    5290 non-null   float64\n",
      " 7   primary_cleaner.state.floatbank8_b_air      5290 non-null   float64\n",
      " 8   primary_cleaner.state.floatbank8_b_level    5290 non-null   float64\n",
      " 9   primary_cleaner.state.floatbank8_c_air      5290 non-null   float64\n",
      " 10  primary_cleaner.state.floatbank8_c_level    5290 non-null   float64\n",
      " 11  primary_cleaner.state.floatbank8_d_air      5290 non-null   float64\n",
      " 12  primary_cleaner.state.floatbank8_d_level    5290 non-null   float64\n",
      " 13  rougher.input.feed_ag                       5290 non-null   float64\n",
      " 14  rougher.input.feed_pb                       5290 non-null   float64\n",
      " 15  rougher.input.feed_rate                     5287 non-null   float64\n",
      " 16  rougher.input.feed_size                     5289 non-null   float64\n",
      " 17  rougher.input.feed_sol                      5269 non-null   float64\n",
      " 18  rougher.input.feed_au                       5290 non-null   float64\n",
      " 19  rougher.input.floatbank10_sulfate           5285 non-null   float64\n",
      " 20  rougher.input.floatbank10_xanthate          5290 non-null   float64\n",
      " 21  rougher.input.floatbank11_sulfate           5282 non-null   float64\n",
      " 22  rougher.input.floatbank11_xanthate          5265 non-null   float64\n",
      " 23  rougher.state.floatbank10_a_air             5290 non-null   float64\n",
      " 24  rougher.state.floatbank10_a_level           5290 non-null   float64\n",
      " 25  rougher.state.floatbank10_b_air             5290 non-null   float64\n",
      " 26  rougher.state.floatbank10_b_level           5290 non-null   float64\n",
      " 27  rougher.state.floatbank10_c_air             5290 non-null   float64\n",
      " 28  rougher.state.floatbank10_c_level           5290 non-null   float64\n",
      " 29  rougher.state.floatbank10_d_air             5290 non-null   float64\n",
      " 30  rougher.state.floatbank10_d_level           5290 non-null   float64\n",
      " 31  rougher.state.floatbank10_e_air             5290 non-null   float64\n",
      " 32  rougher.state.floatbank10_e_level           5290 non-null   float64\n",
      " 33  rougher.state.floatbank10_f_air             5290 non-null   float64\n",
      " 34  rougher.state.floatbank10_f_level           5290 non-null   float64\n",
      " 35  secondary_cleaner.state.floatbank2_a_air    5287 non-null   float64\n",
      " 36  secondary_cleaner.state.floatbank2_a_level  5290 non-null   float64\n",
      " 37  secondary_cleaner.state.floatbank2_b_air    5288 non-null   float64\n",
      " 38  secondary_cleaner.state.floatbank2_b_level  5290 non-null   float64\n",
      " 39  secondary_cleaner.state.floatbank3_a_air    5281 non-null   float64\n",
      " 40  secondary_cleaner.state.floatbank3_a_level  5290 non-null   float64\n",
      " 41  secondary_cleaner.state.floatbank3_b_air    5290 non-null   float64\n",
      " 42  secondary_cleaner.state.floatbank3_b_level  5290 non-null   float64\n",
      " 43  secondary_cleaner.state.floatbank4_a_air    5290 non-null   float64\n",
      " 44  secondary_cleaner.state.floatbank4_a_level  5290 non-null   float64\n",
      " 45  secondary_cleaner.state.floatbank4_b_air    5290 non-null   float64\n",
      " 46  secondary_cleaner.state.floatbank4_b_level  5290 non-null   float64\n",
      " 47  secondary_cleaner.state.floatbank5_a_air    5290 non-null   float64\n",
      " 48  secondary_cleaner.state.floatbank5_a_level  5290 non-null   float64\n",
      " 49  secondary_cleaner.state.floatbank5_b_air    5290 non-null   float64\n",
      " 50  secondary_cleaner.state.floatbank5_b_level  5290 non-null   float64\n",
      " 51  secondary_cleaner.state.floatbank6_a_air    5290 non-null   float64\n",
      " 52  secondary_cleaner.state.floatbank6_a_level  5290 non-null   float64\n",
      "dtypes: float64(52), object(1)\n",
      "memory usage: 2.1+ MB\n"
     ]
    }
   ],
   "source": [
    "test.info()"
   ]
  },
  {
   "cell_type": "code",
   "execution_count": 5,
   "metadata": {},
   "outputs": [
    {
     "name": "stdout",
     "output_type": "stream",
     "text": [
      "<class 'pandas.core.frame.DataFrame'>\n",
      "RangeIndex: 19439 entries, 0 to 19438\n",
      "Data columns (total 87 columns):\n",
      " #   Column                                              Non-Null Count  Dtype  \n",
      "---  ------                                              --------------  -----  \n",
      " 0   date                                                19439 non-null  object \n",
      " 1   final.output.concentrate_ag                         19438 non-null  float64\n",
      " 2   final.output.concentrate_pb                         19438 non-null  float64\n",
      " 3   final.output.concentrate_sol                        19228 non-null  float64\n",
      " 4   final.output.concentrate_au                         19439 non-null  float64\n",
      " 5   final.output.recovery                               19439 non-null  float64\n",
      " 6   final.output.tail_ag                                19438 non-null  float64\n",
      " 7   final.output.tail_pb                                19338 non-null  float64\n",
      " 8   final.output.tail_sol                               19433 non-null  float64\n",
      " 9   final.output.tail_au                                19439 non-null  float64\n",
      " 10  primary_cleaner.input.sulfate                       19415 non-null  float64\n",
      " 11  primary_cleaner.input.depressant                    19402 non-null  float64\n",
      " 12  primary_cleaner.input.feed_size                     19439 non-null  float64\n",
      " 13  primary_cleaner.input.xanthate                      19335 non-null  float64\n",
      " 14  primary_cleaner.output.concentrate_ag               19439 non-null  float64\n",
      " 15  primary_cleaner.output.concentrate_pb               19323 non-null  float64\n",
      " 16  primary_cleaner.output.concentrate_sol              19069 non-null  float64\n",
      " 17  primary_cleaner.output.concentrate_au               19439 non-null  float64\n",
      " 18  primary_cleaner.output.tail_ag                      19435 non-null  float64\n",
      " 19  primary_cleaner.output.tail_pb                      19418 non-null  float64\n",
      " 20  primary_cleaner.output.tail_sol                     19377 non-null  float64\n",
      " 21  primary_cleaner.output.tail_au                      19439 non-null  float64\n",
      " 22  primary_cleaner.state.floatbank8_a_air              19435 non-null  float64\n",
      " 23  primary_cleaner.state.floatbank8_a_level            19438 non-null  float64\n",
      " 24  primary_cleaner.state.floatbank8_b_air              19435 non-null  float64\n",
      " 25  primary_cleaner.state.floatbank8_b_level            19438 non-null  float64\n",
      " 26  primary_cleaner.state.floatbank8_c_air              19437 non-null  float64\n",
      " 27  primary_cleaner.state.floatbank8_c_level            19438 non-null  float64\n",
      " 28  primary_cleaner.state.floatbank8_d_air              19436 non-null  float64\n",
      " 29  primary_cleaner.state.floatbank8_d_level            19438 non-null  float64\n",
      " 30  rougher.calculation.sulfate_to_au_concentrate       19437 non-null  float64\n",
      " 31  rougher.calculation.floatbank10_sulfate_to_au_feed  19437 non-null  float64\n",
      " 32  rougher.calculation.floatbank11_sulfate_to_au_feed  19437 non-null  float64\n",
      " 33  rougher.calculation.au_pb_ratio                     19439 non-null  float64\n",
      " 34  rougher.input.feed_ag                               19439 non-null  float64\n",
      " 35  rougher.input.feed_pb                               19339 non-null  float64\n",
      " 36  rougher.input.feed_rate                             19428 non-null  float64\n",
      " 37  rougher.input.feed_size                             19294 non-null  float64\n",
      " 38  rougher.input.feed_sol                              19340 non-null  float64\n",
      " 39  rougher.input.feed_au                               19439 non-null  float64\n",
      " 40  rougher.input.floatbank10_sulfate                   19405 non-null  float64\n",
      " 41  rougher.input.floatbank10_xanthate                  19431 non-null  float64\n",
      " 42  rougher.input.floatbank11_sulfate                   19395 non-null  float64\n",
      " 43  rougher.input.floatbank11_xanthate                  18986 non-null  float64\n",
      " 44  rougher.output.concentrate_ag                       19439 non-null  float64\n",
      " 45  rougher.output.concentrate_pb                       19439 non-null  float64\n",
      " 46  rougher.output.concentrate_sol                      19416 non-null  float64\n",
      " 47  rougher.output.concentrate_au                       19439 non-null  float64\n",
      " 48  rougher.output.recovery                             19439 non-null  float64\n",
      " 49  rougher.output.tail_ag                              19438 non-null  float64\n",
      " 50  rougher.output.tail_pb                              19439 non-null  float64\n",
      " 51  rougher.output.tail_sol                             19439 non-null  float64\n",
      " 52  rougher.output.tail_au                              19439 non-null  float64\n",
      " 53  rougher.state.floatbank10_a_air                     19438 non-null  float64\n",
      " 54  rougher.state.floatbank10_a_level                   19438 non-null  float64\n",
      " 55  rougher.state.floatbank10_b_air                     19438 non-null  float64\n",
      " 56  rougher.state.floatbank10_b_level                   19438 non-null  float64\n",
      " 57  rougher.state.floatbank10_c_air                     19438 non-null  float64\n",
      " 58  rougher.state.floatbank10_c_level                   19438 non-null  float64\n",
      " 59  rougher.state.floatbank10_d_air                     19439 non-null  float64\n",
      " 60  rougher.state.floatbank10_d_level                   19439 non-null  float64\n",
      " 61  rougher.state.floatbank10_e_air                     19003 non-null  float64\n",
      " 62  rougher.state.floatbank10_e_level                   19439 non-null  float64\n",
      " 63  rougher.state.floatbank10_f_air                     19439 non-null  float64\n",
      " 64  rougher.state.floatbank10_f_level                   19439 non-null  float64\n",
      " 65  secondary_cleaner.output.tail_ag                    19437 non-null  float64\n",
      " 66  secondary_cleaner.output.tail_pb                    19427 non-null  float64\n",
      " 67  secondary_cleaner.output.tail_sol                   17691 non-null  float64\n",
      " 68  secondary_cleaner.output.tail_au                    19439 non-null  float64\n",
      " 69  secondary_cleaner.state.floatbank2_a_air            19219 non-null  float64\n",
      " 70  secondary_cleaner.state.floatbank2_a_level          19438 non-null  float64\n",
      " 71  secondary_cleaner.state.floatbank2_b_air            19416 non-null  float64\n",
      " 72  secondary_cleaner.state.floatbank2_b_level          19438 non-null  float64\n",
      " 73  secondary_cleaner.state.floatbank3_a_air            19426 non-null  float64\n",
      " 74  secondary_cleaner.state.floatbank3_a_level          19438 non-null  float64\n",
      " 75  secondary_cleaner.state.floatbank3_b_air            19438 non-null  float64\n",
      " 76  secondary_cleaner.state.floatbank3_b_level          19438 non-null  float64\n",
      " 77  secondary_cleaner.state.floatbank4_a_air            19433 non-null  float64\n",
      " 78  secondary_cleaner.state.floatbank4_a_level          19438 non-null  float64\n",
      " 79  secondary_cleaner.state.floatbank4_b_air            19438 non-null  float64\n",
      " 80  secondary_cleaner.state.floatbank4_b_level          19438 non-null  float64\n",
      " 81  secondary_cleaner.state.floatbank5_a_air            19438 non-null  float64\n",
      " 82  secondary_cleaner.state.floatbank5_a_level          19438 non-null  float64\n",
      " 83  secondary_cleaner.state.floatbank5_b_air            19438 non-null  float64\n",
      " 84  secondary_cleaner.state.floatbank5_b_level          19438 non-null  float64\n",
      " 85  secondary_cleaner.state.floatbank6_a_air            19437 non-null  float64\n",
      " 86  secondary_cleaner.state.floatbank6_a_level          19438 non-null  float64\n",
      "dtypes: float64(86), object(1)\n",
      "memory usage: 12.9+ MB\n"
     ]
    }
   ],
   "source": [
    "full.info()"
   ]
  },
  {
   "cell_type": "code",
   "execution_count": 6,
   "metadata": {
    "scrolled": true
   },
   "outputs": [
    {
     "data": {
      "text/html": [
       "<div>\n",
       "<style scoped>\n",
       "    .dataframe tbody tr th:only-of-type {\n",
       "        vertical-align: middle;\n",
       "    }\n",
       "\n",
       "    .dataframe tbody tr th {\n",
       "        vertical-align: top;\n",
       "    }\n",
       "\n",
       "    .dataframe thead th {\n",
       "        text-align: right;\n",
       "    }\n",
       "</style>\n",
       "<table border=\"1\" class=\"dataframe\">\n",
       "  <thead>\n",
       "    <tr style=\"text-align: right;\">\n",
       "      <th></th>\n",
       "      <th>date</th>\n",
       "      <th>final.output.concentrate_ag</th>\n",
       "      <th>final.output.concentrate_pb</th>\n",
       "      <th>final.output.concentrate_sol</th>\n",
       "      <th>final.output.concentrate_au</th>\n",
       "      <th>final.output.recovery</th>\n",
       "      <th>final.output.tail_ag</th>\n",
       "      <th>final.output.tail_pb</th>\n",
       "      <th>final.output.tail_sol</th>\n",
       "      <th>final.output.tail_au</th>\n",
       "      <th>primary_cleaner.input.sulfate</th>\n",
       "      <th>primary_cleaner.input.depressant</th>\n",
       "      <th>primary_cleaner.input.feed_size</th>\n",
       "      <th>primary_cleaner.input.xanthate</th>\n",
       "      <th>primary_cleaner.output.concentrate_ag</th>\n",
       "      <th>primary_cleaner.output.concentrate_pb</th>\n",
       "      <th>primary_cleaner.output.concentrate_sol</th>\n",
       "      <th>primary_cleaner.output.concentrate_au</th>\n",
       "      <th>primary_cleaner.output.tail_ag</th>\n",
       "      <th>primary_cleaner.output.tail_pb</th>\n",
       "      <th>primary_cleaner.output.tail_sol</th>\n",
       "      <th>primary_cleaner.output.tail_au</th>\n",
       "      <th>primary_cleaner.state.floatbank8_a_air</th>\n",
       "      <th>primary_cleaner.state.floatbank8_a_level</th>\n",
       "      <th>primary_cleaner.state.floatbank8_b_air</th>\n",
       "      <th>primary_cleaner.state.floatbank8_b_level</th>\n",
       "      <th>primary_cleaner.state.floatbank8_c_air</th>\n",
       "      <th>primary_cleaner.state.floatbank8_c_level</th>\n",
       "      <th>primary_cleaner.state.floatbank8_d_air</th>\n",
       "      <th>primary_cleaner.state.floatbank8_d_level</th>\n",
       "      <th>rougher.calculation.sulfate_to_au_concentrate</th>\n",
       "      <th>rougher.calculation.floatbank10_sulfate_to_au_feed</th>\n",
       "      <th>rougher.calculation.floatbank11_sulfate_to_au_feed</th>\n",
       "      <th>rougher.calculation.au_pb_ratio</th>\n",
       "      <th>rougher.input.feed_ag</th>\n",
       "      <th>rougher.input.feed_pb</th>\n",
       "      <th>rougher.input.feed_rate</th>\n",
       "      <th>rougher.input.feed_size</th>\n",
       "      <th>rougher.input.feed_sol</th>\n",
       "      <th>rougher.input.feed_au</th>\n",
       "      <th>rougher.input.floatbank10_sulfate</th>\n",
       "      <th>rougher.input.floatbank10_xanthate</th>\n",
       "      <th>rougher.input.floatbank11_sulfate</th>\n",
       "      <th>rougher.input.floatbank11_xanthate</th>\n",
       "      <th>rougher.output.concentrate_ag</th>\n",
       "      <th>rougher.output.concentrate_pb</th>\n",
       "      <th>rougher.output.concentrate_sol</th>\n",
       "      <th>rougher.output.concentrate_au</th>\n",
       "      <th>rougher.output.recovery</th>\n",
       "      <th>rougher.output.tail_ag</th>\n",
       "      <th>rougher.output.tail_pb</th>\n",
       "      <th>rougher.output.tail_sol</th>\n",
       "      <th>rougher.output.tail_au</th>\n",
       "      <th>rougher.state.floatbank10_a_air</th>\n",
       "      <th>rougher.state.floatbank10_a_level</th>\n",
       "      <th>rougher.state.floatbank10_b_air</th>\n",
       "      <th>rougher.state.floatbank10_b_level</th>\n",
       "      <th>rougher.state.floatbank10_c_air</th>\n",
       "      <th>rougher.state.floatbank10_c_level</th>\n",
       "      <th>rougher.state.floatbank10_d_air</th>\n",
       "      <th>rougher.state.floatbank10_d_level</th>\n",
       "      <th>rougher.state.floatbank10_e_air</th>\n",
       "      <th>rougher.state.floatbank10_e_level</th>\n",
       "      <th>rougher.state.floatbank10_f_air</th>\n",
       "      <th>rougher.state.floatbank10_f_level</th>\n",
       "      <th>secondary_cleaner.output.tail_ag</th>\n",
       "      <th>secondary_cleaner.output.tail_pb</th>\n",
       "      <th>secondary_cleaner.output.tail_sol</th>\n",
       "      <th>secondary_cleaner.output.tail_au</th>\n",
       "      <th>secondary_cleaner.state.floatbank2_a_air</th>\n",
       "      <th>secondary_cleaner.state.floatbank2_a_level</th>\n",
       "      <th>secondary_cleaner.state.floatbank2_b_air</th>\n",
       "      <th>secondary_cleaner.state.floatbank2_b_level</th>\n",
       "      <th>secondary_cleaner.state.floatbank3_a_air</th>\n",
       "      <th>secondary_cleaner.state.floatbank3_a_level</th>\n",
       "      <th>secondary_cleaner.state.floatbank3_b_air</th>\n",
       "      <th>secondary_cleaner.state.floatbank3_b_level</th>\n",
       "      <th>secondary_cleaner.state.floatbank4_a_air</th>\n",
       "      <th>secondary_cleaner.state.floatbank4_a_level</th>\n",
       "      <th>secondary_cleaner.state.floatbank4_b_air</th>\n",
       "      <th>secondary_cleaner.state.floatbank4_b_level</th>\n",
       "      <th>secondary_cleaner.state.floatbank5_a_air</th>\n",
       "      <th>secondary_cleaner.state.floatbank5_a_level</th>\n",
       "      <th>secondary_cleaner.state.floatbank5_b_air</th>\n",
       "      <th>secondary_cleaner.state.floatbank5_b_level</th>\n",
       "      <th>secondary_cleaner.state.floatbank6_a_air</th>\n",
       "      <th>secondary_cleaner.state.floatbank6_a_level</th>\n",
       "    </tr>\n",
       "  </thead>\n",
       "  <tbody>\n",
       "    <tr>\n",
       "      <th>0</th>\n",
       "      <td>2016-01-15 00:00:00</td>\n",
       "      <td>6.055403</td>\n",
       "      <td>9.889648</td>\n",
       "      <td>5.507324</td>\n",
       "      <td>42.192020</td>\n",
       "      <td>70.541216</td>\n",
       "      <td>10.411962</td>\n",
       "      <td>0.895447</td>\n",
       "      <td>16.904297</td>\n",
       "      <td>2.143149</td>\n",
       "      <td>127.092003</td>\n",
       "      <td>10.128295</td>\n",
       "      <td>7.25</td>\n",
       "      <td>0.988759</td>\n",
       "      <td>8.547551</td>\n",
       "      <td>10.389648</td>\n",
       "      <td>19.529297</td>\n",
       "      <td>34.174427</td>\n",
       "      <td>14.936526</td>\n",
       "      <td>2.534912</td>\n",
       "      <td>7.476074</td>\n",
       "      <td>2.106679</td>\n",
       "      <td>1549.775757</td>\n",
       "      <td>-498.912140</td>\n",
       "      <td>1551.434204</td>\n",
       "      <td>-516.403442</td>\n",
       "      <td>1549.873901</td>\n",
       "      <td>-498.666595</td>\n",
       "      <td>1554.367432</td>\n",
       "      <td>-493.428131</td>\n",
       "      <td>41885.707031</td>\n",
       "      <td>3481.779053</td>\n",
       "      <td>3520.337158</td>\n",
       "      <td>2.838687</td>\n",
       "      <td>6.100378</td>\n",
       "      <td>2.284912</td>\n",
       "      <td>523.546326</td>\n",
       "      <td>55.486599</td>\n",
       "      <td>36.808594</td>\n",
       "      <td>6.486150</td>\n",
       "      <td>11.986616</td>\n",
       "      <td>6.007990</td>\n",
       "      <td>11.836743</td>\n",
       "      <td>6.005818</td>\n",
       "      <td>11.500771</td>\n",
       "      <td>7.101074</td>\n",
       "      <td>28.029297</td>\n",
       "      <td>19.793808</td>\n",
       "      <td>87.107763</td>\n",
       "      <td>5.008018</td>\n",
       "      <td>0.508728</td>\n",
       "      <td>19.154297</td>\n",
       "      <td>1.170244</td>\n",
       "      <td>999.706909</td>\n",
       "      <td>-404.066986</td>\n",
       "      <td>1603.011353</td>\n",
       "      <td>-434.715027</td>\n",
       "      <td>1602.375000</td>\n",
       "      <td>-442.204468</td>\n",
       "      <td>1598.937256</td>\n",
       "      <td>-451.294128</td>\n",
       "      <td>1404.472046</td>\n",
       "      <td>-455.462982</td>\n",
       "      <td>1416.354980</td>\n",
       "      <td>-451.939636</td>\n",
       "      <td>14.500184</td>\n",
       "      <td>4.694824</td>\n",
       "      <td>8.764648</td>\n",
       "      <td>2.606185</td>\n",
       "      <td>25.853109</td>\n",
       "      <td>-498.526489</td>\n",
       "      <td>23.893660</td>\n",
       "      <td>-501.406281</td>\n",
       "      <td>23.961798</td>\n",
       "      <td>-495.262817</td>\n",
       "      <td>21.940409</td>\n",
       "      <td>-499.340973</td>\n",
       "      <td>14.016835</td>\n",
       "      <td>-502.488007</td>\n",
       "      <td>12.099931</td>\n",
       "      <td>-504.715942</td>\n",
       "      <td>9.925633</td>\n",
       "      <td>-498.310211</td>\n",
       "      <td>8.079666</td>\n",
       "      <td>-500.470978</td>\n",
       "      <td>14.151341</td>\n",
       "      <td>-605.841980</td>\n",
       "    </tr>\n",
       "    <tr>\n",
       "      <th>1</th>\n",
       "      <td>2016-01-15 01:00:00</td>\n",
       "      <td>6.029369</td>\n",
       "      <td>9.968944</td>\n",
       "      <td>5.257781</td>\n",
       "      <td>42.701629</td>\n",
       "      <td>69.266198</td>\n",
       "      <td>10.462676</td>\n",
       "      <td>0.927452</td>\n",
       "      <td>16.634514</td>\n",
       "      <td>2.224930</td>\n",
       "      <td>125.629232</td>\n",
       "      <td>10.296251</td>\n",
       "      <td>7.25</td>\n",
       "      <td>1.002663</td>\n",
       "      <td>8.558743</td>\n",
       "      <td>10.497069</td>\n",
       "      <td>19.369147</td>\n",
       "      <td>34.118526</td>\n",
       "      <td>16.250511</td>\n",
       "      <td>3.049646</td>\n",
       "      <td>6.733907</td>\n",
       "      <td>2.353017</td>\n",
       "      <td>1576.166671</td>\n",
       "      <td>-500.904965</td>\n",
       "      <td>1575.950626</td>\n",
       "      <td>-499.865889</td>\n",
       "      <td>1575.994189</td>\n",
       "      <td>-499.315107</td>\n",
       "      <td>1574.479259</td>\n",
       "      <td>-498.931665</td>\n",
       "      <td>42050.861809</td>\n",
       "      <td>3498.370979</td>\n",
       "      <td>3489.981857</td>\n",
       "      <td>2.858998</td>\n",
       "      <td>6.161113</td>\n",
       "      <td>2.266033</td>\n",
       "      <td>525.290581</td>\n",
       "      <td>57.278666</td>\n",
       "      <td>35.753385</td>\n",
       "      <td>6.478583</td>\n",
       "      <td>11.971193</td>\n",
       "      <td>6.005766</td>\n",
       "      <td>11.996163</td>\n",
       "      <td>6.012594</td>\n",
       "      <td>11.615865</td>\n",
       "      <td>7.278807</td>\n",
       "      <td>28.067063</td>\n",
       "      <td>20.050975</td>\n",
       "      <td>86.843261</td>\n",
       "      <td>4.955378</td>\n",
       "      <td>0.536689</td>\n",
       "      <td>18.965234</td>\n",
       "      <td>1.184827</td>\n",
       "      <td>1000.286398</td>\n",
       "      <td>-400.065196</td>\n",
       "      <td>1600.754587</td>\n",
       "      <td>-449.953435</td>\n",
       "      <td>1600.479580</td>\n",
       "      <td>-449.830646</td>\n",
       "      <td>1600.527589</td>\n",
       "      <td>-449.953649</td>\n",
       "      <td>1399.227084</td>\n",
       "      <td>-450.869848</td>\n",
       "      <td>1399.719514</td>\n",
       "      <td>-450.119001</td>\n",
       "      <td>14.265474</td>\n",
       "      <td>4.592547</td>\n",
       "      <td>9.001494</td>\n",
       "      <td>2.488248</td>\n",
       "      <td>25.880539</td>\n",
       "      <td>-499.989656</td>\n",
       "      <td>23.889530</td>\n",
       "      <td>-500.372428</td>\n",
       "      <td>23.970550</td>\n",
       "      <td>-500.085473</td>\n",
       "      <td>22.085714</td>\n",
       "      <td>-499.446897</td>\n",
       "      <td>13.992281</td>\n",
       "      <td>-505.503262</td>\n",
       "      <td>11.950531</td>\n",
       "      <td>-501.331529</td>\n",
       "      <td>10.039245</td>\n",
       "      <td>-500.169983</td>\n",
       "      <td>7.984757</td>\n",
       "      <td>-500.582168</td>\n",
       "      <td>13.998353</td>\n",
       "      <td>-599.787184</td>\n",
       "    </tr>\n",
       "    <tr>\n",
       "      <th>2</th>\n",
       "      <td>2016-01-15 02:00:00</td>\n",
       "      <td>6.055926</td>\n",
       "      <td>10.213995</td>\n",
       "      <td>5.383759</td>\n",
       "      <td>42.657501</td>\n",
       "      <td>68.116445</td>\n",
       "      <td>10.507046</td>\n",
       "      <td>0.953716</td>\n",
       "      <td>16.208849</td>\n",
       "      <td>2.257889</td>\n",
       "      <td>123.819808</td>\n",
       "      <td>11.316280</td>\n",
       "      <td>7.25</td>\n",
       "      <td>0.991265</td>\n",
       "      <td>8.603505</td>\n",
       "      <td>10.354494</td>\n",
       "      <td>19.167579</td>\n",
       "      <td>33.969464</td>\n",
       "      <td>16.491823</td>\n",
       "      <td>3.124664</td>\n",
       "      <td>6.471768</td>\n",
       "      <td>2.416800</td>\n",
       "      <td>1601.556163</td>\n",
       "      <td>-499.997791</td>\n",
       "      <td>1600.386685</td>\n",
       "      <td>-500.607762</td>\n",
       "      <td>1602.003542</td>\n",
       "      <td>-500.870069</td>\n",
       "      <td>1599.541515</td>\n",
       "      <td>-499.827444</td>\n",
       "      <td>42018.101184</td>\n",
       "      <td>3495.348910</td>\n",
       "      <td>3502.359819</td>\n",
       "      <td>2.945989</td>\n",
       "      <td>6.116455</td>\n",
       "      <td>2.159622</td>\n",
       "      <td>530.026610</td>\n",
       "      <td>57.510649</td>\n",
       "      <td>35.971630</td>\n",
       "      <td>6.362222</td>\n",
       "      <td>11.920603</td>\n",
       "      <td>6.197377</td>\n",
       "      <td>11.920305</td>\n",
       "      <td>6.204633</td>\n",
       "      <td>11.695753</td>\n",
       "      <td>7.216833</td>\n",
       "      <td>27.454037</td>\n",
       "      <td>19.737170</td>\n",
       "      <td>86.842308</td>\n",
       "      <td>4.843460</td>\n",
       "      <td>0.546416</td>\n",
       "      <td>18.808533</td>\n",
       "      <td>1.162562</td>\n",
       "      <td>999.719565</td>\n",
       "      <td>-400.074028</td>\n",
       "      <td>1599.337330</td>\n",
       "      <td>-450.008530</td>\n",
       "      <td>1599.672797</td>\n",
       "      <td>-449.954491</td>\n",
       "      <td>1599.849325</td>\n",
       "      <td>-449.954185</td>\n",
       "      <td>1399.180945</td>\n",
       "      <td>-449.937588</td>\n",
       "      <td>1400.316682</td>\n",
       "      <td>-450.527147</td>\n",
       "      <td>14.115662</td>\n",
       "      <td>4.624775</td>\n",
       "      <td>8.842896</td>\n",
       "      <td>2.458187</td>\n",
       "      <td>26.005245</td>\n",
       "      <td>-499.929616</td>\n",
       "      <td>23.886657</td>\n",
       "      <td>-499.951928</td>\n",
       "      <td>23.913535</td>\n",
       "      <td>-499.442343</td>\n",
       "      <td>23.957717</td>\n",
       "      <td>-499.901982</td>\n",
       "      <td>14.015015</td>\n",
       "      <td>-502.520901</td>\n",
       "      <td>11.912783</td>\n",
       "      <td>-501.133383</td>\n",
       "      <td>10.070913</td>\n",
       "      <td>-500.129135</td>\n",
       "      <td>8.013877</td>\n",
       "      <td>-500.517572</td>\n",
       "      <td>14.028663</td>\n",
       "      <td>-601.427363</td>\n",
       "    </tr>\n",
       "    <tr>\n",
       "      <th>3</th>\n",
       "      <td>2016-01-15 03:00:00</td>\n",
       "      <td>6.047977</td>\n",
       "      <td>9.977019</td>\n",
       "      <td>4.858634</td>\n",
       "      <td>42.689819</td>\n",
       "      <td>68.347543</td>\n",
       "      <td>10.422762</td>\n",
       "      <td>0.883763</td>\n",
       "      <td>16.532835</td>\n",
       "      <td>2.146849</td>\n",
       "      <td>122.270188</td>\n",
       "      <td>11.322140</td>\n",
       "      <td>7.25</td>\n",
       "      <td>0.996739</td>\n",
       "      <td>7.221879</td>\n",
       "      <td>8.496563</td>\n",
       "      <td>15.978538</td>\n",
       "      <td>28.260743</td>\n",
       "      <td>16.024359</td>\n",
       "      <td>2.960362</td>\n",
       "      <td>6.843791</td>\n",
       "      <td>2.262051</td>\n",
       "      <td>1599.968720</td>\n",
       "      <td>-500.951778</td>\n",
       "      <td>1600.659236</td>\n",
       "      <td>-499.677094</td>\n",
       "      <td>1600.304144</td>\n",
       "      <td>-500.727997</td>\n",
       "      <td>1600.449520</td>\n",
       "      <td>-500.052575</td>\n",
       "      <td>42029.447991</td>\n",
       "      <td>3498.578313</td>\n",
       "      <td>3499.162912</td>\n",
       "      <td>3.002340</td>\n",
       "      <td>6.043309</td>\n",
       "      <td>2.037807</td>\n",
       "      <td>542.590390</td>\n",
       "      <td>57.792734</td>\n",
       "      <td>36.862241</td>\n",
       "      <td>6.118189</td>\n",
       "      <td>11.630094</td>\n",
       "      <td>6.203177</td>\n",
       "      <td>11.692450</td>\n",
       "      <td>6.196578</td>\n",
       "      <td>11.915047</td>\n",
       "      <td>7.175616</td>\n",
       "      <td>27.341277</td>\n",
       "      <td>19.320810</td>\n",
       "      <td>87.226430</td>\n",
       "      <td>4.655288</td>\n",
       "      <td>0.542525</td>\n",
       "      <td>19.330200</td>\n",
       "      <td>1.079755</td>\n",
       "      <td>999.814770</td>\n",
       "      <td>-400.200179</td>\n",
       "      <td>1600.059442</td>\n",
       "      <td>-450.619948</td>\n",
       "      <td>1600.012842</td>\n",
       "      <td>-449.910497</td>\n",
       "      <td>1597.725177</td>\n",
       "      <td>-450.130127</td>\n",
       "      <td>1400.943157</td>\n",
       "      <td>-450.030142</td>\n",
       "      <td>1400.234743</td>\n",
       "      <td>-449.790835</td>\n",
       "      <td>13.732071</td>\n",
       "      <td>4.482453</td>\n",
       "      <td>9.122857</td>\n",
       "      <td>2.322062</td>\n",
       "      <td>25.942508</td>\n",
       "      <td>-499.176749</td>\n",
       "      <td>23.955516</td>\n",
       "      <td>-499.848796</td>\n",
       "      <td>23.966838</td>\n",
       "      <td>-500.008812</td>\n",
       "      <td>23.954443</td>\n",
       "      <td>-499.944710</td>\n",
       "      <td>14.036510</td>\n",
       "      <td>-500.857308</td>\n",
       "      <td>11.999550</td>\n",
       "      <td>-501.193686</td>\n",
       "      <td>9.970366</td>\n",
       "      <td>-499.201640</td>\n",
       "      <td>7.977324</td>\n",
       "      <td>-500.255908</td>\n",
       "      <td>14.005551</td>\n",
       "      <td>-599.996129</td>\n",
       "    </tr>\n",
       "    <tr>\n",
       "      <th>4</th>\n",
       "      <td>2016-01-15 04:00:00</td>\n",
       "      <td>6.148599</td>\n",
       "      <td>10.142511</td>\n",
       "      <td>4.939416</td>\n",
       "      <td>42.774141</td>\n",
       "      <td>66.927016</td>\n",
       "      <td>10.360302</td>\n",
       "      <td>0.792826</td>\n",
       "      <td>16.525686</td>\n",
       "      <td>2.055292</td>\n",
       "      <td>117.988169</td>\n",
       "      <td>11.913613</td>\n",
       "      <td>7.25</td>\n",
       "      <td>1.009869</td>\n",
       "      <td>9.089428</td>\n",
       "      <td>9.986786</td>\n",
       "      <td>19.199864</td>\n",
       "      <td>33.044932</td>\n",
       "      <td>16.480185</td>\n",
       "      <td>3.112100</td>\n",
       "      <td>6.550154</td>\n",
       "      <td>2.277073</td>\n",
       "      <td>1601.339707</td>\n",
       "      <td>-498.975456</td>\n",
       "      <td>1601.437854</td>\n",
       "      <td>-500.323246</td>\n",
       "      <td>1599.581894</td>\n",
       "      <td>-500.888152</td>\n",
       "      <td>1602.649541</td>\n",
       "      <td>-500.593010</td>\n",
       "      <td>42125.354245</td>\n",
       "      <td>3494.800771</td>\n",
       "      <td>3506.679315</td>\n",
       "      <td>3.169615</td>\n",
       "      <td>6.060915</td>\n",
       "      <td>1.786875</td>\n",
       "      <td>540.531893</td>\n",
       "      <td>56.047189</td>\n",
       "      <td>34.347666</td>\n",
       "      <td>5.663707</td>\n",
       "      <td>10.957755</td>\n",
       "      <td>6.198826</td>\n",
       "      <td>10.960521</td>\n",
       "      <td>6.194897</td>\n",
       "      <td>12.411054</td>\n",
       "      <td>7.240205</td>\n",
       "      <td>27.041023</td>\n",
       "      <td>19.216101</td>\n",
       "      <td>86.688794</td>\n",
       "      <td>4.552800</td>\n",
       "      <td>0.515438</td>\n",
       "      <td>19.267422</td>\n",
       "      <td>1.012642</td>\n",
       "      <td>999.678690</td>\n",
       "      <td>-399.752729</td>\n",
       "      <td>1600.208824</td>\n",
       "      <td>-449.599614</td>\n",
       "      <td>1600.357732</td>\n",
       "      <td>-450.034364</td>\n",
       "      <td>1599.759049</td>\n",
       "      <td>-449.909799</td>\n",
       "      <td>1401.560902</td>\n",
       "      <td>-448.877187</td>\n",
       "      <td>1401.160227</td>\n",
       "      <td>-450.407128</td>\n",
       "      <td>14.079996</td>\n",
       "      <td>4.470737</td>\n",
       "      <td>8.871028</td>\n",
       "      <td>2.330448</td>\n",
       "      <td>26.024787</td>\n",
       "      <td>-500.279091</td>\n",
       "      <td>23.955345</td>\n",
       "      <td>-500.593614</td>\n",
       "      <td>23.985703</td>\n",
       "      <td>-500.083811</td>\n",
       "      <td>23.958945</td>\n",
       "      <td>-499.990309</td>\n",
       "      <td>14.027298</td>\n",
       "      <td>-499.838632</td>\n",
       "      <td>11.953070</td>\n",
       "      <td>-501.053894</td>\n",
       "      <td>9.925709</td>\n",
       "      <td>-501.686727</td>\n",
       "      <td>7.894242</td>\n",
       "      <td>-500.356035</td>\n",
       "      <td>13.996647</td>\n",
       "      <td>-601.496691</td>\n",
       "    </tr>\n",
       "  </tbody>\n",
       "</table>\n",
       "</div>"
      ],
      "text/plain": [
       "                  date  final.output.concentrate_ag  \\\n",
       "0  2016-01-15 00:00:00                     6.055403   \n",
       "1  2016-01-15 01:00:00                     6.029369   \n",
       "2  2016-01-15 02:00:00                     6.055926   \n",
       "3  2016-01-15 03:00:00                     6.047977   \n",
       "4  2016-01-15 04:00:00                     6.148599   \n",
       "\n",
       "   final.output.concentrate_pb  final.output.concentrate_sol  \\\n",
       "0                     9.889648                      5.507324   \n",
       "1                     9.968944                      5.257781   \n",
       "2                    10.213995                      5.383759   \n",
       "3                     9.977019                      4.858634   \n",
       "4                    10.142511                      4.939416   \n",
       "\n",
       "   final.output.concentrate_au  final.output.recovery  final.output.tail_ag  \\\n",
       "0                    42.192020              70.541216             10.411962   \n",
       "1                    42.701629              69.266198             10.462676   \n",
       "2                    42.657501              68.116445             10.507046   \n",
       "3                    42.689819              68.347543             10.422762   \n",
       "4                    42.774141              66.927016             10.360302   \n",
       "\n",
       "   final.output.tail_pb  final.output.tail_sol  final.output.tail_au  \\\n",
       "0              0.895447              16.904297              2.143149   \n",
       "1              0.927452              16.634514              2.224930   \n",
       "2              0.953716              16.208849              2.257889   \n",
       "3              0.883763              16.532835              2.146849   \n",
       "4              0.792826              16.525686              2.055292   \n",
       "\n",
       "   primary_cleaner.input.sulfate  primary_cleaner.input.depressant  \\\n",
       "0                     127.092003                         10.128295   \n",
       "1                     125.629232                         10.296251   \n",
       "2                     123.819808                         11.316280   \n",
       "3                     122.270188                         11.322140   \n",
       "4                     117.988169                         11.913613   \n",
       "\n",
       "   primary_cleaner.input.feed_size  primary_cleaner.input.xanthate  \\\n",
       "0                             7.25                        0.988759   \n",
       "1                             7.25                        1.002663   \n",
       "2                             7.25                        0.991265   \n",
       "3                             7.25                        0.996739   \n",
       "4                             7.25                        1.009869   \n",
       "\n",
       "   primary_cleaner.output.concentrate_ag  \\\n",
       "0                               8.547551   \n",
       "1                               8.558743   \n",
       "2                               8.603505   \n",
       "3                               7.221879   \n",
       "4                               9.089428   \n",
       "\n",
       "   primary_cleaner.output.concentrate_pb  \\\n",
       "0                              10.389648   \n",
       "1                              10.497069   \n",
       "2                              10.354494   \n",
       "3                               8.496563   \n",
       "4                               9.986786   \n",
       "\n",
       "   primary_cleaner.output.concentrate_sol  \\\n",
       "0                               19.529297   \n",
       "1                               19.369147   \n",
       "2                               19.167579   \n",
       "3                               15.978538   \n",
       "4                               19.199864   \n",
       "\n",
       "   primary_cleaner.output.concentrate_au  primary_cleaner.output.tail_ag  \\\n",
       "0                              34.174427                       14.936526   \n",
       "1                              34.118526                       16.250511   \n",
       "2                              33.969464                       16.491823   \n",
       "3                              28.260743                       16.024359   \n",
       "4                              33.044932                       16.480185   \n",
       "\n",
       "   primary_cleaner.output.tail_pb  primary_cleaner.output.tail_sol  \\\n",
       "0                        2.534912                         7.476074   \n",
       "1                        3.049646                         6.733907   \n",
       "2                        3.124664                         6.471768   \n",
       "3                        2.960362                         6.843791   \n",
       "4                        3.112100                         6.550154   \n",
       "\n",
       "   primary_cleaner.output.tail_au  primary_cleaner.state.floatbank8_a_air  \\\n",
       "0                        2.106679                             1549.775757   \n",
       "1                        2.353017                             1576.166671   \n",
       "2                        2.416800                             1601.556163   \n",
       "3                        2.262051                             1599.968720   \n",
       "4                        2.277073                             1601.339707   \n",
       "\n",
       "   primary_cleaner.state.floatbank8_a_level  \\\n",
       "0                               -498.912140   \n",
       "1                               -500.904965   \n",
       "2                               -499.997791   \n",
       "3                               -500.951778   \n",
       "4                               -498.975456   \n",
       "\n",
       "   primary_cleaner.state.floatbank8_b_air  \\\n",
       "0                             1551.434204   \n",
       "1                             1575.950626   \n",
       "2                             1600.386685   \n",
       "3                             1600.659236   \n",
       "4                             1601.437854   \n",
       "\n",
       "   primary_cleaner.state.floatbank8_b_level  \\\n",
       "0                               -516.403442   \n",
       "1                               -499.865889   \n",
       "2                               -500.607762   \n",
       "3                               -499.677094   \n",
       "4                               -500.323246   \n",
       "\n",
       "   primary_cleaner.state.floatbank8_c_air  \\\n",
       "0                             1549.873901   \n",
       "1                             1575.994189   \n",
       "2                             1602.003542   \n",
       "3                             1600.304144   \n",
       "4                             1599.581894   \n",
       "\n",
       "   primary_cleaner.state.floatbank8_c_level  \\\n",
       "0                               -498.666595   \n",
       "1                               -499.315107   \n",
       "2                               -500.870069   \n",
       "3                               -500.727997   \n",
       "4                               -500.888152   \n",
       "\n",
       "   primary_cleaner.state.floatbank8_d_air  \\\n",
       "0                             1554.367432   \n",
       "1                             1574.479259   \n",
       "2                             1599.541515   \n",
       "3                             1600.449520   \n",
       "4                             1602.649541   \n",
       "\n",
       "   primary_cleaner.state.floatbank8_d_level  \\\n",
       "0                               -493.428131   \n",
       "1                               -498.931665   \n",
       "2                               -499.827444   \n",
       "3                               -500.052575   \n",
       "4                               -500.593010   \n",
       "\n",
       "   rougher.calculation.sulfate_to_au_concentrate  \\\n",
       "0                                   41885.707031   \n",
       "1                                   42050.861809   \n",
       "2                                   42018.101184   \n",
       "3                                   42029.447991   \n",
       "4                                   42125.354245   \n",
       "\n",
       "   rougher.calculation.floatbank10_sulfate_to_au_feed  \\\n",
       "0                                        3481.779053    \n",
       "1                                        3498.370979    \n",
       "2                                        3495.348910    \n",
       "3                                        3498.578313    \n",
       "4                                        3494.800771    \n",
       "\n",
       "   rougher.calculation.floatbank11_sulfate_to_au_feed  \\\n",
       "0                                        3520.337158    \n",
       "1                                        3489.981857    \n",
       "2                                        3502.359819    \n",
       "3                                        3499.162912    \n",
       "4                                        3506.679315    \n",
       "\n",
       "   rougher.calculation.au_pb_ratio  rougher.input.feed_ag  \\\n",
       "0                         2.838687               6.100378   \n",
       "1                         2.858998               6.161113   \n",
       "2                         2.945989               6.116455   \n",
       "3                         3.002340               6.043309   \n",
       "4                         3.169615               6.060915   \n",
       "\n",
       "   rougher.input.feed_pb  rougher.input.feed_rate  rougher.input.feed_size  \\\n",
       "0               2.284912               523.546326                55.486599   \n",
       "1               2.266033               525.290581                57.278666   \n",
       "2               2.159622               530.026610                57.510649   \n",
       "3               2.037807               542.590390                57.792734   \n",
       "4               1.786875               540.531893                56.047189   \n",
       "\n",
       "   rougher.input.feed_sol  rougher.input.feed_au  \\\n",
       "0               36.808594               6.486150   \n",
       "1               35.753385               6.478583   \n",
       "2               35.971630               6.362222   \n",
       "3               36.862241               6.118189   \n",
       "4               34.347666               5.663707   \n",
       "\n",
       "   rougher.input.floatbank10_sulfate  rougher.input.floatbank10_xanthate  \\\n",
       "0                          11.986616                            6.007990   \n",
       "1                          11.971193                            6.005766   \n",
       "2                          11.920603                            6.197377   \n",
       "3                          11.630094                            6.203177   \n",
       "4                          10.957755                            6.198826   \n",
       "\n",
       "   rougher.input.floatbank11_sulfate  rougher.input.floatbank11_xanthate  \\\n",
       "0                          11.836743                            6.005818   \n",
       "1                          11.996163                            6.012594   \n",
       "2                          11.920305                            6.204633   \n",
       "3                          11.692450                            6.196578   \n",
       "4                          10.960521                            6.194897   \n",
       "\n",
       "   rougher.output.concentrate_ag  rougher.output.concentrate_pb  \\\n",
       "0                      11.500771                       7.101074   \n",
       "1                      11.615865                       7.278807   \n",
       "2                      11.695753                       7.216833   \n",
       "3                      11.915047                       7.175616   \n",
       "4                      12.411054                       7.240205   \n",
       "\n",
       "   rougher.output.concentrate_sol  rougher.output.concentrate_au  \\\n",
       "0                       28.029297                      19.793808   \n",
       "1                       28.067063                      20.050975   \n",
       "2                       27.454037                      19.737170   \n",
       "3                       27.341277                      19.320810   \n",
       "4                       27.041023                      19.216101   \n",
       "\n",
       "   rougher.output.recovery  rougher.output.tail_ag  rougher.output.tail_pb  \\\n",
       "0                87.107763                5.008018                0.508728   \n",
       "1                86.843261                4.955378                0.536689   \n",
       "2                86.842308                4.843460                0.546416   \n",
       "3                87.226430                4.655288                0.542525   \n",
       "4                86.688794                4.552800                0.515438   \n",
       "\n",
       "   rougher.output.tail_sol  rougher.output.tail_au  \\\n",
       "0                19.154297                1.170244   \n",
       "1                18.965234                1.184827   \n",
       "2                18.808533                1.162562   \n",
       "3                19.330200                1.079755   \n",
       "4                19.267422                1.012642   \n",
       "\n",
       "   rougher.state.floatbank10_a_air  rougher.state.floatbank10_a_level  \\\n",
       "0                       999.706909                        -404.066986   \n",
       "1                      1000.286398                        -400.065196   \n",
       "2                       999.719565                        -400.074028   \n",
       "3                       999.814770                        -400.200179   \n",
       "4                       999.678690                        -399.752729   \n",
       "\n",
       "   rougher.state.floatbank10_b_air  rougher.state.floatbank10_b_level  \\\n",
       "0                      1603.011353                        -434.715027   \n",
       "1                      1600.754587                        -449.953435   \n",
       "2                      1599.337330                        -450.008530   \n",
       "3                      1600.059442                        -450.619948   \n",
       "4                      1600.208824                        -449.599614   \n",
       "\n",
       "   rougher.state.floatbank10_c_air  rougher.state.floatbank10_c_level  \\\n",
       "0                      1602.375000                        -442.204468   \n",
       "1                      1600.479580                        -449.830646   \n",
       "2                      1599.672797                        -449.954491   \n",
       "3                      1600.012842                        -449.910497   \n",
       "4                      1600.357732                        -450.034364   \n",
       "\n",
       "   rougher.state.floatbank10_d_air  rougher.state.floatbank10_d_level  \\\n",
       "0                      1598.937256                        -451.294128   \n",
       "1                      1600.527589                        -449.953649   \n",
       "2                      1599.849325                        -449.954185   \n",
       "3                      1597.725177                        -450.130127   \n",
       "4                      1599.759049                        -449.909799   \n",
       "\n",
       "   rougher.state.floatbank10_e_air  rougher.state.floatbank10_e_level  \\\n",
       "0                      1404.472046                        -455.462982   \n",
       "1                      1399.227084                        -450.869848   \n",
       "2                      1399.180945                        -449.937588   \n",
       "3                      1400.943157                        -450.030142   \n",
       "4                      1401.560902                        -448.877187   \n",
       "\n",
       "   rougher.state.floatbank10_f_air  rougher.state.floatbank10_f_level  \\\n",
       "0                      1416.354980                        -451.939636   \n",
       "1                      1399.719514                        -450.119001   \n",
       "2                      1400.316682                        -450.527147   \n",
       "3                      1400.234743                        -449.790835   \n",
       "4                      1401.160227                        -450.407128   \n",
       "\n",
       "   secondary_cleaner.output.tail_ag  secondary_cleaner.output.tail_pb  \\\n",
       "0                         14.500184                          4.694824   \n",
       "1                         14.265474                          4.592547   \n",
       "2                         14.115662                          4.624775   \n",
       "3                         13.732071                          4.482453   \n",
       "4                         14.079996                          4.470737   \n",
       "\n",
       "   secondary_cleaner.output.tail_sol  secondary_cleaner.output.tail_au  \\\n",
       "0                           8.764648                          2.606185   \n",
       "1                           9.001494                          2.488248   \n",
       "2                           8.842896                          2.458187   \n",
       "3                           9.122857                          2.322062   \n",
       "4                           8.871028                          2.330448   \n",
       "\n",
       "   secondary_cleaner.state.floatbank2_a_air  \\\n",
       "0                                 25.853109   \n",
       "1                                 25.880539   \n",
       "2                                 26.005245   \n",
       "3                                 25.942508   \n",
       "4                                 26.024787   \n",
       "\n",
       "   secondary_cleaner.state.floatbank2_a_level  \\\n",
       "0                                 -498.526489   \n",
       "1                                 -499.989656   \n",
       "2                                 -499.929616   \n",
       "3                                 -499.176749   \n",
       "4                                 -500.279091   \n",
       "\n",
       "   secondary_cleaner.state.floatbank2_b_air  \\\n",
       "0                                 23.893660   \n",
       "1                                 23.889530   \n",
       "2                                 23.886657   \n",
       "3                                 23.955516   \n",
       "4                                 23.955345   \n",
       "\n",
       "   secondary_cleaner.state.floatbank2_b_level  \\\n",
       "0                                 -501.406281   \n",
       "1                                 -500.372428   \n",
       "2                                 -499.951928   \n",
       "3                                 -499.848796   \n",
       "4                                 -500.593614   \n",
       "\n",
       "   secondary_cleaner.state.floatbank3_a_air  \\\n",
       "0                                 23.961798   \n",
       "1                                 23.970550   \n",
       "2                                 23.913535   \n",
       "3                                 23.966838   \n",
       "4                                 23.985703   \n",
       "\n",
       "   secondary_cleaner.state.floatbank3_a_level  \\\n",
       "0                                 -495.262817   \n",
       "1                                 -500.085473   \n",
       "2                                 -499.442343   \n",
       "3                                 -500.008812   \n",
       "4                                 -500.083811   \n",
       "\n",
       "   secondary_cleaner.state.floatbank3_b_air  \\\n",
       "0                                 21.940409   \n",
       "1                                 22.085714   \n",
       "2                                 23.957717   \n",
       "3                                 23.954443   \n",
       "4                                 23.958945   \n",
       "\n",
       "   secondary_cleaner.state.floatbank3_b_level  \\\n",
       "0                                 -499.340973   \n",
       "1                                 -499.446897   \n",
       "2                                 -499.901982   \n",
       "3                                 -499.944710   \n",
       "4                                 -499.990309   \n",
       "\n",
       "   secondary_cleaner.state.floatbank4_a_air  \\\n",
       "0                                 14.016835   \n",
       "1                                 13.992281   \n",
       "2                                 14.015015   \n",
       "3                                 14.036510   \n",
       "4                                 14.027298   \n",
       "\n",
       "   secondary_cleaner.state.floatbank4_a_level  \\\n",
       "0                                 -502.488007   \n",
       "1                                 -505.503262   \n",
       "2                                 -502.520901   \n",
       "3                                 -500.857308   \n",
       "4                                 -499.838632   \n",
       "\n",
       "   secondary_cleaner.state.floatbank4_b_air  \\\n",
       "0                                 12.099931   \n",
       "1                                 11.950531   \n",
       "2                                 11.912783   \n",
       "3                                 11.999550   \n",
       "4                                 11.953070   \n",
       "\n",
       "   secondary_cleaner.state.floatbank4_b_level  \\\n",
       "0                                 -504.715942   \n",
       "1                                 -501.331529   \n",
       "2                                 -501.133383   \n",
       "3                                 -501.193686   \n",
       "4                                 -501.053894   \n",
       "\n",
       "   secondary_cleaner.state.floatbank5_a_air  \\\n",
       "0                                  9.925633   \n",
       "1                                 10.039245   \n",
       "2                                 10.070913   \n",
       "3                                  9.970366   \n",
       "4                                  9.925709   \n",
       "\n",
       "   secondary_cleaner.state.floatbank5_a_level  \\\n",
       "0                                 -498.310211   \n",
       "1                                 -500.169983   \n",
       "2                                 -500.129135   \n",
       "3                                 -499.201640   \n",
       "4                                 -501.686727   \n",
       "\n",
       "   secondary_cleaner.state.floatbank5_b_air  \\\n",
       "0                                  8.079666   \n",
       "1                                  7.984757   \n",
       "2                                  8.013877   \n",
       "3                                  7.977324   \n",
       "4                                  7.894242   \n",
       "\n",
       "   secondary_cleaner.state.floatbank5_b_level  \\\n",
       "0                                 -500.470978   \n",
       "1                                 -500.582168   \n",
       "2                                 -500.517572   \n",
       "3                                 -500.255908   \n",
       "4                                 -500.356035   \n",
       "\n",
       "   secondary_cleaner.state.floatbank6_a_air  \\\n",
       "0                                 14.151341   \n",
       "1                                 13.998353   \n",
       "2                                 14.028663   \n",
       "3                                 14.005551   \n",
       "4                                 13.996647   \n",
       "\n",
       "   secondary_cleaner.state.floatbank6_a_level  \n",
       "0                                 -605.841980  \n",
       "1                                 -599.787184  \n",
       "2                                 -601.427363  \n",
       "3                                 -599.996129  \n",
       "4                                 -601.496691  "
      ]
     },
     "metadata": {},
     "output_type": "display_data"
    },
    {
     "data": {
      "text/html": [
       "<div>\n",
       "<style scoped>\n",
       "    .dataframe tbody tr th:only-of-type {\n",
       "        vertical-align: middle;\n",
       "    }\n",
       "\n",
       "    .dataframe tbody tr th {\n",
       "        vertical-align: top;\n",
       "    }\n",
       "\n",
       "    .dataframe thead th {\n",
       "        text-align: right;\n",
       "    }\n",
       "</style>\n",
       "<table border=\"1\" class=\"dataframe\">\n",
       "  <thead>\n",
       "    <tr style=\"text-align: right;\">\n",
       "      <th></th>\n",
       "      <th>date</th>\n",
       "      <th>primary_cleaner.input.sulfate</th>\n",
       "      <th>primary_cleaner.input.depressant</th>\n",
       "      <th>primary_cleaner.input.feed_size</th>\n",
       "      <th>primary_cleaner.input.xanthate</th>\n",
       "      <th>primary_cleaner.state.floatbank8_a_air</th>\n",
       "      <th>primary_cleaner.state.floatbank8_a_level</th>\n",
       "      <th>primary_cleaner.state.floatbank8_b_air</th>\n",
       "      <th>primary_cleaner.state.floatbank8_b_level</th>\n",
       "      <th>primary_cleaner.state.floatbank8_c_air</th>\n",
       "      <th>primary_cleaner.state.floatbank8_c_level</th>\n",
       "      <th>primary_cleaner.state.floatbank8_d_air</th>\n",
       "      <th>primary_cleaner.state.floatbank8_d_level</th>\n",
       "      <th>rougher.input.feed_ag</th>\n",
       "      <th>rougher.input.feed_pb</th>\n",
       "      <th>rougher.input.feed_rate</th>\n",
       "      <th>rougher.input.feed_size</th>\n",
       "      <th>rougher.input.feed_sol</th>\n",
       "      <th>rougher.input.feed_au</th>\n",
       "      <th>rougher.input.floatbank10_sulfate</th>\n",
       "      <th>rougher.input.floatbank10_xanthate</th>\n",
       "      <th>rougher.input.floatbank11_sulfate</th>\n",
       "      <th>rougher.input.floatbank11_xanthate</th>\n",
       "      <th>rougher.state.floatbank10_a_air</th>\n",
       "      <th>rougher.state.floatbank10_a_level</th>\n",
       "      <th>rougher.state.floatbank10_b_air</th>\n",
       "      <th>rougher.state.floatbank10_b_level</th>\n",
       "      <th>rougher.state.floatbank10_c_air</th>\n",
       "      <th>rougher.state.floatbank10_c_level</th>\n",
       "      <th>rougher.state.floatbank10_d_air</th>\n",
       "      <th>rougher.state.floatbank10_d_level</th>\n",
       "      <th>rougher.state.floatbank10_e_air</th>\n",
       "      <th>rougher.state.floatbank10_e_level</th>\n",
       "      <th>rougher.state.floatbank10_f_air</th>\n",
       "      <th>rougher.state.floatbank10_f_level</th>\n",
       "      <th>secondary_cleaner.state.floatbank2_a_air</th>\n",
       "      <th>secondary_cleaner.state.floatbank2_a_level</th>\n",
       "      <th>secondary_cleaner.state.floatbank2_b_air</th>\n",
       "      <th>secondary_cleaner.state.floatbank2_b_level</th>\n",
       "      <th>secondary_cleaner.state.floatbank3_a_air</th>\n",
       "      <th>secondary_cleaner.state.floatbank3_a_level</th>\n",
       "      <th>secondary_cleaner.state.floatbank3_b_air</th>\n",
       "      <th>secondary_cleaner.state.floatbank3_b_level</th>\n",
       "      <th>secondary_cleaner.state.floatbank4_a_air</th>\n",
       "      <th>secondary_cleaner.state.floatbank4_a_level</th>\n",
       "      <th>secondary_cleaner.state.floatbank4_b_air</th>\n",
       "      <th>secondary_cleaner.state.floatbank4_b_level</th>\n",
       "      <th>secondary_cleaner.state.floatbank5_a_air</th>\n",
       "      <th>secondary_cleaner.state.floatbank5_a_level</th>\n",
       "      <th>secondary_cleaner.state.floatbank5_b_air</th>\n",
       "      <th>secondary_cleaner.state.floatbank5_b_level</th>\n",
       "      <th>secondary_cleaner.state.floatbank6_a_air</th>\n",
       "      <th>secondary_cleaner.state.floatbank6_a_level</th>\n",
       "    </tr>\n",
       "  </thead>\n",
       "  <tbody>\n",
       "    <tr>\n",
       "      <th>0</th>\n",
       "      <td>2016-09-01 00:59:59</td>\n",
       "      <td>210.800909</td>\n",
       "      <td>14.993118</td>\n",
       "      <td>8.080000</td>\n",
       "      <td>1.005021</td>\n",
       "      <td>1398.981301</td>\n",
       "      <td>-500.225577</td>\n",
       "      <td>1399.144926</td>\n",
       "      <td>-499.919735</td>\n",
       "      <td>1400.102998</td>\n",
       "      <td>-500.704369</td>\n",
       "      <td>1399.001695</td>\n",
       "      <td>-499.485144</td>\n",
       "      <td>13.128569</td>\n",
       "      <td>5.636710</td>\n",
       "      <td>489.793655</td>\n",
       "      <td>62.710452</td>\n",
       "      <td>42.022440</td>\n",
       "      <td>12.084103</td>\n",
       "      <td>16.922877</td>\n",
       "      <td>6.153479</td>\n",
       "      <td>16.867518</td>\n",
       "      <td>6.150709</td>\n",
       "      <td>1001.849317</td>\n",
       "      <td>-350.301265</td>\n",
       "      <td>1249.738612</td>\n",
       "      <td>-399.107531</td>\n",
       "      <td>1249.750520</td>\n",
       "      <td>-399.396730</td>\n",
       "      <td>1198.287855</td>\n",
       "      <td>-399.488594</td>\n",
       "      <td>999.472250</td>\n",
       "      <td>-399.530962</td>\n",
       "      <td>949.566189</td>\n",
       "      <td>-398.180807</td>\n",
       "      <td>24.938200</td>\n",
       "      <td>-500.490963</td>\n",
       "      <td>14.947607</td>\n",
       "      <td>-500.013837</td>\n",
       "      <td>20.018166</td>\n",
       "      <td>-450.395995</td>\n",
       "      <td>13.987058</td>\n",
       "      <td>-449.831513</td>\n",
       "      <td>12.023554</td>\n",
       "      <td>-497.795834</td>\n",
       "      <td>8.016656</td>\n",
       "      <td>-501.289139</td>\n",
       "      <td>7.946562</td>\n",
       "      <td>-432.317850</td>\n",
       "      <td>4.872511</td>\n",
       "      <td>-500.037437</td>\n",
       "      <td>26.705889</td>\n",
       "      <td>-499.709414</td>\n",
       "    </tr>\n",
       "    <tr>\n",
       "      <th>1</th>\n",
       "      <td>2016-09-01 01:59:59</td>\n",
       "      <td>215.392455</td>\n",
       "      <td>14.987471</td>\n",
       "      <td>8.080000</td>\n",
       "      <td>0.990469</td>\n",
       "      <td>1398.777912</td>\n",
       "      <td>-500.057435</td>\n",
       "      <td>1398.055362</td>\n",
       "      <td>-499.778182</td>\n",
       "      <td>1396.151033</td>\n",
       "      <td>-499.240168</td>\n",
       "      <td>1399.508091</td>\n",
       "      <td>-500.416324</td>\n",
       "      <td>13.036280</td>\n",
       "      <td>5.526065</td>\n",
       "      <td>490.104534</td>\n",
       "      <td>61.961163</td>\n",
       "      <td>41.187903</td>\n",
       "      <td>11.918977</td>\n",
       "      <td>17.002532</td>\n",
       "      <td>5.999043</td>\n",
       "      <td>16.996063</td>\n",
       "      <td>6.002315</td>\n",
       "      <td>998.690785</td>\n",
       "      <td>-350.425704</td>\n",
       "      <td>1248.395457</td>\n",
       "      <td>-399.946025</td>\n",
       "      <td>1249.514451</td>\n",
       "      <td>-399.630810</td>\n",
       "      <td>1200.506459</td>\n",
       "      <td>-399.942434</td>\n",
       "      <td>1000.002114</td>\n",
       "      <td>-399.491528</td>\n",
       "      <td>950.200009</td>\n",
       "      <td>-405.787514</td>\n",
       "      <td>24.923466</td>\n",
       "      <td>-499.813963</td>\n",
       "      <td>14.930873</td>\n",
       "      <td>-500.764452</td>\n",
       "      <td>19.988503</td>\n",
       "      <td>-450.114024</td>\n",
       "      <td>14.092981</td>\n",
       "      <td>-450.059163</td>\n",
       "      <td>12.058140</td>\n",
       "      <td>-498.695773</td>\n",
       "      <td>8.130979</td>\n",
       "      <td>-499.634209</td>\n",
       "      <td>7.958270</td>\n",
       "      <td>-525.839648</td>\n",
       "      <td>4.878850</td>\n",
       "      <td>-500.162375</td>\n",
       "      <td>25.019940</td>\n",
       "      <td>-499.819438</td>\n",
       "    </tr>\n",
       "    <tr>\n",
       "      <th>2</th>\n",
       "      <td>2016-09-01 02:59:59</td>\n",
       "      <td>215.259946</td>\n",
       "      <td>12.884934</td>\n",
       "      <td>7.786667</td>\n",
       "      <td>0.996043</td>\n",
       "      <td>1398.493666</td>\n",
       "      <td>-500.868360</td>\n",
       "      <td>1398.860436</td>\n",
       "      <td>-499.764529</td>\n",
       "      <td>1398.075709</td>\n",
       "      <td>-502.151509</td>\n",
       "      <td>1399.497088</td>\n",
       "      <td>-499.715479</td>\n",
       "      <td>13.138412</td>\n",
       "      <td>5.426561</td>\n",
       "      <td>489.617969</td>\n",
       "      <td>66.903807</td>\n",
       "      <td>42.546294</td>\n",
       "      <td>12.091332</td>\n",
       "      <td>16.992520</td>\n",
       "      <td>5.850632</td>\n",
       "      <td>16.982096</td>\n",
       "      <td>5.853594</td>\n",
       "      <td>998.516720</td>\n",
       "      <td>-349.783538</td>\n",
       "      <td>1247.440748</td>\n",
       "      <td>-400.264330</td>\n",
       "      <td>1248.207204</td>\n",
       "      <td>-401.074405</td>\n",
       "      <td>1199.770026</td>\n",
       "      <td>-400.790582</td>\n",
       "      <td>999.925519</td>\n",
       "      <td>-399.236999</td>\n",
       "      <td>950.320481</td>\n",
       "      <td>-400.864340</td>\n",
       "      <td>24.908732</td>\n",
       "      <td>-500.304035</td>\n",
       "      <td>14.996511</td>\n",
       "      <td>-500.993821</td>\n",
       "      <td>20.039689</td>\n",
       "      <td>-450.263164</td>\n",
       "      <td>14.077881</td>\n",
       "      <td>-449.660997</td>\n",
       "      <td>11.962366</td>\n",
       "      <td>-498.767484</td>\n",
       "      <td>8.096893</td>\n",
       "      <td>-500.827423</td>\n",
       "      <td>8.071056</td>\n",
       "      <td>-500.801673</td>\n",
       "      <td>4.905125</td>\n",
       "      <td>-499.828510</td>\n",
       "      <td>24.994862</td>\n",
       "      <td>-500.622559</td>\n",
       "    </tr>\n",
       "    <tr>\n",
       "      <th>3</th>\n",
       "      <td>2016-09-01 03:59:59</td>\n",
       "      <td>215.336236</td>\n",
       "      <td>12.006805</td>\n",
       "      <td>7.640000</td>\n",
       "      <td>0.863514</td>\n",
       "      <td>1399.618111</td>\n",
       "      <td>-498.863574</td>\n",
       "      <td>1397.440120</td>\n",
       "      <td>-499.211024</td>\n",
       "      <td>1400.129303</td>\n",
       "      <td>-498.355873</td>\n",
       "      <td>1401.065165</td>\n",
       "      <td>-501.038738</td>\n",
       "      <td>12.400507</td>\n",
       "      <td>5.114758</td>\n",
       "      <td>476.618130</td>\n",
       "      <td>59.865919</td>\n",
       "      <td>41.060195</td>\n",
       "      <td>12.181597</td>\n",
       "      <td>16.532144</td>\n",
       "      <td>5.801935</td>\n",
       "      <td>16.515277</td>\n",
       "      <td>5.803657</td>\n",
       "      <td>1000.276604</td>\n",
       "      <td>-350.172597</td>\n",
       "      <td>1251.322675</td>\n",
       "      <td>-398.655289</td>\n",
       "      <td>1250.493702</td>\n",
       "      <td>-399.746728</td>\n",
       "      <td>1199.398691</td>\n",
       "      <td>-397.503052</td>\n",
       "      <td>1001.930679</td>\n",
       "      <td>-400.437573</td>\n",
       "      <td>950.735324</td>\n",
       "      <td>-399.802986</td>\n",
       "      <td>24.893998</td>\n",
       "      <td>-499.382374</td>\n",
       "      <td>14.916674</td>\n",
       "      <td>-499.862299</td>\n",
       "      <td>20.031100</td>\n",
       "      <td>-449.372570</td>\n",
       "      <td>14.013968</td>\n",
       "      <td>-449.526900</td>\n",
       "      <td>12.033091</td>\n",
       "      <td>-498.350935</td>\n",
       "      <td>8.074946</td>\n",
       "      <td>-499.474407</td>\n",
       "      <td>7.897085</td>\n",
       "      <td>-500.868509</td>\n",
       "      <td>4.931400</td>\n",
       "      <td>-499.963623</td>\n",
       "      <td>24.948919</td>\n",
       "      <td>-498.709987</td>\n",
       "    </tr>\n",
       "    <tr>\n",
       "      <th>4</th>\n",
       "      <td>2016-09-01 04:59:59</td>\n",
       "      <td>199.099327</td>\n",
       "      <td>10.682530</td>\n",
       "      <td>7.530000</td>\n",
       "      <td>0.805575</td>\n",
       "      <td>1401.268123</td>\n",
       "      <td>-500.808305</td>\n",
       "      <td>1398.128818</td>\n",
       "      <td>-499.504543</td>\n",
       "      <td>1402.172226</td>\n",
       "      <td>-500.810606</td>\n",
       "      <td>1399.480508</td>\n",
       "      <td>-499.374053</td>\n",
       "      <td>11.327427</td>\n",
       "      <td>4.767383</td>\n",
       "      <td>488.248117</td>\n",
       "      <td>63.315324</td>\n",
       "      <td>41.269161</td>\n",
       "      <td>11.290425</td>\n",
       "      <td>13.607257</td>\n",
       "      <td>5.738081</td>\n",
       "      <td>13.650053</td>\n",
       "      <td>5.739634</td>\n",
       "      <td>996.541302</td>\n",
       "      <td>-350.562517</td>\n",
       "      <td>1304.658848</td>\n",
       "      <td>-399.511519</td>\n",
       "      <td>1306.455515</td>\n",
       "      <td>-399.050685</td>\n",
       "      <td>1248.699349</td>\n",
       "      <td>-400.876894</td>\n",
       "      <td>1058.839106</td>\n",
       "      <td>-398.988239</td>\n",
       "      <td>949.645313</td>\n",
       "      <td>-399.277632</td>\n",
       "      <td>24.886905</td>\n",
       "      <td>-499.357375</td>\n",
       "      <td>14.979233</td>\n",
       "      <td>-500.186804</td>\n",
       "      <td>19.962364</td>\n",
       "      <td>-450.638828</td>\n",
       "      <td>14.009245</td>\n",
       "      <td>-450.022259</td>\n",
       "      <td>12.025367</td>\n",
       "      <td>-500.786497</td>\n",
       "      <td>8.054678</td>\n",
       "      <td>-500.397500</td>\n",
       "      <td>8.107890</td>\n",
       "      <td>-509.526725</td>\n",
       "      <td>4.957674</td>\n",
       "      <td>-500.360026</td>\n",
       "      <td>25.003331</td>\n",
       "      <td>-500.856333</td>\n",
       "    </tr>\n",
       "  </tbody>\n",
       "</table>\n",
       "</div>"
      ],
      "text/plain": [
       "                  date  primary_cleaner.input.sulfate  \\\n",
       "0  2016-09-01 00:59:59                     210.800909   \n",
       "1  2016-09-01 01:59:59                     215.392455   \n",
       "2  2016-09-01 02:59:59                     215.259946   \n",
       "3  2016-09-01 03:59:59                     215.336236   \n",
       "4  2016-09-01 04:59:59                     199.099327   \n",
       "\n",
       "   primary_cleaner.input.depressant  primary_cleaner.input.feed_size  \\\n",
       "0                         14.993118                         8.080000   \n",
       "1                         14.987471                         8.080000   \n",
       "2                         12.884934                         7.786667   \n",
       "3                         12.006805                         7.640000   \n",
       "4                         10.682530                         7.530000   \n",
       "\n",
       "   primary_cleaner.input.xanthate  primary_cleaner.state.floatbank8_a_air  \\\n",
       "0                        1.005021                             1398.981301   \n",
       "1                        0.990469                             1398.777912   \n",
       "2                        0.996043                             1398.493666   \n",
       "3                        0.863514                             1399.618111   \n",
       "4                        0.805575                             1401.268123   \n",
       "\n",
       "   primary_cleaner.state.floatbank8_a_level  \\\n",
       "0                               -500.225577   \n",
       "1                               -500.057435   \n",
       "2                               -500.868360   \n",
       "3                               -498.863574   \n",
       "4                               -500.808305   \n",
       "\n",
       "   primary_cleaner.state.floatbank8_b_air  \\\n",
       "0                             1399.144926   \n",
       "1                             1398.055362   \n",
       "2                             1398.860436   \n",
       "3                             1397.440120   \n",
       "4                             1398.128818   \n",
       "\n",
       "   primary_cleaner.state.floatbank8_b_level  \\\n",
       "0                               -499.919735   \n",
       "1                               -499.778182   \n",
       "2                               -499.764529   \n",
       "3                               -499.211024   \n",
       "4                               -499.504543   \n",
       "\n",
       "   primary_cleaner.state.floatbank8_c_air  \\\n",
       "0                             1400.102998   \n",
       "1                             1396.151033   \n",
       "2                             1398.075709   \n",
       "3                             1400.129303   \n",
       "4                             1402.172226   \n",
       "\n",
       "   primary_cleaner.state.floatbank8_c_level  \\\n",
       "0                               -500.704369   \n",
       "1                               -499.240168   \n",
       "2                               -502.151509   \n",
       "3                               -498.355873   \n",
       "4                               -500.810606   \n",
       "\n",
       "   primary_cleaner.state.floatbank8_d_air  \\\n",
       "0                             1399.001695   \n",
       "1                             1399.508091   \n",
       "2                             1399.497088   \n",
       "3                             1401.065165   \n",
       "4                             1399.480508   \n",
       "\n",
       "   primary_cleaner.state.floatbank8_d_level  rougher.input.feed_ag  \\\n",
       "0                               -499.485144              13.128569   \n",
       "1                               -500.416324              13.036280   \n",
       "2                               -499.715479              13.138412   \n",
       "3                               -501.038738              12.400507   \n",
       "4                               -499.374053              11.327427   \n",
       "\n",
       "   rougher.input.feed_pb  rougher.input.feed_rate  rougher.input.feed_size  \\\n",
       "0               5.636710               489.793655                62.710452   \n",
       "1               5.526065               490.104534                61.961163   \n",
       "2               5.426561               489.617969                66.903807   \n",
       "3               5.114758               476.618130                59.865919   \n",
       "4               4.767383               488.248117                63.315324   \n",
       "\n",
       "   rougher.input.feed_sol  rougher.input.feed_au  \\\n",
       "0               42.022440              12.084103   \n",
       "1               41.187903              11.918977   \n",
       "2               42.546294              12.091332   \n",
       "3               41.060195              12.181597   \n",
       "4               41.269161              11.290425   \n",
       "\n",
       "   rougher.input.floatbank10_sulfate  rougher.input.floatbank10_xanthate  \\\n",
       "0                          16.922877                            6.153479   \n",
       "1                          17.002532                            5.999043   \n",
       "2                          16.992520                            5.850632   \n",
       "3                          16.532144                            5.801935   \n",
       "4                          13.607257                            5.738081   \n",
       "\n",
       "   rougher.input.floatbank11_sulfate  rougher.input.floatbank11_xanthate  \\\n",
       "0                          16.867518                            6.150709   \n",
       "1                          16.996063                            6.002315   \n",
       "2                          16.982096                            5.853594   \n",
       "3                          16.515277                            5.803657   \n",
       "4                          13.650053                            5.739634   \n",
       "\n",
       "   rougher.state.floatbank10_a_air  rougher.state.floatbank10_a_level  \\\n",
       "0                      1001.849317                        -350.301265   \n",
       "1                       998.690785                        -350.425704   \n",
       "2                       998.516720                        -349.783538   \n",
       "3                      1000.276604                        -350.172597   \n",
       "4                       996.541302                        -350.562517   \n",
       "\n",
       "   rougher.state.floatbank10_b_air  rougher.state.floatbank10_b_level  \\\n",
       "0                      1249.738612                        -399.107531   \n",
       "1                      1248.395457                        -399.946025   \n",
       "2                      1247.440748                        -400.264330   \n",
       "3                      1251.322675                        -398.655289   \n",
       "4                      1304.658848                        -399.511519   \n",
       "\n",
       "   rougher.state.floatbank10_c_air  rougher.state.floatbank10_c_level  \\\n",
       "0                      1249.750520                        -399.396730   \n",
       "1                      1249.514451                        -399.630810   \n",
       "2                      1248.207204                        -401.074405   \n",
       "3                      1250.493702                        -399.746728   \n",
       "4                      1306.455515                        -399.050685   \n",
       "\n",
       "   rougher.state.floatbank10_d_air  rougher.state.floatbank10_d_level  \\\n",
       "0                      1198.287855                        -399.488594   \n",
       "1                      1200.506459                        -399.942434   \n",
       "2                      1199.770026                        -400.790582   \n",
       "3                      1199.398691                        -397.503052   \n",
       "4                      1248.699349                        -400.876894   \n",
       "\n",
       "   rougher.state.floatbank10_e_air  rougher.state.floatbank10_e_level  \\\n",
       "0                       999.472250                        -399.530962   \n",
       "1                      1000.002114                        -399.491528   \n",
       "2                       999.925519                        -399.236999   \n",
       "3                      1001.930679                        -400.437573   \n",
       "4                      1058.839106                        -398.988239   \n",
       "\n",
       "   rougher.state.floatbank10_f_air  rougher.state.floatbank10_f_level  \\\n",
       "0                       949.566189                        -398.180807   \n",
       "1                       950.200009                        -405.787514   \n",
       "2                       950.320481                        -400.864340   \n",
       "3                       950.735324                        -399.802986   \n",
       "4                       949.645313                        -399.277632   \n",
       "\n",
       "   secondary_cleaner.state.floatbank2_a_air  \\\n",
       "0                                 24.938200   \n",
       "1                                 24.923466   \n",
       "2                                 24.908732   \n",
       "3                                 24.893998   \n",
       "4                                 24.886905   \n",
       "\n",
       "   secondary_cleaner.state.floatbank2_a_level  \\\n",
       "0                                 -500.490963   \n",
       "1                                 -499.813963   \n",
       "2                                 -500.304035   \n",
       "3                                 -499.382374   \n",
       "4                                 -499.357375   \n",
       "\n",
       "   secondary_cleaner.state.floatbank2_b_air  \\\n",
       "0                                 14.947607   \n",
       "1                                 14.930873   \n",
       "2                                 14.996511   \n",
       "3                                 14.916674   \n",
       "4                                 14.979233   \n",
       "\n",
       "   secondary_cleaner.state.floatbank2_b_level  \\\n",
       "0                                 -500.013837   \n",
       "1                                 -500.764452   \n",
       "2                                 -500.993821   \n",
       "3                                 -499.862299   \n",
       "4                                 -500.186804   \n",
       "\n",
       "   secondary_cleaner.state.floatbank3_a_air  \\\n",
       "0                                 20.018166   \n",
       "1                                 19.988503   \n",
       "2                                 20.039689   \n",
       "3                                 20.031100   \n",
       "4                                 19.962364   \n",
       "\n",
       "   secondary_cleaner.state.floatbank3_a_level  \\\n",
       "0                                 -450.395995   \n",
       "1                                 -450.114024   \n",
       "2                                 -450.263164   \n",
       "3                                 -449.372570   \n",
       "4                                 -450.638828   \n",
       "\n",
       "   secondary_cleaner.state.floatbank3_b_air  \\\n",
       "0                                 13.987058   \n",
       "1                                 14.092981   \n",
       "2                                 14.077881   \n",
       "3                                 14.013968   \n",
       "4                                 14.009245   \n",
       "\n",
       "   secondary_cleaner.state.floatbank3_b_level  \\\n",
       "0                                 -449.831513   \n",
       "1                                 -450.059163   \n",
       "2                                 -449.660997   \n",
       "3                                 -449.526900   \n",
       "4                                 -450.022259   \n",
       "\n",
       "   secondary_cleaner.state.floatbank4_a_air  \\\n",
       "0                                 12.023554   \n",
       "1                                 12.058140   \n",
       "2                                 11.962366   \n",
       "3                                 12.033091   \n",
       "4                                 12.025367   \n",
       "\n",
       "   secondary_cleaner.state.floatbank4_a_level  \\\n",
       "0                                 -497.795834   \n",
       "1                                 -498.695773   \n",
       "2                                 -498.767484   \n",
       "3                                 -498.350935   \n",
       "4                                 -500.786497   \n",
       "\n",
       "   secondary_cleaner.state.floatbank4_b_air  \\\n",
       "0                                  8.016656   \n",
       "1                                  8.130979   \n",
       "2                                  8.096893   \n",
       "3                                  8.074946   \n",
       "4                                  8.054678   \n",
       "\n",
       "   secondary_cleaner.state.floatbank4_b_level  \\\n",
       "0                                 -501.289139   \n",
       "1                                 -499.634209   \n",
       "2                                 -500.827423   \n",
       "3                                 -499.474407   \n",
       "4                                 -500.397500   \n",
       "\n",
       "   secondary_cleaner.state.floatbank5_a_air  \\\n",
       "0                                  7.946562   \n",
       "1                                  7.958270   \n",
       "2                                  8.071056   \n",
       "3                                  7.897085   \n",
       "4                                  8.107890   \n",
       "\n",
       "   secondary_cleaner.state.floatbank5_a_level  \\\n",
       "0                                 -432.317850   \n",
       "1                                 -525.839648   \n",
       "2                                 -500.801673   \n",
       "3                                 -500.868509   \n",
       "4                                 -509.526725   \n",
       "\n",
       "   secondary_cleaner.state.floatbank5_b_air  \\\n",
       "0                                  4.872511   \n",
       "1                                  4.878850   \n",
       "2                                  4.905125   \n",
       "3                                  4.931400   \n",
       "4                                  4.957674   \n",
       "\n",
       "   secondary_cleaner.state.floatbank5_b_level  \\\n",
       "0                                 -500.037437   \n",
       "1                                 -500.162375   \n",
       "2                                 -499.828510   \n",
       "3                                 -499.963623   \n",
       "4                                 -500.360026   \n",
       "\n",
       "   secondary_cleaner.state.floatbank6_a_air  \\\n",
       "0                                 26.705889   \n",
       "1                                 25.019940   \n",
       "2                                 24.994862   \n",
       "3                                 24.948919   \n",
       "4                                 25.003331   \n",
       "\n",
       "   secondary_cleaner.state.floatbank6_a_level  \n",
       "0                                 -499.709414  \n",
       "1                                 -499.819438  \n",
       "2                                 -500.622559  \n",
       "3                                 -498.709987  \n",
       "4                                 -500.856333  "
      ]
     },
     "metadata": {},
     "output_type": "display_data"
    },
    {
     "data": {
      "text/html": [
       "<div>\n",
       "<style scoped>\n",
       "    .dataframe tbody tr th:only-of-type {\n",
       "        vertical-align: middle;\n",
       "    }\n",
       "\n",
       "    .dataframe tbody tr th {\n",
       "        vertical-align: top;\n",
       "    }\n",
       "\n",
       "    .dataframe thead th {\n",
       "        text-align: right;\n",
       "    }\n",
       "</style>\n",
       "<table border=\"1\" class=\"dataframe\">\n",
       "  <thead>\n",
       "    <tr style=\"text-align: right;\">\n",
       "      <th></th>\n",
       "      <th>date</th>\n",
       "      <th>final.output.concentrate_ag</th>\n",
       "      <th>final.output.concentrate_pb</th>\n",
       "      <th>final.output.concentrate_sol</th>\n",
       "      <th>final.output.concentrate_au</th>\n",
       "      <th>final.output.recovery</th>\n",
       "      <th>final.output.tail_ag</th>\n",
       "      <th>final.output.tail_pb</th>\n",
       "      <th>final.output.tail_sol</th>\n",
       "      <th>final.output.tail_au</th>\n",
       "      <th>primary_cleaner.input.sulfate</th>\n",
       "      <th>primary_cleaner.input.depressant</th>\n",
       "      <th>primary_cleaner.input.feed_size</th>\n",
       "      <th>primary_cleaner.input.xanthate</th>\n",
       "      <th>primary_cleaner.output.concentrate_ag</th>\n",
       "      <th>primary_cleaner.output.concentrate_pb</th>\n",
       "      <th>primary_cleaner.output.concentrate_sol</th>\n",
       "      <th>primary_cleaner.output.concentrate_au</th>\n",
       "      <th>primary_cleaner.output.tail_ag</th>\n",
       "      <th>primary_cleaner.output.tail_pb</th>\n",
       "      <th>primary_cleaner.output.tail_sol</th>\n",
       "      <th>primary_cleaner.output.tail_au</th>\n",
       "      <th>primary_cleaner.state.floatbank8_a_air</th>\n",
       "      <th>primary_cleaner.state.floatbank8_a_level</th>\n",
       "      <th>primary_cleaner.state.floatbank8_b_air</th>\n",
       "      <th>primary_cleaner.state.floatbank8_b_level</th>\n",
       "      <th>primary_cleaner.state.floatbank8_c_air</th>\n",
       "      <th>primary_cleaner.state.floatbank8_c_level</th>\n",
       "      <th>primary_cleaner.state.floatbank8_d_air</th>\n",
       "      <th>primary_cleaner.state.floatbank8_d_level</th>\n",
       "      <th>rougher.calculation.sulfate_to_au_concentrate</th>\n",
       "      <th>rougher.calculation.floatbank10_sulfate_to_au_feed</th>\n",
       "      <th>rougher.calculation.floatbank11_sulfate_to_au_feed</th>\n",
       "      <th>rougher.calculation.au_pb_ratio</th>\n",
       "      <th>rougher.input.feed_ag</th>\n",
       "      <th>rougher.input.feed_pb</th>\n",
       "      <th>rougher.input.feed_rate</th>\n",
       "      <th>rougher.input.feed_size</th>\n",
       "      <th>rougher.input.feed_sol</th>\n",
       "      <th>rougher.input.feed_au</th>\n",
       "      <th>rougher.input.floatbank10_sulfate</th>\n",
       "      <th>rougher.input.floatbank10_xanthate</th>\n",
       "      <th>rougher.input.floatbank11_sulfate</th>\n",
       "      <th>rougher.input.floatbank11_xanthate</th>\n",
       "      <th>rougher.output.concentrate_ag</th>\n",
       "      <th>rougher.output.concentrate_pb</th>\n",
       "      <th>rougher.output.concentrate_sol</th>\n",
       "      <th>rougher.output.concentrate_au</th>\n",
       "      <th>rougher.output.recovery</th>\n",
       "      <th>rougher.output.tail_ag</th>\n",
       "      <th>rougher.output.tail_pb</th>\n",
       "      <th>rougher.output.tail_sol</th>\n",
       "      <th>rougher.output.tail_au</th>\n",
       "      <th>rougher.state.floatbank10_a_air</th>\n",
       "      <th>rougher.state.floatbank10_a_level</th>\n",
       "      <th>rougher.state.floatbank10_b_air</th>\n",
       "      <th>rougher.state.floatbank10_b_level</th>\n",
       "      <th>rougher.state.floatbank10_c_air</th>\n",
       "      <th>rougher.state.floatbank10_c_level</th>\n",
       "      <th>rougher.state.floatbank10_d_air</th>\n",
       "      <th>rougher.state.floatbank10_d_level</th>\n",
       "      <th>rougher.state.floatbank10_e_air</th>\n",
       "      <th>rougher.state.floatbank10_e_level</th>\n",
       "      <th>rougher.state.floatbank10_f_air</th>\n",
       "      <th>rougher.state.floatbank10_f_level</th>\n",
       "      <th>secondary_cleaner.output.tail_ag</th>\n",
       "      <th>secondary_cleaner.output.tail_pb</th>\n",
       "      <th>secondary_cleaner.output.tail_sol</th>\n",
       "      <th>secondary_cleaner.output.tail_au</th>\n",
       "      <th>secondary_cleaner.state.floatbank2_a_air</th>\n",
       "      <th>secondary_cleaner.state.floatbank2_a_level</th>\n",
       "      <th>secondary_cleaner.state.floatbank2_b_air</th>\n",
       "      <th>secondary_cleaner.state.floatbank2_b_level</th>\n",
       "      <th>secondary_cleaner.state.floatbank3_a_air</th>\n",
       "      <th>secondary_cleaner.state.floatbank3_a_level</th>\n",
       "      <th>secondary_cleaner.state.floatbank3_b_air</th>\n",
       "      <th>secondary_cleaner.state.floatbank3_b_level</th>\n",
       "      <th>secondary_cleaner.state.floatbank4_a_air</th>\n",
       "      <th>secondary_cleaner.state.floatbank4_a_level</th>\n",
       "      <th>secondary_cleaner.state.floatbank4_b_air</th>\n",
       "      <th>secondary_cleaner.state.floatbank4_b_level</th>\n",
       "      <th>secondary_cleaner.state.floatbank5_a_air</th>\n",
       "      <th>secondary_cleaner.state.floatbank5_a_level</th>\n",
       "      <th>secondary_cleaner.state.floatbank5_b_air</th>\n",
       "      <th>secondary_cleaner.state.floatbank5_b_level</th>\n",
       "      <th>secondary_cleaner.state.floatbank6_a_air</th>\n",
       "      <th>secondary_cleaner.state.floatbank6_a_level</th>\n",
       "    </tr>\n",
       "  </thead>\n",
       "  <tbody>\n",
       "    <tr>\n",
       "      <th>0</th>\n",
       "      <td>2016-01-15 00:00:00</td>\n",
       "      <td>6.055403</td>\n",
       "      <td>9.889648</td>\n",
       "      <td>5.507324</td>\n",
       "      <td>42.192020</td>\n",
       "      <td>70.541216</td>\n",
       "      <td>10.411962</td>\n",
       "      <td>0.895447</td>\n",
       "      <td>16.904297</td>\n",
       "      <td>2.143149</td>\n",
       "      <td>127.092003</td>\n",
       "      <td>10.128295</td>\n",
       "      <td>7.25</td>\n",
       "      <td>0.988759</td>\n",
       "      <td>8.547551</td>\n",
       "      <td>10.389648</td>\n",
       "      <td>19.529297</td>\n",
       "      <td>34.174427</td>\n",
       "      <td>14.936526</td>\n",
       "      <td>2.534912</td>\n",
       "      <td>7.476074</td>\n",
       "      <td>2.106679</td>\n",
       "      <td>1549.775757</td>\n",
       "      <td>-498.912140</td>\n",
       "      <td>1551.434204</td>\n",
       "      <td>-516.403442</td>\n",
       "      <td>1549.873901</td>\n",
       "      <td>-498.666595</td>\n",
       "      <td>1554.367432</td>\n",
       "      <td>-493.428131</td>\n",
       "      <td>41885.707031</td>\n",
       "      <td>3481.779053</td>\n",
       "      <td>3520.337158</td>\n",
       "      <td>2.838687</td>\n",
       "      <td>6.100378</td>\n",
       "      <td>2.284912</td>\n",
       "      <td>523.546326</td>\n",
       "      <td>55.486599</td>\n",
       "      <td>36.808594</td>\n",
       "      <td>6.486150</td>\n",
       "      <td>11.986616</td>\n",
       "      <td>6.007990</td>\n",
       "      <td>11.836743</td>\n",
       "      <td>6.005818</td>\n",
       "      <td>11.500771</td>\n",
       "      <td>7.101074</td>\n",
       "      <td>28.029297</td>\n",
       "      <td>19.793808</td>\n",
       "      <td>87.107763</td>\n",
       "      <td>5.008018</td>\n",
       "      <td>0.508728</td>\n",
       "      <td>19.154297</td>\n",
       "      <td>1.170244</td>\n",
       "      <td>999.706909</td>\n",
       "      <td>-404.066986</td>\n",
       "      <td>1603.011353</td>\n",
       "      <td>-434.715027</td>\n",
       "      <td>1602.375000</td>\n",
       "      <td>-442.204468</td>\n",
       "      <td>1598.937256</td>\n",
       "      <td>-451.294128</td>\n",
       "      <td>1404.472046</td>\n",
       "      <td>-455.462982</td>\n",
       "      <td>1416.354980</td>\n",
       "      <td>-451.939636</td>\n",
       "      <td>14.500184</td>\n",
       "      <td>4.694824</td>\n",
       "      <td>8.764648</td>\n",
       "      <td>2.606185</td>\n",
       "      <td>25.853109</td>\n",
       "      <td>-498.526489</td>\n",
       "      <td>23.893660</td>\n",
       "      <td>-501.406281</td>\n",
       "      <td>23.961798</td>\n",
       "      <td>-495.262817</td>\n",
       "      <td>21.940409</td>\n",
       "      <td>-499.340973</td>\n",
       "      <td>14.016835</td>\n",
       "      <td>-502.488007</td>\n",
       "      <td>12.099931</td>\n",
       "      <td>-504.715942</td>\n",
       "      <td>9.925633</td>\n",
       "      <td>-498.310211</td>\n",
       "      <td>8.079666</td>\n",
       "      <td>-500.470978</td>\n",
       "      <td>14.151341</td>\n",
       "      <td>-605.841980</td>\n",
       "    </tr>\n",
       "    <tr>\n",
       "      <th>1</th>\n",
       "      <td>2016-01-15 01:00:00</td>\n",
       "      <td>6.029369</td>\n",
       "      <td>9.968944</td>\n",
       "      <td>5.257781</td>\n",
       "      <td>42.701629</td>\n",
       "      <td>69.266198</td>\n",
       "      <td>10.462676</td>\n",
       "      <td>0.927452</td>\n",
       "      <td>16.634514</td>\n",
       "      <td>2.224930</td>\n",
       "      <td>125.629232</td>\n",
       "      <td>10.296251</td>\n",
       "      <td>7.25</td>\n",
       "      <td>1.002663</td>\n",
       "      <td>8.558743</td>\n",
       "      <td>10.497069</td>\n",
       "      <td>19.369147</td>\n",
       "      <td>34.118526</td>\n",
       "      <td>16.250511</td>\n",
       "      <td>3.049646</td>\n",
       "      <td>6.733907</td>\n",
       "      <td>2.353017</td>\n",
       "      <td>1576.166671</td>\n",
       "      <td>-500.904965</td>\n",
       "      <td>1575.950626</td>\n",
       "      <td>-499.865889</td>\n",
       "      <td>1575.994189</td>\n",
       "      <td>-499.315107</td>\n",
       "      <td>1574.479259</td>\n",
       "      <td>-498.931665</td>\n",
       "      <td>42050.861809</td>\n",
       "      <td>3498.370979</td>\n",
       "      <td>3489.981857</td>\n",
       "      <td>2.858998</td>\n",
       "      <td>6.161113</td>\n",
       "      <td>2.266033</td>\n",
       "      <td>525.290581</td>\n",
       "      <td>57.278666</td>\n",
       "      <td>35.753385</td>\n",
       "      <td>6.478583</td>\n",
       "      <td>11.971193</td>\n",
       "      <td>6.005766</td>\n",
       "      <td>11.996163</td>\n",
       "      <td>6.012594</td>\n",
       "      <td>11.615865</td>\n",
       "      <td>7.278807</td>\n",
       "      <td>28.067063</td>\n",
       "      <td>20.050975</td>\n",
       "      <td>86.843261</td>\n",
       "      <td>4.955378</td>\n",
       "      <td>0.536689</td>\n",
       "      <td>18.965234</td>\n",
       "      <td>1.184827</td>\n",
       "      <td>1000.286398</td>\n",
       "      <td>-400.065196</td>\n",
       "      <td>1600.754587</td>\n",
       "      <td>-449.953435</td>\n",
       "      <td>1600.479580</td>\n",
       "      <td>-449.830646</td>\n",
       "      <td>1600.527589</td>\n",
       "      <td>-449.953649</td>\n",
       "      <td>1399.227084</td>\n",
       "      <td>-450.869848</td>\n",
       "      <td>1399.719514</td>\n",
       "      <td>-450.119001</td>\n",
       "      <td>14.265474</td>\n",
       "      <td>4.592547</td>\n",
       "      <td>9.001494</td>\n",
       "      <td>2.488248</td>\n",
       "      <td>25.880539</td>\n",
       "      <td>-499.989656</td>\n",
       "      <td>23.889530</td>\n",
       "      <td>-500.372428</td>\n",
       "      <td>23.970550</td>\n",
       "      <td>-500.085473</td>\n",
       "      <td>22.085714</td>\n",
       "      <td>-499.446897</td>\n",
       "      <td>13.992281</td>\n",
       "      <td>-505.503262</td>\n",
       "      <td>11.950531</td>\n",
       "      <td>-501.331529</td>\n",
       "      <td>10.039245</td>\n",
       "      <td>-500.169983</td>\n",
       "      <td>7.984757</td>\n",
       "      <td>-500.582168</td>\n",
       "      <td>13.998353</td>\n",
       "      <td>-599.787184</td>\n",
       "    </tr>\n",
       "    <tr>\n",
       "      <th>2</th>\n",
       "      <td>2016-01-15 02:00:00</td>\n",
       "      <td>6.055926</td>\n",
       "      <td>10.213995</td>\n",
       "      <td>5.383759</td>\n",
       "      <td>42.657501</td>\n",
       "      <td>68.116445</td>\n",
       "      <td>10.507046</td>\n",
       "      <td>0.953716</td>\n",
       "      <td>16.208849</td>\n",
       "      <td>2.257889</td>\n",
       "      <td>123.819808</td>\n",
       "      <td>11.316280</td>\n",
       "      <td>7.25</td>\n",
       "      <td>0.991265</td>\n",
       "      <td>8.603505</td>\n",
       "      <td>10.354494</td>\n",
       "      <td>19.167579</td>\n",
       "      <td>33.969464</td>\n",
       "      <td>16.491823</td>\n",
       "      <td>3.124664</td>\n",
       "      <td>6.471768</td>\n",
       "      <td>2.416800</td>\n",
       "      <td>1601.556163</td>\n",
       "      <td>-499.997791</td>\n",
       "      <td>1600.386685</td>\n",
       "      <td>-500.607762</td>\n",
       "      <td>1602.003542</td>\n",
       "      <td>-500.870069</td>\n",
       "      <td>1599.541515</td>\n",
       "      <td>-499.827444</td>\n",
       "      <td>42018.101184</td>\n",
       "      <td>3495.348910</td>\n",
       "      <td>3502.359819</td>\n",
       "      <td>2.945989</td>\n",
       "      <td>6.116455</td>\n",
       "      <td>2.159622</td>\n",
       "      <td>530.026610</td>\n",
       "      <td>57.510649</td>\n",
       "      <td>35.971630</td>\n",
       "      <td>6.362222</td>\n",
       "      <td>11.920603</td>\n",
       "      <td>6.197377</td>\n",
       "      <td>11.920305</td>\n",
       "      <td>6.204633</td>\n",
       "      <td>11.695753</td>\n",
       "      <td>7.216833</td>\n",
       "      <td>27.454037</td>\n",
       "      <td>19.737170</td>\n",
       "      <td>86.842308</td>\n",
       "      <td>4.843460</td>\n",
       "      <td>0.546416</td>\n",
       "      <td>18.808533</td>\n",
       "      <td>1.162562</td>\n",
       "      <td>999.719565</td>\n",
       "      <td>-400.074028</td>\n",
       "      <td>1599.337330</td>\n",
       "      <td>-450.008530</td>\n",
       "      <td>1599.672797</td>\n",
       "      <td>-449.954491</td>\n",
       "      <td>1599.849325</td>\n",
       "      <td>-449.954185</td>\n",
       "      <td>1399.180945</td>\n",
       "      <td>-449.937588</td>\n",
       "      <td>1400.316682</td>\n",
       "      <td>-450.527147</td>\n",
       "      <td>14.115662</td>\n",
       "      <td>4.624775</td>\n",
       "      <td>8.842896</td>\n",
       "      <td>2.458187</td>\n",
       "      <td>26.005245</td>\n",
       "      <td>-499.929616</td>\n",
       "      <td>23.886657</td>\n",
       "      <td>-499.951928</td>\n",
       "      <td>23.913535</td>\n",
       "      <td>-499.442343</td>\n",
       "      <td>23.957717</td>\n",
       "      <td>-499.901982</td>\n",
       "      <td>14.015015</td>\n",
       "      <td>-502.520901</td>\n",
       "      <td>11.912783</td>\n",
       "      <td>-501.133383</td>\n",
       "      <td>10.070913</td>\n",
       "      <td>-500.129135</td>\n",
       "      <td>8.013877</td>\n",
       "      <td>-500.517572</td>\n",
       "      <td>14.028663</td>\n",
       "      <td>-601.427363</td>\n",
       "    </tr>\n",
       "    <tr>\n",
       "      <th>3</th>\n",
       "      <td>2016-01-15 03:00:00</td>\n",
       "      <td>6.047977</td>\n",
       "      <td>9.977019</td>\n",
       "      <td>4.858634</td>\n",
       "      <td>42.689819</td>\n",
       "      <td>68.347543</td>\n",
       "      <td>10.422762</td>\n",
       "      <td>0.883763</td>\n",
       "      <td>16.532835</td>\n",
       "      <td>2.146849</td>\n",
       "      <td>122.270188</td>\n",
       "      <td>11.322140</td>\n",
       "      <td>7.25</td>\n",
       "      <td>0.996739</td>\n",
       "      <td>7.221879</td>\n",
       "      <td>8.496563</td>\n",
       "      <td>15.978538</td>\n",
       "      <td>28.260743</td>\n",
       "      <td>16.024359</td>\n",
       "      <td>2.960362</td>\n",
       "      <td>6.843791</td>\n",
       "      <td>2.262051</td>\n",
       "      <td>1599.968720</td>\n",
       "      <td>-500.951778</td>\n",
       "      <td>1600.659236</td>\n",
       "      <td>-499.677094</td>\n",
       "      <td>1600.304144</td>\n",
       "      <td>-500.727997</td>\n",
       "      <td>1600.449520</td>\n",
       "      <td>-500.052575</td>\n",
       "      <td>42029.447991</td>\n",
       "      <td>3498.578313</td>\n",
       "      <td>3499.162912</td>\n",
       "      <td>3.002340</td>\n",
       "      <td>6.043309</td>\n",
       "      <td>2.037807</td>\n",
       "      <td>542.590390</td>\n",
       "      <td>57.792734</td>\n",
       "      <td>36.862241</td>\n",
       "      <td>6.118189</td>\n",
       "      <td>11.630094</td>\n",
       "      <td>6.203177</td>\n",
       "      <td>11.692450</td>\n",
       "      <td>6.196578</td>\n",
       "      <td>11.915047</td>\n",
       "      <td>7.175616</td>\n",
       "      <td>27.341277</td>\n",
       "      <td>19.320810</td>\n",
       "      <td>87.226430</td>\n",
       "      <td>4.655288</td>\n",
       "      <td>0.542525</td>\n",
       "      <td>19.330200</td>\n",
       "      <td>1.079755</td>\n",
       "      <td>999.814770</td>\n",
       "      <td>-400.200179</td>\n",
       "      <td>1600.059442</td>\n",
       "      <td>-450.619948</td>\n",
       "      <td>1600.012842</td>\n",
       "      <td>-449.910497</td>\n",
       "      <td>1597.725177</td>\n",
       "      <td>-450.130127</td>\n",
       "      <td>1400.943157</td>\n",
       "      <td>-450.030142</td>\n",
       "      <td>1400.234743</td>\n",
       "      <td>-449.790835</td>\n",
       "      <td>13.732071</td>\n",
       "      <td>4.482453</td>\n",
       "      <td>9.122857</td>\n",
       "      <td>2.322062</td>\n",
       "      <td>25.942508</td>\n",
       "      <td>-499.176749</td>\n",
       "      <td>23.955516</td>\n",
       "      <td>-499.848796</td>\n",
       "      <td>23.966838</td>\n",
       "      <td>-500.008812</td>\n",
       "      <td>23.954443</td>\n",
       "      <td>-499.944710</td>\n",
       "      <td>14.036510</td>\n",
       "      <td>-500.857308</td>\n",
       "      <td>11.999550</td>\n",
       "      <td>-501.193686</td>\n",
       "      <td>9.970366</td>\n",
       "      <td>-499.201640</td>\n",
       "      <td>7.977324</td>\n",
       "      <td>-500.255908</td>\n",
       "      <td>14.005551</td>\n",
       "      <td>-599.996129</td>\n",
       "    </tr>\n",
       "    <tr>\n",
       "      <th>4</th>\n",
       "      <td>2016-01-15 04:00:00</td>\n",
       "      <td>6.148599</td>\n",
       "      <td>10.142511</td>\n",
       "      <td>4.939416</td>\n",
       "      <td>42.774141</td>\n",
       "      <td>66.927016</td>\n",
       "      <td>10.360302</td>\n",
       "      <td>0.792826</td>\n",
       "      <td>16.525686</td>\n",
       "      <td>2.055292</td>\n",
       "      <td>117.988169</td>\n",
       "      <td>11.913613</td>\n",
       "      <td>7.25</td>\n",
       "      <td>1.009869</td>\n",
       "      <td>9.089428</td>\n",
       "      <td>9.986786</td>\n",
       "      <td>19.199864</td>\n",
       "      <td>33.044932</td>\n",
       "      <td>16.480185</td>\n",
       "      <td>3.112100</td>\n",
       "      <td>6.550154</td>\n",
       "      <td>2.277073</td>\n",
       "      <td>1601.339707</td>\n",
       "      <td>-498.975456</td>\n",
       "      <td>1601.437854</td>\n",
       "      <td>-500.323246</td>\n",
       "      <td>1599.581894</td>\n",
       "      <td>-500.888152</td>\n",
       "      <td>1602.649541</td>\n",
       "      <td>-500.593010</td>\n",
       "      <td>42125.354245</td>\n",
       "      <td>3494.800771</td>\n",
       "      <td>3506.679315</td>\n",
       "      <td>3.169615</td>\n",
       "      <td>6.060915</td>\n",
       "      <td>1.786875</td>\n",
       "      <td>540.531893</td>\n",
       "      <td>56.047189</td>\n",
       "      <td>34.347666</td>\n",
       "      <td>5.663707</td>\n",
       "      <td>10.957755</td>\n",
       "      <td>6.198826</td>\n",
       "      <td>10.960521</td>\n",
       "      <td>6.194897</td>\n",
       "      <td>12.411054</td>\n",
       "      <td>7.240205</td>\n",
       "      <td>27.041023</td>\n",
       "      <td>19.216101</td>\n",
       "      <td>86.688794</td>\n",
       "      <td>4.552800</td>\n",
       "      <td>0.515438</td>\n",
       "      <td>19.267422</td>\n",
       "      <td>1.012642</td>\n",
       "      <td>999.678690</td>\n",
       "      <td>-399.752729</td>\n",
       "      <td>1600.208824</td>\n",
       "      <td>-449.599614</td>\n",
       "      <td>1600.357732</td>\n",
       "      <td>-450.034364</td>\n",
       "      <td>1599.759049</td>\n",
       "      <td>-449.909799</td>\n",
       "      <td>1401.560902</td>\n",
       "      <td>-448.877187</td>\n",
       "      <td>1401.160227</td>\n",
       "      <td>-450.407128</td>\n",
       "      <td>14.079996</td>\n",
       "      <td>4.470737</td>\n",
       "      <td>8.871028</td>\n",
       "      <td>2.330448</td>\n",
       "      <td>26.024787</td>\n",
       "      <td>-500.279091</td>\n",
       "      <td>23.955345</td>\n",
       "      <td>-500.593614</td>\n",
       "      <td>23.985703</td>\n",
       "      <td>-500.083811</td>\n",
       "      <td>23.958945</td>\n",
       "      <td>-499.990309</td>\n",
       "      <td>14.027298</td>\n",
       "      <td>-499.838632</td>\n",
       "      <td>11.953070</td>\n",
       "      <td>-501.053894</td>\n",
       "      <td>9.925709</td>\n",
       "      <td>-501.686727</td>\n",
       "      <td>7.894242</td>\n",
       "      <td>-500.356035</td>\n",
       "      <td>13.996647</td>\n",
       "      <td>-601.496691</td>\n",
       "    </tr>\n",
       "  </tbody>\n",
       "</table>\n",
       "</div>"
      ],
      "text/plain": [
       "                  date  final.output.concentrate_ag  \\\n",
       "0  2016-01-15 00:00:00                     6.055403   \n",
       "1  2016-01-15 01:00:00                     6.029369   \n",
       "2  2016-01-15 02:00:00                     6.055926   \n",
       "3  2016-01-15 03:00:00                     6.047977   \n",
       "4  2016-01-15 04:00:00                     6.148599   \n",
       "\n",
       "   final.output.concentrate_pb  final.output.concentrate_sol  \\\n",
       "0                     9.889648                      5.507324   \n",
       "1                     9.968944                      5.257781   \n",
       "2                    10.213995                      5.383759   \n",
       "3                     9.977019                      4.858634   \n",
       "4                    10.142511                      4.939416   \n",
       "\n",
       "   final.output.concentrate_au  final.output.recovery  final.output.tail_ag  \\\n",
       "0                    42.192020              70.541216             10.411962   \n",
       "1                    42.701629              69.266198             10.462676   \n",
       "2                    42.657501              68.116445             10.507046   \n",
       "3                    42.689819              68.347543             10.422762   \n",
       "4                    42.774141              66.927016             10.360302   \n",
       "\n",
       "   final.output.tail_pb  final.output.tail_sol  final.output.tail_au  \\\n",
       "0              0.895447              16.904297              2.143149   \n",
       "1              0.927452              16.634514              2.224930   \n",
       "2              0.953716              16.208849              2.257889   \n",
       "3              0.883763              16.532835              2.146849   \n",
       "4              0.792826              16.525686              2.055292   \n",
       "\n",
       "   primary_cleaner.input.sulfate  primary_cleaner.input.depressant  \\\n",
       "0                     127.092003                         10.128295   \n",
       "1                     125.629232                         10.296251   \n",
       "2                     123.819808                         11.316280   \n",
       "3                     122.270188                         11.322140   \n",
       "4                     117.988169                         11.913613   \n",
       "\n",
       "   primary_cleaner.input.feed_size  primary_cleaner.input.xanthate  \\\n",
       "0                             7.25                        0.988759   \n",
       "1                             7.25                        1.002663   \n",
       "2                             7.25                        0.991265   \n",
       "3                             7.25                        0.996739   \n",
       "4                             7.25                        1.009869   \n",
       "\n",
       "   primary_cleaner.output.concentrate_ag  \\\n",
       "0                               8.547551   \n",
       "1                               8.558743   \n",
       "2                               8.603505   \n",
       "3                               7.221879   \n",
       "4                               9.089428   \n",
       "\n",
       "   primary_cleaner.output.concentrate_pb  \\\n",
       "0                              10.389648   \n",
       "1                              10.497069   \n",
       "2                              10.354494   \n",
       "3                               8.496563   \n",
       "4                               9.986786   \n",
       "\n",
       "   primary_cleaner.output.concentrate_sol  \\\n",
       "0                               19.529297   \n",
       "1                               19.369147   \n",
       "2                               19.167579   \n",
       "3                               15.978538   \n",
       "4                               19.199864   \n",
       "\n",
       "   primary_cleaner.output.concentrate_au  primary_cleaner.output.tail_ag  \\\n",
       "0                              34.174427                       14.936526   \n",
       "1                              34.118526                       16.250511   \n",
       "2                              33.969464                       16.491823   \n",
       "3                              28.260743                       16.024359   \n",
       "4                              33.044932                       16.480185   \n",
       "\n",
       "   primary_cleaner.output.tail_pb  primary_cleaner.output.tail_sol  \\\n",
       "0                        2.534912                         7.476074   \n",
       "1                        3.049646                         6.733907   \n",
       "2                        3.124664                         6.471768   \n",
       "3                        2.960362                         6.843791   \n",
       "4                        3.112100                         6.550154   \n",
       "\n",
       "   primary_cleaner.output.tail_au  primary_cleaner.state.floatbank8_a_air  \\\n",
       "0                        2.106679                             1549.775757   \n",
       "1                        2.353017                             1576.166671   \n",
       "2                        2.416800                             1601.556163   \n",
       "3                        2.262051                             1599.968720   \n",
       "4                        2.277073                             1601.339707   \n",
       "\n",
       "   primary_cleaner.state.floatbank8_a_level  \\\n",
       "0                               -498.912140   \n",
       "1                               -500.904965   \n",
       "2                               -499.997791   \n",
       "3                               -500.951778   \n",
       "4                               -498.975456   \n",
       "\n",
       "   primary_cleaner.state.floatbank8_b_air  \\\n",
       "0                             1551.434204   \n",
       "1                             1575.950626   \n",
       "2                             1600.386685   \n",
       "3                             1600.659236   \n",
       "4                             1601.437854   \n",
       "\n",
       "   primary_cleaner.state.floatbank8_b_level  \\\n",
       "0                               -516.403442   \n",
       "1                               -499.865889   \n",
       "2                               -500.607762   \n",
       "3                               -499.677094   \n",
       "4                               -500.323246   \n",
       "\n",
       "   primary_cleaner.state.floatbank8_c_air  \\\n",
       "0                             1549.873901   \n",
       "1                             1575.994189   \n",
       "2                             1602.003542   \n",
       "3                             1600.304144   \n",
       "4                             1599.581894   \n",
       "\n",
       "   primary_cleaner.state.floatbank8_c_level  \\\n",
       "0                               -498.666595   \n",
       "1                               -499.315107   \n",
       "2                               -500.870069   \n",
       "3                               -500.727997   \n",
       "4                               -500.888152   \n",
       "\n",
       "   primary_cleaner.state.floatbank8_d_air  \\\n",
       "0                             1554.367432   \n",
       "1                             1574.479259   \n",
       "2                             1599.541515   \n",
       "3                             1600.449520   \n",
       "4                             1602.649541   \n",
       "\n",
       "   primary_cleaner.state.floatbank8_d_level  \\\n",
       "0                               -493.428131   \n",
       "1                               -498.931665   \n",
       "2                               -499.827444   \n",
       "3                               -500.052575   \n",
       "4                               -500.593010   \n",
       "\n",
       "   rougher.calculation.sulfate_to_au_concentrate  \\\n",
       "0                                   41885.707031   \n",
       "1                                   42050.861809   \n",
       "2                                   42018.101184   \n",
       "3                                   42029.447991   \n",
       "4                                   42125.354245   \n",
       "\n",
       "   rougher.calculation.floatbank10_sulfate_to_au_feed  \\\n",
       "0                                        3481.779053    \n",
       "1                                        3498.370979    \n",
       "2                                        3495.348910    \n",
       "3                                        3498.578313    \n",
       "4                                        3494.800771    \n",
       "\n",
       "   rougher.calculation.floatbank11_sulfate_to_au_feed  \\\n",
       "0                                        3520.337158    \n",
       "1                                        3489.981857    \n",
       "2                                        3502.359819    \n",
       "3                                        3499.162912    \n",
       "4                                        3506.679315    \n",
       "\n",
       "   rougher.calculation.au_pb_ratio  rougher.input.feed_ag  \\\n",
       "0                         2.838687               6.100378   \n",
       "1                         2.858998               6.161113   \n",
       "2                         2.945989               6.116455   \n",
       "3                         3.002340               6.043309   \n",
       "4                         3.169615               6.060915   \n",
       "\n",
       "   rougher.input.feed_pb  rougher.input.feed_rate  rougher.input.feed_size  \\\n",
       "0               2.284912               523.546326                55.486599   \n",
       "1               2.266033               525.290581                57.278666   \n",
       "2               2.159622               530.026610                57.510649   \n",
       "3               2.037807               542.590390                57.792734   \n",
       "4               1.786875               540.531893                56.047189   \n",
       "\n",
       "   rougher.input.feed_sol  rougher.input.feed_au  \\\n",
       "0               36.808594               6.486150   \n",
       "1               35.753385               6.478583   \n",
       "2               35.971630               6.362222   \n",
       "3               36.862241               6.118189   \n",
       "4               34.347666               5.663707   \n",
       "\n",
       "   rougher.input.floatbank10_sulfate  rougher.input.floatbank10_xanthate  \\\n",
       "0                          11.986616                            6.007990   \n",
       "1                          11.971193                            6.005766   \n",
       "2                          11.920603                            6.197377   \n",
       "3                          11.630094                            6.203177   \n",
       "4                          10.957755                            6.198826   \n",
       "\n",
       "   rougher.input.floatbank11_sulfate  rougher.input.floatbank11_xanthate  \\\n",
       "0                          11.836743                            6.005818   \n",
       "1                          11.996163                            6.012594   \n",
       "2                          11.920305                            6.204633   \n",
       "3                          11.692450                            6.196578   \n",
       "4                          10.960521                            6.194897   \n",
       "\n",
       "   rougher.output.concentrate_ag  rougher.output.concentrate_pb  \\\n",
       "0                      11.500771                       7.101074   \n",
       "1                      11.615865                       7.278807   \n",
       "2                      11.695753                       7.216833   \n",
       "3                      11.915047                       7.175616   \n",
       "4                      12.411054                       7.240205   \n",
       "\n",
       "   rougher.output.concentrate_sol  rougher.output.concentrate_au  \\\n",
       "0                       28.029297                      19.793808   \n",
       "1                       28.067063                      20.050975   \n",
       "2                       27.454037                      19.737170   \n",
       "3                       27.341277                      19.320810   \n",
       "4                       27.041023                      19.216101   \n",
       "\n",
       "   rougher.output.recovery  rougher.output.tail_ag  rougher.output.tail_pb  \\\n",
       "0                87.107763                5.008018                0.508728   \n",
       "1                86.843261                4.955378                0.536689   \n",
       "2                86.842308                4.843460                0.546416   \n",
       "3                87.226430                4.655288                0.542525   \n",
       "4                86.688794                4.552800                0.515438   \n",
       "\n",
       "   rougher.output.tail_sol  rougher.output.tail_au  \\\n",
       "0                19.154297                1.170244   \n",
       "1                18.965234                1.184827   \n",
       "2                18.808533                1.162562   \n",
       "3                19.330200                1.079755   \n",
       "4                19.267422                1.012642   \n",
       "\n",
       "   rougher.state.floatbank10_a_air  rougher.state.floatbank10_a_level  \\\n",
       "0                       999.706909                        -404.066986   \n",
       "1                      1000.286398                        -400.065196   \n",
       "2                       999.719565                        -400.074028   \n",
       "3                       999.814770                        -400.200179   \n",
       "4                       999.678690                        -399.752729   \n",
       "\n",
       "   rougher.state.floatbank10_b_air  rougher.state.floatbank10_b_level  \\\n",
       "0                      1603.011353                        -434.715027   \n",
       "1                      1600.754587                        -449.953435   \n",
       "2                      1599.337330                        -450.008530   \n",
       "3                      1600.059442                        -450.619948   \n",
       "4                      1600.208824                        -449.599614   \n",
       "\n",
       "   rougher.state.floatbank10_c_air  rougher.state.floatbank10_c_level  \\\n",
       "0                      1602.375000                        -442.204468   \n",
       "1                      1600.479580                        -449.830646   \n",
       "2                      1599.672797                        -449.954491   \n",
       "3                      1600.012842                        -449.910497   \n",
       "4                      1600.357732                        -450.034364   \n",
       "\n",
       "   rougher.state.floatbank10_d_air  rougher.state.floatbank10_d_level  \\\n",
       "0                      1598.937256                        -451.294128   \n",
       "1                      1600.527589                        -449.953649   \n",
       "2                      1599.849325                        -449.954185   \n",
       "3                      1597.725177                        -450.130127   \n",
       "4                      1599.759049                        -449.909799   \n",
       "\n",
       "   rougher.state.floatbank10_e_air  rougher.state.floatbank10_e_level  \\\n",
       "0                      1404.472046                        -455.462982   \n",
       "1                      1399.227084                        -450.869848   \n",
       "2                      1399.180945                        -449.937588   \n",
       "3                      1400.943157                        -450.030142   \n",
       "4                      1401.560902                        -448.877187   \n",
       "\n",
       "   rougher.state.floatbank10_f_air  rougher.state.floatbank10_f_level  \\\n",
       "0                      1416.354980                        -451.939636   \n",
       "1                      1399.719514                        -450.119001   \n",
       "2                      1400.316682                        -450.527147   \n",
       "3                      1400.234743                        -449.790835   \n",
       "4                      1401.160227                        -450.407128   \n",
       "\n",
       "   secondary_cleaner.output.tail_ag  secondary_cleaner.output.tail_pb  \\\n",
       "0                         14.500184                          4.694824   \n",
       "1                         14.265474                          4.592547   \n",
       "2                         14.115662                          4.624775   \n",
       "3                         13.732071                          4.482453   \n",
       "4                         14.079996                          4.470737   \n",
       "\n",
       "   secondary_cleaner.output.tail_sol  secondary_cleaner.output.tail_au  \\\n",
       "0                           8.764648                          2.606185   \n",
       "1                           9.001494                          2.488248   \n",
       "2                           8.842896                          2.458187   \n",
       "3                           9.122857                          2.322062   \n",
       "4                           8.871028                          2.330448   \n",
       "\n",
       "   secondary_cleaner.state.floatbank2_a_air  \\\n",
       "0                                 25.853109   \n",
       "1                                 25.880539   \n",
       "2                                 26.005245   \n",
       "3                                 25.942508   \n",
       "4                                 26.024787   \n",
       "\n",
       "   secondary_cleaner.state.floatbank2_a_level  \\\n",
       "0                                 -498.526489   \n",
       "1                                 -499.989656   \n",
       "2                                 -499.929616   \n",
       "3                                 -499.176749   \n",
       "4                                 -500.279091   \n",
       "\n",
       "   secondary_cleaner.state.floatbank2_b_air  \\\n",
       "0                                 23.893660   \n",
       "1                                 23.889530   \n",
       "2                                 23.886657   \n",
       "3                                 23.955516   \n",
       "4                                 23.955345   \n",
       "\n",
       "   secondary_cleaner.state.floatbank2_b_level  \\\n",
       "0                                 -501.406281   \n",
       "1                                 -500.372428   \n",
       "2                                 -499.951928   \n",
       "3                                 -499.848796   \n",
       "4                                 -500.593614   \n",
       "\n",
       "   secondary_cleaner.state.floatbank3_a_air  \\\n",
       "0                                 23.961798   \n",
       "1                                 23.970550   \n",
       "2                                 23.913535   \n",
       "3                                 23.966838   \n",
       "4                                 23.985703   \n",
       "\n",
       "   secondary_cleaner.state.floatbank3_a_level  \\\n",
       "0                                 -495.262817   \n",
       "1                                 -500.085473   \n",
       "2                                 -499.442343   \n",
       "3                                 -500.008812   \n",
       "4                                 -500.083811   \n",
       "\n",
       "   secondary_cleaner.state.floatbank3_b_air  \\\n",
       "0                                 21.940409   \n",
       "1                                 22.085714   \n",
       "2                                 23.957717   \n",
       "3                                 23.954443   \n",
       "4                                 23.958945   \n",
       "\n",
       "   secondary_cleaner.state.floatbank3_b_level  \\\n",
       "0                                 -499.340973   \n",
       "1                                 -499.446897   \n",
       "2                                 -499.901982   \n",
       "3                                 -499.944710   \n",
       "4                                 -499.990309   \n",
       "\n",
       "   secondary_cleaner.state.floatbank4_a_air  \\\n",
       "0                                 14.016835   \n",
       "1                                 13.992281   \n",
       "2                                 14.015015   \n",
       "3                                 14.036510   \n",
       "4                                 14.027298   \n",
       "\n",
       "   secondary_cleaner.state.floatbank4_a_level  \\\n",
       "0                                 -502.488007   \n",
       "1                                 -505.503262   \n",
       "2                                 -502.520901   \n",
       "3                                 -500.857308   \n",
       "4                                 -499.838632   \n",
       "\n",
       "   secondary_cleaner.state.floatbank4_b_air  \\\n",
       "0                                 12.099931   \n",
       "1                                 11.950531   \n",
       "2                                 11.912783   \n",
       "3                                 11.999550   \n",
       "4                                 11.953070   \n",
       "\n",
       "   secondary_cleaner.state.floatbank4_b_level  \\\n",
       "0                                 -504.715942   \n",
       "1                                 -501.331529   \n",
       "2                                 -501.133383   \n",
       "3                                 -501.193686   \n",
       "4                                 -501.053894   \n",
       "\n",
       "   secondary_cleaner.state.floatbank5_a_air  \\\n",
       "0                                  9.925633   \n",
       "1                                 10.039245   \n",
       "2                                 10.070913   \n",
       "3                                  9.970366   \n",
       "4                                  9.925709   \n",
       "\n",
       "   secondary_cleaner.state.floatbank5_a_level  \\\n",
       "0                                 -498.310211   \n",
       "1                                 -500.169983   \n",
       "2                                 -500.129135   \n",
       "3                                 -499.201640   \n",
       "4                                 -501.686727   \n",
       "\n",
       "   secondary_cleaner.state.floatbank5_b_air  \\\n",
       "0                                  8.079666   \n",
       "1                                  7.984757   \n",
       "2                                  8.013877   \n",
       "3                                  7.977324   \n",
       "4                                  7.894242   \n",
       "\n",
       "   secondary_cleaner.state.floatbank5_b_level  \\\n",
       "0                                 -500.470978   \n",
       "1                                 -500.582168   \n",
       "2                                 -500.517572   \n",
       "3                                 -500.255908   \n",
       "4                                 -500.356035   \n",
       "\n",
       "   secondary_cleaner.state.floatbank6_a_air  \\\n",
       "0                                 14.151341   \n",
       "1                                 13.998353   \n",
       "2                                 14.028663   \n",
       "3                                 14.005551   \n",
       "4                                 13.996647   \n",
       "\n",
       "   secondary_cleaner.state.floatbank6_a_level  \n",
       "0                                 -605.841980  \n",
       "1                                 -599.787184  \n",
       "2                                 -601.427363  \n",
       "3                                 -599.996129  \n",
       "4                                 -601.496691  "
      ]
     },
     "metadata": {},
     "output_type": "display_data"
    }
   ],
   "source": [
    "display(train.head())\n",
    "display(test.head())\n",
    "display(full.head())"
   ]
  },
  {
   "cell_type": "markdown",
   "metadata": {
    "scrolled": false
   },
   "source": [
    "Теперь посмотрим на кол-во пропусков"
   ]
  },
  {
   "cell_type": "code",
   "execution_count": 7,
   "metadata": {
    "scrolled": true
   },
   "outputs": [
    {
     "name": "stdout",
     "output_type": "stream",
     "text": [
      "Колличество пропусков в тестовой выборке: 90\n",
      "Колличество пропусков в обучающей выборке: 4100\n",
      "Колличество пропусков в полной выборке: 4481\n"
     ]
    }
   ],
   "source": [
    "print('Колличество пропусков в тестовой выборке:', test.isnull().sum().sum())\n",
    "print('Колличество пропусков в обучающей выборке:', train.isnull().sum().sum())\n",
    "print('Колличество пропусков в полной выборке:', full.isnull().sum().sum())"
   ]
  },
  {
   "cell_type": "markdown",
   "metadata": {},
   "source": [
    "Приведем дату в колонках date к формату datetime во всех 3х датасетах"
   ]
  },
  {
   "cell_type": "code",
   "execution_count": 8,
   "metadata": {},
   "outputs": [
    {
     "data": {
      "text/plain": [
       "date                                          datetime64[ns]\n",
       "final.output.concentrate_ag                          float64\n",
       "final.output.concentrate_pb                          float64\n",
       "final.output.concentrate_sol                         float64\n",
       "final.output.concentrate_au                          float64\n",
       "                                                   ...      \n",
       "secondary_cleaner.state.floatbank5_a_level           float64\n",
       "secondary_cleaner.state.floatbank5_b_air             float64\n",
       "secondary_cleaner.state.floatbank5_b_level           float64\n",
       "secondary_cleaner.state.floatbank6_a_air             float64\n",
       "secondary_cleaner.state.floatbank6_a_level           float64\n",
       "Length: 87, dtype: object"
      ]
     },
     "execution_count": 8,
     "metadata": {},
     "output_type": "execute_result"
    }
   ],
   "source": [
    "train['date'] = pd.to_datetime(train['date'], format='%Y-%m-%d %H:%M:%S')\n",
    "train.dtypes"
   ]
  },
  {
   "cell_type": "code",
   "execution_count": 9,
   "metadata": {},
   "outputs": [
    {
     "data": {
      "text/plain": [
       "date                                          datetime64[ns]\n",
       "primary_cleaner.input.sulfate                        float64\n",
       "primary_cleaner.input.depressant                     float64\n",
       "primary_cleaner.input.feed_size                      float64\n",
       "primary_cleaner.input.xanthate                       float64\n",
       "primary_cleaner.state.floatbank8_a_air               float64\n",
       "primary_cleaner.state.floatbank8_a_level             float64\n",
       "primary_cleaner.state.floatbank8_b_air               float64\n",
       "primary_cleaner.state.floatbank8_b_level             float64\n",
       "primary_cleaner.state.floatbank8_c_air               float64\n",
       "primary_cleaner.state.floatbank8_c_level             float64\n",
       "primary_cleaner.state.floatbank8_d_air               float64\n",
       "primary_cleaner.state.floatbank8_d_level             float64\n",
       "rougher.input.feed_ag                                float64\n",
       "rougher.input.feed_pb                                float64\n",
       "rougher.input.feed_rate                              float64\n",
       "rougher.input.feed_size                              float64\n",
       "rougher.input.feed_sol                               float64\n",
       "rougher.input.feed_au                                float64\n",
       "rougher.input.floatbank10_sulfate                    float64\n",
       "rougher.input.floatbank10_xanthate                   float64\n",
       "rougher.input.floatbank11_sulfate                    float64\n",
       "rougher.input.floatbank11_xanthate                   float64\n",
       "rougher.state.floatbank10_a_air                      float64\n",
       "rougher.state.floatbank10_a_level                    float64\n",
       "rougher.state.floatbank10_b_air                      float64\n",
       "rougher.state.floatbank10_b_level                    float64\n",
       "rougher.state.floatbank10_c_air                      float64\n",
       "rougher.state.floatbank10_c_level                    float64\n",
       "rougher.state.floatbank10_d_air                      float64\n",
       "rougher.state.floatbank10_d_level                    float64\n",
       "rougher.state.floatbank10_e_air                      float64\n",
       "rougher.state.floatbank10_e_level                    float64\n",
       "rougher.state.floatbank10_f_air                      float64\n",
       "rougher.state.floatbank10_f_level                    float64\n",
       "secondary_cleaner.state.floatbank2_a_air             float64\n",
       "secondary_cleaner.state.floatbank2_a_level           float64\n",
       "secondary_cleaner.state.floatbank2_b_air             float64\n",
       "secondary_cleaner.state.floatbank2_b_level           float64\n",
       "secondary_cleaner.state.floatbank3_a_air             float64\n",
       "secondary_cleaner.state.floatbank3_a_level           float64\n",
       "secondary_cleaner.state.floatbank3_b_air             float64\n",
       "secondary_cleaner.state.floatbank3_b_level           float64\n",
       "secondary_cleaner.state.floatbank4_a_air             float64\n",
       "secondary_cleaner.state.floatbank4_a_level           float64\n",
       "secondary_cleaner.state.floatbank4_b_air             float64\n",
       "secondary_cleaner.state.floatbank4_b_level           float64\n",
       "secondary_cleaner.state.floatbank5_a_air             float64\n",
       "secondary_cleaner.state.floatbank5_a_level           float64\n",
       "secondary_cleaner.state.floatbank5_b_air             float64\n",
       "secondary_cleaner.state.floatbank5_b_level           float64\n",
       "secondary_cleaner.state.floatbank6_a_air             float64\n",
       "secondary_cleaner.state.floatbank6_a_level           float64\n",
       "dtype: object"
      ]
     },
     "execution_count": 9,
     "metadata": {},
     "output_type": "execute_result"
    }
   ],
   "source": [
    "test['date'] = pd.to_datetime(test['date'], format='%Y-%m-%d %H:%M:%S')\n",
    "test.dtypes"
   ]
  },
  {
   "cell_type": "code",
   "execution_count": 10,
   "metadata": {},
   "outputs": [
    {
     "data": {
      "text/plain": [
       "date                                          datetime64[ns]\n",
       "final.output.concentrate_ag                          float64\n",
       "final.output.concentrate_pb                          float64\n",
       "final.output.concentrate_sol                         float64\n",
       "final.output.concentrate_au                          float64\n",
       "                                                   ...      \n",
       "secondary_cleaner.state.floatbank5_a_level           float64\n",
       "secondary_cleaner.state.floatbank5_b_air             float64\n",
       "secondary_cleaner.state.floatbank5_b_level           float64\n",
       "secondary_cleaner.state.floatbank6_a_air             float64\n",
       "secondary_cleaner.state.floatbank6_a_level           float64\n",
       "Length: 87, dtype: object"
      ]
     },
     "execution_count": 10,
     "metadata": {},
     "output_type": "execute_result"
    }
   ],
   "source": [
    "full['date'] = pd.to_datetime(full['date'], format='%Y-%m-%d %H:%M:%S')\n",
    "full.dtypes"
   ]
  },
  {
   "cell_type": "markdown",
   "metadata": {},
   "source": [
    "Теперь заменим пропуски. Решил выбрать метод interpolate с параметром polynomial. Она наиболее плавная и дает наименьшее отклонение."
   ]
  },
  {
   "cell_type": "code",
   "execution_count": 11,
   "metadata": {},
   "outputs": [],
   "source": [
    "train = train.interpolate(method='polynomial', order=2)\n",
    "test = test.interpolate(method='polynomial', order=2)"
   ]
  },
  {
   "cell_type": "markdown",
   "metadata": {},
   "source": [
    "Проверяем, остались ли пропуски."
   ]
  },
  {
   "cell_type": "code",
   "execution_count": 12,
   "metadata": {},
   "outputs": [
    {
     "name": "stdout",
     "output_type": "stream",
     "text": [
      "Колличество пропусков в тестовой выборке: 0\n",
      "Колличество пропусков в обучающей выборке: 0\n"
     ]
    }
   ],
   "source": [
    "print('Колличество пропусков в тестовой выборке:', test.isnull().sum().sum())\n",
    "print('Колличество пропусков в обучающей выборке:', train.isnull().sum().sum())"
   ]
  },
  {
   "cell_type": "code",
   "execution_count": 13,
   "metadata": {},
   "outputs": [
    {
     "data": {
      "text/plain": [
       "0"
      ]
     },
     "execution_count": 13,
     "metadata": {},
     "output_type": "execute_result"
    }
   ],
   "source": [
    "# проверяем, есть ли в данных дубликаты\n",
    "train.duplicated().sum()"
   ]
  },
  {
   "cell_type": "code",
   "execution_count": 14,
   "metadata": {},
   "outputs": [
    {
     "data": {
      "text/plain": [
       "0"
      ]
     },
     "execution_count": 14,
     "metadata": {},
     "output_type": "execute_result"
    }
   ],
   "source": [
    "# проверяем, есть ли в данных дубликаты\n",
    "test.duplicated().sum()"
   ]
  },
  {
   "cell_type": "code",
   "execution_count": 15,
   "metadata": {},
   "outputs": [
    {
     "data": {
      "text/plain": [
       "0"
      ]
     },
     "execution_count": 15,
     "metadata": {},
     "output_type": "execute_result"
    }
   ],
   "source": [
    "# проверяем, есть ли в данных дубликаты\n",
    "full.duplicated().sum()"
   ]
  },
  {
   "cell_type": "markdown",
   "metadata": {},
   "source": [
    "Проверим, что эффективность обогащения рассчитана правильно. Вычислим её на обучающей выборке для признака rougher.output.recovery. Далее найдем MAE между расчётами и значением признака. "
   ]
  },
  {
   "cell_type": "code",
   "execution_count": 16,
   "metadata": {},
   "outputs": [
    {
     "name": "stdout",
     "output_type": "stream",
     "text": [
      "MAE= 9.73512347450521e-15\n"
     ]
    }
   ],
   "source": [
    "C = train['rougher.output.concentrate_au']\n",
    "F = train['rougher.input.feed_au']\n",
    "T = train['rougher.output.tail_au']\n",
    "\n",
    "train.dropna(subset = ['rougher.output.recovery'], inplace = True) #избавимся от пропусков в столбце rougher.output.recovery\n",
    "\n",
    "recovery = (C * (F - T)) / (F * (C - T)) * 100\n",
    "old_recovery = train['rougher.output.recovery']\n",
    "\n",
    "mae = mean_absolute_error(old_recovery, recovery)\n",
    "print('MAE=', mae)"
   ]
  },
  {
   "cell_type": "markdown",
   "metadata": {},
   "source": [
    "Среднее абсолютное отклонение мало. Различий между данными нет, можно смело считать, что рассчеты верны."
   ]
  },
  {
   "cell_type": "markdown",
   "metadata": {},
   "source": [
    "Проанализируем признаки, отсутствующие в тестовой выборке"
   ]
  },
  {
   "cell_type": "code",
   "execution_count": 17,
   "metadata": {},
   "outputs": [
    {
     "name": "stdout",
     "output_type": "stream",
     "text": [
      "(14149, 87)\n",
      "(5290, 53)\n"
     ]
    }
   ],
   "source": [
    "print(train.shape)\n",
    "print(test.shape)"
   ]
  },
  {
   "cell_type": "code",
   "execution_count": 18,
   "metadata": {},
   "outputs": [
    {
     "data": {
      "text/plain": [
       "34"
      ]
     },
     "execution_count": 18,
     "metadata": {},
     "output_type": "execute_result"
    }
   ],
   "source": [
    "train.shape[1] - test.shape[1]"
   ]
  },
  {
   "cell_type": "markdown",
   "metadata": {},
   "source": [
    "Посмотрим, каких колонок не хватает в тестовом датафрейме."
   ]
  },
  {
   "cell_type": "code",
   "execution_count": 19,
   "metadata": {},
   "outputs": [
    {
     "data": {
      "text/plain": [
       "{'final.output.concentrate_ag',\n",
       " 'final.output.concentrate_au',\n",
       " 'final.output.concentrate_pb',\n",
       " 'final.output.concentrate_sol',\n",
       " 'final.output.recovery',\n",
       " 'final.output.tail_ag',\n",
       " 'final.output.tail_au',\n",
       " 'final.output.tail_pb',\n",
       " 'final.output.tail_sol',\n",
       " 'primary_cleaner.output.concentrate_ag',\n",
       " 'primary_cleaner.output.concentrate_au',\n",
       " 'primary_cleaner.output.concentrate_pb',\n",
       " 'primary_cleaner.output.concentrate_sol',\n",
       " 'primary_cleaner.output.tail_ag',\n",
       " 'primary_cleaner.output.tail_au',\n",
       " 'primary_cleaner.output.tail_pb',\n",
       " 'primary_cleaner.output.tail_sol',\n",
       " 'rougher.calculation.au_pb_ratio',\n",
       " 'rougher.calculation.floatbank10_sulfate_to_au_feed',\n",
       " 'rougher.calculation.floatbank11_sulfate_to_au_feed',\n",
       " 'rougher.calculation.sulfate_to_au_concentrate',\n",
       " 'rougher.output.concentrate_ag',\n",
       " 'rougher.output.concentrate_au',\n",
       " 'rougher.output.concentrate_pb',\n",
       " 'rougher.output.concentrate_sol',\n",
       " 'rougher.output.recovery',\n",
       " 'rougher.output.tail_ag',\n",
       " 'rougher.output.tail_au',\n",
       " 'rougher.output.tail_pb',\n",
       " 'rougher.output.tail_sol',\n",
       " 'secondary_cleaner.output.tail_ag',\n",
       " 'secondary_cleaner.output.tail_au',\n",
       " 'secondary_cleaner.output.tail_pb',\n",
       " 'secondary_cleaner.output.tail_sol'}"
      ]
     },
     "execution_count": 19,
     "metadata": {},
     "output_type": "execute_result"
    }
   ],
   "source": [
    "missing_columns = set(train.columns) - set(test.columns)\n",
    "missing_columns"
   ]
  },
  {
   "cell_type": "markdown",
   "metadata": {},
   "source": [
    "Мы видим, что в тестовой выборке отсутствуют данные по всем этапы получения золотой руды:\n",
    "- флотация:\n",
    "       'rougher.calculation.sulfate_to_au_concentrate',\n",
    "       'rougher.calculation.floatbank10_sulfate_to_au_feed',\n",
    "       'rougher.calculation.floatbank11_sulfate_to_au_feed',\n",
    "       'rougher.calculation.au_pb_ratio', 'rougher.output.concentrate_ag',\n",
    "       'rougher.output.concentrate_pb', 'rougher.output.concentrate_sol',\n",
    "       'rougher.output.concentrate_au', 'rougher.output.recovery',\n",
    "       'rougher.output.tail_ag', 'rougher.output.tail_pb',\n",
    "       'rougher.output.tail_sol', 'rougher.output.tail_au'\n",
    "- первичная очистка:\n",
    "       'primary_cleaner.output.concentrate_ag',\n",
    "       'primary_cleaner.output.concentrate_pb',\n",
    "       'primary_cleaner.output.concentrate_sol',\n",
    "       'primary_cleaner.output.concentrate_au',\n",
    "       'primary_cleaner.output.tail_ag', 'primary_cleaner.output.tail_pb',\n",
    "       'primary_cleaner.output.tail_sol', 'primary_cleaner.output.tail_au',\n",
    "       'rougher.calculation.sulfate_to_au_concentrate'\n",
    "- вторичная очистка:\n",
    "       'secondary_cleaner.output.tail_ag', 'secondary_cleaner.output.tail_pb',\n",
    "       'secondary_cleaner.output.tail_sol',\n",
    "       'secondary_cleaner.output.tail_au']\n",
    "- финальные характеристики:\n",
    "       'final.output.concentrate_ag', 'final.output.concentrate_pb',\n",
    "       'final.output.concentrate_sol', 'final.output.concentrate_au',\n",
    "       'final.output.recovery', 'final.output.tail_ag', 'final.output.tail_pb',\n",
    "       'final.output.tail_sol', 'final.output.tail_au'\n",
    "Тип данных float64"
   ]
  },
  {
   "cell_type": "markdown",
   "metadata": {},
   "source": [
    "В тестовой выборке всего 53 признака, два из них - целевые. Исходя из условия задачи, это rougher.output.recovery и final.output.recovery. Они будут нужны для расчета метрики качества. Добавим их в тестовую выборку, используя метод merge, в качестве индексов используем колонку date. В условии сказано, что данные индексируются датой и временем получения информации."
   ]
  },
  {
   "cell_type": "code",
   "execution_count": 20,
   "metadata": {},
   "outputs": [],
   "source": [
    "test = test.merge(full.loc[:, ['date','rougher.output.recovery','final.output.recovery']], on='date')"
   ]
  },
  {
   "cell_type": "markdown",
   "metadata": {},
   "source": [
    "Думаю, что теперь можно удалить колонку date, т.к. она никакой роли не сыграет в дальнейшем обучении модели."
   ]
  },
  {
   "cell_type": "code",
   "execution_count": 21,
   "metadata": {},
   "outputs": [],
   "source": [
    "train = train.drop('date', axis=1)\n",
    "test = test.drop('date', axis=1)"
   ]
  },
  {
   "cell_type": "markdown",
   "metadata": {},
   "source": [
    "## Анализ данных"
   ]
  },
  {
   "cell_type": "markdown",
   "metadata": {},
   "source": [
    "Посмотрим, как меняется концентрация металлов (Au, Ag, Pb) на различных этапах очистки."
   ]
  },
  {
   "cell_type": "code",
   "execution_count": 22,
   "metadata": {},
   "outputs": [],
   "source": [
    "#создадим датасет с данными для золота\n",
    "df_au = (full[[\n",
    "    'rougher.input.feed_au', \n",
    "    'rougher.output.concentrate_au', \n",
    "    'primary_cleaner.output.concentrate_au', \n",
    "    'final.output.concentrate_au']].copy())"
   ]
  },
  {
   "cell_type": "code",
   "execution_count": 23,
   "metadata": {},
   "outputs": [],
   "source": [
    "#создадим датасет с данными для серебра\n",
    "df_ag = (full[[\n",
    "    'rougher.input.feed_ag', \n",
    "    'rougher.output.concentrate_ag', \n",
    "    'primary_cleaner.output.concentrate_ag', \n",
    "    'final.output.concentrate_ag']].copy())"
   ]
  },
  {
   "cell_type": "code",
   "execution_count": 24,
   "metadata": {},
   "outputs": [],
   "source": [
    "#создадим датасет с данными для свинца\n",
    "df_pb = (full[[\n",
    "    'rougher.input.feed_pb', \n",
    "    'rougher.output.concentrate_pb', \n",
    "    'primary_cleaner.output.concentrate_pb', \n",
    "    'final.output.concentrate_pb']].copy())"
   ]
  },
  {
   "cell_type": "code",
   "execution_count": 25,
   "metadata": {},
   "outputs": [],
   "source": [
    "#теперь напишем функцию, которая будет рисовать данные всех четырех стадий на одном графике\n",
    "def draw (data, title):\n",
    "    fig, ax = plt.subplots(figsize=(10,7))\n",
    "    ax.set_ylabel('Количество наблюдений')\n",
    "    ax.set_xlabel('Концентрация металла')\n",
    "    ax.set_title(title)\n",
    "    for col in data:\n",
    "        data[col].hist(alpha=.5) \n",
    "        ax.legend(['Исходное сырье','Флотация','Первичная очистка', 'Вторичная очистка'])"
   ]
  },
  {
   "cell_type": "code",
   "execution_count": 26,
   "metadata": {},
   "outputs": [
    {
     "data": {
      "image/png": "[encoded data removed]",
      "text/plain": [
       "<Figure size 720x504 with 1 Axes>"
      ]
     },
     "metadata": {
      "needs_background": "light"
     },
     "output_type": "display_data"
    }
   ],
   "source": [
    "draw(df_au, 'Золото (Au)')"
   ]
  },
  {
   "cell_type": "code",
   "execution_count": 27,
   "metadata": {},
   "outputs": [
    {
     "data": {
      "image/png": "[encoded data removed]",
      "text/plain": [
       "<Figure size 720x504 with 1 Axes>"
      ]
     },
     "metadata": {
      "needs_background": "light"
     },
     "output_type": "display_data"
    }
   ],
   "source": [
    "draw(df_ag, 'Серебро (Ag)')"
   ]
  },
  {
   "cell_type": "code",
   "execution_count": 28,
   "metadata": {},
   "outputs": [
    {
     "data": {
      "image/png": "[encoded data removed]",
      "text/plain": [
       "<Figure size 720x504 with 1 Axes>"
      ]
     },
     "metadata": {
      "needs_background": "light"
     },
     "output_type": "display_data"
    }
   ],
   "source": [
    "draw(df_pb, 'Свинец (Pb)')"
   ]
  },
  {
   "cell_type": "markdown",
   "metadata": {},
   "source": [
    "Как видно из графиков, после флотации увеличивается кол-во содержания золота, серебра и свинца, после первичной очистки увеличивается кол-во золота, а кол-во серебра и свинца уменьшается, а после вторичной очистки также наблюдается увеличение кол-ва золота, серебра и свинца"
   ]
  },
  {
   "cell_type": "markdown",
   "metadata": {},
   "source": [
    "Сравним распределения размеров гранул сырья на обучающей и тестовой выборках. Судя по полученной ранее информации, у нас есть два признака с параметром feed_size, это rougher.input.feed_size и primary_cleaner.input.feed_size."
   ]
  },
  {
   "cell_type": "markdown",
   "metadata": {},
   "source": [
    "Сначала для признака rougher.input.feed_size"
   ]
  },
  {
   "cell_type": "code",
   "execution_count": 29,
   "metadata": {
    "scrolled": false
   },
   "outputs": [
    {
     "data": {
      "text/plain": [
       "Text(0, 0.5, 'соотношение')"
      ]
     },
     "execution_count": 29,
     "metadata": {},
     "output_type": "execute_result"
    },
    {
     "data": {
      "image/png": "[encoded data removed]",
      "text/plain": [
       "<Figure size 1080x720 with 1 Axes>"
      ]
     },
     "metadata": {
      "needs_background": "light"
     },
     "output_type": "display_data"
    }
   ],
   "source": [
    "test['rougher.input.feed_size'].hist(figsize=(15, 10), bins=60, alpha=1, density=True, color = \"purple\")\n",
    "train['rougher.input.feed_size'].hist(figsize=(15, 10), bins=60, alpha=0.5, density=True, color = \"gold\")\n",
    "plt.legend(['тестовая выборка', 'обучающая выборка'])\n",
    "plt.title('Распределения размеров гранул сырья')\n",
    "plt.xlabel('размер')\n",
    "plt.ylabel('соотношение')"
   ]
  },
  {
   "cell_type": "markdown",
   "metadata": {},
   "source": [
    "Теперь для признака 'primary_cleaner.input.feed_size'"
   ]
  },
  {
   "cell_type": "code",
   "execution_count": 30,
   "metadata": {},
   "outputs": [
    {
     "data": {
      "text/plain": [
       "Text(0, 0.5, 'соотношение')"
      ]
     },
     "execution_count": 30,
     "metadata": {},
     "output_type": "execute_result"
    },
    {
     "data": {
      "image/png": "[encoded data removed]",
      "text/plain": [
       "<Figure size 1080x720 with 1 Axes>"
      ]
     },
     "metadata": {
      "needs_background": "light"
     },
     "output_type": "display_data"
    }
   ],
   "source": [
    "test['primary_cleaner.input.feed_size'].hist(figsize=(15, 10), bins=60, alpha=1, density=True, color = \"purple\")\n",
    "train['primary_cleaner.input.feed_size'].hist(figsize=(15, 10), bins=60, alpha=0.5, density=True, color = \"gold\")\n",
    "plt.legend(['тестовая выборка', 'обучающая выборка'])\n",
    "plt.title('Распределения размеров гранул сырья')\n",
    "plt.xlabel('размер')\n",
    "plt.ylabel('соотношение')"
   ]
  },
  {
   "cell_type": "markdown",
   "metadata": {},
   "source": [
    "Распределения не сильно отличаются друг от друга, значит оценка модели будет правильной."
   ]
  },
  {
   "cell_type": "markdown",
   "metadata": {},
   "source": [
    "Исследуем суммарную концентрацию всех веществ на разных стадиях: в сырье, в черновом и финальном концентратах. "
   ]
  },
  {
   "cell_type": "code",
   "execution_count": 31,
   "metadata": {},
   "outputs": [],
   "source": [
    "#создадим датасет для сырья\n",
    "feed_concentrate = full['rougher.input.feed_ag'] + full['rougher.input.feed_pb'] +\\\n",
    "            full['rougher.input.feed_sol'] + full['rougher.input.feed_au']\n",
    "#создадим датасет для чернового концентрата\n",
    "rougher_concentrate = full['rougher.output.concentrate_ag'] + full['rougher.output.concentrate_pb'] +\\\n",
    "            full['rougher.output.concentrate_sol'] + full['rougher.output.concentrate_au']\n",
    "#создадим датасет для финального концентрата\n",
    "final_concentrate = full['final.output.concentrate_ag'] + full['final.output.concentrate_pb'] +\\\n",
    "            full['final.output.concentrate_sol'] + full['final.output.concentrate_au']"
   ]
  },
  {
   "cell_type": "code",
   "execution_count": 32,
   "metadata": {},
   "outputs": [
    {
     "data": {
      "text/plain": [
       "Text(0, 0.5, 'Соотношение')"
      ]
     },
     "execution_count": 32,
     "metadata": {},
     "output_type": "execute_result"
    },
    {
     "data": {
      "image/png": "[encoded data removed]",
      "text/plain": [
       "<Figure size 864x648 with 1 Axes>"
      ]
     },
     "metadata": {
      "needs_background": "light"
     },
     "output_type": "display_data"
    }
   ],
   "source": [
    "feed_concentrate.hist(figsize=(12, 9), bins=80, alpha=.5, density=True)\n",
    "rougher_concentrate.hist(figsize=(12, 9), bins=80, alpha=0.5, density=True)\n",
    "final_concentrate.hist(figsize=(12, 9), bins=80, alpha=0.5, density=True)\n",
    "plt.legend(['Сырьё', 'Черновой концентрат', 'Финальный концентрат'])\n",
    "plt.title('Суммарная концентрация всех веществ на разных стадиях')\n",
    "plt.xlabel('Концентрация')\n",
    "plt.ylabel('Соотношение')"
   ]
  },
  {
   "cell_type": "markdown",
   "metadata": {},
   "source": [
    "Мы видим, что аномальные значения где-то возле нуля. Удалим все, которые меньше или равны нулю, чтобы не мешали построению более точной модели."
   ]
  },
  {
   "cell_type": "code",
   "execution_count": 33,
   "metadata": {},
   "outputs": [],
   "source": [
    "full = full.query('@feed_concentrate >0 & @rougher_concentrate > 0 & @final_concentrate > 0')"
   ]
  },
  {
   "cell_type": "code",
   "execution_count": 34,
   "metadata": {},
   "outputs": [],
   "source": [
    "train = train.query('@feed_concentrate >0 & @rougher_concentrate > 0 & @final_concentrate > 0')"
   ]
  },
  {
   "cell_type": "markdown",
   "metadata": {},
   "source": [
    "Проверим, что получилось"
   ]
  },
  {
   "cell_type": "code",
   "execution_count": 35,
   "metadata": {},
   "outputs": [],
   "source": [
    "#создадим датасет для сырья после удаления значений\n",
    "feed_concentrate_2 = full['rougher.input.feed_ag'] + full['rougher.input.feed_pb'] +\\\n",
    "            full['rougher.input.feed_sol'] + full['rougher.input.feed_au']\n",
    "#создадим датасет для чернового концентрата после удаления значений\n",
    "rougher_concentrate_2 = full['rougher.output.concentrate_ag'] + full['rougher.output.concentrate_pb'] +\\\n",
    "            full['rougher.output.concentrate_sol'] + full['rougher.output.concentrate_au']\n",
    "#создадим датасет для финального концентрата после удаления значений\n",
    "final_concentrate_2 = full['final.output.concentrate_ag'] + full['final.output.concentrate_pb'] +\\\n",
    "            full['final.output.concentrate_sol'] + full['final.output.concentrate_au']"
   ]
  },
  {
   "cell_type": "code",
   "execution_count": 36,
   "metadata": {},
   "outputs": [
    {
     "data": {
      "text/plain": [
       "Text(0, 0.5, 'Соотношение')"
      ]
     },
     "execution_count": 36,
     "metadata": {},
     "output_type": "execute_result"
    },
    {
     "data": {
      "image/png": "[encoded data removed]",
      "text/plain": [
       "<Figure size 864x648 with 1 Axes>"
      ]
     },
     "metadata": {
      "needs_background": "light"
     },
     "output_type": "display_data"
    }
   ],
   "source": [
    "feed_concentrate_2.hist(figsize=(12, 9), bins=80, alpha=.5, density=True)\n",
    "rougher_concentrate_2.hist(figsize=(12, 9), bins=80, alpha=0.5, density=True)\n",
    "final_concentrate_2.hist(figsize=(12, 9), bins=80, alpha=0.5, density=True)\n",
    "plt.legend(['Сырьё', 'Черновой концентрат', 'Финальный концентрат'])\n",
    "plt.title('Суммарная концентрация всех веществ на разных стадиях')\n",
    "plt.xlabel('Концентрация')\n",
    "plt.ylabel('Соотношение')"
   ]
  },
  {
   "cell_type": "markdown",
   "metadata": {},
   "source": [
    "Видимых на графике аномалий больше нет."
   ]
  },
  {
   "cell_type": "markdown",
   "metadata": {},
   "source": [
    "Вывод:\n",
    "Проанализировали изменения концентрации металлов на разных этапах: как видно из графиков, на всех этапах (флотация, первичная и вторичная очистка) увеличивается кол-во содержания золота. Так же при флотации увеличивается кол-во серебра и свинца. После первичной очистки, кол-во серебра и свинца уменьшается. После вторичной очистки наблюдается увеличение серебра и свинца. Проанализировали распределения размеров гранул на обучающей и тестовой выборке: они распределяются с незначительными отличиями, что не влияет на оценку модели.\n",
    "Проанализировали суммарную концентрацию всех веществ на разных стадиях. Были обнаружены аномалии. Убрали найденные аномалии."
   ]
  },
  {
   "cell_type": "markdown",
   "metadata": {},
   "source": [
    "## Модель"
   ]
  },
  {
   "cell_type": "markdown",
   "metadata": {},
   "source": [
    "Думаю, что из тренировочной выборки нужно удалить отсутствующие в тестовой выборке признаки (за исключением целевых признаков). Ранее мы сохранили эти признаки в переменную missing_columns. Иначе, в ходе обучения моделей может произойти утечка целевого признака. Она происходит, когда в признаки попадает информация о целевом признаке."
   ]
  },
  {
   "cell_type": "code",
   "execution_count": 37,
   "metadata": {},
   "outputs": [],
   "source": [
    "signs_for_delete = missing_columns - set(['rougher.output.recovery','final.output.recovery'])"
   ]
  },
  {
   "cell_type": "code",
   "execution_count": 38,
   "metadata": {},
   "outputs": [],
   "source": [
    "#удаляем из трейна столбцы с признаками, которых нет в тесте\n",
    "train = train.drop(columns=signs_for_delete, axis = 1)"
   ]
  },
  {
   "cell_type": "markdown",
   "metadata": {},
   "source": [
    "Подготовим features и target для обучающей выборки"
   ]
  },
  {
   "cell_type": "code",
   "execution_count": 39,
   "metadata": {},
   "outputs": [],
   "source": [
    "# делим выборки на features и target\n",
    "features_train = train.drop(['rougher.output.recovery', 'final.output.recovery'], axis=1)\n",
    "target_train_rougher = train['rougher.output.recovery']#.reset_index(drop=True)\n",
    "target_train_final = train['final.output.recovery']#.reset_index(drop=True)"
   ]
  },
  {
   "cell_type": "markdown",
   "metadata": {},
   "source": [
    "Проверим, нет ли пропусков"
   ]
  },
  {
   "cell_type": "code",
   "execution_count": 40,
   "metadata": {},
   "outputs": [
    {
     "data": {
      "text/plain": [
       "'В features_train пропусков - 0'"
      ]
     },
     "metadata": {},
     "output_type": "display_data"
    },
    {
     "data": {
      "text/plain": [
       "'В target_train_rougher пропусков - 0'"
      ]
     },
     "metadata": {},
     "output_type": "display_data"
    },
    {
     "data": {
      "text/plain": [
       "'В target_final пропусков - 0'"
      ]
     },
     "metadata": {},
     "output_type": "display_data"
    }
   ],
   "source": [
    "display('В features_train пропусков - {0}'.format(features_train.isna().sum().sum())) \n",
    "display('В target_train_rougher пропусков - {0}'.format(target_train_rougher.isna().sum().sum())) \n",
    "display('В target_final пропусков - {0}'.format(target_train_final.isna().sum().sum()))"
   ]
  },
  {
   "cell_type": "markdown",
   "metadata": {},
   "source": [
    "Теперь апишем функцию для рассчета метрики качества модели - sMAPE"
   ]
  },
  {
   "cell_type": "code",
   "execution_count": 41,
   "metadata": {},
   "outputs": [],
   "source": [
    "def smape(target, predict):\n",
    "    smape = 2.0 * np.mean(np.abs(target - predict) / (np.abs(target) + np.abs(predict))) * 100\n",
    "    return smape"
   ]
  },
  {
   "cell_type": "markdown",
   "metadata": {},
   "source": [
    "Напишем функцию для рассчета итогового sMAPE"
   ]
  },
  {
   "cell_type": "code",
   "execution_count": 42,
   "metadata": {},
   "outputs": [],
   "source": [
    "smape_score = make_scorer(smape, greater_is_better=False)"
   ]
  },
  {
   "cell_type": "code",
   "execution_count": 43,
   "metadata": {},
   "outputs": [],
   "source": [
    "def smape_final (rougher, final):\n",
    "    smape_final = 0.25 * rougher + 0.75 * final\n",
    "    return smape_final"
   ]
  },
  {
   "cell_type": "markdown",
   "metadata": {},
   "source": [
    "Теперь укажем модели, на которых будем провеодить обучение. Это линейная регрессия, случайный лес и дерево решений."
   ]
  },
  {
   "cell_type": "code",
   "execution_count": 44,
   "metadata": {},
   "outputs": [],
   "source": [
    "model_lnr = LinearRegression()\n",
    "model_rfr = RandomForestRegressor(bootstrap=True, random_state=12345)\n",
    "model_dtr = DecisionTreeRegressor(random_state=12345)"
   ]
  },
  {
   "cell_type": "markdown",
   "metadata": {},
   "source": [
    "Напишем параметры в GridSearch для случайного леса и дерева решений"
   ]
  },
  {
   "cell_type": "code",
   "execution_count": 45,
   "metadata": {},
   "outputs": [],
   "source": [
    "params_rfr = {'n_estimators': range(1,20),\n",
    "              'max_depth': range(1,10),\n",
    "              }\n",
    "params_dtr = {'max_depth' : range(1,10),\n",
    "              }"
   ]
  },
  {
   "cell_type": "markdown",
   "metadata": {},
   "source": [
    "Теперь напишем кросс-валидацию для лин.регрессии и гридсёрч для леса и дерева"
   ]
  },
  {
   "cell_type": "code",
   "execution_count": 46,
   "metadata": {},
   "outputs": [],
   "source": [
    "cv_rougher_lnr = cross_val_score(model_lnr, features_train, target_train_rougher, cv = 4, scoring = smape_score)\n",
    "cv_final_lnr = cross_val_score(model_lnr, features_train, target_train_final, cv = 4, scoring = smape_score)\n",
    "grid_rougher_rfr = GridSearchCV(model_rfr,param_grid = params_rfr, cv = 3, verbose = 0, n_jobs = -1, scoring = smape_score)\n",
    "grid_final_rfr = GridSearchCV(model_rfr, param_grid = params_rfr, cv = 3, verbose = 0, n_jobs = -1, scoring = smape_score)\n",
    "grid_rougher_dtr = GridSearchCV(model_dtr,param_grid = params_dtr, cv = 3, verbose = 0, n_jobs = -1, scoring = smape_score)\n",
    "grid_final_dtr = GridSearchCV(model_dtr,param_grid = params_dtr, cv = 3, verbose = 0, n_jobs = -1, scoring = smape_score)"
   ]
  },
  {
   "cell_type": "markdown",
   "metadata": {},
   "source": [
    "Обучаем модель"
   ]
  },
  {
   "cell_type": "code",
   "execution_count": 47,
   "metadata": {},
   "outputs": [
    {
     "name": "stdout",
     "output_type": "stream",
     "text": [
      "CPU times: user 19min 37s, sys: 2.28 s, total: 19min 40s\n",
      "Wall time: 19min 41s\n"
     ]
    },
    {
     "data": {
      "text/plain": [
       "GridSearchCV(cv=3, estimator=DecisionTreeRegressor(random_state=12345),\n",
       "             n_jobs=-1, param_grid={'max_depth': range(1, 10)},\n",
       "             scoring=make_scorer(smape, greater_is_better=False))"
      ]
     },
     "execution_count": 47,
     "metadata": {},
     "output_type": "execute_result"
    }
   ],
   "source": [
    "%%time\n",
    "grid_rougher_rfr.fit(features_train, target_train_rougher)\n",
    "grid_final_rfr.fit(features_train,target_train_final)\n",
    "grid_rougher_dtr.fit(features_train, target_train_rougher)\n",
    "grid_final_dtr.fit(features_train,target_train_final)"
   ]
  },
  {
   "cell_type": "markdown",
   "metadata": {},
   "source": [
    "Выведем результаты"
   ]
  },
  {
   "cell_type": "code",
   "execution_count": 48,
   "metadata": {},
   "outputs": [
    {
     "name": "stdout",
     "output_type": "stream",
     "text": [
      "Лучшие модели\n",
      "RandomForestRegressor(max_depth=5, n_estimators=5, random_state=12345)\n",
      "RandomForestRegressor(max_depth=2, n_estimators=19, random_state=12345)\n",
      "DecisionTreeRegressor(max_depth=5, random_state=12345)\n",
      "DecisionTreeRegressor(max_depth=2, random_state=12345)\n"
     ]
    }
   ],
   "source": [
    "print(\"Лучшие модели\")\n",
    "print(grid_rougher_rfr.best_estimator_)\n",
    "print(grid_final_rfr.best_estimator_)\n",
    "print(grid_rougher_dtr.best_estimator_)\n",
    "print(grid_final_dtr.best_estimator_)"
   ]
  },
  {
   "cell_type": "markdown",
   "metadata": {},
   "source": [
    "Посчитаем sMAPE"
   ]
  },
  {
   "cell_type": "code",
   "execution_count": 49,
   "metadata": {},
   "outputs": [],
   "source": [
    "best_result_rougher_lnr = sum(cv_rougher_lnr)/len(cv_rougher_lnr)\n",
    "best_result_final_lnr = sum(cv_final_lnr)/len(cv_final_lnr)\n",
    "best_score_rougher_rfr = grid_rougher_rfr.best_score_\n",
    "best_score_final_rfr = grid_final_rfr.best_score_\n",
    "best_score_rougher_dtr = grid_rougher_dtr.best_score_\n",
    "best_score_final_dtr = grid_final_dtr.best_score_"
   ]
  },
  {
   "cell_type": "markdown",
   "metadata": {},
   "source": [
    "Выведем результаты"
   ]
  },
  {
   "cell_type": "code",
   "execution_count": 50,
   "metadata": {
    "scrolled": true
   },
   "outputs": [
    {
     "name": "stdout",
     "output_type": "stream",
     "text": [
      "rougher\n",
      "LinearRegression 13.340930891467746 RandomForest 11.07018049881828 DecisionTree 11.575203759163726\n",
      "final\n",
      "LinearRegression 12.717560861265532 RandomForest 10.471436453959369 DecisionTree 10.749297586009382\n"
     ]
    }
   ],
   "source": [
    "# Определяем лучшую модель для каждого целевого признака\n",
    "print(\"rougher\")\n",
    "print(\"LinearRegression\", best_result_rougher_lnr*-1, \"RandomForest\",best_score_rougher_rfr*-1,\"DecisionTree\",best_score_rougher_dtr*-1)\n",
    "print(\"final\")\n",
    "print(\"LinearRegression\", best_result_final_lnr*-1, \"RandomForest\",best_score_final_rfr*-1,\"DecisionTree\",best_score_final_dtr*-1)"
   ]
  },
  {
   "cell_type": "markdown",
   "metadata": {},
   "source": [
    "Как мы видим, лучше себя показала модель \"случайный лес\""
   ]
  },
  {
   "cell_type": "markdown",
   "metadata": {},
   "source": [
    "Теперь посчитаем финальные sMAPE для каждый модели"
   ]
  },
  {
   "cell_type": "markdown",
   "metadata": {},
   "source": [
    "Финальный sMAPE для LinearRegression"
   ]
  },
  {
   "cell_type": "code",
   "execution_count": 51,
   "metadata": {},
   "outputs": [
    {
     "data": {
      "text/plain": [
       "12.873403368816085"
      ]
     },
     "execution_count": 51,
     "metadata": {},
     "output_type": "execute_result"
    }
   ],
   "source": [
    "smape_final(best_result_rougher_lnr,best_result_final_lnr)*-1"
   ]
  },
  {
   "cell_type": "markdown",
   "metadata": {},
   "source": [
    "Финальный sMAPE для RandomForest"
   ]
  },
  {
   "cell_type": "code",
   "execution_count": 52,
   "metadata": {},
   "outputs": [
    {
     "data": {
      "text/plain": [
       "10.621122465174096"
      ]
     },
     "execution_count": 52,
     "metadata": {},
     "output_type": "execute_result"
    }
   ],
   "source": [
    "smape_final(best_score_rougher_rfr,best_score_final_rfr)*-1"
   ]
  },
  {
   "cell_type": "markdown",
   "metadata": {},
   "source": [
    "Финальный sMAPE для DecisionTree"
   ]
  },
  {
   "cell_type": "code",
   "execution_count": 53,
   "metadata": {},
   "outputs": [
    {
     "data": {
      "text/plain": [
       "10.955774129297968"
      ]
     },
     "execution_count": 53,
     "metadata": {},
     "output_type": "execute_result"
    }
   ],
   "source": [
    "smape_final(best_score_rougher_dtr,best_score_final_dtr)*-1"
   ]
  },
  {
   "cell_type": "markdown",
   "metadata": {},
   "source": [
    "Как мы видим, лучше всего себя показала модель \"случайный лес\". Теперь проверим ее на тестовой выборке."
   ]
  },
  {
   "cell_type": "code",
   "execution_count": 54,
   "metadata": {},
   "outputs": [],
   "source": [
    "# делим выборки на features и target\n",
    "features_test = test.drop(['rougher.output.recovery','final.output.recovery'], axis=1)\n",
    "target_test_rougher = test['rougher.output.recovery']\n",
    "target_test_final = test['final.output.recovery']"
   ]
  },
  {
   "cell_type": "markdown",
   "metadata": {},
   "source": [
    "Модель \"случайный лес\" с параметрами, которые показали себя лучше. Проверим ее качество."
   ]
  },
  {
   "cell_type": "code",
   "execution_count": 55,
   "metadata": {},
   "outputs": [
    {
     "name": "stdout",
     "output_type": "stream",
     "text": [
      "Итоговое sMAPE: 9.554985721990953\n"
     ]
    }
   ],
   "source": [
    "model_rfr_test_rougher = RandomForestRegressor(max_depth=5, n_estimators=5, random_state=12345)\n",
    "model_rfr_test_rougher.fit(features_train, target_train_rougher)\n",
    "predict_rougher = model_rfr_test_rougher.predict(features_test)\n",
    "smape_rfr_rougher = smape(target_test_rougher, predict_rougher)\n",
    "\n",
    "model_rfr_test_final = RandomForestRegressor(max_depth=2, n_estimators=19, random_state=12345)\n",
    "model_rfr_test_final.fit(features_train, target_train_final)\n",
    "predict_final = model_rfr_test_final.predict(features_test)\n",
    "smape_rfr_final = smape(target_test_final, predict_final)\n",
    "\n",
    "print('Итоговое sMAPE:', smape_final(smape_rfr_rougher, smape_rfr_final))"
   ]
  },
  {
   "cell_type": "markdown",
   "metadata": {},
   "source": [
    "Проверим качество модели. Для этого используем DummyRegressor."
   ]
  },
  {
   "cell_type": "code",
   "execution_count": 56,
   "metadata": {},
   "outputs": [
    {
     "data": {
      "text/plain": [
       "10.142948693565824"
      ]
     },
     "execution_count": 56,
     "metadata": {},
     "output_type": "execute_result"
    }
   ],
   "source": [
    "dummy_1 = DummyRegressor(strategy=\"mean\")\n",
    "dummy_2 = DummyRegressor(strategy=\"mean\")\n",
    "\n",
    "dummy_rougher = dummy_1.fit(features_train,target_train_rougher)\n",
    "dummy_rougher_pred = dummy_1.predict(features_test)\n",
    "\n",
    "dummy_final = dummy_2.fit(features_train,target_train_final)\n",
    "dummy_final_pred = dummy_2.predict(features_test)\n",
    "\n",
    "smape_dummy_rougher = smape(target_test_rougher, dummy_rougher_pred)\n",
    "smape_dummy_final = smape(target_test_final, dummy_final_pred)\n",
    "\n",
    "smape_final(smape_dummy_rougher, smape_dummy_final)"
   ]
  },
  {
   "cell_type": "markdown",
   "metadata": {},
   "source": [
    "Обученная модель показывает более точный результат, чем константная. Значит построенная модель адекватна."
   ]
  },
  {
   "cell_type": "markdown",
   "metadata": {},
   "source": [
    "### Вывод: \n",
    "В результате анализа датасетов, были замечены пропуски, которые заменили на соседние значения. Так же было выявлено, что в тестовом датасете меньше всего информации, в т.ч. отсутствовали целевые признаки, которые в дальнейшем были добавлены. \n",
    "Убедились, что эффективность обогащения рассчитана правильно. Для этого посчитали по формуле МАЕ.\n",
    "Для дальнейшего анализа были построены графики, наглядно удалось убедиться, что количество содержания золота увеличивается на всех этапах (флотация, первичная и вторичная очистка). Так же при флотации увеличивается кол-во серебра и свинца. После первичной очистки, кол-во серебра и свинца уменьшается. А после вторичной очистки наблюдается увеличение серебра и свинца. \n",
    "Проанализировали распределения размеров гранул на обучающей и тестовой выборке: они распределяются с незначительными отличиями, что не влияет на оценку модели. Проанализировали суммарную концентрацию всех веществ на разных стадиях. Были обнаружены аномалии. Убрали найденные аномалии.\n",
    "Далее были подготовлены данные для обучения моделей. Написана функция по посчету sMAPE. В результате обучения 3х моделей (Линейная регрессия, Случайный лес и Дерево решений) выбрали лучшую модель - Случайный лес.Проверили эту модель на тестовой выборке и сравнили с константной моделью. Убедились, что обученная модель показала более точный результат."
   ]
  }
 ],
 "metadata": {
  "ExecuteTimeLog": [
   {
    "duration": 397,
    "start_time": "2023-01-16T07:15:07.796Z"
   },
   {
    "duration": 3089,
    "start_time": "2023-01-16T07:30:04.934Z"
   },
   {
    "duration": 16,
    "start_time": "2023-01-16T07:35:56.679Z"
   },
   {
    "duration": 67,
    "start_time": "2023-01-16T07:46:25.177Z"
   },
   {
    "duration": 639,
    "start_time": "2023-01-16T07:46:27.315Z"
   },
   {
    "duration": 18,
    "start_time": "2023-01-16T07:46:28.640Z"
   },
   {
    "duration": 27,
    "start_time": "2023-01-16T07:57:31.641Z"
   },
   {
    "duration": 2,
    "start_time": "2023-01-16T07:58:12.878Z"
   },
   {
    "duration": 630,
    "start_time": "2023-01-16T07:58:14.635Z"
   },
   {
    "duration": 19,
    "start_time": "2023-01-16T07:58:15.696Z"
   },
   {
    "duration": 57,
    "start_time": "2023-01-16T07:58:18.834Z"
   },
   {
    "duration": 496,
    "start_time": "2023-01-16T10:50:21.877Z"
   },
   {
    "duration": 77,
    "start_time": "2023-01-16T10:52:48.690Z"
   },
   {
    "duration": 3,
    "start_time": "2023-01-16T10:53:10.475Z"
   },
   {
    "duration": 648,
    "start_time": "2023-01-16T10:53:10.785Z"
   },
   {
    "duration": 16,
    "start_time": "2023-01-16T10:53:11.435Z"
   },
   {
    "duration": 62,
    "start_time": "2023-01-16T10:53:12.047Z"
   },
   {
    "duration": 627,
    "start_time": "2023-01-16T10:53:31.110Z"
   },
   {
    "duration": 19,
    "start_time": "2023-01-16T10:53:32.407Z"
   },
   {
    "duration": 162,
    "start_time": "2023-01-16T10:53:32.947Z"
   },
   {
    "duration": 26,
    "start_time": "2023-01-16T10:53:48.691Z"
   },
   {
    "duration": 56,
    "start_time": "2023-01-16T10:54:18.152Z"
   },
   {
    "duration": 3,
    "start_time": "2023-01-16T10:58:43.890Z"
   },
   {
    "duration": 266,
    "start_time": "2023-01-16T10:59:00.290Z"
   },
   {
    "duration": 499,
    "start_time": "2023-01-16T10:59:39.205Z"
   },
   {
    "duration": 38887,
    "start_time": "2023-01-16T10:59:45.726Z"
   },
   {
    "duration": 3,
    "start_time": "2023-01-16T11:01:49.062Z"
   },
   {
    "duration": 3,
    "start_time": "2023-01-16T11:01:57.932Z"
   },
   {
    "duration": 5380,
    "start_time": "2023-01-16T11:02:00.002Z"
   },
   {
    "duration": 3,
    "start_time": "2023-01-16T11:07:29.545Z"
   },
   {
    "duration": 1003,
    "start_time": "2023-01-16T11:07:31.327Z"
   },
   {
    "duration": 711,
    "start_time": "2023-01-16T11:10:55.028Z"
   },
   {
    "duration": 1045,
    "start_time": "2023-01-16T11:10:59.474Z"
   },
   {
    "duration": 1103,
    "start_time": "2023-01-16T12:01:19.982Z"
   },
   {
    "duration": 14,
    "start_time": "2023-01-16T12:35:35.161Z"
   },
   {
    "duration": 19,
    "start_time": "2023-01-16T12:35:51.394Z"
   },
   {
    "duration": 39,
    "start_time": "2023-01-16T12:40:36.397Z"
   },
   {
    "duration": 9,
    "start_time": "2023-01-16T12:40:45.349Z"
   },
   {
    "duration": 10,
    "start_time": "2023-01-16T12:41:00.464Z"
   },
   {
    "duration": 109,
    "start_time": "2023-01-16T12:45:08.820Z"
   },
   {
    "duration": 49,
    "start_time": "2023-01-16T12:45:37.722Z"
   },
   {
    "duration": 62,
    "start_time": "2023-01-16T12:48:27.092Z"
   },
   {
    "duration": 3,
    "start_time": "2023-01-16T12:50:07.607Z"
   },
   {
    "duration": 1008,
    "start_time": "2023-01-16T12:50:39.529Z"
   },
   {
    "duration": 4,
    "start_time": "2023-01-16T12:53:22.102Z"
   },
   {
    "duration": 822,
    "start_time": "2023-01-16T12:53:24.809Z"
   },
   {
    "duration": 4,
    "start_time": "2023-01-16T12:53:51.379Z"
   },
   {
    "duration": 699,
    "start_time": "2023-01-16T12:53:53.849Z"
   },
   {
    "duration": 5,
    "start_time": "2023-01-16T12:54:04.605Z"
   },
   {
    "duration": 718,
    "start_time": "2023-01-16T12:54:07.630Z"
   },
   {
    "duration": 3,
    "start_time": "2023-01-16T12:54:20.666Z"
   },
   {
    "duration": 937,
    "start_time": "2023-01-16T12:54:21.538Z"
   },
   {
    "duration": 4,
    "start_time": "2023-01-16T12:54:47.051Z"
   },
   {
    "duration": 834,
    "start_time": "2023-01-16T12:54:49.139Z"
   },
   {
    "duration": 3,
    "start_time": "2023-01-16T12:58:15.360Z"
   },
   {
    "duration": 1658,
    "start_time": "2023-01-16T12:58:18.527Z"
   },
   {
    "duration": 3,
    "start_time": "2023-01-16T12:58:40.529Z"
   },
   {
    "duration": 722,
    "start_time": "2023-01-16T12:58:42.537Z"
   },
   {
    "duration": 3,
    "start_time": "2023-01-16T12:58:58.318Z"
   },
   {
    "duration": 684,
    "start_time": "2023-01-16T12:59:00.221Z"
   },
   {
    "duration": 3,
    "start_time": "2023-01-16T13:26:08.036Z"
   },
   {
    "duration": 878,
    "start_time": "2023-01-16T13:26:10.456Z"
   },
   {
    "duration": 3,
    "start_time": "2023-01-16T13:26:43.945Z"
   },
   {
    "duration": 841,
    "start_time": "2023-01-16T13:26:56.914Z"
   },
   {
    "duration": 3,
    "start_time": "2023-01-16T13:27:20.502Z"
   },
   {
    "duration": 3,
    "start_time": "2023-01-16T13:27:25.322Z"
   },
   {
    "duration": 775,
    "start_time": "2023-01-16T13:27:26.871Z"
   },
   {
    "duration": 63,
    "start_time": "2023-01-16T14:02:02.856Z"
   },
   {
    "duration": 50,
    "start_time": "2023-01-16T14:02:41.655Z"
   },
   {
    "duration": 52,
    "start_time": "2023-01-16T14:02:52.222Z"
   },
   {
    "duration": 6,
    "start_time": "2023-01-16T14:02:57.471Z"
   },
   {
    "duration": 12,
    "start_time": "2023-01-16T14:03:56.505Z"
   },
   {
    "duration": 29,
    "start_time": "2023-01-16T14:04:12.795Z"
   },
   {
    "duration": 28,
    "start_time": "2023-01-16T14:10:47.682Z"
   },
   {
    "duration": 3,
    "start_time": "2023-01-16T14:21:44.892Z"
   },
   {
    "duration": 984,
    "start_time": "2023-01-16T14:21:47.352Z"
   },
   {
    "duration": 1160,
    "start_time": "2023-01-16T14:22:02.793Z"
   },
   {
    "duration": 704,
    "start_time": "2023-01-16T14:22:03.956Z"
   },
   {
    "duration": 18,
    "start_time": "2023-01-16T14:22:04.662Z"
   },
   {
    "duration": 25,
    "start_time": "2023-01-16T14:22:04.681Z"
   },
   {
    "duration": 18,
    "start_time": "2023-01-16T14:22:04.709Z"
   },
   {
    "duration": 184,
    "start_time": "2023-01-16T14:22:04.729Z"
   },
   {
    "duration": 115,
    "start_time": "2023-01-16T14:22:04.915Z"
   },
   {
    "duration": 4,
    "start_time": "2023-01-16T14:22:05.032Z"
   },
   {
    "duration": 989,
    "start_time": "2023-01-16T14:22:05.038Z"
   },
   {
    "duration": 0,
    "start_time": "2023-01-16T14:22:06.029Z"
   },
   {
    "duration": 3,
    "start_time": "2023-01-16T14:22:18.466Z"
   },
   {
    "duration": 705,
    "start_time": "2023-01-16T14:22:19.006Z"
   },
   {
    "duration": 18,
    "start_time": "2023-01-16T14:22:19.840Z"
   },
   {
    "duration": 14,
    "start_time": "2023-01-16T14:22:20.378Z"
   },
   {
    "duration": 17,
    "start_time": "2023-01-16T14:22:20.882Z"
   },
   {
    "duration": 169,
    "start_time": "2023-01-16T14:22:21.455Z"
   },
   {
    "duration": 3,
    "start_time": "2023-01-16T14:22:32.538Z"
   },
   {
    "duration": 980,
    "start_time": "2023-01-16T14:22:34.813Z"
   },
   {
    "duration": 842,
    "start_time": "2023-01-16T14:23:17.940Z"
   },
   {
    "duration": 4,
    "start_time": "2023-01-16T14:23:45.940Z"
   },
   {
    "duration": 11,
    "start_time": "2023-01-16T14:23:50.010Z"
   },
   {
    "duration": 3,
    "start_time": "2023-01-16T14:24:02.089Z"
   },
   {
    "duration": 716,
    "start_time": "2023-01-16T14:28:09.038Z"
   },
   {
    "duration": 16,
    "start_time": "2023-01-16T14:28:15.410Z"
   },
   {
    "duration": 16,
    "start_time": "2023-01-16T14:28:21.118Z"
   },
   {
    "duration": 19,
    "start_time": "2023-01-16T14:28:27.653Z"
   },
   {
    "duration": 159,
    "start_time": "2023-01-16T14:28:42.955Z"
   },
   {
    "duration": 55,
    "start_time": "2023-01-16T14:28:59.944Z"
   },
   {
    "duration": 230,
    "start_time": "2023-01-16T14:32:28.605Z"
   },
   {
    "duration": 20,
    "start_time": "2023-01-16T14:32:52.308Z"
   },
   {
    "duration": 14,
    "start_time": "2023-01-16T14:34:04.343Z"
   },
   {
    "duration": 18,
    "start_time": "2023-01-16T14:34:50.905Z"
   },
   {
    "duration": 18,
    "start_time": "2023-01-16T14:35:24.651Z"
   },
   {
    "duration": 53,
    "start_time": "2023-01-16T14:37:08.835Z"
   },
   {
    "duration": 15,
    "start_time": "2023-01-16T14:37:11.273Z"
   },
   {
    "duration": 14,
    "start_time": "2023-01-16T14:37:24.447Z"
   },
   {
    "duration": 16,
    "start_time": "2023-01-16T14:37:41.119Z"
   },
   {
    "duration": 50,
    "start_time": "2023-01-16T18:25:52.070Z"
   },
   {
    "duration": 1604,
    "start_time": "2023-01-16T18:25:57.211Z"
   },
   {
    "duration": 2037,
    "start_time": "2023-01-16T18:25:58.817Z"
   },
   {
    "duration": 19,
    "start_time": "2023-01-16T18:26:00.856Z"
   },
   {
    "duration": 16,
    "start_time": "2023-01-16T18:26:00.878Z"
   },
   {
    "duration": 21,
    "start_time": "2023-01-16T18:26:00.895Z"
   },
   {
    "duration": 181,
    "start_time": "2023-01-16T18:26:00.918Z"
   },
   {
    "duration": 119,
    "start_time": "2023-01-16T18:26:01.101Z"
   },
   {
    "duration": 26,
    "start_time": "2023-01-16T18:26:01.222Z"
   },
   {
    "duration": 4,
    "start_time": "2023-01-16T18:26:10.719Z"
   },
   {
    "duration": 5,
    "start_time": "2023-01-16T18:29:19.670Z"
   },
   {
    "duration": 3,
    "start_time": "2023-01-16T18:39:56.797Z"
   },
   {
    "duration": 4,
    "start_time": "2023-01-16T18:40:25.519Z"
   },
   {
    "duration": 4,
    "start_time": "2023-01-16T18:40:30.135Z"
   },
   {
    "duration": 4,
    "start_time": "2023-01-16T18:41:35.618Z"
   },
   {
    "duration": 78,
    "start_time": "2023-01-16T18:41:57.249Z"
   },
   {
    "duration": 4,
    "start_time": "2023-01-16T18:42:05.801Z"
   },
   {
    "duration": 4,
    "start_time": "2023-01-16T18:42:07.250Z"
   },
   {
    "duration": 8,
    "start_time": "2023-01-16T18:45:05.729Z"
   },
   {
    "duration": 16,
    "start_time": "2023-01-16T18:58:00.295Z"
   },
   {
    "duration": 22,
    "start_time": "2023-01-16T18:58:42.399Z"
   },
   {
    "duration": 74,
    "start_time": "2023-01-16T19:01:02.305Z"
   },
   {
    "duration": 19,
    "start_time": "2023-01-16T19:02:00.310Z"
   },
   {
    "duration": 8,
    "start_time": "2023-01-16T19:02:17.613Z"
   },
   {
    "duration": 1461,
    "start_time": "2023-01-16T19:03:49.738Z"
   },
   {
    "duration": 718,
    "start_time": "2023-01-16T19:03:51.202Z"
   },
   {
    "duration": 23,
    "start_time": "2023-01-16T19:03:51.922Z"
   },
   {
    "duration": 13,
    "start_time": "2023-01-16T19:03:51.947Z"
   },
   {
    "duration": 17,
    "start_time": "2023-01-16T19:03:51.962Z"
   },
   {
    "duration": 184,
    "start_time": "2023-01-16T19:03:51.981Z"
   },
   {
    "duration": 115,
    "start_time": "2023-01-16T19:03:52.167Z"
   },
   {
    "duration": 12,
    "start_time": "2023-01-16T19:03:52.284Z"
   },
   {
    "duration": 5,
    "start_time": "2023-01-16T19:03:52.298Z"
   },
   {
    "duration": 8,
    "start_time": "2023-01-16T19:03:52.304Z"
   },
   {
    "duration": 32,
    "start_time": "2023-01-16T19:03:52.314Z"
   },
   {
    "duration": 24,
    "start_time": "2023-01-16T19:03:52.347Z"
   },
   {
    "duration": 22,
    "start_time": "2023-01-16T19:03:52.373Z"
   },
   {
    "duration": 5,
    "start_time": "2023-01-16T19:03:52.398Z"
   },
   {
    "duration": 28,
    "start_time": "2023-01-16T19:03:52.405Z"
   },
   {
    "duration": 21,
    "start_time": "2023-01-16T19:03:52.434Z"
   },
   {
    "duration": 3,
    "start_time": "2023-01-16T19:03:55.566Z"
   },
   {
    "duration": 722,
    "start_time": "2023-01-16T19:03:55.917Z"
   },
   {
    "duration": 19,
    "start_time": "2023-01-16T19:03:56.641Z"
   },
   {
    "duration": 14,
    "start_time": "2023-01-16T19:03:56.662Z"
   },
   {
    "duration": 20,
    "start_time": "2023-01-16T19:03:56.835Z"
   },
   {
    "duration": 159,
    "start_time": "2023-01-16T19:03:57.064Z"
   },
   {
    "duration": 51,
    "start_time": "2023-01-16T19:03:57.451Z"
   },
   {
    "duration": 16,
    "start_time": "2023-01-16T19:03:57.983Z"
   },
   {
    "duration": 4,
    "start_time": "2023-01-16T19:04:02.270Z"
   },
   {
    "duration": 4,
    "start_time": "2023-01-16T19:04:03.339Z"
   },
   {
    "duration": 4,
    "start_time": "2023-01-16T19:04:04.246Z"
   },
   {
    "duration": 7,
    "start_time": "2023-01-16T19:04:06.822Z"
   },
   {
    "duration": 19,
    "start_time": "2023-01-16T19:04:07.798Z"
   },
   {
    "duration": 7,
    "start_time": "2023-01-16T19:04:09.285Z"
   },
   {
    "duration": 12,
    "start_time": "2023-01-16T19:04:15.500Z"
   },
   {
    "duration": 17,
    "start_time": "2023-01-16T19:04:18.252Z"
   },
   {
    "duration": 7,
    "start_time": "2023-01-16T19:04:30.476Z"
   },
   {
    "duration": 3,
    "start_time": "2023-01-16T19:05:28.948Z"
   },
   {
    "duration": 2,
    "start_time": "2023-01-16T19:05:32.946Z"
   },
   {
    "duration": 1351,
    "start_time": "2023-01-16T19:05:39.694Z"
   },
   {
    "duration": 729,
    "start_time": "2023-01-16T19:05:41.047Z"
   },
   {
    "duration": 19,
    "start_time": "2023-01-16T19:05:41.777Z"
   },
   {
    "duration": 13,
    "start_time": "2023-01-16T19:05:41.798Z"
   },
   {
    "duration": 39,
    "start_time": "2023-01-16T19:05:41.813Z"
   },
   {
    "duration": 171,
    "start_time": "2023-01-16T19:05:41.854Z"
   },
   {
    "duration": 101,
    "start_time": "2023-01-16T19:05:42.038Z"
   },
   {
    "duration": 12,
    "start_time": "2023-01-16T19:05:42.140Z"
   },
   {
    "duration": 3,
    "start_time": "2023-01-16T19:05:42.154Z"
   },
   {
    "duration": 11,
    "start_time": "2023-01-16T19:05:42.159Z"
   },
   {
    "duration": 7,
    "start_time": "2023-01-16T19:05:42.172Z"
   },
   {
    "duration": 14,
    "start_time": "2023-01-16T19:05:42.181Z"
   },
   {
    "duration": 21,
    "start_time": "2023-01-16T19:05:42.197Z"
   },
   {
    "duration": 24,
    "start_time": "2023-01-16T19:05:42.220Z"
   },
   {
    "duration": 10,
    "start_time": "2023-01-16T19:05:42.245Z"
   },
   {
    "duration": 16,
    "start_time": "2023-01-16T19:05:42.257Z"
   },
   {
    "duration": 3,
    "start_time": "2023-01-16T19:05:44.496Z"
   },
   {
    "duration": 735,
    "start_time": "2023-01-16T19:05:44.784Z"
   },
   {
    "duration": 17,
    "start_time": "2023-01-16T19:05:45.538Z"
   },
   {
    "duration": 19,
    "start_time": "2023-01-16T19:05:45.816Z"
   },
   {
    "duration": 19,
    "start_time": "2023-01-16T19:05:46.034Z"
   },
   {
    "duration": 164,
    "start_time": "2023-01-16T19:05:46.210Z"
   },
   {
    "duration": 59,
    "start_time": "2023-01-16T19:05:47.843Z"
   },
   {
    "duration": 14,
    "start_time": "2023-01-16T19:05:56.657Z"
   },
   {
    "duration": 3,
    "start_time": "2023-01-16T19:05:58.553Z"
   },
   {
    "duration": 4,
    "start_time": "2023-01-16T19:05:59.737Z"
   },
   {
    "duration": 4,
    "start_time": "2023-01-16T19:06:00.345Z"
   },
   {
    "duration": 7,
    "start_time": "2023-01-16T19:06:02.608Z"
   },
   {
    "duration": 18,
    "start_time": "2023-01-16T19:06:03.584Z"
   },
   {
    "duration": 6,
    "start_time": "2023-01-16T19:06:05.105Z"
   },
   {
    "duration": 134,
    "start_time": "2023-01-16T19:07:17.740Z"
   },
   {
    "duration": 22,
    "start_time": "2023-01-16T19:07:44.851Z"
   },
   {
    "duration": 23,
    "start_time": "2023-01-16T19:07:54.356Z"
   },
   {
    "duration": 24,
    "start_time": "2023-01-16T19:08:20.042Z"
   },
   {
    "duration": 1437,
    "start_time": "2023-01-16T19:08:26.657Z"
   },
   {
    "duration": 718,
    "start_time": "2023-01-16T19:08:28.096Z"
   },
   {
    "duration": 36,
    "start_time": "2023-01-16T19:08:28.816Z"
   },
   {
    "duration": 18,
    "start_time": "2023-01-16T19:08:28.855Z"
   },
   {
    "duration": 27,
    "start_time": "2023-01-16T19:08:28.876Z"
   },
   {
    "duration": 243,
    "start_time": "2023-01-16T19:08:28.906Z"
   },
   {
    "duration": 108,
    "start_time": "2023-01-16T19:08:29.150Z"
   },
   {
    "duration": 12,
    "start_time": "2023-01-16T19:08:29.260Z"
   },
   {
    "duration": 3,
    "start_time": "2023-01-16T19:08:29.273Z"
   },
   {
    "duration": 10,
    "start_time": "2023-01-16T19:08:29.278Z"
   },
   {
    "duration": 16,
    "start_time": "2023-01-16T19:08:29.290Z"
   },
   {
    "duration": 15,
    "start_time": "2023-01-16T19:08:29.308Z"
   },
   {
    "duration": 27,
    "start_time": "2023-01-16T19:08:29.325Z"
   },
   {
    "duration": 5,
    "start_time": "2023-01-16T19:08:29.355Z"
   },
   {
    "duration": 11,
    "start_time": "2023-01-16T19:08:29.362Z"
   },
   {
    "duration": 6,
    "start_time": "2023-01-16T19:08:29.375Z"
   },
   {
    "duration": 4,
    "start_time": "2023-01-16T19:08:31.633Z"
   },
   {
    "duration": 741,
    "start_time": "2023-01-16T19:08:31.896Z"
   },
   {
    "duration": 19,
    "start_time": "2023-01-16T19:08:32.640Z"
   },
   {
    "duration": 13,
    "start_time": "2023-01-16T19:08:32.661Z"
   },
   {
    "duration": 20,
    "start_time": "2023-01-16T19:08:32.734Z"
   },
   {
    "duration": 169,
    "start_time": "2023-01-16T19:08:32.987Z"
   },
   {
    "duration": 63,
    "start_time": "2023-01-16T19:08:33.838Z"
   },
   {
    "duration": 15,
    "start_time": "2023-01-16T19:08:34.593Z"
   },
   {
    "duration": 3,
    "start_time": "2023-01-16T19:08:35.617Z"
   },
   {
    "duration": 4,
    "start_time": "2023-01-16T19:08:36.033Z"
   },
   {
    "duration": 4,
    "start_time": "2023-01-16T19:08:38.185Z"
   },
   {
    "duration": 6,
    "start_time": "2023-01-16T19:08:43.281Z"
   },
   {
    "duration": 17,
    "start_time": "2023-01-16T19:08:44.496Z"
   },
   {
    "duration": 6,
    "start_time": "2023-01-16T19:08:45.985Z"
   },
   {
    "duration": 123,
    "start_time": "2023-01-16T19:16:59.785Z"
   },
   {
    "duration": 6,
    "start_time": "2023-01-16T19:17:04.753Z"
   },
   {
    "duration": 4,
    "start_time": "2023-01-16T19:17:46.205Z"
   },
   {
    "duration": 5,
    "start_time": "2023-01-16T19:18:15.134Z"
   },
   {
    "duration": 4,
    "start_time": "2023-01-16T19:19:35.255Z"
   },
   {
    "duration": 11,
    "start_time": "2023-01-16T19:19:53.434Z"
   },
   {
    "duration": 14,
    "start_time": "2023-01-16T19:19:58.712Z"
   },
   {
    "duration": 4,
    "start_time": "2023-01-16T19:20:21.286Z"
   },
   {
    "duration": 271,
    "start_time": "2023-01-16T19:20:27.534Z"
   },
   {
    "duration": 5,
    "start_time": "2023-01-16T19:20:46.089Z"
   },
   {
    "duration": 305,
    "start_time": "2023-01-16T19:20:46.556Z"
   },
   {
    "duration": 4,
    "start_time": "2023-01-16T19:20:53.309Z"
   },
   {
    "duration": 258,
    "start_time": "2023-01-16T19:20:53.813Z"
   },
   {
    "duration": 436,
    "start_time": "2023-01-16T19:21:38.522Z"
   },
   {
    "duration": 283,
    "start_time": "2023-01-16T19:21:50.954Z"
   },
   {
    "duration": 4,
    "start_time": "2023-01-16T19:25:20.239Z"
   },
   {
    "duration": 288,
    "start_time": "2023-01-16T19:25:21.159Z"
   },
   {
    "duration": 4,
    "start_time": "2023-01-16T19:25:27.935Z"
   },
   {
    "duration": 264,
    "start_time": "2023-01-16T19:25:29.823Z"
   },
   {
    "duration": 5,
    "start_time": "2023-01-16T19:25:38.998Z"
   },
   {
    "duration": 274,
    "start_time": "2023-01-16T19:25:39.749Z"
   },
   {
    "duration": 4,
    "start_time": "2023-01-16T19:25:48.806Z"
   },
   {
    "duration": 264,
    "start_time": "2023-01-16T19:25:50.893Z"
   },
   {
    "duration": 5,
    "start_time": "2023-01-16T19:25:57.910Z"
   },
   {
    "duration": 376,
    "start_time": "2023-01-16T19:26:00.326Z"
   },
   {
    "duration": 277,
    "start_time": "2023-01-16T19:26:11.181Z"
   },
   {
    "duration": 285,
    "start_time": "2023-01-16T19:26:14.452Z"
   },
   {
    "duration": 4,
    "start_time": "2023-01-16T19:28:17.441Z"
   },
   {
    "duration": 322,
    "start_time": "2023-01-16T19:28:17.448Z"
   },
   {
    "duration": 307,
    "start_time": "2023-01-16T19:28:21.661Z"
   },
   {
    "duration": 306,
    "start_time": "2023-01-16T19:28:27.846Z"
   },
   {
    "duration": 5,
    "start_time": "2023-01-16T19:28:40.613Z"
   },
   {
    "duration": 374,
    "start_time": "2023-01-16T19:28:42.605Z"
   },
   {
    "duration": 304,
    "start_time": "2023-01-16T19:28:46.068Z"
   },
   {
    "duration": 347,
    "start_time": "2023-01-16T19:28:49.180Z"
   },
   {
    "duration": 16,
    "start_time": "2023-01-16T19:43:26.505Z"
   },
   {
    "duration": 15,
    "start_time": "2023-01-16T19:43:30.760Z"
   },
   {
    "duration": 13,
    "start_time": "2023-01-16T19:43:52.535Z"
   },
   {
    "duration": 17,
    "start_time": "2023-01-16T19:44:00.503Z"
   },
   {
    "duration": 16,
    "start_time": "2023-01-16T19:44:06.654Z"
   },
   {
    "duration": 13,
    "start_time": "2023-01-16T19:44:16.326Z"
   },
   {
    "duration": 16,
    "start_time": "2023-01-16T19:44:21.638Z"
   },
   {
    "duration": 423,
    "start_time": "2023-01-16T19:45:14.005Z"
   },
   {
    "duration": 397,
    "start_time": "2023-01-16T19:45:23.405Z"
   },
   {
    "duration": 399,
    "start_time": "2023-01-16T19:45:43.642Z"
   },
   {
    "duration": 4,
    "start_time": "2023-01-16T19:46:08.144Z"
   },
   {
    "duration": 393,
    "start_time": "2023-01-16T19:46:14.640Z"
   },
   {
    "duration": 403,
    "start_time": "2023-01-16T19:48:38.937Z"
   },
   {
    "duration": 525,
    "start_time": "2023-01-16T19:51:25.225Z"
   },
   {
    "duration": 327,
    "start_time": "2023-01-16T19:51:31.977Z"
   },
   {
    "duration": 317,
    "start_time": "2023-01-16T19:51:37.072Z"
   },
   {
    "duration": 358,
    "start_time": "2023-01-16T19:51:42.143Z"
   },
   {
    "duration": 15,
    "start_time": "2023-01-16T20:39:52.743Z"
   },
   {
    "duration": 350,
    "start_time": "2023-01-16T20:39:58.255Z"
   },
   {
    "duration": 349,
    "start_time": "2023-01-16T20:40:05.139Z"
   },
   {
    "duration": 334,
    "start_time": "2023-01-16T20:40:09.510Z"
   },
   {
    "duration": 394,
    "start_time": "2023-01-16T20:40:18.638Z"
   },
   {
    "duration": 387,
    "start_time": "2023-01-16T20:40:23.526Z"
   },
   {
    "duration": 324,
    "start_time": "2023-01-16T20:40:36.076Z"
   },
   {
    "duration": 330,
    "start_time": "2023-01-16T20:40:42.572Z"
   },
   {
    "duration": 356,
    "start_time": "2023-01-16T20:40:46.068Z"
   },
   {
    "duration": 12,
    "start_time": "2023-01-16T20:56:20.093Z"
   },
   {
    "duration": 7,
    "start_time": "2023-01-16T20:56:25.989Z"
   },
   {
    "duration": 620,
    "start_time": "2023-01-16T20:56:33.453Z"
   },
   {
    "duration": 560,
    "start_time": "2023-01-16T20:56:59.516Z"
   },
   {
    "duration": 510,
    "start_time": "2023-01-16T20:57:11.433Z"
   },
   {
    "duration": 427,
    "start_time": "2023-01-16T20:57:18.186Z"
   },
   {
    "duration": 719,
    "start_time": "2023-01-16T20:57:46.952Z"
   },
   {
    "duration": 580,
    "start_time": "2023-01-16T20:58:03.200Z"
   },
   {
    "duration": 589,
    "start_time": "2023-01-16T20:58:22.471Z"
   },
   {
    "duration": 19,
    "start_time": "2023-01-16T21:03:36.760Z"
   },
   {
    "duration": 3,
    "start_time": "2023-01-16T21:06:55.478Z"
   },
   {
    "duration": 3,
    "start_time": "2023-01-16T21:08:50.247Z"
   },
   {
    "duration": 10,
    "start_time": "2023-01-16T21:10:42.801Z"
   },
   {
    "duration": 11,
    "start_time": "2023-01-16T21:11:15.001Z"
   },
   {
    "duration": 4,
    "start_time": "2023-01-16T21:11:43.311Z"
   },
   {
    "duration": 29,
    "start_time": "2023-01-16T21:11:46.999Z"
   },
   {
    "duration": 45,
    "start_time": "2023-01-17T11:05:35.425Z"
   },
   {
    "duration": 1518,
    "start_time": "2023-01-17T11:05:41.622Z"
   },
   {
    "duration": 1911,
    "start_time": "2023-01-17T11:05:43.142Z"
   },
   {
    "duration": 17,
    "start_time": "2023-01-17T11:05:47.281Z"
   },
   {
    "duration": 13,
    "start_time": "2023-01-17T11:05:47.570Z"
   },
   {
    "duration": 16,
    "start_time": "2023-01-17T11:05:47.973Z"
   },
   {
    "duration": 132,
    "start_time": "2023-01-17T11:05:48.151Z"
   },
   {
    "duration": 80,
    "start_time": "2023-01-17T11:05:48.551Z"
   },
   {
    "duration": 14,
    "start_time": "2023-01-17T11:05:49.474Z"
   },
   {
    "duration": 4,
    "start_time": "2023-01-17T11:05:51.430Z"
   },
   {
    "duration": 4,
    "start_time": "2023-01-17T11:05:51.585Z"
   },
   {
    "duration": 4,
    "start_time": "2023-01-17T11:05:51.741Z"
   },
   {
    "duration": 9,
    "start_time": "2023-01-17T11:05:52.843Z"
   },
   {
    "duration": 17,
    "start_time": "2023-01-17T11:05:53.495Z"
   },
   {
    "duration": 6,
    "start_time": "2023-01-17T11:05:53.849Z"
   },
   {
    "duration": 2,
    "start_time": "2023-01-17T11:05:57.309Z"
   },
   {
    "duration": 2,
    "start_time": "2023-01-17T11:05:57.641Z"
   },
   {
    "duration": 3884,
    "start_time": "2023-01-17T11:05:58.137Z"
   },
   {
    "duration": 4019,
    "start_time": "2023-01-17T11:08:44.365Z"
   },
   {
    "duration": 3,
    "start_time": "2023-01-17T11:59:33.652Z"
   },
   {
    "duration": 85,
    "start_time": "2023-01-17T11:59:54.545Z"
   },
   {
    "duration": 19,
    "start_time": "2023-01-17T12:00:12.767Z"
   },
   {
    "duration": 4,
    "start_time": "2023-01-17T12:00:21.291Z"
   },
   {
    "duration": 677,
    "start_time": "2023-01-17T12:00:21.599Z"
   },
   {
    "duration": 16,
    "start_time": "2023-01-17T12:00:22.278Z"
   },
   {
    "duration": 12,
    "start_time": "2023-01-17T12:00:22.295Z"
   },
   {
    "duration": 16,
    "start_time": "2023-01-17T12:00:22.309Z"
   },
   {
    "duration": 160,
    "start_time": "2023-01-17T12:00:22.333Z"
   },
   {
    "duration": 52,
    "start_time": "2023-01-17T12:00:22.611Z"
   },
   {
    "duration": 15,
    "start_time": "2023-01-17T12:00:22.878Z"
   },
   {
    "duration": 3,
    "start_time": "2023-01-17T12:00:23.296Z"
   },
   {
    "duration": 4,
    "start_time": "2023-01-17T12:00:23.428Z"
   },
   {
    "duration": 4,
    "start_time": "2023-01-17T12:00:23.563Z"
   },
   {
    "duration": 9,
    "start_time": "2023-01-17T12:00:23.977Z"
   },
   {
    "duration": 17,
    "start_time": "2023-01-17T12:00:24.309Z"
   },
   {
    "duration": 6,
    "start_time": "2023-01-17T12:00:24.539Z"
   },
   {
    "duration": 3,
    "start_time": "2023-01-17T12:00:26.227Z"
   },
   {
    "duration": 32,
    "start_time": "2023-01-17T12:00:26.232Z"
   },
   {
    "duration": 17,
    "start_time": "2023-01-17T12:00:29.550Z"
   },
   {
    "duration": 17,
    "start_time": "2023-01-17T12:00:48.813Z"
   },
   {
    "duration": 18,
    "start_time": "2023-01-17T12:01:00.542Z"
   },
   {
    "duration": 17,
    "start_time": "2023-01-17T12:02:01.277Z"
   },
   {
    "duration": 1338,
    "start_time": "2023-01-17T12:12:48.636Z"
   },
   {
    "duration": 741,
    "start_time": "2023-01-17T12:12:49.976Z"
   },
   {
    "duration": 17,
    "start_time": "2023-01-17T12:12:50.719Z"
   },
   {
    "duration": 19,
    "start_time": "2023-01-17T12:12:50.738Z"
   },
   {
    "duration": 31,
    "start_time": "2023-01-17T12:12:50.758Z"
   },
   {
    "duration": 155,
    "start_time": "2023-01-17T12:12:50.791Z"
   },
   {
    "duration": 105,
    "start_time": "2023-01-17T12:12:50.948Z"
   },
   {
    "duration": 28,
    "start_time": "2023-01-17T12:12:51.056Z"
   },
   {
    "duration": 4,
    "start_time": "2023-01-17T12:12:51.086Z"
   },
   {
    "duration": 9,
    "start_time": "2023-01-17T12:12:51.094Z"
   },
   {
    "duration": 7,
    "start_time": "2023-01-17T12:12:51.105Z"
   },
   {
    "duration": 16,
    "start_time": "2023-01-17T12:12:51.114Z"
   },
   {
    "duration": 23,
    "start_time": "2023-01-17T12:12:51.133Z"
   },
   {
    "duration": 26,
    "start_time": "2023-01-17T12:12:51.157Z"
   },
   {
    "duration": 6,
    "start_time": "2023-01-17T12:12:51.185Z"
   },
   {
    "duration": 14,
    "start_time": "2023-01-17T12:12:51.193Z"
   },
   {
    "duration": 16,
    "start_time": "2023-01-17T12:12:51.209Z"
   },
   {
    "duration": 8,
    "start_time": "2023-01-17T12:12:51.227Z"
   },
   {
    "duration": 14,
    "start_time": "2023-01-17T12:12:51.237Z"
   },
   {
    "duration": 6,
    "start_time": "2023-01-17T12:12:51.254Z"
   },
   {
    "duration": 6,
    "start_time": "2023-01-17T12:12:51.262Z"
   },
   {
    "duration": 293,
    "start_time": "2023-01-17T12:12:51.270Z"
   },
   {
    "duration": 311,
    "start_time": "2023-01-17T12:12:51.564Z"
   },
   {
    "duration": 287,
    "start_time": "2023-01-17T12:12:51.878Z"
   },
   {
    "duration": 422,
    "start_time": "2023-01-17T12:12:52.166Z"
   },
   {
    "duration": 372,
    "start_time": "2023-01-17T12:12:52.590Z"
   },
   {
    "duration": 14,
    "start_time": "2023-01-17T12:12:52.964Z"
   },
   {
    "duration": 561,
    "start_time": "2023-01-17T12:12:52.980Z"
   },
   {
    "duration": 17,
    "start_time": "2023-01-17T12:12:53.543Z"
   },
   {
    "duration": 4,
    "start_time": "2023-01-17T12:12:53.561Z"
   },
   {
    "duration": 3,
    "start_time": "2023-01-17T12:12:53.578Z"
   },
   {
    "duration": 17,
    "start_time": "2023-01-17T12:12:53.583Z"
   },
   {
    "duration": 28,
    "start_time": "2023-01-17T12:12:53.602Z"
   },
   {
    "duration": 3,
    "start_time": "2023-01-17T12:14:18.504Z"
   },
   {
    "duration": 738,
    "start_time": "2023-01-17T12:14:18.760Z"
   },
   {
    "duration": 16,
    "start_time": "2023-01-17T12:14:19.499Z"
   },
   {
    "duration": 38,
    "start_time": "2023-01-17T12:14:19.517Z"
   },
   {
    "duration": 23,
    "start_time": "2023-01-17T12:14:19.561Z"
   },
   {
    "duration": 164,
    "start_time": "2023-01-17T12:14:19.802Z"
   },
   {
    "duration": 50,
    "start_time": "2023-01-17T12:14:21.004Z"
   },
   {
    "duration": 14,
    "start_time": "2023-01-17T12:14:22.836Z"
   },
   {
    "duration": 3,
    "start_time": "2023-01-17T12:14:26.845Z"
   },
   {
    "duration": 5,
    "start_time": "2023-01-17T12:14:31.806Z"
   },
   {
    "duration": 6,
    "start_time": "2023-01-17T12:14:34.666Z"
   },
   {
    "duration": 18,
    "start_time": "2023-01-17T12:14:35.055Z"
   },
   {
    "duration": 6,
    "start_time": "2023-01-17T12:14:35.239Z"
   },
   {
    "duration": 2,
    "start_time": "2023-01-17T12:14:35.873Z"
   },
   {
    "duration": 3,
    "start_time": "2023-01-17T12:14:36.030Z"
   },
   {
    "duration": 3,
    "start_time": "2023-01-17T12:14:36.171Z"
   },
   {
    "duration": 5,
    "start_time": "2023-01-17T12:14:36.781Z"
   },
   {
    "duration": 6,
    "start_time": "2023-01-17T12:14:36.935Z"
   },
   {
    "duration": 5,
    "start_time": "2023-01-17T12:14:37.079Z"
   },
   {
    "duration": 5,
    "start_time": "2023-01-17T12:14:37.208Z"
   },
   {
    "duration": 250,
    "start_time": "2023-01-17T12:14:37.405Z"
   },
   {
    "duration": 251,
    "start_time": "2023-01-17T12:14:38.140Z"
   },
   {
    "duration": 258,
    "start_time": "2023-01-17T12:14:38.418Z"
   },
   {
    "duration": 439,
    "start_time": "2023-01-17T12:14:39.485Z"
   },
   {
    "duration": 334,
    "start_time": "2023-01-17T12:14:42.893Z"
   },
   {
    "duration": 3,
    "start_time": "2023-01-17T12:20:53.441Z"
   },
   {
    "duration": 112,
    "start_time": "2023-01-17T12:21:25.608Z"
   },
   {
    "duration": 8,
    "start_time": "2023-01-17T12:21:53.549Z"
   },
   {
    "duration": 784,
    "start_time": "2023-01-17T12:22:23.731Z"
   },
   {
    "duration": 1356,
    "start_time": "2023-01-17T12:42:41.833Z"
   },
   {
    "duration": 708,
    "start_time": "2023-01-17T12:42:43.191Z"
   },
   {
    "duration": 16,
    "start_time": "2023-01-17T12:42:43.901Z"
   },
   {
    "duration": 12,
    "start_time": "2023-01-17T12:42:43.919Z"
   },
   {
    "duration": 20,
    "start_time": "2023-01-17T12:42:43.934Z"
   },
   {
    "duration": 228,
    "start_time": "2023-01-17T12:42:43.956Z"
   },
   {
    "duration": 110,
    "start_time": "2023-01-17T12:42:44.186Z"
   },
   {
    "duration": 13,
    "start_time": "2023-01-17T12:42:44.297Z"
   },
   {
    "duration": 3,
    "start_time": "2023-01-17T12:42:44.311Z"
   },
   {
    "duration": 9,
    "start_time": "2023-01-17T12:42:44.316Z"
   },
   {
    "duration": 11,
    "start_time": "2023-01-17T12:42:44.326Z"
   },
   {
    "duration": 19,
    "start_time": "2023-01-17T12:42:44.338Z"
   },
   {
    "duration": 30,
    "start_time": "2023-01-17T12:42:44.359Z"
   },
   {
    "duration": 9,
    "start_time": "2023-01-17T12:42:44.393Z"
   },
   {
    "duration": 7,
    "start_time": "2023-01-17T12:42:44.403Z"
   },
   {
    "duration": 5,
    "start_time": "2023-01-17T12:42:44.411Z"
   },
   {
    "duration": 7,
    "start_time": "2023-01-17T12:42:44.417Z"
   },
   {
    "duration": 12,
    "start_time": "2023-01-17T12:42:44.425Z"
   },
   {
    "duration": 9,
    "start_time": "2023-01-17T12:42:44.438Z"
   },
   {
    "duration": 6,
    "start_time": "2023-01-17T12:42:44.448Z"
   },
   {
    "duration": 5,
    "start_time": "2023-01-17T12:42:44.456Z"
   },
   {
    "duration": 274,
    "start_time": "2023-01-17T12:42:44.462Z"
   },
   {
    "duration": 265,
    "start_time": "2023-01-17T12:42:44.738Z"
   },
   {
    "duration": 289,
    "start_time": "2023-01-17T12:42:45.005Z"
   },
   {
    "duration": 435,
    "start_time": "2023-01-17T12:42:45.295Z"
   },
   {
    "duration": 304,
    "start_time": "2023-01-17T12:42:45.732Z"
   },
   {
    "duration": 7,
    "start_time": "2023-01-17T12:42:46.038Z"
   },
   {
    "duration": 549,
    "start_time": "2023-01-17T12:42:46.046Z"
   },
   {
    "duration": 17,
    "start_time": "2023-01-17T12:42:46.597Z"
   },
   {
    "duration": 3,
    "start_time": "2023-01-17T12:42:46.616Z"
   },
   {
    "duration": 6,
    "start_time": "2023-01-17T12:42:46.620Z"
   },
   {
    "duration": 9,
    "start_time": "2023-01-17T12:42:46.628Z"
   },
   {
    "duration": 21,
    "start_time": "2023-01-17T12:42:46.639Z"
   },
   {
    "duration": 5,
    "start_time": "2023-01-17T12:43:01.073Z"
   },
   {
    "duration": 767,
    "start_time": "2023-01-17T12:43:01.222Z"
   },
   {
    "duration": 18,
    "start_time": "2023-01-17T12:43:01.991Z"
   },
   {
    "duration": 41,
    "start_time": "2023-01-17T12:43:02.010Z"
   },
   {
    "duration": 18,
    "start_time": "2023-01-17T12:43:02.055Z"
   },
   {
    "duration": 156,
    "start_time": "2023-01-17T12:43:02.075Z"
   },
   {
    "duration": 70,
    "start_time": "2023-01-17T12:43:02.232Z"
   },
   {
    "duration": 11,
    "start_time": "2023-01-17T12:43:02.409Z"
   },
   {
    "duration": 3,
    "start_time": "2023-01-17T12:43:03.142Z"
   },
   {
    "duration": 5,
    "start_time": "2023-01-17T12:43:04.010Z"
   },
   {
    "duration": 7,
    "start_time": "2023-01-17T12:43:04.996Z"
   },
   {
    "duration": 17,
    "start_time": "2023-01-17T12:43:05.725Z"
   },
   {
    "duration": 6,
    "start_time": "2023-01-17T12:43:06.100Z"
   },
   {
    "duration": 102,
    "start_time": "2023-01-17T12:43:13.411Z"
   },
   {
    "duration": 1358,
    "start_time": "2023-01-17T13:03:20.691Z"
   },
   {
    "duration": 708,
    "start_time": "2023-01-17T13:03:22.051Z"
   },
   {
    "duration": 31,
    "start_time": "2023-01-17T13:03:22.760Z"
   },
   {
    "duration": 17,
    "start_time": "2023-01-17T13:03:22.794Z"
   },
   {
    "duration": 17,
    "start_time": "2023-01-17T13:03:22.813Z"
   },
   {
    "duration": 178,
    "start_time": "2023-01-17T13:03:22.831Z"
   },
   {
    "duration": 113,
    "start_time": "2023-01-17T13:03:23.011Z"
   },
   {
    "duration": 16,
    "start_time": "2023-01-17T13:03:23.125Z"
   },
   {
    "duration": 4,
    "start_time": "2023-01-17T13:03:23.143Z"
   },
   {
    "duration": 42,
    "start_time": "2023-01-17T13:03:23.148Z"
   },
   {
    "duration": 29,
    "start_time": "2023-01-17T13:03:23.192Z"
   },
   {
    "duration": 71,
    "start_time": "2023-01-17T13:03:23.223Z"
   },
   {
    "duration": 19,
    "start_time": "2023-01-17T13:03:23.296Z"
   },
   {
    "duration": 18,
    "start_time": "2023-01-17T13:03:23.317Z"
   },
   {
    "duration": 20,
    "start_time": "2023-01-17T13:03:23.336Z"
   },
   {
    "duration": 27,
    "start_time": "2023-01-17T13:03:23.357Z"
   },
   {
    "duration": 34,
    "start_time": "2023-01-17T13:03:23.385Z"
   },
   {
    "duration": 27,
    "start_time": "2023-01-17T13:03:23.421Z"
   },
   {
    "duration": 23,
    "start_time": "2023-01-17T13:03:23.450Z"
   },
   {
    "duration": 32,
    "start_time": "2023-01-17T13:03:23.475Z"
   },
   {
    "duration": 290,
    "start_time": "2023-01-17T13:03:23.508Z"
   },
   {
    "duration": 291,
    "start_time": "2023-01-17T13:03:23.800Z"
   },
   {
    "duration": 301,
    "start_time": "2023-01-17T13:03:24.093Z"
   },
   {
    "duration": 427,
    "start_time": "2023-01-17T13:03:24.396Z"
   },
   {
    "duration": 335,
    "start_time": "2023-01-17T13:03:24.825Z"
   },
   {
    "duration": 6,
    "start_time": "2023-01-17T13:03:25.162Z"
   },
   {
    "duration": 611,
    "start_time": "2023-01-17T13:03:25.169Z"
   },
   {
    "duration": 20,
    "start_time": "2023-01-17T13:03:25.781Z"
   },
   {
    "duration": 29,
    "start_time": "2023-01-17T13:03:25.802Z"
   },
   {
    "duration": 29,
    "start_time": "2023-01-17T13:03:25.834Z"
   },
   {
    "duration": 37,
    "start_time": "2023-01-17T13:03:25.864Z"
   },
   {
    "duration": 40,
    "start_time": "2023-01-17T13:03:25.903Z"
   },
   {
    "duration": 5,
    "start_time": "2023-01-17T13:16:53.694Z"
   },
   {
    "duration": 757,
    "start_time": "2023-01-17T13:16:54.041Z"
   },
   {
    "duration": 24,
    "start_time": "2023-01-17T13:16:54.800Z"
   },
   {
    "duration": 15,
    "start_time": "2023-01-17T13:16:55.028Z"
   },
   {
    "duration": 20,
    "start_time": "2023-01-17T13:16:55.246Z"
   },
   {
    "duration": 200,
    "start_time": "2023-01-17T13:16:55.742Z"
   },
   {
    "duration": 48,
    "start_time": "2023-01-17T13:16:57.523Z"
   },
   {
    "duration": 13,
    "start_time": "2023-01-17T13:17:02.451Z"
   },
   {
    "duration": 5,
    "start_time": "2023-01-17T13:17:41.633Z"
   },
   {
    "duration": 5,
    "start_time": "2023-01-17T13:17:42.047Z"
   },
   {
    "duration": 5,
    "start_time": "2023-01-17T13:17:42.407Z"
   },
   {
    "duration": 4,
    "start_time": "2023-01-17T13:17:45.251Z"
   },
   {
    "duration": 263,
    "start_time": "2023-01-17T13:17:46.236Z"
   },
   {
    "duration": 282,
    "start_time": "2023-01-17T13:17:50.994Z"
   },
   {
    "duration": 293,
    "start_time": "2023-01-17T13:18:00.930Z"
   },
   {
    "duration": 450,
    "start_time": "2023-01-17T13:18:06.474Z"
   },
   {
    "duration": 345,
    "start_time": "2023-01-17T13:18:09.290Z"
   },
   {
    "duration": 6,
    "start_time": "2023-01-17T13:18:15.421Z"
   },
   {
    "duration": 7,
    "start_time": "2023-01-17T13:33:56.846Z"
   },
   {
    "duration": 129,
    "start_time": "2023-01-17T13:34:07.662Z"
   },
   {
    "duration": 73,
    "start_time": "2023-01-17T13:36:22.217Z"
   },
   {
    "duration": 4,
    "start_time": "2023-01-17T13:36:32.125Z"
   },
   {
    "duration": 639,
    "start_time": "2023-01-17T13:36:34.203Z"
   },
   {
    "duration": 656,
    "start_time": "2023-01-17T13:36:39.510Z"
   },
   {
    "duration": 121,
    "start_time": "2023-01-17T13:38:33.927Z"
   },
   {
    "duration": 4,
    "start_time": "2023-01-17T13:38:37.177Z"
   },
   {
    "duration": 723,
    "start_time": "2023-01-17T13:38:38.515Z"
   },
   {
    "duration": 5,
    "start_time": "2023-01-17T13:43:59.238Z"
   },
   {
    "duration": 1441,
    "start_time": "2023-01-17T13:44:10.369Z"
   },
   {
    "duration": 10,
    "start_time": "2023-01-17T13:45:47.125Z"
   },
   {
    "duration": 0,
    "start_time": "2023-01-17T13:46:26.507Z"
   },
   {
    "duration": 7,
    "start_time": "2023-01-17T13:46:34.697Z"
   },
   {
    "duration": 105680,
    "start_time": "2023-01-17T13:46:35.255Z"
   },
   {
    "duration": 18385,
    "start_time": "2023-01-17T13:49:23.908Z"
   },
   {
    "duration": 9,
    "start_time": "2023-01-17T13:53:33.240Z"
   },
   {
    "duration": 9,
    "start_time": "2023-01-17T13:53:37.603Z"
   },
   {
    "duration": 13,
    "start_time": "2023-01-17T13:53:43.726Z"
   },
   {
    "duration": 1396,
    "start_time": "2023-01-17T15:12:07.164Z"
   },
   {
    "duration": 749,
    "start_time": "2023-01-17T15:12:08.562Z"
   },
   {
    "duration": 17,
    "start_time": "2023-01-17T15:12:09.312Z"
   },
   {
    "duration": 23,
    "start_time": "2023-01-17T15:12:09.330Z"
   },
   {
    "duration": 39,
    "start_time": "2023-01-17T15:12:09.355Z"
   },
   {
    "duration": 168,
    "start_time": "2023-01-17T15:12:09.395Z"
   },
   {
    "duration": 91,
    "start_time": "2023-01-17T15:12:09.565Z"
   },
   {
    "duration": 31,
    "start_time": "2023-01-17T15:12:09.658Z"
   },
   {
    "duration": 6,
    "start_time": "2023-01-17T15:12:09.691Z"
   },
   {
    "duration": 25,
    "start_time": "2023-01-17T15:12:09.698Z"
   },
   {
    "duration": 7,
    "start_time": "2023-01-17T15:12:09.724Z"
   },
   {
    "duration": 6,
    "start_time": "2023-01-17T15:12:09.732Z"
   },
   {
    "duration": 7,
    "start_time": "2023-01-17T15:12:09.740Z"
   },
   {
    "duration": 5,
    "start_time": "2023-01-17T15:12:09.749Z"
   },
   {
    "duration": 10,
    "start_time": "2023-01-17T15:12:09.756Z"
   },
   {
    "duration": 1370,
    "start_time": "2023-01-17T15:36:28.912Z"
   },
   {
    "duration": 736,
    "start_time": "2023-01-17T15:36:30.284Z"
   },
   {
    "duration": 19,
    "start_time": "2023-01-17T15:36:31.022Z"
   },
   {
    "duration": 32,
    "start_time": "2023-01-17T15:36:31.044Z"
   },
   {
    "duration": 43,
    "start_time": "2023-01-17T15:36:31.078Z"
   },
   {
    "duration": 165,
    "start_time": "2023-01-17T15:36:31.123Z"
   },
   {
    "duration": 103,
    "start_time": "2023-01-17T15:36:31.290Z"
   },
   {
    "duration": 14,
    "start_time": "2023-01-17T15:36:31.395Z"
   },
   {
    "duration": 23,
    "start_time": "2023-01-17T15:36:31.410Z"
   },
   {
    "duration": 25,
    "start_time": "2023-01-17T15:36:31.436Z"
   },
   {
    "duration": 36,
    "start_time": "2023-01-17T15:36:31.463Z"
   },
   {
    "duration": 16,
    "start_time": "2023-01-17T15:36:31.501Z"
   },
   {
    "duration": 20,
    "start_time": "2023-01-17T15:36:31.519Z"
   },
   {
    "duration": 10,
    "start_time": "2023-01-17T15:36:31.540Z"
   },
   {
    "duration": 12,
    "start_time": "2023-01-17T15:36:31.552Z"
   },
   {
    "duration": 9,
    "start_time": "2023-01-17T15:36:31.565Z"
   },
   {
    "duration": 22,
    "start_time": "2023-01-17T15:36:31.575Z"
   },
   {
    "duration": 30,
    "start_time": "2023-01-17T15:36:31.598Z"
   },
   {
    "duration": 6,
    "start_time": "2023-01-17T15:36:31.630Z"
   },
   {
    "duration": 28,
    "start_time": "2023-01-17T15:36:31.637Z"
   },
   {
    "duration": 6,
    "start_time": "2023-01-17T15:36:31.666Z"
   },
   {
    "duration": 24,
    "start_time": "2023-01-17T15:36:31.673Z"
   },
   {
    "duration": 10,
    "start_time": "2023-01-17T15:36:31.699Z"
   },
   {
    "duration": 4,
    "start_time": "2023-01-17T15:36:31.711Z"
   },
   {
    "duration": 10,
    "start_time": "2023-01-17T15:36:31.716Z"
   },
   {
    "duration": 6,
    "start_time": "2023-01-17T15:36:31.727Z"
   },
   {
    "duration": 14,
    "start_time": "2023-01-17T15:36:31.735Z"
   },
   {
    "duration": 4,
    "start_time": "2023-01-17T15:36:31.753Z"
   },
   {
    "duration": 280,
    "start_time": "2023-01-17T15:36:31.759Z"
   },
   {
    "duration": 264,
    "start_time": "2023-01-17T15:36:32.041Z"
   },
   {
    "duration": 265,
    "start_time": "2023-01-17T15:36:32.306Z"
   },
   {
    "duration": 437,
    "start_time": "2023-01-17T15:36:32.578Z"
   },
   {
    "duration": 313,
    "start_time": "2023-01-17T15:36:33.016Z"
   },
   {
    "duration": 5,
    "start_time": "2023-01-17T15:36:33.331Z"
   },
   {
    "duration": 602,
    "start_time": "2023-01-17T15:36:33.338Z"
   },
   {
    "duration": 19,
    "start_time": "2023-01-17T15:36:33.942Z"
   },
   {
    "duration": 32,
    "start_time": "2023-01-17T15:36:33.963Z"
   },
   {
    "duration": 641,
    "start_time": "2023-01-17T15:36:33.998Z"
   },
   {
    "duration": 4,
    "start_time": "2023-01-17T15:36:34.641Z"
   },
   {
    "duration": 52,
    "start_time": "2023-01-17T15:36:34.646Z"
   },
   {
    "duration": 30,
    "start_time": "2023-01-17T15:36:34.700Z"
   },
   {
    "duration": 61,
    "start_time": "2023-01-17T15:36:34.732Z"
   },
   {
    "duration": 3,
    "start_time": "2023-01-17T15:36:38.556Z"
   },
   {
    "duration": 698,
    "start_time": "2023-01-17T15:36:38.998Z"
   },
   {
    "duration": 19,
    "start_time": "2023-01-17T15:36:43.717Z"
   },
   {
    "duration": 17,
    "start_time": "2023-01-17T15:36:44.485Z"
   },
   {
    "duration": 21,
    "start_time": "2023-01-17T15:36:45.070Z"
   },
   {
    "duration": 154,
    "start_time": "2023-01-17T15:36:45.490Z"
   },
   {
    "duration": 48,
    "start_time": "2023-01-17T15:36:46.295Z"
   },
   {
    "duration": 12,
    "start_time": "2023-01-17T15:36:47.014Z"
   },
   {
    "duration": 2,
    "start_time": "2023-01-17T15:36:48.070Z"
   },
   {
    "duration": 2,
    "start_time": "2023-01-17T15:36:48.278Z"
   },
   {
    "duration": 2,
    "start_time": "2023-01-17T15:36:48.470Z"
   },
   {
    "duration": 2,
    "start_time": "2023-01-17T15:36:49.246Z"
   },
   {
    "duration": 3,
    "start_time": "2023-01-17T15:36:49.942Z"
   },
   {
    "duration": 3,
    "start_time": "2023-01-17T15:36:50.317Z"
   },
   {
    "duration": 2,
    "start_time": "2023-01-17T15:36:50.774Z"
   },
   {
    "duration": 2,
    "start_time": "2023-01-17T15:36:50.958Z"
   },
   {
    "duration": 2,
    "start_time": "2023-01-17T15:36:51.126Z"
   },
   {
    "duration": 2,
    "start_time": "2023-01-17T15:36:51.310Z"
   },
   {
    "duration": 3,
    "start_time": "2023-01-17T15:36:51.490Z"
   },
   {
    "duration": 2,
    "start_time": "2023-01-17T15:36:51.702Z"
   },
   {
    "duration": 3,
    "start_time": "2023-01-17T15:36:51.910Z"
   },
   {
    "duration": 3,
    "start_time": "2023-01-17T15:36:55.590Z"
   },
   {
    "duration": 2,
    "start_time": "2023-01-17T15:36:56.201Z"
   },
   {
    "duration": 2,
    "start_time": "2023-01-17T15:36:56.478Z"
   },
   {
    "duration": 5,
    "start_time": "2023-01-17T15:36:58.398Z"
   },
   {
    "duration": 4,
    "start_time": "2023-01-17T15:36:58.838Z"
   },
   {
    "duration": 4,
    "start_time": "2023-01-17T15:36:59.358Z"
   },
   {
    "duration": 4,
    "start_time": "2023-01-17T15:37:00.710Z"
   },
   {
    "duration": 358,
    "start_time": "2023-01-17T15:37:01.398Z"
   },
   {
    "duration": 271,
    "start_time": "2023-01-17T15:37:04.885Z"
   },
   {
    "duration": 280,
    "start_time": "2023-01-17T15:37:06.116Z"
   },
   {
    "duration": 310,
    "start_time": "2023-01-17T15:37:11.308Z"
   },
   {
    "duration": 317,
    "start_time": "2023-01-17T15:37:12.732Z"
   },
   {
    "duration": 6,
    "start_time": "2023-01-17T15:37:18.117Z"
   },
   {
    "duration": 563,
    "start_time": "2023-01-17T15:37:19.293Z"
   },
   {
    "duration": 18,
    "start_time": "2023-01-17T15:37:24.756Z"
   },
   {
    "duration": 9,
    "start_time": "2023-01-17T15:37:25.790Z"
   },
   {
    "duration": 171,
    "start_time": "2023-01-17T15:39:25.143Z"
   },
   {
    "duration": 7,
    "start_time": "2023-01-17T15:39:26.661Z"
   },
   {
    "duration": 586,
    "start_time": "2023-01-17T15:39:31.709Z"
   },
   {
    "duration": 48,
    "start_time": "2023-01-17T15:59:02.647Z"
   },
   {
    "duration": 1347,
    "start_time": "2023-01-17T16:15:25.719Z"
   },
   {
    "duration": 675,
    "start_time": "2023-01-17T16:15:27.068Z"
   },
   {
    "duration": 19,
    "start_time": "2023-01-17T16:15:27.745Z"
   },
   {
    "duration": 21,
    "start_time": "2023-01-17T16:15:27.766Z"
   },
   {
    "duration": 55,
    "start_time": "2023-01-17T16:15:27.789Z"
   },
   {
    "duration": 174,
    "start_time": "2023-01-17T16:15:27.846Z"
   },
   {
    "duration": 90,
    "start_time": "2023-01-17T16:15:28.021Z"
   },
   {
    "duration": 15,
    "start_time": "2023-01-17T16:15:28.113Z"
   },
   {
    "duration": 25,
    "start_time": "2023-01-17T16:15:28.130Z"
   },
   {
    "duration": 57,
    "start_time": "2023-01-17T16:15:28.156Z"
   },
   {
    "duration": 36,
    "start_time": "2023-01-17T16:15:28.215Z"
   },
   {
    "duration": 24,
    "start_time": "2023-01-17T16:15:28.253Z"
   },
   {
    "duration": 35,
    "start_time": "2023-01-17T16:15:28.279Z"
   },
   {
    "duration": 19,
    "start_time": "2023-01-17T16:15:28.318Z"
   },
   {
    "duration": 33,
    "start_time": "2023-01-17T16:15:28.339Z"
   },
   {
    "duration": 34,
    "start_time": "2023-01-17T16:15:28.374Z"
   },
   {
    "duration": 29,
    "start_time": "2023-01-17T16:15:28.410Z"
   },
   {
    "duration": 50,
    "start_time": "2023-01-17T16:15:28.441Z"
   },
   {
    "duration": 56,
    "start_time": "2023-01-17T16:15:28.493Z"
   },
   {
    "duration": 54,
    "start_time": "2023-01-17T16:15:28.551Z"
   },
   {
    "duration": 39,
    "start_time": "2023-01-17T16:15:28.607Z"
   },
   {
    "duration": 60,
    "start_time": "2023-01-17T16:15:28.648Z"
   },
   {
    "duration": 58,
    "start_time": "2023-01-17T16:15:28.710Z"
   },
   {
    "duration": 43,
    "start_time": "2023-01-17T16:15:28.769Z"
   },
   {
    "duration": 57,
    "start_time": "2023-01-17T16:15:28.814Z"
   },
   {
    "duration": 43,
    "start_time": "2023-01-17T16:15:28.873Z"
   },
   {
    "duration": 66,
    "start_time": "2023-01-17T16:15:28.918Z"
   },
   {
    "duration": 15,
    "start_time": "2023-01-17T16:15:28.985Z"
   },
   {
    "duration": 275,
    "start_time": "2023-01-17T16:15:29.002Z"
   },
   {
    "duration": 249,
    "start_time": "2023-01-17T16:15:29.278Z"
   },
   {
    "duration": 334,
    "start_time": "2023-01-17T16:15:29.528Z"
   },
   {
    "duration": 365,
    "start_time": "2023-01-17T16:15:29.863Z"
   },
   {
    "duration": 300,
    "start_time": "2023-01-17T16:15:30.230Z"
   },
   {
    "duration": 7,
    "start_time": "2023-01-17T16:15:30.532Z"
   },
   {
    "duration": 595,
    "start_time": "2023-01-17T16:15:30.540Z"
   },
   {
    "duration": 17,
    "start_time": "2023-01-17T16:15:31.136Z"
   },
   {
    "duration": 56,
    "start_time": "2023-01-17T16:15:31.155Z"
   },
   {
    "duration": 651,
    "start_time": "2023-01-17T16:15:31.213Z"
   },
   {
    "duration": 3,
    "start_time": "2023-01-17T16:15:31.866Z"
   },
   {
    "duration": 25,
    "start_time": "2023-01-17T16:15:31.870Z"
   },
   {
    "duration": 21,
    "start_time": "2023-01-17T16:15:31.898Z"
   },
   {
    "duration": 70,
    "start_time": "2023-01-17T16:15:31.920Z"
   },
   {
    "duration": 68,
    "start_time": "2023-01-17T16:15:31.991Z"
   },
   {
    "duration": 0,
    "start_time": "2023-01-17T16:15:32.061Z"
   },
   {
    "duration": 0,
    "start_time": "2023-01-17T16:15:32.062Z"
   },
   {
    "duration": 0,
    "start_time": "2023-01-17T16:15:32.064Z"
   },
   {
    "duration": 0,
    "start_time": "2023-01-17T16:15:32.065Z"
   },
   {
    "duration": 3,
    "start_time": "2023-01-17T16:15:36.646Z"
   },
   {
    "duration": 697,
    "start_time": "2023-01-17T16:15:36.974Z"
   },
   {
    "duration": 113,
    "start_time": "2023-01-17T16:15:37.673Z"
   },
   {
    "duration": 12,
    "start_time": "2023-01-17T16:15:37.787Z"
   },
   {
    "duration": 20,
    "start_time": "2023-01-17T16:15:37.816Z"
   },
   {
    "duration": 144,
    "start_time": "2023-01-17T16:15:38.026Z"
   },
   {
    "duration": 50,
    "start_time": "2023-01-17T16:15:38.393Z"
   },
   {
    "duration": 13,
    "start_time": "2023-01-17T16:15:38.755Z"
   },
   {
    "duration": 2,
    "start_time": "2023-01-17T16:15:39.216Z"
   },
   {
    "duration": 2,
    "start_time": "2023-01-17T16:15:39.355Z"
   },
   {
    "duration": 3,
    "start_time": "2023-01-17T16:15:39.512Z"
   },
   {
    "duration": 3,
    "start_time": "2023-01-17T16:15:39.984Z"
   },
   {
    "duration": 2,
    "start_time": "2023-01-17T16:15:40.465Z"
   },
   {
    "duration": 2,
    "start_time": "2023-01-17T16:15:40.745Z"
   },
   {
    "duration": 2,
    "start_time": "2023-01-17T16:15:41.233Z"
   },
   {
    "duration": 2,
    "start_time": "2023-01-17T16:15:41.452Z"
   },
   {
    "duration": 3,
    "start_time": "2023-01-17T16:15:41.650Z"
   },
   {
    "duration": 3,
    "start_time": "2023-01-17T16:15:41.880Z"
   },
   {
    "duration": 3,
    "start_time": "2023-01-17T16:15:42.225Z"
   },
   {
    "duration": 2,
    "start_time": "2023-01-17T16:15:42.483Z"
   },
   {
    "duration": 3,
    "start_time": "2023-01-17T16:15:42.714Z"
   },
   {
    "duration": 2,
    "start_time": "2023-01-17T16:15:43.184Z"
   },
   {
    "duration": 3,
    "start_time": "2023-01-17T16:15:43.560Z"
   },
   {
    "duration": 2,
    "start_time": "2023-01-17T16:15:43.769Z"
   },
   {
    "duration": 4,
    "start_time": "2023-01-17T16:15:44.728Z"
   },
   {
    "duration": 4,
    "start_time": "2023-01-17T16:15:44.962Z"
   },
   {
    "duration": 4,
    "start_time": "2023-01-17T16:15:45.161Z"
   },
   {
    "duration": 4,
    "start_time": "2023-01-17T16:15:45.697Z"
   },
   {
    "duration": 244,
    "start_time": "2023-01-17T16:15:47.664Z"
   },
   {
    "duration": 248,
    "start_time": "2023-01-17T16:15:48.512Z"
   },
   {
    "duration": 260,
    "start_time": "2023-01-17T16:15:49.456Z"
   },
   {
    "duration": 338,
    "start_time": "2023-01-17T16:15:51.782Z"
   },
   {
    "duration": 323,
    "start_time": "2023-01-17T16:15:52.398Z"
   },
   {
    "duration": 6,
    "start_time": "2023-01-17T16:15:54.555Z"
   },
   {
    "duration": 660,
    "start_time": "2023-01-17T16:15:55.152Z"
   },
   {
    "duration": 13,
    "start_time": "2023-01-17T16:15:58.451Z"
   },
   {
    "duration": 8,
    "start_time": "2023-01-17T16:15:59.415Z"
   },
   {
    "duration": 549,
    "start_time": "2023-01-17T16:16:00.054Z"
   },
   {
    "duration": 4,
    "start_time": "2023-01-17T16:16:05.255Z"
   },
   {
    "duration": 2,
    "start_time": "2023-01-17T16:16:06.136Z"
   },
   {
    "duration": 10,
    "start_time": "2023-01-17T16:16:06.927Z"
   },
   {
    "duration": 28,
    "start_time": "2023-01-17T16:16:07.768Z"
   },
   {
    "duration": 84,
    "start_time": "2023-01-17T16:16:14.052Z"
   },
   {
    "duration": 105,
    "start_time": "2023-01-17T16:16:24.509Z"
   },
   {
    "duration": 4,
    "start_time": "2023-01-17T16:23:17.056Z"
   },
   {
    "duration": 9,
    "start_time": "2023-01-17T16:23:24.209Z"
   },
   {
    "duration": 11,
    "start_time": "2023-01-17T16:23:49.825Z"
   },
   {
    "duration": 43,
    "start_time": "2023-01-17T16:25:19.530Z"
   },
   {
    "duration": 73,
    "start_time": "2023-01-17T16:25:48.853Z"
   },
   {
    "duration": 11997,
    "start_time": "2023-01-17T16:26:04.586Z"
   },
   {
    "duration": 7841,
    "start_time": "2023-01-17T16:26:29.817Z"
   },
   {
    "duration": 1358,
    "start_time": "2023-01-17T16:29:39.805Z"
   },
   {
    "duration": 703,
    "start_time": "2023-01-17T16:29:41.165Z"
   },
   {
    "duration": 23,
    "start_time": "2023-01-17T16:29:41.870Z"
   },
   {
    "duration": 35,
    "start_time": "2023-01-17T16:29:41.895Z"
   },
   {
    "duration": 40,
    "start_time": "2023-01-17T16:29:41.932Z"
   },
   {
    "duration": 170,
    "start_time": "2023-01-17T16:29:41.974Z"
   },
   {
    "duration": 87,
    "start_time": "2023-01-17T16:29:42.145Z"
   },
   {
    "duration": 13,
    "start_time": "2023-01-17T16:29:42.233Z"
   },
   {
    "duration": 25,
    "start_time": "2023-01-17T16:29:42.248Z"
   },
   {
    "duration": 19,
    "start_time": "2023-01-17T16:29:42.274Z"
   },
   {
    "duration": 22,
    "start_time": "2023-01-17T16:29:42.294Z"
   },
   {
    "duration": 18,
    "start_time": "2023-01-17T16:29:42.317Z"
   },
   {
    "duration": 18,
    "start_time": "2023-01-17T16:29:42.337Z"
   },
   {
    "duration": 21,
    "start_time": "2023-01-17T16:29:42.357Z"
   },
   {
    "duration": 33,
    "start_time": "2023-01-17T16:29:42.379Z"
   },
   {
    "duration": 52,
    "start_time": "2023-01-17T16:29:42.414Z"
   },
   {
    "duration": 55,
    "start_time": "2023-01-17T16:29:42.468Z"
   },
   {
    "duration": 39,
    "start_time": "2023-01-17T16:29:42.525Z"
   },
   {
    "duration": 46,
    "start_time": "2023-01-17T16:29:42.566Z"
   },
   {
    "duration": 56,
    "start_time": "2023-01-17T16:29:42.614Z"
   },
   {
    "duration": 41,
    "start_time": "2023-01-17T16:29:42.672Z"
   },
   {
    "duration": 37,
    "start_time": "2023-01-17T16:29:42.715Z"
   },
   {
    "duration": 44,
    "start_time": "2023-01-17T16:29:42.754Z"
   },
   {
    "duration": 62,
    "start_time": "2023-01-17T16:29:42.800Z"
   },
   {
    "duration": 45,
    "start_time": "2023-01-17T16:29:42.864Z"
   },
   {
    "duration": 56,
    "start_time": "2023-01-17T16:29:42.911Z"
   },
   {
    "duration": 30,
    "start_time": "2023-01-17T16:29:42.968Z"
   },
   {
    "duration": 7,
    "start_time": "2023-01-17T16:29:43.000Z"
   },
   {
    "duration": 290,
    "start_time": "2023-01-17T16:29:43.009Z"
   },
   {
    "duration": 251,
    "start_time": "2023-01-17T16:29:43.301Z"
   },
   {
    "duration": 332,
    "start_time": "2023-01-17T16:29:43.554Z"
   },
   {
    "duration": 371,
    "start_time": "2023-01-17T16:29:43.888Z"
   },
   {
    "duration": 362,
    "start_time": "2023-01-17T16:29:44.260Z"
   },
   {
    "duration": 6,
    "start_time": "2023-01-17T16:29:44.624Z"
   },
   {
    "duration": 550,
    "start_time": "2023-01-17T16:29:44.631Z"
   },
   {
    "duration": 17,
    "start_time": "2023-01-17T16:29:45.183Z"
   },
   {
    "duration": 12,
    "start_time": "2023-01-17T16:29:45.202Z"
   },
   {
    "duration": 555,
    "start_time": "2023-01-17T16:29:45.216Z"
   },
   {
    "duration": 5,
    "start_time": "2023-01-17T16:29:45.773Z"
   },
   {
    "duration": 7,
    "start_time": "2023-01-17T16:29:45.780Z"
   },
   {
    "duration": 11,
    "start_time": "2023-01-17T16:29:45.790Z"
   },
   {
    "duration": 34,
    "start_time": "2023-01-17T16:29:45.803Z"
   },
   {
    "duration": 154,
    "start_time": "2023-01-17T16:29:45.839Z"
   },
   {
    "duration": 0,
    "start_time": "2023-01-17T16:29:45.994Z"
   },
   {
    "duration": 0,
    "start_time": "2023-01-17T16:29:45.995Z"
   },
   {
    "duration": 0,
    "start_time": "2023-01-17T16:29:45.996Z"
   },
   {
    "duration": 0,
    "start_time": "2023-01-17T16:29:45.997Z"
   },
   {
    "duration": 4,
    "start_time": "2023-01-17T16:29:48.894Z"
   },
   {
    "duration": 719,
    "start_time": "2023-01-17T16:29:49.078Z"
   },
   {
    "duration": 113,
    "start_time": "2023-01-17T16:29:49.799Z"
   },
   {
    "duration": 12,
    "start_time": "2023-01-17T16:29:49.914Z"
   },
   {
    "duration": 19,
    "start_time": "2023-01-17T16:29:49.928Z"
   },
   {
    "duration": 165,
    "start_time": "2023-01-17T16:29:49.977Z"
   },
   {
    "duration": 52,
    "start_time": "2023-01-17T16:29:50.271Z"
   },
   {
    "duration": 12,
    "start_time": "2023-01-17T16:29:50.573Z"
   },
   {
    "duration": 3,
    "start_time": "2023-01-17T16:29:51.029Z"
   },
   {
    "duration": 2,
    "start_time": "2023-01-17T16:29:51.181Z"
   },
   {
    "duration": 2,
    "start_time": "2023-01-17T16:29:51.326Z"
   },
   {
    "duration": 3,
    "start_time": "2023-01-17T16:29:51.797Z"
   },
   {
    "duration": 3,
    "start_time": "2023-01-17T16:29:52.101Z"
   },
   {
    "duration": 3,
    "start_time": "2023-01-17T16:29:52.269Z"
   },
   {
    "duration": 3,
    "start_time": "2023-01-17T16:29:52.597Z"
   },
   {
    "duration": 2,
    "start_time": "2023-01-17T16:29:52.765Z"
   },
   {
    "duration": 3,
    "start_time": "2023-01-17T16:29:52.925Z"
   },
   {
    "duration": 2,
    "start_time": "2023-01-17T16:29:53.101Z"
   },
   {
    "duration": 4,
    "start_time": "2023-01-17T16:29:53.271Z"
   },
   {
    "duration": 2,
    "start_time": "2023-01-17T16:29:53.438Z"
   },
   {
    "duration": 3,
    "start_time": "2023-01-17T16:29:53.605Z"
   },
   {
    "duration": 3,
    "start_time": "2023-01-17T16:29:53.942Z"
   },
   {
    "duration": 3,
    "start_time": "2023-01-17T16:29:54.101Z"
   },
   {
    "duration": 3,
    "start_time": "2023-01-17T16:29:54.261Z"
   },
   {
    "duration": 4,
    "start_time": "2023-01-17T16:29:54.941Z"
   },
   {
    "duration": 4,
    "start_time": "2023-01-17T16:29:55.109Z"
   },
   {
    "duration": 4,
    "start_time": "2023-01-17T16:29:55.278Z"
   },
   {
    "duration": 4,
    "start_time": "2023-01-17T16:29:55.445Z"
   },
   {
    "duration": 233,
    "start_time": "2023-01-17T16:29:56.013Z"
   },
   {
    "duration": 240,
    "start_time": "2023-01-17T16:29:56.437Z"
   },
   {
    "duration": 251,
    "start_time": "2023-01-17T16:29:56.964Z"
   },
   {
    "duration": 348,
    "start_time": "2023-01-17T16:29:58.469Z"
   },
   {
    "duration": 320,
    "start_time": "2023-01-17T16:29:58.819Z"
   },
   {
    "duration": 6,
    "start_time": "2023-01-17T16:29:59.681Z"
   },
   {
    "duration": 657,
    "start_time": "2023-01-17T16:29:59.998Z"
   },
   {
    "duration": 17,
    "start_time": "2023-01-17T16:30:01.173Z"
   },
   {
    "duration": 9,
    "start_time": "2023-01-17T16:30:01.934Z"
   },
   {
    "duration": 578,
    "start_time": "2023-01-17T16:30:02.398Z"
   },
   {
    "duration": 4,
    "start_time": "2023-01-17T16:30:04.309Z"
   },
   {
    "duration": 3,
    "start_time": "2023-01-17T16:30:05.238Z"
   },
   {
    "duration": 7,
    "start_time": "2023-01-17T16:30:05.918Z"
   },
   {
    "duration": 31,
    "start_time": "2023-01-17T16:30:08.349Z"
   },
   {
    "duration": 38,
    "start_time": "2023-01-17T16:30:09.446Z"
   },
   {
    "duration": 38,
    "start_time": "2023-01-17T16:30:48.082Z"
   },
   {
    "duration": 15,
    "start_time": "2023-01-17T16:32:09.742Z"
   },
   {
    "duration": 40,
    "start_time": "2023-01-17T16:32:25.230Z"
   },
   {
    "duration": 10,
    "start_time": "2023-01-17T16:40:38.257Z"
   },
   {
    "duration": 9,
    "start_time": "2023-01-17T16:40:46.134Z"
   },
   {
    "duration": 9,
    "start_time": "2023-01-17T16:41:06.772Z"
   },
   {
    "duration": 11,
    "start_time": "2023-01-17T16:42:35.969Z"
   },
   {
    "duration": 4,
    "start_time": "2023-01-17T16:42:42.513Z"
   },
   {
    "duration": 13,
    "start_time": "2023-01-17T16:44:21.668Z"
   },
   {
    "duration": 10,
    "start_time": "2023-01-17T16:44:30.403Z"
   },
   {
    "duration": 40,
    "start_time": "2023-01-17T16:44:39.985Z"
   },
   {
    "duration": 94600,
    "start_time": "2023-01-17T16:44:51.257Z"
   },
   {
    "duration": 4,
    "start_time": "2023-01-17T16:58:21.946Z"
   },
   {
    "duration": 3,
    "start_time": "2023-01-17T16:58:29.671Z"
   },
   {
    "duration": 43,
    "start_time": "2023-01-17T16:58:32.192Z"
   },
   {
    "duration": 4,
    "start_time": "2023-01-17T17:22:36.271Z"
   },
   {
    "duration": 3,
    "start_time": "2023-01-17T17:22:36.988Z"
   },
   {
    "duration": 2,
    "start_time": "2023-01-17T17:22:37.750Z"
   },
   {
    "duration": 6,
    "start_time": "2023-01-17T17:22:38.071Z"
   },
   {
    "duration": 26,
    "start_time": "2023-01-17T17:22:38.666Z"
   },
   {
    "duration": 43,
    "start_time": "2023-01-17T17:22:39.663Z"
   },
   {
    "duration": 1410,
    "start_time": "2023-01-17T17:24:17.212Z"
   },
   {
    "duration": 771,
    "start_time": "2023-01-17T17:24:18.624Z"
   },
   {
    "duration": 20,
    "start_time": "2023-01-17T17:24:19.397Z"
   },
   {
    "duration": 15,
    "start_time": "2023-01-17T17:24:19.420Z"
   },
   {
    "duration": 26,
    "start_time": "2023-01-17T17:24:19.437Z"
   },
   {
    "duration": 174,
    "start_time": "2023-01-17T17:24:19.465Z"
   },
   {
    "duration": 115,
    "start_time": "2023-01-17T17:24:19.641Z"
   },
   {
    "duration": 28,
    "start_time": "2023-01-17T17:24:19.758Z"
   },
   {
    "duration": 12,
    "start_time": "2023-01-17T17:24:19.788Z"
   },
   {
    "duration": 18,
    "start_time": "2023-01-17T17:24:19.802Z"
   },
   {
    "duration": 23,
    "start_time": "2023-01-17T17:24:19.822Z"
   },
   {
    "duration": 19,
    "start_time": "2023-01-17T17:24:19.847Z"
   },
   {
    "duration": 15,
    "start_time": "2023-01-17T17:24:19.867Z"
   },
   {
    "duration": 19,
    "start_time": "2023-01-17T17:24:19.885Z"
   },
   {
    "duration": 24,
    "start_time": "2023-01-17T17:24:19.906Z"
   },
   {
    "duration": 19,
    "start_time": "2023-01-17T17:24:19.932Z"
   },
   {
    "duration": 25,
    "start_time": "2023-01-17T17:24:19.953Z"
   },
   {
    "duration": 24,
    "start_time": "2023-01-17T17:24:19.980Z"
   },
   {
    "duration": 23,
    "start_time": "2023-01-17T17:24:20.006Z"
   },
   {
    "duration": 33,
    "start_time": "2023-01-17T17:24:20.031Z"
   },
   {
    "duration": 8,
    "start_time": "2023-01-17T17:24:20.066Z"
   },
   {
    "duration": 44,
    "start_time": "2023-01-17T17:24:20.075Z"
   },
   {
    "duration": 44,
    "start_time": "2023-01-17T17:24:20.121Z"
   },
   {
    "duration": 11,
    "start_time": "2023-01-17T17:24:20.167Z"
   },
   {
    "duration": 18,
    "start_time": "2023-01-17T17:24:20.180Z"
   },
   {
    "duration": 35,
    "start_time": "2023-01-17T17:24:20.200Z"
   },
   {
    "duration": 12,
    "start_time": "2023-01-17T17:24:20.237Z"
   },
   {
    "duration": 414,
    "start_time": "2023-01-17T17:24:20.250Z"
   },
   {
    "duration": 284,
    "start_time": "2023-01-17T17:24:20.667Z"
   },
   {
    "duration": 394,
    "start_time": "2023-01-17T17:24:20.955Z"
   },
   {
    "duration": 375,
    "start_time": "2023-01-17T17:24:21.351Z"
   },
   {
    "duration": 307,
    "start_time": "2023-01-17T17:24:21.727Z"
   },
   {
    "duration": 7,
    "start_time": "2023-01-17T17:24:22.036Z"
   },
   {
    "duration": 574,
    "start_time": "2023-01-17T17:24:22.045Z"
   },
   {
    "duration": 17,
    "start_time": "2023-01-17T17:24:22.621Z"
   },
   {
    "duration": 23,
    "start_time": "2023-01-17T17:24:22.639Z"
   },
   {
    "duration": 782,
    "start_time": "2023-01-17T17:24:22.663Z"
   },
   {
    "duration": 5,
    "start_time": "2023-01-17T17:24:23.447Z"
   },
   {
    "duration": 21,
    "start_time": "2023-01-17T17:24:23.454Z"
   },
   {
    "duration": 21,
    "start_time": "2023-01-17T17:24:23.477Z"
   },
   {
    "duration": 36,
    "start_time": "2023-01-17T17:24:23.503Z"
   },
   {
    "duration": 62,
    "start_time": "2023-01-17T17:24:23.541Z"
   },
   {
    "duration": 1682,
    "start_time": "2023-01-17T17:24:23.606Z"
   },
   {
    "duration": 114525,
    "start_time": "2023-01-17T17:24:25.294Z"
   },
   {
    "duration": 12585,
    "start_time": "2023-01-17T17:26:19.821Z"
   },
   {
    "duration": 1124,
    "start_time": "2023-01-17T17:26:32.409Z"
   },
   {
    "duration": 0,
    "start_time": "2023-01-17T17:26:33.535Z"
   },
   {
    "duration": 4,
    "start_time": "2023-01-17T17:26:44.907Z"
   },
   {
    "duration": 655,
    "start_time": "2023-01-17T17:26:45.618Z"
   },
   {
    "duration": 17,
    "start_time": "2023-01-17T17:26:46.275Z"
   },
   {
    "duration": 12,
    "start_time": "2023-01-17T17:26:46.418Z"
   },
   {
    "duration": 21,
    "start_time": "2023-01-17T17:26:46.610Z"
   },
   {
    "duration": 161,
    "start_time": "2023-01-17T17:26:46.780Z"
   },
   {
    "duration": 52,
    "start_time": "2023-01-17T17:26:47.096Z"
   },
   {
    "duration": 14,
    "start_time": "2023-01-17T17:26:47.378Z"
   },
   {
    "duration": 2,
    "start_time": "2023-01-17T17:26:47.802Z"
   },
   {
    "duration": 3,
    "start_time": "2023-01-17T17:26:47.962Z"
   },
   {
    "duration": 2,
    "start_time": "2023-01-17T17:26:48.114Z"
   },
   {
    "duration": 3,
    "start_time": "2023-01-17T17:26:48.602Z"
   },
   {
    "duration": 2,
    "start_time": "2023-01-17T17:26:48.970Z"
   },
   {
    "duration": 3,
    "start_time": "2023-01-17T17:26:49.131Z"
   },
   {
    "duration": 4,
    "start_time": "2023-01-17T17:26:49.546Z"
   },
   {
    "duration": 3,
    "start_time": "2023-01-17T17:26:49.714Z"
   },
   {
    "duration": 4,
    "start_time": "2023-01-17T17:26:49.851Z"
   },
   {
    "duration": 3,
    "start_time": "2023-01-17T17:26:50.018Z"
   },
   {
    "duration": 3,
    "start_time": "2023-01-17T17:26:50.197Z"
   },
   {
    "duration": 2,
    "start_time": "2023-01-17T17:26:50.410Z"
   },
   {
    "duration": 2,
    "start_time": "2023-01-17T17:26:50.602Z"
   },
   {
    "duration": 11,
    "start_time": "2023-01-17T17:26:50.914Z"
   },
   {
    "duration": 23,
    "start_time": "2023-01-17T17:26:51.202Z"
   },
   {
    "duration": 5,
    "start_time": "2023-01-17T17:27:04.953Z"
   },
   {
    "duration": 4,
    "start_time": "2023-01-17T17:27:05.401Z"
   },
   {
    "duration": 4,
    "start_time": "2023-01-17T17:27:05.713Z"
   },
   {
    "duration": 5,
    "start_time": "2023-01-17T17:27:06.600Z"
   },
   {
    "duration": 417,
    "start_time": "2023-01-17T17:27:07.018Z"
   },
   {
    "duration": 238,
    "start_time": "2023-01-17T17:27:08.337Z"
   },
   {
    "duration": 264,
    "start_time": "2023-01-17T17:27:08.737Z"
   },
   {
    "duration": 386,
    "start_time": "2023-01-17T17:27:12.665Z"
   },
   {
    "duration": 344,
    "start_time": "2023-01-17T17:27:14.195Z"
   },
   {
    "duration": 7,
    "start_time": "2023-01-17T17:27:18.777Z"
   },
   {
    "duration": 584,
    "start_time": "2023-01-17T17:27:19.265Z"
   },
   {
    "duration": 23,
    "start_time": "2023-01-17T17:27:21.218Z"
   },
   {
    "duration": 9,
    "start_time": "2023-01-17T17:27:22.300Z"
   },
   {
    "duration": 791,
    "start_time": "2023-01-17T17:27:23.797Z"
   },
   {
    "duration": 3,
    "start_time": "2023-01-17T17:27:28.097Z"
   },
   {
    "duration": 3,
    "start_time": "2023-01-17T17:27:28.759Z"
   },
   {
    "duration": 3,
    "start_time": "2023-01-17T17:27:29.063Z"
   },
   {
    "duration": 7,
    "start_time": "2023-01-17T17:27:29.688Z"
   },
   {
    "duration": 34,
    "start_time": "2023-01-17T17:27:30.784Z"
   },
   {
    "duration": 1597,
    "start_time": "2023-01-17T17:27:31.384Z"
   },
   {
    "duration": 20,
    "start_time": "2023-01-17T17:28:03.839Z"
   },
   {
    "duration": 11,
    "start_time": "2023-01-17T17:28:08.678Z"
   },
   {
    "duration": 10,
    "start_time": "2023-01-17T17:29:08.260Z"
   },
   {
    "duration": 15,
    "start_time": "2023-01-17T17:29:49.802Z"
   },
   {
    "duration": 9,
    "start_time": "2023-01-17T17:29:55.680Z"
   },
   {
    "duration": 10,
    "start_time": "2023-01-17T17:30:04.832Z"
   },
   {
    "duration": 12,
    "start_time": "2023-01-17T17:30:09.329Z"
   },
   {
    "duration": 105,
    "start_time": "2023-01-17T17:30:14.041Z"
   },
   {
    "duration": 11,
    "start_time": "2023-01-17T17:30:33.825Z"
   },
   {
    "duration": 10,
    "start_time": "2023-01-17T17:31:20.924Z"
   },
   {
    "duration": 69,
    "start_time": "2023-01-17T17:31:25.828Z"
   },
   {
    "duration": 137,
    "start_time": "2023-01-17T17:32:05.875Z"
   },
   {
    "duration": 10,
    "start_time": "2023-01-17T17:32:59.960Z"
   },
   {
    "duration": 92,
    "start_time": "2023-01-17T17:33:09.734Z"
   },
   {
    "duration": 12,
    "start_time": "2023-01-17T17:33:16.486Z"
   },
   {
    "duration": 99544,
    "start_time": "2023-01-17T17:35:06.625Z"
   },
   {
    "duration": 11692,
    "start_time": "2023-01-17T17:37:06.212Z"
   },
   {
    "duration": 1187,
    "start_time": "2023-01-17T17:37:23.482Z"
   },
   {
    "duration": 5,
    "start_time": "2023-01-17T17:40:52.905Z"
   },
   {
    "duration": 4,
    "start_time": "2023-01-17T17:41:13.543Z"
   },
   {
    "duration": 3,
    "start_time": "2023-01-17T17:41:15.481Z"
   },
   {
    "duration": 4,
    "start_time": "2023-01-17T17:41:22.704Z"
   },
   {
    "duration": 7,
    "start_time": "2023-01-17T17:41:47.806Z"
   },
   {
    "duration": 1480,
    "start_time": "2023-01-17T17:55:04.900Z"
   },
   {
    "duration": 729,
    "start_time": "2023-01-17T17:55:06.382Z"
   },
   {
    "duration": 19,
    "start_time": "2023-01-17T17:55:07.113Z"
   },
   {
    "duration": 32,
    "start_time": "2023-01-17T17:55:07.134Z"
   },
   {
    "duration": 36,
    "start_time": "2023-01-17T17:55:07.167Z"
   },
   {
    "duration": 173,
    "start_time": "2023-01-17T17:55:07.205Z"
   },
   {
    "duration": 114,
    "start_time": "2023-01-17T17:55:07.379Z"
   },
   {
    "duration": 16,
    "start_time": "2023-01-17T17:55:07.495Z"
   },
   {
    "duration": 3,
    "start_time": "2023-01-17T17:55:07.513Z"
   },
   {
    "duration": 7,
    "start_time": "2023-01-17T17:55:07.519Z"
   },
   {
    "duration": 8,
    "start_time": "2023-01-17T17:55:07.528Z"
   },
   {
    "duration": 4,
    "start_time": "2023-01-17T17:55:07.538Z"
   },
   {
    "duration": 5,
    "start_time": "2023-01-17T17:55:07.544Z"
   },
   {
    "duration": 5,
    "start_time": "2023-01-17T17:55:07.579Z"
   },
   {
    "duration": 6,
    "start_time": "2023-01-17T17:55:07.586Z"
   },
   {
    "duration": 8,
    "start_time": "2023-01-17T17:55:07.593Z"
   },
   {
    "duration": 5,
    "start_time": "2023-01-17T17:55:07.603Z"
   },
   {
    "duration": 7,
    "start_time": "2023-01-17T17:55:07.609Z"
   },
   {
    "duration": 8,
    "start_time": "2023-01-17T17:55:07.618Z"
   },
   {
    "duration": 11,
    "start_time": "2023-01-17T17:55:07.628Z"
   },
   {
    "duration": 4,
    "start_time": "2023-01-17T17:55:07.641Z"
   },
   {
    "duration": 36,
    "start_time": "2023-01-17T17:55:07.647Z"
   },
   {
    "duration": 34,
    "start_time": "2023-01-17T17:55:07.686Z"
   },
   {
    "duration": 5,
    "start_time": "2023-01-17T17:55:07.723Z"
   },
   {
    "duration": 10,
    "start_time": "2023-01-17T17:55:07.730Z"
   },
   {
    "duration": 8,
    "start_time": "2023-01-17T17:55:07.742Z"
   },
   {
    "duration": 25,
    "start_time": "2023-01-17T17:55:07.752Z"
   },
   {
    "duration": 283,
    "start_time": "2023-01-17T17:55:07.781Z"
   },
   {
    "duration": 251,
    "start_time": "2023-01-17T17:55:08.066Z"
   },
   {
    "duration": 344,
    "start_time": "2023-01-17T17:55:08.318Z"
   },
   {
    "duration": 369,
    "start_time": "2023-01-17T17:55:08.664Z"
   },
   {
    "duration": 299,
    "start_time": "2023-01-17T17:55:09.035Z"
   },
   {
    "duration": 7,
    "start_time": "2023-01-17T17:55:09.336Z"
   },
   {
    "duration": 602,
    "start_time": "2023-01-17T17:55:09.345Z"
   },
   {
    "duration": 18,
    "start_time": "2023-01-17T17:55:09.949Z"
   },
   {
    "duration": 28,
    "start_time": "2023-01-17T17:55:09.968Z"
   },
   {
    "duration": 600,
    "start_time": "2023-01-17T17:55:09.998Z"
   },
   {
    "duration": 3,
    "start_time": "2023-01-17T17:55:10.599Z"
   },
   {
    "duration": 36,
    "start_time": "2023-01-17T17:55:10.603Z"
   },
   {
    "duration": 32,
    "start_time": "2023-01-17T17:55:10.640Z"
   },
   {
    "duration": 41,
    "start_time": "2023-01-17T17:55:10.674Z"
   },
   {
    "duration": 60,
    "start_time": "2023-01-17T17:55:10.717Z"
   },
   {
    "duration": 1110,
    "start_time": "2023-01-17T17:55:10.779Z"
   },
   {
    "duration": 102934,
    "start_time": "2023-01-17T17:55:11.891Z"
   },
   {
    "duration": 12765,
    "start_time": "2023-01-17T17:56:54.827Z"
   },
   {
    "duration": 1094,
    "start_time": "2023-01-17T17:57:07.594Z"
   },
   {
    "duration": 0,
    "start_time": "2023-01-17T17:57:08.691Z"
   },
   {
    "duration": 5,
    "start_time": "2023-01-17T18:01:16.025Z"
   },
   {
    "duration": 643,
    "start_time": "2023-01-17T18:01:16.353Z"
   },
   {
    "duration": 19,
    "start_time": "2023-01-17T18:01:16.998Z"
   },
   {
    "duration": 23,
    "start_time": "2023-01-17T18:01:17.018Z"
   },
   {
    "duration": 20,
    "start_time": "2023-01-17T18:01:17.098Z"
   },
   {
    "duration": 153,
    "start_time": "2023-01-17T18:01:17.312Z"
   },
   {
    "duration": 52,
    "start_time": "2023-01-17T18:01:17.699Z"
   },
   {
    "duration": 15,
    "start_time": "2023-01-17T18:01:18.081Z"
   },
   {
    "duration": 4,
    "start_time": "2023-01-17T18:01:18.665Z"
   },
   {
    "duration": 3,
    "start_time": "2023-01-17T18:01:18.888Z"
   },
   {
    "duration": 4,
    "start_time": "2023-01-17T18:01:19.114Z"
   },
   {
    "duration": 3,
    "start_time": "2023-01-17T18:01:19.817Z"
   },
   {
    "duration": 3,
    "start_time": "2023-01-17T18:01:20.281Z"
   },
   {
    "duration": 3,
    "start_time": "2023-01-17T18:01:20.505Z"
   },
   {
    "duration": 3,
    "start_time": "2023-01-17T18:01:21.034Z"
   },
   {
    "duration": 2,
    "start_time": "2023-01-17T18:01:21.386Z"
   },
   {
    "duration": 3,
    "start_time": "2023-01-17T18:01:21.674Z"
   },
   {
    "duration": 3,
    "start_time": "2023-01-17T18:01:21.903Z"
   },
   {
    "duration": 2,
    "start_time": "2023-01-17T18:01:22.122Z"
   },
   {
    "duration": 2,
    "start_time": "2023-01-17T18:01:22.481Z"
   },
   {
    "duration": 3,
    "start_time": "2023-01-17T18:01:22.850Z"
   },
   {
    "duration": 15,
    "start_time": "2023-01-17T18:01:24.257Z"
   },
   {
    "duration": 24,
    "start_time": "2023-01-17T18:01:24.762Z"
   },
   {
    "duration": 5,
    "start_time": "2023-01-17T18:01:25.970Z"
   },
   {
    "duration": 4,
    "start_time": "2023-01-17T18:01:26.528Z"
   },
   {
    "duration": 6,
    "start_time": "2023-01-17T18:01:26.769Z"
   },
   {
    "duration": 4,
    "start_time": "2023-01-17T18:01:27.457Z"
   },
   {
    "duration": 389,
    "start_time": "2023-01-17T18:01:28.785Z"
   },
   {
    "duration": 278,
    "start_time": "2023-01-17T18:01:30.980Z"
   },
   {
    "duration": 258,
    "start_time": "2023-01-17T18:01:33.185Z"
   },
   {
    "duration": 352,
    "start_time": "2023-01-17T18:01:37.090Z"
   },
   {
    "duration": 311,
    "start_time": "2023-01-17T18:01:38.529Z"
   },
   {
    "duration": 8,
    "start_time": "2023-01-17T18:01:46.192Z"
   },
   {
    "duration": 560,
    "start_time": "2023-01-17T18:01:46.745Z"
   },
   {
    "duration": 20,
    "start_time": "2023-01-17T18:01:48.849Z"
   },
   {
    "duration": 10,
    "start_time": "2023-01-17T18:01:49.777Z"
   },
   {
    "duration": 713,
    "start_time": "2023-01-17T18:01:50.450Z"
   },
   {
    "duration": 4,
    "start_time": "2023-01-17T18:01:56.216Z"
   },
   {
    "duration": 4,
    "start_time": "2023-01-17T18:01:56.955Z"
   },
   {
    "duration": 3,
    "start_time": "2023-01-17T18:01:57.264Z"
   },
   {
    "duration": 10,
    "start_time": "2023-01-17T18:01:58.473Z"
   },
   {
    "duration": 24,
    "start_time": "2023-01-17T18:01:59.608Z"
   },
   {
    "duration": 1828,
    "start_time": "2023-01-17T18:02:00.352Z"
   },
   {
    "duration": 6,
    "start_time": "2023-01-17T18:06:52.849Z"
   },
   {
    "duration": 1306,
    "start_time": "2023-01-17T18:07:09.074Z"
   },
   {
    "duration": 1724,
    "start_time": "2023-01-17T18:07:40.855Z"
   },
   {
    "duration": 8668,
    "start_time": "2023-01-17T18:08:07.014Z"
   },
   {
    "duration": 5812,
    "start_time": "2023-01-17T18:13:49.068Z"
   },
   {
    "duration": 3074,
    "start_time": "2023-01-17T18:15:41.106Z"
   },
   {
    "duration": 13047,
    "start_time": "2023-01-17T18:16:26.837Z"
   },
   {
    "duration": 1144,
    "start_time": "2023-01-17T18:16:57.820Z"
   },
   {
    "duration": 3,
    "start_time": "2023-01-17T18:29:36.764Z"
   },
   {
    "duration": 3,
    "start_time": "2023-01-17T18:29:39.508Z"
   },
   {
    "duration": 1467,
    "start_time": "2023-01-17T18:29:49.630Z"
   },
   {
    "duration": 716,
    "start_time": "2023-01-17T18:29:51.099Z"
   },
   {
    "duration": 19,
    "start_time": "2023-01-17T18:29:51.817Z"
   },
   {
    "duration": 19,
    "start_time": "2023-01-17T18:29:51.839Z"
   },
   {
    "duration": 27,
    "start_time": "2023-01-17T18:29:51.859Z"
   },
   {
    "duration": 166,
    "start_time": "2023-01-17T18:29:51.888Z"
   },
   {
    "duration": 102,
    "start_time": "2023-01-17T18:29:52.055Z"
   },
   {
    "duration": 32,
    "start_time": "2023-01-17T18:29:52.159Z"
   },
   {
    "duration": 20,
    "start_time": "2023-01-17T18:29:52.193Z"
   },
   {
    "duration": 25,
    "start_time": "2023-01-17T18:29:52.217Z"
   },
   {
    "duration": 29,
    "start_time": "2023-01-17T18:29:52.244Z"
   },
   {
    "duration": 185,
    "start_time": "2023-01-17T18:29:52.275Z"
   },
   {
    "duration": 0,
    "start_time": "2023-01-17T18:29:52.463Z"
   },
   {
    "duration": 0,
    "start_time": "2023-01-17T18:29:52.464Z"
   },
   {
    "duration": 0,
    "start_time": "2023-01-17T18:29:52.465Z"
   },
   {
    "duration": 0,
    "start_time": "2023-01-17T18:29:52.466Z"
   },
   {
    "duration": 0,
    "start_time": "2023-01-17T18:29:52.468Z"
   },
   {
    "duration": 0,
    "start_time": "2023-01-17T18:29:52.478Z"
   },
   {
    "duration": 0,
    "start_time": "2023-01-17T18:29:52.479Z"
   },
   {
    "duration": 0,
    "start_time": "2023-01-17T18:29:52.480Z"
   },
   {
    "duration": 0,
    "start_time": "2023-01-17T18:29:52.482Z"
   },
   {
    "duration": 0,
    "start_time": "2023-01-17T18:29:52.483Z"
   },
   {
    "duration": 0,
    "start_time": "2023-01-17T18:29:52.485Z"
   },
   {
    "duration": 0,
    "start_time": "2023-01-17T18:29:52.486Z"
   },
   {
    "duration": 0,
    "start_time": "2023-01-17T18:29:52.488Z"
   },
   {
    "duration": 0,
    "start_time": "2023-01-17T18:29:52.489Z"
   },
   {
    "duration": 0,
    "start_time": "2023-01-17T18:29:52.491Z"
   },
   {
    "duration": 0,
    "start_time": "2023-01-17T18:29:52.493Z"
   },
   {
    "duration": 0,
    "start_time": "2023-01-17T18:29:52.494Z"
   },
   {
    "duration": 0,
    "start_time": "2023-01-17T18:29:52.495Z"
   },
   {
    "duration": 0,
    "start_time": "2023-01-17T18:29:52.498Z"
   },
   {
    "duration": 0,
    "start_time": "2023-01-17T18:29:52.499Z"
   },
   {
    "duration": 0,
    "start_time": "2023-01-17T18:29:52.501Z"
   },
   {
    "duration": 0,
    "start_time": "2023-01-17T18:29:52.502Z"
   },
   {
    "duration": 0,
    "start_time": "2023-01-17T18:29:52.504Z"
   },
   {
    "duration": 0,
    "start_time": "2023-01-17T18:29:52.505Z"
   },
   {
    "duration": 0,
    "start_time": "2023-01-17T18:29:52.507Z"
   },
   {
    "duration": 0,
    "start_time": "2023-01-17T18:29:52.508Z"
   },
   {
    "duration": 0,
    "start_time": "2023-01-17T18:29:52.509Z"
   },
   {
    "duration": 0,
    "start_time": "2023-01-17T18:29:52.512Z"
   },
   {
    "duration": 0,
    "start_time": "2023-01-17T18:29:52.513Z"
   },
   {
    "duration": 0,
    "start_time": "2023-01-17T18:29:52.514Z"
   },
   {
    "duration": 0,
    "start_time": "2023-01-17T18:29:52.515Z"
   },
   {
    "duration": 0,
    "start_time": "2023-01-17T18:29:52.517Z"
   },
   {
    "duration": 0,
    "start_time": "2023-01-17T18:29:52.518Z"
   },
   {
    "duration": 0,
    "start_time": "2023-01-17T18:29:52.578Z"
   },
   {
    "duration": 0,
    "start_time": "2023-01-17T18:29:52.580Z"
   },
   {
    "duration": 0,
    "start_time": "2023-01-17T18:29:52.581Z"
   },
   {
    "duration": 0,
    "start_time": "2023-01-17T18:29:52.582Z"
   },
   {
    "duration": 0,
    "start_time": "2023-01-17T18:29:52.584Z"
   },
   {
    "duration": 4,
    "start_time": "2023-01-17T18:30:56.633Z"
   },
   {
    "duration": 729,
    "start_time": "2023-01-17T18:30:56.960Z"
   },
   {
    "duration": 16,
    "start_time": "2023-01-17T18:30:57.691Z"
   },
   {
    "duration": 38,
    "start_time": "2023-01-17T18:30:57.709Z"
   },
   {
    "duration": 38,
    "start_time": "2023-01-17T18:30:57.749Z"
   },
   {
    "duration": 179,
    "start_time": "2023-01-17T18:30:57.789Z"
   },
   {
    "duration": 53,
    "start_time": "2023-01-17T18:30:58.170Z"
   },
   {
    "duration": 15,
    "start_time": "2023-01-17T18:30:58.809Z"
   },
   {
    "duration": 4,
    "start_time": "2023-01-17T18:30:59.648Z"
   },
   {
    "duration": 5,
    "start_time": "2023-01-17T18:31:06.448Z"
   },
   {
    "duration": 4,
    "start_time": "2023-01-17T18:31:07.065Z"
   },
   {
    "duration": 12,
    "start_time": "2023-01-17T18:31:11.450Z"
   },
   {
    "duration": 23,
    "start_time": "2023-01-17T18:31:20.111Z"
   },
   {
    "duration": 32,
    "start_time": "2023-01-17T18:31:39.113Z"
   },
   {
    "duration": 28,
    "start_time": "2023-01-17T18:31:41.471Z"
   },
   {
    "duration": 9,
    "start_time": "2023-01-17T18:31:43.693Z"
   },
   {
    "duration": 5,
    "start_time": "2023-01-17T18:31:47.742Z"
   },
   {
    "duration": 6,
    "start_time": "2023-01-17T18:31:48.110Z"
   },
   {
    "duration": 5,
    "start_time": "2023-01-17T18:31:48.558Z"
   },
   {
    "duration": 4,
    "start_time": "2023-01-17T18:31:49.397Z"
   },
   {
    "duration": 306,
    "start_time": "2023-01-17T18:31:49.899Z"
   },
   {
    "duration": 304,
    "start_time": "2023-01-17T18:31:50.229Z"
   },
   {
    "duration": 426,
    "start_time": "2023-01-17T18:31:51.934Z"
   },
   {
    "duration": 327,
    "start_time": "2023-01-17T18:31:54.600Z"
   },
   {
    "duration": 368,
    "start_time": "2023-01-17T18:31:56.341Z"
   },
   {
    "duration": 7,
    "start_time": "2023-01-17T18:31:58.142Z"
   },
   {
    "duration": 566,
    "start_time": "2023-01-17T18:31:59.349Z"
   },
   {
    "duration": 14,
    "start_time": "2023-01-17T18:32:02.037Z"
   },
   {
    "duration": 9,
    "start_time": "2023-01-17T18:32:03.497Z"
   },
   {
    "duration": 560,
    "start_time": "2023-01-17T18:32:04.254Z"
   },
   {
    "duration": 3,
    "start_time": "2023-01-17T18:32:08.700Z"
   },
   {
    "duration": 3,
    "start_time": "2023-01-17T18:32:09.594Z"
   },
   {
    "duration": 3,
    "start_time": "2023-01-17T18:32:10.123Z"
   },
   {
    "duration": 5,
    "start_time": "2023-01-17T18:32:11.100Z"
   },
   {
    "duration": 17,
    "start_time": "2023-01-17T18:32:12.404Z"
   },
   {
    "duration": 2550,
    "start_time": "2023-01-17T18:32:13.532Z"
   },
   {
    "duration": 59456,
    "start_time": "2023-01-17T18:32:52.146Z"
   },
   {
    "duration": 10458,
    "start_time": "2023-01-17T18:34:25.038Z"
   },
   {
    "duration": 5,
    "start_time": "2023-01-17T18:34:48.294Z"
   },
   {
    "duration": 15,
    "start_time": "2023-01-17T18:34:49.253Z"
   },
   {
    "duration": 1978,
    "start_time": "2023-01-17T18:35:52.906Z"
   },
   {
    "duration": 47750,
    "start_time": "2023-01-17T18:36:29.415Z"
   },
   {
    "duration": 2517,
    "start_time": "2023-01-17T18:38:17.748Z"
   },
   {
    "duration": 100,
    "start_time": "2023-01-17T18:47:30.264Z"
   },
   {
    "duration": 92,
    "start_time": "2023-01-17T18:48:55.522Z"
   },
   {
    "duration": 84,
    "start_time": "2023-01-17T18:52:48.112Z"
   },
   {
    "duration": 14,
    "start_time": "2023-01-17T18:57:23.727Z"
   },
   {
    "duration": 15,
    "start_time": "2023-01-17T18:57:45.223Z"
   },
   {
    "duration": 9,
    "start_time": "2023-01-17T19:00:31.199Z"
   },
   {
    "duration": 10,
    "start_time": "2023-01-17T19:05:37.591Z"
   },
   {
    "duration": 9,
    "start_time": "2023-01-17T19:06:18.687Z"
   },
   {
    "duration": 14,
    "start_time": "2023-01-17T19:27:01.513Z"
   },
   {
    "duration": 21,
    "start_time": "2023-01-17T19:27:04.755Z"
   },
   {
    "duration": 15,
    "start_time": "2023-01-17T19:27:58.533Z"
   },
   {
    "duration": 14,
    "start_time": "2023-01-17T19:28:03.838Z"
   },
   {
    "duration": 74,
    "start_time": "2023-01-17T19:36:09.028Z"
   },
   {
    "duration": 71,
    "start_time": "2023-01-17T19:36:20.828Z"
   },
   {
    "duration": 71,
    "start_time": "2023-01-17T19:36:58.683Z"
   },
   {
    "duration": 88,
    "start_time": "2023-01-17T19:37:05.625Z"
   },
   {
    "duration": 15,
    "start_time": "2023-01-17T19:38:39.638Z"
   },
   {
    "duration": 96,
    "start_time": "2023-01-17T19:38:54.052Z"
   },
   {
    "duration": 77,
    "start_time": "2023-01-17T19:38:59.660Z"
   },
   {
    "duration": 83,
    "start_time": "2023-01-17T19:39:16.647Z"
   },
   {
    "duration": 19,
    "start_time": "2023-01-17T19:39:47.041Z"
   },
   {
    "duration": 20,
    "start_time": "2023-01-17T19:40:00.297Z"
   },
   {
    "duration": 24,
    "start_time": "2023-01-17T19:40:05.457Z"
   },
   {
    "duration": 49,
    "start_time": "2023-01-17T20:14:11.179Z"
   },
   {
    "duration": 49,
    "start_time": "2023-01-17T20:14:31.668Z"
   },
   {
    "duration": 1737,
    "start_time": "2023-01-18T07:08:35.144Z"
   },
   {
    "duration": 3136,
    "start_time": "2023-01-18T07:08:36.883Z"
   },
   {
    "duration": 20,
    "start_time": "2023-01-18T07:08:40.021Z"
   },
   {
    "duration": 12,
    "start_time": "2023-01-18T07:08:40.044Z"
   },
   {
    "duration": 32,
    "start_time": "2023-01-18T07:08:40.058Z"
   },
   {
    "duration": 156,
    "start_time": "2023-01-18T07:08:40.091Z"
   },
   {
    "duration": 93,
    "start_time": "2023-01-18T07:08:44.139Z"
   },
   {
    "duration": 16,
    "start_time": "2023-01-18T07:08:45.670Z"
   },
   {
    "duration": 1383,
    "start_time": "2023-01-18T07:29:58.282Z"
   },
   {
    "duration": 655,
    "start_time": "2023-01-18T07:29:59.667Z"
   },
   {
    "duration": 23,
    "start_time": "2023-01-18T07:30:00.324Z"
   },
   {
    "duration": 21,
    "start_time": "2023-01-18T07:30:00.349Z"
   },
   {
    "duration": 45,
    "start_time": "2023-01-18T07:30:00.373Z"
   },
   {
    "duration": 175,
    "start_time": "2023-01-18T07:30:00.421Z"
   },
   {
    "duration": 110,
    "start_time": "2023-01-18T07:30:00.598Z"
   },
   {
    "duration": 11,
    "start_time": "2023-01-18T07:30:00.710Z"
   },
   {
    "duration": 102,
    "start_time": "2023-01-18T07:30:00.723Z"
   },
   {
    "duration": 121,
    "start_time": "2023-01-18T07:30:00.826Z"
   },
   {
    "duration": 4,
    "start_time": "2023-01-18T07:30:00.948Z"
   },
   {
    "duration": 49,
    "start_time": "2023-01-18T07:30:00.954Z"
   },
   {
    "duration": 60,
    "start_time": "2023-01-18T07:30:01.005Z"
   },
   {
    "duration": 28,
    "start_time": "2023-01-18T07:30:01.068Z"
   },
   {
    "duration": 70,
    "start_time": "2023-01-18T07:30:01.097Z"
   },
   {
    "duration": 72,
    "start_time": "2023-01-18T07:30:01.169Z"
   },
   {
    "duration": 39,
    "start_time": "2023-01-18T07:30:01.243Z"
   },
   {
    "duration": 196,
    "start_time": "2023-01-18T07:30:01.285Z"
   },
   {
    "duration": 0,
    "start_time": "2023-01-18T07:30:01.484Z"
   },
   {
    "duration": 0,
    "start_time": "2023-01-18T07:30:01.491Z"
   },
   {
    "duration": 0,
    "start_time": "2023-01-18T07:30:01.493Z"
   },
   {
    "duration": 0,
    "start_time": "2023-01-18T07:30:01.494Z"
   },
   {
    "duration": 0,
    "start_time": "2023-01-18T07:30:01.495Z"
   },
   {
    "duration": 0,
    "start_time": "2023-01-18T07:30:01.496Z"
   },
   {
    "duration": 0,
    "start_time": "2023-01-18T07:30:01.497Z"
   },
   {
    "duration": 0,
    "start_time": "2023-01-18T07:30:01.498Z"
   },
   {
    "duration": 0,
    "start_time": "2023-01-18T07:30:01.499Z"
   },
   {
    "duration": 0,
    "start_time": "2023-01-18T07:30:01.500Z"
   },
   {
    "duration": 0,
    "start_time": "2023-01-18T07:30:01.501Z"
   },
   {
    "duration": 0,
    "start_time": "2023-01-18T07:30:01.502Z"
   },
   {
    "duration": 0,
    "start_time": "2023-01-18T07:30:01.503Z"
   },
   {
    "duration": 0,
    "start_time": "2023-01-18T07:30:01.505Z"
   },
   {
    "duration": 0,
    "start_time": "2023-01-18T07:30:01.506Z"
   },
   {
    "duration": 0,
    "start_time": "2023-01-18T07:30:01.507Z"
   },
   {
    "duration": 0,
    "start_time": "2023-01-18T07:30:01.508Z"
   },
   {
    "duration": 0,
    "start_time": "2023-01-18T07:30:01.510Z"
   },
   {
    "duration": 0,
    "start_time": "2023-01-18T07:30:01.511Z"
   },
   {
    "duration": 0,
    "start_time": "2023-01-18T07:30:01.512Z"
   },
   {
    "duration": 0,
    "start_time": "2023-01-18T07:30:01.513Z"
   },
   {
    "duration": 0,
    "start_time": "2023-01-18T07:30:01.514Z"
   },
   {
    "duration": 0,
    "start_time": "2023-01-18T07:30:01.515Z"
   },
   {
    "duration": 0,
    "start_time": "2023-01-18T07:30:01.516Z"
   },
   {
    "duration": 0,
    "start_time": "2023-01-18T07:30:01.518Z"
   },
   {
    "duration": 0,
    "start_time": "2023-01-18T07:30:01.519Z"
   },
   {
    "duration": 0,
    "start_time": "2023-01-18T07:30:01.520Z"
   },
   {
    "duration": 0,
    "start_time": "2023-01-18T07:30:01.522Z"
   },
   {
    "duration": 0,
    "start_time": "2023-01-18T07:30:01.523Z"
   },
   {
    "duration": 0,
    "start_time": "2023-01-18T07:30:01.524Z"
   },
   {
    "duration": 0,
    "start_time": "2023-01-18T07:30:01.525Z"
   },
   {
    "duration": 0,
    "start_time": "2023-01-18T07:30:01.526Z"
   },
   {
    "duration": 0,
    "start_time": "2023-01-18T07:30:01.527Z"
   },
   {
    "duration": 4,
    "start_time": "2023-01-18T07:30:17.714Z"
   },
   {
    "duration": 626,
    "start_time": "2023-01-18T07:30:18.219Z"
   },
   {
    "duration": 17,
    "start_time": "2023-01-18T07:30:19.127Z"
   },
   {
    "duration": 14,
    "start_time": "2023-01-18T07:30:19.602Z"
   },
   {
    "duration": 18,
    "start_time": "2023-01-18T07:30:19.977Z"
   },
   {
    "duration": 153,
    "start_time": "2023-01-18T07:30:20.453Z"
   },
   {
    "duration": 50,
    "start_time": "2023-01-18T07:30:26.918Z"
   },
   {
    "duration": 6,
    "start_time": "2023-01-18T07:30:33.908Z"
   },
   {
    "duration": 122,
    "start_time": "2023-01-18T07:30:45.462Z"
   },
   {
    "duration": 4,
    "start_time": "2023-01-18T07:30:47.707Z"
   },
   {
    "duration": 24,
    "start_time": "2023-01-18T07:30:51.159Z"
   },
   {
    "duration": 16,
    "start_time": "2023-01-18T07:30:53.340Z"
   },
   {
    "duration": 3,
    "start_time": "2023-01-18T07:30:56.925Z"
   },
   {
    "duration": 4,
    "start_time": "2023-01-18T07:30:57.784Z"
   },
   {
    "duration": 4,
    "start_time": "2023-01-18T07:30:59.664Z"
   },
   {
    "duration": 13,
    "start_time": "2023-01-18T07:31:06.049Z"
   },
   {
    "duration": 10,
    "start_time": "2023-01-18T07:32:49.335Z"
   },
   {
    "duration": 10,
    "start_time": "2023-01-18T07:33:06.517Z"
   },
   {
    "duration": 4,
    "start_time": "2023-01-18T07:35:12.787Z"
   },
   {
    "duration": 4,
    "start_time": "2023-01-18T07:35:19.382Z"
   },
   {
    "duration": 2,
    "start_time": "2023-01-18T07:35:26.585Z"
   },
   {
    "duration": 4,
    "start_time": "2023-01-18T07:35:32.795Z"
   },
   {
    "duration": 4,
    "start_time": "2023-01-18T07:35:33.393Z"
   },
   {
    "duration": 4,
    "start_time": "2023-01-18T07:35:33.838Z"
   },
   {
    "duration": 4,
    "start_time": "2023-01-18T07:35:36.199Z"
   },
   {
    "duration": 262,
    "start_time": "2023-01-18T07:35:38.131Z"
   },
   {
    "duration": 330,
    "start_time": "2023-01-18T07:35:40.776Z"
   },
   {
    "duration": 263,
    "start_time": "2023-01-18T07:35:42.833Z"
   },
   {
    "duration": 333,
    "start_time": "2023-01-18T07:35:48.510Z"
   },
   {
    "duration": 331,
    "start_time": "2023-01-18T07:35:51.565Z"
   },
   {
    "duration": 6,
    "start_time": "2023-01-18T07:35:55.140Z"
   },
   {
    "duration": 603,
    "start_time": "2023-01-18T07:35:56.689Z"
   },
   {
    "duration": 17,
    "start_time": "2023-01-18T07:35:59.617Z"
   },
   {
    "duration": 6,
    "start_time": "2023-01-18T07:36:02.491Z"
   },
   {
    "duration": 666,
    "start_time": "2023-01-18T07:36:03.899Z"
   },
   {
    "duration": 18,
    "start_time": "2023-01-18T07:36:10.851Z"
   },
   {
    "duration": 4,
    "start_time": "2023-01-18T07:38:39.973Z"
   },
   {
    "duration": 2,
    "start_time": "2023-01-18T07:38:40.637Z"
   },
   {
    "duration": 3,
    "start_time": "2023-01-18T07:38:42.523Z"
   },
   {
    "duration": 26,
    "start_time": "2023-01-18T07:39:42.766Z"
   },
   {
    "duration": 13,
    "start_time": "2023-01-18T07:41:26.053Z"
   },
   {
    "duration": 11,
    "start_time": "2023-01-18T07:41:33.431Z"
   },
   {
    "duration": 143,
    "start_time": "2023-01-18T07:42:21.750Z"
   },
   {
    "duration": 325768,
    "start_time": "2023-01-18T07:43:13.460Z"
   },
   {
    "duration": 3,
    "start_time": "2023-01-18T07:52:13.642Z"
   },
   {
    "duration": 3,
    "start_time": "2023-01-18T07:52:14.586Z"
   },
   {
    "duration": 3,
    "start_time": "2023-01-18T07:52:15.032Z"
   },
   {
    "duration": 23,
    "start_time": "2023-01-18T07:52:19.952Z"
   },
   {
    "duration": 2,
    "start_time": "2023-01-18T07:52:43.671Z"
   },
   {
    "duration": 118,
    "start_time": "2023-01-18T07:52:46.820Z"
   },
   {
    "duration": 339572,
    "start_time": "2023-01-18T07:53:14.345Z"
   },
   {
    "duration": 119,
    "start_time": "2023-01-18T08:00:33.194Z"
   },
   {
    "duration": 105,
    "start_time": "2023-01-18T08:01:27.037Z"
   },
   {
    "duration": 115,
    "start_time": "2023-01-18T08:01:55.285Z"
   },
   {
    "duration": 22217,
    "start_time": "2023-01-18T08:02:22.650Z"
   },
   {
    "duration": 111,
    "start_time": "2023-01-18T08:15:04.128Z"
   },
   {
    "duration": 100,
    "start_time": "2023-01-18T08:15:17.380Z"
   },
   {
    "duration": 44,
    "start_time": "2023-01-18T08:15:38.648Z"
   },
   {
    "duration": 5,
    "start_time": "2023-01-18T08:15:56.224Z"
   },
   {
    "duration": 9,
    "start_time": "2023-01-18T08:16:13.417Z"
   },
   {
    "duration": 8,
    "start_time": "2023-01-18T08:16:43.469Z"
   },
   {
    "duration": 9,
    "start_time": "2023-01-18T08:16:49.305Z"
   },
   {
    "duration": 3,
    "start_time": "2023-01-18T08:16:53.170Z"
   },
   {
    "duration": 3,
    "start_time": "2023-01-18T08:17:25.431Z"
   },
   {
    "duration": 1363,
    "start_time": "2023-01-18T08:17:49.090Z"
   },
   {
    "duration": 608,
    "start_time": "2023-01-18T08:17:50.456Z"
   },
   {
    "duration": 25,
    "start_time": "2023-01-18T08:17:51.066Z"
   },
   {
    "duration": 12,
    "start_time": "2023-01-18T08:17:51.092Z"
   },
   {
    "duration": 18,
    "start_time": "2023-01-18T08:17:51.107Z"
   },
   {
    "duration": 185,
    "start_time": "2023-01-18T08:17:51.127Z"
   },
   {
    "duration": 107,
    "start_time": "2023-01-18T08:17:51.314Z"
   },
   {
    "duration": 7,
    "start_time": "2023-01-18T08:17:51.423Z"
   },
   {
    "duration": 94,
    "start_time": "2023-01-18T08:17:51.431Z"
   },
   {
    "duration": 131,
    "start_time": "2023-01-18T08:17:51.527Z"
   },
   {
    "duration": 5,
    "start_time": "2023-01-18T08:17:51.660Z"
   },
   {
    "duration": 59,
    "start_time": "2023-01-18T08:17:51.667Z"
   },
   {
    "duration": 25,
    "start_time": "2023-01-18T08:17:51.728Z"
   },
   {
    "duration": 15,
    "start_time": "2023-01-18T08:17:51.755Z"
   },
   {
    "duration": 22,
    "start_time": "2023-01-18T08:17:51.771Z"
   },
   {
    "duration": 20,
    "start_time": "2023-01-18T08:17:51.794Z"
   },
   {
    "duration": 20,
    "start_time": "2023-01-18T08:17:51.816Z"
   },
   {
    "duration": 6,
    "start_time": "2023-01-18T08:17:51.837Z"
   },
   {
    "duration": 10,
    "start_time": "2023-01-18T08:17:51.845Z"
   },
   {
    "duration": 10,
    "start_time": "2023-01-18T08:17:51.857Z"
   },
   {
    "duration": 18,
    "start_time": "2023-01-18T08:17:51.869Z"
   },
   {
    "duration": 6,
    "start_time": "2023-01-18T08:17:51.888Z"
   },
   {
    "duration": 29,
    "start_time": "2023-01-18T08:17:51.896Z"
   },
   {
    "duration": 7,
    "start_time": "2023-01-18T08:17:51.927Z"
   },
   {
    "duration": 6,
    "start_time": "2023-01-18T08:17:51.935Z"
   },
   {
    "duration": 13,
    "start_time": "2023-01-18T08:17:51.943Z"
   },
   {
    "duration": 264,
    "start_time": "2023-01-18T08:17:51.957Z"
   },
   {
    "duration": 285,
    "start_time": "2023-01-18T08:17:52.222Z"
   },
   {
    "duration": 344,
    "start_time": "2023-01-18T08:17:52.509Z"
   },
   {
    "duration": 395,
    "start_time": "2023-01-18T08:17:52.855Z"
   },
   {
    "duration": 371,
    "start_time": "2023-01-18T08:17:53.251Z"
   },
   {
    "duration": 6,
    "start_time": "2023-01-18T08:17:53.624Z"
   },
   {
    "duration": 571,
    "start_time": "2023-01-18T08:17:53.632Z"
   },
   {
    "duration": 18,
    "start_time": "2023-01-18T08:17:54.204Z"
   },
   {
    "duration": 8,
    "start_time": "2023-01-18T08:17:54.224Z"
   },
   {
    "duration": 562,
    "start_time": "2023-01-18T08:17:54.233Z"
   },
   {
    "duration": 122,
    "start_time": "2023-01-18T08:17:54.797Z"
   },
   {
    "duration": 4,
    "start_time": "2023-01-18T08:17:54.921Z"
   },
   {
    "duration": 26,
    "start_time": "2023-01-18T08:17:54.926Z"
   },
   {
    "duration": 6,
    "start_time": "2023-01-18T08:17:54.954Z"
   },
   {
    "duration": 17,
    "start_time": "2023-01-18T08:17:54.964Z"
   },
   {
    "duration": 3,
    "start_time": "2023-01-18T08:17:54.982Z"
   },
   {
    "duration": 10,
    "start_time": "2023-01-18T08:17:54.987Z"
   },
   {
    "duration": 5,
    "start_time": "2023-01-18T08:17:54.999Z"
   },
   {
    "duration": 134,
    "start_time": "2023-01-18T08:17:55.006Z"
   },
   {
    "duration": 329350,
    "start_time": "2023-01-18T08:17:55.142Z"
   },
   {
    "duration": 22277,
    "start_time": "2023-01-18T08:23:24.494Z"
   },
   {
    "duration": 919,
    "start_time": "2023-01-18T08:23:46.773Z"
   },
   {
    "duration": 0,
    "start_time": "2023-01-18T08:23:47.693Z"
   },
   {
    "duration": 0,
    "start_time": "2023-01-18T08:23:47.694Z"
   },
   {
    "duration": 0,
    "start_time": "2023-01-18T08:23:47.696Z"
   },
   {
    "duration": 0,
    "start_time": "2023-01-18T08:23:47.697Z"
   },
   {
    "duration": 5,
    "start_time": "2023-01-18T08:29:03.339Z"
   },
   {
    "duration": 650,
    "start_time": "2023-01-18T08:29:03.678Z"
   },
   {
    "duration": 18,
    "start_time": "2023-01-18T08:29:04.330Z"
   },
   {
    "duration": 15,
    "start_time": "2023-01-18T08:29:04.630Z"
   },
   {
    "duration": 19,
    "start_time": "2023-01-18T08:29:05.019Z"
   },
   {
    "duration": 164,
    "start_time": "2023-01-18T08:29:05.578Z"
   },
   {
    "duration": 51,
    "start_time": "2023-01-18T08:29:06.976Z"
   },
   {
    "duration": 6,
    "start_time": "2023-01-18T08:29:07.975Z"
   },
   {
    "duration": 61,
    "start_time": "2023-01-18T08:29:08.819Z"
   },
   {
    "duration": 119,
    "start_time": "2023-01-18T08:29:11.844Z"
   },
   {
    "duration": 5,
    "start_time": "2023-01-18T08:29:12.880Z"
   },
   {
    "duration": 41,
    "start_time": "2023-01-18T08:29:15.131Z"
   },
   {
    "duration": 23,
    "start_time": "2023-01-18T08:29:15.774Z"
   },
   {
    "duration": 13,
    "start_time": "2023-01-18T08:29:18.305Z"
   },
   {
    "duration": 3,
    "start_time": "2023-01-18T08:29:23.119Z"
   },
   {
    "duration": 4,
    "start_time": "2023-01-18T08:29:29.123Z"
   },
   {
    "duration": 5,
    "start_time": "2023-01-18T08:29:30.709Z"
   },
   {
    "duration": 3,
    "start_time": "2023-01-18T08:29:32.715Z"
   },
   {
    "duration": 2,
    "start_time": "2023-01-18T08:29:33.576Z"
   },
   {
    "duration": 3,
    "start_time": "2023-01-18T08:29:34.112Z"
   },
   {
    "duration": 2,
    "start_time": "2023-01-18T08:29:34.693Z"
   },
   {
    "duration": 2,
    "start_time": "2023-01-18T08:29:35.280Z"
   },
   {
    "duration": 4,
    "start_time": "2023-01-18T08:29:38.686Z"
   },
   {
    "duration": 4,
    "start_time": "2023-01-18T08:29:38.951Z"
   },
   {
    "duration": 5,
    "start_time": "2023-01-18T08:29:39.227Z"
   },
   {
    "duration": 4,
    "start_time": "2023-01-18T08:29:40.078Z"
   },
   {
    "duration": 262,
    "start_time": "2023-01-18T08:29:41.065Z"
   },
   {
    "duration": 356,
    "start_time": "2023-01-18T08:29:42.008Z"
   },
   {
    "duration": 266,
    "start_time": "2023-01-18T08:29:43.438Z"
   },
   {
    "duration": 354,
    "start_time": "2023-01-18T08:29:45.177Z"
   },
   {
    "duration": 367,
    "start_time": "2023-01-18T08:29:45.587Z"
   },
   {
    "duration": 7,
    "start_time": "2023-01-18T08:29:47.115Z"
   },
   {
    "duration": 550,
    "start_time": "2023-01-18T08:29:47.782Z"
   },
   {
    "duration": 17,
    "start_time": "2023-01-18T08:29:48.399Z"
   },
   {
    "duration": 8,
    "start_time": "2023-01-18T08:29:50.312Z"
   },
   {
    "duration": 716,
    "start_time": "2023-01-18T08:29:51.185Z"
   },
   {
    "duration": 18,
    "start_time": "2023-01-18T08:29:59.295Z"
   },
   {
    "duration": 3,
    "start_time": "2023-01-18T08:30:06.331Z"
   },
   {
    "duration": 3,
    "start_time": "2023-01-18T08:30:08.502Z"
   },
   {
    "duration": 3,
    "start_time": "2023-01-18T08:30:10.410Z"
   },
   {
    "duration": 9,
    "start_time": "2023-01-18T08:30:12.196Z"
   },
   {
    "duration": 2,
    "start_time": "2023-01-18T08:30:14.112Z"
   },
   {
    "duration": 2,
    "start_time": "2023-01-18T08:30:14.666Z"
   },
   {
    "duration": 5,
    "start_time": "2023-01-18T08:30:15.020Z"
   },
   {
    "duration": 121,
    "start_time": "2023-01-18T08:30:17.210Z"
   },
   {
    "duration": 9,
    "start_time": "2023-01-18T08:43:59.774Z"
   },
   {
    "duration": 3,
    "start_time": "2023-01-18T08:44:01.992Z"
   },
   {
    "duration": 3,
    "start_time": "2023-01-18T08:44:03.109Z"
   },
   {
    "duration": 2,
    "start_time": "2023-01-18T08:44:04.073Z"
   },
   {
    "duration": 4,
    "start_time": "2023-01-18T08:44:21.963Z"
   },
   {
    "duration": 112,
    "start_time": "2023-01-18T08:44:24.418Z"
   },
   {
    "duration": 23,
    "start_time": "2023-01-18T08:50:56.982Z"
   },
   {
    "duration": 8,
    "start_time": "2023-01-18T08:51:04.571Z"
   },
   {
    "duration": 3,
    "start_time": "2023-01-18T08:51:08.938Z"
   },
   {
    "duration": 2,
    "start_time": "2023-01-18T08:51:09.721Z"
   },
   {
    "duration": 2,
    "start_time": "2023-01-18T08:51:10.434Z"
   },
   {
    "duration": 4,
    "start_time": "2023-01-18T08:51:15.244Z"
   },
   {
    "duration": 112,
    "start_time": "2023-01-18T08:51:17.219Z"
   },
   {
    "duration": 7,
    "start_time": "2023-01-18T09:23:32.547Z"
   },
   {
    "duration": 12,
    "start_time": "2023-01-18T09:23:34.686Z"
   },
   {
    "duration": 8,
    "start_time": "2023-01-18T09:23:43.030Z"
   },
   {
    "duration": 5,
    "start_time": "2023-01-18T09:23:54.275Z"
   },
   {
    "duration": 12,
    "start_time": "2023-01-18T09:23:56.078Z"
   },
   {
    "duration": 12,
    "start_time": "2023-01-18T09:23:57.221Z"
   },
   {
    "duration": 10,
    "start_time": "2023-01-18T09:24:06.828Z"
   },
   {
    "duration": 1371,
    "start_time": "2023-01-18T09:24:14.118Z"
   },
   {
    "duration": 729,
    "start_time": "2023-01-18T09:24:15.491Z"
   },
   {
    "duration": 23,
    "start_time": "2023-01-18T09:24:16.223Z"
   },
   {
    "duration": 18,
    "start_time": "2023-01-18T09:24:16.248Z"
   },
   {
    "duration": 40,
    "start_time": "2023-01-18T09:24:16.269Z"
   },
   {
    "duration": 208,
    "start_time": "2023-01-18T09:24:16.311Z"
   },
   {
    "duration": 99,
    "start_time": "2023-01-18T09:24:16.520Z"
   },
   {
    "duration": 6,
    "start_time": "2023-01-18T09:24:16.621Z"
   },
   {
    "duration": 121,
    "start_time": "2023-01-18T09:24:16.629Z"
   },
   {
    "duration": 0,
    "start_time": "2023-01-18T09:24:16.753Z"
   },
   {
    "duration": 0,
    "start_time": "2023-01-18T09:24:16.754Z"
   },
   {
    "duration": 0,
    "start_time": "2023-01-18T09:24:16.755Z"
   },
   {
    "duration": 0,
    "start_time": "2023-01-18T09:24:16.756Z"
   },
   {
    "duration": 0,
    "start_time": "2023-01-18T09:24:16.757Z"
   },
   {
    "duration": 0,
    "start_time": "2023-01-18T09:24:16.758Z"
   },
   {
    "duration": 0,
    "start_time": "2023-01-18T09:24:16.759Z"
   },
   {
    "duration": 0,
    "start_time": "2023-01-18T09:24:16.760Z"
   },
   {
    "duration": 0,
    "start_time": "2023-01-18T09:24:16.761Z"
   },
   {
    "duration": 0,
    "start_time": "2023-01-18T09:24:16.762Z"
   },
   {
    "duration": 0,
    "start_time": "2023-01-18T09:24:16.763Z"
   },
   {
    "duration": 0,
    "start_time": "2023-01-18T09:24:16.764Z"
   },
   {
    "duration": 0,
    "start_time": "2023-01-18T09:24:16.765Z"
   },
   {
    "duration": 0,
    "start_time": "2023-01-18T09:24:16.766Z"
   },
   {
    "duration": 0,
    "start_time": "2023-01-18T09:24:16.792Z"
   },
   {
    "duration": 0,
    "start_time": "2023-01-18T09:24:16.793Z"
   },
   {
    "duration": 0,
    "start_time": "2023-01-18T09:24:16.793Z"
   },
   {
    "duration": 0,
    "start_time": "2023-01-18T09:24:16.794Z"
   },
   {
    "duration": 0,
    "start_time": "2023-01-18T09:24:16.796Z"
   },
   {
    "duration": 1,
    "start_time": "2023-01-18T09:24:16.796Z"
   },
   {
    "duration": 0,
    "start_time": "2023-01-18T09:24:16.797Z"
   },
   {
    "duration": 0,
    "start_time": "2023-01-18T09:24:16.798Z"
   },
   {
    "duration": 0,
    "start_time": "2023-01-18T09:24:16.799Z"
   },
   {
    "duration": 0,
    "start_time": "2023-01-18T09:24:16.801Z"
   },
   {
    "duration": 0,
    "start_time": "2023-01-18T09:24:16.802Z"
   },
   {
    "duration": 0,
    "start_time": "2023-01-18T09:24:16.803Z"
   },
   {
    "duration": 0,
    "start_time": "2023-01-18T09:24:16.804Z"
   },
   {
    "duration": 0,
    "start_time": "2023-01-18T09:24:16.805Z"
   },
   {
    "duration": 0,
    "start_time": "2023-01-18T09:24:16.806Z"
   },
   {
    "duration": 0,
    "start_time": "2023-01-18T09:24:16.807Z"
   },
   {
    "duration": 0,
    "start_time": "2023-01-18T09:24:16.808Z"
   },
   {
    "duration": 0,
    "start_time": "2023-01-18T09:24:16.809Z"
   },
   {
    "duration": 0,
    "start_time": "2023-01-18T09:24:16.809Z"
   },
   {
    "duration": 0,
    "start_time": "2023-01-18T09:24:16.810Z"
   },
   {
    "duration": 0,
    "start_time": "2023-01-18T09:24:16.811Z"
   },
   {
    "duration": 0,
    "start_time": "2023-01-18T09:24:16.812Z"
   },
   {
    "duration": 0,
    "start_time": "2023-01-18T09:24:16.813Z"
   },
   {
    "duration": 0,
    "start_time": "2023-01-18T09:24:16.814Z"
   },
   {
    "duration": 0,
    "start_time": "2023-01-18T09:24:16.815Z"
   },
   {
    "duration": 0,
    "start_time": "2023-01-18T09:24:16.816Z"
   },
   {
    "duration": 0,
    "start_time": "2023-01-18T09:24:16.816Z"
   },
   {
    "duration": 0,
    "start_time": "2023-01-18T09:24:16.817Z"
   },
   {
    "duration": 0,
    "start_time": "2023-01-18T09:24:16.818Z"
   },
   {
    "duration": 4,
    "start_time": "2023-01-18T09:25:24.586Z"
   },
   {
    "duration": 707,
    "start_time": "2023-01-18T09:25:25.065Z"
   },
   {
    "duration": 24,
    "start_time": "2023-01-18T09:25:25.774Z"
   },
   {
    "duration": 11,
    "start_time": "2023-01-18T09:25:25.800Z"
   },
   {
    "duration": 24,
    "start_time": "2023-01-18T09:25:25.987Z"
   },
   {
    "duration": 166,
    "start_time": "2023-01-18T09:25:26.414Z"
   },
   {
    "duration": 50,
    "start_time": "2023-01-18T09:25:27.603Z"
   },
   {
    "duration": 7,
    "start_time": "2023-01-18T09:25:28.104Z"
   },
   {
    "duration": 9,
    "start_time": "2023-01-18T09:25:28.516Z"
   },
   {
    "duration": 10,
    "start_time": "2023-01-18T09:25:30.716Z"
   },
   {
    "duration": 11,
    "start_time": "2023-01-18T09:25:43.549Z"
   },
   {
    "duration": 8,
    "start_time": "2023-01-18T09:25:54.491Z"
   },
   {
    "duration": 8,
    "start_time": "2023-01-18T09:25:54.770Z"
   },
   {
    "duration": 5,
    "start_time": "2023-01-18T09:25:54.974Z"
   },
   {
    "duration": 9,
    "start_time": "2023-01-18T09:25:55.274Z"
   },
   {
    "duration": 12,
    "start_time": "2023-01-18T09:25:56.007Z"
   },
   {
    "duration": 11,
    "start_time": "2023-01-18T09:25:57.802Z"
   },
   {
    "duration": 1342,
    "start_time": "2023-01-18T09:27:50.835Z"
   },
   {
    "duration": 650,
    "start_time": "2023-01-18T09:27:52.180Z"
   },
   {
    "duration": 21,
    "start_time": "2023-01-18T09:27:52.831Z"
   },
   {
    "duration": 12,
    "start_time": "2023-01-18T09:27:52.854Z"
   },
   {
    "duration": 37,
    "start_time": "2023-01-18T09:27:52.868Z"
   },
   {
    "duration": 175,
    "start_time": "2023-01-18T09:27:52.907Z"
   },
   {
    "duration": 100,
    "start_time": "2023-01-18T09:27:53.092Z"
   },
   {
    "duration": 5,
    "start_time": "2023-01-18T09:27:53.194Z"
   },
   {
    "duration": 96,
    "start_time": "2023-01-18T09:27:53.201Z"
   },
   {
    "duration": 124,
    "start_time": "2023-01-18T09:27:53.298Z"
   },
   {
    "duration": 4,
    "start_time": "2023-01-18T09:27:53.423Z"
   },
   {
    "duration": 71,
    "start_time": "2023-01-18T09:27:53.428Z"
   },
   {
    "duration": 33,
    "start_time": "2023-01-18T09:27:53.501Z"
   },
   {
    "duration": 13,
    "start_time": "2023-01-18T09:27:53.537Z"
   },
   {
    "duration": 5,
    "start_time": "2023-01-18T09:27:53.552Z"
   },
   {
    "duration": 8,
    "start_time": "2023-01-18T09:27:53.558Z"
   },
   {
    "duration": 6,
    "start_time": "2023-01-18T09:27:53.591Z"
   },
   {
    "duration": 5,
    "start_time": "2023-01-18T09:27:53.599Z"
   },
   {
    "duration": 7,
    "start_time": "2023-01-18T09:27:53.605Z"
   },
   {
    "duration": 9,
    "start_time": "2023-01-18T09:27:53.614Z"
   },
   {
    "duration": 11,
    "start_time": "2023-01-18T09:27:53.625Z"
   },
   {
    "duration": 6,
    "start_time": "2023-01-18T09:27:53.638Z"
   },
   {
    "duration": 7,
    "start_time": "2023-01-18T09:27:53.645Z"
   },
   {
    "duration": 9,
    "start_time": "2023-01-18T09:27:53.654Z"
   },
   {
    "duration": 6,
    "start_time": "2023-01-18T09:27:53.665Z"
   },
   {
    "duration": 9,
    "start_time": "2023-01-18T09:27:53.673Z"
   },
   {
    "duration": 293,
    "start_time": "2023-01-18T09:27:53.683Z"
   },
   {
    "duration": 271,
    "start_time": "2023-01-18T09:27:53.977Z"
   },
   {
    "duration": 350,
    "start_time": "2023-01-18T09:27:54.250Z"
   },
   {
    "duration": 370,
    "start_time": "2023-01-18T09:27:54.602Z"
   },
   {
    "duration": 394,
    "start_time": "2023-01-18T09:27:54.974Z"
   },
   {
    "duration": 6,
    "start_time": "2023-01-18T09:27:55.370Z"
   },
   {
    "duration": 595,
    "start_time": "2023-01-18T09:27:55.377Z"
   },
   {
    "duration": 25,
    "start_time": "2023-01-18T09:27:55.973Z"
   },
   {
    "duration": 10,
    "start_time": "2023-01-18T09:27:56.000Z"
   },
   {
    "duration": 673,
    "start_time": "2023-01-18T09:27:56.011Z"
   },
   {
    "duration": 117,
    "start_time": "2023-01-18T09:27:56.685Z"
   },
   {
    "duration": 11,
    "start_time": "2023-01-18T09:27:56.804Z"
   },
   {
    "duration": 11,
    "start_time": "2023-01-18T09:27:56.816Z"
   },
   {
    "duration": 3,
    "start_time": "2023-01-18T09:27:56.829Z"
   },
   {
    "duration": 2,
    "start_time": "2023-01-18T09:27:56.836Z"
   },
   {
    "duration": 5,
    "start_time": "2023-01-18T09:27:56.840Z"
   },
   {
    "duration": 9,
    "start_time": "2023-01-18T09:27:56.846Z"
   },
   {
    "duration": 35,
    "start_time": "2023-01-18T09:27:56.857Z"
   },
   {
    "duration": 6,
    "start_time": "2023-01-18T09:27:56.894Z"
   },
   {
    "duration": 134,
    "start_time": "2023-01-18T09:27:56.902Z"
   },
   {
    "duration": 322153,
    "start_time": "2023-01-18T09:27:57.038Z"
   },
   {
    "duration": 21965,
    "start_time": "2023-01-18T09:33:19.194Z"
   },
   {
    "duration": 886,
    "start_time": "2023-01-18T09:33:41.161Z"
   },
   {
    "duration": 0,
    "start_time": "2023-01-18T09:33:42.049Z"
   },
   {
    "duration": 0,
    "start_time": "2023-01-18T09:33:42.050Z"
   },
   {
    "duration": 0,
    "start_time": "2023-01-18T09:33:42.051Z"
   },
   {
    "duration": 0,
    "start_time": "2023-01-18T09:33:42.052Z"
   },
   {
    "duration": 5,
    "start_time": "2023-01-18T09:38:05.744Z"
   },
   {
    "duration": 637,
    "start_time": "2023-01-18T09:38:06.224Z"
   },
   {
    "duration": 18,
    "start_time": "2023-01-18T09:38:06.863Z"
   },
   {
    "duration": 18,
    "start_time": "2023-01-18T09:38:07.198Z"
   },
   {
    "duration": 17,
    "start_time": "2023-01-18T09:38:07.629Z"
   },
   {
    "duration": 155,
    "start_time": "2023-01-18T09:38:08.022Z"
   },
   {
    "duration": 53,
    "start_time": "2023-01-18T09:38:08.753Z"
   },
   {
    "duration": 7,
    "start_time": "2023-01-18T09:38:09.025Z"
   },
   {
    "duration": 61,
    "start_time": "2023-01-18T09:38:09.374Z"
   },
   {
    "duration": 123,
    "start_time": "2023-01-18T09:38:09.686Z"
   },
   {
    "duration": 4,
    "start_time": "2023-01-18T09:38:10.503Z"
   },
   {
    "duration": 39,
    "start_time": "2023-01-18T09:38:11.009Z"
   },
   {
    "duration": 25,
    "start_time": "2023-01-18T09:38:11.942Z"
   },
   {
    "duration": 14,
    "start_time": "2023-01-18T09:38:12.981Z"
   },
   {
    "duration": 4,
    "start_time": "2023-01-18T09:38:13.970Z"
   },
   {
    "duration": 4,
    "start_time": "2023-01-18T09:38:14.474Z"
   },
   {
    "duration": 5,
    "start_time": "2023-01-18T09:38:18.836Z"
   },
   {
    "duration": 2,
    "start_time": "2023-01-18T09:38:31.115Z"
   },
   {
    "duration": 4,
    "start_time": "2023-01-18T09:38:37.883Z"
   },
   {
    "duration": 4,
    "start_time": "2023-01-18T09:38:38.145Z"
   },
   {
    "duration": 5,
    "start_time": "2023-01-18T09:38:38.405Z"
   },
   {
    "duration": 5,
    "start_time": "2023-01-18T09:38:38.857Z"
   },
   {
    "duration": 265,
    "start_time": "2023-01-18T09:38:39.311Z"
   },
   {
    "duration": 386,
    "start_time": "2023-01-18T09:38:40.155Z"
   },
   {
    "duration": 297,
    "start_time": "2023-01-18T09:38:41.253Z"
   },
   {
    "duration": 361,
    "start_time": "2023-01-18T09:38:43.277Z"
   },
   {
    "duration": 331,
    "start_time": "2023-01-18T09:38:43.721Z"
   },
   {
    "duration": 7,
    "start_time": "2023-01-18T09:38:46.044Z"
   },
   {
    "duration": 573,
    "start_time": "2023-01-18T09:38:47.449Z"
   },
   {
    "duration": 17,
    "start_time": "2023-01-18T09:38:48.263Z"
   },
   {
    "duration": 8,
    "start_time": "2023-01-18T09:38:50.378Z"
   },
   {
    "duration": 724,
    "start_time": "2023-01-18T09:38:50.949Z"
   },
   {
    "duration": 18,
    "start_time": "2023-01-18T09:38:55.333Z"
   },
   {
    "duration": 10,
    "start_time": "2023-01-18T09:38:59.797Z"
   },
   {
    "duration": 11,
    "start_time": "2023-01-18T09:39:02.336Z"
   },
   {
    "duration": 3,
    "start_time": "2023-01-18T09:39:04.690Z"
   },
   {
    "duration": 3,
    "start_time": "2023-01-18T09:39:45.047Z"
   },
   {
    "duration": 3,
    "start_time": "2023-01-18T09:39:47.433Z"
   },
   {
    "duration": 3,
    "start_time": "2023-01-18T09:39:49.789Z"
   },
   {
    "duration": 119,
    "start_time": "2023-01-18T09:41:08.517Z"
   },
   {
    "duration": 113,
    "start_time": "2023-01-18T09:41:35.021Z"
   },
   {
    "duration": 117,
    "start_time": "2023-01-18T09:42:13.944Z"
   },
   {
    "duration": 7,
    "start_time": "2023-01-18T09:56:38.405Z"
   },
   {
    "duration": 10,
    "start_time": "2023-01-18T09:56:40.433Z"
   },
   {
    "duration": 3,
    "start_time": "2023-01-18T09:56:42.417Z"
   },
   {
    "duration": 2,
    "start_time": "2023-01-18T09:56:43.076Z"
   },
   {
    "duration": 3,
    "start_time": "2023-01-18T09:56:43.707Z"
   },
   {
    "duration": 4,
    "start_time": "2023-01-18T09:56:46.022Z"
   },
   {
    "duration": 993,
    "start_time": "2023-01-18T09:56:49.302Z"
   },
   {
    "duration": 8,
    "start_time": "2023-01-18T09:57:32.117Z"
   },
   {
    "duration": 10,
    "start_time": "2023-01-18T09:57:33.282Z"
   },
   {
    "duration": 4,
    "start_time": "2023-01-18T09:57:34.622Z"
   },
   {
    "duration": 3,
    "start_time": "2023-01-18T09:57:35.185Z"
   },
   {
    "duration": 3,
    "start_time": "2023-01-18T09:57:35.418Z"
   },
   {
    "duration": 5,
    "start_time": "2023-01-18T09:57:37.800Z"
   },
   {
    "duration": 893,
    "start_time": "2023-01-18T09:57:39.300Z"
   },
   {
    "duration": 8,
    "start_time": "2023-01-18T09:57:49.778Z"
   },
   {
    "duration": 14,
    "start_time": "2023-01-18T09:59:35.029Z"
   },
   {
    "duration": 14,
    "start_time": "2023-01-18T09:59:42.763Z"
   },
   {
    "duration": 14,
    "start_time": "2023-01-18T11:16:16.463Z"
   },
   {
    "duration": 1421,
    "start_time": "2023-01-18T11:16:25.312Z"
   },
   {
    "duration": 676,
    "start_time": "2023-01-18T11:16:26.735Z"
   },
   {
    "duration": 19,
    "start_time": "2023-01-18T11:16:27.412Z"
   },
   {
    "duration": 12,
    "start_time": "2023-01-18T11:16:27.433Z"
   },
   {
    "duration": 16,
    "start_time": "2023-01-18T11:16:27.447Z"
   },
   {
    "duration": 181,
    "start_time": "2023-01-18T11:16:27.464Z"
   },
   {
    "duration": 95,
    "start_time": "2023-01-18T11:16:27.647Z"
   },
   {
    "duration": 5,
    "start_time": "2023-01-18T11:16:27.744Z"
   },
   {
    "duration": 94,
    "start_time": "2023-01-18T11:16:27.751Z"
   },
   {
    "duration": 131,
    "start_time": "2023-01-18T11:16:27.846Z"
   },
   {
    "duration": 4,
    "start_time": "2023-01-18T11:16:27.978Z"
   },
   {
    "duration": 46,
    "start_time": "2023-01-18T11:16:27.984Z"
   },
   {
    "duration": 24,
    "start_time": "2023-01-18T11:16:28.032Z"
   },
   {
    "duration": 35,
    "start_time": "2023-01-18T11:16:28.059Z"
   },
   {
    "duration": 3,
    "start_time": "2023-01-18T11:16:28.095Z"
   },
   {
    "duration": 9,
    "start_time": "2023-01-18T11:16:28.100Z"
   },
   {
    "duration": 9,
    "start_time": "2023-01-18T11:16:28.111Z"
   },
   {
    "duration": 5,
    "start_time": "2023-01-18T11:16:28.121Z"
   },
   {
    "duration": 6,
    "start_time": "2023-01-18T11:16:28.128Z"
   },
   {
    "duration": 8,
    "start_time": "2023-01-18T11:16:28.138Z"
   },
   {
    "duration": 12,
    "start_time": "2023-01-18T11:16:28.147Z"
   },
   {
    "duration": 6,
    "start_time": "2023-01-18T11:16:28.161Z"
   },
   {
    "duration": 5,
    "start_time": "2023-01-18T11:16:28.169Z"
   },
   {
    "duration": 17,
    "start_time": "2023-01-18T11:16:28.175Z"
   },
   {
    "duration": 11,
    "start_time": "2023-01-18T11:16:28.194Z"
   },
   {
    "duration": 9,
    "start_time": "2023-01-18T11:16:28.207Z"
   },
   {
    "duration": 270,
    "start_time": "2023-01-18T11:16:28.218Z"
   },
   {
    "duration": 257,
    "start_time": "2023-01-18T11:16:28.491Z"
   },
   {
    "duration": 348,
    "start_time": "2023-01-18T11:16:28.749Z"
   },
   {
    "duration": 359,
    "start_time": "2023-01-18T11:16:29.099Z"
   },
   {
    "duration": 306,
    "start_time": "2023-01-18T11:16:29.460Z"
   },
   {
    "duration": 7,
    "start_time": "2023-01-18T11:16:29.767Z"
   },
   {
    "duration": 588,
    "start_time": "2023-01-18T11:16:29.776Z"
   },
   {
    "duration": 26,
    "start_time": "2023-01-18T11:16:30.366Z"
   },
   {
    "duration": 14,
    "start_time": "2023-01-18T11:16:30.394Z"
   },
   {
    "duration": 596,
    "start_time": "2023-01-18T11:16:30.410Z"
   },
   {
    "duration": 125,
    "start_time": "2023-01-18T11:16:31.008Z"
   },
   {
    "duration": 11,
    "start_time": "2023-01-18T11:16:31.134Z"
   },
   {
    "duration": 34,
    "start_time": "2023-01-18T11:16:31.147Z"
   },
   {
    "duration": 33,
    "start_time": "2023-01-18T11:16:31.182Z"
   },
   {
    "duration": 14,
    "start_time": "2023-01-18T11:16:31.220Z"
   },
   {
    "duration": 21,
    "start_time": "2023-01-18T11:16:31.236Z"
   },
   {
    "duration": 32,
    "start_time": "2023-01-18T11:16:31.259Z"
   },
   {
    "duration": 24,
    "start_time": "2023-01-18T11:16:31.293Z"
   },
   {
    "duration": 23,
    "start_time": "2023-01-18T11:16:31.319Z"
   },
   {
    "duration": 170,
    "start_time": "2023-01-18T11:16:31.344Z"
   },
   {
    "duration": 335561,
    "start_time": "2023-01-18T11:16:31.516Z"
   },
   {
    "duration": 22503,
    "start_time": "2023-01-18T11:22:07.078Z"
   },
   {
    "duration": 763,
    "start_time": "2023-01-18T11:22:29.583Z"
   },
   {
    "duration": 0,
    "start_time": "2023-01-18T11:22:30.347Z"
   },
   {
    "duration": 0,
    "start_time": "2023-01-18T11:22:30.349Z"
   },
   {
    "duration": 0,
    "start_time": "2023-01-18T11:22:30.350Z"
   },
   {
    "duration": 0,
    "start_time": "2023-01-18T11:22:30.350Z"
   },
   {
    "duration": 5,
    "start_time": "2023-01-18T11:35:11.102Z"
   },
   {
    "duration": 10,
    "start_time": "2023-01-18T11:35:15.714Z"
   },
   {
    "duration": 10,
    "start_time": "2023-01-18T11:35:30.791Z"
   },
   {
    "duration": 6,
    "start_time": "2023-01-18T11:35:34.336Z"
   },
   {
    "duration": 5,
    "start_time": "2023-01-18T11:35:40.061Z"
   },
   {
    "duration": 52,
    "start_time": "2023-01-18T11:35:48.749Z"
   },
   {
    "duration": 3,
    "start_time": "2023-01-18T11:43:00.058Z"
   },
   {
    "duration": 3,
    "start_time": "2023-01-18T11:43:01.401Z"
   },
   {
    "duration": 2,
    "start_time": "2023-01-18T11:43:02.579Z"
   },
   {
    "duration": 5,
    "start_time": "2023-01-18T11:43:06.323Z"
   },
   {
    "duration": 110,
    "start_time": "2023-01-18T11:43:08.016Z"
   },
   {
    "duration": 1415,
    "start_time": "2023-01-18T14:25:09.710Z"
   },
   {
    "duration": 805,
    "start_time": "2023-01-18T14:25:11.127Z"
   },
   {
    "duration": 18,
    "start_time": "2023-01-18T14:25:11.934Z"
   },
   {
    "duration": 40,
    "start_time": "2023-01-18T14:25:11.954Z"
   },
   {
    "duration": 17,
    "start_time": "2023-01-18T14:25:11.996Z"
   },
   {
    "duration": 207,
    "start_time": "2023-01-18T14:25:12.015Z"
   },
   {
    "duration": 95,
    "start_time": "2023-01-18T14:25:12.223Z"
   },
   {
    "duration": 8,
    "start_time": "2023-01-18T14:25:12.320Z"
   },
   {
    "duration": 128,
    "start_time": "2023-01-18T14:25:12.330Z"
   },
   {
    "duration": 0,
    "start_time": "2023-01-18T14:25:12.460Z"
   },
   {
    "duration": 0,
    "start_time": "2023-01-18T14:25:12.461Z"
   },
   {
    "duration": 0,
    "start_time": "2023-01-18T14:25:12.462Z"
   },
   {
    "duration": 0,
    "start_time": "2023-01-18T14:25:12.463Z"
   },
   {
    "duration": 0,
    "start_time": "2023-01-18T14:25:12.466Z"
   },
   {
    "duration": 0,
    "start_time": "2023-01-18T14:25:12.467Z"
   },
   {
    "duration": 1,
    "start_time": "2023-01-18T14:25:12.468Z"
   },
   {
    "duration": 0,
    "start_time": "2023-01-18T14:25:12.470Z"
   },
   {
    "duration": 0,
    "start_time": "2023-01-18T14:25:12.471Z"
   },
   {
    "duration": 0,
    "start_time": "2023-01-18T14:25:12.493Z"
   },
   {
    "duration": 0,
    "start_time": "2023-01-18T14:25:12.494Z"
   },
   {
    "duration": 0,
    "start_time": "2023-01-18T14:25:12.496Z"
   },
   {
    "duration": 0,
    "start_time": "2023-01-18T14:25:12.497Z"
   },
   {
    "duration": 0,
    "start_time": "2023-01-18T14:25:12.498Z"
   },
   {
    "duration": 0,
    "start_time": "2023-01-18T14:25:12.500Z"
   },
   {
    "duration": 0,
    "start_time": "2023-01-18T14:25:12.501Z"
   },
   {
    "duration": 0,
    "start_time": "2023-01-18T14:25:12.503Z"
   },
   {
    "duration": 0,
    "start_time": "2023-01-18T14:25:12.505Z"
   },
   {
    "duration": 0,
    "start_time": "2023-01-18T14:25:12.506Z"
   },
   {
    "duration": 0,
    "start_time": "2023-01-18T14:25:12.507Z"
   },
   {
    "duration": 0,
    "start_time": "2023-01-18T14:25:12.509Z"
   },
   {
    "duration": 0,
    "start_time": "2023-01-18T14:25:12.510Z"
   },
   {
    "duration": 0,
    "start_time": "2023-01-18T14:25:12.511Z"
   },
   {
    "duration": 0,
    "start_time": "2023-01-18T14:25:12.513Z"
   },
   {
    "duration": 0,
    "start_time": "2023-01-18T14:25:12.514Z"
   },
   {
    "duration": 0,
    "start_time": "2023-01-18T14:25:12.515Z"
   },
   {
    "duration": 0,
    "start_time": "2023-01-18T14:25:12.517Z"
   },
   {
    "duration": 0,
    "start_time": "2023-01-18T14:25:12.518Z"
   },
   {
    "duration": 0,
    "start_time": "2023-01-18T14:25:12.520Z"
   },
   {
    "duration": 0,
    "start_time": "2023-01-18T14:25:12.521Z"
   },
   {
    "duration": 0,
    "start_time": "2023-01-18T14:25:12.523Z"
   },
   {
    "duration": 0,
    "start_time": "2023-01-18T14:25:12.524Z"
   },
   {
    "duration": 0,
    "start_time": "2023-01-18T14:25:12.526Z"
   },
   {
    "duration": 0,
    "start_time": "2023-01-18T14:25:12.527Z"
   },
   {
    "duration": 0,
    "start_time": "2023-01-18T14:25:12.527Z"
   },
   {
    "duration": 0,
    "start_time": "2023-01-18T14:25:12.528Z"
   },
   {
    "duration": 0,
    "start_time": "2023-01-18T14:25:12.529Z"
   },
   {
    "duration": 0,
    "start_time": "2023-01-18T14:25:12.530Z"
   },
   {
    "duration": 0,
    "start_time": "2023-01-18T14:25:12.531Z"
   },
   {
    "duration": 0,
    "start_time": "2023-01-18T14:25:12.532Z"
   },
   {
    "duration": 0,
    "start_time": "2023-01-18T14:25:12.533Z"
   },
   {
    "duration": 0,
    "start_time": "2023-01-18T14:25:12.533Z"
   },
   {
    "duration": 0,
    "start_time": "2023-01-18T14:25:12.534Z"
   },
   {
    "duration": 0,
    "start_time": "2023-01-18T14:25:12.534Z"
   },
   {
    "duration": 0,
    "start_time": "2023-01-18T14:25:12.535Z"
   },
   {
    "duration": 6,
    "start_time": "2023-01-18T14:25:23.622Z"
   },
   {
    "duration": 684,
    "start_time": "2023-01-18T14:25:25.401Z"
   },
   {
    "duration": 18,
    "start_time": "2023-01-18T14:25:26.217Z"
   },
   {
    "duration": 17,
    "start_time": "2023-01-18T14:25:26.652Z"
   },
   {
    "duration": 21,
    "start_time": "2023-01-18T14:25:27.121Z"
   },
   {
    "duration": 161,
    "start_time": "2023-01-18T14:25:27.586Z"
   },
   {
    "duration": 52,
    "start_time": "2023-01-18T14:25:28.541Z"
   },
   {
    "duration": 7,
    "start_time": "2023-01-18T14:25:28.987Z"
   },
   {
    "duration": 12,
    "start_time": "2023-01-18T14:25:45.226Z"
   },
   {
    "duration": 12,
    "start_time": "2023-01-18T14:25:46.074Z"
   },
   {
    "duration": 9,
    "start_time": "2023-01-18T14:25:56.883Z"
   },
   {
    "duration": 3,
    "start_time": "2023-01-18T14:26:02.736Z"
   },
   {
    "duration": 9,
    "start_time": "2023-01-18T14:26:12.053Z"
   },
   {
    "duration": 5,
    "start_time": "2023-01-18T14:26:30.588Z"
   },
   {
    "duration": 10,
    "start_time": "2023-01-18T14:26:32.216Z"
   },
   {
    "duration": 9,
    "start_time": "2023-01-18T14:26:32.907Z"
   },
   {
    "duration": 10,
    "start_time": "2023-01-18T14:26:34.730Z"
   },
   {
    "duration": 10,
    "start_time": "2023-01-18T14:26:39.386Z"
   },
   {
    "duration": 10,
    "start_time": "2023-01-18T14:26:42.813Z"
   },
   {
    "duration": 10,
    "start_time": "2023-01-18T14:26:45.637Z"
   },
   {
    "duration": 9,
    "start_time": "2023-01-18T14:26:48.782Z"
   },
   {
    "duration": 9,
    "start_time": "2023-01-18T14:28:28.999Z"
   },
   {
    "duration": 1394,
    "start_time": "2023-01-18T14:28:35.530Z"
   },
   {
    "duration": 683,
    "start_time": "2023-01-18T14:28:36.926Z"
   },
   {
    "duration": 18,
    "start_time": "2023-01-18T14:28:37.611Z"
   },
   {
    "duration": 11,
    "start_time": "2023-01-18T14:28:37.631Z"
   },
   {
    "duration": 16,
    "start_time": "2023-01-18T14:28:37.645Z"
   },
   {
    "duration": 183,
    "start_time": "2023-01-18T14:28:37.662Z"
   },
   {
    "duration": 106,
    "start_time": "2023-01-18T14:28:37.847Z"
   },
   {
    "duration": 1755,
    "start_time": "2023-01-18T14:28:37.954Z"
   },
   {
    "duration": 64,
    "start_time": "2023-01-18T14:28:39.711Z"
   },
   {
    "duration": 116,
    "start_time": "2023-01-18T14:28:39.777Z"
   },
   {
    "duration": 5,
    "start_time": "2023-01-18T14:28:39.894Z"
   },
   {
    "duration": 127,
    "start_time": "2023-01-18T14:28:39.902Z"
   },
   {
    "duration": 0,
    "start_time": "2023-01-18T14:28:40.032Z"
   },
   {
    "duration": 0,
    "start_time": "2023-01-18T14:28:40.034Z"
   },
   {
    "duration": 0,
    "start_time": "2023-01-18T14:28:40.036Z"
   },
   {
    "duration": 0,
    "start_time": "2023-01-18T14:28:40.038Z"
   },
   {
    "duration": 0,
    "start_time": "2023-01-18T14:28:40.039Z"
   },
   {
    "duration": 0,
    "start_time": "2023-01-18T14:28:40.041Z"
   },
   {
    "duration": 1,
    "start_time": "2023-01-18T14:28:40.042Z"
   },
   {
    "duration": 0,
    "start_time": "2023-01-18T14:28:40.044Z"
   },
   {
    "duration": 0,
    "start_time": "2023-01-18T14:28:40.046Z"
   },
   {
    "duration": 0,
    "start_time": "2023-01-18T14:28:40.048Z"
   },
   {
    "duration": 0,
    "start_time": "2023-01-18T14:28:40.049Z"
   },
   {
    "duration": 0,
    "start_time": "2023-01-18T14:28:40.051Z"
   },
   {
    "duration": 0,
    "start_time": "2023-01-18T14:28:40.053Z"
   },
   {
    "duration": 0,
    "start_time": "2023-01-18T14:28:40.054Z"
   },
   {
    "duration": 0,
    "start_time": "2023-01-18T14:28:40.055Z"
   },
   {
    "duration": 0,
    "start_time": "2023-01-18T14:28:40.092Z"
   },
   {
    "duration": 0,
    "start_time": "2023-01-18T14:28:40.093Z"
   },
   {
    "duration": 0,
    "start_time": "2023-01-18T14:28:40.095Z"
   },
   {
    "duration": 0,
    "start_time": "2023-01-18T14:28:40.096Z"
   },
   {
    "duration": 1,
    "start_time": "2023-01-18T14:28:40.096Z"
   },
   {
    "duration": 0,
    "start_time": "2023-01-18T14:28:40.098Z"
   },
   {
    "duration": 0,
    "start_time": "2023-01-18T14:28:40.099Z"
   },
   {
    "duration": 0,
    "start_time": "2023-01-18T14:28:40.100Z"
   },
   {
    "duration": 0,
    "start_time": "2023-01-18T14:28:40.101Z"
   },
   {
    "duration": 0,
    "start_time": "2023-01-18T14:28:40.102Z"
   },
   {
    "duration": 0,
    "start_time": "2023-01-18T14:28:40.103Z"
   },
   {
    "duration": 0,
    "start_time": "2023-01-18T14:28:40.104Z"
   },
   {
    "duration": 0,
    "start_time": "2023-01-18T14:28:40.105Z"
   },
   {
    "duration": 0,
    "start_time": "2023-01-18T14:28:40.106Z"
   },
   {
    "duration": 0,
    "start_time": "2023-01-18T14:28:40.107Z"
   },
   {
    "duration": 0,
    "start_time": "2023-01-18T14:28:40.108Z"
   },
   {
    "duration": 0,
    "start_time": "2023-01-18T14:28:40.109Z"
   },
   {
    "duration": 0,
    "start_time": "2023-01-18T14:28:40.110Z"
   },
   {
    "duration": 0,
    "start_time": "2023-01-18T14:28:40.112Z"
   },
   {
    "duration": 0,
    "start_time": "2023-01-18T14:28:40.113Z"
   },
   {
    "duration": 0,
    "start_time": "2023-01-18T14:28:40.114Z"
   },
   {
    "duration": 0,
    "start_time": "2023-01-18T14:28:40.115Z"
   },
   {
    "duration": 0,
    "start_time": "2023-01-18T14:28:40.116Z"
   },
   {
    "duration": 0,
    "start_time": "2023-01-18T14:28:40.117Z"
   },
   {
    "duration": 0,
    "start_time": "2023-01-18T14:28:40.118Z"
   },
   {
    "duration": 0,
    "start_time": "2023-01-18T14:28:40.119Z"
   },
   {
    "duration": 0,
    "start_time": "2023-01-18T14:28:40.120Z"
   },
   {
    "duration": 4,
    "start_time": "2023-01-18T14:28:42.223Z"
   },
   {
    "duration": 702,
    "start_time": "2023-01-18T14:28:42.627Z"
   },
   {
    "duration": 17,
    "start_time": "2023-01-18T14:28:43.331Z"
   },
   {
    "duration": 13,
    "start_time": "2023-01-18T14:28:43.442Z"
   },
   {
    "duration": 19,
    "start_time": "2023-01-18T14:28:43.938Z"
   },
   {
    "duration": 155,
    "start_time": "2023-01-18T14:28:44.416Z"
   },
   {
    "duration": 53,
    "start_time": "2023-01-18T14:28:48.612Z"
   },
   {
    "duration": 1780,
    "start_time": "2023-01-18T14:28:52.642Z"
   },
   {
    "duration": 58,
    "start_time": "2023-01-18T14:28:58.350Z"
   },
   {
    "duration": 117,
    "start_time": "2023-01-18T14:29:00.402Z"
   },
   {
    "duration": 559,
    "start_time": "2023-01-18T14:29:29.935Z"
   },
   {
    "duration": 40,
    "start_time": "2023-01-18T14:29:48.549Z"
   },
   {
    "duration": 28,
    "start_time": "2023-01-18T14:29:54.685Z"
   },
   {
    "duration": 12,
    "start_time": "2023-01-18T14:29:57.483Z"
   },
   {
    "duration": 4,
    "start_time": "2023-01-18T14:30:01.281Z"
   },
   {
    "duration": 4,
    "start_time": "2023-01-18T14:30:02.090Z"
   },
   {
    "duration": 5,
    "start_time": "2023-01-18T14:30:03.112Z"
   },
   {
    "duration": 3,
    "start_time": "2023-01-18T14:30:06.814Z"
   },
   {
    "duration": 4,
    "start_time": "2023-01-18T14:30:09.383Z"
   },
   {
    "duration": 4,
    "start_time": "2023-01-18T14:30:09.711Z"
   },
   {
    "duration": 4,
    "start_time": "2023-01-18T14:30:10.016Z"
   },
   {
    "duration": 4,
    "start_time": "2023-01-18T14:30:10.406Z"
   },
   {
    "duration": 287,
    "start_time": "2023-01-18T14:30:11.024Z"
   },
   {
    "duration": 270,
    "start_time": "2023-01-18T14:30:11.784Z"
   },
   {
    "duration": 279,
    "start_time": "2023-01-18T14:30:12.100Z"
   },
   {
    "duration": 402,
    "start_time": "2023-01-18T14:30:13.226Z"
   },
   {
    "duration": 334,
    "start_time": "2023-01-18T14:30:13.630Z"
   },
   {
    "duration": 7,
    "start_time": "2023-01-18T14:30:14.110Z"
   },
   {
    "duration": 571,
    "start_time": "2023-01-18T14:30:14.299Z"
   },
   {
    "duration": 15,
    "start_time": "2023-01-18T14:30:15.338Z"
   },
   {
    "duration": 9,
    "start_time": "2023-01-18T14:30:16.110Z"
   },
   {
    "duration": 618,
    "start_time": "2023-01-18T14:30:16.517Z"
   },
   {
    "duration": 20,
    "start_time": "2023-01-18T14:30:23.411Z"
   },
   {
    "duration": 10,
    "start_time": "2023-01-18T14:30:26.854Z"
   },
   {
    "duration": 45,
    "start_time": "2023-01-18T14:30:29.884Z"
   },
   {
    "duration": 15,
    "start_time": "2023-01-18T14:30:33.307Z"
   },
   {
    "duration": 3,
    "start_time": "2023-01-18T14:30:59.441Z"
   },
   {
    "duration": 3,
    "start_time": "2023-01-18T14:31:00.385Z"
   },
   {
    "duration": 4,
    "start_time": "2023-01-18T14:31:01.209Z"
   },
   {
    "duration": 5,
    "start_time": "2023-01-18T14:31:05.414Z"
   },
   {
    "duration": 150,
    "start_time": "2023-01-18T14:31:07.886Z"
   },
   {
    "duration": 3,
    "start_time": "2023-01-18T14:39:35.540Z"
   },
   {
    "duration": 3,
    "start_time": "2023-01-18T14:39:37.411Z"
   },
   {
    "duration": 3,
    "start_time": "2023-01-18T14:39:38.615Z"
   },
   {
    "duration": 4,
    "start_time": "2023-01-18T14:39:45.021Z"
   },
   {
    "duration": 145,
    "start_time": "2023-01-18T14:39:47.216Z"
   },
   {
    "duration": 3,
    "start_time": "2023-01-18T14:41:24.877Z"
   },
   {
    "duration": 3,
    "start_time": "2023-01-18T14:41:26.812Z"
   },
   {
    "duration": 3,
    "start_time": "2023-01-18T14:41:27.111Z"
   },
   {
    "duration": 4,
    "start_time": "2023-01-18T14:41:29.238Z"
   },
   {
    "duration": 132,
    "start_time": "2023-01-18T14:41:30.924Z"
   },
   {
    "duration": 14,
    "start_time": "2023-01-18T16:04:19.114Z"
   },
   {
    "duration": 12,
    "start_time": "2023-01-18T16:04:50.218Z"
   },
   {
    "duration": 5,
    "start_time": "2023-01-18T16:04:53.013Z"
   },
   {
    "duration": 133,
    "start_time": "2023-01-18T16:05:02.012Z"
   },
   {
    "duration": 4,
    "start_time": "2023-01-18T16:05:07.555Z"
   },
   {
    "duration": 2,
    "start_time": "2023-01-18T16:05:08.229Z"
   },
   {
    "duration": 3,
    "start_time": "2023-01-18T16:05:08.464Z"
   },
   {
    "duration": 126,
    "start_time": "2023-01-18T16:05:17.048Z"
   },
   {
    "duration": 4,
    "start_time": "2023-01-18T16:08:01.746Z"
   },
   {
    "duration": 3,
    "start_time": "2023-01-18T16:08:03.849Z"
   },
   {
    "duration": 3,
    "start_time": "2023-01-18T16:08:06.462Z"
   },
   {
    "duration": 3,
    "start_time": "2023-01-18T16:08:09.703Z"
   },
   {
    "duration": 131,
    "start_time": "2023-01-18T16:08:11.549Z"
   },
   {
    "duration": 4,
    "start_time": "2023-01-18T16:16:04.681Z"
   },
   {
    "duration": 641,
    "start_time": "2023-01-18T16:16:44.421Z"
   },
   {
    "duration": 18,
    "start_time": "2023-01-18T16:16:45.177Z"
   },
   {
    "duration": 14,
    "start_time": "2023-01-18T16:16:45.871Z"
   },
   {
    "duration": 22,
    "start_time": "2023-01-18T16:16:46.475Z"
   },
   {
    "duration": 164,
    "start_time": "2023-01-18T16:16:47.136Z"
   },
   {
    "duration": 59,
    "start_time": "2023-01-18T16:16:48.171Z"
   },
   {
    "duration": 1769,
    "start_time": "2023-01-18T16:16:48.679Z"
   },
   {
    "duration": 79,
    "start_time": "2023-01-18T16:16:50.451Z"
   },
   {
    "duration": 139,
    "start_time": "2023-01-18T16:16:50.532Z"
   },
   {
    "duration": 112,
    "start_time": "2023-01-18T16:16:58.681Z"
   },
   {
    "duration": 528,
    "start_time": "2023-01-18T16:16:59.516Z"
   },
   {
    "duration": 42,
    "start_time": "2023-01-18T16:17:03.716Z"
   },
   {
    "duration": 30,
    "start_time": "2023-01-18T16:17:05.198Z"
   },
   {
    "duration": 12,
    "start_time": "2023-01-18T16:17:06.580Z"
   },
   {
    "duration": 4,
    "start_time": "2023-01-18T16:17:08.148Z"
   },
   {
    "duration": 5,
    "start_time": "2023-01-18T16:17:09.372Z"
   },
   {
    "duration": 5,
    "start_time": "2023-01-18T16:17:10.316Z"
   },
   {
    "duration": 2,
    "start_time": "2023-01-18T16:17:12.626Z"
   },
   {
    "duration": 3,
    "start_time": "2023-01-18T16:17:13.500Z"
   },
   {
    "duration": 2,
    "start_time": "2023-01-18T16:17:13.682Z"
   },
   {
    "duration": 5,
    "start_time": "2023-01-18T16:17:13.872Z"
   },
   {
    "duration": 5,
    "start_time": "2023-01-18T16:17:22.265Z"
   },
   {
    "duration": 5,
    "start_time": "2023-01-18T16:17:22.938Z"
   },
   {
    "duration": 4,
    "start_time": "2023-01-18T16:17:23.281Z"
   },
   {
    "duration": 3,
    "start_time": "2023-01-18T16:17:23.637Z"
   },
   {
    "duration": 258,
    "start_time": "2023-01-18T16:17:24.579Z"
   },
   {
    "duration": 265,
    "start_time": "2023-01-18T16:17:25.960Z"
   },
   {
    "duration": 275,
    "start_time": "2023-01-18T16:17:27.195Z"
   },
   {
    "duration": 355,
    "start_time": "2023-01-18T16:17:29.276Z"
   },
   {
    "duration": 371,
    "start_time": "2023-01-18T16:17:30.788Z"
   },
   {
    "duration": 7,
    "start_time": "2023-01-18T16:17:33.099Z"
   },
   {
    "duration": 682,
    "start_time": "2023-01-18T16:17:34.175Z"
   },
   {
    "duration": 13,
    "start_time": "2023-01-18T16:17:35.076Z"
   },
   {
    "duration": 6,
    "start_time": "2023-01-18T16:17:37.314Z"
   },
   {
    "duration": 16,
    "start_time": "2023-01-18T16:17:43.367Z"
   },
   {
    "duration": 7,
    "start_time": "2023-01-18T16:17:51.905Z"
   },
   {
    "duration": 47,
    "start_time": "2023-01-18T16:17:53.777Z"
   },
   {
    "duration": 3,
    "start_time": "2023-01-18T16:18:01.705Z"
   },
   {
    "duration": 11,
    "start_time": "2023-01-18T16:18:03.172Z"
   },
   {
    "duration": 16,
    "start_time": "2023-01-18T16:18:37.656Z"
   },
   {
    "duration": 8,
    "start_time": "2023-01-18T16:18:43.911Z"
   },
   {
    "duration": 2,
    "start_time": "2023-01-18T16:18:44.910Z"
   },
   {
    "duration": 11,
    "start_time": "2023-01-18T16:18:45.582Z"
   },
   {
    "duration": 3,
    "start_time": "2023-01-18T16:18:47.768Z"
   },
   {
    "duration": 3,
    "start_time": "2023-01-18T16:18:48.447Z"
   },
   {
    "duration": 2,
    "start_time": "2023-01-18T16:18:48.776Z"
   },
   {
    "duration": 2,
    "start_time": "2023-01-18T16:18:49.742Z"
   },
   {
    "duration": 3,
    "start_time": "2023-01-18T16:18:50.078Z"
   },
   {
    "duration": 5,
    "start_time": "2023-01-18T16:18:50.478Z"
   },
   {
    "duration": 128,
    "start_time": "2023-01-18T16:18:51.686Z"
   },
   {
    "duration": 22078,
    "start_time": "2023-01-18T16:20:07.802Z"
   },
   {
    "duration": 1428,
    "start_time": "2023-01-18T16:23:09.027Z"
   },
   {
    "duration": 704,
    "start_time": "2023-01-18T16:23:10.457Z"
   },
   {
    "duration": 29,
    "start_time": "2023-01-18T16:23:11.164Z"
   },
   {
    "duration": 22,
    "start_time": "2023-01-18T16:23:11.195Z"
   },
   {
    "duration": 20,
    "start_time": "2023-01-18T16:23:11.219Z"
   },
   {
    "duration": 185,
    "start_time": "2023-01-18T16:23:11.241Z"
   },
   {
    "duration": 98,
    "start_time": "2023-01-18T16:23:11.427Z"
   },
   {
    "duration": 1818,
    "start_time": "2023-01-18T16:23:11.527Z"
   },
   {
    "duration": 59,
    "start_time": "2023-01-18T16:23:13.347Z"
   },
   {
    "duration": 120,
    "start_time": "2023-01-18T16:23:13.408Z"
   },
   {
    "duration": 617,
    "start_time": "2023-01-18T16:23:13.530Z"
   },
   {
    "duration": 51,
    "start_time": "2023-01-18T16:23:14.148Z"
   },
   {
    "duration": 21,
    "start_time": "2023-01-18T16:23:14.201Z"
   },
   {
    "duration": 11,
    "start_time": "2023-01-18T16:23:14.225Z"
   },
   {
    "duration": 3,
    "start_time": "2023-01-18T16:23:14.238Z"
   },
   {
    "duration": 8,
    "start_time": "2023-01-18T16:23:14.242Z"
   },
   {
    "duration": 6,
    "start_time": "2023-01-18T16:23:14.252Z"
   },
   {
    "duration": 4,
    "start_time": "2023-01-18T16:23:14.260Z"
   },
   {
    "duration": 4,
    "start_time": "2023-01-18T16:23:14.293Z"
   },
   {
    "duration": 7,
    "start_time": "2023-01-18T16:23:14.298Z"
   },
   {
    "duration": 7,
    "start_time": "2023-01-18T16:23:14.306Z"
   },
   {
    "duration": 4,
    "start_time": "2023-01-18T16:23:14.314Z"
   },
   {
    "duration": 316,
    "start_time": "2023-01-18T16:23:14.320Z"
   },
   {
    "duration": 274,
    "start_time": "2023-01-18T16:23:14.637Z"
   },
   {
    "duration": 288,
    "start_time": "2023-01-18T16:23:14.913Z"
   },
   {
    "duration": 335,
    "start_time": "2023-01-18T16:23:15.203Z"
   },
   {
    "duration": 317,
    "start_time": "2023-01-18T16:23:15.539Z"
   },
   {
    "duration": 7,
    "start_time": "2023-01-18T16:23:15.858Z"
   },
   {
    "duration": 764,
    "start_time": "2023-01-18T16:23:15.867Z"
   },
   {
    "duration": 18,
    "start_time": "2023-01-18T16:23:16.633Z"
   },
   {
    "duration": 6,
    "start_time": "2023-01-18T16:23:16.654Z"
   },
   {
    "duration": 627,
    "start_time": "2023-01-18T16:23:16.661Z"
   },
   {
    "duration": 24,
    "start_time": "2023-01-18T16:23:17.292Z"
   },
   {
    "duration": 10,
    "start_time": "2023-01-18T16:23:17.318Z"
   },
   {
    "duration": 10,
    "start_time": "2023-01-18T16:23:17.330Z"
   },
   {
    "duration": 30,
    "start_time": "2023-01-18T16:23:17.342Z"
   },
   {
    "duration": 17,
    "start_time": "2023-01-18T16:23:17.374Z"
   },
   {
    "duration": 18,
    "start_time": "2023-01-18T16:23:17.393Z"
   },
   {
    "duration": 6,
    "start_time": "2023-01-18T16:23:17.413Z"
   },
   {
    "duration": 5,
    "start_time": "2023-01-18T16:23:17.421Z"
   },
   {
    "duration": 9,
    "start_time": "2023-01-18T16:23:17.431Z"
   },
   {
    "duration": 12,
    "start_time": "2023-01-18T16:23:17.442Z"
   },
   {
    "duration": 156,
    "start_time": "2023-01-18T16:23:17.455Z"
   },
   {
    "duration": 3,
    "start_time": "2023-01-18T16:23:17.613Z"
   },
   {
    "duration": 23008,
    "start_time": "2023-01-18T16:23:17.617Z"
   },
   {
    "duration": 3,
    "start_time": "2023-01-18T16:23:40.627Z"
   },
   {
    "duration": 57,
    "start_time": "2023-01-18T16:23:40.631Z"
   },
   {
    "duration": 0,
    "start_time": "2023-01-18T16:23:40.690Z"
   },
   {
    "duration": 0,
    "start_time": "2023-01-18T16:23:40.692Z"
   },
   {
    "duration": 0,
    "start_time": "2023-01-18T16:23:40.693Z"
   },
   {
    "duration": 0,
    "start_time": "2023-01-18T16:23:40.694Z"
   },
   {
    "duration": 657,
    "start_time": "2023-01-18T16:23:47.087Z"
   },
   {
    "duration": 20,
    "start_time": "2023-01-18T16:23:47.839Z"
   },
   {
    "duration": 13,
    "start_time": "2023-01-18T16:23:48.358Z"
   },
   {
    "duration": 16,
    "start_time": "2023-01-18T16:23:48.766Z"
   },
   {
    "duration": 162,
    "start_time": "2023-01-18T16:23:49.200Z"
   },
   {
    "duration": 49,
    "start_time": "2023-01-18T16:23:51.502Z"
   },
   {
    "duration": 1632,
    "start_time": "2023-01-18T16:23:51.928Z"
   },
   {
    "duration": 63,
    "start_time": "2023-01-18T16:23:53.562Z"
   },
   {
    "duration": 115,
    "start_time": "2023-01-18T16:23:53.694Z"
   },
   {
    "duration": 597,
    "start_time": "2023-01-18T16:23:54.214Z"
   },
   {
    "duration": 38,
    "start_time": "2023-01-18T16:23:55.399Z"
   },
   {
    "duration": 20,
    "start_time": "2023-01-18T16:23:55.966Z"
   },
   {
    "duration": 13,
    "start_time": "2023-01-18T16:23:57.110Z"
   },
   {
    "duration": 4,
    "start_time": "2023-01-18T16:23:58.846Z"
   },
   {
    "duration": 5,
    "start_time": "2023-01-18T16:23:59.644Z"
   },
   {
    "duration": 5,
    "start_time": "2023-01-18T16:24:00.342Z"
   },
   {
    "duration": 10,
    "start_time": "2023-01-18T16:28:14.137Z"
   },
   {
    "duration": 1412,
    "start_time": "2023-01-18T16:28:24.076Z"
   },
   {
    "duration": 736,
    "start_time": "2023-01-18T16:28:25.490Z"
   },
   {
    "duration": 22,
    "start_time": "2023-01-18T16:28:26.229Z"
   },
   {
    "duration": 24,
    "start_time": "2023-01-18T16:28:26.254Z"
   },
   {
    "duration": 37,
    "start_time": "2023-01-18T16:28:26.280Z"
   },
   {
    "duration": 159,
    "start_time": "2023-01-18T16:28:26.319Z"
   },
   {
    "duration": 103,
    "start_time": "2023-01-18T16:28:26.491Z"
   },
   {
    "duration": 1801,
    "start_time": "2023-01-18T16:28:26.596Z"
   },
   {
    "duration": 57,
    "start_time": "2023-01-18T16:28:28.398Z"
   },
   {
    "duration": 124,
    "start_time": "2023-01-18T16:28:28.458Z"
   },
   {
    "duration": 613,
    "start_time": "2023-01-18T16:28:28.584Z"
   },
   {
    "duration": 43,
    "start_time": "2023-01-18T16:28:29.199Z"
   },
   {
    "duration": 22,
    "start_time": "2023-01-18T16:28:29.244Z"
   },
   {
    "duration": 28,
    "start_time": "2023-01-18T16:28:29.268Z"
   },
   {
    "duration": 3,
    "start_time": "2023-01-18T16:28:29.298Z"
   },
   {
    "duration": 8,
    "start_time": "2023-01-18T16:28:29.303Z"
   },
   {
    "duration": 16,
    "start_time": "2023-01-18T16:28:29.312Z"
   },
   {
    "duration": 121,
    "start_time": "2023-01-18T16:28:29.330Z"
   },
   {
    "duration": 0,
    "start_time": "2023-01-18T16:28:29.453Z"
   },
   {
    "duration": 0,
    "start_time": "2023-01-18T16:28:29.454Z"
   },
   {
    "duration": 0,
    "start_time": "2023-01-18T16:28:29.456Z"
   },
   {
    "duration": 0,
    "start_time": "2023-01-18T16:28:29.457Z"
   },
   {
    "duration": 0,
    "start_time": "2023-01-18T16:28:29.458Z"
   },
   {
    "duration": 0,
    "start_time": "2023-01-18T16:28:29.459Z"
   },
   {
    "duration": 0,
    "start_time": "2023-01-18T16:28:29.460Z"
   },
   {
    "duration": 0,
    "start_time": "2023-01-18T16:28:29.461Z"
   },
   {
    "duration": 0,
    "start_time": "2023-01-18T16:28:29.462Z"
   },
   {
    "duration": 0,
    "start_time": "2023-01-18T16:28:29.463Z"
   },
   {
    "duration": 0,
    "start_time": "2023-01-18T16:28:29.491Z"
   },
   {
    "duration": 0,
    "start_time": "2023-01-18T16:28:29.493Z"
   },
   {
    "duration": 0,
    "start_time": "2023-01-18T16:28:29.494Z"
   },
   {
    "duration": 0,
    "start_time": "2023-01-18T16:28:29.495Z"
   },
   {
    "duration": 0,
    "start_time": "2023-01-18T16:28:29.497Z"
   },
   {
    "duration": 0,
    "start_time": "2023-01-18T16:28:29.498Z"
   },
   {
    "duration": 0,
    "start_time": "2023-01-18T16:28:29.500Z"
   },
   {
    "duration": 0,
    "start_time": "2023-01-18T16:28:29.501Z"
   },
   {
    "duration": 0,
    "start_time": "2023-01-18T16:28:29.502Z"
   },
   {
    "duration": 0,
    "start_time": "2023-01-18T16:28:29.503Z"
   },
   {
    "duration": 0,
    "start_time": "2023-01-18T16:28:29.506Z"
   },
   {
    "duration": 0,
    "start_time": "2023-01-18T16:28:29.509Z"
   },
   {
    "duration": 0,
    "start_time": "2023-01-18T16:28:29.511Z"
   },
   {
    "duration": 1,
    "start_time": "2023-01-18T16:28:29.513Z"
   },
   {
    "duration": 0,
    "start_time": "2023-01-18T16:28:29.514Z"
   },
   {
    "duration": 0,
    "start_time": "2023-01-18T16:28:29.516Z"
   },
   {
    "duration": 0,
    "start_time": "2023-01-18T16:28:29.518Z"
   },
   {
    "duration": 0,
    "start_time": "2023-01-18T16:28:29.519Z"
   },
   {
    "duration": 0,
    "start_time": "2023-01-18T16:28:29.521Z"
   },
   {
    "duration": 0,
    "start_time": "2023-01-18T16:28:29.522Z"
   },
   {
    "duration": 0,
    "start_time": "2023-01-18T16:28:29.524Z"
   },
   {
    "duration": 0,
    "start_time": "2023-01-18T16:28:29.525Z"
   },
   {
    "duration": 4,
    "start_time": "2023-01-18T16:28:31.369Z"
   },
   {
    "duration": 700,
    "start_time": "2023-01-18T16:28:31.680Z"
   },
   {
    "duration": 17,
    "start_time": "2023-01-18T16:28:32.536Z"
   },
   {
    "duration": 13,
    "start_time": "2023-01-18T16:28:32.992Z"
   },
   {
    "duration": 18,
    "start_time": "2023-01-18T16:28:33.337Z"
   },
   {
    "duration": 167,
    "start_time": "2023-01-18T16:28:33.784Z"
   },
   {
    "duration": 57,
    "start_time": "2023-01-18T16:28:34.704Z"
   },
   {
    "duration": 1827,
    "start_time": "2023-01-18T16:28:34.880Z"
   },
   {
    "duration": 59,
    "start_time": "2023-01-18T16:28:36.709Z"
   },
   {
    "duration": 139,
    "start_time": "2023-01-18T16:28:36.769Z"
   },
   {
    "duration": 570,
    "start_time": "2023-01-18T16:28:36.910Z"
   },
   {
    "duration": 45,
    "start_time": "2023-01-18T16:28:37.481Z"
   },
   {
    "duration": 20,
    "start_time": "2023-01-18T16:28:37.528Z"
   },
   {
    "duration": 12,
    "start_time": "2023-01-18T16:28:39.376Z"
   },
   {
    "duration": 4,
    "start_time": "2023-01-18T16:28:40.357Z"
   },
   {
    "duration": 4,
    "start_time": "2023-01-18T16:28:41.360Z"
   },
   {
    "duration": 5,
    "start_time": "2023-01-18T16:28:41.862Z"
   },
   {
    "duration": 11,
    "start_time": "2023-01-18T16:28:47.174Z"
   },
   {
    "duration": 19,
    "start_time": "2023-01-18T16:29:18.645Z"
   },
   {
    "duration": 4,
    "start_time": "2023-01-18T16:30:12.498Z"
   },
   {
    "duration": 10,
    "start_time": "2023-01-18T16:30:21.355Z"
   },
   {
    "duration": 1432,
    "start_time": "2023-01-18T16:33:13.167Z"
   },
   {
    "duration": 706,
    "start_time": "2023-01-18T16:33:14.601Z"
   },
   {
    "duration": 20,
    "start_time": "2023-01-18T16:33:15.311Z"
   },
   {
    "duration": 13,
    "start_time": "2023-01-18T16:33:15.332Z"
   },
   {
    "duration": 45,
    "start_time": "2023-01-18T16:33:15.347Z"
   },
   {
    "duration": 154,
    "start_time": "2023-01-18T16:33:15.394Z"
   },
   {
    "duration": 95,
    "start_time": "2023-01-18T16:33:15.550Z"
   },
   {
    "duration": 5,
    "start_time": "2023-01-18T16:33:15.647Z"
   },
   {
    "duration": 90,
    "start_time": "2023-01-18T16:33:15.655Z"
   },
   {
    "duration": 118,
    "start_time": "2023-01-18T16:33:15.746Z"
   },
   {
    "duration": 4,
    "start_time": "2023-01-18T16:33:15.866Z"
   },
   {
    "duration": 53,
    "start_time": "2023-01-18T16:33:15.871Z"
   },
   {
    "duration": 25,
    "start_time": "2023-01-18T16:33:15.925Z"
   },
   {
    "duration": 15,
    "start_time": "2023-01-18T16:33:15.951Z"
   },
   {
    "duration": 3,
    "start_time": "2023-01-18T16:33:15.968Z"
   },
   {
    "duration": 4,
    "start_time": "2023-01-18T16:33:15.992Z"
   },
   {
    "duration": 7,
    "start_time": "2023-01-18T16:33:15.997Z"
   },
   {
    "duration": 122,
    "start_time": "2023-01-18T16:33:16.006Z"
   },
   {
    "duration": 0,
    "start_time": "2023-01-18T16:33:16.130Z"
   },
   {
    "duration": 0,
    "start_time": "2023-01-18T16:33:16.131Z"
   },
   {
    "duration": 0,
    "start_time": "2023-01-18T16:33:16.133Z"
   },
   {
    "duration": 0,
    "start_time": "2023-01-18T16:33:16.134Z"
   },
   {
    "duration": 0,
    "start_time": "2023-01-18T16:33:16.136Z"
   },
   {
    "duration": 0,
    "start_time": "2023-01-18T16:33:16.137Z"
   },
   {
    "duration": 0,
    "start_time": "2023-01-18T16:33:16.138Z"
   },
   {
    "duration": 0,
    "start_time": "2023-01-18T16:33:16.140Z"
   },
   {
    "duration": 0,
    "start_time": "2023-01-18T16:33:16.141Z"
   },
   {
    "duration": 0,
    "start_time": "2023-01-18T16:33:16.142Z"
   },
   {
    "duration": 0,
    "start_time": "2023-01-18T16:33:16.143Z"
   },
   {
    "duration": 0,
    "start_time": "2023-01-18T16:33:16.146Z"
   },
   {
    "duration": 0,
    "start_time": "2023-01-18T16:33:16.147Z"
   },
   {
    "duration": 0,
    "start_time": "2023-01-18T16:33:16.149Z"
   },
   {
    "duration": 0,
    "start_time": "2023-01-18T16:33:16.150Z"
   },
   {
    "duration": 0,
    "start_time": "2023-01-18T16:33:16.191Z"
   },
   {
    "duration": 0,
    "start_time": "2023-01-18T16:33:16.194Z"
   },
   {
    "duration": 0,
    "start_time": "2023-01-18T16:33:16.195Z"
   },
   {
    "duration": 0,
    "start_time": "2023-01-18T16:33:16.197Z"
   },
   {
    "duration": 0,
    "start_time": "2023-01-18T16:33:16.198Z"
   },
   {
    "duration": 0,
    "start_time": "2023-01-18T16:33:16.200Z"
   },
   {
    "duration": 0,
    "start_time": "2023-01-18T16:33:16.202Z"
   },
   {
    "duration": 0,
    "start_time": "2023-01-18T16:33:16.203Z"
   },
   {
    "duration": 0,
    "start_time": "2023-01-18T16:33:16.204Z"
   },
   {
    "duration": 0,
    "start_time": "2023-01-18T16:33:16.205Z"
   },
   {
    "duration": 0,
    "start_time": "2023-01-18T16:33:16.207Z"
   },
   {
    "duration": 0,
    "start_time": "2023-01-18T16:33:16.208Z"
   },
   {
    "duration": 0,
    "start_time": "2023-01-18T16:33:16.210Z"
   },
   {
    "duration": 0,
    "start_time": "2023-01-18T16:33:16.211Z"
   },
   {
    "duration": 0,
    "start_time": "2023-01-18T16:33:16.212Z"
   },
   {
    "duration": 0,
    "start_time": "2023-01-18T16:33:16.214Z"
   },
   {
    "duration": 0,
    "start_time": "2023-01-18T16:33:16.215Z"
   },
   {
    "duration": 4,
    "start_time": "2023-01-18T16:33:21.729Z"
   },
   {
    "duration": 685,
    "start_time": "2023-01-18T16:33:22.049Z"
   },
   {
    "duration": 16,
    "start_time": "2023-01-18T16:33:22.736Z"
   },
   {
    "duration": 14,
    "start_time": "2023-01-18T16:33:22.816Z"
   },
   {
    "duration": 17,
    "start_time": "2023-01-18T16:33:23.040Z"
   },
   {
    "duration": 155,
    "start_time": "2023-01-18T16:33:23.282Z"
   },
   {
    "duration": 47,
    "start_time": "2023-01-18T16:33:23.963Z"
   },
   {
    "duration": 6,
    "start_time": "2023-01-18T16:33:24.225Z"
   },
   {
    "duration": 59,
    "start_time": "2023-01-18T16:33:24.570Z"
   },
   {
    "duration": 118,
    "start_time": "2023-01-18T16:33:26.861Z"
   },
   {
    "duration": 5,
    "start_time": "2023-01-18T16:33:26.980Z"
   },
   {
    "duration": 41,
    "start_time": "2023-01-18T16:33:27.793Z"
   },
   {
    "duration": 24,
    "start_time": "2023-01-18T16:33:28.273Z"
   },
   {
    "duration": 15,
    "start_time": "2023-01-18T16:33:29.080Z"
   },
   {
    "duration": 3,
    "start_time": "2023-01-18T16:33:31.105Z"
   },
   {
    "duration": 4,
    "start_time": "2023-01-18T16:33:31.489Z"
   },
   {
    "duration": 4,
    "start_time": "2023-01-18T16:33:31.913Z"
   },
   {
    "duration": 9,
    "start_time": "2023-01-18T16:33:34.409Z"
   },
   {
    "duration": 2,
    "start_time": "2023-01-18T16:33:42.281Z"
   },
   {
    "duration": 21,
    "start_time": "2023-01-18T16:33:48.503Z"
   },
   {
    "duration": 18,
    "start_time": "2023-01-18T16:34:03.055Z"
   },
   {
    "duration": 13,
    "start_time": "2023-01-18T16:34:14.543Z"
   },
   {
    "duration": 13,
    "start_time": "2023-01-18T16:34:37.679Z"
   },
   {
    "duration": 14,
    "start_time": "2023-01-18T16:34:48.284Z"
   },
   {
    "duration": 12,
    "start_time": "2023-01-18T16:34:51.741Z"
   },
   {
    "duration": 11,
    "start_time": "2023-01-18T16:35:36.754Z"
   },
   {
    "duration": 1346,
    "start_time": "2023-01-18T16:35:46.624Z"
   },
   {
    "duration": 681,
    "start_time": "2023-01-18T16:35:47.972Z"
   },
   {
    "duration": 20,
    "start_time": "2023-01-18T16:35:48.657Z"
   },
   {
    "duration": 14,
    "start_time": "2023-01-18T16:35:48.691Z"
   },
   {
    "duration": 18,
    "start_time": "2023-01-18T16:35:48.706Z"
   },
   {
    "duration": 180,
    "start_time": "2023-01-18T16:35:48.728Z"
   },
   {
    "duration": 99,
    "start_time": "2023-01-18T16:35:48.910Z"
   },
   {
    "duration": 128,
    "start_time": "2023-01-18T16:35:49.011Z"
   },
   {
    "duration": 0,
    "start_time": "2023-01-18T16:35:49.141Z"
   },
   {
    "duration": 0,
    "start_time": "2023-01-18T16:35:49.143Z"
   },
   {
    "duration": 0,
    "start_time": "2023-01-18T16:35:49.144Z"
   },
   {
    "duration": 0,
    "start_time": "2023-01-18T16:35:49.145Z"
   },
   {
    "duration": 0,
    "start_time": "2023-01-18T16:35:49.146Z"
   },
   {
    "duration": 0,
    "start_time": "2023-01-18T16:35:49.147Z"
   },
   {
    "duration": 0,
    "start_time": "2023-01-18T16:35:49.148Z"
   },
   {
    "duration": 0,
    "start_time": "2023-01-18T16:35:49.149Z"
   },
   {
    "duration": 0,
    "start_time": "2023-01-18T16:35:49.150Z"
   },
   {
    "duration": 0,
    "start_time": "2023-01-18T16:35:49.151Z"
   },
   {
    "duration": 0,
    "start_time": "2023-01-18T16:35:49.152Z"
   },
   {
    "duration": 0,
    "start_time": "2023-01-18T16:35:49.153Z"
   },
   {
    "duration": 0,
    "start_time": "2023-01-18T16:35:49.154Z"
   },
   {
    "duration": 0,
    "start_time": "2023-01-18T16:35:49.156Z"
   },
   {
    "duration": 0,
    "start_time": "2023-01-18T16:35:49.156Z"
   },
   {
    "duration": 0,
    "start_time": "2023-01-18T16:35:49.157Z"
   },
   {
    "duration": 0,
    "start_time": "2023-01-18T16:35:49.158Z"
   },
   {
    "duration": 0,
    "start_time": "2023-01-18T16:35:49.159Z"
   },
   {
    "duration": 0,
    "start_time": "2023-01-18T16:35:49.160Z"
   },
   {
    "duration": 0,
    "start_time": "2023-01-18T16:35:49.191Z"
   },
   {
    "duration": 0,
    "start_time": "2023-01-18T16:35:49.194Z"
   },
   {
    "duration": 0,
    "start_time": "2023-01-18T16:35:49.195Z"
   },
   {
    "duration": 0,
    "start_time": "2023-01-18T16:35:49.196Z"
   },
   {
    "duration": 0,
    "start_time": "2023-01-18T16:35:49.198Z"
   },
   {
    "duration": 0,
    "start_time": "2023-01-18T16:35:49.199Z"
   },
   {
    "duration": 0,
    "start_time": "2023-01-18T16:35:49.202Z"
   },
   {
    "duration": 0,
    "start_time": "2023-01-18T16:35:49.204Z"
   },
   {
    "duration": 0,
    "start_time": "2023-01-18T16:35:49.205Z"
   },
   {
    "duration": 0,
    "start_time": "2023-01-18T16:35:49.206Z"
   },
   {
    "duration": 0,
    "start_time": "2023-01-18T16:35:49.207Z"
   },
   {
    "duration": 0,
    "start_time": "2023-01-18T16:35:49.208Z"
   },
   {
    "duration": 0,
    "start_time": "2023-01-18T16:35:49.209Z"
   },
   {
    "duration": 0,
    "start_time": "2023-01-18T16:35:49.210Z"
   },
   {
    "duration": 0,
    "start_time": "2023-01-18T16:35:49.211Z"
   },
   {
    "duration": 0,
    "start_time": "2023-01-18T16:35:49.212Z"
   },
   {
    "duration": 0,
    "start_time": "2023-01-18T16:35:49.213Z"
   },
   {
    "duration": 0,
    "start_time": "2023-01-18T16:35:49.214Z"
   },
   {
    "duration": 0,
    "start_time": "2023-01-18T16:35:49.215Z"
   },
   {
    "duration": 0,
    "start_time": "2023-01-18T16:35:49.216Z"
   },
   {
    "duration": 0,
    "start_time": "2023-01-18T16:35:49.217Z"
   },
   {
    "duration": 0,
    "start_time": "2023-01-18T16:35:49.218Z"
   },
   {
    "duration": 0,
    "start_time": "2023-01-18T16:35:49.220Z"
   },
   {
    "duration": 4,
    "start_time": "2023-01-18T16:35:51.690Z"
   },
   {
    "duration": 759,
    "start_time": "2023-01-18T16:35:52.153Z"
   },
   {
    "duration": 17,
    "start_time": "2023-01-18T16:35:52.914Z"
   },
   {
    "duration": 13,
    "start_time": "2023-01-18T16:35:52.933Z"
   },
   {
    "duration": 18,
    "start_time": "2023-01-18T16:35:52.948Z"
   },
   {
    "duration": 192,
    "start_time": "2023-01-18T16:35:53.066Z"
   },
   {
    "duration": 51,
    "start_time": "2023-01-18T16:35:54.132Z"
   },
   {
    "duration": 13,
    "start_time": "2023-01-18T16:35:54.564Z"
   },
   {
    "duration": 92,
    "start_time": "2023-01-18T16:35:55.321Z"
   },
   {
    "duration": 9,
    "start_time": "2023-01-18T16:36:11.111Z"
   },
   {
    "duration": 55,
    "start_time": "2023-01-18T16:36:12.922Z"
   },
   {
    "duration": 124,
    "start_time": "2023-01-18T16:36:17.191Z"
   },
   {
    "duration": 4,
    "start_time": "2023-01-18T16:36:19.176Z"
   },
   {
    "duration": 38,
    "start_time": "2023-01-18T16:36:19.704Z"
   },
   {
    "duration": 24,
    "start_time": "2023-01-18T16:36:23.265Z"
   },
   {
    "duration": 13,
    "start_time": "2023-01-18T16:36:24.232Z"
   },
   {
    "duration": 4,
    "start_time": "2023-01-18T16:36:26.080Z"
   },
   {
    "duration": 4,
    "start_time": "2023-01-18T16:36:26.358Z"
   },
   {
    "duration": 4,
    "start_time": "2023-01-18T16:36:26.913Z"
   },
   {
    "duration": 2,
    "start_time": "2023-01-18T16:36:29.246Z"
   },
   {
    "duration": 11,
    "start_time": "2023-01-18T16:36:32.846Z"
   },
   {
    "duration": 11,
    "start_time": "2023-01-18T16:36:34.590Z"
   },
   {
    "duration": 11,
    "start_time": "2023-01-18T16:36:38.342Z"
   },
   {
    "duration": 3,
    "start_time": "2023-01-18T16:36:40.183Z"
   },
   {
    "duration": 3,
    "start_time": "2023-01-18T16:36:40.926Z"
   },
   {
    "duration": 3,
    "start_time": "2023-01-18T16:36:41.238Z"
   },
   {
    "duration": 3,
    "start_time": "2023-01-18T16:36:44.038Z"
   },
   {
    "duration": 146,
    "start_time": "2023-01-18T16:36:46.677Z"
   },
   {
    "duration": 127,
    "start_time": "2023-01-18T16:36:56.006Z"
   },
   {
    "duration": 159,
    "start_time": "2023-01-18T16:37:03.613Z"
   },
   {
    "duration": 14,
    "start_time": "2023-01-18T16:37:45.820Z"
   },
   {
    "duration": 1426,
    "start_time": "2023-01-18T16:37:58.066Z"
   },
   {
    "duration": 707,
    "start_time": "2023-01-18T16:37:59.496Z"
   },
   {
    "duration": 20,
    "start_time": "2023-01-18T16:38:00.206Z"
   },
   {
    "duration": 31,
    "start_time": "2023-01-18T16:38:00.228Z"
   },
   {
    "duration": 35,
    "start_time": "2023-01-18T16:38:00.262Z"
   },
   {
    "duration": 177,
    "start_time": "2023-01-18T16:38:00.299Z"
   },
   {
    "duration": 118,
    "start_time": "2023-01-18T16:38:00.477Z"
   },
   {
    "duration": 6,
    "start_time": "2023-01-18T16:38:00.597Z"
   },
   {
    "duration": 172,
    "start_time": "2023-01-18T16:38:00.605Z"
   },
   {
    "duration": 132,
    "start_time": "2023-01-18T16:38:00.779Z"
   },
   {
    "duration": 4,
    "start_time": "2023-01-18T16:38:00.913Z"
   },
   {
    "duration": 80,
    "start_time": "2023-01-18T16:38:00.918Z"
   },
   {
    "duration": 28,
    "start_time": "2023-01-18T16:38:01.000Z"
   },
   {
    "duration": 16,
    "start_time": "2023-01-18T16:38:01.031Z"
   },
   {
    "duration": 5,
    "start_time": "2023-01-18T16:38:01.049Z"
   },
   {
    "duration": 36,
    "start_time": "2023-01-18T16:38:01.056Z"
   },
   {
    "duration": 47,
    "start_time": "2023-01-18T16:38:01.094Z"
   },
   {
    "duration": 41,
    "start_time": "2023-01-18T16:38:01.144Z"
   },
   {
    "duration": 104,
    "start_time": "2023-01-18T16:38:01.187Z"
   },
   {
    "duration": 149,
    "start_time": "2023-01-18T16:38:01.293Z"
   },
   {
    "duration": 201,
    "start_time": "2023-01-18T16:38:01.444Z"
   },
   {
    "duration": 80,
    "start_time": "2023-01-18T16:38:01.647Z"
   },
   {
    "duration": 442,
    "start_time": "2023-01-18T16:38:01.728Z"
   },
   {
    "duration": 278,
    "start_time": "2023-01-18T16:38:02.172Z"
   },
   {
    "duration": 388,
    "start_time": "2023-01-18T16:38:02.452Z"
   },
   {
    "duration": 428,
    "start_time": "2023-01-18T16:38:02.842Z"
   },
   {
    "duration": 406,
    "start_time": "2023-01-18T16:38:03.272Z"
   },
   {
    "duration": 14,
    "start_time": "2023-01-18T16:38:03.680Z"
   },
   {
    "duration": 665,
    "start_time": "2023-01-18T16:38:03.695Z"
   },
   {
    "duration": 31,
    "start_time": "2023-01-18T16:38:04.362Z"
   },
   {
    "duration": 9,
    "start_time": "2023-01-18T16:38:04.396Z"
   },
   {
    "duration": 692,
    "start_time": "2023-01-18T16:38:04.407Z"
   },
   {
    "duration": 11,
    "start_time": "2023-01-18T16:38:05.100Z"
   },
   {
    "duration": 19,
    "start_time": "2023-01-18T16:38:05.113Z"
   },
   {
    "duration": 13,
    "start_time": "2023-01-18T16:38:05.134Z"
   },
   {
    "duration": 12,
    "start_time": "2023-01-18T16:38:05.149Z"
   },
   {
    "duration": 3,
    "start_time": "2023-01-18T16:38:05.163Z"
   },
   {
    "duration": 4,
    "start_time": "2023-01-18T16:38:05.191Z"
   },
   {
    "duration": 4,
    "start_time": "2023-01-18T16:38:05.200Z"
   },
   {
    "duration": 28,
    "start_time": "2023-01-18T16:38:05.206Z"
   },
   {
    "duration": 10,
    "start_time": "2023-01-18T16:38:05.240Z"
   },
   {
    "duration": 11,
    "start_time": "2023-01-18T16:38:05.252Z"
   },
   {
    "duration": 164,
    "start_time": "2023-01-18T16:38:05.264Z"
   },
   {
    "duration": 3,
    "start_time": "2023-01-18T16:38:05.429Z"
   },
   {
    "duration": 23740,
    "start_time": "2023-01-18T16:38:05.434Z"
   },
   {
    "duration": 3,
    "start_time": "2023-01-18T16:38:29.176Z"
   },
   {
    "duration": 62,
    "start_time": "2023-01-18T16:38:29.181Z"
   },
   {
    "duration": 0,
    "start_time": "2023-01-18T16:38:29.245Z"
   },
   {
    "duration": 0,
    "start_time": "2023-01-18T16:38:29.247Z"
   },
   {
    "duration": 0,
    "start_time": "2023-01-18T16:38:29.248Z"
   },
   {
    "duration": 0,
    "start_time": "2023-01-18T16:38:29.250Z"
   },
   {
    "duration": 664,
    "start_time": "2023-01-18T16:39:05.080Z"
   },
   {
    "duration": 19,
    "start_time": "2023-01-18T16:39:05.746Z"
   },
   {
    "duration": 16,
    "start_time": "2023-01-18T16:39:06.184Z"
   },
   {
    "duration": 20,
    "start_time": "2023-01-18T16:39:06.562Z"
   },
   {
    "duration": 170,
    "start_time": "2023-01-18T16:39:07.106Z"
   },
   {
    "duration": 49,
    "start_time": "2023-01-18T16:39:09.056Z"
   },
   {
    "duration": 7,
    "start_time": "2023-01-18T16:39:09.840Z"
   },
   {
    "duration": 61,
    "start_time": "2023-01-18T16:39:13.696Z"
   },
   {
    "duration": 116,
    "start_time": "2023-01-18T16:39:15.238Z"
   },
   {
    "duration": 4,
    "start_time": "2023-01-18T16:39:17.801Z"
   },
   {
    "duration": 44,
    "start_time": "2023-01-18T16:39:18.320Z"
   },
   {
    "duration": 24,
    "start_time": "2023-01-18T16:39:19.446Z"
   },
   {
    "duration": 14,
    "start_time": "2023-01-18T16:39:20.870Z"
   },
   {
    "duration": 3,
    "start_time": "2023-01-18T16:39:22.262Z"
   },
   {
    "duration": 4,
    "start_time": "2023-01-18T16:39:22.894Z"
   },
   {
    "duration": 5,
    "start_time": "2023-01-18T16:39:24.038Z"
   },
   {
    "duration": 2,
    "start_time": "2023-01-18T16:39:27.143Z"
   },
   {
    "duration": 7,
    "start_time": "2023-01-18T16:39:46.813Z"
   },
   {
    "duration": 17,
    "start_time": "2023-01-18T16:39:54.198Z"
   },
   {
    "duration": 9,
    "start_time": "2023-01-18T16:40:00.838Z"
   },
   {
    "duration": 11,
    "start_time": "2023-01-18T16:40:03.965Z"
   },
   {
    "duration": 3,
    "start_time": "2023-01-18T16:40:05.637Z"
   },
   {
    "duration": 3,
    "start_time": "2023-01-18T16:40:06.309Z"
   },
   {
    "duration": 3,
    "start_time": "2023-01-18T16:40:06.709Z"
   },
   {
    "duration": 4,
    "start_time": "2023-01-18T16:40:09.117Z"
   },
   {
    "duration": 147,
    "start_time": "2023-01-18T16:40:10.707Z"
   },
   {
    "duration": 126,
    "start_time": "2023-01-18T16:40:52.466Z"
   },
   {
    "duration": 3,
    "start_time": "2023-01-18T16:52:26.583Z"
   },
   {
    "duration": 2,
    "start_time": "2023-01-18T16:52:28.318Z"
   },
   {
    "duration": 2,
    "start_time": "2023-01-18T16:52:29.566Z"
   },
   {
    "duration": 4,
    "start_time": "2023-01-18T16:52:32.310Z"
   },
   {
    "duration": 123,
    "start_time": "2023-01-18T16:52:34.390Z"
   },
   {
    "duration": 7,
    "start_time": "2023-01-18T16:56:38.321Z"
   },
   {
    "duration": 2,
    "start_time": "2023-01-18T16:56:40.097Z"
   },
   {
    "duration": 10,
    "start_time": "2023-01-18T16:56:40.665Z"
   },
   {
    "duration": 3,
    "start_time": "2023-01-18T16:56:41.337Z"
   },
   {
    "duration": 3,
    "start_time": "2023-01-18T16:56:41.793Z"
   },
   {
    "duration": 3,
    "start_time": "2023-01-18T16:56:41.982Z"
   },
   {
    "duration": 4,
    "start_time": "2023-01-18T16:56:44.808Z"
   },
   {
    "duration": 150,
    "start_time": "2023-01-18T16:56:46.297Z"
   },
   {
    "duration": 1401,
    "start_time": "2023-01-18T16:56:54.057Z"
   },
   {
    "duration": 712,
    "start_time": "2023-01-18T16:56:55.460Z"
   },
   {
    "duration": 31,
    "start_time": "2023-01-18T16:56:56.175Z"
   },
   {
    "duration": 15,
    "start_time": "2023-01-18T16:56:56.209Z"
   },
   {
    "duration": 23,
    "start_time": "2023-01-18T16:56:56.227Z"
   },
   {
    "duration": 183,
    "start_time": "2023-01-18T16:56:56.252Z"
   },
   {
    "duration": 108,
    "start_time": "2023-01-18T16:56:56.436Z"
   },
   {
    "duration": 7,
    "start_time": "2023-01-18T16:56:56.546Z"
   },
   {
    "duration": 126,
    "start_time": "2023-01-18T16:56:56.555Z"
   },
   {
    "duration": 122,
    "start_time": "2023-01-18T16:56:56.683Z"
   },
   {
    "duration": 5,
    "start_time": "2023-01-18T16:56:56.807Z"
   },
   {
    "duration": 39,
    "start_time": "2023-01-18T16:56:56.813Z"
   },
   {
    "duration": 39,
    "start_time": "2023-01-18T16:56:56.854Z"
   },
   {
    "duration": 16,
    "start_time": "2023-01-18T16:56:56.897Z"
   },
   {
    "duration": 3,
    "start_time": "2023-01-18T16:56:56.915Z"
   },
   {
    "duration": 5,
    "start_time": "2023-01-18T16:56:56.920Z"
   },
   {
    "duration": 5,
    "start_time": "2023-01-18T16:56:56.927Z"
   },
   {
    "duration": 5,
    "start_time": "2023-01-18T16:56:56.934Z"
   },
   {
    "duration": 6,
    "start_time": "2023-01-18T16:56:56.940Z"
   },
   {
    "duration": 44,
    "start_time": "2023-01-18T16:56:56.948Z"
   },
   {
    "duration": 5,
    "start_time": "2023-01-18T16:56:56.994Z"
   },
   {
    "duration": 5,
    "start_time": "2023-01-18T16:56:57.001Z"
   },
   {
    "duration": 294,
    "start_time": "2023-01-18T16:56:57.008Z"
   },
   {
    "duration": 271,
    "start_time": "2023-01-18T16:56:57.305Z"
   },
   {
    "duration": 372,
    "start_time": "2023-01-18T16:56:57.578Z"
   },
   {
    "duration": 326,
    "start_time": "2023-01-18T16:56:57.952Z"
   },
   {
    "duration": 372,
    "start_time": "2023-01-18T16:56:58.280Z"
   },
   {
    "duration": 6,
    "start_time": "2023-01-18T16:56:58.654Z"
   },
   {
    "duration": 583,
    "start_time": "2023-01-18T16:56:58.661Z"
   },
   {
    "duration": 15,
    "start_time": "2023-01-18T16:56:59.246Z"
   },
   {
    "duration": 11,
    "start_time": "2023-01-18T16:56:59.263Z"
   },
   {
    "duration": 587,
    "start_time": "2023-01-18T16:56:59.275Z"
   },
   {
    "duration": 10,
    "start_time": "2023-01-18T16:56:59.864Z"
   },
   {
    "duration": 19,
    "start_time": "2023-01-18T16:56:59.875Z"
   },
   {
    "duration": 16,
    "start_time": "2023-01-18T16:56:59.896Z"
   },
   {
    "duration": 13,
    "start_time": "2023-01-18T16:56:59.914Z"
   },
   {
    "duration": 8,
    "start_time": "2023-01-18T16:56:59.928Z"
   },
   {
    "duration": 12,
    "start_time": "2023-01-18T16:56:59.938Z"
   },
   {
    "duration": 7,
    "start_time": "2023-01-18T16:56:59.951Z"
   },
   {
    "duration": 5,
    "start_time": "2023-01-18T16:56:59.959Z"
   },
   {
    "duration": 12,
    "start_time": "2023-01-18T16:56:59.968Z"
   },
   {
    "duration": 14,
    "start_time": "2023-01-18T16:56:59.982Z"
   },
   {
    "duration": 148,
    "start_time": "2023-01-18T16:56:59.997Z"
   },
   {
    "duration": 4,
    "start_time": "2023-01-18T16:57:00.146Z"
   },
   {
    "duration": 52,
    "start_time": "2023-01-18T16:57:00.151Z"
   },
   {
    "duration": 23,
    "start_time": "2023-01-18T16:57:00.205Z"
   },
   {
    "duration": 173,
    "start_time": "2023-01-18T16:57:00.229Z"
   },
   {
    "duration": 0,
    "start_time": "2023-01-18T16:57:00.404Z"
   },
   {
    "duration": 0,
    "start_time": "2023-01-18T16:57:00.405Z"
   },
   {
    "duration": 0,
    "start_time": "2023-01-18T16:57:00.405Z"
   },
   {
    "duration": 6,
    "start_time": "2023-01-18T16:57:06.039Z"
   },
   {
    "duration": 652,
    "start_time": "2023-01-18T16:57:06.478Z"
   },
   {
    "duration": 144,
    "start_time": "2023-01-18T16:57:07.132Z"
   },
   {
    "duration": 14,
    "start_time": "2023-01-18T16:57:07.425Z"
   },
   {
    "duration": 19,
    "start_time": "2023-01-18T16:57:07.831Z"
   },
   {
    "duration": 159,
    "start_time": "2023-01-18T16:57:08.217Z"
   },
   {
    "duration": 53,
    "start_time": "2023-01-18T16:57:08.998Z"
   },
   {
    "duration": 7,
    "start_time": "2023-01-18T16:57:09.295Z"
   },
   {
    "duration": 59,
    "start_time": "2023-01-18T16:57:09.599Z"
   },
   {
    "duration": 122,
    "start_time": "2023-01-18T16:57:10.207Z"
   },
   {
    "duration": 4,
    "start_time": "2023-01-18T16:57:10.559Z"
   },
   {
    "duration": 42,
    "start_time": "2023-01-18T16:57:11.031Z"
   },
   {
    "duration": 25,
    "start_time": "2023-01-18T16:57:11.407Z"
   },
   {
    "duration": 16,
    "start_time": "2023-01-18T16:57:12.260Z"
   },
   {
    "duration": 3,
    "start_time": "2023-01-18T16:57:13.413Z"
   },
   {
    "duration": 4,
    "start_time": "2023-01-18T16:57:13.759Z"
   },
   {
    "duration": 5,
    "start_time": "2023-01-18T16:57:14.112Z"
   },
   {
    "duration": 3,
    "start_time": "2023-01-18T16:57:15.381Z"
   },
   {
    "duration": 5,
    "start_time": "2023-01-18T16:57:16.485Z"
   },
   {
    "duration": 4,
    "start_time": "2023-01-18T16:57:16.757Z"
   },
   {
    "duration": 4,
    "start_time": "2023-01-18T16:57:17.029Z"
   },
   {
    "duration": 4,
    "start_time": "2023-01-18T16:57:17.276Z"
   },
   {
    "duration": 258,
    "start_time": "2023-01-18T16:57:17.598Z"
   },
   {
    "duration": 260,
    "start_time": "2023-01-18T16:57:17.860Z"
   },
   {
    "duration": 287,
    "start_time": "2023-01-18T16:57:18.122Z"
   },
   {
    "duration": 311,
    "start_time": "2023-01-18T16:57:18.829Z"
   },
   {
    "duration": 315,
    "start_time": "2023-01-18T16:57:19.142Z"
   },
   {
    "duration": 7,
    "start_time": "2023-01-18T16:57:19.598Z"
   },
   {
    "duration": 570,
    "start_time": "2023-01-18T16:57:19.765Z"
   },
   {
    "duration": 14,
    "start_time": "2023-01-18T16:57:20.337Z"
   },
   {
    "duration": 9,
    "start_time": "2023-01-18T16:57:20.565Z"
   },
   {
    "duration": 743,
    "start_time": "2023-01-18T16:57:20.774Z"
   },
   {
    "duration": 8,
    "start_time": "2023-01-18T16:57:21.519Z"
   },
   {
    "duration": 8,
    "start_time": "2023-01-18T16:57:21.757Z"
   },
   {
    "duration": 2,
    "start_time": "2023-01-18T16:57:22.165Z"
   },
   {
    "duration": 11,
    "start_time": "2023-01-18T16:57:22.701Z"
   },
   {
    "duration": 4,
    "start_time": "2023-01-18T16:57:23.038Z"
   },
   {
    "duration": 3,
    "start_time": "2023-01-18T16:57:23.725Z"
   },
   {
    "duration": 3,
    "start_time": "2023-01-18T16:57:24.277Z"
   },
   {
    "duration": 3,
    "start_time": "2023-01-18T16:57:27.805Z"
   },
   {
    "duration": 127,
    "start_time": "2023-01-18T16:57:30.597Z"
   },
   {
    "duration": 6,
    "start_time": "2023-01-18T16:57:48.388Z"
   },
   {
    "duration": 12,
    "start_time": "2023-01-18T16:57:49.197Z"
   },
   {
    "duration": 9,
    "start_time": "2023-01-18T16:57:56.044Z"
   },
   {
    "duration": 10,
    "start_time": "2023-01-18T16:58:04.492Z"
   },
   {
    "duration": 5,
    "start_time": "2023-01-18T16:58:09.772Z"
   },
   {
    "duration": 9,
    "start_time": "2023-01-18T16:58:11.044Z"
   },
   {
    "duration": 1311,
    "start_time": "2023-01-18T16:58:17.049Z"
   },
   {
    "duration": 671,
    "start_time": "2023-01-18T16:58:18.362Z"
   },
   {
    "duration": 17,
    "start_time": "2023-01-18T16:58:19.035Z"
   },
   {
    "duration": 14,
    "start_time": "2023-01-18T16:58:19.054Z"
   },
   {
    "duration": 36,
    "start_time": "2023-01-18T16:58:19.069Z"
   },
   {
    "duration": 152,
    "start_time": "2023-01-18T16:58:19.106Z"
   },
   {
    "duration": 97,
    "start_time": "2023-01-18T16:58:19.260Z"
   },
   {
    "duration": 6,
    "start_time": "2023-01-18T16:58:19.359Z"
   },
   {
    "duration": 123,
    "start_time": "2023-01-18T16:58:19.367Z"
   },
   {
    "duration": 0,
    "start_time": "2023-01-18T16:58:19.493Z"
   },
   {
    "duration": 0,
    "start_time": "2023-01-18T16:58:19.494Z"
   },
   {
    "duration": 0,
    "start_time": "2023-01-18T16:58:19.495Z"
   },
   {
    "duration": 0,
    "start_time": "2023-01-18T16:58:19.496Z"
   },
   {
    "duration": 0,
    "start_time": "2023-01-18T16:58:19.498Z"
   },
   {
    "duration": 0,
    "start_time": "2023-01-18T16:58:19.498Z"
   },
   {
    "duration": 0,
    "start_time": "2023-01-18T16:58:19.499Z"
   },
   {
    "duration": 0,
    "start_time": "2023-01-18T16:58:19.501Z"
   },
   {
    "duration": 0,
    "start_time": "2023-01-18T16:58:19.501Z"
   },
   {
    "duration": 0,
    "start_time": "2023-01-18T16:58:19.502Z"
   },
   {
    "duration": 0,
    "start_time": "2023-01-18T16:58:19.504Z"
   },
   {
    "duration": 0,
    "start_time": "2023-01-18T16:58:19.504Z"
   },
   {
    "duration": 0,
    "start_time": "2023-01-18T16:58:19.506Z"
   },
   {
    "duration": 0,
    "start_time": "2023-01-18T16:58:19.506Z"
   },
   {
    "duration": 0,
    "start_time": "2023-01-18T16:58:19.507Z"
   },
   {
    "duration": 0,
    "start_time": "2023-01-18T16:58:19.508Z"
   },
   {
    "duration": 0,
    "start_time": "2023-01-18T16:58:19.509Z"
   },
   {
    "duration": 0,
    "start_time": "2023-01-18T16:58:19.510Z"
   },
   {
    "duration": 0,
    "start_time": "2023-01-18T16:58:19.511Z"
   },
   {
    "duration": 0,
    "start_time": "2023-01-18T16:58:19.512Z"
   },
   {
    "duration": 0,
    "start_time": "2023-01-18T16:58:19.513Z"
   },
   {
    "duration": 0,
    "start_time": "2023-01-18T16:58:19.514Z"
   },
   {
    "duration": 0,
    "start_time": "2023-01-18T16:58:19.515Z"
   },
   {
    "duration": 0,
    "start_time": "2023-01-18T16:58:19.516Z"
   },
   {
    "duration": 0,
    "start_time": "2023-01-18T16:58:19.517Z"
   },
   {
    "duration": 0,
    "start_time": "2023-01-18T16:58:19.518Z"
   },
   {
    "duration": 0,
    "start_time": "2023-01-18T16:58:19.519Z"
   },
   {
    "duration": 0,
    "start_time": "2023-01-18T16:58:19.520Z"
   },
   {
    "duration": 0,
    "start_time": "2023-01-18T16:58:19.521Z"
   },
   {
    "duration": 0,
    "start_time": "2023-01-18T16:58:19.522Z"
   },
   {
    "duration": 0,
    "start_time": "2023-01-18T16:58:19.523Z"
   },
   {
    "duration": 0,
    "start_time": "2023-01-18T16:58:19.524Z"
   },
   {
    "duration": 0,
    "start_time": "2023-01-18T16:58:19.525Z"
   },
   {
    "duration": 0,
    "start_time": "2023-01-18T16:58:19.526Z"
   },
   {
    "duration": 0,
    "start_time": "2023-01-18T16:58:19.527Z"
   },
   {
    "duration": 1,
    "start_time": "2023-01-18T16:58:19.527Z"
   },
   {
    "duration": 0,
    "start_time": "2023-01-18T16:58:19.528Z"
   },
   {
    "duration": 0,
    "start_time": "2023-01-18T16:58:19.529Z"
   },
   {
    "duration": 0,
    "start_time": "2023-01-18T16:58:19.530Z"
   },
   {
    "duration": 0,
    "start_time": "2023-01-18T16:58:19.531Z"
   },
   {
    "duration": 0,
    "start_time": "2023-01-18T16:58:19.592Z"
   },
   {
    "duration": 4,
    "start_time": "2023-01-18T16:58:21.299Z"
   },
   {
    "duration": 690,
    "start_time": "2023-01-18T16:58:21.465Z"
   },
   {
    "duration": 17,
    "start_time": "2023-01-18T16:58:22.158Z"
   },
   {
    "duration": 24,
    "start_time": "2023-01-18T16:58:22.177Z"
   },
   {
    "duration": 18,
    "start_time": "2023-01-18T16:58:22.203Z"
   },
   {
    "duration": 184,
    "start_time": "2023-01-18T16:58:22.223Z"
   },
   {
    "duration": 53,
    "start_time": "2023-01-18T16:58:22.485Z"
   },
   {
    "duration": 7,
    "start_time": "2023-01-18T16:58:22.675Z"
   },
   {
    "duration": 10,
    "start_time": "2023-01-18T16:58:23.770Z"
   },
   {
    "duration": 10,
    "start_time": "2023-01-18T16:58:24.186Z"
   },
   {
    "duration": 4,
    "start_time": "2023-01-18T16:58:24.410Z"
   },
   {
    "duration": 9,
    "start_time": "2023-01-18T16:58:24.587Z"
   },
   {
    "duration": 8,
    "start_time": "2023-01-18T16:58:24.755Z"
   },
   {
    "duration": 11,
    "start_time": "2023-01-18T16:58:25.066Z"
   },
   {
    "duration": 9,
    "start_time": "2023-01-18T16:58:26.722Z"
   },
   {
    "duration": 9,
    "start_time": "2023-01-18T16:58:26.931Z"
   },
   {
    "duration": 10,
    "start_time": "2023-01-18T16:58:31.579Z"
   },
   {
    "duration": 9,
    "start_time": "2023-01-18T16:58:31.891Z"
   },
   {
    "duration": 9,
    "start_time": "2023-01-18T16:58:38.859Z"
   },
   {
    "duration": 9,
    "start_time": "2023-01-18T16:59:04.817Z"
   },
   {
    "duration": 9,
    "start_time": "2023-01-18T16:59:11.183Z"
   },
   {
    "duration": 10,
    "start_time": "2023-01-18T16:59:12.543Z"
   },
   {
    "duration": 1363,
    "start_time": "2023-01-18T16:59:18.403Z"
   },
   {
    "duration": 699,
    "start_time": "2023-01-18T16:59:19.768Z"
   },
   {
    "duration": 26,
    "start_time": "2023-01-18T16:59:20.469Z"
   },
   {
    "duration": 23,
    "start_time": "2023-01-18T16:59:20.498Z"
   },
   {
    "duration": 17,
    "start_time": "2023-01-18T16:59:20.523Z"
   },
   {
    "duration": 181,
    "start_time": "2023-01-18T16:59:20.542Z"
   },
   {
    "duration": 103,
    "start_time": "2023-01-18T16:59:20.725Z"
   },
   {
    "duration": 7,
    "start_time": "2023-01-18T16:59:20.830Z"
   },
   {
    "duration": 105,
    "start_time": "2023-01-18T16:59:20.840Z"
   },
   {
    "duration": 121,
    "start_time": "2023-01-18T16:59:20.949Z"
   },
   {
    "duration": 4,
    "start_time": "2023-01-18T16:59:21.071Z"
   },
   {
    "duration": 51,
    "start_time": "2023-01-18T16:59:21.077Z"
   },
   {
    "duration": 23,
    "start_time": "2023-01-18T16:59:21.129Z"
   },
   {
    "duration": 14,
    "start_time": "2023-01-18T16:59:21.154Z"
   },
   {
    "duration": 23,
    "start_time": "2023-01-18T16:59:21.170Z"
   },
   {
    "duration": 8,
    "start_time": "2023-01-18T16:59:21.195Z"
   },
   {
    "duration": 13,
    "start_time": "2023-01-18T16:59:21.204Z"
   },
   {
    "duration": 4,
    "start_time": "2023-01-18T16:59:21.219Z"
   },
   {
    "duration": 8,
    "start_time": "2023-01-18T16:59:21.224Z"
   },
   {
    "duration": 5,
    "start_time": "2023-01-18T16:59:21.234Z"
   },
   {
    "duration": 6,
    "start_time": "2023-01-18T16:59:21.241Z"
   },
   {
    "duration": 7,
    "start_time": "2023-01-18T16:59:21.249Z"
   },
   {
    "duration": 289,
    "start_time": "2023-01-18T16:59:21.258Z"
   },
   {
    "duration": 291,
    "start_time": "2023-01-18T16:59:21.549Z"
   },
   {
    "duration": 352,
    "start_time": "2023-01-18T16:59:21.842Z"
   },
   {
    "duration": 343,
    "start_time": "2023-01-18T16:59:22.196Z"
   },
   {
    "duration": 301,
    "start_time": "2023-01-18T16:59:22.540Z"
   },
   {
    "duration": 6,
    "start_time": "2023-01-18T16:59:22.844Z"
   },
   {
    "duration": 563,
    "start_time": "2023-01-18T16:59:22.851Z"
   },
   {
    "duration": 17,
    "start_time": "2023-01-18T16:59:23.415Z"
   },
   {
    "duration": 6,
    "start_time": "2023-01-18T16:59:23.434Z"
   },
   {
    "duration": 571,
    "start_time": "2023-01-18T16:59:23.442Z"
   },
   {
    "duration": 10,
    "start_time": "2023-01-18T16:59:24.014Z"
   },
   {
    "duration": 6,
    "start_time": "2023-01-18T16:59:24.026Z"
   },
   {
    "duration": 4,
    "start_time": "2023-01-18T16:59:24.033Z"
   },
   {
    "duration": 12,
    "start_time": "2023-01-18T16:59:24.038Z"
   },
   {
    "duration": 2,
    "start_time": "2023-01-18T16:59:24.052Z"
   },
   {
    "duration": 5,
    "start_time": "2023-01-18T16:59:24.056Z"
   },
   {
    "duration": 29,
    "start_time": "2023-01-18T16:59:24.063Z"
   },
   {
    "duration": 3,
    "start_time": "2023-01-18T16:59:24.094Z"
   },
   {
    "duration": 7,
    "start_time": "2023-01-18T16:59:24.098Z"
   },
   {
    "duration": 7,
    "start_time": "2023-01-18T16:59:24.106Z"
   },
   {
    "duration": 252,
    "start_time": "2023-01-18T16:59:24.114Z"
   },
   {
    "duration": 2,
    "start_time": "2023-01-18T16:59:24.368Z"
   },
   {
    "duration": 5,
    "start_time": "2023-01-18T16:59:24.372Z"
   },
   {
    "duration": 14,
    "start_time": "2023-01-18T16:59:24.378Z"
   },
   {
    "duration": 161,
    "start_time": "2023-01-18T16:59:24.393Z"
   },
   {
    "duration": 0,
    "start_time": "2023-01-18T16:59:24.556Z"
   },
   {
    "duration": 0,
    "start_time": "2023-01-18T16:59:24.558Z"
   },
   {
    "duration": 0,
    "start_time": "2023-01-18T16:59:24.559Z"
   },
   {
    "duration": 5,
    "start_time": "2023-01-18T16:59:25.216Z"
   },
   {
    "duration": 684,
    "start_time": "2023-01-18T16:59:25.537Z"
   },
   {
    "duration": 17,
    "start_time": "2023-01-18T16:59:26.222Z"
   },
   {
    "duration": 28,
    "start_time": "2023-01-18T16:59:26.240Z"
   },
   {
    "duration": 37,
    "start_time": "2023-01-18T16:59:26.270Z"
   },
   {
    "duration": 238,
    "start_time": "2023-01-18T16:59:26.309Z"
   },
   {
    "duration": 68,
    "start_time": "2023-01-18T16:59:26.870Z"
   },
   {
    "duration": 7,
    "start_time": "2023-01-18T16:59:26.940Z"
   },
   {
    "duration": 69,
    "start_time": "2023-01-18T16:59:27.592Z"
   },
   {
    "duration": 117,
    "start_time": "2023-01-18T16:59:33.719Z"
   },
   {
    "duration": 5,
    "start_time": "2023-01-18T16:59:35.038Z"
   },
   {
    "duration": 40,
    "start_time": "2023-01-18T16:59:35.593Z"
   },
   {
    "duration": 23,
    "start_time": "2023-01-18T16:59:37.390Z"
   },
   {
    "duration": 15,
    "start_time": "2023-01-18T16:59:39.622Z"
   },
   {
    "duration": 10,
    "start_time": "2023-01-18T16:59:59.500Z"
   },
   {
    "duration": 6,
    "start_time": "2023-01-18T17:00:06.085Z"
   },
   {
    "duration": 6,
    "start_time": "2023-01-18T17:00:06.278Z"
   },
   {
    "duration": 2,
    "start_time": "2023-01-18T17:00:07.869Z"
   },
   {
    "duration": 18,
    "start_time": "2023-01-18T17:01:13.170Z"
   },
   {
    "duration": 11,
    "start_time": "2023-01-18T17:01:25.523Z"
   },
   {
    "duration": 7,
    "start_time": "2023-01-18T17:01:29.273Z"
   },
   {
    "duration": 7,
    "start_time": "2023-01-18T17:01:30.009Z"
   },
   {
    "duration": 2,
    "start_time": "2023-01-18T17:01:30.688Z"
   },
   {
    "duration": 12,
    "start_time": "2023-01-18T17:01:31.152Z"
   },
   {
    "duration": 3,
    "start_time": "2023-01-18T17:01:32.353Z"
   },
   {
    "duration": 3,
    "start_time": "2023-01-18T17:01:32.648Z"
   },
   {
    "duration": 2,
    "start_time": "2023-01-18T17:01:32.961Z"
   },
   {
    "duration": 3,
    "start_time": "2023-01-18T17:01:33.432Z"
   },
   {
    "duration": 2,
    "start_time": "2023-01-18T17:01:34.608Z"
   },
   {
    "duration": 3,
    "start_time": "2023-01-18T17:01:34.753Z"
   },
   {
    "duration": 125,
    "start_time": "2023-01-18T17:01:36.672Z"
   },
   {
    "duration": 9,
    "start_time": "2023-01-18T17:01:55.392Z"
   },
   {
    "duration": 44,
    "start_time": "2023-01-18T17:02:35.494Z"
   },
   {
    "duration": 6,
    "start_time": "2023-01-18T17:02:50.238Z"
   },
   {
    "duration": 6,
    "start_time": "2023-01-18T17:03:03.502Z"
   },
   {
    "duration": 657,
    "start_time": "2023-01-18T17:24:29.435Z"
   },
   {
    "duration": 7,
    "start_time": "2023-01-18T17:27:38.786Z"
   },
   {
    "duration": 2,
    "start_time": "2023-01-18T17:27:39.386Z"
   },
   {
    "duration": 11,
    "start_time": "2023-01-18T17:27:39.841Z"
   },
   {
    "duration": 3,
    "start_time": "2023-01-18T17:27:44.970Z"
   },
   {
    "duration": 3,
    "start_time": "2023-01-18T17:27:45.298Z"
   },
   {
    "duration": 2,
    "start_time": "2023-01-18T17:27:45.643Z"
   },
   {
    "duration": 4,
    "start_time": "2023-01-18T17:27:46.210Z"
   },
   {
    "duration": 2,
    "start_time": "2023-01-18T17:27:47.288Z"
   },
   {
    "duration": 4,
    "start_time": "2023-01-18T17:27:47.578Z"
   },
   {
    "duration": 31,
    "start_time": "2023-01-18T17:27:49.296Z"
   },
   {
    "duration": 13,
    "start_time": "2023-01-18T19:14:55.377Z"
   },
   {
    "duration": 1366,
    "start_time": "2023-01-18T20:41:13.012Z"
   },
   {
    "duration": 727,
    "start_time": "2023-01-18T20:41:14.380Z"
   },
   {
    "duration": 18,
    "start_time": "2023-01-18T20:41:15.109Z"
   },
   {
    "duration": 12,
    "start_time": "2023-01-18T20:41:15.129Z"
   },
   {
    "duration": 17,
    "start_time": "2023-01-18T20:41:15.143Z"
   },
   {
    "duration": 181,
    "start_time": "2023-01-18T20:41:15.162Z"
   },
   {
    "duration": 95,
    "start_time": "2023-01-18T20:41:15.345Z"
   },
   {
    "duration": 264,
    "start_time": "2023-01-18T20:41:15.442Z"
   },
   {
    "duration": 4,
    "start_time": "2023-01-18T20:41:15.708Z"
   },
   {
    "duration": 85,
    "start_time": "2023-01-18T20:41:15.714Z"
   },
   {
    "duration": 127,
    "start_time": "2023-01-18T20:41:15.801Z"
   },
   {
    "duration": 2,
    "start_time": "2023-01-18T20:41:15.931Z"
   },
   {
    "duration": 74,
    "start_time": "2023-01-18T20:41:15.935Z"
   },
   {
    "duration": 28,
    "start_time": "2023-01-18T20:41:16.013Z"
   },
   {
    "duration": 13,
    "start_time": "2023-01-18T20:41:16.043Z"
   },
   {
    "duration": 10,
    "start_time": "2023-01-18T20:41:16.059Z"
   },
   {
    "duration": 11,
    "start_time": "2023-01-18T20:41:16.071Z"
   },
   {
    "duration": 26,
    "start_time": "2023-01-18T20:41:16.083Z"
   },
   {
    "duration": 6,
    "start_time": "2023-01-18T20:41:16.111Z"
   },
   {
    "duration": 8,
    "start_time": "2023-01-18T20:41:16.120Z"
   },
   {
    "duration": 16,
    "start_time": "2023-01-18T20:41:16.129Z"
   },
   {
    "duration": 8,
    "start_time": "2023-01-18T20:41:16.147Z"
   },
   {
    "duration": 9,
    "start_time": "2023-01-18T20:41:16.157Z"
   },
   {
    "duration": 317,
    "start_time": "2023-01-18T20:41:16.168Z"
   },
   {
    "duration": 269,
    "start_time": "2023-01-18T20:41:16.491Z"
   },
   {
    "duration": 353,
    "start_time": "2023-01-18T20:41:16.762Z"
   },
   {
    "duration": 316,
    "start_time": "2023-01-18T20:41:17.117Z"
   },
   {
    "duration": 312,
    "start_time": "2023-01-18T20:41:17.436Z"
   },
   {
    "duration": 6,
    "start_time": "2023-01-18T20:41:17.749Z"
   },
   {
    "duration": 587,
    "start_time": "2023-01-18T20:41:17.757Z"
   },
   {
    "duration": 23,
    "start_time": "2023-01-18T20:41:18.346Z"
   },
   {
    "duration": 35,
    "start_time": "2023-01-18T20:41:18.371Z"
   },
   {
    "duration": 9,
    "start_time": "2023-01-18T20:41:18.408Z"
   },
   {
    "duration": 9,
    "start_time": "2023-01-18T20:41:18.419Z"
   },
   {
    "duration": 629,
    "start_time": "2023-01-18T20:41:18.429Z"
   },
   {
    "duration": 11,
    "start_time": "2023-01-18T20:41:19.059Z"
   },
   {
    "duration": 11,
    "start_time": "2023-01-18T20:41:19.071Z"
   },
   {
    "duration": 6,
    "start_time": "2023-01-18T20:41:19.094Z"
   },
   {
    "duration": 22,
    "start_time": "2023-01-18T20:41:19.102Z"
   },
   {
    "duration": 3,
    "start_time": "2023-01-18T20:41:19.126Z"
   },
   {
    "duration": 8,
    "start_time": "2023-01-18T20:41:19.132Z"
   },
   {
    "duration": 8,
    "start_time": "2023-01-18T20:41:19.141Z"
   },
   {
    "duration": 4,
    "start_time": "2023-01-18T20:41:19.150Z"
   },
   {
    "duration": 5,
    "start_time": "2023-01-18T20:41:19.155Z"
   },
   {
    "duration": 5,
    "start_time": "2023-01-18T20:41:19.162Z"
   },
   {
    "duration": 48,
    "start_time": "2023-01-18T20:41:19.169Z"
   },
   {
    "duration": 3,
    "start_time": "2023-01-18T20:41:19.220Z"
   },
   {
    "duration": 11,
    "start_time": "2023-01-18T20:41:19.224Z"
   },
   {
    "duration": 8,
    "start_time": "2023-01-18T20:41:19.237Z"
   },
   {
    "duration": 28,
    "start_time": "2023-01-18T20:41:19.248Z"
   },
   {
    "duration": 128,
    "start_time": "2023-01-18T20:41:19.278Z"
   },
   {
    "duration": 0,
    "start_time": "2023-01-18T20:41:19.408Z"
   },
   {
    "duration": 0,
    "start_time": "2023-01-18T20:41:19.409Z"
   },
   {
    "duration": 4,
    "start_time": "2023-01-18T20:41:26.372Z"
   },
   {
    "duration": 642,
    "start_time": "2023-01-18T20:41:27.042Z"
   },
   {
    "duration": 109,
    "start_time": "2023-01-18T20:41:27.706Z"
   },
   {
    "duration": 13,
    "start_time": "2023-01-18T20:41:28.279Z"
   },
   {
    "duration": 19,
    "start_time": "2023-01-18T20:41:28.705Z"
   },
   {
    "duration": 164,
    "start_time": "2023-01-18T20:41:29.176Z"
   },
   {
    "duration": 57,
    "start_time": "2023-01-18T20:41:30.080Z"
   },
   {
    "duration": 239,
    "start_time": "2023-01-18T20:41:39.449Z"
   },
   {
    "duration": 66,
    "start_time": "2023-01-18T20:41:43.276Z"
   },
   {
    "duration": 122,
    "start_time": "2023-01-18T20:41:45.102Z"
   },
   {
    "duration": 40,
    "start_time": "2023-01-18T20:41:46.938Z"
   },
   {
    "duration": 28,
    "start_time": "2023-01-18T20:41:48.484Z"
   },
   {
    "duration": 12,
    "start_time": "2023-01-18T20:41:50.808Z"
   },
   {
    "duration": 6,
    "start_time": "2023-01-18T20:41:58.996Z"
   },
   {
    "duration": 4,
    "start_time": "2023-01-18T20:41:59.683Z"
   },
   {
    "duration": 4,
    "start_time": "2023-01-18T20:42:02.384Z"
   },
   {
    "duration": 3,
    "start_time": "2023-01-18T20:42:05.336Z"
   },
   {
    "duration": 7,
    "start_time": "2023-01-18T20:42:15.080Z"
   },
   {
    "duration": 8,
    "start_time": "2023-01-18T20:42:16.011Z"
   },
   {
    "duration": 10,
    "start_time": "2023-01-18T20:42:17.502Z"
   },
   {
    "duration": 3,
    "start_time": "2023-01-18T20:42:19.384Z"
   },
   {
    "duration": 3,
    "start_time": "2023-01-18T20:42:20.282Z"
   },
   {
    "duration": 2,
    "start_time": "2023-01-18T20:42:21.385Z"
   },
   {
    "duration": 4,
    "start_time": "2023-01-18T20:42:23.284Z"
   },
   {
    "duration": 23,
    "start_time": "2023-01-18T20:42:25.580Z"
   },
   {
    "duration": 30,
    "start_time": "2023-01-18T20:43:11.206Z"
   },
   {
    "duration": 9,
    "start_time": "2023-01-19T06:37:26.434Z"
   },
   {
    "duration": 3,
    "start_time": "2023-01-19T06:37:33.642Z"
   },
   {
    "duration": 46,
    "start_time": "2023-01-19T06:37:33.974Z"
   },
   {
    "duration": 1760,
    "start_time": "2023-01-19T06:38:02.274Z"
   },
   {
    "duration": 3654,
    "start_time": "2023-01-19T06:38:04.036Z"
   },
   {
    "duration": 20,
    "start_time": "2023-01-19T06:38:07.692Z"
   },
   {
    "duration": 13,
    "start_time": "2023-01-19T06:38:07.713Z"
   },
   {
    "duration": 30,
    "start_time": "2023-01-19T06:38:07.727Z"
   },
   {
    "duration": 194,
    "start_time": "2023-01-19T06:38:07.759Z"
   },
   {
    "duration": 122,
    "start_time": "2023-01-19T06:38:07.955Z"
   },
   {
    "duration": 299,
    "start_time": "2023-01-19T06:38:08.079Z"
   },
   {
    "duration": 4,
    "start_time": "2023-01-19T06:38:08.382Z"
   },
   {
    "duration": 114,
    "start_time": "2023-01-19T06:38:08.388Z"
   },
   {
    "duration": 156,
    "start_time": "2023-01-19T06:38:08.505Z"
   },
   {
    "duration": 3,
    "start_time": "2023-01-19T06:38:08.663Z"
   },
   {
    "duration": 48,
    "start_time": "2023-01-19T06:38:08.667Z"
   },
   {
    "duration": 30,
    "start_time": "2023-01-19T06:38:08.717Z"
   },
   {
    "duration": 13,
    "start_time": "2023-01-19T06:38:08.750Z"
   },
   {
    "duration": 25,
    "start_time": "2023-01-19T06:38:08.765Z"
   },
   {
    "duration": 8,
    "start_time": "2023-01-19T06:38:08.792Z"
   },
   {
    "duration": 19,
    "start_time": "2023-01-19T06:38:08.802Z"
   },
   {
    "duration": 5,
    "start_time": "2023-01-19T06:38:08.823Z"
   },
   {
    "duration": 9,
    "start_time": "2023-01-19T06:38:08.830Z"
   },
   {
    "duration": 7,
    "start_time": "2023-01-19T06:38:08.840Z"
   },
   {
    "duration": 6,
    "start_time": "2023-01-19T06:38:09.017Z"
   },
   {
    "duration": 5,
    "start_time": "2023-01-19T06:38:09.331Z"
   },
   {
    "duration": 321,
    "start_time": "2023-01-19T06:38:09.695Z"
   },
   {
    "duration": 300,
    "start_time": "2023-01-19T06:38:10.018Z"
   },
   {
    "duration": 421,
    "start_time": "2023-01-19T06:38:10.320Z"
   },
   {
    "duration": 366,
    "start_time": "2023-01-19T06:38:10.748Z"
   },
   {
    "duration": 379,
    "start_time": "2023-01-19T06:38:11.116Z"
   },
   {
    "duration": 7,
    "start_time": "2023-01-19T06:38:11.497Z"
   },
   {
    "duration": 677,
    "start_time": "2023-01-19T06:38:11.505Z"
   },
   {
    "duration": 16,
    "start_time": "2023-01-19T06:38:12.184Z"
   },
   {
    "duration": 17,
    "start_time": "2023-01-19T06:38:13.035Z"
   },
   {
    "duration": 10,
    "start_time": "2023-01-19T06:38:13.377Z"
   },
   {
    "duration": 10,
    "start_time": "2023-01-19T06:38:13.826Z"
   },
   {
    "duration": 696,
    "start_time": "2023-01-19T06:38:14.028Z"
   },
   {
    "duration": 10,
    "start_time": "2023-01-19T06:38:15.597Z"
   },
   {
    "duration": 6,
    "start_time": "2023-01-19T06:38:18.403Z"
   },
   {
    "duration": 12,
    "start_time": "2023-01-19T06:38:21.025Z"
   },
   {
    "duration": 3,
    "start_time": "2023-01-19T06:38:22.926Z"
   },
   {
    "duration": 3,
    "start_time": "2023-01-19T06:38:23.789Z"
   },
   {
    "duration": 3,
    "start_time": "2023-01-19T06:38:24.352Z"
   },
   {
    "duration": 4,
    "start_time": "2023-01-19T06:38:26.807Z"
   },
   {
    "duration": 42,
    "start_time": "2023-01-19T06:38:36.428Z"
   },
   {
    "duration": 38,
    "start_time": "2023-01-19T07:03:52.520Z"
   },
   {
    "duration": 19,
    "start_time": "2023-01-19T07:13:53.768Z"
   },
   {
    "duration": 111,
    "start_time": "2023-01-19T07:16:05.917Z"
   },
   {
    "duration": 6,
    "start_time": "2023-01-19T07:17:29.544Z"
   },
   {
    "duration": 12,
    "start_time": "2023-01-19T07:17:33.690Z"
   },
   {
    "duration": 3,
    "start_time": "2023-01-19T07:17:34.969Z"
   },
   {
    "duration": 4,
    "start_time": "2023-01-19T07:17:35.303Z"
   },
   {
    "duration": 3,
    "start_time": "2023-01-19T07:17:35.596Z"
   },
   {
    "duration": 5,
    "start_time": "2023-01-19T07:17:37.647Z"
   },
   {
    "duration": 120,
    "start_time": "2023-01-19T07:17:39.300Z"
   },
   {
    "duration": 8,
    "start_time": "2023-01-19T07:18:12.956Z"
   },
   {
    "duration": 3,
    "start_time": "2023-01-19T07:18:14.572Z"
   },
   {
    "duration": 13,
    "start_time": "2023-01-19T07:18:15.505Z"
   },
   {
    "duration": 1427,
    "start_time": "2023-01-19T07:18:39.841Z"
   },
   {
    "duration": 689,
    "start_time": "2023-01-19T07:18:41.270Z"
   },
   {
    "duration": 19,
    "start_time": "2023-01-19T07:18:41.960Z"
   },
   {
    "duration": 13,
    "start_time": "2023-01-19T07:18:41.981Z"
   },
   {
    "duration": 17,
    "start_time": "2023-01-19T07:18:41.996Z"
   },
   {
    "duration": 192,
    "start_time": "2023-01-19T07:18:42.014Z"
   },
   {
    "duration": 109,
    "start_time": "2023-01-19T07:18:42.208Z"
   },
   {
    "duration": 262,
    "start_time": "2023-01-19T07:18:42.319Z"
   },
   {
    "duration": 4,
    "start_time": "2023-01-19T07:18:42.582Z"
   },
   {
    "duration": 125,
    "start_time": "2023-01-19T07:18:42.590Z"
   },
   {
    "duration": 147,
    "start_time": "2023-01-19T07:18:42.717Z"
   },
   {
    "duration": 3,
    "start_time": "2023-01-19T07:18:42.866Z"
   },
   {
    "duration": 48,
    "start_time": "2023-01-19T07:18:42.874Z"
   },
   {
    "duration": 35,
    "start_time": "2023-01-19T07:18:42.923Z"
   },
   {
    "duration": 12,
    "start_time": "2023-01-19T07:18:42.960Z"
   },
   {
    "duration": 3,
    "start_time": "2023-01-19T07:18:42.974Z"
   },
   {
    "duration": 8,
    "start_time": "2023-01-19T07:18:42.978Z"
   },
   {
    "duration": 16,
    "start_time": "2023-01-19T07:18:42.988Z"
   },
   {
    "duration": 16,
    "start_time": "2023-01-19T07:18:43.006Z"
   },
   {
    "duration": 30,
    "start_time": "2023-01-19T07:18:43.024Z"
   },
   {
    "duration": 4,
    "start_time": "2023-01-19T07:18:43.055Z"
   },
   {
    "duration": 7,
    "start_time": "2023-01-19T07:18:43.061Z"
   },
   {
    "duration": 8,
    "start_time": "2023-01-19T07:18:43.069Z"
   },
   {
    "duration": 11,
    "start_time": "2023-01-19T07:18:43.078Z"
   },
   {
    "duration": 11,
    "start_time": "2023-01-19T07:18:43.091Z"
   },
   {
    "duration": 273,
    "start_time": "2023-01-19T07:18:43.104Z"
   },
   {
    "duration": 270,
    "start_time": "2023-01-19T07:18:43.379Z"
   },
   {
    "duration": 368,
    "start_time": "2023-01-19T07:18:43.654Z"
   },
   {
    "duration": 409,
    "start_time": "2023-01-19T07:18:44.023Z"
   },
   {
    "duration": 397,
    "start_time": "2023-01-19T07:18:44.434Z"
   },
   {
    "duration": 8,
    "start_time": "2023-01-19T07:18:44.833Z"
   },
   {
    "duration": 716,
    "start_time": "2023-01-19T07:18:44.849Z"
   },
   {
    "duration": 17,
    "start_time": "2023-01-19T07:18:45.566Z"
   },
   {
    "duration": 23,
    "start_time": "2023-01-19T07:18:45.585Z"
   },
   {
    "duration": 11,
    "start_time": "2023-01-19T07:18:45.610Z"
   },
   {
    "duration": 31,
    "start_time": "2023-01-19T07:18:45.622Z"
   },
   {
    "duration": 704,
    "start_time": "2023-01-19T07:18:45.655Z"
   },
   {
    "duration": 4,
    "start_time": "2023-01-19T07:18:46.361Z"
   },
   {
    "duration": 16,
    "start_time": "2023-01-19T07:18:46.367Z"
   },
   {
    "duration": 121,
    "start_time": "2023-01-19T07:18:46.385Z"
   },
   {
    "duration": 0,
    "start_time": "2023-01-19T07:18:46.508Z"
   },
   {
    "duration": 0,
    "start_time": "2023-01-19T07:18:46.510Z"
   },
   {
    "duration": 0,
    "start_time": "2023-01-19T07:18:46.512Z"
   },
   {
    "duration": 0,
    "start_time": "2023-01-19T07:18:46.514Z"
   },
   {
    "duration": 0,
    "start_time": "2023-01-19T07:18:46.516Z"
   },
   {
    "duration": 0,
    "start_time": "2023-01-19T07:18:46.517Z"
   },
   {
    "duration": 0,
    "start_time": "2023-01-19T07:18:46.519Z"
   },
   {
    "duration": 0,
    "start_time": "2023-01-19T07:18:46.521Z"
   },
   {
    "duration": 0,
    "start_time": "2023-01-19T07:18:46.549Z"
   },
   {
    "duration": 0,
    "start_time": "2023-01-19T07:18:46.551Z"
   },
   {
    "duration": 0,
    "start_time": "2023-01-19T07:18:46.552Z"
   },
   {
    "duration": 0,
    "start_time": "2023-01-19T07:18:46.554Z"
   },
   {
    "duration": 0,
    "start_time": "2023-01-19T07:18:46.556Z"
   },
   {
    "duration": 0,
    "start_time": "2023-01-19T07:18:46.557Z"
   },
   {
    "duration": 0,
    "start_time": "2023-01-19T07:18:46.558Z"
   },
   {
    "duration": 0,
    "start_time": "2023-01-19T07:18:46.559Z"
   },
   {
    "duration": 5,
    "start_time": "2023-01-19T07:18:54.457Z"
   },
   {
    "duration": 742,
    "start_time": "2023-01-19T07:18:54.828Z"
   },
   {
    "duration": 24,
    "start_time": "2023-01-19T07:18:55.573Z"
   },
   {
    "duration": 15,
    "start_time": "2023-01-19T07:18:55.599Z"
   },
   {
    "duration": 20,
    "start_time": "2023-01-19T07:18:55.861Z"
   },
   {
    "duration": 156,
    "start_time": "2023-01-19T07:18:56.122Z"
   },
   {
    "duration": 51,
    "start_time": "2023-01-19T07:18:56.625Z"
   },
   {
    "duration": 265,
    "start_time": "2023-01-19T07:18:56.939Z"
   },
   {
    "duration": 3,
    "start_time": "2023-01-19T07:18:57.215Z"
   },
   {
    "duration": 58,
    "start_time": "2023-01-19T07:18:57.661Z"
   },
   {
    "duration": 129,
    "start_time": "2023-01-19T07:18:57.891Z"
   },
   {
    "duration": 2,
    "start_time": "2023-01-19T07:18:58.164Z"
   },
   {
    "duration": 56,
    "start_time": "2023-01-19T07:18:58.607Z"
   },
   {
    "duration": 21,
    "start_time": "2023-01-19T07:18:58.882Z"
   },
   {
    "duration": 12,
    "start_time": "2023-01-19T07:18:59.707Z"
   },
   {
    "duration": 4,
    "start_time": "2023-01-19T07:19:02.629Z"
   },
   {
    "duration": 4,
    "start_time": "2023-01-19T07:19:03.502Z"
   },
   {
    "duration": 5,
    "start_time": "2023-01-19T07:19:04.225Z"
   },
   {
    "duration": 14,
    "start_time": "2023-01-19T07:19:11.183Z"
   },
   {
    "duration": 10,
    "start_time": "2023-01-19T07:19:12.766Z"
   },
   {
    "duration": 3,
    "start_time": "2023-01-19T07:19:21.329Z"
   },
   {
    "duration": 5,
    "start_time": "2023-01-19T07:19:22.468Z"
   },
   {
    "duration": 21,
    "start_time": "2023-01-19T07:19:24.159Z"
   },
   {
    "duration": 49,
    "start_time": "2023-01-19T07:19:32.557Z"
   },
   {
    "duration": 7,
    "start_time": "2023-01-19T07:19:38.283Z"
   },
   {
    "duration": 17,
    "start_time": "2023-01-19T07:19:40.679Z"
   },
   {
    "duration": 5,
    "start_time": "2023-01-19T07:19:42.979Z"
   },
   {
    "duration": 4,
    "start_time": "2023-01-19T07:19:43.647Z"
   },
   {
    "duration": 3,
    "start_time": "2023-01-19T07:19:44.010Z"
   },
   {
    "duration": 4,
    "start_time": "2023-01-19T07:19:47.397Z"
   },
   {
    "duration": 39,
    "start_time": "2023-01-19T07:20:04.975Z"
   },
   {
    "duration": 12094,
    "start_time": "2023-01-19T07:24:07.111Z"
   },
   {
    "duration": 4,
    "start_time": "2023-01-19T07:24:26.268Z"
   },
   {
    "duration": 145,
    "start_time": "2023-01-19T07:28:53.564Z"
   },
   {
    "duration": 53,
    "start_time": "2023-01-19T07:28:55.884Z"
   },
   {
    "duration": 90,
    "start_time": "2023-01-19T07:29:02.207Z"
   },
   {
    "duration": 40,
    "start_time": "2023-01-19T07:29:05.909Z"
   },
   {
    "duration": 31,
    "start_time": "2023-01-19T07:29:09.335Z"
   },
   {
    "duration": 828,
    "start_time": "2023-01-19T07:29:11.241Z"
   },
   {
    "duration": 1484,
    "start_time": "2023-01-19T07:29:25.300Z"
   },
   {
    "duration": 787,
    "start_time": "2023-01-19T07:29:26.786Z"
   },
   {
    "duration": 20,
    "start_time": "2023-01-19T07:29:27.574Z"
   },
   {
    "duration": 15,
    "start_time": "2023-01-19T07:29:27.595Z"
   },
   {
    "duration": 42,
    "start_time": "2023-01-19T07:29:27.613Z"
   },
   {
    "duration": 178,
    "start_time": "2023-01-19T07:29:27.658Z"
   },
   {
    "duration": 126,
    "start_time": "2023-01-19T07:29:27.838Z"
   },
   {
    "duration": 209,
    "start_time": "2023-01-19T07:29:27.966Z"
   },
   {
    "duration": 2,
    "start_time": "2023-01-19T07:29:28.178Z"
   },
   {
    "duration": 113,
    "start_time": "2023-01-19T07:29:28.182Z"
   },
   {
    "duration": 124,
    "start_time": "2023-01-19T07:29:28.297Z"
   },
   {
    "duration": 3,
    "start_time": "2023-01-19T07:29:28.423Z"
   },
   {
    "duration": 56,
    "start_time": "2023-01-19T07:29:28.427Z"
   },
   {
    "duration": 24,
    "start_time": "2023-01-19T07:29:28.486Z"
   },
   {
    "duration": 13,
    "start_time": "2023-01-19T07:29:28.512Z"
   },
   {
    "duration": 23,
    "start_time": "2023-01-19T07:29:28.526Z"
   },
   {
    "duration": 20,
    "start_time": "2023-01-19T07:29:28.551Z"
   },
   {
    "duration": 9,
    "start_time": "2023-01-19T07:29:28.572Z"
   },
   {
    "duration": 15,
    "start_time": "2023-01-19T07:29:28.583Z"
   },
   {
    "duration": 12,
    "start_time": "2023-01-19T07:29:28.599Z"
   },
   {
    "duration": 8,
    "start_time": "2023-01-19T07:29:28.613Z"
   },
   {
    "duration": 9,
    "start_time": "2023-01-19T07:29:28.623Z"
   },
   {
    "duration": 14,
    "start_time": "2023-01-19T07:29:28.634Z"
   },
   {
    "duration": 22,
    "start_time": "2023-01-19T07:29:28.650Z"
   },
   {
    "duration": 5,
    "start_time": "2023-01-19T07:29:28.673Z"
   },
   {
    "duration": 291,
    "start_time": "2023-01-19T07:29:28.680Z"
   },
   {
    "duration": 295,
    "start_time": "2023-01-19T07:29:28.973Z"
   },
   {
    "duration": 370,
    "start_time": "2023-01-19T07:29:29.270Z"
   },
   {
    "duration": 369,
    "start_time": "2023-01-19T07:29:29.641Z"
   },
   {
    "duration": 373,
    "start_time": "2023-01-19T07:29:30.012Z"
   },
   {
    "duration": 7,
    "start_time": "2023-01-19T07:29:30.387Z"
   },
   {
    "duration": 625,
    "start_time": "2023-01-19T07:29:30.395Z"
   },
   {
    "duration": 27,
    "start_time": "2023-01-19T07:29:31.022Z"
   },
   {
    "duration": 39,
    "start_time": "2023-01-19T07:29:31.051Z"
   },
   {
    "duration": 21,
    "start_time": "2023-01-19T07:29:31.092Z"
   },
   {
    "duration": 6,
    "start_time": "2023-01-19T07:29:31.115Z"
   },
   {
    "duration": 619,
    "start_time": "2023-01-19T07:29:31.123Z"
   },
   {
    "duration": 5,
    "start_time": "2023-01-19T07:29:31.744Z"
   },
   {
    "duration": 28,
    "start_time": "2023-01-19T07:29:31.750Z"
   },
   {
    "duration": 17,
    "start_time": "2023-01-19T07:29:31.780Z"
   },
   {
    "duration": 6,
    "start_time": "2023-01-19T07:29:31.801Z"
   },
   {
    "duration": 13,
    "start_time": "2023-01-19T07:29:31.808Z"
   },
   {
    "duration": 3,
    "start_time": "2023-01-19T07:29:31.822Z"
   },
   {
    "duration": 8,
    "start_time": "2023-01-19T07:29:31.827Z"
   },
   {
    "duration": 8,
    "start_time": "2023-01-19T07:29:31.836Z"
   },
   {
    "duration": 21,
    "start_time": "2023-01-19T07:29:31.845Z"
   },
   {
    "duration": 12,
    "start_time": "2023-01-19T07:29:31.868Z"
   },
   {
    "duration": 7,
    "start_time": "2023-01-19T07:29:31.882Z"
   },
   {
    "duration": 1359,
    "start_time": "2023-01-19T07:29:31.890Z"
   },
   {
    "duration": 4,
    "start_time": "2023-01-19T07:29:33.250Z"
   },
   {
    "duration": 19,
    "start_time": "2023-01-19T07:29:33.255Z"
   },
   {
    "duration": 6,
    "start_time": "2023-01-19T07:29:33.276Z"
   },
   {
    "duration": 20,
    "start_time": "2023-01-19T07:29:33.283Z"
   },
   {
    "duration": 124,
    "start_time": "2023-01-19T07:29:33.305Z"
   },
   {
    "duration": 0,
    "start_time": "2023-01-19T07:29:33.430Z"
   },
   {
    "duration": 0,
    "start_time": "2023-01-19T07:29:33.432Z"
   },
   {
    "duration": 5,
    "start_time": "2023-01-19T07:29:36.632Z"
   },
   {
    "duration": 751,
    "start_time": "2023-01-19T07:29:37.097Z"
   },
   {
    "duration": 22,
    "start_time": "2023-01-19T07:29:37.851Z"
   },
   {
    "duration": 15,
    "start_time": "2023-01-19T07:29:37.961Z"
   },
   {
    "duration": 18,
    "start_time": "2023-01-19T07:29:38.220Z"
   },
   {
    "duration": 160,
    "start_time": "2023-01-19T07:29:38.494Z"
   },
   {
    "duration": 55,
    "start_time": "2023-01-19T07:29:39.261Z"
   },
   {
    "duration": 201,
    "start_time": "2023-01-19T07:29:39.520Z"
   },
   {
    "duration": 2,
    "start_time": "2023-01-19T07:29:39.972Z"
   },
   {
    "duration": 66,
    "start_time": "2023-01-19T07:29:40.396Z"
   },
   {
    "duration": 123,
    "start_time": "2023-01-19T07:29:40.670Z"
   },
   {
    "duration": 3,
    "start_time": "2023-01-19T07:29:41.168Z"
   },
   {
    "duration": 40,
    "start_time": "2023-01-19T07:29:41.561Z"
   },
   {
    "duration": 25,
    "start_time": "2023-01-19T07:29:42.113Z"
   },
   {
    "duration": 15,
    "start_time": "2023-01-19T07:29:43.574Z"
   },
   {
    "duration": 5,
    "start_time": "2023-01-19T07:29:46.914Z"
   },
   {
    "duration": 4,
    "start_time": "2023-01-19T07:29:47.835Z"
   },
   {
    "duration": 6,
    "start_time": "2023-01-19T07:29:48.946Z"
   },
   {
    "duration": 14,
    "start_time": "2023-01-19T07:29:53.863Z"
   },
   {
    "duration": 11,
    "start_time": "2023-01-19T07:29:55.192Z"
   },
   {
    "duration": 4,
    "start_time": "2023-01-19T07:30:03.921Z"
   },
   {
    "duration": 7,
    "start_time": "2023-01-19T07:30:04.351Z"
   },
   {
    "duration": 5,
    "start_time": "2023-01-19T07:30:06.491Z"
   },
   {
    "duration": 12,
    "start_time": "2023-01-19T07:30:08.344Z"
   },
   {
    "duration": 4,
    "start_time": "2023-01-19T07:30:09.768Z"
   },
   {
    "duration": 4,
    "start_time": "2023-01-19T07:30:10.422Z"
   },
   {
    "duration": 2,
    "start_time": "2023-01-19T07:30:10.864Z"
   },
   {
    "duration": 4,
    "start_time": "2023-01-19T07:30:13.017Z"
   },
   {
    "duration": 1023,
    "start_time": "2023-01-19T07:30:15.329Z"
   },
   {
    "duration": 11724,
    "start_time": "2023-01-19T07:30:25.109Z"
   },
   {
    "duration": 3,
    "start_time": "2023-01-19T07:30:48.120Z"
   },
   {
    "duration": 72647,
    "start_time": "2023-01-19T07:30:52.663Z"
   },
   {
    "duration": 3,
    "start_time": "2023-01-19T07:37:46.428Z"
   },
   {
    "duration": 80,
    "start_time": "2023-01-19T07:44:10.605Z"
   },
   {
    "duration": 66,
    "start_time": "2023-01-19T07:44:57.691Z"
   },
   {
    "duration": 3,
    "start_time": "2023-01-19T07:56:23.510Z"
   },
   {
    "duration": 3,
    "start_time": "2023-01-19T07:56:24.110Z"
   },
   {
    "duration": 2,
    "start_time": "2023-01-19T07:56:24.440Z"
   },
   {
    "duration": 4,
    "start_time": "2023-01-19T07:56:26.516Z"
   },
   {
    "duration": 1298,
    "start_time": "2023-01-19T07:56:28.764Z"
   },
   {
    "duration": 85,
    "start_time": "2023-01-19T07:56:34.438Z"
   },
   {
    "duration": 72485,
    "start_time": "2023-01-19T07:56:41.171Z"
   },
   {
    "duration": 3,
    "start_time": "2023-01-19T08:05:12.979Z"
   },
   {
    "duration": 12,
    "start_time": "2023-01-19T08:05:30.375Z"
   },
   {
    "duration": 7,
    "start_time": "2023-01-19T08:05:33.149Z"
   },
   {
    "duration": 3,
    "start_time": "2023-01-19T08:05:34.477Z"
   },
   {
    "duration": 11,
    "start_time": "2023-01-19T08:05:35.112Z"
   },
   {
    "duration": 1507,
    "start_time": "2023-01-19T08:07:51.511Z"
   },
   {
    "duration": 720,
    "start_time": "2023-01-19T08:07:53.021Z"
   },
   {
    "duration": 22,
    "start_time": "2023-01-19T08:07:53.744Z"
   },
   {
    "duration": 15,
    "start_time": "2023-01-19T08:07:53.768Z"
   },
   {
    "duration": 24,
    "start_time": "2023-01-19T08:07:53.785Z"
   },
   {
    "duration": 257,
    "start_time": "2023-01-19T08:07:53.811Z"
   },
   {
    "duration": 122,
    "start_time": "2023-01-19T08:07:54.071Z"
   },
   {
    "duration": 246,
    "start_time": "2023-01-19T08:07:54.197Z"
   },
   {
    "duration": 3,
    "start_time": "2023-01-19T08:07:54.445Z"
   },
   {
    "duration": 104,
    "start_time": "2023-01-19T08:07:54.451Z"
   },
   {
    "duration": 127,
    "start_time": "2023-01-19T08:07:54.557Z"
   },
   {
    "duration": 3,
    "start_time": "2023-01-19T08:07:54.686Z"
   },
   {
    "duration": 56,
    "start_time": "2023-01-19T08:07:54.693Z"
   },
   {
    "duration": 22,
    "start_time": "2023-01-19T08:07:54.751Z"
   },
   {
    "duration": 14,
    "start_time": "2023-01-19T08:07:54.775Z"
   },
   {
    "duration": 13,
    "start_time": "2023-01-19T08:07:54.791Z"
   },
   {
    "duration": 8,
    "start_time": "2023-01-19T08:07:54.805Z"
   },
   {
    "duration": 8,
    "start_time": "2023-01-19T08:07:54.815Z"
   },
   {
    "duration": 53,
    "start_time": "2023-01-19T08:07:54.825Z"
   },
   {
    "duration": 14,
    "start_time": "2023-01-19T08:07:54.880Z"
   },
   {
    "duration": 2,
    "start_time": "2023-01-19T08:07:54.896Z"
   },
   {
    "duration": 8,
    "start_time": "2023-01-19T08:07:54.900Z"
   },
   {
    "duration": 7,
    "start_time": "2023-01-19T08:07:54.909Z"
   },
   {
    "duration": 10,
    "start_time": "2023-01-19T08:07:54.918Z"
   },
   {
    "duration": 18,
    "start_time": "2023-01-19T08:07:54.930Z"
   },
   {
    "duration": 405,
    "start_time": "2023-01-19T08:07:54.951Z"
   },
   {
    "duration": 298,
    "start_time": "2023-01-19T08:07:55.358Z"
   },
   {
    "duration": 462,
    "start_time": "2023-01-19T08:07:55.659Z"
   },
   {
    "duration": 492,
    "start_time": "2023-01-19T08:07:56.123Z"
   },
   {
    "duration": 426,
    "start_time": "2023-01-19T08:07:56.616Z"
   },
   {
    "duration": 9,
    "start_time": "2023-01-19T08:07:57.047Z"
   },
   {
    "duration": 695,
    "start_time": "2023-01-19T08:07:57.058Z"
   },
   {
    "duration": 3,
    "start_time": "2023-01-19T08:07:57.755Z"
   },
   {
    "duration": 5,
    "start_time": "2023-01-19T08:07:57.760Z"
   },
   {
    "duration": 9,
    "start_time": "2023-01-19T08:07:57.767Z"
   },
   {
    "duration": 57,
    "start_time": "2023-01-19T08:07:57.778Z"
   },
   {
    "duration": 0,
    "start_time": "2023-01-19T08:07:57.837Z"
   },
   {
    "duration": 0,
    "start_time": "2023-01-19T08:07:57.839Z"
   },
   {
    "duration": 0,
    "start_time": "2023-01-19T08:07:57.840Z"
   },
   {
    "duration": 0,
    "start_time": "2023-01-19T08:07:57.842Z"
   },
   {
    "duration": 0,
    "start_time": "2023-01-19T08:07:57.843Z"
   },
   {
    "duration": 0,
    "start_time": "2023-01-19T08:07:57.845Z"
   },
   {
    "duration": 1,
    "start_time": "2023-01-19T08:07:57.846Z"
   },
   {
    "duration": 0,
    "start_time": "2023-01-19T08:07:57.849Z"
   },
   {
    "duration": 0,
    "start_time": "2023-01-19T08:07:57.850Z"
   },
   {
    "duration": 0,
    "start_time": "2023-01-19T08:07:57.852Z"
   },
   {
    "duration": 0,
    "start_time": "2023-01-19T08:07:57.852Z"
   },
   {
    "duration": 0,
    "start_time": "2023-01-19T08:07:57.854Z"
   },
   {
    "duration": 0,
    "start_time": "2023-01-19T08:07:57.855Z"
   },
   {
    "duration": 0,
    "start_time": "2023-01-19T08:07:57.857Z"
   },
   {
    "duration": 0,
    "start_time": "2023-01-19T08:07:57.859Z"
   },
   {
    "duration": 0,
    "start_time": "2023-01-19T08:07:57.860Z"
   },
   {
    "duration": 0,
    "start_time": "2023-01-19T08:07:57.861Z"
   },
   {
    "duration": 0,
    "start_time": "2023-01-19T08:07:57.862Z"
   },
   {
    "duration": 0,
    "start_time": "2023-01-19T08:07:57.863Z"
   },
   {
    "duration": 6,
    "start_time": "2023-01-19T08:09:03.175Z"
   },
   {
    "duration": 781,
    "start_time": "2023-01-19T08:09:03.588Z"
   },
   {
    "duration": 16,
    "start_time": "2023-01-19T08:09:04.371Z"
   },
   {
    "duration": 14,
    "start_time": "2023-01-19T08:09:04.389Z"
   },
   {
    "duration": 44,
    "start_time": "2023-01-19T08:09:04.405Z"
   },
   {
    "duration": 205,
    "start_time": "2023-01-19T08:09:04.451Z"
   },
   {
    "duration": 52,
    "start_time": "2023-01-19T08:09:04.724Z"
   },
   {
    "duration": 212,
    "start_time": "2023-01-19T08:09:05.020Z"
   },
   {
    "duration": 3,
    "start_time": "2023-01-19T08:09:05.278Z"
   },
   {
    "duration": 109,
    "start_time": "2023-01-19T08:09:05.495Z"
   },
   {
    "duration": 147,
    "start_time": "2023-01-19T08:09:05.698Z"
   },
   {
    "duration": 2,
    "start_time": "2023-01-19T08:09:05.896Z"
   },
   {
    "duration": 44,
    "start_time": "2023-01-19T08:09:06.083Z"
   },
   {
    "duration": 26,
    "start_time": "2023-01-19T08:09:06.261Z"
   },
   {
    "duration": 17,
    "start_time": "2023-01-19T08:09:06.738Z"
   },
   {
    "duration": 4,
    "start_time": "2023-01-19T08:09:08.126Z"
   },
   {
    "duration": 4,
    "start_time": "2023-01-19T08:09:08.266Z"
   },
   {
    "duration": 8,
    "start_time": "2023-01-19T08:09:08.729Z"
   },
   {
    "duration": 16,
    "start_time": "2023-01-19T08:09:10.566Z"
   },
   {
    "duration": 9,
    "start_time": "2023-01-19T08:09:11.366Z"
   },
   {
    "duration": 50,
    "start_time": "2023-01-19T08:09:18.785Z"
   },
   {
    "duration": 3,
    "start_time": "2023-01-19T08:09:34.993Z"
   },
   {
    "duration": 8,
    "start_time": "2023-01-19T08:09:35.230Z"
   },
   {
    "duration": 7,
    "start_time": "2023-01-19T08:09:35.860Z"
   },
   {
    "duration": 2,
    "start_time": "2023-01-19T08:09:37.042Z"
   },
   {
    "duration": 14,
    "start_time": "2023-01-19T08:09:37.483Z"
   },
   {
    "duration": 25,
    "start_time": "2023-01-19T08:09:38.055Z"
   },
   {
    "duration": 4,
    "start_time": "2023-01-19T08:09:39.480Z"
   },
   {
    "duration": 3,
    "start_time": "2023-01-19T08:09:39.832Z"
   },
   {
    "duration": 4,
    "start_time": "2023-01-19T08:09:40.712Z"
   },
   {
    "duration": 3290,
    "start_time": "2023-01-19T08:09:43.168Z"
   },
   {
    "duration": 185,
    "start_time": "2023-01-19T08:10:14.545Z"
   },
   {
    "duration": 11078,
    "start_time": "2023-01-19T08:10:52.162Z"
   },
   {
    "duration": 4,
    "start_time": "2023-01-19T08:11:09.557Z"
   },
   {
    "duration": 860,
    "start_time": "2023-01-19T08:13:32.026Z"
   },
   {
    "duration": 1061,
    "start_time": "2023-01-19T08:14:25.459Z"
   },
   {
    "duration": 19,
    "start_time": "2023-01-19T08:15:08.943Z"
   },
   {
    "duration": 12,
    "start_time": "2023-01-19T08:15:09.340Z"
   },
   {
    "duration": 9,
    "start_time": "2023-01-19T08:15:12.778Z"
   },
   {
    "duration": 736,
    "start_time": "2023-01-19T08:15:13.432Z"
   },
   {
    "duration": 3,
    "start_time": "2023-01-19T08:15:21.211Z"
   },
   {
    "duration": 22,
    "start_time": "2023-01-19T08:15:21.523Z"
   },
   {
    "duration": 7,
    "start_time": "2023-01-19T08:15:29.226Z"
   },
   {
    "duration": 11,
    "start_time": "2023-01-19T08:15:30.752Z"
   },
   {
    "duration": 3,
    "start_time": "2023-01-19T08:15:32.451Z"
   },
   {
    "duration": 4,
    "start_time": "2023-01-19T08:15:32.864Z"
   },
   {
    "duration": 4,
    "start_time": "2023-01-19T08:15:33.120Z"
   },
   {
    "duration": 5,
    "start_time": "2023-01-19T08:15:34.832Z"
   },
   {
    "duration": 1822,
    "start_time": "2023-01-19T08:15:36.332Z"
   },
   {
    "duration": 5691,
    "start_time": "2023-01-19T08:15:43.944Z"
   },
   {
    "duration": 3,
    "start_time": "2023-01-19T08:15:55.413Z"
   },
   {
    "duration": 897,
    "start_time": "2023-01-19T08:18:28.905Z"
   },
   {
    "duration": 1160,
    "start_time": "2023-01-19T08:19:05.403Z"
   },
   {
    "duration": 1449,
    "start_time": "2023-01-19T08:19:48.068Z"
   },
   {
    "duration": 744,
    "start_time": "2023-01-19T08:19:49.521Z"
   },
   {
    "duration": 18,
    "start_time": "2023-01-19T08:19:50.267Z"
   },
   {
    "duration": 13,
    "start_time": "2023-01-19T08:19:50.286Z"
   },
   {
    "duration": 46,
    "start_time": "2023-01-19T08:19:50.302Z"
   },
   {
    "duration": 212,
    "start_time": "2023-01-19T08:19:50.351Z"
   },
   {
    "duration": 117,
    "start_time": "2023-01-19T08:19:50.565Z"
   },
   {
    "duration": 14,
    "start_time": "2023-01-19T08:19:50.684Z"
   },
   {
    "duration": 20,
    "start_time": "2023-01-19T08:19:50.699Z"
   },
   {
    "duration": 21,
    "start_time": "2023-01-19T08:19:50.721Z"
   },
   {
    "duration": 315,
    "start_time": "2023-01-19T08:19:50.747Z"
   },
   {
    "duration": 3,
    "start_time": "2023-01-19T08:19:51.064Z"
   },
   {
    "duration": 190,
    "start_time": "2023-01-19T08:19:51.069Z"
   },
   {
    "duration": 133,
    "start_time": "2023-01-19T08:19:51.262Z"
   },
   {
    "duration": 2,
    "start_time": "2023-01-19T08:19:51.398Z"
   },
   {
    "duration": 54,
    "start_time": "2023-01-19T08:19:51.402Z"
   },
   {
    "duration": 26,
    "start_time": "2023-01-19T08:19:51.458Z"
   },
   {
    "duration": 14,
    "start_time": "2023-01-19T08:19:51.486Z"
   },
   {
    "duration": 4,
    "start_time": "2023-01-19T08:19:51.502Z"
   },
   {
    "duration": 12,
    "start_time": "2023-01-19T08:19:51.509Z"
   },
   {
    "duration": 5,
    "start_time": "2023-01-19T08:19:51.549Z"
   },
   {
    "duration": 25,
    "start_time": "2023-01-19T08:19:51.556Z"
   },
   {
    "duration": 14,
    "start_time": "2023-01-19T08:19:51.583Z"
   },
   {
    "duration": 13,
    "start_time": "2023-01-19T08:19:51.600Z"
   },
   {
    "duration": 10,
    "start_time": "2023-01-19T08:19:51.615Z"
   },
   {
    "duration": 18,
    "start_time": "2023-01-19T08:19:51.627Z"
   },
   {
    "duration": 15,
    "start_time": "2023-01-19T08:19:51.648Z"
   },
   {
    "duration": 13,
    "start_time": "2023-01-19T08:19:51.666Z"
   },
   {
    "duration": 311,
    "start_time": "2023-01-19T08:19:51.681Z"
   },
   {
    "duration": 284,
    "start_time": "2023-01-19T08:19:51.994Z"
   },
   {
    "duration": 381,
    "start_time": "2023-01-19T08:19:52.279Z"
   },
   {
    "duration": 339,
    "start_time": "2023-01-19T08:19:52.663Z"
   },
   {
    "duration": 298,
    "start_time": "2023-01-19T08:19:53.004Z"
   },
   {
    "duration": 7,
    "start_time": "2023-01-19T08:19:53.305Z"
   },
   {
    "duration": 634,
    "start_time": "2023-01-19T08:19:53.314Z"
   },
   {
    "duration": 20,
    "start_time": "2023-01-19T08:19:53.950Z"
   },
   {
    "duration": 19,
    "start_time": "2023-01-19T08:19:53.971Z"
   },
   {
    "duration": 2,
    "start_time": "2023-01-19T08:19:53.992Z"
   },
   {
    "duration": 9,
    "start_time": "2023-01-19T08:19:53.996Z"
   },
   {
    "duration": 633,
    "start_time": "2023-01-19T08:19:54.007Z"
   },
   {
    "duration": 3,
    "start_time": "2023-01-19T08:19:54.647Z"
   },
   {
    "duration": 10,
    "start_time": "2023-01-19T08:19:54.652Z"
   },
   {
    "duration": 25,
    "start_time": "2023-01-19T08:19:54.664Z"
   },
   {
    "duration": 21,
    "start_time": "2023-01-19T08:19:54.691Z"
   },
   {
    "duration": 24,
    "start_time": "2023-01-19T08:19:54.713Z"
   },
   {
    "duration": 8,
    "start_time": "2023-01-19T08:19:54.739Z"
   },
   {
    "duration": 11,
    "start_time": "2023-01-19T08:19:54.749Z"
   },
   {
    "duration": 6,
    "start_time": "2023-01-19T08:19:54.762Z"
   },
   {
    "duration": 8,
    "start_time": "2023-01-19T08:19:54.770Z"
   },
   {
    "duration": 1775,
    "start_time": "2023-01-19T08:19:54.779Z"
   },
   {
    "duration": 4,
    "start_time": "2023-01-19T08:19:56.556Z"
   },
   {
    "duration": 96,
    "start_time": "2023-01-19T08:19:56.562Z"
   },
   {
    "duration": 6,
    "start_time": "2023-01-19T08:19:56.660Z"
   },
   {
    "duration": 6,
    "start_time": "2023-01-19T08:20:00.285Z"
   },
   {
    "duration": 732,
    "start_time": "2023-01-19T08:20:00.677Z"
   },
   {
    "duration": 18,
    "start_time": "2023-01-19T08:20:01.411Z"
   },
   {
    "duration": 14,
    "start_time": "2023-01-19T08:20:01.500Z"
   },
   {
    "duration": 19,
    "start_time": "2023-01-19T08:20:01.856Z"
   },
   {
    "duration": 183,
    "start_time": "2023-01-19T08:20:02.416Z"
   },
   {
    "duration": 55,
    "start_time": "2023-01-19T08:20:05.790Z"
   },
   {
    "duration": 12,
    "start_time": "2023-01-19T08:20:14.386Z"
   },
   {
    "duration": 12,
    "start_time": "2023-01-19T08:20:14.926Z"
   },
   {
    "duration": 10,
    "start_time": "2023-01-19T08:20:17.126Z"
   },
   {
    "duration": 207,
    "start_time": "2023-01-19T08:20:17.620Z"
   },
   {
    "duration": 2,
    "start_time": "2023-01-19T08:20:18.384Z"
   },
   {
    "duration": 58,
    "start_time": "2023-01-19T08:20:18.675Z"
   },
   {
    "duration": 117,
    "start_time": "2023-01-19T08:20:19.266Z"
   },
   {
    "duration": 3,
    "start_time": "2023-01-19T08:20:19.821Z"
   },
   {
    "duration": 41,
    "start_time": "2023-01-19T08:20:20.140Z"
   },
   {
    "duration": 34,
    "start_time": "2023-01-19T08:20:20.504Z"
   },
   {
    "duration": 12,
    "start_time": "2023-01-19T08:20:20.932Z"
   },
   {
    "duration": 3,
    "start_time": "2023-01-19T08:20:22.094Z"
   },
   {
    "duration": 3,
    "start_time": "2023-01-19T08:20:22.272Z"
   },
   {
    "duration": 4,
    "start_time": "2023-01-19T08:20:22.614Z"
   },
   {
    "duration": 10,
    "start_time": "2023-01-19T08:20:24.333Z"
   },
   {
    "duration": 8,
    "start_time": "2023-01-19T08:20:27.091Z"
   },
   {
    "duration": 4,
    "start_time": "2023-01-19T08:20:31.778Z"
   },
   {
    "duration": 5,
    "start_time": "2023-01-19T08:20:33.337Z"
   },
   {
    "duration": 4,
    "start_time": "2023-01-19T08:20:33.742Z"
   },
   {
    "duration": 5,
    "start_time": "2023-01-19T08:20:34.312Z"
   },
   {
    "duration": 255,
    "start_time": "2023-01-19T08:20:35.001Z"
   },
   {
    "duration": 337,
    "start_time": "2023-01-19T08:20:35.325Z"
   },
   {
    "duration": 306,
    "start_time": "2023-01-19T08:20:35.728Z"
   },
   {
    "duration": 333,
    "start_time": "2023-01-19T08:20:37.471Z"
   },
   {
    "duration": 353,
    "start_time": "2023-01-19T08:20:40.367Z"
   },
   {
    "duration": 7,
    "start_time": "2023-01-19T08:20:46.707Z"
   },
   {
    "duration": 623,
    "start_time": "2023-01-19T08:20:47.697Z"
   },
   {
    "duration": 156,
    "start_time": "2023-01-19T08:20:48.419Z"
   },
   {
    "duration": 15,
    "start_time": "2023-01-19T08:20:49.849Z"
   },
   {
    "duration": 9,
    "start_time": "2023-01-19T08:20:51.970Z"
   },
   {
    "duration": 572,
    "start_time": "2023-01-19T08:20:54.520Z"
   },
   {
    "duration": 4,
    "start_time": "2023-01-19T08:20:57.870Z"
   },
   {
    "duration": 6,
    "start_time": "2023-01-19T08:20:58.322Z"
   },
   {
    "duration": 6,
    "start_time": "2023-01-19T08:20:59.959Z"
   },
   {
    "duration": 10,
    "start_time": "2023-01-19T08:21:01.853Z"
   },
   {
    "duration": 4,
    "start_time": "2023-01-19T08:21:03.295Z"
   },
   {
    "duration": 3,
    "start_time": "2023-01-19T08:21:03.971Z"
   },
   {
    "duration": 3,
    "start_time": "2023-01-19T08:21:04.213Z"
   },
   {
    "duration": 5,
    "start_time": "2023-01-19T08:21:05.901Z"
   },
   {
    "duration": 2270,
    "start_time": "2023-01-19T08:21:08.382Z"
   },
   {
    "duration": 73718,
    "start_time": "2023-01-19T08:21:17.261Z"
   },
   {
    "duration": 4,
    "start_time": "2023-01-19T08:23:14.502Z"
   },
   {
    "duration": 747,
    "start_time": "2023-01-19T08:27:06.495Z"
   },
   {
    "duration": 2,
    "start_time": "2023-01-19T08:35:41.531Z"
   },
   {
    "duration": 4,
    "start_time": "2023-01-19T08:39:11.098Z"
   },
   {
    "duration": 843,
    "start_time": "2023-01-19T08:39:20.734Z"
   },
   {
    "duration": 1552,
    "start_time": "2023-01-19T09:09:29.994Z"
   },
   {
    "duration": 796,
    "start_time": "2023-01-19T09:09:31.551Z"
   },
   {
    "duration": 23,
    "start_time": "2023-01-19T09:09:32.355Z"
   },
   {
    "duration": 17,
    "start_time": "2023-01-19T09:09:32.380Z"
   },
   {
    "duration": 21,
    "start_time": "2023-01-19T09:09:32.399Z"
   },
   {
    "duration": 217,
    "start_time": "2023-01-19T09:09:32.422Z"
   },
   {
    "duration": 136,
    "start_time": "2023-01-19T09:09:32.640Z"
   },
   {
    "duration": 17,
    "start_time": "2023-01-19T09:09:32.778Z"
   },
   {
    "duration": 31,
    "start_time": "2023-01-19T09:09:32.797Z"
   },
   {
    "duration": 61,
    "start_time": "2023-01-19T09:09:32.831Z"
   },
   {
    "duration": 264,
    "start_time": "2023-01-19T09:09:32.894Z"
   },
   {
    "duration": 3,
    "start_time": "2023-01-19T09:09:33.166Z"
   },
   {
    "duration": 104,
    "start_time": "2023-01-19T09:09:33.171Z"
   },
   {
    "duration": 134,
    "start_time": "2023-01-19T09:09:33.276Z"
   },
   {
    "duration": 7,
    "start_time": "2023-01-19T09:09:33.412Z"
   },
   {
    "duration": 64,
    "start_time": "2023-01-19T09:09:33.420Z"
   },
   {
    "duration": 24,
    "start_time": "2023-01-19T09:09:33.488Z"
   },
   {
    "duration": 13,
    "start_time": "2023-01-19T09:09:33.514Z"
   },
   {
    "duration": 20,
    "start_time": "2023-01-19T09:09:33.529Z"
   },
   {
    "duration": 26,
    "start_time": "2023-01-19T09:09:33.551Z"
   },
   {
    "duration": 17,
    "start_time": "2023-01-19T09:09:33.579Z"
   },
   {
    "duration": 16,
    "start_time": "2023-01-19T09:09:33.597Z"
   },
   {
    "duration": 30,
    "start_time": "2023-01-19T09:09:33.615Z"
   },
   {
    "duration": 19,
    "start_time": "2023-01-19T09:09:33.647Z"
   },
   {
    "duration": 7,
    "start_time": "2023-01-19T09:09:33.669Z"
   },
   {
    "duration": 9,
    "start_time": "2023-01-19T09:09:33.678Z"
   },
   {
    "duration": 7,
    "start_time": "2023-01-19T09:09:33.689Z"
   },
   {
    "duration": 5,
    "start_time": "2023-01-19T09:09:33.700Z"
   },
   {
    "duration": 344,
    "start_time": "2023-01-19T09:09:33.707Z"
   },
   {
    "duration": 323,
    "start_time": "2023-01-19T09:09:34.053Z"
   },
   {
    "duration": 436,
    "start_time": "2023-01-19T09:09:34.378Z"
   },
   {
    "duration": 410,
    "start_time": "2023-01-19T09:09:34.817Z"
   },
   {
    "duration": 395,
    "start_time": "2023-01-19T09:09:35.229Z"
   },
   {
    "duration": 8,
    "start_time": "2023-01-19T09:09:35.626Z"
   },
   {
    "duration": 691,
    "start_time": "2023-01-19T09:09:35.637Z"
   },
   {
    "duration": 32,
    "start_time": "2023-01-19T09:09:36.330Z"
   },
   {
    "duration": 36,
    "start_time": "2023-01-19T09:09:36.364Z"
   },
   {
    "duration": 2,
    "start_time": "2023-01-19T09:09:36.402Z"
   },
   {
    "duration": 11,
    "start_time": "2023-01-19T09:09:36.406Z"
   },
   {
    "duration": 618,
    "start_time": "2023-01-19T09:09:36.419Z"
   },
   {
    "duration": 3,
    "start_time": "2023-01-19T09:09:37.039Z"
   },
   {
    "duration": 31,
    "start_time": "2023-01-19T09:09:37.049Z"
   },
   {
    "duration": 7,
    "start_time": "2023-01-19T09:09:37.082Z"
   },
   {
    "duration": 7,
    "start_time": "2023-01-19T09:09:37.091Z"
   },
   {
    "duration": 18,
    "start_time": "2023-01-19T09:09:37.100Z"
   },
   {
    "duration": 10,
    "start_time": "2023-01-19T09:09:37.120Z"
   },
   {
    "duration": 7,
    "start_time": "2023-01-19T09:09:37.132Z"
   },
   {
    "duration": 6,
    "start_time": "2023-01-19T09:09:37.140Z"
   },
   {
    "duration": 20,
    "start_time": "2023-01-19T09:09:37.147Z"
   },
   {
    "duration": 2103,
    "start_time": "2023-01-19T09:09:37.169Z"
   },
   {
    "duration": 39180,
    "start_time": "2023-01-19T09:09:39.274Z"
   },
   {
    "duration": 4,
    "start_time": "2023-01-19T09:10:18.457Z"
   },
   {
    "duration": 6,
    "start_time": "2023-01-19T09:11:50.287Z"
   },
   {
    "duration": 758,
    "start_time": "2023-01-19T09:11:50.600Z"
   },
   {
    "duration": 19,
    "start_time": "2023-01-19T09:11:51.361Z"
   },
   {
    "duration": 13,
    "start_time": "2023-01-19T09:11:51.381Z"
   },
   {
    "duration": 17,
    "start_time": "2023-01-19T09:11:51.396Z"
   },
   {
    "duration": 211,
    "start_time": "2023-01-19T09:11:51.415Z"
   },
   {
    "duration": 67,
    "start_time": "2023-01-19T09:11:51.628Z"
   },
   {
    "duration": 10,
    "start_time": "2023-01-19T09:11:51.714Z"
   },
   {
    "duration": 9,
    "start_time": "2023-01-19T09:11:51.870Z"
   },
   {
    "duration": 11,
    "start_time": "2023-01-19T09:11:52.023Z"
   },
   {
    "duration": 195,
    "start_time": "2023-01-19T09:11:52.180Z"
   },
   {
    "duration": 3,
    "start_time": "2023-01-19T09:11:52.377Z"
   },
   {
    "duration": 61,
    "start_time": "2023-01-19T09:11:52.476Z"
   },
   {
    "duration": 124,
    "start_time": "2023-01-19T09:11:52.622Z"
   },
   {
    "duration": 2,
    "start_time": "2023-01-19T09:11:52.784Z"
   },
   {
    "duration": 50,
    "start_time": "2023-01-19T09:11:52.936Z"
   },
   {
    "duration": 23,
    "start_time": "2023-01-19T09:11:53.079Z"
   },
   {
    "duration": 14,
    "start_time": "2023-01-19T09:11:53.383Z"
   },
   {
    "duration": 4,
    "start_time": "2023-01-19T09:11:53.820Z"
   },
   {
    "duration": 6,
    "start_time": "2023-01-19T09:11:53.971Z"
   },
   {
    "duration": 6,
    "start_time": "2023-01-19T09:11:54.120Z"
   },
   {
    "duration": 9,
    "start_time": "2023-01-19T09:11:54.738Z"
   },
   {
    "duration": 12,
    "start_time": "2023-01-19T09:11:55.048Z"
   },
   {
    "duration": 2,
    "start_time": "2023-01-19T09:11:55.688Z"
   },
   {
    "duration": 4,
    "start_time": "2023-01-19T09:11:56.303Z"
   },
   {
    "duration": 5,
    "start_time": "2023-01-19T09:11:56.470Z"
   },
   {
    "duration": 4,
    "start_time": "2023-01-19T09:11:56.598Z"
   },
   {
    "duration": 4,
    "start_time": "2023-01-19T09:11:56.764Z"
   },
   {
    "duration": 312,
    "start_time": "2023-01-19T09:11:56.911Z"
   },
   {
    "duration": 276,
    "start_time": "2023-01-19T09:11:57.226Z"
   },
   {
    "duration": 302,
    "start_time": "2023-01-19T09:11:57.504Z"
   },
   {
    "duration": 314,
    "start_time": "2023-01-19T09:11:57.808Z"
   },
   {
    "duration": 317,
    "start_time": "2023-01-19T09:11:58.123Z"
   },
   {
    "duration": 11,
    "start_time": "2023-01-19T09:11:58.442Z"
   },
   {
    "duration": 736,
    "start_time": "2023-01-19T09:11:58.512Z"
   },
   {
    "duration": 26,
    "start_time": "2023-01-19T09:11:59.250Z"
   },
   {
    "duration": 15,
    "start_time": "2023-01-19T09:11:59.278Z"
   },
   {
    "duration": 2,
    "start_time": "2023-01-19T09:11:59.435Z"
   },
   {
    "duration": 9,
    "start_time": "2023-01-19T09:12:00.365Z"
   },
   {
    "duration": 634,
    "start_time": "2023-01-19T09:12:00.521Z"
   },
   {
    "duration": 3,
    "start_time": "2023-01-19T09:12:01.174Z"
   },
   {
    "duration": 5,
    "start_time": "2023-01-19T09:12:01.343Z"
   },
   {
    "duration": 7,
    "start_time": "2023-01-19T09:12:01.821Z"
   },
   {
    "duration": 3,
    "start_time": "2023-01-19T09:12:02.138Z"
   },
   {
    "duration": 11,
    "start_time": "2023-01-19T09:12:02.872Z"
   },
   {
    "duration": 3,
    "start_time": "2023-01-19T09:12:04.845Z"
   },
   {
    "duration": 3,
    "start_time": "2023-01-19T09:12:05.145Z"
   },
   {
    "duration": 3,
    "start_time": "2023-01-19T09:12:05.299Z"
   },
   {
    "duration": 3,
    "start_time": "2023-01-19T09:12:06.887Z"
   },
   {
    "duration": 1474,
    "start_time": "2023-01-19T09:12:08.175Z"
   },
   {
    "duration": 38993,
    "start_time": "2023-01-19T09:12:14.127Z"
   },
   {
    "duration": 6937,
    "start_time": "2023-01-19T09:14:16.934Z"
   },
   {
    "duration": 238,
    "start_time": "2023-01-19T09:15:47.642Z"
   },
   {
    "duration": 15,
    "start_time": "2023-01-19T09:16:09.934Z"
   },
   {
    "duration": 16,
    "start_time": "2023-01-19T09:16:45.903Z"
   },
   {
    "duration": 1237,
    "start_time": "2023-01-19T09:16:52.326Z"
   },
   {
    "duration": 1594,
    "start_time": "2023-01-19T09:22:59.253Z"
   },
   {
    "duration": 1561,
    "start_time": "2023-01-19T09:31:26.590Z"
   },
   {
    "duration": 1111,
    "start_time": "2023-01-19T09:33:34.942Z"
   },
   {
    "duration": 1183,
    "start_time": "2023-01-19T09:33:48.796Z"
   },
   {
    "duration": 3,
    "start_time": "2023-01-19T10:30:11.774Z"
   },
   {
    "duration": 3,
    "start_time": "2023-01-19T10:30:12.807Z"
   },
   {
    "duration": 11,
    "start_time": "2023-01-19T10:30:13.365Z"
   },
   {
    "duration": 3,
    "start_time": "2023-01-19T10:30:33.762Z"
   },
   {
    "duration": 3,
    "start_time": "2023-01-19T10:30:34.651Z"
   },
   {
    "duration": 1540,
    "start_time": "2023-01-19T11:14:19.072Z"
   },
   {
    "duration": 1816,
    "start_time": "2023-01-19T11:14:20.614Z"
   },
   {
    "duration": 18,
    "start_time": "2023-01-19T11:14:22.431Z"
   },
   {
    "duration": 11,
    "start_time": "2023-01-19T11:14:22.450Z"
   },
   {
    "duration": 22,
    "start_time": "2023-01-19T11:14:22.463Z"
   },
   {
    "duration": 151,
    "start_time": "2023-01-19T11:14:22.487Z"
   },
   {
    "duration": 102,
    "start_time": "2023-01-19T11:14:22.640Z"
   },
   {
    "duration": 9,
    "start_time": "2023-01-19T11:14:22.744Z"
   },
   {
    "duration": 47,
    "start_time": "2023-01-19T11:14:22.755Z"
   },
   {
    "duration": 58,
    "start_time": "2023-01-19T11:14:22.804Z"
   },
   {
    "duration": 218,
    "start_time": "2023-01-19T11:14:22.864Z"
   },
   {
    "duration": 2,
    "start_time": "2023-01-19T11:14:23.084Z"
   },
   {
    "duration": 81,
    "start_time": "2023-01-19T11:14:23.087Z"
   },
   {
    "duration": 120,
    "start_time": "2023-01-19T11:14:23.171Z"
   },
   {
    "duration": 3,
    "start_time": "2023-01-19T11:14:23.293Z"
   },
   {
    "duration": 44,
    "start_time": "2023-01-19T11:14:23.297Z"
   },
   {
    "duration": 22,
    "start_time": "2023-01-19T11:14:23.342Z"
   },
   {
    "duration": 29,
    "start_time": "2023-01-19T11:14:23.365Z"
   },
   {
    "duration": 3,
    "start_time": "2023-01-19T11:14:23.396Z"
   },
   {
    "duration": 7,
    "start_time": "2023-01-19T11:14:23.400Z"
   },
   {
    "duration": 9,
    "start_time": "2023-01-19T11:14:23.408Z"
   },
   {
    "duration": 15,
    "start_time": "2023-01-19T11:14:23.419Z"
   },
   {
    "duration": 17,
    "start_time": "2023-01-19T11:14:23.436Z"
   },
   {
    "duration": 3,
    "start_time": "2023-01-19T11:14:23.454Z"
   },
   {
    "duration": 7,
    "start_time": "2023-01-19T11:14:23.459Z"
   },
   {
    "duration": 19,
    "start_time": "2023-01-19T11:14:23.467Z"
   },
   {
    "duration": 9,
    "start_time": "2023-01-19T11:14:23.488Z"
   },
   {
    "duration": 7,
    "start_time": "2023-01-19T11:14:23.498Z"
   },
   {
    "duration": 277,
    "start_time": "2023-01-19T11:14:23.507Z"
   },
   {
    "duration": 257,
    "start_time": "2023-01-19T11:14:23.786Z"
   },
   {
    "duration": 343,
    "start_time": "2023-01-19T11:14:24.045Z"
   },
   {
    "duration": 340,
    "start_time": "2023-01-19T11:14:24.390Z"
   },
   {
    "duration": 322,
    "start_time": "2023-01-19T11:14:24.732Z"
   },
   {
    "duration": 8,
    "start_time": "2023-01-19T11:14:25.056Z"
   },
   {
    "duration": 575,
    "start_time": "2023-01-19T11:14:25.066Z"
   },
   {
    "duration": 21,
    "start_time": "2023-01-19T11:14:25.643Z"
   },
   {
    "duration": 27,
    "start_time": "2023-01-19T11:14:25.667Z"
   },
   {
    "duration": 3,
    "start_time": "2023-01-19T11:14:25.696Z"
   },
   {
    "duration": 23,
    "start_time": "2023-01-19T11:14:25.701Z"
   },
   {
    "duration": 575,
    "start_time": "2023-01-19T11:14:25.726Z"
   },
   {
    "duration": 3,
    "start_time": "2023-01-19T11:14:26.306Z"
   },
   {
    "duration": 10,
    "start_time": "2023-01-19T11:14:26.311Z"
   },
   {
    "duration": 8,
    "start_time": "2023-01-19T11:14:26.323Z"
   },
   {
    "duration": 6,
    "start_time": "2023-01-19T11:14:26.332Z"
   },
   {
    "duration": 13,
    "start_time": "2023-01-19T11:14:26.340Z"
   },
   {
    "duration": 3,
    "start_time": "2023-01-19T11:14:26.354Z"
   },
   {
    "duration": 5,
    "start_time": "2023-01-19T11:14:26.359Z"
   },
   {
    "duration": 2,
    "start_time": "2023-01-19T11:14:26.386Z"
   },
   {
    "duration": 12,
    "start_time": "2023-01-19T11:14:26.390Z"
   },
   {
    "duration": 985,
    "start_time": "2023-01-19T11:14:26.404Z"
   },
   {
    "duration": 3,
    "start_time": "2023-01-19T11:14:27.394Z"
   },
   {
    "duration": 88,
    "start_time": "2023-01-19T11:14:27.398Z"
   },
   {
    "duration": 3,
    "start_time": "2023-01-19T11:14:27.487Z"
   },
   {
    "duration": 9,
    "start_time": "2023-01-19T11:14:27.492Z"
   },
   {
    "duration": 11,
    "start_time": "2023-01-19T11:14:27.503Z"
   },
   {
    "duration": 69260,
    "start_time": "2023-01-19T11:14:27.516Z"
   },
   {
    "duration": 9,
    "start_time": "2023-01-19T11:15:36.778Z"
   },
   {
    "duration": 16,
    "start_time": "2023-01-19T11:15:36.788Z"
   },
   {
    "duration": 20,
    "start_time": "2023-01-19T11:15:36.806Z"
   },
   {
    "duration": 5,
    "start_time": "2023-01-19T11:19:07.417Z"
   },
   {
    "duration": 645,
    "start_time": "2023-01-19T11:19:07.814Z"
   },
   {
    "duration": 17,
    "start_time": "2023-01-19T11:19:08.461Z"
   },
   {
    "duration": 16,
    "start_time": "2023-01-19T11:19:08.480Z"
   },
   {
    "duration": 17,
    "start_time": "2023-01-19T11:19:08.576Z"
   },
   {
    "duration": 162,
    "start_time": "2023-01-19T11:19:08.936Z"
   },
   {
    "duration": 53,
    "start_time": "2023-01-19T11:19:09.336Z"
   },
   {
    "duration": 10,
    "start_time": "2023-01-19T11:19:09.708Z"
   },
   {
    "duration": 8,
    "start_time": "2023-01-19T11:19:10.066Z"
   },
   {
    "duration": 10,
    "start_time": "2023-01-19T11:19:10.465Z"
   },
   {
    "duration": 175,
    "start_time": "2023-01-19T11:19:10.794Z"
   },
   {
    "duration": 2,
    "start_time": "2023-01-19T11:19:11.205Z"
   },
   {
    "duration": 87,
    "start_time": "2023-01-19T11:19:11.571Z"
   },
   {
    "duration": 120,
    "start_time": "2023-01-19T11:19:11.994Z"
   },
   {
    "duration": 3,
    "start_time": "2023-01-19T11:19:12.365Z"
   },
   {
    "duration": 41,
    "start_time": "2023-01-19T11:19:12.738Z"
   },
   {
    "duration": 25,
    "start_time": "2023-01-19T11:19:13.111Z"
   },
   {
    "duration": 13,
    "start_time": "2023-01-19T11:19:15.006Z"
   },
   {
    "duration": 3,
    "start_time": "2023-01-19T11:19:19.567Z"
   },
   {
    "duration": 3,
    "start_time": "2023-01-19T11:19:19.969Z"
   },
   {
    "duration": 5,
    "start_time": "2023-01-19T11:19:20.444Z"
   },
   {
    "duration": 11,
    "start_time": "2023-01-19T11:19:25.059Z"
   },
   {
    "duration": 9,
    "start_time": "2023-01-19T11:19:25.664Z"
   },
   {
    "duration": 4,
    "start_time": "2023-01-19T11:19:38.187Z"
   },
   {
    "duration": 3,
    "start_time": "2023-01-19T11:19:38.536Z"
   },
   {
    "duration": 5,
    "start_time": "2023-01-19T11:19:38.937Z"
   },
   {
    "duration": 5,
    "start_time": "2023-01-19T11:19:39.659Z"
   },
   {
    "duration": 233,
    "start_time": "2023-01-19T11:19:39.947Z"
   },
   {
    "duration": 246,
    "start_time": "2023-01-19T11:19:40.355Z"
   },
   {
    "duration": 237,
    "start_time": "2023-01-19T11:19:40.845Z"
   },
   {
    "duration": 321,
    "start_time": "2023-01-19T11:19:41.703Z"
   },
   {
    "duration": 312,
    "start_time": "2023-01-19T11:19:42.026Z"
   },
   {
    "duration": 7,
    "start_time": "2023-01-19T11:19:47.399Z"
   },
   {
    "duration": 621,
    "start_time": "2023-01-19T11:19:47.861Z"
   },
   {
    "duration": 15,
    "start_time": "2023-01-19T11:19:49.147Z"
   },
   {
    "duration": 14,
    "start_time": "2023-01-19T11:19:49.669Z"
   },
   {
    "duration": 6,
    "start_time": "2023-01-19T11:19:56.084Z"
   },
   {
    "duration": 535,
    "start_time": "2023-01-19T11:19:56.643Z"
   },
   {
    "duration": 3,
    "start_time": "2023-01-19T11:20:00.019Z"
   },
   {
    "duration": 5,
    "start_time": "2023-01-19T11:20:00.347Z"
   },
   {
    "duration": 6,
    "start_time": "2023-01-19T11:20:00.981Z"
   },
   {
    "duration": 3,
    "start_time": "2023-01-19T11:20:02.211Z"
   },
   {
    "duration": 10,
    "start_time": "2023-01-19T11:20:02.847Z"
   },
   {
    "duration": 3,
    "start_time": "2023-01-19T11:20:06.090Z"
   },
   {
    "duration": 3,
    "start_time": "2023-01-19T11:20:06.491Z"
   },
   {
    "duration": 4,
    "start_time": "2023-01-19T11:20:06.717Z"
   },
   {
    "duration": 4,
    "start_time": "2023-01-19T11:20:07.505Z"
   },
   {
    "duration": 629,
    "start_time": "2023-01-19T11:20:09.356Z"
   },
   {
    "duration": 2,
    "start_time": "2023-01-19T11:20:19.404Z"
   },
   {
    "duration": 2,
    "start_time": "2023-01-19T11:20:22.726Z"
   },
   {
    "duration": 4,
    "start_time": "2023-01-19T11:20:22.964Z"
   },
   {
    "duration": 3,
    "start_time": "2023-01-19T11:20:23.512Z"
   },
   {
    "duration": 4,
    "start_time": "2023-01-19T11:20:23.792Z"
   },
   {
    "duration": 70572,
    "start_time": "2023-01-19T11:20:24.357Z"
   },
   {
    "duration": 5,
    "start_time": "2023-01-19T11:22:44.551Z"
   },
   {
    "duration": 3,
    "start_time": "2023-01-19T11:22:56.479Z"
   },
   {
    "duration": 4,
    "start_time": "2023-01-19T11:23:32.807Z"
   },
   {
    "duration": 118,
    "start_time": "2023-01-19T11:54:49.369Z"
   },
   {
    "duration": 1979,
    "start_time": "2023-01-19T11:54:59.014Z"
   },
   {
    "duration": 10,
    "start_time": "2023-01-19T11:55:03.268Z"
   },
   {
    "duration": 5,
    "start_time": "2023-01-19T11:55:31.769Z"
   },
   {
    "duration": 4,
    "start_time": "2023-01-19T11:58:51.936Z"
   },
   {
    "duration": 4,
    "start_time": "2023-01-19T11:59:33.622Z"
   },
   {
    "duration": 3,
    "start_time": "2023-01-19T12:00:10.429Z"
   },
   {
    "duration": 5,
    "start_time": "2023-01-19T12:16:05.767Z"
   },
   {
    "duration": 912,
    "start_time": "2023-01-19T12:22:49.601Z"
   },
   {
    "duration": 893,
    "start_time": "2023-01-19T12:23:18.964Z"
   },
   {
    "duration": 11,
    "start_time": "2023-01-19T12:28:09.473Z"
   },
   {
    "duration": 12,
    "start_time": "2023-01-19T12:29:50.521Z"
   },
   {
    "duration": 940,
    "start_time": "2023-01-19T12:30:02.884Z"
   },
   {
    "duration": 925,
    "start_time": "2023-01-19T12:38:26.377Z"
   },
   {
    "duration": 9,
    "start_time": "2023-01-19T12:45:14.080Z"
   },
   {
    "duration": 5,
    "start_time": "2023-01-19T12:46:26.291Z"
   },
   {
    "duration": 5,
    "start_time": "2023-01-19T12:46:32.080Z"
   },
   {
    "duration": 4,
    "start_time": "2023-01-19T12:46:43.667Z"
   },
   {
    "duration": 4,
    "start_time": "2023-01-19T12:46:47.061Z"
   },
   {
    "duration": 4,
    "start_time": "2023-01-19T12:46:51.384Z"
   },
   {
    "duration": 3,
    "start_time": "2023-01-19T12:46:57.687Z"
   },
   {
    "duration": 940,
    "start_time": "2023-01-19T12:49:09.948Z"
   },
   {
    "duration": 825,
    "start_time": "2023-01-19T12:54:54.218Z"
   },
   {
    "duration": 828,
    "start_time": "2023-01-19T12:57:11.365Z"
   },
   {
    "duration": 825,
    "start_time": "2023-01-19T13:01:35.019Z"
   },
   {
    "duration": 879,
    "start_time": "2023-01-19T13:03:14.987Z"
   },
   {
    "duration": 1730,
    "start_time": "2023-01-19T13:06:13.652Z"
   },
   {
    "duration": 1778,
    "start_time": "2023-01-19T13:06:45.370Z"
   },
   {
    "duration": 819,
    "start_time": "2023-01-19T13:06:59.722Z"
   },
   {
    "duration": 834,
    "start_time": "2023-01-19T13:07:34.776Z"
   },
   {
    "duration": 825,
    "start_time": "2023-01-19T13:07:45.975Z"
   },
   {
    "duration": 732,
    "start_time": "2023-01-19T13:08:53.139Z"
   },
   {
    "duration": 763,
    "start_time": "2023-01-19T13:10:23.644Z"
   },
   {
    "duration": 751,
    "start_time": "2023-01-19T13:10:40.680Z"
   },
   {
    "duration": 2,
    "start_time": "2023-01-19T13:14:57.602Z"
   },
   {
    "duration": 3,
    "start_time": "2023-01-19T13:14:58.570Z"
   },
   {
    "duration": 3,
    "start_time": "2023-01-19T13:14:59.201Z"
   },
   {
    "duration": 739,
    "start_time": "2023-01-19T13:15:03.413Z"
   },
   {
    "duration": 1380,
    "start_time": "2023-01-19T13:17:59.960Z"
   },
   {
    "duration": 602,
    "start_time": "2023-01-19T13:18:01.342Z"
   },
   {
    "duration": 16,
    "start_time": "2023-01-19T13:18:01.946Z"
   },
   {
    "duration": 27,
    "start_time": "2023-01-19T13:18:01.964Z"
   },
   {
    "duration": 18,
    "start_time": "2023-01-19T13:18:01.993Z"
   },
   {
    "duration": 155,
    "start_time": "2023-01-19T13:18:02.013Z"
   },
   {
    "duration": 94,
    "start_time": "2023-01-19T13:18:02.170Z"
   },
   {
    "duration": 22,
    "start_time": "2023-01-19T13:18:02.265Z"
   },
   {
    "duration": 17,
    "start_time": "2023-01-19T13:18:02.289Z"
   },
   {
    "duration": 19,
    "start_time": "2023-01-19T13:18:02.308Z"
   },
   {
    "duration": 204,
    "start_time": "2023-01-19T13:18:02.329Z"
   },
   {
    "duration": 2,
    "start_time": "2023-01-19T13:18:02.534Z"
   },
   {
    "duration": 98,
    "start_time": "2023-01-19T13:18:02.538Z"
   },
   {
    "duration": 109,
    "start_time": "2023-01-19T13:18:02.639Z"
   },
   {
    "duration": 2,
    "start_time": "2023-01-19T13:18:02.750Z"
   },
   {
    "duration": 53,
    "start_time": "2023-01-19T13:18:02.753Z"
   },
   {
    "duration": 21,
    "start_time": "2023-01-19T13:18:02.807Z"
   },
   {
    "duration": 13,
    "start_time": "2023-01-19T13:18:02.829Z"
   },
   {
    "duration": 14,
    "start_time": "2023-01-19T13:18:02.843Z"
   },
   {
    "duration": 11,
    "start_time": "2023-01-19T13:18:02.858Z"
   },
   {
    "duration": 14,
    "start_time": "2023-01-19T13:18:02.871Z"
   },
   {
    "duration": 34,
    "start_time": "2023-01-19T13:18:02.887Z"
   },
   {
    "duration": 11,
    "start_time": "2023-01-19T13:18:02.923Z"
   },
   {
    "duration": 6,
    "start_time": "2023-01-19T13:18:02.936Z"
   },
   {
    "duration": 11,
    "start_time": "2023-01-19T13:18:02.943Z"
   },
   {
    "duration": 19,
    "start_time": "2023-01-19T13:18:02.956Z"
   },
   {
    "duration": 14,
    "start_time": "2023-01-19T13:18:02.976Z"
   },
   {
    "duration": 12,
    "start_time": "2023-01-19T13:18:02.992Z"
   },
   {
    "duration": 254,
    "start_time": "2023-01-19T13:18:03.006Z"
   },
   {
    "duration": 235,
    "start_time": "2023-01-19T13:18:03.262Z"
   },
   {
    "duration": 322,
    "start_time": "2023-01-19T13:18:03.499Z"
   },
   {
    "duration": 297,
    "start_time": "2023-01-19T13:18:03.823Z"
   },
   {
    "duration": 307,
    "start_time": "2023-01-19T13:18:04.121Z"
   },
   {
    "duration": 6,
    "start_time": "2023-01-19T13:18:04.429Z"
   },
   {
    "duration": 525,
    "start_time": "2023-01-19T13:18:04.437Z"
   },
   {
    "duration": 25,
    "start_time": "2023-01-19T13:18:04.963Z"
   },
   {
    "duration": 15,
    "start_time": "2023-01-19T13:18:04.990Z"
   },
   {
    "duration": 6,
    "start_time": "2023-01-19T13:18:05.007Z"
   },
   {
    "duration": 558,
    "start_time": "2023-01-19T13:18:05.014Z"
   },
   {
    "duration": 2,
    "start_time": "2023-01-19T13:18:05.574Z"
   },
   {
    "duration": 25,
    "start_time": "2023-01-19T13:18:05.586Z"
   },
   {
    "duration": 15,
    "start_time": "2023-01-19T13:18:05.612Z"
   },
   {
    "duration": 11,
    "start_time": "2023-01-19T13:18:05.629Z"
   },
   {
    "duration": 21,
    "start_time": "2023-01-19T13:18:05.641Z"
   },
   {
    "duration": 5,
    "start_time": "2023-01-19T13:18:05.664Z"
   },
   {
    "duration": 15,
    "start_time": "2023-01-19T13:18:05.671Z"
   },
   {
    "duration": 34,
    "start_time": "2023-01-19T13:18:05.687Z"
   },
   {
    "duration": 13,
    "start_time": "2023-01-19T13:18:05.723Z"
   },
   {
    "duration": 14,
    "start_time": "2023-01-19T13:18:05.737Z"
   },
   {
    "duration": 22,
    "start_time": "2023-01-19T13:18:05.753Z"
   },
   {
    "duration": 7,
    "start_time": "2023-01-19T13:18:05.777Z"
   },
   {
    "duration": 23,
    "start_time": "2023-01-19T13:18:05.786Z"
   },
   {
    "duration": 12,
    "start_time": "2023-01-19T13:18:05.812Z"
   },
   {
    "duration": 200,
    "start_time": "2023-01-19T13:18:05.825Z"
   },
   {
    "duration": 0,
    "start_time": "2023-01-19T13:18:06.027Z"
   },
   {
    "duration": 0,
    "start_time": "2023-01-19T13:18:06.028Z"
   },
   {
    "duration": 0,
    "start_time": "2023-01-19T13:18:06.029Z"
   },
   {
    "duration": 0,
    "start_time": "2023-01-19T13:18:06.030Z"
   },
   {
    "duration": 0,
    "start_time": "2023-01-19T13:18:06.031Z"
   },
   {
    "duration": 0,
    "start_time": "2023-01-19T13:18:06.032Z"
   },
   {
    "duration": 0,
    "start_time": "2023-01-19T13:18:06.033Z"
   },
   {
    "duration": 0,
    "start_time": "2023-01-19T13:18:06.033Z"
   },
   {
    "duration": 0,
    "start_time": "2023-01-19T13:18:06.034Z"
   },
   {
    "duration": 4,
    "start_time": "2023-01-19T13:18:09.462Z"
   },
   {
    "duration": 579,
    "start_time": "2023-01-19T13:18:10.112Z"
   },
   {
    "duration": 16,
    "start_time": "2023-01-19T13:18:10.882Z"
   },
   {
    "duration": 12,
    "start_time": "2023-01-19T13:18:11.261Z"
   },
   {
    "duration": 16,
    "start_time": "2023-01-19T13:18:11.559Z"
   },
   {
    "duration": 140,
    "start_time": "2023-01-19T13:18:11.802Z"
   },
   {
    "duration": 47,
    "start_time": "2023-01-19T13:18:12.296Z"
   },
   {
    "duration": 9,
    "start_time": "2023-01-19T13:18:12.516Z"
   },
   {
    "duration": 8,
    "start_time": "2023-01-19T13:18:12.750Z"
   },
   {
    "duration": 10,
    "start_time": "2023-01-19T13:18:13.276Z"
   },
   {
    "duration": 165,
    "start_time": "2023-01-19T13:18:13.458Z"
   },
   {
    "duration": 2,
    "start_time": "2023-01-19T13:18:13.688Z"
   },
   {
    "duration": 54,
    "start_time": "2023-01-19T13:18:14.054Z"
   },
   {
    "duration": 107,
    "start_time": "2023-01-19T13:18:14.373Z"
   },
   {
    "duration": 2,
    "start_time": "2023-01-19T13:18:14.706Z"
   },
   {
    "duration": 37,
    "start_time": "2023-01-19T13:18:14.994Z"
   },
   {
    "duration": 22,
    "start_time": "2023-01-19T13:18:15.321Z"
   },
   {
    "duration": 12,
    "start_time": "2023-01-19T13:18:15.884Z"
   },
   {
    "duration": 3,
    "start_time": "2023-01-19T13:18:17.002Z"
   },
   {
    "duration": 3,
    "start_time": "2023-01-19T13:18:17.475Z"
   },
   {
    "duration": 4,
    "start_time": "2023-01-19T13:18:17.810Z"
   },
   {
    "duration": 9,
    "start_time": "2023-01-19T13:18:19.058Z"
   },
   {
    "duration": 7,
    "start_time": "2023-01-19T13:18:19.587Z"
   },
   {
    "duration": 2,
    "start_time": "2023-01-19T13:18:20.768Z"
   },
   {
    "duration": 4,
    "start_time": "2023-01-19T13:18:21.886Z"
   },
   {
    "duration": 4,
    "start_time": "2023-01-19T13:18:22.550Z"
   },
   {
    "duration": 4,
    "start_time": "2023-01-19T13:18:22.767Z"
   },
   {
    "duration": 4,
    "start_time": "2023-01-19T13:18:23.260Z"
   },
   {
    "duration": 227,
    "start_time": "2023-01-19T13:18:23.450Z"
   },
   {
    "duration": 231,
    "start_time": "2023-01-19T13:18:24.257Z"
   },
   {
    "duration": 252,
    "start_time": "2023-01-19T13:18:25.011Z"
   },
   {
    "duration": 335,
    "start_time": "2023-01-19T13:18:26.792Z"
   },
   {
    "duration": 332,
    "start_time": "2023-01-19T13:18:27.662Z"
   },
   {
    "duration": 6,
    "start_time": "2023-01-19T13:18:29.661Z"
   },
   {
    "duration": 518,
    "start_time": "2023-01-19T13:18:30.155Z"
   },
   {
    "duration": 130,
    "start_time": "2023-01-19T13:18:30.696Z"
   },
   {
    "duration": 18,
    "start_time": "2023-01-19T13:18:31.250Z"
   },
   {
    "duration": 6,
    "start_time": "2023-01-19T13:18:32.589Z"
   },
   {
    "duration": 519,
    "start_time": "2023-01-19T13:18:32.969Z"
   },
   {
    "duration": 3,
    "start_time": "2023-01-19T13:18:37.750Z"
   },
   {
    "duration": 5,
    "start_time": "2023-01-19T13:18:38.289Z"
   },
   {
    "duration": 5,
    "start_time": "2023-01-19T13:18:39.187Z"
   },
   {
    "duration": 2,
    "start_time": "2023-01-19T13:18:41.855Z"
   },
   {
    "duration": 8,
    "start_time": "2023-01-19T13:18:42.405Z"
   },
   {
    "duration": 3,
    "start_time": "2023-01-19T13:18:43.187Z"
   },
   {
    "duration": 3,
    "start_time": "2023-01-19T13:18:45.102Z"
   },
   {
    "duration": 3,
    "start_time": "2023-01-19T13:18:45.468Z"
   },
   {
    "duration": 3,
    "start_time": "2023-01-19T13:18:46.093Z"
   },
   {
    "duration": 2,
    "start_time": "2023-01-19T13:18:48.085Z"
   },
   {
    "duration": 2,
    "start_time": "2023-01-19T13:18:49.992Z"
   },
   {
    "duration": 2,
    "start_time": "2023-01-19T13:18:51.658Z"
   },
   {
    "duration": 3,
    "start_time": "2023-01-19T13:18:51.921Z"
   },
   {
    "duration": 3,
    "start_time": "2023-01-19T13:18:52.393Z"
   },
   {
    "duration": 11,
    "start_time": "2023-01-19T13:18:54.984Z"
   },
   {
    "duration": 1825,
    "start_time": "2023-01-19T13:19:10.866Z"
   },
   {
    "duration": 66690,
    "start_time": "2023-01-19T13:19:12.787Z"
   },
   {
    "duration": 5,
    "start_time": "2023-01-19T13:20:23.461Z"
   },
   {
    "duration": 3,
    "start_time": "2023-01-19T13:20:29.258Z"
   },
   {
    "duration": 5,
    "start_time": "2023-01-19T13:20:31.805Z"
   },
   {
    "duration": 4,
    "start_time": "2023-01-19T13:20:39.552Z"
   },
   {
    "duration": 4,
    "start_time": "2023-01-19T13:20:40.566Z"
   },
   {
    "duration": 4,
    "start_time": "2023-01-19T13:20:42.158Z"
   },
   {
    "duration": 4,
    "start_time": "2023-01-19T13:20:49.598Z"
   },
   {
    "duration": 748,
    "start_time": "2023-01-19T13:20:51.067Z"
   },
   {
    "duration": 751,
    "start_time": "2023-01-19T14:03:47.111Z"
   },
   {
    "duration": 1572,
    "start_time": "2023-01-19T14:06:08.186Z"
   },
   {
    "duration": 745,
    "start_time": "2023-01-19T14:06:17.123Z"
   },
   {
    "duration": 745,
    "start_time": "2023-01-19T14:21:28.478Z"
   },
   {
    "duration": 4,
    "start_time": "2023-01-19T14:21:50.480Z"
   },
   {
    "duration": 777,
    "start_time": "2023-01-19T14:21:58.960Z"
   },
   {
    "duration": 748,
    "start_time": "2023-01-19T14:22:10.065Z"
   },
   {
    "duration": 2,
    "start_time": "2023-01-19T14:22:21.863Z"
   },
   {
    "duration": 1671,
    "start_time": "2023-01-19T16:05:29.145Z"
   },
   {
    "duration": 3439,
    "start_time": "2023-01-19T16:05:30.818Z"
   },
   {
    "duration": 20,
    "start_time": "2023-01-19T16:05:34.260Z"
   },
   {
    "duration": 11,
    "start_time": "2023-01-19T16:05:34.281Z"
   },
   {
    "duration": 16,
    "start_time": "2023-01-19T16:05:34.294Z"
   },
   {
    "duration": 178,
    "start_time": "2023-01-19T16:05:34.311Z"
   },
   {
    "duration": 100,
    "start_time": "2023-01-19T16:05:34.490Z"
   },
   {
    "duration": 9,
    "start_time": "2023-01-19T16:05:34.591Z"
   },
   {
    "duration": 10,
    "start_time": "2023-01-19T16:05:34.602Z"
   },
   {
    "duration": 36,
    "start_time": "2023-01-19T16:05:34.614Z"
   },
   {
    "duration": 208,
    "start_time": "2023-01-19T16:05:34.652Z"
   },
   {
    "duration": 3,
    "start_time": "2023-01-19T16:05:34.861Z"
   },
   {
    "duration": 86,
    "start_time": "2023-01-19T16:05:34.866Z"
   },
   {
    "duration": 122,
    "start_time": "2023-01-19T16:05:34.957Z"
   },
   {
    "duration": 2,
    "start_time": "2023-01-19T16:05:35.081Z"
   },
   {
    "duration": 39,
    "start_time": "2023-01-19T16:05:35.085Z"
   },
   {
    "duration": 45,
    "start_time": "2023-01-19T16:05:35.126Z"
   },
   {
    "duration": 14,
    "start_time": "2023-01-19T16:05:35.173Z"
   },
   {
    "duration": 26,
    "start_time": "2023-01-19T16:05:35.189Z"
   },
   {
    "duration": 10,
    "start_time": "2023-01-19T16:05:35.217Z"
   },
   {
    "duration": 35,
    "start_time": "2023-01-19T16:05:35.229Z"
   },
   {
    "duration": 17,
    "start_time": "2023-01-19T16:05:35.266Z"
   },
   {
    "duration": 19,
    "start_time": "2023-01-19T16:05:35.285Z"
   },
   {
    "duration": 12,
    "start_time": "2023-01-19T16:05:35.305Z"
   },
   {
    "duration": 23,
    "start_time": "2023-01-19T16:05:35.318Z"
   },
   {
    "duration": 6,
    "start_time": "2023-01-19T16:05:35.343Z"
   },
   {
    "duration": 20,
    "start_time": "2023-01-19T16:05:35.351Z"
   },
   {
    "duration": 10,
    "start_time": "2023-01-19T16:05:35.372Z"
   },
   {
    "duration": 275,
    "start_time": "2023-01-19T16:05:35.383Z"
   },
   {
    "duration": 259,
    "start_time": "2023-01-19T16:05:35.660Z"
   },
   {
    "duration": 393,
    "start_time": "2023-01-19T16:05:35.921Z"
   },
   {
    "duration": 462,
    "start_time": "2023-01-19T16:05:36.316Z"
   },
   {
    "duration": 346,
    "start_time": "2023-01-19T16:05:36.780Z"
   },
   {
    "duration": 7,
    "start_time": "2023-01-19T16:05:37.128Z"
   },
   {
    "duration": 606,
    "start_time": "2023-01-19T16:05:37.137Z"
   },
   {
    "duration": 30,
    "start_time": "2023-01-19T16:05:37.748Z"
   },
   {
    "duration": 22,
    "start_time": "2023-01-19T16:05:37.780Z"
   },
   {
    "duration": 7,
    "start_time": "2023-01-19T16:05:37.804Z"
   },
   {
    "duration": 625,
    "start_time": "2023-01-19T16:05:37.812Z"
   },
   {
    "duration": 4,
    "start_time": "2023-01-19T16:05:38.438Z"
   },
   {
    "duration": 8,
    "start_time": "2023-01-19T16:05:38.451Z"
   },
   {
    "duration": 17,
    "start_time": "2023-01-19T16:05:38.462Z"
   },
   {
    "duration": 12,
    "start_time": "2023-01-19T16:05:38.481Z"
   },
   {
    "duration": 19,
    "start_time": "2023-01-19T16:05:38.495Z"
   },
   {
    "duration": 4,
    "start_time": "2023-01-19T16:05:38.516Z"
   },
   {
    "duration": 6,
    "start_time": "2023-01-19T16:05:38.522Z"
   },
   {
    "duration": 22,
    "start_time": "2023-01-19T16:05:38.530Z"
   },
   {
    "duration": 20,
    "start_time": "2023-01-19T16:05:38.555Z"
   },
   {
    "duration": 13,
    "start_time": "2023-01-19T16:05:38.577Z"
   },
   {
    "duration": 7,
    "start_time": "2023-01-19T16:05:38.592Z"
   },
   {
    "duration": 17,
    "start_time": "2023-01-19T16:05:38.601Z"
   },
   {
    "duration": 18,
    "start_time": "2023-01-19T16:05:38.620Z"
   },
   {
    "duration": 7,
    "start_time": "2023-01-19T16:05:38.639Z"
   },
   {
    "duration": 2307,
    "start_time": "2023-01-19T16:05:38.648Z"
   },
   {
    "duration": 76720,
    "start_time": "2023-01-19T16:05:40.957Z"
   },
   {
    "duration": 5,
    "start_time": "2023-01-19T16:06:57.679Z"
   },
   {
    "duration": 9,
    "start_time": "2023-01-19T16:06:57.686Z"
   },
   {
    "duration": 10,
    "start_time": "2023-01-19T16:06:57.696Z"
   },
   {
    "duration": 10,
    "start_time": "2023-01-19T16:06:57.707Z"
   },
   {
    "duration": 10,
    "start_time": "2023-01-19T16:06:57.718Z"
   },
   {
    "duration": 20,
    "start_time": "2023-01-19T16:06:57.729Z"
   },
   {
    "duration": 7,
    "start_time": "2023-01-19T16:06:57.751Z"
   },
   {
    "duration": 982,
    "start_time": "2023-01-19T16:06:57.760Z"
   },
   {
    "duration": 847,
    "start_time": "2023-01-19T16:12:29.533Z"
   },
   {
    "duration": 3,
    "start_time": "2023-01-19T16:12:56.632Z"
   },
   {
    "duration": 3,
    "start_time": "2023-01-19T16:12:57.983Z"
   },
   {
    "duration": 5,
    "start_time": "2023-01-19T16:13:03.159Z"
   },
   {
    "duration": 1018,
    "start_time": "2023-01-19T16:13:03.895Z"
   },
   {
    "duration": 48,
    "start_time": "2023-01-19T16:17:58.120Z"
   },
   {
    "duration": 18,
    "start_time": "2023-01-19T16:18:04.983Z"
   },
   {
    "duration": 12,
    "start_time": "2023-01-19T16:18:16.046Z"
   },
   {
    "duration": 4279,
    "start_time": "2023-01-19T16:18:43.485Z"
   },
   {
    "duration": 5,
    "start_time": "2023-01-19T16:19:05.827Z"
   },
   {
    "duration": 1404,
    "start_time": "2023-01-19T16:36:13.208Z"
   },
   {
    "duration": 683,
    "start_time": "2023-01-19T16:36:14.614Z"
   },
   {
    "duration": 20,
    "start_time": "2023-01-19T16:36:15.298Z"
   },
   {
    "duration": 13,
    "start_time": "2023-01-19T16:36:15.320Z"
   },
   {
    "duration": 16,
    "start_time": "2023-01-19T16:36:15.349Z"
   },
   {
    "duration": 183,
    "start_time": "2023-01-19T16:36:15.367Z"
   },
   {
    "duration": 115,
    "start_time": "2023-01-19T16:36:15.552Z"
   },
   {
    "duration": 10,
    "start_time": "2023-01-19T16:36:15.669Z"
   },
   {
    "duration": 21,
    "start_time": "2023-01-19T16:36:15.681Z"
   },
   {
    "duration": 17,
    "start_time": "2023-01-19T16:36:15.703Z"
   },
   {
    "duration": 209,
    "start_time": "2023-01-19T16:36:15.722Z"
   },
   {
    "duration": 2,
    "start_time": "2023-01-19T16:36:15.933Z"
   },
   {
    "duration": 99,
    "start_time": "2023-01-19T16:36:15.937Z"
   },
   {
    "duration": 123,
    "start_time": "2023-01-19T16:36:16.040Z"
   },
   {
    "duration": 3,
    "start_time": "2023-01-19T16:36:16.164Z"
   },
   {
    "duration": 38,
    "start_time": "2023-01-19T16:36:16.168Z"
   },
   {
    "duration": 46,
    "start_time": "2023-01-19T16:36:16.209Z"
   },
   {
    "duration": 18,
    "start_time": "2023-01-19T16:36:16.257Z"
   },
   {
    "duration": 10,
    "start_time": "2023-01-19T16:36:16.277Z"
   },
   {
    "duration": 14,
    "start_time": "2023-01-19T16:36:16.289Z"
   },
   {
    "duration": 18,
    "start_time": "2023-01-19T16:36:16.305Z"
   },
   {
    "duration": 24,
    "start_time": "2023-01-19T16:36:16.325Z"
   },
   {
    "duration": 15,
    "start_time": "2023-01-19T16:36:16.351Z"
   },
   {
    "duration": 8,
    "start_time": "2023-01-19T16:36:16.368Z"
   },
   {
    "duration": 19,
    "start_time": "2023-01-19T16:36:16.378Z"
   },
   {
    "duration": 10,
    "start_time": "2023-01-19T16:36:16.399Z"
   },
   {
    "duration": 11,
    "start_time": "2023-01-19T16:36:16.411Z"
   },
   {
    "duration": 21,
    "start_time": "2023-01-19T16:36:16.423Z"
   },
   {
    "duration": 308,
    "start_time": "2023-01-19T16:36:16.445Z"
   },
   {
    "duration": 276,
    "start_time": "2023-01-19T16:36:16.755Z"
   },
   {
    "duration": 378,
    "start_time": "2023-01-19T16:36:17.032Z"
   },
   {
    "duration": 7,
    "start_time": "2023-01-19T16:36:17.412Z"
   },
   {
    "duration": 2548,
    "start_time": "2023-01-19T16:36:17.420Z"
   },
   {
    "duration": 425,
    "start_time": "2023-01-19T16:36:19.969Z"
   },
   {
    "duration": 307,
    "start_time": "2023-01-19T16:36:20.396Z"
   },
   {
    "duration": 7,
    "start_time": "2023-01-19T16:36:20.704Z"
   },
   {
    "duration": 559,
    "start_time": "2023-01-19T16:36:20.712Z"
   },
   {
    "duration": 18,
    "start_time": "2023-01-19T16:36:21.272Z"
   },
   {
    "duration": 26,
    "start_time": "2023-01-19T16:36:21.292Z"
   },
   {
    "duration": 17,
    "start_time": "2023-01-19T16:36:21.319Z"
   },
   {
    "duration": 577,
    "start_time": "2023-01-19T16:36:21.340Z"
   },
   {
    "duration": 3,
    "start_time": "2023-01-19T16:36:21.919Z"
   },
   {
    "duration": 29,
    "start_time": "2023-01-19T16:36:21.924Z"
   },
   {
    "duration": 30,
    "start_time": "2023-01-19T16:36:21.955Z"
   },
   {
    "duration": 24,
    "start_time": "2023-01-19T16:36:21.987Z"
   },
   {
    "duration": 25,
    "start_time": "2023-01-19T16:36:22.012Z"
   },
   {
    "duration": 14,
    "start_time": "2023-01-19T16:36:22.039Z"
   },
   {
    "duration": 17,
    "start_time": "2023-01-19T16:36:22.054Z"
   },
   {
    "duration": 24,
    "start_time": "2023-01-19T16:36:22.072Z"
   },
   {
    "duration": 29,
    "start_time": "2023-01-19T16:36:22.097Z"
   },
   {
    "duration": 17,
    "start_time": "2023-01-19T16:36:22.127Z"
   },
   {
    "duration": 10,
    "start_time": "2023-01-19T16:36:22.146Z"
   },
   {
    "duration": 25,
    "start_time": "2023-01-19T16:36:22.158Z"
   },
   {
    "duration": 43,
    "start_time": "2023-01-19T16:36:22.185Z"
   },
   {
    "duration": 17,
    "start_time": "2023-01-19T16:36:22.230Z"
   },
   {
    "duration": 1600,
    "start_time": "2023-01-19T16:36:22.249Z"
   },
   {
    "duration": 73688,
    "start_time": "2023-01-19T16:36:23.851Z"
   },
   {
    "duration": 7,
    "start_time": "2023-01-19T16:37:37.540Z"
   },
   {
    "duration": 5,
    "start_time": "2023-01-19T16:37:37.549Z"
   },
   {
    "duration": 8,
    "start_time": "2023-01-19T16:37:37.556Z"
   },
   {
    "duration": 9,
    "start_time": "2023-01-19T16:37:37.566Z"
   },
   {
    "duration": 10,
    "start_time": "2023-01-19T16:37:37.576Z"
   },
   {
    "duration": 8,
    "start_time": "2023-01-19T16:37:37.588Z"
   },
   {
    "duration": 7,
    "start_time": "2023-01-19T16:37:37.598Z"
   },
   {
    "duration": 1061,
    "start_time": "2023-01-19T16:37:37.606Z"
   },
   {
    "duration": 5,
    "start_time": "2023-01-19T16:39:04.780Z"
   },
   {
    "duration": 671,
    "start_time": "2023-01-19T16:39:05.084Z"
   },
   {
    "duration": 17,
    "start_time": "2023-01-19T16:39:05.757Z"
   },
   {
    "duration": 12,
    "start_time": "2023-01-19T16:39:05.775Z"
   },
   {
    "duration": 17,
    "start_time": "2023-01-19T16:39:05.826Z"
   },
   {
    "duration": 156,
    "start_time": "2023-01-19T16:39:06.038Z"
   },
   {
    "duration": 50,
    "start_time": "2023-01-19T16:39:06.694Z"
   },
   {
    "duration": 11,
    "start_time": "2023-01-19T16:39:07.124Z"
   },
   {
    "duration": 9,
    "start_time": "2023-01-19T16:39:07.580Z"
   },
   {
    "duration": 11,
    "start_time": "2023-01-19T16:39:08.125Z"
   },
   {
    "duration": 184,
    "start_time": "2023-01-19T16:39:10.228Z"
   },
   {
    "duration": 3,
    "start_time": "2023-01-19T16:39:10.916Z"
   },
   {
    "duration": 62,
    "start_time": "2023-01-19T16:39:11.390Z"
   },
   {
    "duration": 131,
    "start_time": "2023-01-19T16:39:13.508Z"
   },
   {
    "duration": 2,
    "start_time": "2023-01-19T16:39:14.029Z"
   },
   {
    "duration": 41,
    "start_time": "2023-01-19T16:39:14.468Z"
   },
   {
    "duration": 24,
    "start_time": "2023-01-19T16:39:15.901Z"
   },
   {
    "duration": 12,
    "start_time": "2023-01-19T16:39:17.316Z"
   },
   {
    "duration": 3,
    "start_time": "2023-01-19T16:39:18.964Z"
   },
   {
    "duration": 4,
    "start_time": "2023-01-19T16:39:19.125Z"
   },
   {
    "duration": 5,
    "start_time": "2023-01-19T16:39:19.308Z"
   },
   {
    "duration": 9,
    "start_time": "2023-01-19T16:39:19.973Z"
   },
   {
    "duration": 8,
    "start_time": "2023-01-19T16:39:20.780Z"
   },
   {
    "duration": 3,
    "start_time": "2023-01-19T16:39:23.802Z"
   },
   {
    "duration": 4,
    "start_time": "2023-01-19T16:39:26.260Z"
   },
   {
    "duration": 4,
    "start_time": "2023-01-19T16:39:26.722Z"
   },
   {
    "duration": 4,
    "start_time": "2023-01-19T16:39:27.035Z"
   },
   {
    "duration": 3,
    "start_time": "2023-01-19T16:39:27.355Z"
   },
   {
    "duration": 268,
    "start_time": "2023-01-19T16:39:30.619Z"
   },
   {
    "duration": 255,
    "start_time": "2023-01-19T16:39:31.603Z"
   },
   {
    "duration": 271,
    "start_time": "2023-01-19T16:39:32.378Z"
   },
   {
    "duration": 5,
    "start_time": "2023-01-19T16:39:33.835Z"
   },
   {
    "duration": 2711,
    "start_time": "2023-01-19T16:39:34.026Z"
   },
   {
    "duration": 348,
    "start_time": "2023-01-19T16:39:39.178Z"
   },
   {
    "duration": 328,
    "start_time": "2023-01-19T16:39:39.594Z"
   },
   {
    "duration": 7,
    "start_time": "2023-01-19T16:39:41.307Z"
   },
   {
    "duration": 581,
    "start_time": "2023-01-19T16:39:41.550Z"
   },
   {
    "duration": 20,
    "start_time": "2023-01-19T16:39:42.133Z"
   },
   {
    "duration": 15,
    "start_time": "2023-01-19T16:39:42.155Z"
   },
   {
    "duration": 9,
    "start_time": "2023-01-19T16:39:45.859Z"
   },
   {
    "duration": 767,
    "start_time": "2023-01-19T16:39:46.083Z"
   },
   {
    "duration": 3,
    "start_time": "2023-01-19T16:39:47.243Z"
   },
   {
    "duration": 5,
    "start_time": "2023-01-19T16:39:47.572Z"
   },
   {
    "duration": 5,
    "start_time": "2023-01-19T16:39:48.152Z"
   },
   {
    "duration": 2,
    "start_time": "2023-01-19T16:39:48.602Z"
   },
   {
    "duration": 10,
    "start_time": "2023-01-19T16:39:50.731Z"
   },
   {
    "duration": 4,
    "start_time": "2023-01-19T16:39:51.900Z"
   },
   {
    "duration": 3,
    "start_time": "2023-01-19T16:40:02.673Z"
   },
   {
    "duration": 4,
    "start_time": "2023-01-19T16:40:03.657Z"
   },
   {
    "duration": 4,
    "start_time": "2023-01-19T16:40:04.777Z"
   },
   {
    "duration": 3,
    "start_time": "2023-01-19T16:40:08.209Z"
   },
   {
    "duration": 3,
    "start_time": "2023-01-19T16:40:08.825Z"
   },
   {
    "duration": 2343,
    "start_time": "2023-01-19T16:40:29.808Z"
   },
   {
    "duration": 75486,
    "start_time": "2023-01-19T16:40:36.720Z"
   },
   {
    "duration": 5,
    "start_time": "2023-01-19T16:41:55.683Z"
   },
   {
    "duration": 4,
    "start_time": "2023-01-19T16:42:01.164Z"
   },
   {
    "duration": 5,
    "start_time": "2023-01-19T16:42:03.492Z"
   },
   {
    "duration": 3,
    "start_time": "2023-01-19T16:42:06.716Z"
   },
   {
    "duration": 4,
    "start_time": "2023-01-19T16:42:08.924Z"
   },
   {
    "duration": 4,
    "start_time": "2023-01-19T16:42:10.149Z"
   },
   {
    "duration": 5,
    "start_time": "2023-01-19T16:42:12.378Z"
   },
   {
    "duration": 1029,
    "start_time": "2023-01-19T16:42:13.452Z"
   },
   {
    "duration": 11,
    "start_time": "2023-01-19T16:47:39.811Z"
   },
   {
    "duration": 15,
    "start_time": "2023-01-19T16:57:43.461Z"
   },
   {
    "duration": 11,
    "start_time": "2023-01-19T16:57:45.725Z"
   },
   {
    "duration": 13,
    "start_time": "2023-01-19T16:58:39.978Z"
   },
   {
    "duration": 10,
    "start_time": "2023-01-19T17:02:45.174Z"
   },
   {
    "duration": 8,
    "start_time": "2023-01-19T17:03:23.108Z"
   },
   {
    "duration": 74,
    "start_time": "2023-01-19T17:03:41.139Z"
   },
   {
    "duration": 24,
    "start_time": "2023-01-19T17:03:41.683Z"
   },
   {
    "duration": 987,
    "start_time": "2023-01-19T17:03:52.923Z"
   },
   {
    "duration": 1344,
    "start_time": "2023-01-19T17:04:03.810Z"
   },
   {
    "duration": 693,
    "start_time": "2023-01-19T17:04:05.156Z"
   },
   {
    "duration": 19,
    "start_time": "2023-01-19T17:04:05.850Z"
   },
   {
    "duration": 11,
    "start_time": "2023-01-19T17:04:05.871Z"
   },
   {
    "duration": 16,
    "start_time": "2023-01-19T17:04:05.884Z"
   },
   {
    "duration": 172,
    "start_time": "2023-01-19T17:04:05.902Z"
   },
   {
    "duration": 15,
    "start_time": "2023-01-19T17:04:06.076Z"
   },
   {
    "duration": 13,
    "start_time": "2023-01-19T17:04:06.093Z"
   },
   {
    "duration": 11,
    "start_time": "2023-01-19T17:04:06.107Z"
   },
   {
    "duration": 32,
    "start_time": "2023-01-19T17:04:06.120Z"
   },
   {
    "duration": 206,
    "start_time": "2023-01-19T17:04:06.154Z"
   },
   {
    "duration": 12,
    "start_time": "2023-01-19T17:04:06.362Z"
   },
   {
    "duration": 167,
    "start_time": "2023-01-19T17:04:06.376Z"
   },
   {
    "duration": 33,
    "start_time": "2023-01-19T17:04:06.549Z"
   },
   {
    "duration": 16,
    "start_time": "2023-01-19T17:04:06.584Z"
   },
   {
    "duration": 3,
    "start_time": "2023-01-19T17:04:06.602Z"
   },
   {
    "duration": 11,
    "start_time": "2023-01-19T17:04:06.606Z"
   },
   {
    "duration": 30,
    "start_time": "2023-01-19T17:04:06.619Z"
   },
   {
    "duration": 10,
    "start_time": "2023-01-19T17:04:06.651Z"
   },
   {
    "duration": 19,
    "start_time": "2023-01-19T17:04:06.662Z"
   },
   {
    "duration": 22,
    "start_time": "2023-01-19T17:04:06.683Z"
   },
   {
    "duration": 20,
    "start_time": "2023-01-19T17:04:06.707Z"
   },
   {
    "duration": 11,
    "start_time": "2023-01-19T17:04:06.729Z"
   },
   {
    "duration": 8,
    "start_time": "2023-01-19T17:04:06.741Z"
   },
   {
    "duration": 16,
    "start_time": "2023-01-19T17:04:06.751Z"
   },
   {
    "duration": 253,
    "start_time": "2023-01-19T17:04:06.769Z"
   },
   {
    "duration": 262,
    "start_time": "2023-01-19T17:04:07.024Z"
   },
   {
    "duration": 363,
    "start_time": "2023-01-19T17:04:07.288Z"
   },
   {
    "duration": 6,
    "start_time": "2023-01-19T17:04:07.652Z"
   },
   {
    "duration": 2547,
    "start_time": "2023-01-19T17:04:07.659Z"
   },
   {
    "duration": 309,
    "start_time": "2023-01-19T17:04:10.207Z"
   },
   {
    "duration": 356,
    "start_time": "2023-01-19T17:04:10.517Z"
   },
   {
    "duration": 9,
    "start_time": "2023-01-19T17:04:10.875Z"
   },
   {
    "duration": 561,
    "start_time": "2023-01-19T17:04:10.886Z"
   },
   {
    "duration": 18,
    "start_time": "2023-01-19T17:04:11.449Z"
   },
   {
    "duration": 18,
    "start_time": "2023-01-19T17:04:11.468Z"
   },
   {
    "duration": 7,
    "start_time": "2023-01-19T17:04:11.488Z"
   },
   {
    "duration": 551,
    "start_time": "2023-01-19T17:04:11.497Z"
   },
   {
    "duration": 3,
    "start_time": "2023-01-19T17:04:12.050Z"
   },
   {
    "duration": 18,
    "start_time": "2023-01-19T17:04:12.054Z"
   },
   {
    "duration": 7,
    "start_time": "2023-01-19T17:04:12.076Z"
   },
   {
    "duration": 13,
    "start_time": "2023-01-19T17:04:12.084Z"
   },
   {
    "duration": 26,
    "start_time": "2023-01-19T17:04:12.099Z"
   },
   {
    "duration": 6,
    "start_time": "2023-01-19T17:04:12.126Z"
   },
   {
    "duration": 14,
    "start_time": "2023-01-19T17:04:12.134Z"
   },
   {
    "duration": 5,
    "start_time": "2023-01-19T17:04:12.149Z"
   },
   {
    "duration": 9,
    "start_time": "2023-01-19T17:04:12.155Z"
   },
   {
    "duration": 7,
    "start_time": "2023-01-19T17:04:12.166Z"
   },
   {
    "duration": 8,
    "start_time": "2023-01-19T17:04:12.175Z"
   },
   {
    "duration": 7,
    "start_time": "2023-01-19T17:04:12.184Z"
   },
   {
    "duration": 5,
    "start_time": "2023-01-19T17:04:12.192Z"
   },
   {
    "duration": 11,
    "start_time": "2023-01-19T17:04:12.198Z"
   },
   {
    "duration": 2347,
    "start_time": "2023-01-19T17:04:12.211Z"
   },
   {
    "duration": 74894,
    "start_time": "2023-01-19T17:04:14.649Z"
   },
   {
    "duration": 4,
    "start_time": "2023-01-19T17:05:29.549Z"
   },
   {
    "duration": 8,
    "start_time": "2023-01-19T17:05:29.555Z"
   },
   {
    "duration": 9,
    "start_time": "2023-01-19T17:05:29.564Z"
   },
   {
    "duration": 4,
    "start_time": "2023-01-19T17:05:29.575Z"
   },
   {
    "duration": 6,
    "start_time": "2023-01-19T17:05:29.581Z"
   },
   {
    "duration": 7,
    "start_time": "2023-01-19T17:05:29.589Z"
   },
   {
    "duration": 7,
    "start_time": "2023-01-19T17:05:29.597Z"
   },
   {
    "duration": 1034,
    "start_time": "2023-01-19T17:05:29.605Z"
   },
   {
    "duration": 5,
    "start_time": "2023-01-19T17:05:36.182Z"
   },
   {
    "duration": 719,
    "start_time": "2023-01-19T17:05:37.518Z"
   },
   {
    "duration": 18,
    "start_time": "2023-01-19T17:05:39.597Z"
   },
   {
    "duration": 14,
    "start_time": "2023-01-19T17:05:41.702Z"
   },
   {
    "duration": 17,
    "start_time": "2023-01-19T17:05:42.009Z"
   },
   {
    "duration": 141,
    "start_time": "2023-01-19T17:05:42.408Z"
   },
   {
    "duration": 17,
    "start_time": "2023-01-19T17:05:43.278Z"
   },
   {
    "duration": 10,
    "start_time": "2023-01-19T17:05:44.450Z"
   },
   {
    "duration": 8,
    "start_time": "2023-01-19T17:05:44.886Z"
   },
   {
    "duration": 13,
    "start_time": "2023-01-19T17:05:46.384Z"
   },
   {
    "duration": 192,
    "start_time": "2023-01-19T17:05:49.199Z"
   },
   {
    "duration": 9,
    "start_time": "2023-01-19T17:05:50.212Z"
   },
   {
    "duration": 120,
    "start_time": "2023-01-19T17:05:50.750Z"
   },
   {
    "duration": 23,
    "start_time": "2023-01-19T17:05:51.100Z"
   },
   {
    "duration": 15,
    "start_time": "2023-01-19T17:05:52.516Z"
   },
   {
    "duration": 3,
    "start_time": "2023-01-19T17:05:58.908Z"
   },
   {
    "duration": 4,
    "start_time": "2023-01-19T17:06:00.332Z"
   },
   {
    "duration": 5,
    "start_time": "2023-01-19T17:06:37.803Z"
   },
   {
    "duration": 10,
    "start_time": "2023-01-19T17:07:40.577Z"
   },
   {
    "duration": 9,
    "start_time": "2023-01-19T17:08:15.874Z"
   },
   {
    "duration": 4,
    "start_time": "2023-01-19T17:08:26.572Z"
   },
   {
    "duration": 5,
    "start_time": "2023-01-19T17:08:28.772Z"
   },
   {
    "duration": 4,
    "start_time": "2023-01-19T17:08:29.806Z"
   },
   {
    "duration": 3,
    "start_time": "2023-01-19T17:08:30.318Z"
   },
   {
    "duration": 250,
    "start_time": "2023-01-19T17:08:31.273Z"
   },
   {
    "duration": 246,
    "start_time": "2023-01-19T17:08:31.525Z"
   },
   {
    "duration": 251,
    "start_time": "2023-01-19T17:08:32.429Z"
   },
   {
    "duration": 6,
    "start_time": "2023-01-19T17:08:40.380Z"
   },
   {
    "duration": 5,
    "start_time": "2023-01-19T17:08:46.012Z"
   },
   {
    "duration": 4314,
    "start_time": "2023-01-19T17:08:49.916Z"
   },
   {
    "duration": 5,
    "start_time": "2023-01-19T17:11:10.077Z"
   },
   {
    "duration": 2555,
    "start_time": "2023-01-19T17:11:10.763Z"
   },
   {
    "duration": 5,
    "start_time": "2023-01-19T17:11:27.175Z"
   },
   {
    "duration": 2616,
    "start_time": "2023-01-19T17:11:27.852Z"
   },
   {
    "duration": 5,
    "start_time": "2023-01-19T17:13:11.488Z"
   },
   {
    "duration": 1350,
    "start_time": "2023-01-19T17:13:12.112Z"
   },
   {
    "duration": 6,
    "start_time": "2023-01-19T17:14:06.876Z"
   },
   {
    "duration": 530,
    "start_time": "2023-01-19T17:14:07.997Z"
   },
   {
    "duration": 19,
    "start_time": "2023-01-19T17:14:39.768Z"
   },
   {
    "duration": 14,
    "start_time": "2023-01-19T17:14:40.236Z"
   },
   {
    "duration": 7,
    "start_time": "2023-01-19T17:14:43.931Z"
   },
   {
    "duration": 745,
    "start_time": "2023-01-19T17:14:44.969Z"
   },
   {
    "duration": 3,
    "start_time": "2023-01-19T17:20:57.887Z"
   },
   {
    "duration": 3,
    "start_time": "2023-01-19T17:22:33.884Z"
   },
   {
    "duration": 5,
    "start_time": "2023-01-19T17:22:34.228Z"
   },
   {
    "duration": 5,
    "start_time": "2023-01-19T17:22:43.082Z"
   },
   {
    "duration": 47,
    "start_time": "2023-01-19T17:23:01.643Z"
   },
   {
    "duration": 9,
    "start_time": "2023-01-19T17:23:10.145Z"
   },
   {
    "duration": 4,
    "start_time": "2023-01-19T17:23:17.569Z"
   },
   {
    "duration": 3,
    "start_time": "2023-01-19T17:23:22.249Z"
   },
   {
    "duration": 3,
    "start_time": "2023-01-19T17:23:25.129Z"
   },
   {
    "duration": 44,
    "start_time": "2023-01-19T17:24:14.518Z"
   },
   {
    "duration": 2,
    "start_time": "2023-01-19T17:24:23.837Z"
   },
   {
    "duration": 45,
    "start_time": "2023-01-19T17:24:55.445Z"
   },
   {
    "duration": 2123,
    "start_time": "2023-01-19T17:28:03.429Z"
   },
   {
    "duration": 75961,
    "start_time": "2023-01-19T17:28:20.529Z"
   },
   {
    "duration": 6,
    "start_time": "2023-01-19T17:29:58.189Z"
   },
   {
    "duration": 57,
    "start_time": "2023-01-19T17:30:13.436Z"
   },
   {
    "duration": 3,
    "start_time": "2023-01-19T17:30:18.885Z"
   },
   {
    "duration": 6,
    "start_time": "2023-01-19T17:30:55.531Z"
   },
   {
    "duration": 4,
    "start_time": "2023-01-19T17:31:48.617Z"
   },
   {
    "duration": 4,
    "start_time": "2023-01-19T17:31:49.808Z"
   },
   {
    "duration": 4,
    "start_time": "2023-01-19T17:31:50.617Z"
   },
   {
    "duration": 4,
    "start_time": "2023-01-19T17:32:47.269Z"
   },
   {
    "duration": 41,
    "start_time": "2023-01-19T17:33:46.793Z"
   },
   {
    "duration": 1225,
    "start_time": "2023-01-19T17:33:52.414Z"
   },
   {
    "duration": 6,
    "start_time": "2023-01-19T18:30:42.045Z"
   },
   {
    "duration": 2541,
    "start_time": "2023-01-19T18:30:42.730Z"
   },
   {
    "duration": 5,
    "start_time": "2023-01-19T18:30:54.437Z"
   },
   {
    "duration": 4350,
    "start_time": "2023-01-19T18:30:55.181Z"
   },
   {
    "duration": 5,
    "start_time": "2023-01-19T18:31:17.372Z"
   },
   {
    "duration": 1739,
    "start_time": "2023-01-19T18:31:17.955Z"
   },
   {
    "duration": 352,
    "start_time": "2023-01-19T18:34:02.109Z"
   },
   {
    "duration": 593,
    "start_time": "2023-01-19T18:34:34.194Z"
   },
   {
    "duration": 114,
    "start_time": "2023-01-19T18:36:36.962Z"
   },
   {
    "duration": 246,
    "start_time": "2023-01-19T18:37:17.793Z"
   },
   {
    "duration": 364,
    "start_time": "2023-01-19T18:41:03.573Z"
   },
   {
    "duration": 446,
    "start_time": "2023-01-19T18:41:16.051Z"
   },
   {
    "duration": 402,
    "start_time": "2023-01-19T18:41:23.379Z"
   },
   {
    "duration": 404,
    "start_time": "2023-01-19T18:42:36.441Z"
   },
   {
    "duration": 7,
    "start_time": "2023-01-19T18:42:43.975Z"
   },
   {
    "duration": 773,
    "start_time": "2023-01-19T18:42:44.462Z"
   },
   {
    "duration": 16,
    "start_time": "2023-01-19T18:42:45.942Z"
   },
   {
    "duration": 12,
    "start_time": "2023-01-19T18:42:46.111Z"
   },
   {
    "duration": 8,
    "start_time": "2023-01-19T18:42:46.424Z"
   },
   {
    "duration": 591,
    "start_time": "2023-01-19T18:42:46.575Z"
   },
   {
    "duration": 4,
    "start_time": "2023-01-19T18:42:47.302Z"
   },
   {
    "duration": 16,
    "start_time": "2023-01-19T18:42:47.439Z"
   },
   {
    "duration": 6,
    "start_time": "2023-01-19T18:42:47.718Z"
   },
   {
    "duration": 11,
    "start_time": "2023-01-19T18:42:47.983Z"
   },
   {
    "duration": 3,
    "start_time": "2023-01-19T18:42:48.263Z"
   },
   {
    "duration": 3,
    "start_time": "2023-01-19T18:42:48.543Z"
   },
   {
    "duration": 6,
    "start_time": "2023-01-19T18:46:50.130Z"
   },
   {
    "duration": 567,
    "start_time": "2023-01-19T18:46:50.545Z"
   },
   {
    "duration": 203,
    "start_time": "2023-01-19T18:46:51.114Z"
   },
   {
    "duration": 15,
    "start_time": "2023-01-19T18:46:51.320Z"
   },
   {
    "duration": 8,
    "start_time": "2023-01-19T18:46:51.361Z"
   },
   {
    "duration": 591,
    "start_time": "2023-01-19T18:46:51.539Z"
   },
   {
    "duration": 3,
    "start_time": "2023-01-19T18:46:53.273Z"
   },
   {
    "duration": 13,
    "start_time": "2023-01-19T18:46:57.187Z"
   },
   {
    "duration": 1431,
    "start_time": "2023-01-19T18:47:07.390Z"
   },
   {
    "duration": 746,
    "start_time": "2023-01-19T18:47:08.824Z"
   },
   {
    "duration": 18,
    "start_time": "2023-01-19T18:47:09.572Z"
   },
   {
    "duration": 12,
    "start_time": "2023-01-19T18:47:09.591Z"
   },
   {
    "duration": 16,
    "start_time": "2023-01-19T18:47:09.605Z"
   },
   {
    "duration": 176,
    "start_time": "2023-01-19T18:47:09.623Z"
   },
   {
    "duration": 15,
    "start_time": "2023-01-19T18:47:09.801Z"
   },
   {
    "duration": 9,
    "start_time": "2023-01-19T18:47:09.817Z"
   },
   {
    "duration": 27,
    "start_time": "2023-01-19T18:47:09.827Z"
   },
   {
    "duration": 18,
    "start_time": "2023-01-19T18:47:09.856Z"
   },
   {
    "duration": 194,
    "start_time": "2023-01-19T18:47:09.876Z"
   },
   {
    "duration": 10,
    "start_time": "2023-01-19T18:47:10.071Z"
   },
   {
    "duration": 132,
    "start_time": "2023-01-19T18:47:10.083Z"
   },
   {
    "duration": 32,
    "start_time": "2023-01-19T18:47:10.219Z"
   },
   {
    "duration": 14,
    "start_time": "2023-01-19T18:47:10.253Z"
   },
   {
    "duration": 3,
    "start_time": "2023-01-19T18:47:10.268Z"
   },
   {
    "duration": 5,
    "start_time": "2023-01-19T18:47:10.273Z"
   },
   {
    "duration": 6,
    "start_time": "2023-01-19T18:47:10.279Z"
   },
   {
    "duration": 10,
    "start_time": "2023-01-19T18:47:10.286Z"
   },
   {
    "duration": 13,
    "start_time": "2023-01-19T18:47:10.297Z"
   },
   {
    "duration": 4,
    "start_time": "2023-01-19T18:47:10.349Z"
   },
   {
    "duration": 5,
    "start_time": "2023-01-19T18:47:10.355Z"
   },
   {
    "duration": 6,
    "start_time": "2023-01-19T18:47:10.361Z"
   },
   {
    "duration": 7,
    "start_time": "2023-01-19T18:47:10.368Z"
   },
   {
    "duration": 272,
    "start_time": "2023-01-19T18:47:10.376Z"
   },
   {
    "duration": 264,
    "start_time": "2023-01-19T18:47:10.650Z"
   },
   {
    "duration": 334,
    "start_time": "2023-01-19T18:47:10.916Z"
   },
   {
    "duration": 400,
    "start_time": "2023-01-19T18:47:11.251Z"
   },
   {
    "duration": 41,
    "start_time": "2023-01-19T18:47:11.653Z"
   },
   {
    "duration": 0,
    "start_time": "2023-01-19T18:47:11.696Z"
   },
   {
    "duration": 0,
    "start_time": "2023-01-19T18:47:11.697Z"
   },
   {
    "duration": 0,
    "start_time": "2023-01-19T18:47:11.699Z"
   },
   {
    "duration": 0,
    "start_time": "2023-01-19T18:47:11.700Z"
   },
   {
    "duration": 0,
    "start_time": "2023-01-19T18:47:11.701Z"
   },
   {
    "duration": 0,
    "start_time": "2023-01-19T18:47:11.703Z"
   },
   {
    "duration": 0,
    "start_time": "2023-01-19T18:47:11.704Z"
   },
   {
    "duration": 0,
    "start_time": "2023-01-19T18:47:11.706Z"
   },
   {
    "duration": 1,
    "start_time": "2023-01-19T18:47:11.707Z"
   },
   {
    "duration": 0,
    "start_time": "2023-01-19T18:47:11.709Z"
   },
   {
    "duration": 0,
    "start_time": "2023-01-19T18:47:11.711Z"
   },
   {
    "duration": 0,
    "start_time": "2023-01-19T18:47:11.713Z"
   },
   {
    "duration": 0,
    "start_time": "2023-01-19T18:47:11.714Z"
   },
   {
    "duration": 0,
    "start_time": "2023-01-19T18:47:11.716Z"
   },
   {
    "duration": 0,
    "start_time": "2023-01-19T18:47:11.717Z"
   },
   {
    "duration": 0,
    "start_time": "2023-01-19T18:47:11.718Z"
   },
   {
    "duration": 0,
    "start_time": "2023-01-19T18:47:11.721Z"
   },
   {
    "duration": 0,
    "start_time": "2023-01-19T18:47:11.722Z"
   },
   {
    "duration": 0,
    "start_time": "2023-01-19T18:47:11.724Z"
   },
   {
    "duration": 0,
    "start_time": "2023-01-19T18:47:11.725Z"
   },
   {
    "duration": 0,
    "start_time": "2023-01-19T18:47:11.727Z"
   },
   {
    "duration": 0,
    "start_time": "2023-01-19T18:47:11.748Z"
   },
   {
    "duration": 0,
    "start_time": "2023-01-19T18:47:11.750Z"
   },
   {
    "duration": 0,
    "start_time": "2023-01-19T18:47:11.751Z"
   },
   {
    "duration": 0,
    "start_time": "2023-01-19T18:47:11.752Z"
   },
   {
    "duration": 0,
    "start_time": "2023-01-19T18:47:11.753Z"
   },
   {
    "duration": 0,
    "start_time": "2023-01-19T18:47:11.754Z"
   },
   {
    "duration": 0,
    "start_time": "2023-01-19T18:47:11.755Z"
   },
   {
    "duration": 0,
    "start_time": "2023-01-19T18:47:11.757Z"
   },
   {
    "duration": 376,
    "start_time": "2023-01-19T18:47:45.687Z"
   },
   {
    "duration": 8,
    "start_time": "2023-01-19T18:47:53.007Z"
   },
   {
    "duration": 566,
    "start_time": "2023-01-19T18:47:53.774Z"
   },
   {
    "duration": 20,
    "start_time": "2023-01-19T18:47:57.287Z"
   },
   {
    "duration": 17,
    "start_time": "2023-01-19T18:47:57.831Z"
   },
   {
    "duration": 7,
    "start_time": "2023-01-19T18:47:58.719Z"
   },
   {
    "duration": 626,
    "start_time": "2023-01-19T18:47:59.329Z"
   },
   {
    "duration": 3,
    "start_time": "2023-01-19T18:48:07.910Z"
   },
   {
    "duration": 5,
    "start_time": "2023-01-19T18:48:08.453Z"
   },
   {
    "duration": 5,
    "start_time": "2023-01-19T18:48:09.701Z"
   },
   {
    "duration": 11,
    "start_time": "2023-01-19T18:48:10.604Z"
   },
   {
    "duration": 3,
    "start_time": "2023-01-19T18:48:12.453Z"
   },
   {
    "duration": 3,
    "start_time": "2023-01-19T18:48:13.093Z"
   },
   {
    "duration": 3,
    "start_time": "2023-01-19T18:48:13.357Z"
   },
   {
    "duration": 3,
    "start_time": "2023-01-19T18:48:14.653Z"
   },
   {
    "duration": 3,
    "start_time": "2023-01-19T18:48:14.941Z"
   },
   {
    "duration": 2,
    "start_time": "2023-01-19T18:48:16.069Z"
   },
   {
    "duration": 4,
    "start_time": "2023-01-19T18:48:16.650Z"
   },
   {
    "duration": 3,
    "start_time": "2023-01-19T18:48:18.053Z"
   },
   {
    "duration": 1863,
    "start_time": "2023-01-19T18:48:19.285Z"
   },
   {
    "duration": 1605,
    "start_time": "2023-01-20T06:17:12.196Z"
   },
   {
    "duration": 870,
    "start_time": "2023-01-20T06:17:13.803Z"
   },
   {
    "duration": 22,
    "start_time": "2023-01-20T06:17:14.675Z"
   },
   {
    "duration": 13,
    "start_time": "2023-01-20T06:17:14.698Z"
   },
   {
    "duration": 42,
    "start_time": "2023-01-20T06:17:14.714Z"
   },
   {
    "duration": 182,
    "start_time": "2023-01-20T06:17:14.758Z"
   },
   {
    "duration": 27,
    "start_time": "2023-01-20T06:17:14.942Z"
   },
   {
    "duration": 22,
    "start_time": "2023-01-20T06:17:14.970Z"
   },
   {
    "duration": 8,
    "start_time": "2023-01-20T06:17:14.994Z"
   },
   {
    "duration": 19,
    "start_time": "2023-01-20T06:17:15.004Z"
   },
   {
    "duration": 266,
    "start_time": "2023-01-20T06:17:15.025Z"
   },
   {
    "duration": 9,
    "start_time": "2023-01-20T06:17:15.293Z"
   },
   {
    "duration": 155,
    "start_time": "2023-01-20T06:17:15.303Z"
   },
   {
    "duration": 30,
    "start_time": "2023-01-20T06:17:15.463Z"
   },
   {
    "duration": 14,
    "start_time": "2023-01-20T06:17:15.494Z"
   },
   {
    "duration": 4,
    "start_time": "2023-01-20T06:17:15.510Z"
   },
   {
    "duration": 6,
    "start_time": "2023-01-20T06:17:15.515Z"
   },
   {
    "duration": 62,
    "start_time": "2023-01-20T06:17:15.522Z"
   },
   {
    "duration": 11,
    "start_time": "2023-01-20T06:17:15.586Z"
   },
   {
    "duration": 10,
    "start_time": "2023-01-20T06:17:15.599Z"
   },
   {
    "duration": 6,
    "start_time": "2023-01-20T06:17:15.611Z"
   },
   {
    "duration": 6,
    "start_time": "2023-01-20T06:17:15.618Z"
   },
   {
    "duration": 8,
    "start_time": "2023-01-20T06:17:15.626Z"
   },
   {
    "duration": 5,
    "start_time": "2023-01-20T06:17:15.636Z"
   },
   {
    "duration": 345,
    "start_time": "2023-01-20T06:17:15.643Z"
   },
   {
    "duration": 361,
    "start_time": "2023-01-20T06:17:15.990Z"
   },
   {
    "duration": 449,
    "start_time": "2023-01-20T06:17:16.353Z"
   },
   {
    "duration": 430,
    "start_time": "2023-01-20T06:17:16.804Z"
   },
   {
    "duration": 486,
    "start_time": "2023-01-20T06:17:17.235Z"
   },
   {
    "duration": 9,
    "start_time": "2023-01-20T06:17:17.723Z"
   },
   {
    "duration": 773,
    "start_time": "2023-01-20T06:17:17.734Z"
   },
   {
    "duration": 27,
    "start_time": "2023-01-20T06:17:18.509Z"
   },
   {
    "duration": 37,
    "start_time": "2023-01-20T06:17:18.538Z"
   },
   {
    "duration": 36,
    "start_time": "2023-01-20T06:17:18.580Z"
   },
   {
    "duration": 780,
    "start_time": "2023-01-20T06:17:18.618Z"
   },
   {
    "duration": 3,
    "start_time": "2023-01-20T06:17:19.400Z"
   },
   {
    "duration": 21,
    "start_time": "2023-01-20T06:17:19.405Z"
   },
   {
    "duration": 49,
    "start_time": "2023-01-20T06:17:19.428Z"
   },
   {
    "duration": 13,
    "start_time": "2023-01-20T06:17:19.479Z"
   },
   {
    "duration": 5,
    "start_time": "2023-01-20T06:17:19.494Z"
   },
   {
    "duration": 10,
    "start_time": "2023-01-20T06:17:19.503Z"
   },
   {
    "duration": 17,
    "start_time": "2023-01-20T06:17:19.515Z"
   },
   {
    "duration": 47,
    "start_time": "2023-01-20T06:17:19.534Z"
   },
   {
    "duration": 24,
    "start_time": "2023-01-20T06:17:19.582Z"
   },
   {
    "duration": 17,
    "start_time": "2023-01-20T06:17:19.608Z"
   },
   {
    "duration": 22,
    "start_time": "2023-01-20T06:17:19.627Z"
   },
   {
    "duration": 46,
    "start_time": "2023-01-20T06:17:19.650Z"
   },
   {
    "duration": 3753,
    "start_time": "2023-01-20T06:17:19.698Z"
   },
   {
    "duration": 1529232,
    "start_time": "2023-01-20T06:17:23.453Z"
   },
   {
    "duration": 7,
    "start_time": "2023-01-20T06:42:52.687Z"
   },
   {
    "duration": 12,
    "start_time": "2023-01-20T06:42:52.695Z"
   },
   {
    "duration": 7,
    "start_time": "2023-01-20T06:42:52.709Z"
   },
   {
    "duration": 8,
    "start_time": "2023-01-20T06:42:52.717Z"
   },
   {
    "duration": 45,
    "start_time": "2023-01-20T06:42:52.727Z"
   },
   {
    "duration": 10,
    "start_time": "2023-01-20T06:42:52.774Z"
   },
   {
    "duration": 9,
    "start_time": "2023-01-20T06:42:52.786Z"
   },
   {
    "duration": 1153,
    "start_time": "2023-01-20T06:42:52.797Z"
   },
   {
    "duration": 7,
    "start_time": "2023-01-20T06:51:54.590Z"
   },
   {
    "duration": 5,
    "start_time": "2023-01-20T06:52:03.892Z"
   },
   {
    "duration": 8,
    "start_time": "2023-01-20T06:52:06.909Z"
   },
   {
    "duration": 10,
    "start_time": "2023-01-20T06:52:29.080Z"
   },
   {
    "duration": 4,
    "start_time": "2023-01-20T06:52:29.888Z"
   },
   {
    "duration": 8,
    "start_time": "2023-01-20T06:52:31.682Z"
   },
   {
    "duration": 6,
    "start_time": "2023-01-20T06:52:40.209Z"
   },
   {
    "duration": 1405,
    "start_time": "2023-01-20T06:52:41.895Z"
   },
   {
    "duration": 3707,
    "start_time": "2023-01-20T06:53:20.696Z"
   },
   {
    "duration": 97,
    "start_time": "2023-01-20T06:53:31.221Z"
   },
   {
    "duration": 186,
    "start_time": "2023-01-20T06:53:36.272Z"
   },
   {
    "duration": 6,
    "start_time": "2023-01-20T06:53:54.638Z"
   },
   {
    "duration": 18,
    "start_time": "2023-01-20T06:53:59.341Z"
   },
   {
    "duration": 19,
    "start_time": "2023-01-20T06:54:15.985Z"
   },
   {
    "duration": 10,
    "start_time": "2023-01-20T06:56:02.194Z"
   },
   {
    "duration": 119,
    "start_time": "2023-01-20T06:59:09.236Z"
   },
   {
    "duration": 4726,
    "start_time": "2023-01-20T07:19:39.914Z"
   },
   {
    "duration": 958,
    "start_time": "2023-01-20T07:19:44.642Z"
   },
   {
    "duration": 19,
    "start_time": "2023-01-20T07:19:45.601Z"
   },
   {
    "duration": 12,
    "start_time": "2023-01-20T07:19:45.621Z"
   },
   {
    "duration": 34,
    "start_time": "2023-01-20T07:19:45.635Z"
   },
   {
    "duration": 213,
    "start_time": "2023-01-20T07:19:45.671Z"
   },
   {
    "duration": 17,
    "start_time": "2023-01-20T07:19:45.886Z"
   },
   {
    "duration": 15,
    "start_time": "2023-01-20T07:19:45.905Z"
   },
   {
    "duration": 11,
    "start_time": "2023-01-20T07:19:45.922Z"
   },
   {
    "duration": 27,
    "start_time": "2023-01-20T07:19:45.949Z"
   },
   {
    "duration": 278,
    "start_time": "2023-01-20T07:19:45.979Z"
   },
   {
    "duration": 16,
    "start_time": "2023-01-20T07:19:46.259Z"
   },
   {
    "duration": 170,
    "start_time": "2023-01-20T07:19:46.277Z"
   },
   {
    "duration": 41,
    "start_time": "2023-01-20T07:19:46.454Z"
   },
   {
    "duration": 169,
    "start_time": "2023-01-20T07:19:46.497Z"
   },
   {
    "duration": 29,
    "start_time": "2023-01-20T07:19:46.668Z"
   },
   {
    "duration": 20,
    "start_time": "2023-01-20T07:19:46.699Z"
   },
   {
    "duration": 6,
    "start_time": "2023-01-20T07:19:46.721Z"
   },
   {
    "duration": 12,
    "start_time": "2023-01-20T07:19:46.729Z"
   },
   {
    "duration": 15,
    "start_time": "2023-01-20T07:19:46.742Z"
   },
   {
    "duration": 38,
    "start_time": "2023-01-20T07:19:46.762Z"
   },
   {
    "duration": 5,
    "start_time": "2023-01-20T07:19:46.802Z"
   },
   {
    "duration": 6,
    "start_time": "2023-01-20T07:19:46.808Z"
   },
   {
    "duration": 6,
    "start_time": "2023-01-20T07:19:46.816Z"
   },
   {
    "duration": 11,
    "start_time": "2023-01-20T07:19:46.824Z"
   },
   {
    "duration": 357,
    "start_time": "2023-01-20T07:19:46.837Z"
   },
   {
    "duration": 313,
    "start_time": "2023-01-20T07:19:47.196Z"
   },
   {
    "duration": 429,
    "start_time": "2023-01-20T07:19:47.511Z"
   },
   {
    "duration": 490,
    "start_time": "2023-01-20T07:19:47.942Z"
   },
   {
    "duration": 498,
    "start_time": "2023-01-20T07:19:48.434Z"
   },
   {
    "duration": 7,
    "start_time": "2023-01-20T07:19:48.934Z"
   },
   {
    "duration": 758,
    "start_time": "2023-01-20T07:19:48.943Z"
   },
   {
    "duration": 18,
    "start_time": "2023-01-20T07:19:49.703Z"
   },
   {
    "duration": 34,
    "start_time": "2023-01-20T07:19:49.722Z"
   },
   {
    "duration": 31,
    "start_time": "2023-01-20T07:19:49.761Z"
   },
   {
    "duration": 859,
    "start_time": "2023-01-20T07:19:49.795Z"
   },
   {
    "duration": 4,
    "start_time": "2023-01-20T07:19:50.657Z"
   },
   {
    "duration": 39,
    "start_time": "2023-01-20T07:19:50.663Z"
   },
   {
    "duration": 14,
    "start_time": "2023-01-20T07:19:50.704Z"
   },
   {
    "duration": 19,
    "start_time": "2023-01-20T07:19:50.720Z"
   },
   {
    "duration": 4,
    "start_time": "2023-01-20T07:19:50.742Z"
   },
   {
    "duration": 48,
    "start_time": "2023-01-20T07:19:50.748Z"
   },
   {
    "duration": 11,
    "start_time": "2023-01-20T07:19:50.798Z"
   },
   {
    "duration": 6,
    "start_time": "2023-01-20T07:19:50.811Z"
   },
   {
    "duration": 7,
    "start_time": "2023-01-20T07:19:50.818Z"
   },
   {
    "duration": 3172,
    "start_time": "2023-01-20T07:19:50.827Z"
   },
   {
    "duration": 1578687,
    "start_time": "2023-01-20T07:19:54.051Z"
   },
   {
    "duration": 9,
    "start_time": "2023-01-20T07:46:12.739Z"
   },
   {
    "duration": 23,
    "start_time": "2023-01-20T07:46:12.751Z"
   },
   {
    "duration": 11,
    "start_time": "2023-01-20T07:46:12.776Z"
   },
   {
    "duration": 9,
    "start_time": "2023-01-20T07:46:12.788Z"
   },
   {
    "duration": 10,
    "start_time": "2023-01-20T07:46:12.799Z"
   },
   {
    "duration": 7,
    "start_time": "2023-01-20T07:46:12.811Z"
   },
   {
    "duration": 12,
    "start_time": "2023-01-20T07:46:12.820Z"
   },
   {
    "duration": 2999,
    "start_time": "2023-01-20T07:46:12.834Z"
   },
   {
    "duration": 20,
    "start_time": "2023-01-20T07:46:15.835Z"
   },
   {
    "duration": 1443,
    "start_time": "2023-01-20T21:14:22.882Z"
   },
   {
    "duration": 1829,
    "start_time": "2023-01-20T21:14:24.327Z"
   },
   {
    "duration": 18,
    "start_time": "2023-01-20T21:14:26.158Z"
   },
   {
    "duration": 11,
    "start_time": "2023-01-20T21:14:26.178Z"
   },
   {
    "duration": 19,
    "start_time": "2023-01-20T21:14:26.191Z"
   },
   {
    "duration": 160,
    "start_time": "2023-01-20T21:14:26.212Z"
   },
   {
    "duration": 13,
    "start_time": "2023-01-20T21:14:26.373Z"
   },
   {
    "duration": 11,
    "start_time": "2023-01-20T21:14:26.388Z"
   },
   {
    "duration": 14,
    "start_time": "2023-01-20T21:14:26.400Z"
   },
   {
    "duration": 26,
    "start_time": "2023-01-20T21:14:26.416Z"
   },
   {
    "duration": 176,
    "start_time": "2023-01-20T21:14:26.445Z"
   },
   {
    "duration": 14,
    "start_time": "2023-01-20T21:14:26.623Z"
   },
   {
    "duration": 120,
    "start_time": "2023-01-20T21:14:26.638Z"
   },
   {
    "duration": 21,
    "start_time": "2023-01-20T21:14:26.760Z"
   },
   {
    "duration": 98,
    "start_time": "2023-01-20T21:14:26.783Z"
   },
   {
    "duration": 12,
    "start_time": "2023-01-20T21:14:26.883Z"
   },
   {
    "duration": 3,
    "start_time": "2023-01-20T21:14:26.896Z"
   },
   {
    "duration": 10,
    "start_time": "2023-01-20T21:14:26.900Z"
   },
   {
    "duration": 14,
    "start_time": "2023-01-20T21:14:26.912Z"
   },
   {
    "duration": 9,
    "start_time": "2023-01-20T21:14:26.937Z"
   },
   {
    "duration": 9,
    "start_time": "2023-01-20T21:14:26.947Z"
   },
   {
    "duration": 4,
    "start_time": "2023-01-20T21:14:26.957Z"
   },
   {
    "duration": 7,
    "start_time": "2023-01-20T21:14:26.962Z"
   },
   {
    "duration": 6,
    "start_time": "2023-01-20T21:14:26.970Z"
   },
   {
    "duration": 5,
    "start_time": "2023-01-20T21:14:26.977Z"
   },
   {
    "duration": 266,
    "start_time": "2023-01-20T21:14:26.985Z"
   },
   {
    "duration": 248,
    "start_time": "2023-01-20T21:14:27.253Z"
   },
   {
    "duration": 328,
    "start_time": "2023-01-20T21:14:27.504Z"
   },
   {
    "duration": 352,
    "start_time": "2023-01-20T21:14:27.833Z"
   },
   {
    "duration": 382,
    "start_time": "2023-01-20T21:14:28.187Z"
   },
   {
    "duration": 6,
    "start_time": "2023-01-20T21:14:28.571Z"
   },
   {
    "duration": 515,
    "start_time": "2023-01-20T21:14:28.579Z"
   },
   {
    "duration": 16,
    "start_time": "2023-01-20T21:14:29.096Z"
   },
   {
    "duration": 30,
    "start_time": "2023-01-20T21:14:29.114Z"
   },
   {
    "duration": 6,
    "start_time": "2023-01-20T21:14:29.146Z"
   },
   {
    "duration": 624,
    "start_time": "2023-01-20T21:14:29.153Z"
   },
   {
    "duration": 3,
    "start_time": "2023-01-20T21:14:29.779Z"
   },
   {
    "duration": 9,
    "start_time": "2023-01-20T21:14:29.783Z"
   },
   {
    "duration": 7,
    "start_time": "2023-01-20T21:14:29.794Z"
   },
   {
    "duration": 11,
    "start_time": "2023-01-20T21:14:29.803Z"
   },
   {
    "duration": 21,
    "start_time": "2023-01-20T21:14:29.816Z"
   },
   {
    "duration": 5,
    "start_time": "2023-01-20T21:14:29.839Z"
   },
   {
    "duration": 9,
    "start_time": "2023-01-20T21:14:29.845Z"
   },
   {
    "duration": 14,
    "start_time": "2023-01-20T21:14:29.855Z"
   },
   {
    "duration": 9,
    "start_time": "2023-01-20T21:14:29.870Z"
   },
   {
    "duration": 1864,
    "start_time": "2023-01-20T21:14:29.881Z"
   },
   {
    "duration": 1181993,
    "start_time": "2023-01-20T21:14:31.747Z"
   },
   {
    "duration": 4,
    "start_time": "2023-01-20T21:34:13.742Z"
   },
   {
    "duration": 10,
    "start_time": "2023-01-20T21:34:13.748Z"
   },
   {
    "duration": 10,
    "start_time": "2023-01-20T21:34:13.759Z"
   },
   {
    "duration": 5,
    "start_time": "2023-01-20T21:34:13.771Z"
   },
   {
    "duration": 6,
    "start_time": "2023-01-20T21:34:13.778Z"
   },
   {
    "duration": 6,
    "start_time": "2023-01-20T21:34:13.785Z"
   },
   {
    "duration": 6,
    "start_time": "2023-01-20T21:34:13.792Z"
   },
   {
    "duration": 2424,
    "start_time": "2023-01-20T21:34:13.799Z"
   },
   {
    "duration": 13,
    "start_time": "2023-01-20T21:34:16.224Z"
   }
  ],
  "kernelspec": {
   "display_name": "Python 3 (ipykernel)",
   "language": "python",
   "name": "python3"
  },
  "language_info": {
   "codemirror_mode": {
    "name": "ipython",
    "version": 3
   },
   "file_extension": ".py",
   "mimetype": "text/x-python",
   "name": "python",
   "nbconvert_exporter": "python",
   "pygments_lexer": "ipython3",
   "version": "3.9.16"
  },
  "toc": {
   "base_numbering": 1,
   "nav_menu": {},
   "number_sections": true,
   "sideBar": true,
   "skip_h1_title": true,
   "title_cell": "Содержание",
   "title_sidebar": "Contents",
   "toc_cell": true,
   "toc_position": {},
   "toc_section_display": true,
   "toc_window_display": false
  }
 },
 "nbformat": 4,
 "nbformat_minor": 2
}
